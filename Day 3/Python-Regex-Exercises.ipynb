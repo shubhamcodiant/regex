{
 "cells": [
  {
   "cell_type": "markdown",
   "id": "6a63b714",
   "metadata": {},
   "source": [
    "# Exercises\n",
    "\n",
    ">![info](../images/info.svg) Try to solve exercises in every chapter using only the features discussed until that chapter. Some of the exercises will be easier to solve with techniques presented in later chapters, but the aim of these exercises is to explore the features presented so far.\n",
    "\n",
    ">![info](../images/info.svg) For solutions, see [Exercise_solutions.md](https://github.com/learnbyexample/py_regular_expressions/blob/master/exercises/Exercise_solutions.md).\n",
    "\n",
    "<br>"
   ]
  },
  {
   "cell_type": "code",
   "execution_count": 1,
   "id": "0556ecf4",
   "metadata": {},
   "outputs": [],
   "source": [
    "import re"
   ]
  },
  {
   "cell_type": "markdown",
   "id": "1a16ce07",
   "metadata": {},
   "source": [
    "# re introduction"
   ]
  },
  {
   "cell_type": "markdown",
   "id": "78d3f81f",
   "metadata": {},
   "source": [
    "**a)** Check whether the given strings contain `0xB0`. Display a boolean result as shown b"
   ]
  },
  {
   "cell_type": "code",
   "execution_count": 2,
   "id": "e2e67c23",
   "metadata": {},
   "outputs": [],
   "source": [
    "line1 = 'start address: 0xA0, func1 address: 0xC0'\n",
    "line2 = 'end address: 0xFF, func2 address: 0xB0'"
   ]
  },
  {
   "cell_type": "code",
   "execution_count": 3,
   "id": "3329daac",
   "metadata": {},
   "outputs": [
    {
     "data": {
      "text/plain": [
       "False"
      ]
     },
     "execution_count": 3,
     "metadata": {},
     "output_type": "execute_result"
    }
   ],
   "source": [
    "bool(re.search(r'0xB0', line1))     ##### add your solution here\n"
   ]
  },
  {
   "cell_type": "code",
   "execution_count": 4,
   "id": "6dbe1a48",
   "metadata": {},
   "outputs": [
    {
     "data": {
      "text/plain": [
       "True"
      ]
     },
     "execution_count": 4,
     "metadata": {},
     "output_type": "execute_result"
    }
   ],
   "source": [
    "bool(re.search(r'0xB0', line2))     ##### add your solution here"
   ]
  },
  {
   "cell_type": "markdown",
   "id": "8f9852ec",
   "metadata": {},
   "source": [
    "**b)** Replace all occurrences of `5` with `five` for the given string."
   ]
  },
  {
   "cell_type": "code",
   "execution_count": 5,
   "id": "880711ff",
   "metadata": {},
   "outputs": [
    {
     "data": {
      "text/plain": [
       "'They ate five apples and five oranges'"
      ]
     },
     "execution_count": 5,
     "metadata": {},
     "output_type": "execute_result"
    }
   ],
   "source": [
    "ip = 'They ate 5 apples and 5 oranges'\n",
    "re.sub(r'5','five',ip)  "
   ]
  },
  {
   "cell_type": "markdown",
   "id": "b2865064",
   "metadata": {},
   "source": [
    "**c)** Replace first occurrence of `5` with `five` for the given string."
   ]
  },
  {
   "cell_type": "code",
   "execution_count": 6,
   "id": "79bf8e6b",
   "metadata": {},
   "outputs": [
    {
     "data": {
      "text/plain": [
       "'They ate five apples and 5 oranges'"
      ]
     },
     "execution_count": 6,
     "metadata": {},
     "output_type": "execute_result"
    }
   ],
   "source": [
    "ip = 'They ate 5 apples and 5 oranges'\n",
    "re.sub('5','five', ip, count=1)       ##### add your solution here"
   ]
  },
  {
   "cell_type": "markdown",
   "id": "694208d5",
   "metadata": {},
   "source": [
    "**d)** For the given list, filter all elements that do `*not*` contain `e`."
   ]
  },
  {
   "cell_type": "code",
   "execution_count": 7,
   "id": "44abf381",
   "metadata": {},
   "outputs": [],
   "source": [
    "items = ['goal', 'new', 'user', 'sit', 'eat', 'dinner']"
   ]
  },
  {
   "cell_type": "code",
   "execution_count": 8,
   "id": "5cf423b9",
   "metadata": {},
   "outputs": [
    {
     "data": {
      "text/plain": [
       "['goal', 'sit']"
      ]
     },
     "execution_count": 8,
     "metadata": {},
     "output_type": "execute_result"
    }
   ],
   "source": [
    "[w for w in items if not re.search(r'e',w)]"
   ]
  },
  {
   "cell_type": "markdown",
   "id": "fd9651b2",
   "metadata": {},
   "source": [
    "**e)** Replace all occurrences of `note` irrespective of case with `X`."
   ]
  },
  {
   "cell_type": "code",
   "execution_count": 9,
   "id": "5063de66",
   "metadata": {},
   "outputs": [],
   "source": [
    "ip = 'This note should not be NoTeD'"
   ]
  },
  {
   "cell_type": "code",
   "execution_count": 10,
   "id": "73056047",
   "metadata": {},
   "outputs": [
    {
     "data": {
      "text/plain": [
       "'This X should not be XD'"
      ]
     },
     "execution_count": 10,
     "metadata": {},
     "output_type": "execute_result"
    }
   ],
   "source": [
    "re.sub(r'[Nn]o[Tt]e', \"X\", ip)"
   ]
  },
  {
   "cell_type": "code",
   "execution_count": 11,
   "id": "38ab848a",
   "metadata": {},
   "outputs": [
    {
     "data": {
      "text/plain": [
       "'This X should not be XD'"
      ]
     },
     "execution_count": 11,
     "metadata": {},
     "output_type": "execute_result"
    }
   ],
   "source": [
    "re.sub(r'note|NoTe', \"X\", ip)"
   ]
  },
  {
   "cell_type": "code",
   "execution_count": 12,
   "id": "5a5c6f2b",
   "metadata": {},
   "outputs": [
    {
     "data": {
      "text/plain": [
       "'This X should not be XD'"
      ]
     },
     "execution_count": 12,
     "metadata": {},
     "output_type": "execute_result"
    }
   ],
   "source": [
    "re.sub(r'note', 'X',ip,flags = re.I)"
   ]
  },
  {
   "cell_type": "markdown",
   "id": "70d04255",
   "metadata": {},
   "source": [
    "**f)** Check if `at` is present in the given byte input data."
   ]
  },
  {
   "cell_type": "code",
   "execution_count": 13,
   "id": "731a94e8",
   "metadata": {},
   "outputs": [
    {
     "data": {
      "text/plain": [
       "True"
      ]
     },
     "execution_count": 13,
     "metadata": {},
     "output_type": "execute_result"
    }
   ],
   "source": [
    "ip = b'tiger imp goat'\n",
    "bool(re.search(rb'at',ip))"
   ]
  },
  {
   "cell_type": "markdown",
   "id": "f91efdfe",
   "metadata": {},
   "source": [
    "**g)** For the given input string, display all lines not containing `start` irrespective of case."
   ]
  },
  {
   "cell_type": "code",
   "execution_count": 14,
   "id": "81ec8a36",
   "metadata": {},
   "outputs": [],
   "source": [
    "para = '''good start\n",
    "Start working on that\n",
    "project you always wanted\n",
    "stars are shining brightly\n",
    "hi there\n",
    "start and try to\n",
    "finish the book\n",
    "bye'''"
   ]
  },
  {
   "cell_type": "code",
   "execution_count": 15,
   "id": "7f9df647",
   "metadata": {},
   "outputs": [
    {
     "name": "stdout",
     "output_type": "stream",
     "text": [
      "project you always wanted\n",
      "stars are shining brightly\n",
      "hi there\n",
      "finish the book\n",
      "bye\n"
     ]
    }
   ],
   "source": [
    "pat = re.compile(r'Start|start', re.I)      ##### add your solution here\n",
    ">>> for line in para.split('\\n'):\n",
    "...     if not pat.search(line):\n",
    "...         print(line)"
   ]
  },
  {
   "cell_type": "code",
   "execution_count": 16,
   "id": "d625f4ca",
   "metadata": {},
   "outputs": [
    {
     "name": "stdout",
     "output_type": "stream",
     "text": [
      "project you always wanted\n",
      "stars are shining brightly\n",
      "hi there\n",
      "finish the book\n",
      "bye\n"
     ]
    }
   ],
   "source": [
    "pat = re.compile(r'start', flags =re.I)      ##### add your solution here\n",
    ">>> for line in para.split('\\n'):\n",
    "...     if not pat.search(line):\n",
    "...         print(line)"
   ]
  },
  {
   "cell_type": "markdown",
   "id": "0610f8a3",
   "metadata": {},
   "source": [
    "**h)** For the given list, filter all elements that contains either `a` or `w`."
   ]
  },
  {
   "cell_type": "code",
   "execution_count": 17,
   "id": "b8b08586",
   "metadata": {},
   "outputs": [],
   "source": [
    "items = ['goal', 'new', 'user', 'sit', 'eat', 'dinner']"
   ]
  },
  {
   "cell_type": "code",
   "execution_count": 18,
   "id": "f914e002",
   "metadata": {},
   "outputs": [
    {
     "data": {
      "text/plain": [
       "['goal', 'new', 'eat']"
      ]
     },
     "execution_count": 18,
     "metadata": {},
     "output_type": "execute_result"
    }
   ],
   "source": [
    "[w for w in items if re.search(r'a',w) or re.search(r'w',w)]"
   ]
  },
  {
   "cell_type": "markdown",
   "id": "604dd083",
   "metadata": {},
   "source": [
    "**i)** For the given list, filter all elements that contains both `e` and `n`."
   ]
  },
  {
   "cell_type": "code",
   "execution_count": 19,
   "id": "e576877d",
   "metadata": {},
   "outputs": [],
   "source": [
    "items = ['goal', 'new', 'user', 'sit', 'eat', 'dinner']"
   ]
  },
  {
   "cell_type": "code",
   "execution_count": 20,
   "id": "9ee424a3",
   "metadata": {},
   "outputs": [
    {
     "data": {
      "text/plain": [
       "['new', 'dinner']"
      ]
     },
     "execution_count": 20,
     "metadata": {},
     "output_type": "execute_result"
    }
   ],
   "source": [
    "[w for w in items if re.search(r'e',w) and re.search(r'n',w)]"
   ]
  },
  {
   "cell_type": "markdown",
   "id": "3ead3d06",
   "metadata": {},
   "source": [
    "**j)** For the given string, replace `0xA0` with `0x7F` and `0xC0` with `0x1F`."
   ]
  },
  {
   "cell_type": "code",
   "execution_count": 21,
   "id": "5f1b1547",
   "metadata": {},
   "outputs": [
    {
     "data": {
      "text/plain": [
       "'start address: 0xA0, func1 address: 0xC0'"
      ]
     },
     "execution_count": 21,
     "metadata": {},
     "output_type": "execute_result"
    }
   ],
   "source": [
    "ip = 'start address: 0xA0, func1 address: 0xC0'\n",
    "re.sub(r'\\.+(0xA0)\\.+(0xC0)',r'\\.+\\0x7F\\.+\\0x1F',ip)"
   ]
  },
  {
   "cell_type": "code",
   "execution_count": 22,
   "id": "d492067b",
   "metadata": {},
   "outputs": [
    {
     "data": {
      "text/plain": [
       "'start address: 0x7F, func1 address: 0x1F'"
      ]
     },
     "execution_count": 22,
     "metadata": {},
     "output_type": "execute_result"
    }
   ],
   "source": [
    "ip = 'start address: 0xA0, func1 address: 0xC0'\n",
    "re.sub(r'0xC0', '0x1F', re.sub(r'0xA0', '0x7F', ip))"
   ]
  },
  {
   "cell_type": "code",
   "execution_count": 23,
   "id": "b39ccb43",
   "metadata": {},
   "outputs": [
    {
     "name": "stdout",
     "output_type": "stream",
     "text": [
      "start address: 0x7F, func1 address: 0x1F\n"
     ]
    }
   ],
   "source": [
    "ip = 'start address: 0xA0, func1 address: 0xC0'\n",
    "lst1 = ['0xA0','0xC0']\n",
    "lst2 = ['0x7F','0x1F' ]\n",
    "for i in range(2):\n",
    "    x =re.sub(lst1[i],lst2[i], ip )\n",
    "    ip = x\n",
    "\n",
    "print(x)"
   ]
  },
  {
   "cell_type": "markdown",
   "id": "ed285fe5",
   "metadata": {},
   "source": [
    "# Anchors"
   ]
  },
  {
   "cell_type": "markdown",
   "id": "9df5f32a",
   "metadata": {},
   "source": [
    "**a)** Check if the given strings start with `be`."
   ]
  },
  {
   "cell_type": "code",
   "execution_count": 24,
   "id": "6d0aecc3",
   "metadata": {},
   "outputs": [],
   "source": [
    "line1 = 'be nice'\n",
    "line2 = '\"best!\"'\n",
    "line3 = 'better?'\n",
    "line4 = 'oh no\\nbear spotted'\n"
   ]
  },
  {
   "cell_type": "code",
   "execution_count": 25,
   "id": "0154fd4c",
   "metadata": {},
   "outputs": [],
   "source": [
    "pat = re.compile(\"^be\")      ##### add your solution here"
   ]
  },
  {
   "cell_type": "code",
   "execution_count": 26,
   "id": "ecd1375e",
   "metadata": {},
   "outputs": [
    {
     "data": {
      "text/plain": [
       "True"
      ]
     },
     "execution_count": 26,
     "metadata": {},
     "output_type": "execute_result"
    }
   ],
   "source": [
    "bool(pat.search(line1))"
   ]
  },
  {
   "cell_type": "code",
   "execution_count": 27,
   "id": "1c79102f",
   "metadata": {},
   "outputs": [
    {
     "data": {
      "text/plain": [
       "False"
      ]
     },
     "execution_count": 27,
     "metadata": {},
     "output_type": "execute_result"
    }
   ],
   "source": [
    "bool(pat.search(line2))"
   ]
  },
  {
   "cell_type": "code",
   "execution_count": 28,
   "id": "5d63fc94",
   "metadata": {},
   "outputs": [
    {
     "data": {
      "text/plain": [
       "True"
      ]
     },
     "execution_count": 28,
     "metadata": {},
     "output_type": "execute_result"
    }
   ],
   "source": [
    "bool(pat.search(line3))"
   ]
  },
  {
   "cell_type": "code",
   "execution_count": 29,
   "id": "ca93fbdd",
   "metadata": {},
   "outputs": [
    {
     "data": {
      "text/plain": [
       "False"
      ]
     },
     "execution_count": 29,
     "metadata": {},
     "output_type": "execute_result"
    }
   ],
   "source": [
    "bool(pat.search(line4))"
   ]
  },
  {
   "cell_type": "markdown",
   "id": "54899df3",
   "metadata": {},
   "source": [
    "**b)** For the given input string, change only whole word `red` to `brown`"
   ]
  },
  {
   "cell_type": "markdown",
   "id": "e83b7f6b",
   "metadata": {},
   "source": [
    "## `\\b` \n",
    "word boundry"
   ]
  },
  {
   "cell_type": "code",
   "execution_count": 30,
   "id": "baed7eda",
   "metadata": {},
   "outputs": [],
   "source": [
    "words = 'bred red spread credible'"
   ]
  },
  {
   "cell_type": "code",
   "execution_count": 31,
   "id": "a1e1bfb0",
   "metadata": {},
   "outputs": [
    {
     "data": {
      "text/plain": [
       "'bred brown spread credible'"
      ]
     },
     "execution_count": 31,
     "metadata": {},
     "output_type": "execute_result"
    }
   ],
   "source": [
    "re.sub(r'\\bred\\b', 'brown',words)     ##### add your solution here\n",
    "# \\b Anchors a match to a word boundary.\n",
    "# it can create boundry that mean restricted"
   ]
  },
  {
   "cell_type": "markdown",
   "id": "4c9d6c8a",
   "metadata": {},
   "source": [
    "**c)** For the given input list, filter all elements that contains `42` surrounded by word characters.\n"
   ]
  },
  {
   "cell_type": "markdown",
   "id": "1f92d183",
   "metadata": {},
   "source": [
    "## `\\B` \n",
    "reverse word boundry"
   ]
  },
  {
   "cell_type": "code",
   "execution_count": 32,
   "id": "d83a73d2",
   "metadata": {},
   "outputs": [],
   "source": [
    "words = ['hi42bye', 'nice1423', 'bad42', 'cool_42a', 'fake4b']"
   ]
  },
  {
   "cell_type": "code",
   "execution_count": 33,
   "id": "4ca23b6f",
   "metadata": {},
   "outputs": [
    {
     "data": {
      "text/plain": [
       "['hi42bye', 'nice1423', 'cool_42a']"
      ]
     },
     "execution_count": 33,
     "metadata": {},
     "output_type": "execute_result"
    }
   ],
   "source": [
    "[w for w in words if re.search('\\w+42\\w+',w)]"
   ]
  },
  {
   "cell_type": "code",
   "execution_count": 34,
   "id": "0bce465e",
   "metadata": {},
   "outputs": [
    {
     "data": {
      "text/plain": [
       "['hi42bye', 'nice1423', 'cool_42a']"
      ]
     },
     "execution_count": 34,
     "metadata": {},
     "output_type": "execute_result"
    }
   ],
   "source": [
    "[w for w in words if re.search('\\B42\\B',w)]"
   ]
  },
  {
   "cell_type": "markdown",
   "id": "7798c130",
   "metadata": {},
   "source": [
    " 1 **d)** For the given input list, filter all elements that start with `den` or end with `ly`."
   ]
  },
  {
   "cell_type": "code",
   "execution_count": 35,
   "id": "ccd384ce",
   "metadata": {},
   "outputs": [],
   "source": [
    "items = ['lovely', '1\\ndentist', '2 lonely', 'eden', 'fly\\n', 'dent']"
   ]
  },
  {
   "cell_type": "code",
   "execution_count": 36,
   "id": "81e9273f",
   "metadata": {},
   "outputs": [
    {
     "data": {
      "text/plain": [
       "['lovely', '2 lonely', 'fly\\n', 'dent']"
      ]
     },
     "execution_count": 36,
     "metadata": {},
     "output_type": "execute_result"
    }
   ],
   "source": [
    "[e for e in items if re.search(r'^(den)|(ly)$',e)]"
   ]
  },
  {
   "cell_type": "markdown",
   "id": "7590856e",
   "metadata": {},
   "source": [
    "## `\\A` \n",
    "Anchor a match to the start of `<string>`"
   ]
  },
  {
   "cell_type": "markdown",
   "id": "930f8830",
   "metadata": {},
   "source": [
    "## or"
   ]
  },
  {
   "cell_type": "code",
   "execution_count": 37,
   "id": "32a57b60",
   "metadata": {},
   "outputs": [
    {
     "data": {
      "text/plain": [
       "['lovely', '2 lonely', 'fly\\n', 'dent']"
      ]
     },
     "execution_count": 37,
     "metadata": {},
     "output_type": "execute_result"
    }
   ],
   "source": [
    "[e for e in items if re.search(r'^(den)',e) or re.search(r'(ly)$',e)]"
   ]
  },
  {
   "cell_type": "code",
   "execution_count": 38,
   "id": "7f4b66a6",
   "metadata": {},
   "outputs": [
    {
     "data": {
      "text/plain": [
       "['lovely', '2 lonely', 'dent']"
      ]
     },
     "execution_count": 38,
     "metadata": {},
     "output_type": "execute_result"
    }
   ],
   "source": [
    "[e for e in items if re.search(r'\\Aden', e) or re.search(r'ly\\Z', e)]"
   ]
  },
  {
   "cell_type": "markdown",
   "id": "5100c42c",
   "metadata": {},
   "source": [
    "**e)** For the given input string, change whole word `mall` to `1234` only if it is at the start of a line."
   ]
  },
  {
   "cell_type": "code",
   "execution_count": 39,
   "id": "06fef86c",
   "metadata": {},
   "outputs": [],
   "source": [
    "para = '''\\\n",
    "ball fall wall tall\n",
    "mall call ball pall\n",
    "wall mall ball fall\n",
    "mallet wallet malls'''"
   ]
  },
  {
   "cell_type": "code",
   "execution_count": 40,
   "id": "440297ef",
   "metadata": {},
   "outputs": [
    {
     "name": "stdout",
     "output_type": "stream",
     "text": [
      "ball fall wall tall\n",
      "1234 call ball pall\n",
      "wall mall ball fall\n",
      "mallet wallet malls\n"
     ]
    }
   ],
   "source": [
    "print(re.sub('(mall)', '1234', para, count =1))"
   ]
  },
  {
   "cell_type": "markdown",
   "id": "31c0d711",
   "metadata": {},
   "source": [
    "flags"
   ]
  },
  {
   "cell_type": "code",
   "execution_count": 41,
   "id": "adf71f31",
   "metadata": {},
   "outputs": [
    {
     "name": "stdout",
     "output_type": "stream",
     "text": [
      "ball fall wall tall\n",
      "1234 call ball pall\n",
      "wall mall ball fall\n",
      "mallet wallet malls\n"
     ]
    }
   ],
   "source": [
    "print(re.sub(r'^mall\\b', '1234', para, flags= re.M))"
   ]
  },
  {
   "cell_type": "markdown",
   "id": "f225fa1c",
   "metadata": {},
   "source": [
    "**f)** For the given list, filter all elements having a line starting with `den` or ending with `ly`.\n"
   ]
  },
  {
   "cell_type": "code",
   "execution_count": 42,
   "id": "3532e431",
   "metadata": {},
   "outputs": [],
   "source": [
    "items = ['lovely', '1\\ndentist', '2 lonely', 'eden', 'fly\\nfar', 'dent']"
   ]
  },
  {
   "cell_type": "code",
   "execution_count": 43,
   "id": "790766d2",
   "metadata": {},
   "outputs": [
    {
     "data": {
      "text/plain": [
       "['lovely', '1\\ndentist', '2 lonely', 'fly\\nfar', 'dent']"
      ]
     },
     "execution_count": 43,
     "metadata": {},
     "output_type": "execute_result"
    }
   ],
   "source": [
    "[w for w in items if re.search(\"^(den)|(ly)$\", w, re.M)]"
   ]
  },
  {
   "cell_type": "code",
   "execution_count": 44,
   "id": "d8b32489",
   "metadata": {},
   "outputs": [
    {
     "data": {
      "text/plain": [
       "['lovely', '1\\ndentist', '2 lonely', 'fly\\nfar', 'dent']"
      ]
     },
     "execution_count": 44,
     "metadata": {},
     "output_type": "execute_result"
    }
   ],
   "source": [
    "[e for e in items if re.search(r'^den', e, flags=re.M) or re.search(r'ly$', e, flags=re.M)]"
   ]
  },
  {
   "cell_type": "markdown",
   "id": "dbad9007",
   "metadata": {},
   "source": [
    "**g)** For the given input list, filter all whole elements `12\\nthree` irrespective of case."
   ]
  },
  {
   "cell_type": "code",
   "execution_count": 45,
   "id": "76dadcb7",
   "metadata": {},
   "outputs": [],
   "source": [
    "items = ['12\\nthree\\n', '12\\nThree', '12\\nthree\\n4', '12\\nthree']"
   ]
  },
  {
   "cell_type": "markdown",
   "id": "d0b68b2d",
   "metadata": {},
   "source": [
    "## flags=re.M\n",
    "## re.serach \n",
    "(wrong)"
   ]
  },
  {
   "cell_type": "code",
   "execution_count": 46,
   "id": "ed1dc31b",
   "metadata": {},
   "outputs": [
    {
     "data": {
      "text/plain": [
       "['12\\nthree\\n', '12\\nthree\\n4', '12\\nthree']"
      ]
     },
     "execution_count": 46,
     "metadata": {},
     "output_type": "execute_result"
    }
   ],
   "source": [
    "[w for w in items if re.search(\"12\\nthree\", w, flags=re.M)]"
   ]
  },
  {
   "cell_type": "code",
   "execution_count": 47,
   "id": "1ad5c1e3",
   "metadata": {},
   "outputs": [
    {
     "data": {
      "text/plain": [
       "[]"
      ]
     },
     "execution_count": 47,
     "metadata": {},
     "output_type": "execute_result"
    }
   ],
   "source": [
    "[w for w in items if re.search(\"^[1].+e\", w, re.M)]"
   ]
  },
  {
   "cell_type": "markdown",
   "id": "16f8bd86",
   "metadata": {},
   "source": [
    "## flags= re.I\n",
    "## re.fullmatch()\n",
    "(right)"
   ]
  },
  {
   "cell_type": "code",
   "execution_count": 48,
   "id": "9fab3173",
   "metadata": {},
   "outputs": [
    {
     "data": {
      "text/plain": [
       "['12\\nThree', '12\\nthree']"
      ]
     },
     "execution_count": 48,
     "metadata": {},
     "output_type": "execute_result"
    }
   ],
   "source": [
    "[e for e in items if re.fullmatch(r'12\\nthree', e, flags=re.I)]"
   ]
  },
  {
   "cell_type": "markdown",
   "id": "02be44d2",
   "metadata": {},
   "source": [
    " **h)** For the given input list, replace `hand` with `X` for all elements that start with `hand` followed by at least one word character."
   ]
  },
  {
   "cell_type": "code",
   "execution_count": 49,
   "id": "a6f1cb0a",
   "metadata": {},
   "outputs": [],
   "source": [
    "items = ['handed', 'hand', 'handy', 'unhanded', 'handle', 'hand-2']"
   ]
  },
  {
   "cell_type": "code",
   "execution_count": 50,
   "id": "71025ec9",
   "metadata": {},
   "outputs": [
    {
     "data": {
      "text/plain": [
       "['Xed', 'hand', 'Xy', 'unhanded', 'Xle', 'hand-2']"
      ]
     },
     "execution_count": 50,
     "metadata": {},
     "output_type": "execute_result"
    }
   ],
   "source": [
    "[re.sub('^[h].+d\\B','X',w) for w in items]"
   ]
  },
  {
   "cell_type": "markdown",
   "id": "58984c6d",
   "metadata": {},
   "source": [
    "## \\b with \\B"
   ]
  },
  {
   "cell_type": "code",
   "execution_count": 51,
   "id": "e3e6ada5",
   "metadata": {},
   "outputs": [
    {
     "data": {
      "text/plain": [
       "['Xed', 'hand', 'Xy', 'unhanded', 'Xle', 'hand-2']"
      ]
     },
     "execution_count": 51,
     "metadata": {},
     "output_type": "execute_result"
    }
   ],
   "source": [
    "[re.sub(r'\\bhand\\B','X', w) for w in items]"
   ]
  },
  {
   "cell_type": "markdown",
   "id": "254e57ca",
   "metadata": {},
   "source": [
    "**i)** For the given input list, filter all elements starting with `h`. Additionally, replace `e` with `X` for these filtered elements."
   ]
  },
  {
   "cell_type": "code",
   "execution_count": 52,
   "id": "deee0511",
   "metadata": {},
   "outputs": [],
   "source": [
    "items = ['handed', 'hand', 'handy', 'unhanded', 'handle', 'hand-2']"
   ]
  },
  {
   "cell_type": "code",
   "execution_count": 53,
   "id": "38fe6dec",
   "metadata": {},
   "outputs": [
    {
     "data": {
      "text/plain": [
       "['handXed', 'handX', 'handXy', 'handXlX', 'handX-2']"
      ]
     },
     "execution_count": 53,
     "metadata": {},
     "output_type": "execute_result"
    }
   ],
   "source": [
    "[re.sub('(?<=^(hand))|(?<=^(handl))(e)','X',w) for w in items if re.search(r'\\Ah', w) ]"
   ]
  },
  {
   "cell_type": "markdown",
   "id": "91f40f87",
   "metadata": {},
   "source": [
    "## \\A\n",
    "Start match anchor"
   ]
  },
  {
   "cell_type": "code",
   "execution_count": 54,
   "id": "015132f8",
   "metadata": {},
   "outputs": [
    {
     "data": {
      "text/plain": [
       "['handXd', 'hand', 'handy', 'handlX', 'hand-2']"
      ]
     },
     "execution_count": 54,
     "metadata": {},
     "output_type": "execute_result"
    }
   ],
   "source": [
    "[re.sub(r'e', 'X', w) for w in items if re.search(r'\\Ah', w)]"
   ]
  },
  {
   "cell_type": "markdown",
   "id": "0689862b",
   "metadata": {},
   "source": [
    "# Alternation and Grouping\n"
   ]
  },
  {
   "cell_type": "markdown",
   "id": "9792254f",
   "metadata": {},
   "source": [
    "**a)** For the given input list, filter all elements that start with `den` or end with `ly`"
   ]
  },
  {
   "cell_type": "code",
   "execution_count": 55,
   "id": "eedc49d1",
   "metadata": {},
   "outputs": [],
   "source": [
    "items = ['lovely', '1\\ndentist', '2 lonely', 'eden', 'fly\\n', 'dent']"
   ]
  },
  {
   "cell_type": "markdown",
   "id": "ef39aa2f",
   "metadata": {},
   "source": [
    "## |\n",
    "Specifies a set of alternatives on which to match."
   ]
  },
  {
   "cell_type": "code",
   "execution_count": 56,
   "id": "0420fc8b",
   "metadata": {},
   "outputs": [],
   "source": [
    "lst = []\n",
    "for w in items:\n",
    "    if re.search('den\\w+|\\w+ly',w):\n",
    "        lst.append(w)\n",
    "        "
   ]
  },
  {
   "cell_type": "code",
   "execution_count": 57,
   "id": "660628c2",
   "metadata": {},
   "outputs": [
    {
     "data": {
      "text/plain": [
       "['lovely', '1\\ndentist', '2 lonely', 'fly\\n', 'dent']"
      ]
     },
     "execution_count": 57,
     "metadata": {},
     "output_type": "execute_result"
    }
   ],
   "source": [
    "lst"
   ]
  },
  {
   "cell_type": "markdown",
   "id": "58820474",
   "metadata": {},
   "source": [
    "## \\Z \\z\n",
    "\\Z  matches just before a `single newline` at the end of the search string"
   ]
  },
  {
   "cell_type": "code",
   "execution_count": 58,
   "id": "81d9c9ed",
   "metadata": {},
   "outputs": [
    {
     "data": {
      "text/plain": [
       "['lovely', '2 lonely', 'dent']"
      ]
     },
     "execution_count": 58,
     "metadata": {},
     "output_type": "execute_result"
    }
   ],
   "source": [
    "[e for e in items if re.search(r'\\Aden|ly\\Z', e)]\n",
    "# (correct)"
   ]
  },
  {
   "cell_type": "code",
   "execution_count": 59,
   "id": "d747ecef",
   "metadata": {},
   "outputs": [
    {
     "data": {
      "text/plain": [
       "['lovely', '2 lonely', 'fly\\n', 'dent']"
      ]
     },
     "execution_count": 59,
     "metadata": {},
     "output_type": "execute_result"
    }
   ],
   "source": [
    "[e for e in items if re.search(r'^den\\w+|\\w+ly$',e)]"
   ]
  },
  {
   "cell_type": "markdown",
   "id": "fc1bbea8",
   "metadata": {},
   "source": [
    "**b)** For the given list, filter all elements having a line starting with `den` or ending with `ly`."
   ]
  },
  {
   "cell_type": "code",
   "execution_count": 60,
   "id": "9baf37cb",
   "metadata": {},
   "outputs": [],
   "source": [
    "items = ['lovely', '1\\ndentist', '2 lonely', 'eden', 'fly\\nfar', 'dent']"
   ]
  },
  {
   "cell_type": "code",
   "execution_count": 61,
   "id": "c572a7b0",
   "metadata": {},
   "outputs": [
    {
     "data": {
      "text/plain": [
       "['lovely', '2 lonely', 'dent']"
      ]
     },
     "execution_count": 61,
     "metadata": {},
     "output_type": "execute_result"
    }
   ],
   "source": [
    "[e for e in items if re.search(r'^den|ly$',e)]"
   ]
  },
  {
   "cell_type": "markdown",
   "id": "e0857773",
   "metadata": {},
   "source": [
    "## flags = re.M"
   ]
  },
  {
   "cell_type": "code",
   "execution_count": 62,
   "id": "36dd9d4b",
   "metadata": {},
   "outputs": [
    {
     "data": {
      "text/plain": [
       "['lovely', '1\\ndentist', '2 lonely', 'fly\\nfar', 'dent']"
      ]
     },
     "execution_count": 62,
     "metadata": {},
     "output_type": "execute_result"
    }
   ],
   "source": [
    "[e for e in items if re.search(r'^den|ly$',e, flags = re.M)]"
   ]
  },
  {
   "cell_type": "markdown",
   "id": "ad890b15",
   "metadata": {},
   "source": [
    "**c)** For the given input strings, replace all occurrences of `removed` or `reed` or `received` or `refused` with `X`.\n"
   ]
  },
  {
   "cell_type": "code",
   "execution_count": 63,
   "id": "5cbee880",
   "metadata": {},
   "outputs": [],
   "source": [
    "s1 = 'creed refuse removed read'\n",
    "s2 = 'refused reed redo received'"
   ]
  },
  {
   "cell_type": "code",
   "execution_count": 64,
   "id": "d07c5558",
   "metadata": {},
   "outputs": [
    {
     "name": "stdout",
     "output_type": "stream",
     "text": [
      "cX refuse X read\n",
      "X X redo X\n"
     ]
    }
   ],
   "source": [
    "pat = re.compile('reed|received|refused|removed')\n",
    "print(pat.sub('X', s1))\n",
    "print(pat.sub('X', s2))"
   ]
  },
  {
   "cell_type": "markdown",
   "id": "c9c4be6e",
   "metadata": {},
   "source": [
    "## |\n",
    "multiple options"
   ]
  },
  {
   "cell_type": "code",
   "execution_count": 65,
   "id": "c2016b6c",
   "metadata": {},
   "outputs": [],
   "source": [
    "pat = re.compile('re(|ceiv|fus|mov)ed')"
   ]
  },
  {
   "cell_type": "code",
   "execution_count": 66,
   "id": "5a8e0482",
   "metadata": {},
   "outputs": [
    {
     "data": {
      "text/plain": [
       "'cX refuse X read'"
      ]
     },
     "execution_count": 66,
     "metadata": {},
     "output_type": "execute_result"
    }
   ],
   "source": [
    "pat.sub('X', s1)"
   ]
  },
  {
   "cell_type": "code",
   "execution_count": 67,
   "id": "094cbd7c",
   "metadata": {},
   "outputs": [
    {
     "data": {
      "text/plain": [
       "'cX refuse X read'"
      ]
     },
     "execution_count": 67,
     "metadata": {},
     "output_type": "execute_result"
    }
   ],
   "source": [
    "pat.sub('X', s1)"
   ]
  },
  {
   "cell_type": "markdown",
   "id": "340cdee1",
   "metadata": {},
   "source": [
    "**d)** For the given input strings, replace all matches from the list `words` with `A`.\n"
   ]
  },
  {
   "cell_type": "code",
   "execution_count": 68,
   "id": "c2bc871b",
   "metadata": {},
   "outputs": [],
   "source": [
    "s1 = 'plate full of slate'\n",
    "s2 = \"slated for later, don't be late\"\n",
    "words = ['late', 'later', 'slated']"
   ]
  },
  {
   "cell_type": "code",
   "execution_count": 69,
   "id": "052bb417",
   "metadata": {},
   "outputs": [
    {
     "name": "stdout",
     "output_type": "stream",
     "text": [
      "pA full of sA\n",
      "A for Ar, don't be A\n"
     ]
    }
   ],
   "source": [
    "pat = re.compile(\"|\".join(words))\n",
    "print(pat.sub('A', s1))\n",
    "print(pat.sub('A', s2))"
   ]
  },
  {
   "cell_type": "markdown",
   "id": "2ff1641b",
   "metadata": {},
   "source": [
    "**e)** Filter all whole elements from the input list `items` based on elements listed in `words`."
   ]
  },
  {
   "cell_type": "code",
   "execution_count": 70,
   "id": "e50a33fd",
   "metadata": {},
   "outputs": [],
   "source": [
    "items = ['slate', 'later', 'plate', 'late', 'slates', 'slated ']\n",
    "words = ['late', 'later', 'slated']"
   ]
  },
  {
   "cell_type": "markdown",
   "id": "b55e4410",
   "metadata": {},
   "source": [
    "# .fullmatch"
   ]
  },
  {
   "cell_type": "code",
   "execution_count": 71,
   "id": "80d919e3",
   "metadata": {},
   "outputs": [
    {
     "data": {
      "text/plain": [
       "['later', 'late']"
      ]
     },
     "execution_count": 71,
     "metadata": {},
     "output_type": "execute_result"
    }
   ],
   "source": [
    "pat = re.compile(\"|\".join(words))\n",
    "\n",
    "[w for w in items if pat.fullmatch(w)]"
   ]
  },
  {
   "cell_type": "markdown",
   "id": "dde22fb4",
   "metadata": {},
   "source": [
    "# Escaping metacharacters\n",
    "`\\*, \\+,\\^,\\\\, \\|`"
   ]
  },
  {
   "cell_type": "markdown",
   "id": "c59c1684",
   "metadata": {},
   "source": [
    "**a)** Transform the given input strings to the expected output using same logic on both strings."
   ]
  },
  {
   "cell_type": "code",
   "execution_count": 72,
   "id": "4ced4b66",
   "metadata": {},
   "outputs": [],
   "source": [
    "str1 = '(9-2)*5+qty/3'\n",
    "\n",
    "str2 = '(qty+4)/2-(9-2)*5+pq/4'\n"
   ]
  },
  {
   "cell_type": "code",
   "execution_count": 73,
   "id": "6d4cc074",
   "metadata": {},
   "outputs": [
    {
     "data": {
      "text/plain": [
       "'35+qty/3'"
      ]
     },
     "execution_count": 73,
     "metadata": {},
     "output_type": "execute_result"
    }
   ],
   "source": [
    "re.sub(r'\\(9\\-2\\)\\*5', '35', str1)"
   ]
  },
  {
   "cell_type": "code",
   "execution_count": 74,
   "id": "4e9123e6",
   "metadata": {},
   "outputs": [
    {
     "data": {
      "text/plain": [
       "'(qty+4)/2-35+pq/4'"
      ]
     },
     "execution_count": 74,
     "metadata": {},
     "output_type": "execute_result"
    }
   ],
   "source": [
    "re.sub(r'\\(qty\\+4\\)\\/2\\-\\(9\\-2\\)\\*5','(qty+4)/2-35', str2)"
   ]
  },
  {
   "cell_type": "markdown",
   "id": "89ca3107",
   "metadata": {},
   "source": [
    "**b)** Replace `(4)\\|` with `2` only at the start or end of given input strings."
   ]
  },
  {
   "cell_type": "code",
   "execution_count": 75,
   "id": "b6b01d86",
   "metadata": {},
   "outputs": [],
   "source": [
    "s1 = r'2.3/(4)\\|6 foo 5.3-(4)\\|'\n",
    "\n",
    "s2 = r'(4)\\|42 - (4)\\|3'\n",
    "\n",
    "s3 = 'two - (4)\\\\|\\n'\n"
   ]
  },
  {
   "cell_type": "code",
   "execution_count": 76,
   "id": "82ccc897",
   "metadata": {},
   "outputs": [],
   "source": [
    "# raw string need "
   ]
  },
  {
   "cell_type": "code",
   "execution_count": 77,
   "id": "b00cd6b2",
   "metadata": {},
   "outputs": [],
   "source": [
    "pat = re.compile(r'\\A\\(4\\)\\\\\\||\\(4\\)\\\\\\|\\Z')\n",
    "# \\(4\\)\\\\\\ ==(4)\\|"
   ]
  },
  {
   "cell_type": "code",
   "execution_count": 78,
   "id": "295e8dd9",
   "metadata": {},
   "outputs": [
    {
     "data": {
      "text/plain": [
       "'2.3/(4)\\\\|6 foo 5.3-2'"
      ]
     },
     "execution_count": 78,
     "metadata": {},
     "output_type": "execute_result"
    }
   ],
   "source": [
    "pat.sub('2',s1)"
   ]
  },
  {
   "cell_type": "code",
   "execution_count": 79,
   "id": "217210e8",
   "metadata": {},
   "outputs": [
    {
     "data": {
      "text/plain": [
       "'242 - (4)\\\\|3'"
      ]
     },
     "execution_count": 79,
     "metadata": {},
     "output_type": "execute_result"
    }
   ],
   "source": [
    "pat.sub('2',s2)"
   ]
  },
  {
   "cell_type": "code",
   "execution_count": 80,
   "id": "0e80d02e",
   "metadata": {},
   "outputs": [
    {
     "data": {
      "text/plain": [
       "'two - (4)\\\\|\\n'"
      ]
     },
     "execution_count": 80,
     "metadata": {},
     "output_type": "execute_result"
    }
   ],
   "source": [
    "pat.sub('2',s3)"
   ]
  },
  {
   "cell_type": "markdown",
   "id": "798729b6",
   "metadata": {},
   "source": [
    "**c)** Replace any matching element from the list `items` with `X` for given the input strings. Match the elements from `items` literally. Assume no two elements of `items` will result in any matching conflict.\n"
   ]
  },
  {
   "cell_type": "code",
   "execution_count": 81,
   "id": "e1979b5b",
   "metadata": {},
   "outputs": [],
   "source": [
    "items = ['a.b', '3+n', r'x\\y\\z', 'qty||price', '{n}']\n"
   ]
  },
  {
   "cell_type": "markdown",
   "id": "d45c0f26",
   "metadata": {},
   "source": [
    "## re.escape() \n",
    "### same as re.match()\n",
    "lot of special characters that you want the parser to take literally instead of as metacharacters"
   ]
  },
  {
   "cell_type": "code",
   "execution_count": 82,
   "id": "6f8d6276",
   "metadata": {},
   "outputs": [],
   "source": [
    "pat = re.compile(\"|\".join(re.escape(e) for e in items))      ##### add your solution here"
   ]
  },
  {
   "cell_type": "code",
   "execution_count": 83,
   "id": "a26ed18c",
   "metadata": {},
   "outputs": [
    {
     "data": {
      "text/plain": [
       "'0Xcd'"
      ]
     },
     "execution_count": 83,
     "metadata": {},
     "output_type": "execute_result"
    }
   ],
   "source": [
    "pat.sub('X','0a.bcd')"
   ]
  },
  {
   "cell_type": "code",
   "execution_count": 84,
   "id": "3e84adbd",
   "metadata": {},
   "outputs": [
    {
     "data": {
      "text/plain": [
       "'EXAMPLE'"
      ]
     },
     "execution_count": 84,
     "metadata": {},
     "output_type": "execute_result"
    }
   ],
   "source": [
    "pat.sub('X', 'E{n}AMPLE')"
   ]
  },
  {
   "cell_type": "code",
   "execution_count": 85,
   "id": "bcaaf8fa",
   "metadata": {},
   "outputs": [
    {
     "data": {
      "text/plain": [
       "'4X2 aXe'"
      ]
     },
     "execution_count": 85,
     "metadata": {},
     "output_type": "execute_result"
    }
   ],
   "source": [
    "pat.sub('X', r'43+n2 ax\\y\\ze')"
   ]
  },
  {
   "cell_type": "markdown",
   "id": "b22691ab",
   "metadata": {},
   "source": [
    "**d)** Replace backspace character `\\b` with a single space character for the given input string."
   ]
  },
  {
   "cell_type": "markdown",
   "id": "859a20e0",
   "metadata": {},
   "source": [
    "# \\b = \\x08"
   ]
  },
  {
   "cell_type": "code",
   "execution_count": 86,
   "id": "64cc2ca8",
   "metadata": {},
   "outputs": [
    {
     "data": {
      "text/plain": [
       "'123\\x08456'"
      ]
     },
     "execution_count": 86,
     "metadata": {},
     "output_type": "execute_result"
    }
   ],
   "source": [
    "ip = '123\\b456'\n",
    "ip"
   ]
  },
  {
   "cell_type": "code",
   "execution_count": 87,
   "id": "fe4bddf4",
   "metadata": {},
   "outputs": [
    {
     "data": {
      "text/plain": [
       "'123 456'"
      ]
     },
     "execution_count": 87,
     "metadata": {},
     "output_type": "execute_result"
    }
   ],
   "source": [
    "re.sub(r'\\x08',' ',ip)"
   ]
  },
  {
   "cell_type": "markdown",
   "id": "67ec8041",
   "metadata": {},
   "source": [
    "Raw string"
   ]
  },
  {
   "cell_type": "code",
   "execution_count": 88,
   "id": "af5222d5",
   "metadata": {},
   "outputs": [
    {
     "data": {
      "text/plain": [
       "'123\\\\b456'"
      ]
     },
     "execution_count": 88,
     "metadata": {},
     "output_type": "execute_result"
    }
   ],
   "source": [
    "ip = r'123\\b456'\n",
    "ip"
   ]
  },
  {
   "cell_type": "code",
   "execution_count": 89,
   "id": "d5a39851",
   "metadata": {},
   "outputs": [
    {
     "data": {
      "text/plain": [
       "'123 456'"
      ]
     },
     "execution_count": 89,
     "metadata": {},
     "output_type": "execute_result"
    }
   ],
   "source": [
    "re.sub(r'\\\\b',' ',ip)"
   ]
  },
  {
   "cell_type": "markdown",
   "id": "5242a4b3",
   "metadata": {},
   "source": [
    "**e)** Replace all occurrences of `\\e` with `e`."
   ]
  },
  {
   "cell_type": "code",
   "execution_count": 90,
   "id": "b9874d61",
   "metadata": {},
   "outputs": [
    {
     "data": {
      "text/plain": [
       "'th\\\\er\\\\e ar\\\\e common asp\\\\ects among th\\\\e alt\\\\ernations'"
      ]
     },
     "execution_count": 90,
     "metadata": {},
     "output_type": "execute_result"
    }
   ],
   "source": [
    "ip = r'th\\er\\e ar\\e common asp\\ects among th\\e alt\\ernations'\n",
    "ip"
   ]
  },
  {
   "cell_type": "code",
   "execution_count": 91,
   "id": "8aef2333",
   "metadata": {},
   "outputs": [
    {
     "data": {
      "text/plain": [
       "'there are common aspects among the alternations'"
      ]
     },
     "execution_count": 91,
     "metadata": {},
     "output_type": "execute_result"
    }
   ],
   "source": [
    "re.sub(r'\\\\e', 'e',ip)"
   ]
  },
  {
   "cell_type": "markdown",
   "id": "fbebb924",
   "metadata": {},
   "source": [
    "**f)** Replace any matching item from the list `eqns` with `X` for given the string `ip`. Match the items from `eqns` literally."
   ]
  },
  {
   "cell_type": "code",
   "execution_count": 92,
   "id": "3f74dd83",
   "metadata": {},
   "outputs": [],
   "source": [
    "ip = '3-(a^b)+2*(a^b)-(a/b)+3'\n",
    "eqns = ['(a^b)', '(a/b)', '(a^b)+2']\n"
   ]
  },
  {
   "cell_type": "code",
   "execution_count": 93,
   "id": "6f62f7dc",
   "metadata": {},
   "outputs": [
    {
     "data": {
      "text/plain": [
       "'3-(a^b)+2*(a^b)-(a/b)+3'"
      ]
     },
     "execution_count": 93,
     "metadata": {},
     "output_type": "execute_result"
    }
   ],
   "source": [
    "ip"
   ]
  },
  {
   "cell_type": "code",
   "execution_count": 94,
   "id": "45b4f853",
   "metadata": {},
   "outputs": [
    {
     "name": "stdout",
     "output_type": "stream",
     "text": [
      "(a^b)|(a/b)|(a^b)+2\n"
     ]
    }
   ],
   "source": [
    "a = \"|\".join(eqns)\n",
    "print(a)"
   ]
  },
  {
   "cell_type": "code",
   "execution_count": 95,
   "id": "4425b3a7",
   "metadata": {},
   "outputs": [
    {
     "name": "stdout",
     "output_type": "stream",
     "text": [
      "copy(a^b)|(a/b)|(a^b)+2\n"
     ]
    }
   ],
   "source": [
    "print('copy{}'.format(a))"
   ]
  },
  {
   "cell_type": "code",
   "execution_count": 96,
   "id": "0f8ce7c4",
   "metadata": {},
   "outputs": [
    {
     "data": {
      "text/plain": [
       "re.compile(r'\\(a\\^b\\)|\\(a/b\\)|\\(a\\^b\\)\\+2', re.UNICODE)"
      ]
     },
     "execution_count": 96,
     "metadata": {},
     "output_type": "execute_result"
    }
   ],
   "source": [
    "re.compile(\"|\".join(re.escape(e) for e in eqns))"
   ]
  },
  {
   "cell_type": "code",
   "execution_count": 97,
   "id": "966dec66",
   "metadata": {},
   "outputs": [
    {
     "data": {
      "text/plain": [
       "'3-(a^b)+2*(a^b)-(a/b)+3'"
      ]
     },
     "execution_count": 97,
     "metadata": {},
     "output_type": "execute_result"
    }
   ],
   "source": [
    "pat.sub('X', ip)"
   ]
  },
  {
   "cell_type": "markdown",
   "id": "37285854",
   "metadata": {},
   "source": [
    "### soreted(,key = len, reverse = True)"
   ]
  },
  {
   "cell_type": "code",
   "execution_count": 98,
   "id": "0d2a9b4c",
   "metadata": {},
   "outputs": [],
   "source": [
    "eqns_sorted = sorted(eqns, key=len, reverse=True)\n",
    "pat = re.compile('|'.join(re.escape(s) for s in eqns_sorted))"
   ]
  },
  {
   "cell_type": "code",
   "execution_count": 99,
   "id": "1ead89e2",
   "metadata": {},
   "outputs": [
    {
     "data": {
      "text/plain": [
       "'3-X*X-X+3'"
      ]
     },
     "execution_count": 99,
     "metadata": {},
     "output_type": "execute_result"
    }
   ],
   "source": [
    "pat.sub('X', ip)"
   ]
  },
  {
   "cell_type": "markdown",
   "id": "35bd5dd5",
   "metadata": {},
   "source": [
    "# Dot metacharacter and Quantifiers"
   ]
  },
  {
   "cell_type": "markdown",
   "id": "e89a8ac8",
   "metadata": {},
   "source": [
    "Since `.` metacharacter doesn't match newline character by default, assume that the input strings in the following exercises will not contain newline characters.\n"
   ]
  },
  {
   "cell_type": "markdown",
   "id": "798cf776",
   "metadata": {},
   "source": [
    "**a)** Replace `42//5` or `42/5` with `8` for the given input."
   ]
  },
  {
   "cell_type": "code",
   "execution_count": 100,
   "id": "0d5461dd",
   "metadata": {},
   "outputs": [],
   "source": [
    "ip = 'a+42//5-c pressure*3+42/5-14256'"
   ]
  },
  {
   "cell_type": "code",
   "execution_count": 101,
   "id": "4e77e91e",
   "metadata": {},
   "outputs": [
    {
     "data": {
      "text/plain": [
       "'a+8-c pressure*3+8-14256'"
      ]
     },
     "execution_count": 101,
     "metadata": {},
     "output_type": "execute_result"
    }
   ],
   "source": [
    "re.sub(r'42(\\/\\/|\\/)5','8',ip)"
   ]
  },
  {
   "cell_type": "markdown",
   "id": "c443ddda",
   "metadata": {},
   "source": [
    "**b)** For the list `items`, filter all elements starting with `hand` and ending with at most one more character or `le`.\n"
   ]
  },
  {
   "cell_type": "code",
   "execution_count": 102,
   "id": "4d04c45f",
   "metadata": {},
   "outputs": [],
   "source": [
    "items = ['handed', 'hand', 'handled', 'handy', 'unhand', 'hands', 'handle']"
   ]
  },
  {
   "cell_type": "code",
   "execution_count": 103,
   "id": "f3194967",
   "metadata": {},
   "outputs": [
    {
     "data": {
      "text/plain": [
       "['handed', 'hand', 'handled', 'handy', 'hands', 'handle']"
      ]
     },
     "execution_count": 103,
     "metadata": {},
     "output_type": "execute_result"
    }
   ],
   "source": [
    "[w for w in items if re.search(r'^(hand)',w) or re.search(r'le$',w)] "
   ]
  },
  {
   "cell_type": "markdown",
   "id": "c1561bb4",
   "metadata": {},
   "source": [
    "# `?` \n",
    "Matches zero or one repetitions of the preceding regex\n",
    "\n",
    "# `dot (.)`\n",
    "\n",
    "dot(.)Specifies a wildcard."
   ]
  },
  {
   "cell_type": "code",
   "execution_count": 104,
   "id": "26ef1d0b",
   "metadata": {},
   "outputs": [
    {
     "data": {
      "text/plain": [
       "['hand', 'handy', 'hands', 'handle']"
      ]
     },
     "execution_count": 104,
     "metadata": {},
     "output_type": "execute_result"
    }
   ],
   "source": [
    "[w for w in items if re.fullmatch(r'^hand(.|le)?',w)] "
   ]
  },
  {
   "cell_type": "markdown",
   "id": "da7bfa54",
   "metadata": {},
   "source": [
    "**c)** Use `re.split` to get the output as shown for the given input strings."
   ]
  },
  {
   "cell_type": "code",
   "execution_count": 105,
   "id": "e1dd1c14",
   "metadata": {},
   "outputs": [],
   "source": [
    ">>> eqn1 = 'a+42//5-c'\n",
    ">>> eqn2 = 'pressure*3+42/5-14256'\n",
    ">>> eqn3 = 'r*42-5/3+42///5-42/53+a'"
   ]
  },
  {
   "cell_type": "markdown",
   "id": "a5d85890",
   "metadata": {},
   "source": [
    "# re.split"
   ]
  },
  {
   "cell_type": "code",
   "execution_count": 106,
   "id": "30fd9e19",
   "metadata": {},
   "outputs": [
    {
     "data": {
      "text/plain": [
       "['a+', '-c']"
      ]
     },
     "execution_count": 106,
     "metadata": {},
     "output_type": "execute_result"
    }
   ],
   "source": [
    "re.split('42//5',eqn1)"
   ]
  },
  {
   "cell_type": "code",
   "execution_count": 107,
   "id": "95cd98fb",
   "metadata": {},
   "outputs": [
    {
     "data": {
      "text/plain": [
       "['pressure*3+', '-14256']"
      ]
     },
     "execution_count": 107,
     "metadata": {},
     "output_type": "execute_result"
    }
   ],
   "source": [
    "re.split('42/5',eqn2)"
   ]
  },
  {
   "cell_type": "code",
   "execution_count": 108,
   "id": "5ca2c454",
   "metadata": {},
   "outputs": [
    {
     "data": {
      "text/plain": [
       "['r*42-5/3+42///5-', '3+a']"
      ]
     },
     "execution_count": 108,
     "metadata": {},
     "output_type": "execute_result"
    }
   ],
   "source": [
    "re.split('42/5',eqn3)"
   ]
  },
  {
   "cell_type": "markdown",
   "id": "c07eebb3",
   "metadata": {},
   "source": [
    "## ?\n",
    "Matches zero or one repetitions of the preceding regex"
   ]
  },
  {
   "cell_type": "code",
   "execution_count": 109,
   "id": "f785011d",
   "metadata": {},
   "outputs": [],
   "source": [
    "pat = re.compile(r'42//?5')"
   ]
  },
  {
   "cell_type": "code",
   "execution_count": 110,
   "id": "174c3355",
   "metadata": {},
   "outputs": [
    {
     "data": {
      "text/plain": [
       "['a+', '-c']"
      ]
     },
     "execution_count": 110,
     "metadata": {},
     "output_type": "execute_result"
    }
   ],
   "source": [
    "pat.split(eqn1)"
   ]
  },
  {
   "cell_type": "code",
   "execution_count": 111,
   "id": "1775b75b",
   "metadata": {},
   "outputs": [
    {
     "data": {
      "text/plain": [
       "['pressure*3+', '-14256']"
      ]
     },
     "execution_count": 111,
     "metadata": {},
     "output_type": "execute_result"
    }
   ],
   "source": [
    "pat.split(eqn2)"
   ]
  },
  {
   "cell_type": "code",
   "execution_count": 112,
   "id": "6cfe71cd",
   "metadata": {},
   "outputs": [
    {
     "data": {
      "text/plain": [
       "['r*42-5/3+42///5-', '3+a']"
      ]
     },
     "execution_count": 112,
     "metadata": {},
     "output_type": "execute_result"
    }
   ],
   "source": [
    "pat.split(eqn3)"
   ]
  },
  {
   "cell_type": "markdown",
   "id": "7b9e4bf0",
   "metadata": {},
   "source": [
    "# `*`\n",
    "zero or more repetitions"
   ]
  },
  {
   "cell_type": "code",
   "execution_count": 113,
   "id": "bd0a6a71",
   "metadata": {},
   "outputs": [],
   "source": [
    "pat = re.compile(r'42//?5')\n"
   ]
  },
  {
   "cell_type": "code",
   "execution_count": 114,
   "id": "ec89ebef",
   "metadata": {},
   "outputs": [
    {
     "data": {
      "text/plain": [
       "['a+', '-c']"
      ]
     },
     "execution_count": 114,
     "metadata": {},
     "output_type": "execute_result"
    }
   ],
   "source": [
    "pat.split(eqn1)"
   ]
  },
  {
   "cell_type": "code",
   "execution_count": 115,
   "id": "33ee5532",
   "metadata": {},
   "outputs": [
    {
     "data": {
      "text/plain": [
       "['pressure*3+', '-14256']"
      ]
     },
     "execution_count": 115,
     "metadata": {},
     "output_type": "execute_result"
    }
   ],
   "source": [
    "pat.split(eqn2)"
   ]
  },
  {
   "cell_type": "code",
   "execution_count": 116,
   "id": "5f11c5df",
   "metadata": {},
   "outputs": [
    {
     "data": {
      "text/plain": [
       "['r*42-5/3+42///5-', '3+a']"
      ]
     },
     "execution_count": 116,
     "metadata": {},
     "output_type": "execute_result"
    }
   ],
   "source": [
    "pat.split(eqn3)"
   ]
  },
  {
   "cell_type": "markdown",
   "id": "02801250",
   "metadata": {},
   "source": [
    "**d)** For the given input strings, remove everything from the first occurrence of `i` till end of the string."
   ]
  },
  {
   "cell_type": "code",
   "execution_count": 117,
   "id": "7e6dda1f",
   "metadata": {},
   "outputs": [],
   "source": [
    "s1 = 'remove the special meaning of such constructs'\n",
    "s2 = 'characters while constructing'"
   ]
  },
  {
   "cell_type": "markdown",
   "id": "4eafeb99",
   "metadata": {},
   "source": [
    "# `+ `\n",
    "at least one or more repetitions\n",
    "# `.`\n",
    "The `.` metacharacter matches any `single character` `except a newline`:"
   ]
  },
  {
   "cell_type": "code",
   "execution_count": 118,
   "id": "476c81a9",
   "metadata": {},
   "outputs": [],
   "source": [
    "pat = re.compile(r'i.+')"
   ]
  },
  {
   "cell_type": "code",
   "execution_count": 119,
   "id": "0120ce93",
   "metadata": {},
   "outputs": [
    {
     "data": {
      "text/plain": [
       "'remove the spec'"
      ]
     },
     "execution_count": 119,
     "metadata": {},
     "output_type": "execute_result"
    }
   ],
   "source": [
    "pat.sub('',s1)"
   ]
  },
  {
   "cell_type": "code",
   "execution_count": 120,
   "id": "3b731c18",
   "metadata": {},
   "outputs": [
    {
     "data": {
      "text/plain": [
       "'characters wh'"
      ]
     },
     "execution_count": 120,
     "metadata": {},
     "output_type": "execute_result"
    }
   ],
   "source": [
    "pat.sub('',s2)"
   ]
  },
  {
   "cell_type": "markdown",
   "id": "1f74c04f",
   "metadata": {},
   "source": [
    "# `*`\n",
    "zero or more repetitions"
   ]
  },
  {
   "cell_type": "markdown",
   "id": "04e9142c",
   "metadata": {},
   "source": [
    "**e)** For the given strings, construct a RE to get output as shown."
   ]
  },
  {
   "cell_type": "code",
   "execution_count": 121,
   "id": "7b2d6a40",
   "metadata": {},
   "outputs": [],
   "source": [
    "str1 = 'a+b(addition)'\n",
    "str2 = 'a/b(division) + c%d(#modulo)'\n",
    "str3 = 'Hi there(greeting). Nice day(a(b)'"
   ]
  },
  {
   "cell_type": "code",
   "execution_count": 122,
   "id": "0d1c97ee",
   "metadata": {},
   "outputs": [],
   "source": [
    "remove_parentheses = re.compile(r'\\(.*\\)')"
   ]
  },
  {
   "cell_type": "markdown",
   "id": "8de545dc",
   "metadata": {},
   "source": [
    "## `.*?`\n",
    "`(.*?)` matches any character `(.)` any number of times `(*)`, as few times as possible to make the regex match `(?)"
   ]
  },
  {
   "cell_type": "code",
   "execution_count": 123,
   "id": "b4a04dab",
   "metadata": {},
   "outputs": [],
   "source": [
    "remove_parentheses = re.compile(r'\\(.*?\\)')"
   ]
  },
  {
   "cell_type": "code",
   "execution_count": 124,
   "id": "b6a6dd22",
   "metadata": {},
   "outputs": [
    {
     "data": {
      "text/plain": [
       "'a+b'"
      ]
     },
     "execution_count": 124,
     "metadata": {},
     "output_type": "execute_result"
    }
   ],
   "source": [
    "remove_parentheses.sub('', str1)"
   ]
  },
  {
   "cell_type": "code",
   "execution_count": 125,
   "id": "ab5c662e",
   "metadata": {},
   "outputs": [
    {
     "data": {
      "text/plain": [
       "'a/b + c%d'"
      ]
     },
     "execution_count": 125,
     "metadata": {},
     "output_type": "execute_result"
    }
   ],
   "source": [
    "remove_parentheses.sub('', str2)"
   ]
  },
  {
   "cell_type": "code",
   "execution_count": 126,
   "id": "9375cb93",
   "metadata": {},
   "outputs": [
    {
     "data": {
      "text/plain": [
       "'Hi there. Nice day'"
      ]
     },
     "execution_count": 126,
     "metadata": {},
     "output_type": "execute_result"
    }
   ],
   "source": [
    "remove_parentheses.sub('', str3)"
   ]
  },
  {
   "cell_type": "markdown",
   "id": "b2d9e93f",
   "metadata": {},
   "source": [
    "**f)** Correct the given RE to get the expected output."
   ]
  },
  {
   "cell_type": "code",
   "execution_count": 127,
   "id": "0f457de9",
   "metadata": {},
   "outputs": [],
   "source": [
    "words = 'plink incoming tint winter in caution sentient'\n",
    "change = re.compile(r'int|in|ion|ing|inco|inter|ink')"
   ]
  },
  {
   "cell_type": "code",
   "execution_count": 128,
   "id": "86cfe941",
   "metadata": {},
   "outputs": [
    {
     "data": {
      "text/plain": [
       "'plXk XcomXg tX wXer X cautX sentient'"
      ]
     },
     "execution_count": 128,
     "metadata": {},
     "output_type": "execute_result"
    }
   ],
   "source": [
    "# wrong output\n",
    "change.sub('X', words)"
   ]
  },
  {
   "cell_type": "code",
   "execution_count": 129,
   "id": "ccf03fc7",
   "metadata": {},
   "outputs": [],
   "source": [
    "# expected output\n",
    "# 'plX XmX tX wX X cautX sentient'\n",
    "\n",
    "change = re.compile(r'in(g|co|ter|k|t)?|ion')       ##### add your solution here"
   ]
  },
  {
   "cell_type": "code",
   "execution_count": 130,
   "id": "1fa7ef0d",
   "metadata": {},
   "outputs": [
    {
     "data": {
      "text/plain": [
       "'plX XmX tX wX X cautX sentient'"
      ]
     },
     "execution_count": 130,
     "metadata": {},
     "output_type": "execute_result"
    }
   ],
   "source": [
    "change.sub('X', words)"
   ]
  },
  {
   "cell_type": "markdown",
   "id": "62f44939",
   "metadata": {},
   "source": [
    "**g)** For the given greedy quantifiers, what would be the equivalent form using `{m,n}` representation?"
   ]
  },
  {
   "cell_type": "markdown",
   "id": "8676c61f",
   "metadata": {},
   "source": [
    "* `?` is same as\n",
    "`m=0 , n= 1`\n",
    "* `*` is same as\n",
    "`m=0 , n = `$\\infty$\n",
    "* `+` is same as\n",
    "`m=1 , n=` $\\infty$"
   ]
  },
  {
   "cell_type": "markdown",
   "id": "b08f0401",
   "metadata": {},
   "source": [
    "**h)** `(a*|b*)` is same as `(a|b)*` — True or False?\n",
    "<br>False\n",
    "* `(a*|b*)` this will match only one repetation i.e aa or bbbb\n",
    "* `(a|b)*` this will match combination of both i.e ab , aabb, abb "
   ]
  },
  {
   "cell_type": "markdown",
   "id": "93b2d69f",
   "metadata": {},
   "source": [
    "**i)** For the given input strings, remove everything from the first occurrence of `test` (irrespective of case) till end of the string, provided `test` isn't at the end of the string.\n"
   ]
  },
  {
   "cell_type": "code",
   "execution_count": 131,
   "id": "2e51aea9",
   "metadata": {},
   "outputs": [],
   "source": [
    "s1 = 'this is a Test'\n",
    "s2 = 'always test your RE for corner cases'\n",
    "s3 = 'a TEST of skill tests?'\n"
   ]
  },
  {
   "cell_type": "code",
   "execution_count": 132,
   "id": "6710d6ea",
   "metadata": {},
   "outputs": [
    {
     "name": "stdout",
     "output_type": "stream",
     "text": [
      "this is a \n",
      "always \n",
      "a \n"
     ]
    }
   ],
   "source": [
    "pat = re.compile(r'test.*',flags = re.I)      ##### add your solution here\n",
    "\n",
    "print(pat.sub('', s1))\n",
    "print(pat.sub('', s2))\n",
    "print(pat.sub('', s3))"
   ]
  },
  {
   "cell_type": "code",
   "execution_count": 133,
   "id": "329d31cd",
   "metadata": {},
   "outputs": [
    {
     "name": "stdout",
     "output_type": "stream",
     "text": [
      "this is a Test\n",
      "always \n",
      "a \n"
     ]
    }
   ],
   "source": [
    "pat = re.compile(r'(test|TEST).*',)      ##### add your solution here\n",
    "\n",
    "print(pat.sub('', s1))\n",
    "print(pat.sub('', s2))\n",
    "print(pat.sub('', s3))"
   ]
  },
  {
   "cell_type": "code",
   "execution_count": 134,
   "id": "7c3e0031",
   "metadata": {},
   "outputs": [
    {
     "name": "stdout",
     "output_type": "stream",
     "text": [
      "this is a Test\n",
      "always \n",
      "a \n"
     ]
    }
   ],
   "source": [
    "pat = re.compile('test.+', flags=re.I)     ##### add your solution here\n",
    "\n",
    "print(pat.sub('', s1))\n",
    "print(pat.sub('', s2))\n",
    "print(pat.sub('', s3))"
   ]
  },
  {
   "cell_type": "markdown",
   "id": "65c08d40",
   "metadata": {},
   "source": [
    "**j)** For the input list `words`, filter all elements starting with `s` and containing `e` and `t` in any order."
   ]
  },
  {
   "cell_type": "code",
   "execution_count": 135,
   "id": "0f440f6a",
   "metadata": {},
   "outputs": [],
   "source": [
    "words = ['sequoia', 'subtle', 'exhibit', 'asset', 'sets', 'tests', 'site']"
   ]
  },
  {
   "cell_type": "code",
   "execution_count": 136,
   "id": "5e9d06ff",
   "metadata": {},
   "outputs": [],
   "source": [
    "pat = re.compile('\\As.*(e.*t|t.*e).*')"
   ]
  },
  {
   "cell_type": "code",
   "execution_count": 137,
   "id": "97e1e643",
   "metadata": {},
   "outputs": [
    {
     "data": {
      "text/plain": [
       "['subtle', 'sets', 'site']"
      ]
     },
     "execution_count": 137,
     "metadata": {},
     "output_type": "execute_result"
    }
   ],
   "source": [
    "[w for w in words if pat.search(w)]"
   ]
  },
  {
   "cell_type": "markdown",
   "id": "23345dd0",
   "metadata": {},
   "source": [
    "**k)** For the input list `words`, remove all elements having less than `6` characters."
   ]
  },
  {
   "cell_type": "code",
   "execution_count": 138,
   "id": "db448ddb",
   "metadata": {},
   "outputs": [],
   "source": [
    "words = ['sequoia', 'subtle', 'exhibit', 'asset', 'sets', 'tests', 'site']"
   ]
  },
  {
   "cell_type": "code",
   "execution_count": 139,
   "id": "be0af18c",
   "metadata": {},
   "outputs": [
    {
     "data": {
      "text/plain": [
       "['sequoia', 'subtle', 'exhibit']"
      ]
     },
     "execution_count": 139,
     "metadata": {},
     "output_type": "execute_result"
    }
   ],
   "source": [
    "[w for w in words if re.search(r'.{6}',w)]"
   ]
  },
  {
   "cell_type": "code",
   "execution_count": 140,
   "id": "364a14ba",
   "metadata": {},
   "outputs": [
    {
     "data": {
      "text/plain": [
       "['sequoia', 'subtle', 'exhibit']"
      ]
     },
     "execution_count": 140,
     "metadata": {},
     "output_type": "execute_result"
    }
   ],
   "source": [
    "[w for w in words if re.search(r'.{6,}', w)]"
   ]
  },
  {
   "cell_type": "markdown",
   "id": "8c972abd",
   "metadata": {},
   "source": [
    "**l)** For the input list `words`, filter all elements starting with `s` or `t` and having a maximum of `6` characters."
   ]
  },
  {
   "cell_type": "code",
   "execution_count": 141,
   "id": "4aa19b22",
   "metadata": {},
   "outputs": [],
   "source": [
    "words = ['sequoia', 'subtle', 'exhibit', 'asset', 'sets', 'tests', 'site']"
   ]
  },
  {
   "cell_type": "code",
   "execution_count": 142,
   "id": "8aaf42f3",
   "metadata": {},
   "outputs": [
    {
     "data": {
      "text/plain": [
       "['sequoia', 'subtle', 'exhibit', 'asset', 'sets', 'tests', 'site']"
      ]
     },
     "execution_count": 142,
     "metadata": {},
     "output_type": "execute_result"
    }
   ],
   "source": [
    "[w for w in words if re.search(r'.{,5}', w) and re.search(r'.*(s*|t*).*', w)]"
   ]
  },
  {
   "cell_type": "code",
   "execution_count": 143,
   "id": "421ae908",
   "metadata": {},
   "outputs": [
    {
     "data": {
      "text/plain": [
       "['subtle', 'sets', 'tests', 'site']"
      ]
     },
     "execution_count": 143,
     "metadata": {},
     "output_type": "execute_result"
    }
   ],
   "source": [
    "[w for w in words if re.fullmatch(r'(s|t).{,5}', w)]\n",
    "# (correct)"
   ]
  },
  {
   "cell_type": "markdown",
   "id": "3f1c1523",
   "metadata": {},
   "source": [
    "\n",
    "**m)** Can you reason out why this code results in the output shown? The aim was to remove all `<characters>` patterns but not the `<>` ones. The expected result was `'a 1<> b 2<> c'`."
   ]
  },
  {
   "cell_type": "code",
   "execution_count": 144,
   "id": "b2e42af1",
   "metadata": {},
   "outputs": [],
   "source": [
    "ip = 'a<apple> 1<> b<bye> 2<> c<cat>'"
   ]
  },
  {
   "cell_type": "code",
   "execution_count": 145,
   "id": "c79e08f3",
   "metadata": {},
   "outputs": [
    {
     "data": {
      "text/plain": [
       "'a 1 2'"
      ]
     },
     "execution_count": 145,
     "metadata": {},
     "output_type": "execute_result"
    }
   ],
   "source": [
    "re.sub(r'<.+?>', '', ip)"
   ]
  },
  {
   "cell_type": "markdown",
   "id": "163e7cde",
   "metadata": {},
   "source": [
    ".+ means detect any character one or more times \n"
   ]
  },
  {
   "cell_type": "markdown",
   "id": "e30dd8c1",
   "metadata": {},
   "source": [
    "**n)** Use `re.split` to get the output as shown below for given input strings."
   ]
  },
  {
   "cell_type": "code",
   "execution_count": 146,
   "id": "96733938",
   "metadata": {},
   "outputs": [],
   "source": [
    "s1 = 'go there  //   \"this // that\"'\n",
    "s2 = 'a//b // c//d e//f // 4//5'\n",
    "s3 = '42// hi//bye//see // carefully'"
   ]
  },
  {
   "cell_type": "code",
   "execution_count": 147,
   "id": "38a7baa9",
   "metadata": {},
   "outputs": [],
   "source": [
    "pat = re.compile(r'\\s{1,2}//\\s{1,2}')     ##### add your solution here\n",
    "# (correct)"
   ]
  },
  {
   "cell_type": "code",
   "execution_count": 148,
   "id": "1aa0f821",
   "metadata": {},
   "outputs": [
    {
     "data": {
      "text/plain": [
       "['go there', ' \"this', 'that\"']"
      ]
     },
     "execution_count": 148,
     "metadata": {},
     "output_type": "execute_result"
    }
   ],
   "source": [
    "pat.split(s1)"
   ]
  },
  {
   "cell_type": "code",
   "execution_count": 149,
   "id": "9527b496",
   "metadata": {},
   "outputs": [
    {
     "data": {
      "text/plain": [
       "['a//b', 'c//d e//f', '4//5']"
      ]
     },
     "execution_count": 149,
     "metadata": {},
     "output_type": "execute_result"
    }
   ],
   "source": [
    "pat.split(s2)"
   ]
  },
  {
   "cell_type": "code",
   "execution_count": 150,
   "id": "d6155bc6",
   "metadata": {},
   "outputs": [
    {
     "data": {
      "text/plain": [
       "['42// hi//bye//see', 'carefully']"
      ]
     },
     "execution_count": 150,
     "metadata": {},
     "output_type": "execute_result"
    }
   ],
   "source": [
    "pat.split(s3)"
   ]
  },
  {
   "cell_type": "code",
   "execution_count": 151,
   "id": "677319b7",
   "metadata": {},
   "outputs": [],
   "source": [
    "pat = re.compile(r'\\s+//\\s+')     ##### add your solution here"
   ]
  },
  {
   "cell_type": "code",
   "execution_count": 152,
   "id": "7f186ee5",
   "metadata": {},
   "outputs": [
    {
     "data": {
      "text/plain": [
       "['go there', '\"this', 'that\"']"
      ]
     },
     "execution_count": 152,
     "metadata": {},
     "output_type": "execute_result"
    }
   ],
   "source": [
    "pat.split(s1)"
   ]
  },
  {
   "cell_type": "code",
   "execution_count": 153,
   "id": "92e9a601",
   "metadata": {},
   "outputs": [
    {
     "data": {
      "text/plain": [
       "['a//b', 'c//d e//f', '4//5']"
      ]
     },
     "execution_count": 153,
     "metadata": {},
     "output_type": "execute_result"
    }
   ],
   "source": [
    "pat.split(s2)"
   ]
  },
  {
   "cell_type": "code",
   "execution_count": 154,
   "id": "6e074ee2",
   "metadata": {},
   "outputs": [
    {
     "data": {
      "text/plain": [
       "['a//b', 'c//d e//f', '4//5']"
      ]
     },
     "execution_count": 154,
     "metadata": {},
     "output_type": "execute_result"
    }
   ],
   "source": [
    "pat.split(s2)"
   ]
  },
  {
   "cell_type": "code",
   "execution_count": 155,
   "id": "fa98fd52",
   "metadata": {},
   "outputs": [],
   "source": [
    "pat = re.compile(r' +// +')"
   ]
  },
  {
   "cell_type": "code",
   "execution_count": 156,
   "id": "f035b6a6",
   "metadata": {},
   "outputs": [
    {
     "data": {
      "text/plain": [
       "['go there', '\"this', 'that\"']"
      ]
     },
     "execution_count": 156,
     "metadata": {},
     "output_type": "execute_result"
    }
   ],
   "source": [
    "pat.split(s1)"
   ]
  },
  {
   "cell_type": "code",
   "execution_count": 157,
   "id": "4c3f5dcc",
   "metadata": {},
   "outputs": [
    {
     "data": {
      "text/plain": [
       "['a//b', 'c//d e//f', '4//5']"
      ]
     },
     "execution_count": 157,
     "metadata": {},
     "output_type": "execute_result"
    }
   ],
   "source": [
    "pat.split(s2)"
   ]
  },
  {
   "cell_type": "code",
   "execution_count": 158,
   "id": "d1bb1878",
   "metadata": {},
   "outputs": [
    {
     "data": {
      "text/plain": [
       "['42// hi//bye//see', 'carefully']"
      ]
     },
     "execution_count": 158,
     "metadata": {},
     "output_type": "execute_result"
    }
   ],
   "source": [
    "pat.split(s3)"
   ]
  },
  {
   "cell_type": "markdown",
   "id": "fea88fdb",
   "metadata": {},
   "source": [
    "# Working with matched portions"
   ]
  },
  {
   "cell_type": "markdown",
   "id": "26832326",
   "metadata": {},
   "source": [
    "**a)** For the given strings, extract the matching portion from first `is` to last `t`."
   ]
  },
  {
   "cell_type": "markdown",
   "id": "1f3b3b5c",
   "metadata": {},
   "source": [
    "first match to last match "
   ]
  },
  {
   "cell_type": "code",
   "execution_count": 159,
   "id": "5e9d3968",
   "metadata": {},
   "outputs": [],
   "source": [
    "str1 = 'This the biggest fruit you have seen?'\n",
    "str2 = 'Your mission is to read and practice consistently'"
   ]
  },
  {
   "cell_type": "code",
   "execution_count": 160,
   "id": "9fc93ae8",
   "metadata": {},
   "outputs": [],
   "source": [
    "pat = re.compile('(is).*t')"
   ]
  },
  {
   "cell_type": "code",
   "execution_count": 161,
   "id": "1d02193d",
   "metadata": {},
   "outputs": [
    {
     "data": {
      "text/plain": [
       "<re.Match object; span=(2, 22), match='is the biggest fruit'>"
      ]
     },
     "execution_count": 161,
     "metadata": {},
     "output_type": "execute_result"
    }
   ],
   "source": [
    "pat.search(str1)"
   ]
  },
  {
   "cell_type": "code",
   "execution_count": 162,
   "id": "9ccbae7a",
   "metadata": {},
   "outputs": [
    {
     "data": {
      "text/plain": [
       "<re.Match object; span=(6, 47), match='ission is to read and practice consistent'>"
      ]
     },
     "execution_count": 162,
     "metadata": {},
     "output_type": "execute_result"
    }
   ],
   "source": [
    "pat.search(str2)"
   ]
  },
  {
   "cell_type": "markdown",
   "id": "0602371e",
   "metadata": {},
   "source": [
    "**b)** Find the starting index of first occurrence of `is` or `the` or `was` or `to` for the given input strings.\n"
   ]
  },
  {
   "cell_type": "code",
   "execution_count": 163,
   "id": "8dc47fb0",
   "metadata": {},
   "outputs": [],
   "source": [
    "s1 = 'match after the last newline character'\n",
    "s2 = 'and then you want to test'\n",
    "s3 = 'this is good bye then'\n",
    "s4 = 'who was there to see?'"
   ]
  },
  {
   "cell_type": "code",
   "execution_count": 165,
   "id": "74dadc58",
   "metadata": {},
   "outputs": [],
   "source": [
    "pat = re.compile(r'(is|the|was|to)')"
   ]
  },
  {
   "cell_type": "code",
   "execution_count": 166,
   "id": "6310d355",
   "metadata": {},
   "outputs": [
    {
     "data": {
      "text/plain": [
       "12"
      ]
     },
     "execution_count": 166,
     "metadata": {},
     "output_type": "execute_result"
    }
   ],
   "source": [
    "pat.search(s1).start()"
   ]
  },
  {
   "cell_type": "code",
   "execution_count": 167,
   "id": "1ec752a1",
   "metadata": {},
   "outputs": [
    {
     "data": {
      "text/plain": [
       "4"
      ]
     },
     "execution_count": 167,
     "metadata": {},
     "output_type": "execute_result"
    }
   ],
   "source": [
    "pat.search(s2).start()"
   ]
  },
  {
   "cell_type": "code",
   "execution_count": 168,
   "id": "5e35e53c",
   "metadata": {},
   "outputs": [
    {
     "data": {
      "text/plain": [
       "2"
      ]
     },
     "execution_count": 168,
     "metadata": {},
     "output_type": "execute_result"
    }
   ],
   "source": [
    "pat.search(s3).start()"
   ]
  },
  {
   "cell_type": "code",
   "execution_count": 169,
   "id": "670ba487",
   "metadata": {},
   "outputs": [
    {
     "data": {
      "text/plain": [
       "4"
      ]
     },
     "execution_count": 169,
     "metadata": {},
     "output_type": "execute_result"
    }
   ],
   "source": [
    "pat.search(s4).start()"
   ]
  },
  {
   "cell_type": "markdown",
   "id": "daf01ac0",
   "metadata": {},
   "source": [
    "**c)** Find the starting index of last occurrence of `is` or `the` or `was` or `to` for the given input strings."
   ]
  },
  {
   "cell_type": "code",
   "execution_count": 170,
   "id": "8a812bfc",
   "metadata": {},
   "outputs": [],
   "source": [
    "s1 = 'match after the last newline character'\n",
    "s2 = 'and then you want to test'\n",
    "s3 = 'this is good bye then'\n",
    "s4 = 'who was there to see?'"
   ]
  },
  {
   "cell_type": "code",
   "execution_count": 171,
   "id": "b572b2df",
   "metadata": {},
   "outputs": [],
   "source": [
    "pat = re.compile(r'(is|the|was|to)') "
   ]
  },
  {
   "cell_type": "code",
   "execution_count": 172,
   "id": "8df5c6e8",
   "metadata": {},
   "outputs": [
    {
     "data": {
      "text/plain": [
       "15"
      ]
     },
     "execution_count": 172,
     "metadata": {},
     "output_type": "execute_result"
    }
   ],
   "source": [
    "pat.search(s1).end()"
   ]
  },
  {
   "cell_type": "code",
   "execution_count": 173,
   "id": "9f916c45",
   "metadata": {},
   "outputs": [
    {
     "data": {
      "text/plain": [
       "7"
      ]
     },
     "execution_count": 173,
     "metadata": {},
     "output_type": "execute_result"
    }
   ],
   "source": [
    "pat.search(s2).end()"
   ]
  },
  {
   "cell_type": "code",
   "execution_count": 174,
   "id": "8b8d3052",
   "metadata": {},
   "outputs": [
    {
     "data": {
      "text/plain": [
       "4"
      ]
     },
     "execution_count": 174,
     "metadata": {},
     "output_type": "execute_result"
    }
   ],
   "source": [
    "pat.search(s3).end()"
   ]
  },
  {
   "cell_type": "code",
   "execution_count": 175,
   "id": "a214e49e",
   "metadata": {},
   "outputs": [
    {
     "data": {
      "text/plain": [
       "7"
      ]
     },
     "execution_count": 175,
     "metadata": {},
     "output_type": "execute_result"
    }
   ],
   "source": [
    "pat.search(s4).end()"
   ]
  },
  {
   "cell_type": "markdown",
   "id": "c633e397",
   "metadata": {},
   "source": [
    "**d)** The given input string contains `:` exactly once. Extract all characters after the `:` as output."
   ]
  },
  {
   "cell_type": "code",
   "execution_count": 176,
   "id": "f5514257",
   "metadata": {},
   "outputs": [],
   "source": [
    "ip = 'fruits:apple, mango, guava, blueberry'"
   ]
  },
  {
   "cell_type": "code",
   "execution_count": 177,
   "id": "a2b49840",
   "metadata": {},
   "outputs": [
    {
     "name": "stdout",
     "output_type": "stream",
     "text": [
      "<re.Match object; span=(6, 37), match=':apple, mango, guava, blueberry'>\n"
     ]
    }
   ],
   "source": [
    "print(re.search(r':a(.*)', ip))"
   ]
  },
  {
   "cell_type": "code",
   "execution_count": 178,
   "id": "e98f071c",
   "metadata": {},
   "outputs": [
    {
     "data": {
      "text/plain": [
       "':apple, mango, guava, blueberry'"
      ]
     },
     "execution_count": 178,
     "metadata": {},
     "output_type": "execute_result"
    }
   ],
   "source": [
    "re.search(r':a(.*)', ip)[0]\n"
   ]
  },
  {
   "cell_type": "code",
   "execution_count": 179,
   "id": "6f9cbbf5",
   "metadata": {},
   "outputs": [
    {
     "data": {
      "text/plain": [
       "'pple, mango, guava, blueberry'"
      ]
     },
     "execution_count": 179,
     "metadata": {},
     "output_type": "execute_result"
    }
   ],
   "source": [
    "re.search(r':a(.*)', ip)[1]\n",
    "# this will capture only match which is in parentheses "
   ]
  },
  {
   "cell_type": "markdown",
   "id": "9d816aa8",
   "metadata": {},
   "source": [
    "**e)** The given input strings contains some text followed by `-` followed by a number. Replace that number with its `log` value using `math.log()`.\n"
   ]
  },
  {
   "cell_type": "code",
   "execution_count": 180,
   "id": "e1c06c6a",
   "metadata": {},
   "outputs": [],
   "source": [
    "s1 = 'first-3.14'\n",
    "s2 = 'next-123'"
   ]
  },
  {
   "cell_type": "code",
   "execution_count": 181,
   "id": "2c6ed86c",
   "metadata": {},
   "outputs": [],
   "source": [
    "import math"
   ]
  },
  {
   "cell_type": "code",
   "execution_count": 182,
   "id": "2cbc6bd9",
   "metadata": {},
   "outputs": [],
   "source": [
    "\n",
    "pat = re.compile('(\\d+.\\d+)|(\\d+)')"
   ]
  },
  {
   "cell_type": "code",
   "execution_count": 183,
   "id": "8bf7ede2",
   "metadata": {},
   "outputs": [],
   "source": [
    "s1_log = math.log(float(pat.search(s1)[0]))"
   ]
  },
  {
   "cell_type": "code",
   "execution_count": 184,
   "id": "d82b0784",
   "metadata": {},
   "outputs": [],
   "source": [
    "s2_log = math.log(int(pat.search(s2)[0]))"
   ]
  },
  {
   "cell_type": "code",
   "execution_count": 185,
   "id": "90335ad7",
   "metadata": {},
   "outputs": [
    {
     "data": {
      "text/plain": [
       "'first-1.144222799920162'"
      ]
     },
     "execution_count": 185,
     "metadata": {},
     "output_type": "execute_result"
    }
   ],
   "source": [
    "pat.sub(str(s1_log),s1)"
   ]
  },
  {
   "cell_type": "code",
   "execution_count": 186,
   "id": "fe733ac7",
   "metadata": {},
   "outputs": [
    {
     "data": {
      "text/plain": [
       "'next-4.812184355372417'"
      ]
     },
     "execution_count": 186,
     "metadata": {},
     "output_type": "execute_result"
    }
   ],
   "source": [
    "pat.sub(str(s2_log),s2)"
   ]
  },
  {
   "cell_type": "markdown",
   "id": "275bd168",
   "metadata": {},
   "source": [
    "**f)** Replace all occurrences of `par` with `spar`, `spare` with `spare` and `park` with `garden` for the given input strings."
   ]
  },
  {
   "cell_type": "code",
   "execution_count": 187,
   "id": "1c1b1648",
   "metadata": {},
   "outputs": [],
   "source": [
    "str1 = 'apartment has a park'\n",
    "str2 = 'do you have a spare cable'\n",
    "str3 = 'write a parser'"
   ]
  },
  {
   "cell_type": "code",
   "execution_count": 188,
   "id": "d45e08b7",
   "metadata": {},
   "outputs": [
    {
     "data": {
      "text/plain": [
       "'aspartment has a spark'"
      ]
     },
     "execution_count": 188,
     "metadata": {},
     "output_type": "execute_result"
    }
   ],
   "source": [
    "re.sub(r'par','spar',str1)"
   ]
  },
  {
   "cell_type": "code",
   "execution_count": 189,
   "id": "953169c8",
   "metadata": {},
   "outputs": [
    {
     "data": {
      "text/plain": [
       "'do you have a spare cable'"
      ]
     },
     "execution_count": 189,
     "metadata": {},
     "output_type": "execute_result"
    }
   ],
   "source": [
    "re.sub(r'spare','spare',str2)"
   ]
  },
  {
   "cell_type": "code",
   "execution_count": 190,
   "id": "b0d1b149",
   "metadata": {},
   "outputs": [
    {
     "data": {
      "text/plain": [
       "'do you have a spare cable'"
      ]
     },
     "execution_count": 190,
     "metadata": {},
     "output_type": "execute_result"
    }
   ],
   "source": [
    "re.sub(r'park','garden',str2)"
   ]
  },
  {
   "cell_type": "markdown",
   "id": "558f357f",
   "metadata": {},
   "source": [
    "**g)** Extract all words between `(` and `)` from the given input string as a list. Assume that the input will not contain any broken parentheses.\n"
   ]
  },
  {
   "cell_type": "code",
   "execution_count": 191,
   "id": "a4b2b873",
   "metadata": {},
   "outputs": [],
   "source": [
    "ip = 'another (way) to reuse (portion) matched (by) capture groups'"
   ]
  },
  {
   "cell_type": "code",
   "execution_count": 192,
   "id": "9ccfc4d6",
   "metadata": {},
   "outputs": [
    {
     "data": {
      "text/plain": [
       "['way', 'portion', 'by']"
      ]
     },
     "execution_count": 192,
     "metadata": {},
     "output_type": "execute_result"
    }
   ],
   "source": [
    "re.findall('\\(*(\\w+)\\)',ip)"
   ]
  },
  {
   "cell_type": "markdown",
   "id": "287fee44",
   "metadata": {},
   "source": [
    "**h)** Extract all occurrences of `<` up to next occurrence of `>`, provided there is at least one character in between `<` and `>`.\n"
   ]
  },
  {
   "cell_type": "code",
   "execution_count": 199,
   "id": "b75d76b6",
   "metadata": {},
   "outputs": [],
   "source": [
    "ip = 'a<apple> 1<> b<bye> 2<> c<cat>'"
   ]
  },
  {
   "cell_type": "code",
   "execution_count": 204,
   "id": "b675f591",
   "metadata": {},
   "outputs": [
    {
     "data": {
      "text/plain": [
       "['<apple>', '<bye>', '<cat>']"
      ]
     },
     "execution_count": 204,
     "metadata": {},
     "output_type": "execute_result"
    }
   ],
   "source": [
    "re.findall(r'<\\w+?>',ip)"
   ]
  },
  {
   "cell_type": "code",
   "execution_count": 203,
   "id": "316d2b91",
   "metadata": {},
   "outputs": [
    {
     "data": {
      "text/plain": [
       "['<apple>', '<> b<bye>', '<> c<cat>']"
      ]
     },
     "execution_count": 203,
     "metadata": {},
     "output_type": "execute_result"
    }
   ],
   "source": [
    "re.findall(r'<.+?>',ip)"
   ]
  },
  {
   "cell_type": "markdown",
   "id": "7b0b11e8",
   "metadata": {},
   "source": [
    "**i)** Use `re.findall` to get the output as shown below for the given input strings. Note the characters used in the input strings carefully.\n"
   ]
  },
  {
   "cell_type": "code",
   "execution_count": 196,
   "id": "1315206e",
   "metadata": {},
   "outputs": [],
   "source": [
    "row1 = '-2,5 4,+3 +42,-53 4356246,-357532354 '\n",
    "row2 = '1.32,-3.14 634,5.63 63.3e3,9907809345343.235 '"
   ]
  },
  {
   "cell_type": "code",
   "execution_count": 214,
   "id": "2d884404",
   "metadata": {},
   "outputs": [],
   "source": [
    "pat = re.compile(r'(.+?),(.+?)\\s')\n",
    "# created two groups by the bracess \n",
    "#1st group can contain character up to quama(,) \n",
    "#2nd group can contain character next to quama(,)\n",
    "#and this group ends up to next space "
   ]
  },
  {
   "cell_type": "code",
   "execution_count": 215,
   "id": "ad3c6639",
   "metadata": {},
   "outputs": [
    {
     "data": {
      "text/plain": [
       "[('-2', '5'), ('4', '+3'), ('+42', '-53'), ('4356246', '-357532354')]"
      ]
     },
     "execution_count": 215,
     "metadata": {},
     "output_type": "execute_result"
    }
   ],
   "source": [
    "pat.findall(row1)"
   ]
  },
  {
   "cell_type": "code",
   "execution_count": 216,
   "id": "ccc5aa8b",
   "metadata": {},
   "outputs": [
    {
     "data": {
      "text/plain": [
       "[('1.32', '-3.14'), ('634', '5.63'), ('63.3e3', '9907809345343.235')]"
      ]
     },
     "execution_count": 216,
     "metadata": {},
     "output_type": "execute_result"
    }
   ],
   "source": [
    "pat.findall(row2)"
   ]
  },
  {
   "cell_type": "markdown",
   "id": "70291df3",
   "metadata": {},
   "source": [
    "**j)** This is an extension to previous question."
   ]
  },
  {
   "cell_type": "markdown",
   "id": "228921a4",
   "metadata": {},
   "source": [
    "* For `row1`, find the sum of integers of each tuple element. For example, sum of `-2` and `5` is `3`.\n",
    "* For `row2`, find the sum of floating-point numbers of each tuple element. For example, sum of `1.32` and `-3.14` is `-1.82`."
   ]
  },
  {
   "cell_type": "code",
   "execution_count": 266,
   "id": "42ad6a03",
   "metadata": {},
   "outputs": [],
   "source": [
    "row1 = '-2,5 4,+3 +42,-53 4356246,-357532354 '\n",
    "row2 = '1.32,-3.14 634,5.63 63.3e3,9907809345343.235 '"
   ]
  },
  {
   "cell_type": "code",
   "execution_count": 267,
   "id": "1501af76",
   "metadata": {},
   "outputs": [],
   "source": [
    "pat = re.compile(r'(.+?),(.+?)\\x20')"
   ]
  },
  {
   "cell_type": "code",
   "execution_count": 268,
   "id": "befd96d4",
   "metadata": {},
   "outputs": [],
   "source": [
    "row1 = pat.findall(row1)\n",
    "row2 = pat.findall(row2)"
   ]
  },
  {
   "cell_type": "code",
   "execution_count": 269,
   "id": "809a0630",
   "metadata": {},
   "outputs": [
    {
     "data": {
      "text/plain": [
       "[('1.32', '-3.14'), ('634', '5.63'), ('63.3e3', '9907809345343.235')]"
      ]
     },
     "execution_count": 269,
     "metadata": {},
     "output_type": "execute_result"
    }
   ],
   "source": [
    "row2"
   ]
  },
  {
   "cell_type": "code",
   "execution_count": 270,
   "id": "26a6aa29",
   "metadata": {},
   "outputs": [
    {
     "data": {
      "text/plain": [
       "[3, 7, -11, -353176108]"
      ]
     },
     "execution_count": 270,
     "metadata": {},
     "output_type": "execute_result"
    }
   ],
   "source": [
    "[(int(i[0])+int(i[1])) for i in row1]"
   ]
  },
  {
   "cell_type": "code",
   "execution_count": 271,
   "id": "6e31e8d2",
   "metadata": {},
   "outputs": [
    {
     "data": {
      "text/plain": [
       "[-1.82, 639.63, 9907809408643.234]"
      ]
     },
     "execution_count": 271,
     "metadata": {},
     "output_type": "execute_result"
    }
   ],
   "source": [
    "[(float(i[0])+float(i[1])) for i in row2]\n"
   ]
  },
  {
   "cell_type": "markdown",
   "id": "1d6553e6",
   "metadata": {},
   "source": [
    "**k)** Use `re.split` to get the output as shown below."
   ]
  },
  {
   "cell_type": "code",
   "execution_count": 272,
   "id": "ef6e3c91",
   "metadata": {},
   "outputs": [],
   "source": [
    "ip = '42:no-output;1000:car-truck;SQEX49801'"
   ]
  },
  {
   "cell_type": "code",
   "execution_count": 273,
   "id": "0ee5216e",
   "metadata": {},
   "outputs": [
    {
     "data": {
      "text/plain": [
       "['42', 'no', 'output', '1000', 'car', 'truck', 'SQEX49801']"
      ]
     },
     "execution_count": 273,
     "metadata": {},
     "output_type": "execute_result"
    }
   ],
   "source": [
    "re.split(r'[;:-]',ip)"
   ]
  },
  {
   "cell_type": "markdown",
   "id": "f5cc4147",
   "metadata": {},
   "source": [
    "**l)** For the given list of strings, change the elements into a tuple of original element and number of times `t` occurs in that element."
   ]
  },
  {
   "cell_type": "code",
   "execution_count": 274,
   "id": "7684cae9",
   "metadata": {},
   "outputs": [],
   "source": [
    "words = ['sequoia', 'attest', 'tattletale', 'asset']"
   ]
  },
  {
   "cell_type": "code",
   "execution_count": 281,
   "id": "d2c77a26",
   "metadata": {},
   "outputs": [
    {
     "data": {
      "text/plain": [
       "[('sequoia', 0), ('attest', 3), ('tattletale', 4), ('asset', 1)]"
      ]
     },
     "execution_count": 281,
     "metadata": {},
     "output_type": "execute_result"
    }
   ],
   "source": [
    "[re.subn(r't', 't', w) for w in words]\n",
    "# 't' replaced with 't' and also shown how many time it been replace"
   ]
  },
  {
   "cell_type": "markdown",
   "id": "d2fe0229",
   "metadata": {},
   "source": [
    "**m)** The given input string has fields separated by `:`. Each field contains four uppercase alphabets followed optionally by two digits. Ignore the last field, which is empty. See [docs.python: Match.groups](https://docs.python.org/3/library/re.html#re.Match.groups) and use `re.finditer` to get the output as shown below. If the optional digits aren't present, show `'NA'` instead of `None`."
   ]
  },
  {
   "cell_type": "code",
   "execution_count": 282,
   "id": "c0ca79bf",
   "metadata": {},
   "outputs": [],
   "source": [
    "ip = 'TWXA42:JWPA:NTED01:'"
   ]
  },
  {
   "cell_type": "code",
   "execution_count": 288,
   "id": "035f0a41",
   "metadata": {},
   "outputs": [
    {
     "data": {
      "text/plain": [
       "['TWXA42', 'JWPA', 'NTED01', '']"
      ]
     },
     "execution_count": 288,
     "metadata": {},
     "output_type": "execute_result"
    }
   ],
   "source": [
    "re.split(r'[:]',ip)"
   ]
  },
  {
   "cell_type": "code",
   "execution_count": 303,
   "id": "2a7f6814",
   "metadata": {},
   "outputs": [
    {
     "name": "stdout",
     "output_type": "stream",
     "text": [
      "('TWXA', '42')\n",
      "('JWPA', 'NA')\n",
      "('NTED', '01')\n"
     ]
    }
   ],
   "source": [
    "for i in re.finditer(r'(.{4})(..)?:',ip):\n",
    "    print(i.groups(default='NA'))"
   ]
  },
  {
   "cell_type": "markdown",
   "id": "89f40eb5",
   "metadata": {},
   "source": [
    "**Note** that this is different from `re.findall` which will just give empty string instead of `None` when a capture group doesn't participate.\n"
   ]
  },
  {
   "cell_type": "markdown",
   "id": "48f68459",
   "metadata": {},
   "source": [
    "**n)** Convert the comma separated strings to corresponding `dict` objects as shown below."
   ]
  },
  {
   "cell_type": "code",
   "execution_count": 330,
   "id": "7c8d95b1",
   "metadata": {},
   "outputs": [],
   "source": [
    "row1 = 'name:rohan,maths:75,phy:89,'\n",
    "row2 = 'name:rose,maths:88,phy:92,'"
   ]
  },
  {
   "cell_type": "code",
   "execution_count": 331,
   "id": "03d73f45",
   "metadata": {},
   "outputs": [],
   "source": [
    "dict_1 ={} "
   ]
  },
  {
   "cell_type": "code",
   "execution_count": 332,
   "id": "428918b6",
   "metadata": {},
   "outputs": [],
   "source": [
    "for i in re.finditer(r'(.+?):(.+?),',row1):\n",
    "    dict_1[i.groups()[0]] = i.groups()[1]"
   ]
  },
  {
   "cell_type": "code",
   "execution_count": 342,
   "id": "36325655",
   "metadata": {},
   "outputs": [],
   "source": [
    "dict_2= {i.groups()[0]:i.groups()[1] for i in re.finditer(r'(.+?):(.+?),',row1)}"
   ]
  },
  {
   "cell_type": "code",
   "execution_count": 343,
   "id": "b42f2c4a",
   "metadata": {},
   "outputs": [
    {
     "data": {
      "text/plain": [
       "{'name': 'rohan', 'maths': '75', 'phy': '89'}"
      ]
     },
     "execution_count": 343,
     "metadata": {},
     "output_type": "execute_result"
    }
   ],
   "source": [
    "dict_2"
   ]
  },
  {
   "cell_type": "code",
   "execution_count": 321,
   "id": "8dc72d8c",
   "metadata": {},
   "outputs": [
    {
     "data": {
      "text/plain": [
       "{'name:rohan,': 'name', 'maths:75,': 'maths', 'phy:89,': 'phy'}"
      ]
     },
     "execution_count": 321,
     "metadata": {},
     "output_type": "execute_result"
    }
   ],
   "source": [
    "dict_1"
   ]
  },
  {
   "cell_type": "markdown",
   "id": "d06543a1",
   "metadata": {},
   "source": [
    "# Character class"
   ]
  },
  {
   "cell_type": "markdown",
   "id": "b59fc7bb",
   "metadata": {},
   "source": [
    "**a)** For the list `items`, filter all elements starting with `hand` and ending with `s` or `y` or `le`."
   ]
  },
  {
   "cell_type": "code",
   "execution_count": 360,
   "id": "42d3ada4",
   "metadata": {},
   "outputs": [],
   "source": [
    "items = ['-handy', 'hand', 'handy', 'unhand', 'hands', 'handle']"
   ]
  },
  {
   "cell_type": "code",
   "execution_count": 361,
   "id": "3d90263a",
   "metadata": {},
   "outputs": [
    {
     "data": {
      "text/plain": [
       "<re.Match object; span=(0, 0), match=''>"
      ]
     },
     "execution_count": 361,
     "metadata": {},
     "output_type": "execute_result"
    }
   ],
   "source": [
    "re.search('\\Ahand\\Z','hand')"
   ]
  },
  {
   "cell_type": "code",
   "execution_count": 368,
   "id": "96991c89",
   "metadata": {},
   "outputs": [
    {
     "data": {
      "text/plain": [
       "['handy', 'hands', 'handle']"
      ]
     },
     "execution_count": 368,
     "metadata": {},
     "output_type": "execute_result"
    }
   ],
   "source": [
    "[w for w in items if re.search(r'\\Ahand([sy]|le)',w)]"
   ]
  },
  {
   "cell_type": "code",
   "execution_count": 369,
   "id": "8d39463d",
   "metadata": {},
   "outputs": [
    {
     "data": {
      "text/plain": [
       "['handy', 'hands', 'handle']"
      ]
     },
     "execution_count": 369,
     "metadata": {},
     "output_type": "execute_result"
    }
   ],
   "source": [
    "[w for w in items if re.search(r'\\Ahand.*(s|y|le)',w)]"
   ]
  },
  {
   "cell_type": "code",
   "execution_count": 362,
   "id": "96b67bf3",
   "metadata": {},
   "outputs": [
    {
     "data": {
      "text/plain": [
       "['handy', 'hands', 'handle']"
      ]
     },
     "execution_count": 362,
     "metadata": {},
     "output_type": "execute_result"
    }
   ],
   "source": [
    "[w for w in items if re.fullmatch(r'hand([sy]|le)', w)]"
   ]
  },
  {
   "cell_type": "markdown",
   "id": "9a66ccdb",
   "metadata": {},
   "source": [
    "**b)** Replace all whole words `reed` or `read` or `red` with `X`"
   ]
  },
  {
   "cell_type": "code",
   "execution_count": 370,
   "id": "ca4da130",
   "metadata": {},
   "outputs": [],
   "source": [
    "ip = 'redo red credible :read: rod reed'"
   ]
  },
  {
   "cell_type": "code",
   "execution_count": 385,
   "id": "875fd709",
   "metadata": {},
   "outputs": [
    {
     "data": {
      "text/plain": [
       "'redo X credible :X: rod X'"
      ]
     },
     "execution_count": 385,
     "metadata": {},
     "output_type": "execute_result"
    }
   ],
   "source": [
    "re.sub(r'\\b(reed|red|read)\\b','X',ip)"
   ]
  },
  {
   "cell_type": "code",
   "execution_count": 384,
   "id": "3e7789f9",
   "metadata": {},
   "outputs": [
    {
     "data": {
      "text/plain": [
       "'redo X credible :X: rod X'"
      ]
     },
     "execution_count": 384,
     "metadata": {},
     "output_type": "execute_result"
    }
   ],
   "source": [
    "re.sub(r'\\bre[ae]?d\\b',\"X\",ip)"
   ]
  },
  {
   "cell_type": "markdown",
   "id": "9d1d1634",
   "metadata": {},
   "source": [
    "**c)** For the list `words`, filter all elements containing `e` or `i` followed by `l` or `n`. Note that the order mentioned should be followed.\n"
   ]
  },
  {
   "cell_type": "code",
   "execution_count": 386,
   "id": "633ac2b9",
   "metadata": {},
   "outputs": [],
   "source": [
    "words = ['surrender', 'unicorn', 'newer', 'door', 'empty', 'eel', 'pest']"
   ]
  },
  {
   "cell_type": "code",
   "execution_count": 390,
   "id": "9afe7932",
   "metadata": {},
   "outputs": [
    {
     "data": {
      "text/plain": [
       "['surrender', 'unicorn', 'eel']"
      ]
     },
     "execution_count": 390,
     "metadata": {},
     "output_type": "execute_result"
    }
   ],
   "source": [
    "[w for w in words if re.search('[ei].*[ln]',w)]"
   ]
  },
  {
   "cell_type": "markdown",
   "id": "98e42844",
   "metadata": {},
   "source": [
    "**d)** For the list `words`, filter all elements containing `e` or `i` and `l` or `n` in any order."
   ]
  },
  {
   "cell_type": "code",
   "execution_count": 391,
   "id": "d35f2fe3",
   "metadata": {},
   "outputs": [],
   "source": [
    "words = ['surrender', 'unicorn', 'newer', 'door', 'empty', 'eel', 'pest']\n"
   ]
  },
  {
   "cell_type": "code",
   "execution_count": 396,
   "id": "f99fdc58",
   "metadata": {},
   "outputs": [
    {
     "data": {
      "text/plain": [
       "['surrender', 'unicorn', 'newer', 'eel']"
      ]
     },
     "execution_count": 396,
     "metadata": {},
     "output_type": "execute_result"
    }
   ],
   "source": [
    "[w for w in words if re.search(r'[ei].*[ln]|[ln].*[ei]',w)]"
   ]
  },
  {
   "cell_type": "markdown",
   "id": "f11a2b89",
   "metadata": {},
   "source": [
    "**e)** Extract all hex character sequences, with `0x` optional prefix. Match the characters case insensitively, and the sequences shouldn't be surrounded by other word characters."
   ]
  },
  {
   "cell_type": "code",
   "execution_count": 398,
   "id": "493e3165",
   "metadata": {},
   "outputs": [],
   "source": [
    "str1 = '128A foo 0xfe32 34 0xbar'\n",
    "str2 = '0XDEADBEEF place 0x0ff1ce bad'\n"
   ]
  },
  {
   "cell_type": "code",
   "execution_count": 399,
   "id": "44bb07cf",
   "metadata": {},
   "outputs": [],
   "source": [
    "pat= re.compile(r'\\b(0x)?[\\da-f]+\\b')"
   ]
  },
  {
   "cell_type": "code",
   "execution_count": 401,
   "id": "901fd606",
   "metadata": {},
   "outputs": [],
   "source": [
    "hex_seq = re.compile(r'\\b(0x)?[\\da-f]+\\b', flags=re.I)"
   ]
  },
  {
   "cell_type": "code",
   "execution_count": 403,
   "id": "2a2117a8",
   "metadata": {},
   "outputs": [
    {
     "data": {
      "text/plain": [
       "['128A', '0xfe32', '34']"
      ]
     },
     "execution_count": 403,
     "metadata": {},
     "output_type": "execute_result"
    }
   ],
   "source": [
    "[w[0] for w in hex_seq.finditer(str1)]"
   ]
  },
  {
   "cell_type": "code",
   "execution_count": 404,
   "id": "654049aa",
   "metadata": {},
   "outputs": [
    {
     "data": {
      "text/plain": [
       "['0XDEADBEEF', '0x0ff1ce', 'bad']"
      ]
     },
     "execution_count": 404,
     "metadata": {},
     "output_type": "execute_result"
    }
   ],
   "source": [
    "[w[0] for w in hex_seq.finditer(str2)]"
   ]
  },
  {
   "cell_type": "markdown",
   "id": "d477febd",
   "metadata": {},
   "source": [
    "**f)** Delete from `(` to the next occurrence of `)` unless they contain parentheses characters in between."
   ]
  },
  {
   "cell_type": "code",
   "execution_count": 405,
   "id": "4e3d5114",
   "metadata": {},
   "outputs": [],
   "source": [
    "str1 = 'def factorial()'\n",
    "str2 = 'a/b(division) + c%d(#modulo) - (e+(j/k-3)*4)'\n",
    "str3 = 'Hi there(greeting). Nice day(a(b)'"
   ]
  },
  {
   "cell_type": "code",
   "execution_count": 422,
   "id": "9c660efa",
   "metadata": {},
   "outputs": [],
   "source": [
    "remove_parentheses = re.compile(r'\\([^()]*\\)') "
   ]
  },
  {
   "cell_type": "code",
   "execution_count": 423,
   "id": "b4b4ea3b",
   "metadata": {},
   "outputs": [
    {
     "data": {
      "text/plain": [
       "'def factorial'"
      ]
     },
     "execution_count": 423,
     "metadata": {},
     "output_type": "execute_result"
    }
   ],
   "source": [
    "remove_parentheses.sub('',str1)"
   ]
  },
  {
   "cell_type": "code",
   "execution_count": 420,
   "id": "c8606371",
   "metadata": {},
   "outputs": [
    {
     "data": {
      "text/plain": [
       "'a/b + c%d - *4)'"
      ]
     },
     "execution_count": 420,
     "metadata": {},
     "output_type": "execute_result"
    }
   ],
   "source": [
    "remove_parentheses.sub('',str2)"
   ]
  },
  {
   "cell_type": "code",
   "execution_count": 424,
   "id": "b2697c44",
   "metadata": {},
   "outputs": [
    {
     "data": {
      "text/plain": [
       "'Hi there. Nice day(a'"
      ]
     },
     "execution_count": 424,
     "metadata": {},
     "output_type": "execute_result"
    }
   ],
   "source": [
    "remove_parentheses.sub('',str3)"
   ]
  },
  {
   "cell_type": "markdown",
   "id": "f233e13f",
   "metadata": {},
   "source": [
    "**g)** For the list `words`, filter all elements not starting with `e` or `p` or `u`."
   ]
  },
  {
   "cell_type": "code",
   "execution_count": 425,
   "id": "8459b9c5",
   "metadata": {},
   "outputs": [],
   "source": [
    "words = ['surrender', 'unicorn', 'newer', 'door', 'empty', 'eel', 'pest']"
   ]
  },
  {
   "cell_type": "code",
   "execution_count": 427,
   "id": "bf7e4af3",
   "metadata": {},
   "outputs": [
    {
     "data": {
      "text/plain": [
       "['surrender', 'newer', 'door']"
      ]
     },
     "execution_count": 427,
     "metadata": {},
     "output_type": "execute_result"
    }
   ],
   "source": [
    "[i for i in words if re.search(r'^[^epu]', i)]"
   ]
  },
  {
   "cell_type": "code",
   "execution_count": 428,
   "id": "fb8bbb79",
   "metadata": {},
   "outputs": [
    {
     "data": {
      "text/plain": [
       "['surrender', 'newer', 'door']"
      ]
     },
     "execution_count": 428,
     "metadata": {},
     "output_type": "execute_result"
    }
   ],
   "source": [
    "[i for i in words if re.search(r'\\A[^epu]', i)]"
   ]
  },
  {
   "cell_type": "markdown",
   "id": "e446bf77",
   "metadata": {},
   "source": [
    "**h)** For the list `words`, filter all elements not containing `u` or `w` or `ee` or `-`."
   ]
  },
  {
   "cell_type": "code",
   "execution_count": 429,
   "id": "8e199ae6",
   "metadata": {},
   "outputs": [],
   "source": [
    "words = ['p-t', 'you', 'tea', 'heel', 'owe', 'new', 'reed', 'ear']\n"
   ]
  },
  {
   "cell_type": "code",
   "execution_count": 435,
   "id": "638efe20",
   "metadata": {},
   "outputs": [
    {
     "data": {
      "text/plain": [
       "['tea', 'ear']"
      ]
     },
     "execution_count": 435,
     "metadata": {},
     "output_type": "execute_result"
    }
   ],
   "source": [
    "[i for i in words if not re.search(r'[uw-]|ee', i)]"
   ]
  },
  {
   "cell_type": "markdown",
   "id": "66a9b754",
   "metadata": {},
   "source": [
    "**i)** The given input strings contain fields separated by `,` and fields can be empty too. Replace last three fields with `WHTSZ323`.\n"
   ]
  },
  {
   "cell_type": "code",
   "execution_count": 436,
   "id": "24cf6d8b",
   "metadata": {},
   "outputs": [],
   "source": [
    "row1 = '(2),kite,12,,D,C,,'\n",
    "row2 = 'hi,bye,sun,moon'"
   ]
  },
  {
   "cell_type": "code",
   "execution_count": 466,
   "id": "d9ffdd87",
   "metadata": {},
   "outputs": [],
   "source": [
    "pat = re.compile(r'(,[^,]*){3}\\Z')"
   ]
  },
  {
   "cell_type": "code",
   "execution_count": 469,
   "id": "c787337a",
   "metadata": {},
   "outputs": [
    {
     "data": {
      "text/plain": [
       "'(2),kite,12,,D,WHTSZ323'"
      ]
     },
     "execution_count": 469,
     "metadata": {},
     "output_type": "execute_result"
    }
   ],
   "source": [
    "pat.sub(',WHTSZ323',row1)"
   ]
  },
  {
   "cell_type": "code",
   "execution_count": 470,
   "id": "4c5f34fc",
   "metadata": {},
   "outputs": [
    {
     "data": {
      "text/plain": [
       "'hi,WHTSZ323'"
      ]
     },
     "execution_count": 470,
     "metadata": {},
     "output_type": "execute_result"
    }
   ],
   "source": [
    "pat.sub(',WHTSZ323',row2)"
   ]
  },
  {
   "cell_type": "markdown",
   "id": "0366c176",
   "metadata": {},
   "source": [
    "**j)** Split the given strings based on consecutive sequence of digit or whitespace characters."
   ]
  },
  {
   "cell_type": "code",
   "execution_count": 478,
   "id": "239b4979",
   "metadata": {},
   "outputs": [],
   "source": [
    "str1 = 'lion \\t Ink32onion Nice'\n",
    "str2 = '**1\\f2\\n3star\\t7 77\\r**'"
   ]
  },
  {
   "cell_type": "code",
   "execution_count": 479,
   "id": "caa6bb63",
   "metadata": {},
   "outputs": [],
   "source": [
    "pat = re.compile('[\\d\\s]+')\n"
   ]
  },
  {
   "cell_type": "code",
   "execution_count": 481,
   "id": "1fe42806",
   "metadata": {},
   "outputs": [
    {
     "data": {
      "text/plain": [
       "['lion', 'Ink', 'onion', 'Nice']"
      ]
     },
     "execution_count": 481,
     "metadata": {},
     "output_type": "execute_result"
    }
   ],
   "source": [
    "pat.split(str1)"
   ]
  },
  {
   "cell_type": "code",
   "execution_count": 482,
   "id": "0b5e9625",
   "metadata": {},
   "outputs": [
    {
     "data": {
      "text/plain": [
       "['**', 'star', '**']"
      ]
     },
     "execution_count": 482,
     "metadata": {},
     "output_type": "execute_result"
    }
   ],
   "source": [
    "pat.split(str2)"
   ]
  },
  {
   "cell_type": "markdown",
   "id": "d4de12ed",
   "metadata": {},
   "source": [
    "**k)** Delete all occurrences of the sequence `<characters>` where `characters` is one or more non `>` characters and cannot be empty.\n"
   ]
  },
  {
   "cell_type": "code",
   "execution_count": 483,
   "id": "070178af",
   "metadata": {},
   "outputs": [],
   "source": [
    "ip = 'a<apple> 1<> b<bye> 2<> c<cat>'"
   ]
  },
  {
   "cell_type": "code",
   "execution_count": 503,
   "id": "10ee4392",
   "metadata": {},
   "outputs": [
    {
     "data": {
      "text/plain": [
       "'a 1<> b 2<> c'"
      ]
     },
     "execution_count": 503,
     "metadata": {},
     "output_type": "execute_result"
    }
   ],
   "source": [
    "re.sub(r'<[a-z]+>','',ip)"
   ]
  },
  {
   "cell_type": "code",
   "execution_count": 504,
   "id": "27ad6321",
   "metadata": {},
   "outputs": [
    {
     "data": {
      "text/plain": [
       "'a 1<> b 2<> c'"
      ]
     },
     "execution_count": 504,
     "metadata": {},
     "output_type": "execute_result"
    }
   ],
   "source": [
    "re.sub(r'<[^>]+>','',ip)"
   ]
  },
  {
   "cell_type": "code",
   "execution_count": 505,
   "id": "f6ccbbdb",
   "metadata": {},
   "outputs": [
    {
     "data": {
      "text/plain": [
       "'a 1<> b 2<> c'"
      ]
     },
     "execution_count": 505,
     "metadata": {},
     "output_type": "execute_result"
    }
   ],
   "source": [
    "re.sub(r'<\\w+>','',ip)"
   ]
  },
  {
   "cell_type": "markdown",
   "id": "432386e5",
   "metadata": {},
   "source": [
    "**l)** `\\b[a-z](on|no)[a-z]\\b` is same as `\\b[a-z][on]{2}[a-z]\\b`. True or False? Sample input lines shown below might help to understand the differences, if any."
   ]
  },
  {
   "cell_type": "markdown",
   "id": "0953d7f8",
   "metadata": {},
   "source": [
    "False. `[on]{2}` will also match oo and nn"
   ]
  },
  {
   "cell_type": "code",
   "execution_count": 506,
   "id": "9f7a388d",
   "metadata": {},
   "outputs": [
    {
     "name": "stdout",
     "output_type": "stream",
     "text": [
      "known\n",
      "mood\n",
      "know\n",
      "pony\n",
      "inns\n"
     ]
    }
   ],
   "source": [
    "print('known\\nmood\\nknow\\npony\\ninns')"
   ]
  },
  {
   "cell_type": "markdown",
   "id": "da3c6751",
   "metadata": {},
   "source": [
    "**m)** For the given list, filter all elements containing any number sequence greater than `624`."
   ]
  },
  {
   "cell_type": "code",
   "execution_count": 508,
   "id": "2a51abe0",
   "metadata": {},
   "outputs": [],
   "source": [
    "items = ['hi0000432abcd', 'car00625', '42_624 0512', '3.14 96 2 foo1234baz']"
   ]
  },
  {
   "cell_type": "code",
   "execution_count": 509,
   "id": "5c86813c",
   "metadata": {},
   "outputs": [
    {
     "data": {
      "text/plain": [
       "['car00625', '3.14 96 2 foo1234baz']"
      ]
     },
     "execution_count": 509,
     "metadata": {},
     "output_type": "execute_result"
    }
   ],
   "source": [
    "[e for e in items if any(int(m[0])>624 for m in re.finditer(r'\\d+', e))]"
   ]
  },
  {
   "cell_type": "markdown",
   "id": "401815f3",
   "metadata": {},
   "source": [
    "**n)** Count the maximum depth of nested braces for the given strings. Unbalanced or wrongly ordered braces should return `-1`. Note that this will require a mix of regular expressions and Python code."
   ]
  },
  {
   "cell_type": "markdown",
   "id": "a2a300bf",
   "metadata": {},
   "source": [
    "**o)** By default, `str.split` method will split on whitespace and remove empty strings from the result. Which `re` module function would you use to replicate this functionality?\n"
   ]
  },
  {
   "cell_type": "markdown",
   "id": "413577e6",
   "metadata": {},
   "source": [
    "## `\\t` and `\\n`"
   ]
  },
  {
   "cell_type": "code",
   "execution_count": 517,
   "id": "9da6a803",
   "metadata": {},
   "outputs": [],
   "source": [
    "ip = ' \\t\\r  so  pole\\t\\t\\t\\n\\nlit in to \\r\\n\\v\\f  '"
   ]
  },
  {
   "cell_type": "markdown",
   "id": "90d150d3",
   "metadata": {},
   "source": [
    "`\\t` =  white space and `\\n` = new line"
   ]
  },
  {
   "cell_type": "code",
   "execution_count": 518,
   "id": "5475054b",
   "metadata": {},
   "outputs": [
    {
     "data": {
      "text/plain": [
       "['so', 'pole', 'lit', 'in', 'to']"
      ]
     },
     "execution_count": 518,
     "metadata": {},
     "output_type": "execute_result"
    }
   ],
   "source": [
    "ip.split()"
   ]
  },
  {
   "cell_type": "code",
   "execution_count": 520,
   "id": "21532906",
   "metadata": {},
   "outputs": [
    {
     "data": {
      "text/plain": [
       "['so', 'pole', 'lit', 'in', 'to']"
      ]
     },
     "execution_count": 520,
     "metadata": {},
     "output_type": "execute_result"
    }
   ],
   "source": [
    "re.findall(r'\\S+', ip)"
   ]
  },
  {
   "cell_type": "markdown",
   "id": "138fe9e1",
   "metadata": {},
   "source": [
    "\n",
    "**p)** Convert the given input string to two different lists as shown below."
   ]
  },
  {
   "cell_type": "markdown",
   "id": "d2404b46",
   "metadata": {},
   "source": [
    "## `\\W` \n",
    "## `(\\W)`"
   ]
  },
  {
   "cell_type": "code",
   "execution_count": 526,
   "id": "5b263628",
   "metadata": {},
   "outputs": [],
   "source": [
    "ip = 'price_42 roast^\\t\\n^-ice==cat\\neast'"
   ]
  },
  {
   "cell_type": "code",
   "execution_count": 528,
   "id": "8a96df14",
   "metadata": {},
   "outputs": [
    {
     "data": {
      "text/plain": [
       "['price_42', 'roast', 'ice', 'cat', 'east']"
      ]
     },
     "execution_count": 528,
     "metadata": {},
     "output_type": "execute_result"
    }
   ],
   "source": [
    "re.split(r'\\W+',ip)"
   ]
  },
  {
   "cell_type": "code",
   "execution_count": 530,
   "id": "0aa38c78",
   "metadata": {},
   "outputs": [
    {
     "data": {
      "text/plain": [
       "['price_42', ' ', 'roast', '^\\t\\n^-', 'ice', '==', 'cat', '\\n', 'east']"
      ]
     },
     "execution_count": 530,
     "metadata": {},
     "output_type": "execute_result"
    }
   ],
   "source": [
    "re.split(r'(\\W+)',ip)"
   ]
  },
  {
   "cell_type": "markdown",
   "id": "50120590",
   "metadata": {},
   "source": [
    "**q)** Filter all elements whose first non-whitespace character is not a `#` character. Any element made up of only whitespace characters should be ignored as well."
   ]
  },
  {
   "cell_type": "code",
   "execution_count": 532,
   "id": "0df05a35",
   "metadata": {},
   "outputs": [],
   "source": [
    "items = ['    #comment', '\\t\\napple #42', '#oops', 'sure', 'no#1', '\\t\\r\\f']"
   ]
  },
  {
   "cell_type": "code",
   "execution_count": 533,
   "id": "adce4bab",
   "metadata": {},
   "outputs": [
    {
     "data": {
      "text/plain": [
       "['\\t\\napple #42', 'sure', 'no#1']"
      ]
     },
     "execution_count": 533,
     "metadata": {},
     "output_type": "execute_result"
    }
   ],
   "source": [
    "[e for e in items if re.search(r'\\A\\s*[^#\\s]', e)]"
   ]
  },
  {
   "cell_type": "markdown",
   "id": "f8c22e44",
   "metadata": {},
   "source": [
    "# Groupings and backreferences\n",
    "IMP"
   ]
  },
  {
   "cell_type": "markdown",
   "id": "b24d642e",
   "metadata": {},
   "source": [
    "**a)** Replace the space character that occurs after a word ending with `a` or `r` with a newline character."
   ]
  },
  {
   "cell_type": "code",
   "execution_count": 534,
   "id": "697fc458",
   "metadata": {},
   "outputs": [],
   "source": [
    "ip = 'area not a _a2_ roar took 22'"
   ]
  },
  {
   "cell_type": "code",
   "execution_count": 535,
   "id": "59bcb28b",
   "metadata": {},
   "outputs": [
    {
     "name": "stdout",
     "output_type": "stream",
     "text": [
      "area\n",
      "not a\n",
      "_a2_ roar\n",
      "took 22\n"
     ]
    }
   ],
   "source": [
    "print(re.sub(r'([ar]) ', r'\\1\\n', ip))"
   ]
  },
  {
   "cell_type": "markdown",
   "id": "0fba2acb",
   "metadata": {},
   "source": [
    "**b)** Add `[]` around words starting with `s` and containing `e` and `t` in any order."
   ]
  },
  {
   "cell_type": "code",
   "execution_count": 536,
   "id": "db102354",
   "metadata": {},
   "outputs": [],
   "source": [
    "ip = 'sequoia subtle exhibit asset sets tests site'"
   ]
  },
  {
   "cell_type": "code",
   "execution_count": 543,
   "id": "fcf24eb8",
   "metadata": {},
   "outputs": [
    {
     "data": {
      "text/plain": [
       "'sequoia [subtle] exhibit asset [sets] tests [site]'"
      ]
     },
     "execution_count": 543,
     "metadata": {},
     "output_type": "execute_result"
    }
   ],
   "source": [
    "re.sub(r'\\bs\\w*(e\\w*t|t\\w*e)\\w*','[\\g<0>]', ip)"
   ]
  },
  {
   "cell_type": "markdown",
   "id": "08258078",
   "metadata": {},
   "source": [
    "**c)** Replace all whole words with `X` that start and end with the same word character. Single character word should get replaced with `X` too, as it satisfies the stated condition.\n"
   ]
  },
  {
   "cell_type": "code",
   "execution_count": 544,
   "id": "dcda6832",
   "metadata": {},
   "outputs": [],
   "source": [
    "ip = 'oreo not a _a2_ roar took 22'"
   ]
  },
  {
   "cell_type": "code",
   "execution_count": 556,
   "id": "bc8f8782",
   "metadata": {},
   "outputs": [
    {
     "data": {
      "text/plain": [
       "'X not X X X took X'"
      ]
     },
     "execution_count": 556,
     "metadata": {},
     "output_type": "execute_result"
    }
   ],
   "source": [
    "re.sub(r'\\b(\\w|(\\w)\\w*\\2)\\b', 'X', ip)"
   ]
  },
  {
   "cell_type": "markdown",
   "id": "36d1fc11",
   "metadata": {},
   "source": [
    "**d)** Convert the given **markdown** headers to corresponding **anchor** tag. Consider the input to start with one or more `#` characters followed by space and word characters. The `name` attribute is constructed by converting the header to lowercase and replacing spaces with hyphens. Can you do it without using a capture group?"
   ]
  },
  {
   "cell_type": "code",
   "execution_count": 558,
   "id": "1d1c53ba",
   "metadata": {},
   "outputs": [],
   "source": [
    "header1 = '# Regular Expressions'\n",
    "header2 = '## Compiling regular expressions'"
   ]
  },
  {
   "cell_type": "code",
   "execution_count": 559,
   "id": "2ee0c11f",
   "metadata": {},
   "outputs": [],
   "source": [
    "##### add your solution here for header1\n",
    "# <a name=\"regular-expressions\"></a>Regular Expressions'\n",
    "##### add your solution here for header2\n",
    "## <a name=\"compiling-regular-expressions\"></a>Compiling regular expressions'"
   ]
  },
  {
   "cell_type": "markdown",
   "id": "d3bfa0cd",
   "metadata": {},
   "source": [
    "**e)** Convert the given **markdown** anchors to corresponding **hyperlinks**."
   ]
  },
  {
   "cell_type": "code",
   "execution_count": 561,
   "id": "f5498641",
   "metadata": {},
   "outputs": [],
   "source": [
    "anchor1 = '# <a name=\"regular-expressions\"></a>Regular Expressions'\n",
    "anchor2 = '## <a name=\"subexpression-calls\"></a>Subexpression calls'"
   ]
  },
  {
   "cell_type": "code",
   "execution_count": 564,
   "id": "0235be08",
   "metadata": {},
   "outputs": [],
   "source": [
    "hyperlink = re.compile(r'[^\"]+\"([^\"]+)\"></a>(.+)')"
   ]
  },
  {
   "cell_type": "code",
   "execution_count": 566,
   "id": "63e334a1",
   "metadata": {},
   "outputs": [
    {
     "data": {
      "text/plain": [
       "'[regular-expressions](Regular Expressions)'"
      ]
     },
     "execution_count": 566,
     "metadata": {},
     "output_type": "execute_result"
    }
   ],
   "source": [
    "hyperlink.sub(r'[\\g<1>](\\g<2>)',anchor1)"
   ]
  },
  {
   "cell_type": "code",
   "execution_count": 567,
   "id": "069d701a",
   "metadata": {},
   "outputs": [
    {
     "data": {
      "text/plain": [
       "'[subexpression-calls](Subexpression calls)'"
      ]
     },
     "execution_count": 567,
     "metadata": {},
     "output_type": "execute_result"
    }
   ],
   "source": [
    "hyperlink.sub(r'[\\g<1>](\\g<2>)',anchor2)"
   ]
  },
  {
   "cell_type": "markdown",
   "id": "c98e1573",
   "metadata": {},
   "source": [
    "## `\\2`\n",
    "backpreference"
   ]
  },
  {
   "cell_type": "markdown",
   "id": "13591038",
   "metadata": {},
   "source": [
    "**f)** Count the number of whole words that have at least two occurrences of consecutive repeated alphabets. For example, words like `stillness` and `Committee` should be counted but not words like `root` or `readable` or `rotational`."
   ]
  },
  {
   "cell_type": "code",
   "execution_count": 568,
   "id": "486a40f3",
   "metadata": {},
   "outputs": [],
   "source": [
    "ip = '''oppressed abandon accommodation bloodless\n",
    "carelessness committed apparition innkeeper\n",
    "occasionally afforded embarrassment foolishness\n",
    "depended successfully succeeded\n",
    "possession cleanliness suppress'''"
   ]
  },
  {
   "cell_type": "code",
   "execution_count": 570,
   "id": "00c93cdb",
   "metadata": {},
   "outputs": [
    {
     "data": {
      "text/plain": [
       "13"
      ]
     },
     "execution_count": 570,
     "metadata": {},
     "output_type": "execute_result"
    }
   ],
   "source": [
    "len(re.findall(r'\\b(\\w*(\\w)\\2){2}\\w*\\b', ip))"
   ]
  },
  {
   "cell_type": "code",
   "execution_count": null,
   "id": "70405845",
   "metadata": {},
   "outputs": [],
   "source": []
  },
  {
   "cell_type": "markdown",
   "id": "1c951e58",
   "metadata": {},
   "source": [
    "## reapating sequence"
   ]
  },
  {
   "cell_type": "markdown",
   "id": "453f9d7f",
   "metadata": {},
   "source": [
    "**g)** For the given input string, replace all occurrences of digit sequences with only the unique non-repeating sequence. For example, `232323` should be changed to `23` and `897897` should be changed to `897`. If there no repeats (for example `1234`) or if the repeats end prematurely (for example `12121`), it should not be changed."
   ]
  },
  {
   "cell_type": "code",
   "execution_count": 572,
   "id": "b4973511",
   "metadata": {},
   "outputs": [],
   "source": [
    "ip = '1234 2323 453545354535 9339 11 60260260'"
   ]
  },
  {
   "cell_type": "markdown",
   "id": "e989c7e7",
   "metadata": {},
   "source": [
    "## \\1\n",
    "backpreference"
   ]
  },
  {
   "cell_type": "code",
   "execution_count": 574,
   "id": "d13a64b6",
   "metadata": {},
   "outputs": [
    {
     "data": {
      "text/plain": [
       "'1234 23 4535 9339 1 60260260'"
      ]
     },
     "execution_count": 574,
     "metadata": {},
     "output_type": "execute_result"
    }
   ],
   "source": [
    "re.sub(r'\\b(\\d+)\\1+\\b', r'\\1', ip)\n",
    "# (\\d+) that group given reference as a 1"
   ]
  },
  {
   "cell_type": "markdown",
   "id": "2be37302",
   "metadata": {},
   "source": [
    "**h)** Replace sequences made up of words separated by `:` or `.` by the first word of the sequence. Such sequences will end when `:` or `.` is not followed by a word character.\n"
   ]
  },
  {
   "cell_type": "code",
   "execution_count": 576,
   "id": "bf83ff22",
   "metadata": {},
   "outputs": [],
   "source": [
    "ip = 'wow:Good:2_two:five: hi-2 bye kite.777.water.'"
   ]
  },
  {
   "cell_type": "code",
   "execution_count": 577,
   "id": "8d1f57c9",
   "metadata": {},
   "outputs": [
    {
     "data": {
      "text/plain": [
       "'wow hi-2 bye kite'"
      ]
     },
     "execution_count": 577,
     "metadata": {},
     "output_type": "execute_result"
    }
   ],
   "source": [
    "re.sub(r'(\\w+)[:.](\\w+[:.])+', r'\\1', ip)"
   ]
  },
  {
   "cell_type": "markdown",
   "id": "9aa85bb6",
   "metadata": {},
   "source": [
    "**i)** Replace sequences made up of words separated by `:` or `.` by the last word of the sequence. Such sequences will end when `:` or `.` is not followed by a word character.\n"
   ]
  },
  {
   "cell_type": "code",
   "execution_count": 578,
   "id": "44907851",
   "metadata": {},
   "outputs": [],
   "source": [
    "ip = 'wow:Good:2_two:five: hi-2 bye kite.777.water.'"
   ]
  },
  {
   "cell_type": "code",
   "execution_count": 579,
   "id": "5e33de31",
   "metadata": {},
   "outputs": [
    {
     "data": {
      "text/plain": [
       "'five hi-2 bye water'"
      ]
     },
     "execution_count": 579,
     "metadata": {},
     "output_type": "execute_result"
    }
   ],
   "source": [
    "re.sub(r'((\\w+)[:.])+', r'\\2', ip)"
   ]
  },
  {
   "cell_type": "markdown",
   "id": "702878c1",
   "metadata": {},
   "source": [
    "**j)** Split the given input string on one or more repeated sequence of `cat`."
   ]
  },
  {
   "cell_type": "code",
   "execution_count": 580,
   "id": "34b1ec30",
   "metadata": {},
   "outputs": [],
   "source": [
    "ip = 'firecatlioncatcatcatbearcatcatparrot'\n"
   ]
  },
  {
   "cell_type": "code",
   "execution_count": 581,
   "id": "06d50129",
   "metadata": {},
   "outputs": [
    {
     "data": {
      "text/plain": [
       "['fire', 'cat', 'lion', 'cat', 'bear', 'cat', 'parrot']"
      ]
     },
     "execution_count": 581,
     "metadata": {},
     "output_type": "execute_result"
    }
   ],
   "source": [
    "re.split(r'(cat)+',ip )"
   ]
  },
  {
   "cell_type": "markdown",
   "id": "8c9c5b3e",
   "metadata": {},
   "source": [
    "## `(?:<regex>)`\n",
    "Creates a non-capturing group."
   ]
  },
  {
   "cell_type": "code",
   "execution_count": 582,
   "id": "5f794483",
   "metadata": {},
   "outputs": [
    {
     "data": {
      "text/plain": [
       "['fire', 'lion', 'bear', 'parrot']"
      ]
     },
     "execution_count": 582,
     "metadata": {},
     "output_type": "execute_result"
    }
   ],
   "source": [
    "re.split(r'(?:cat)+', ip)"
   ]
  },
  {
   "cell_type": "markdown",
   "id": "e8015a5a",
   "metadata": {},
   "source": [
    "**k)** For the given input string, find all occurrences of digit sequences with at least one repeating sequence. For example, `232323` and `897897`. If the repeats end prematurely, for example `12121`, it should not be matched.\n",
    "\n",
    "```ruby"
   ]
  },
  {
   "cell_type": "code",
   "execution_count": 583,
   "id": "274ed96e",
   "metadata": {},
   "outputs": [],
   "source": [
    "ip = '1234 2323 453545354535 9339 11 60260260'"
   ]
  },
  {
   "cell_type": "code",
   "execution_count": 584,
   "id": "21e2afc8",
   "metadata": {},
   "outputs": [],
   "source": [
    "pat = re.compile(r'\\b(\\d+)\\1+\\b')\n"
   ]
  },
  {
   "cell_type": "code",
   "execution_count": 585,
   "id": "f7e695c3",
   "metadata": {},
   "outputs": [
    {
     "data": {
      "text/plain": [
       "['2323', '453545354535', '11']"
      ]
     },
     "execution_count": 585,
     "metadata": {},
     "output_type": "execute_result"
    }
   ],
   "source": [
    "[m[0] for m in pat.finditer(ip)]"
   ]
  },
  {
   "cell_type": "code",
   "execution_count": 586,
   "id": "fcb261d7",
   "metadata": {},
   "outputs": [
    {
     "data": {
      "text/plain": [
       "['23', '4535', '1']"
      ]
     },
     "execution_count": 586,
     "metadata": {},
     "output_type": "execute_result"
    }
   ],
   "source": [
    "pat.findall(ip)"
   ]
  },
  {
   "cell_type": "markdown",
   "id": "a96e2207",
   "metadata": {},
   "source": [
    "**l)** Convert the comma separated strings to corresponding `dict` objects as shown below. The keys are `name`, `maths` and `phy` for the three fields in the input strings."
   ]
  },
  {
   "cell_type": "code",
   "execution_count": 587,
   "id": "ad3655ad",
   "metadata": {},
   "outputs": [],
   "source": [
    "row1 = 'rohan,75,89'\n",
    "row2 = 'rose,88,92'"
   ]
  },
  {
   "cell_type": "code",
   "execution_count": 598,
   "id": "50d66520",
   "metadata": {},
   "outputs": [],
   "source": [
    "pat = re.compile(\"(?P<name>\\w+),(?P<maths>\\d{2}),(?P<phy>\\d{2})\")"
   ]
  },
  {
   "cell_type": "code",
   "execution_count": 599,
   "id": "90914d4b",
   "metadata": {},
   "outputs": [
    {
     "data": {
      "text/plain": [
       "{'name': 'rohan', 'maths': '75', 'phy': '89'}"
      ]
     },
     "execution_count": 599,
     "metadata": {},
     "output_type": "execute_result"
    }
   ],
   "source": [
    "pat.search(row1).groupdict()"
   ]
  },
  {
   "cell_type": "code",
   "execution_count": 600,
   "id": "2fc86af3",
   "metadata": {},
   "outputs": [
    {
     "data": {
      "text/plain": [
       "{'name': 'rose', 'maths': '88', 'phy': '92'}"
      ]
     },
     "execution_count": 600,
     "metadata": {},
     "output_type": "execute_result"
    }
   ],
   "source": [
    "pat.search(row2).groupdict()"
   ]
  },
  {
   "cell_type": "markdown",
   "id": "0cd6664d",
   "metadata": {},
   "source": [
    "**m)** Surround all whole words with `()`. Additionally, if the whole word is `imp` or `ant`, delete them. Can you do it with single substitution?"
   ]
  },
  {
   "cell_type": "code",
   "execution_count": 601,
   "id": "00b33de3",
   "metadata": {},
   "outputs": [],
   "source": [
    "ip = 'tiger imp goat eagle ant important'"
   ]
  },
  {
   "cell_type": "code",
   "execution_count": 607,
   "id": "7d3c77bb",
   "metadata": {},
   "outputs": [
    {
     "data": {
      "text/plain": [
       "'(tiger) () (goat) (eagle) () (important)'"
      ]
     },
     "execution_count": 607,
     "metadata": {},
     "output_type": "execute_result"
    }
   ],
   "source": [
    "re.sub(r'\\b(?:imp|ant|(\\w+))\\b', r'(\\1)', ip)"
   ]
  },
  {
   "cell_type": "code",
   "execution_count": 613,
   "id": "71816cfa",
   "metadata": {},
   "outputs": [
    {
     "data": {
      "text/plain": [
       "'(tiger) () (goat) (eagle) () (important)'"
      ]
     },
     "execution_count": 613,
     "metadata": {},
     "output_type": "execute_result"
    }
   ],
   "source": [
    "re.sub(r'\\b(?:imp|ant|(\\w+))\\b',r'(\\1)',ip)"
   ]
  },
  {
   "cell_type": "markdown",
   "id": "7e7455c2",
   "metadata": {},
   "source": [
    "**n)** Filter all elements that contains a sequence of lowercase alphabets followed by `-` followed by digits. They can be optionally surrounded by `{{` and `}}`. Any partial match shouldn't be part of the output.\n"
   ]
  },
  {
   "cell_type": "code",
   "execution_count": 614,
   "id": "930315ca",
   "metadata": {},
   "outputs": [],
   "source": [
    "ip = ['{{apple-150}}', '{{mango2-100}}', '{{cherry-200', 'grape-87']"
   ]
  },
  {
   "cell_type": "code",
   "execution_count": 615,
   "id": "fb58440c",
   "metadata": {},
   "outputs": [
    {
     "data": {
      "text/plain": [
       "['{{apple-150}}', 'grape-87']"
      ]
     },
     "execution_count": 615,
     "metadata": {},
     "output_type": "execute_result"
    }
   ],
   "source": [
    "[w for w in ip if re.fullmatch(r'({{)?[a-z]+-\\d+(?(1)}})', w)]"
   ]
  },
  {
   "cell_type": "markdown",
   "id": "7c092bfb",
   "metadata": {},
   "source": [
    "\n",
    "**o)** The given input string has sequences made up of words separated by `:` or `.` and such sequences will end when `:` or `.` is not followed by a word character. For all such sequences, display only the last word followed by `-` followed by first word."
   ]
  },
  {
   "cell_type": "code",
   "execution_count": 616,
   "id": "cea28288",
   "metadata": {},
   "outputs": [],
   "source": [
    "ip = 'wow:Good:2_two:five: hi-2 bye kite.777.water.'"
   ]
  },
  {
   "cell_type": "markdown",
   "id": "8742135c",
   "metadata": {},
   "source": [
    "<!-- [m.expand(r'\\2-\\1') for m in re.finditer(r'(\\w+)[:.](?:(\\w+)[:.])+', ip)] -->"
   ]
  },
  {
   "cell_type": "markdown",
   "id": "397ec0bf",
   "metadata": {},
   "source": [
    "# Lookarounds\n",
    "\n",
    "Please use lookarounds for solving the following exercises even if you can do it without lookarounds. Unless you cannot use lookarounds for cases like variable length lookbehinds.\n"
   ]
  },
  {
   "cell_type": "markdown",
   "id": "b33b7cb4",
   "metadata": {},
   "source": [
    "**a)** Replace all whole words with `X` unless it is preceded by `(` character."
   ]
  },
  {
   "cell_type": "code",
   "execution_count": 617,
   "id": "ae6c87e6",
   "metadata": {},
   "outputs": [],
   "source": [
    "ip = '(apple) guava berry) apple (mango) (grape'"
   ]
  },
  {
   "cell_type": "code",
   "execution_count": 618,
   "id": "d3bdd7fc",
   "metadata": {},
   "outputs": [
    {
     "data": {
      "text/plain": [
       "'(apple) X X) X (mango) (grape'"
      ]
     },
     "execution_count": 618,
     "metadata": {},
     "output_type": "execute_result"
    }
   ],
   "source": [
    "re.sub(r'(?<!\\()\\b\\w+', 'X', ip)"
   ]
  },
  {
   "cell_type": "markdown",
   "id": "260b5b8f",
   "metadata": {},
   "source": [
    "**b)** Replace all whole words with `X` unless it is followed by `)` character."
   ]
  },
  {
   "cell_type": "code",
   "execution_count": 619,
   "id": "662b1948",
   "metadata": {},
   "outputs": [],
   "source": [
    "ip = '(apple) guava berry) apple (mango) (grape'"
   ]
  },
  {
   "cell_type": "code",
   "execution_count": 620,
   "id": "7371adde",
   "metadata": {},
   "outputs": [
    {
     "data": {
      "text/plain": [
       "'(apple) X berry) X (mango) (X'"
      ]
     },
     "execution_count": 620,
     "metadata": {},
     "output_type": "execute_result"
    }
   ],
   "source": [
    "re.sub(r'\\b\\w+\\b(?!\\))', 'X', ip)"
   ]
  },
  {
   "cell_type": "markdown",
   "id": "28e5c7a5",
   "metadata": {},
   "source": [
    "**c)** Replace all whole words with `X` unless it is preceded by `(` or followed by `)` characters."
   ]
  },
  {
   "cell_type": "code",
   "execution_count": 621,
   "id": "b6caf691",
   "metadata": {},
   "outputs": [],
   "source": [
    "ip = '(apple) guava berry) apple (mango) (grape'"
   ]
  },
  {
   "cell_type": "code",
   "execution_count": 622,
   "id": "973b9504",
   "metadata": {},
   "outputs": [
    {
     "data": {
      "text/plain": [
       "'(apple) X berry) X (mango) (grape'"
      ]
     },
     "execution_count": 622,
     "metadata": {},
     "output_type": "execute_result"
    }
   ],
   "source": [
    "re.sub(r'(?<!\\()\\b\\w+\\b(?!\\))', 'X', ip)"
   ]
  },
  {
   "cell_type": "markdown",
   "id": "45b5be91",
   "metadata": {},
   "source": [
    "**d)** Extract all whole words that do not end with `e` or `n`."
   ]
  },
  {
   "cell_type": "code",
   "execution_count": 623,
   "id": "f7198bab",
   "metadata": {},
   "outputs": [],
   "source": [
    "ip = 'at row on urn e note dust n'"
   ]
  },
  {
   "cell_type": "code",
   "execution_count": 624,
   "id": "41bd4a0c",
   "metadata": {},
   "outputs": [
    {
     "data": {
      "text/plain": [
       "['at', 'row', 'dust']"
      ]
     },
     "execution_count": 624,
     "metadata": {},
     "output_type": "execute_result"
    }
   ],
   "source": [
    "re.findall(r'\\b\\w+\\b(?<![en])', ip)\n"
   ]
  },
  {
   "cell_type": "markdown",
   "id": "952fc651",
   "metadata": {},
   "source": [
    "**e)** Extract all whole words that do not start with `a` or `d` or `n`."
   ]
  },
  {
   "cell_type": "code",
   "execution_count": 625,
   "id": "d047ad6a",
   "metadata": {},
   "outputs": [],
   "source": [
    "ip = 'at row on urn e note dust n'"
   ]
  },
  {
   "cell_type": "code",
   "execution_count": 626,
   "id": "1bd9bb20",
   "metadata": {},
   "outputs": [
    {
     "data": {
      "text/plain": [
       "['row', 'on', 'urn', 'e']"
      ]
     },
     "execution_count": 626,
     "metadata": {},
     "output_type": "execute_result"
    }
   ],
   "source": [
    "re.findall(r'(?![adn])\\b\\w+\\b', ip)"
   ]
  },
  {
   "cell_type": "markdown",
   "id": "fc8bd167",
   "metadata": {},
   "source": [
    "**f)** Extract all whole words only if they are followed by `:` or `,` or `-`."
   ]
  },
  {
   "cell_type": "code",
   "execution_count": 627,
   "id": "0e4a3a00",
   "metadata": {},
   "outputs": [],
   "source": [
    "ip = 'poke,on=-=so:ink.to/is(vast)ever-sit'"
   ]
  },
  {
   "cell_type": "code",
   "execution_count": 628,
   "id": "c3b65b0a",
   "metadata": {},
   "outputs": [
    {
     "data": {
      "text/plain": [
       "['poke', 'so', 'ever']"
      ]
     },
     "execution_count": 628,
     "metadata": {},
     "output_type": "execute_result"
    }
   ],
   "source": [
    "re.findall(r'\\w+(?=[:,-])', ip)"
   ]
  },
  {
   "cell_type": "markdown",
   "id": "456de1a8",
   "metadata": {},
   "source": [
    "**g)** Extract all whole words only if they are preceded by `=` or `/` or `-`.\n"
   ]
  },
  {
   "cell_type": "code",
   "execution_count": 629,
   "id": "4141c476",
   "metadata": {},
   "outputs": [],
   "source": [
    "ip = 'poke,on=-=so:ink.to/is(vast)ever-sit'"
   ]
  },
  {
   "cell_type": "code",
   "execution_count": 630,
   "id": "9433e553",
   "metadata": {},
   "outputs": [
    {
     "data": {
      "text/plain": [
       "['so', 'is', 'sit']"
      ]
     },
     "execution_count": 630,
     "metadata": {},
     "output_type": "execute_result"
    }
   ],
   "source": [
    "re.findall(r'(?<=[=/-])\\w+', ip)"
   ]
  },
  {
   "cell_type": "markdown",
   "id": "80b93403",
   "metadata": {},
   "source": [
    "**h)** Extract all whole words only if they are preceded by `=` or `:` and followed by `:` or `.`."
   ]
  },
  {
   "cell_type": "code",
   "execution_count": 631,
   "id": "119a753a",
   "metadata": {},
   "outputs": [],
   "source": [
    "ip = 'poke,on=-=so:ink.to/is(vast)ever-sit'"
   ]
  },
  {
   "cell_type": "code",
   "execution_count": 632,
   "id": "ab83f5ce",
   "metadata": {},
   "outputs": [
    {
     "data": {
      "text/plain": [
       "['so', 'ink']"
      ]
     },
     "execution_count": 632,
     "metadata": {},
     "output_type": "execute_result"
    }
   ],
   "source": [
    "re.findall(r'(?<=[=:])\\w+(?=[:.])', ip)"
   ]
  },
  {
   "cell_type": "markdown",
   "id": "03ae7265",
   "metadata": {},
   "source": [
    "**i)** Extract all whole words only if they are preceded by `=` or `:` or `.` or `(` or `-` and not followed by `.` or `/`."
   ]
  },
  {
   "cell_type": "code",
   "execution_count": 633,
   "id": "042f428f",
   "metadata": {},
   "outputs": [],
   "source": [
    "ip = 'poke,on=-=so:ink.to/is(vast)ever-sit'"
   ]
  },
  {
   "cell_type": "code",
   "execution_count": 634,
   "id": "15742136",
   "metadata": {},
   "outputs": [
    {
     "data": {
      "text/plain": [
       "['so', 'vast', 'sit']"
      ]
     },
     "execution_count": 634,
     "metadata": {},
     "output_type": "execute_result"
    }
   ],
   "source": [
    "re.findall(r'(?<=[=:.(-])\\w+\\b(?![/.])', ip)"
   ]
  },
  {
   "cell_type": "markdown",
   "id": "47945ceb",
   "metadata": {},
   "source": [
    "**j)** Remove leading and trailing whitespaces from all the individual fields where `,` is the field separator."
   ]
  },
  {
   "cell_type": "code",
   "execution_count": 636,
   "id": "86263d87",
   "metadata": {},
   "outputs": [],
   "source": [
    "csv1 = ' comma  ,separated ,values \\t\\r '\n",
    "csv2 = 'good bad,nice  ice  , 42 , ,   stall   small'"
   ]
  },
  {
   "cell_type": "code",
   "execution_count": 637,
   "id": "322c57f5",
   "metadata": {},
   "outputs": [],
   "source": [
    "remove_whitespace = re.compile(r'(?<![^,])\\s+|\\s+(?![^,])')"
   ]
  },
  {
   "cell_type": "code",
   "execution_count": 638,
   "id": "0d25188e",
   "metadata": {},
   "outputs": [
    {
     "data": {
      "text/plain": [
       "'comma,separated,values'"
      ]
     },
     "execution_count": 638,
     "metadata": {},
     "output_type": "execute_result"
    }
   ],
   "source": [
    "remove_whitespace.sub(\"\",csv1)"
   ]
  },
  {
   "cell_type": "code",
   "execution_count": 639,
   "id": "3d29f6f5",
   "metadata": {},
   "outputs": [
    {
     "data": {
      "text/plain": [
       "'good bad,nice  ice,42,,stall   small'"
      ]
     },
     "execution_count": 639,
     "metadata": {},
     "output_type": "execute_result"
    }
   ],
   "source": [
    "remove_whitespace.sub(\"\",csv2)"
   ]
  },
  {
   "cell_type": "markdown",
   "id": "ef2d8f74",
   "metadata": {},
   "source": [
    "**k)** Filter all elements that satisfy all of these rules:\n",
    "\n",
    "* should have at least two alphabets\n",
    "* should have at least 3 digits\n",
    "* should have at least one special character among `%` or `*` or `#` or `$`\n",
    "* should not end with a whitespace character"
   ]
  },
  {
   "cell_type": "code",
   "execution_count": 640,
   "id": "6de87b1e",
   "metadata": {},
   "outputs": [],
   "source": [
    "pwds = ['hunter2', 'F2H3u%9', '*X3Yz3.14\\t', 'r2_d2_42', 'A $B C1234']"
   ]
  },
  {
   "cell_type": "code",
   "execution_count": 641,
   "id": "b1c40368",
   "metadata": {},
   "outputs": [],
   "source": [
    "pat = re.compile(r'(?=(.*[a-zA-Z]){2})(?=(.*\\d){3})(?!.*\\s\\Z).*[%*#$]')"
   ]
  },
  {
   "cell_type": "code",
   "execution_count": 642,
   "id": "648d3a4b",
   "metadata": {},
   "outputs": [
    {
     "data": {
      "text/plain": [
       "['F2H3u%9', 'A $B C1234']"
      ]
     },
     "execution_count": 642,
     "metadata": {},
     "output_type": "execute_result"
    }
   ],
   "source": [
    "[p for p in pwds if pat.search(p)]"
   ]
  },
  {
   "cell_type": "markdown",
   "id": "6094a948",
   "metadata": {},
   "source": [
    "**l)** For the given string, surround all whole words with `{}` except for whole words `par` and `cat` and `apple`."
   ]
  },
  {
   "cell_type": "code",
   "execution_count": 643,
   "id": "e27b1bfc",
   "metadata": {},
   "outputs": [],
   "source": [
    "ip = 'part; cat {super} rest_42 par scatter apple spar'"
   ]
  },
  {
   "cell_type": "code",
   "execution_count": 644,
   "id": "c7582ab7",
   "metadata": {},
   "outputs": [
    {
     "data": {
      "text/plain": [
       "'{part}; cat {{super}} {rest_42} par {scatter} apple {spar}'"
      ]
     },
     "execution_count": 644,
     "metadata": {},
     "output_type": "execute_result"
    }
   ],
   "source": [
    "re.sub(r'\\b(?!(?:par|cat|apple)\\b)\\w+\\b', r'{\\g<0>}', ip)"
   ]
  },
  {
   "cell_type": "markdown",
   "id": "2565f065",
   "metadata": {},
   "source": [
    "**m)** Extract integer portion of floating-point numbers for the given string. A number ending with `.` and no further digits should not be considered."
   ]
  },
  {
   "cell_type": "code",
   "execution_count": 645,
   "id": "83d26583",
   "metadata": {},
   "outputs": [],
   "source": [
    "ip = '12 ab32.4 go 5 2. 46.42 5'"
   ]
  },
  {
   "cell_type": "code",
   "execution_count": 646,
   "id": "f1786855",
   "metadata": {},
   "outputs": [
    {
     "data": {
      "text/plain": [
       "['32', '46']"
      ]
     },
     "execution_count": 646,
     "metadata": {},
     "output_type": "execute_result"
    }
   ],
   "source": [
    "re.findall(r'\\d+(?=\\.\\d+)', ip)"
   ]
  },
  {
   "cell_type": "markdown",
   "id": "f80a905a",
   "metadata": {},
   "source": [
    "**n)** For the given input strings, extract all overlapping two character sequences."
   ]
  },
  {
   "cell_type": "code",
   "execution_count": 648,
   "id": "bfc4fce3",
   "metadata": {},
   "outputs": [],
   "source": [
    "s1 = 'apple'\n",
    "s2 = '1.2-3:4'"
   ]
  },
  {
   "cell_type": "code",
   "execution_count": 649,
   "id": "cd20dbe3",
   "metadata": {},
   "outputs": [],
   "source": [
    "pat = re.compile(r'.(?=(.))')"
   ]
  },
  {
   "cell_type": "code",
   "execution_count": 650,
   "id": "bef7c081",
   "metadata": {},
   "outputs": [
    {
     "data": {
      "text/plain": [
       "['ap', 'pp', 'pl', 'le']"
      ]
     },
     "execution_count": 650,
     "metadata": {},
     "output_type": "execute_result"
    }
   ],
   "source": [
    "[m[0]+m[1] for m in pat.finditer(s1)]\n"
   ]
  },
  {
   "cell_type": "code",
   "execution_count": 651,
   "id": "d3ba3fa5",
   "metadata": {},
   "outputs": [
    {
     "data": {
      "text/plain": [
       "['1.', '.2', '2-', '-3', '3:', ':4']"
      ]
     },
     "execution_count": 651,
     "metadata": {},
     "output_type": "execute_result"
    }
   ],
   "source": [
    "[m[0]+m[1] for m in pat.finditer(s2)]"
   ]
  },
  {
   "cell_type": "markdown",
   "id": "5b7d90fd",
   "metadata": {},
   "source": [
    "**o)** The given input strings contain fields separated by `:` character. Delete `:` and the last field if there is a digit character anywhere before the last f"
   ]
  },
  {
   "cell_type": "code",
   "execution_count": 652,
   "id": "92067c45",
   "metadata": {},
   "outputs": [],
   "source": [
    "s1 = '42:cat'\n",
    "s2 = 'twelve:a2b'\n",
    "s3 = 'we:be:he:0:a:b:bother'"
   ]
  },
  {
   "cell_type": "code",
   "execution_count": 656,
   "id": "6aa2bc9e",
   "metadata": {},
   "outputs": [],
   "source": [
    "obj = re.compile(r'(.*\\d.*):.*')"
   ]
  },
  {
   "cell_type": "code",
   "execution_count": 663,
   "id": "869372b9",
   "metadata": {},
   "outputs": [
    {
     "name": "stdout",
     "output_type": "stream",
     "text": [
      "<re.Match object; span=(0, 6), match='42:cat'>\n"
     ]
    }
   ],
   "source": [
    "print(obj.search(s1))"
   ]
  },
  {
   "cell_type": "code",
   "execution_count": 664,
   "id": "c61d0e30",
   "metadata": {},
   "outputs": [
    {
     "name": "stdout",
     "output_type": "stream",
     "text": [
      "None\n"
     ]
    }
   ],
   "source": [
    "print(obj.search(s2))"
   ]
  },
  {
   "cell_type": "code",
   "execution_count": 665,
   "id": "a8eaf2c2",
   "metadata": {},
   "outputs": [
    {
     "name": "stdout",
     "output_type": "stream",
     "text": [
      "<re.Match object; span=(0, 21), match='we:be:he:0:a:b:bother'>\n"
     ]
    }
   ],
   "source": [
    "print(obj.search(s3))"
   ]
  },
  {
   "cell_type": "markdown",
   "id": "eaa36f98",
   "metadata": {},
   "source": [
    "**p)** Extract all whole words unless they are preceded by `:` or `<=>` or `----` or `#`.\n"
   ]
  },
  {
   "cell_type": "code",
   "execution_count": 666,
   "id": "175d2448",
   "metadata": {},
   "outputs": [],
   "source": [
    "ip = '::very--at<=>row|in.a_b#b2c=>lion----east'"
   ]
  },
  {
   "cell_type": "code",
   "execution_count": 667,
   "id": "afae995f",
   "metadata": {},
   "outputs": [
    {
     "data": {
      "text/plain": [
       "['at', 'in', 'a_b', 'lion']"
      ]
     },
     "execution_count": 667,
     "metadata": {},
     "output_type": "execute_result"
    }
   ],
   "source": [
    "re.findall(r'(?<![:#])(?<!<=>)(?<!-{4})\\b\\w+', ip)\n",
    "['at', 'in', 'a_b', 'lion']"
   ]
  },
  {
   "cell_type": "markdown",
   "id": "1b25244a",
   "metadata": {},
   "source": [
    "**q)** Match strings if it contains `qty` followed by `price` but not if there is **whitespace** or the string `error` between them."
   ]
  },
  {
   "cell_type": "code",
   "execution_count": 668,
   "id": "dc8f6fe5",
   "metadata": {},
   "outputs": [],
   "source": [
    "tr1 = '23,qty,price,42'\n",
    "str2 = 'qty price,oh'\n",
    "str3 = '3.14,qty,6,errors,9,price,3'\n",
    "str4 = '42\\nqty-6,apple-56,price-234,error'\n",
    "str5 = '4,price,3.14,qty,4'"
   ]
  },
  {
   "cell_type": "code",
   "execution_count": 669,
   "id": "974e9f8f",
   "metadata": {},
   "outputs": [],
   "source": [
    "neg = re.compile(r'qty((?!\\s|error).)*price')"
   ]
  },
  {
   "cell_type": "code",
   "execution_count": 670,
   "id": "e7ffb815",
   "metadata": {},
   "outputs": [
    {
     "data": {
      "text/plain": [
       "False"
      ]
     },
     "execution_count": 670,
     "metadata": {},
     "output_type": "execute_result"
    }
   ],
   "source": [
    "bool(neg.search(str1))"
   ]
  },
  {
   "cell_type": "code",
   "execution_count": 671,
   "id": "e0cfe11b",
   "metadata": {},
   "outputs": [
    {
     "data": {
      "text/plain": [
       "False"
      ]
     },
     "execution_count": 671,
     "metadata": {},
     "output_type": "execute_result"
    }
   ],
   "source": [
    "bool(neg.search(str2))"
   ]
  },
  {
   "cell_type": "code",
   "execution_count": 672,
   "id": "09ed6406",
   "metadata": {},
   "outputs": [
    {
     "data": {
      "text/plain": [
       "False"
      ]
     },
     "execution_count": 672,
     "metadata": {},
     "output_type": "execute_result"
    }
   ],
   "source": [
    "bool(neg.search(str3))"
   ]
  },
  {
   "cell_type": "code",
   "execution_count": 673,
   "id": "915266e8",
   "metadata": {},
   "outputs": [
    {
     "data": {
      "text/plain": [
       "True"
      ]
     },
     "execution_count": 673,
     "metadata": {},
     "output_type": "execute_result"
    }
   ],
   "source": [
    "bool(neg.search(str4))"
   ]
  },
  {
   "cell_type": "code",
   "execution_count": 674,
   "id": "9d915d32",
   "metadata": {},
   "outputs": [
    {
     "data": {
      "text/plain": [
       "False"
      ]
     },
     "execution_count": 674,
     "metadata": {},
     "output_type": "execute_result"
    }
   ],
   "source": [
    "bool(neg.search(str5))"
   ]
  },
  {
   "cell_type": "markdown",
   "id": "cdb3da83",
   "metadata": {},
   "source": [
    "**r)** Can you reason out why the output shown is different for these two regular expressions?"
   ]
  },
  {
   "cell_type": "code",
   "execution_count": 675,
   "id": "109e3581",
   "metadata": {},
   "outputs": [],
   "source": [
    "ip = 'I have 12, he has 2!'"
   ]
  },
  {
   "cell_type": "code",
   "execution_count": 676,
   "id": "e95c478a",
   "metadata": {},
   "outputs": [
    {
     "data": {
      "text/plain": [
       "'{I }have {12}{, }{he} has{ 2}!'"
      ]
     },
     "execution_count": 676,
     "metadata": {},
     "output_type": "execute_result"
    }
   ],
   "source": [
    "re.sub(r'\\b..\\b', '{\\g<0>}', ip)"
   ]
  },
  {
   "cell_type": "code",
   "execution_count": 677,
   "id": "054b705c",
   "metadata": {},
   "outputs": [
    {
     "data": {
      "text/plain": [
       "'I have {12}, {he} has {2!}'"
      ]
     },
     "execution_count": 677,
     "metadata": {},
     "output_type": "execute_result"
    }
   ],
   "source": [
    "re.sub(r'(?<!\\w)..(?!\\w)', '{\\g<0>}', ip)"
   ]
  },
  {
   "cell_type": "markdown",
   "id": "6c04712e",
   "metadata": {},
   "source": [
    "# Flags\n",
    "\n",
    "**a)** Remove from first occurrence of `hat` to last occurrence of `it` for the given input strings. Match these markers case insensitively."
   ]
  },
  {
   "cell_type": "code",
   "execution_count": 679,
   "id": "047f9ae8",
   "metadata": {},
   "outputs": [],
   "source": [
    "s1 = 'But Cool THAT\\nsee What okay\\nwow quite'\n",
    "s2 = 'it this hat is sliced HIT.'"
   ]
  },
  {
   "cell_type": "code",
   "execution_count": 680,
   "id": "3ee1ef1d",
   "metadata": {},
   "outputs": [],
   "source": [
    "pat = re.compile(r'hat.*it', flags=re.S|re.I)"
   ]
  },
  {
   "cell_type": "code",
   "execution_count": 681,
   "id": "082eedef",
   "metadata": {},
   "outputs": [
    {
     "data": {
      "text/plain": [
       "'But Cool Te'"
      ]
     },
     "execution_count": 681,
     "metadata": {},
     "output_type": "execute_result"
    }
   ],
   "source": [
    "pat.sub('', s1)"
   ]
  },
  {
   "cell_type": "code",
   "execution_count": 682,
   "id": "8b582e7b",
   "metadata": {},
   "outputs": [
    {
     "data": {
      "text/plain": [
       "'it this .'"
      ]
     },
     "execution_count": 682,
     "metadata": {},
     "output_type": "execute_result"
    }
   ],
   "source": [
    "pat.sub('', s2)\n"
   ]
  },
  {
   "cell_type": "markdown",
   "id": "4cfcbc25",
   "metadata": {},
   "source": [
    "**b)** Delete from `start` if it is at the beginning of a line up to the next occurrence of the `end` at the end of a line. Match these markers case insensitively."
   ]
  },
  {
   "cell_type": "code",
   "execution_count": 683,
   "id": "91a6b126",
   "metadata": {},
   "outputs": [],
   "source": [
    "para = '''\\\n",
    "good start\n",
    "start working on that\n",
    "project you always wanted\n",
    "to, do not let it end\n",
    "hi there\n",
    "start and end the end\n",
    "42\n",
    "Start and try to\n",
    "finish the End\n",
    "bye'''"
   ]
  },
  {
   "cell_type": "code",
   "execution_count": 684,
   "id": "de7d71cb",
   "metadata": {},
   "outputs": [],
   "source": [
    "pat = re.compile(r'(?ims)^start.*?end$')"
   ]
  },
  {
   "cell_type": "code",
   "execution_count": 685,
   "id": "ae91703e",
   "metadata": {
    "scrolled": true
   },
   "outputs": [
    {
     "name": "stdout",
     "output_type": "stream",
     "text": [
      "good start\n",
      "\n",
      "hi there\n",
      "\n",
      "42\n",
      "\n",
      "bye\n"
     ]
    }
   ],
   "source": [
    "print(pat.sub('', para))"
   ]
  },
  {
   "cell_type": "markdown",
   "id": "a8b3ff6c",
   "metadata": {},
   "source": [
    "**c)** For the given input strings, match all of these three patterns:"
   ]
  },
  {
   "cell_type": "code",
   "execution_count": 686,
   "id": "e39d66e9",
   "metadata": {},
   "outputs": [],
   "source": [
    "s1 = 'This is nice and Cool'\n",
    "s2 = 'Nice and cool this is'\n",
    "s3 = 'What is so nice and cool about This?'"
   ]
  },
  {
   "cell_type": "code",
   "execution_count": 687,
   "id": "edb69c41",
   "metadata": {},
   "outputs": [],
   "source": [
    "pat = re.compile(r'(?i)(?=.*nice)(?=.*cool)(?-i:.*This)')"
   ]
  },
  {
   "cell_type": "code",
   "execution_count": 688,
   "id": "3f0f9169",
   "metadata": {},
   "outputs": [
    {
     "data": {
      "text/plain": [
       "True"
      ]
     },
     "execution_count": 688,
     "metadata": {},
     "output_type": "execute_result"
    }
   ],
   "source": [
    "bool(pat.search(s1))"
   ]
  },
  {
   "cell_type": "code",
   "execution_count": 689,
   "id": "9686e524",
   "metadata": {},
   "outputs": [
    {
     "data": {
      "text/plain": [
       "False"
      ]
     },
     "execution_count": 689,
     "metadata": {},
     "output_type": "execute_result"
    }
   ],
   "source": [
    "bool(pat.search(s2))"
   ]
  },
  {
   "cell_type": "code",
   "execution_count": 690,
   "id": "63a222f7",
   "metadata": {},
   "outputs": [
    {
     "data": {
      "text/plain": [
       "True"
      ]
     },
     "execution_count": 690,
     "metadata": {},
     "output_type": "execute_result"
    }
   ],
   "source": [
    "bool(pat.search(s3))"
   ]
  },
  {
   "cell_type": "markdown",
   "id": "b22e94f2",
   "metadata": {},
   "source": [
    "**d)** For the given input strings, match if the string begins with `Th` and also contains a line that starts with `There`."
   ]
  },
  {
   "cell_type": "code",
   "execution_count": 691,
   "id": "6104c6c6",
   "metadata": {},
   "outputs": [],
   "source": [
    "s1 = 'There there\\nHave a cookie'\n",
    "s2 = 'This is a mess\\nYeah?\\nThereeeee'\n",
    "s3 = 'Oh\\nThere goes the fun'"
   ]
  },
  {
   "cell_type": "code",
   "execution_count": 692,
   "id": "929e5545",
   "metadata": {},
   "outputs": [],
   "source": [
    "pat = re.compile(r'\\A(?=Th)(?ms:.*^There)')"
   ]
  },
  {
   "cell_type": "code",
   "execution_count": 693,
   "id": "18eb4753",
   "metadata": {},
   "outputs": [
    {
     "data": {
      "text/plain": [
       "True"
      ]
     },
     "execution_count": 693,
     "metadata": {},
     "output_type": "execute_result"
    }
   ],
   "source": [
    "bool(pat.search(s1))"
   ]
  },
  {
   "cell_type": "code",
   "execution_count": 694,
   "id": "0a817e49",
   "metadata": {},
   "outputs": [
    {
     "data": {
      "text/plain": [
       "True"
      ]
     },
     "execution_count": 694,
     "metadata": {},
     "output_type": "execute_result"
    }
   ],
   "source": [
    "bool(pat.search(s2))"
   ]
  },
  {
   "cell_type": "code",
   "execution_count": 695,
   "id": "bb6d4465",
   "metadata": {},
   "outputs": [
    {
     "data": {
      "text/plain": [
       "False"
      ]
     },
     "execution_count": 695,
     "metadata": {},
     "output_type": "execute_result"
    }
   ],
   "source": [
    "bool(pat.search(s3))"
   ]
  },
  {
   "cell_type": "markdown",
   "id": "29dbbd97",
   "metadata": {},
   "source": [
    "**e)** Explore what the `re.DEBUG` flag does. Here's some example patterns to check out."
   ]
  },
  {
   "cell_type": "markdown",
   "id": "78207cdc",
   "metadata": {},
   "source": [
    "* `re.compile(r'\\Aden|ly\\Z', flags=re.DEBUG)`\n",
    "* `re.compile(r'\\b(0x)?[\\da-f]+\\b', flags=re.DEBUG)`\n",
    "* `re.compile(r'\\b(?:0x)?[\\da-f]+\\b', flags=re.I|re.DEBUG)`"
   ]
  },
  {
   "cell_type": "markdown",
   "id": "2929144f",
   "metadata": {},
   "source": [
    "# Unicode\n",
    "\n",
    "**a)** Output `True` or `False` depending on input string made up of ASCII characters or not. Consider the input to be non-empty strings and any character that isn't part of 7-bit ASCII set should give `False`. Do you need regular expressions for this?"
   ]
  },
  {
   "cell_type": "code",
   "execution_count": 697,
   "id": "293b57a5",
   "metadata": {},
   "outputs": [],
   "source": [
    "str1 = '123—456'\n",
    "str2 = 'good fοοd'\n",
    "str3 = 'happy learning!'\n",
    "str4 = 'İıſK'"
   ]
  },
  {
   "cell_type": "code",
   "execution_count": 698,
   "id": "3385ef44",
   "metadata": {},
   "outputs": [
    {
     "data": {
      "text/plain": [
       "False"
      ]
     },
     "execution_count": 698,
     "metadata": {},
     "output_type": "execute_result"
    }
   ],
   "source": [
    "str1.isascii()"
   ]
  },
  {
   "cell_type": "code",
   "execution_count": 699,
   "id": "21fd9ce2",
   "metadata": {},
   "outputs": [
    {
     "data": {
      "text/plain": [
       "False"
      ]
     },
     "execution_count": 699,
     "metadata": {},
     "output_type": "execute_result"
    }
   ],
   "source": [
    "str2.isascii()"
   ]
  },
  {
   "cell_type": "code",
   "execution_count": 700,
   "id": "0d68673f",
   "metadata": {},
   "outputs": [
    {
     "data": {
      "text/plain": [
       "True"
      ]
     },
     "execution_count": 700,
     "metadata": {},
     "output_type": "execute_result"
    }
   ],
   "source": [
    "str3.isascii()"
   ]
  },
  {
   "cell_type": "code",
   "execution_count": 701,
   "id": "b4450fc2",
   "metadata": {},
   "outputs": [
    {
     "data": {
      "text/plain": [
       "False"
      ]
     },
     "execution_count": 701,
     "metadata": {},
     "output_type": "execute_result"
    }
   ],
   "source": [
    "str4.isascii()"
   ]
  },
  {
   "cell_type": "markdown",
   "id": "5e3213c7",
   "metadata": {},
   "source": [
    "**b)** Does `.` quantifier with `re.ASCII` flag enabled match non-ASCII characters?"
   ]
  },
  {
   "cell_type": "markdown",
   "id": "2c143c7f",
   "metadata": {},
   "source": [
    "**c)** Explore the following Q&A threads.\n",
    "\n",
    "* [stackoverflow: remove powered number from string](https://stackoverflow.com/questions/57553721/remove-powered-number-from-string-in-python)\n",
    "* [stackoverflow: regular expression for French characters](https://stackoverflow.com/questions/1922097/regular-expression-for-french-characters)"
   ]
  },
  {
   "cell_type": "markdown",
   "id": "29353f3c",
   "metadata": {},
   "source": [
    "# regex module\n",
    "\n",
    "**a)** Filter all elements whose first non-whitespace character is not a `#` character. Any element made up of only whitespace characters should be ignored as well.\n"
   ]
  },
  {
   "cell_type": "code",
   "execution_count": 710,
   "id": "499d39d6",
   "metadata": {},
   "outputs": [],
   "source": [
    "import regex"
   ]
  },
  {
   "cell_type": "code",
   "execution_count": 711,
   "id": "5376de92",
   "metadata": {},
   "outputs": [],
   "source": [
    "items = ['    #comment', '\\t\\napple #42', '#oops', 'sure', 'no#1', '\\t\\r\\f']"
   ]
  },
  {
   "cell_type": "code",
   "execution_count": 712,
   "id": "807f2e54",
   "metadata": {},
   "outputs": [
    {
     "data": {
      "text/plain": [
       "['\\t\\napple #42', 'sure', 'no#1']"
      ]
     },
     "execution_count": 712,
     "metadata": {},
     "output_type": "execute_result"
    }
   ],
   "source": [
    "[e for e in items if regex.search(r'\\A\\s*+[^#]', e)]"
   ]
  },
  {
   "cell_type": "markdown",
   "id": "8ca77187",
   "metadata": {},
   "source": [
    "**b)** Replace sequences made up of words separated by `:` or `.` by the first word of the sequence and the separator. Such sequences will end when `:` or `.` is not followed by a word character."
   ]
  },
  {
   "cell_type": "code",
   "execution_count": 724,
   "id": "e11e378a",
   "metadata": {},
   "outputs": [],
   "source": [
    "ip = 'wow:Good:2_two:five: hi bye kite.777.water.'"
   ]
  },
  {
   "cell_type": "code",
   "execution_count": 725,
   "id": "620c734a",
   "metadata": {},
   "outputs": [
    {
     "data": {
      "text/plain": [
       "'wow: hi bye kite.'"
      ]
     },
     "execution_count": 725,
     "metadata": {},
     "output_type": "execute_result"
    }
   ],
   "source": [
    "regex.sub(r'(\\w+[:.])(?1)+', r'\\1', ip)"
   ]
  },
  {
   "cell_type": "markdown",
   "id": "ac15abf7",
   "metadata": {},
   "source": [
    "**c)** The given list of strings has fields separated by `:` character. Delete `:` and the last field if there is a digit character anywhere before the last field."
   ]
  },
  {
   "cell_type": "code",
   "execution_count": 726,
   "id": "e027a35d",
   "metadata": {},
   "outputs": [],
   "source": [
    "items = ['42:cat', 'twelve:a2b', 'we:be:he:0:a:b:bother']"
   ]
  },
  {
   "cell_type": "code",
   "execution_count": 727,
   "id": "ee638811",
   "metadata": {},
   "outputs": [
    {
     "data": {
      "text/plain": [
       "['42', 'twelve:a2b', 'we:be:he:0:a:b']"
      ]
     },
     "execution_count": 727,
     "metadata": {},
     "output_type": "execute_result"
    }
   ],
   "source": [
    "[regex.sub(r'\\d.*\\K:.*', '', e) for e in items]"
   ]
  },
  {
   "cell_type": "markdown",
   "id": "a0a456d7",
   "metadata": {},
   "source": [
    "**d)** Extract all whole words unless they are preceded by `:` or `<=>` or `----` or `#`.\n"
   ]
  },
  {
   "cell_type": "code",
   "execution_count": 728,
   "id": "04217218",
   "metadata": {},
   "outputs": [],
   "source": [
    "ip = '::very--at<=>row|in.a_b#b2c=>lion----east'"
   ]
  },
  {
   "cell_type": "code",
   "execution_count": 729,
   "id": "814c31e8",
   "metadata": {},
   "outputs": [
    {
     "data": {
      "text/plain": [
       "['at', 'in', 'a_b', 'lion']"
      ]
     },
     "execution_count": 729,
     "metadata": {},
     "output_type": "execute_result"
    }
   ],
   "source": [
    "regex.findall(r'(?<![:#]|<=>|-{4})\\b\\w+', ip)\n"
   ]
  },
  {
   "cell_type": "markdown",
   "id": "b93501a5",
   "metadata": {},
   "source": [
    "**e)** The given input string has fields separated by `:` character. Extract all fields if the previous field contains a digit character.\n"
   ]
  },
  {
   "cell_type": "code",
   "execution_count": 730,
   "id": "a300c7a2",
   "metadata": {},
   "outputs": [],
   "source": [
    "ip = 'vast:a2b2:ride:in:awe:b2b:3list:end'"
   ]
  },
  {
   "cell_type": "code",
   "execution_count": 731,
   "id": "60678996",
   "metadata": {},
   "outputs": [
    {
     "data": {
      "text/plain": [
       "['ride', '3list', 'end']"
      ]
     },
     "execution_count": 731,
     "metadata": {},
     "output_type": "execute_result"
    }
   ],
   "source": [
    "regex.findall(r'(?<=\\d[^:]*:)[^:]+', ip)"
   ]
  },
  {
   "cell_type": "markdown",
   "id": "419e7027",
   "metadata": {},
   "source": [
    "**f)** The given input string has fields separated by `:` character. Delete all fields, including the separator, unless the field contains a digit character. Stop deleting once a field with digit character is found."
   ]
  },
  {
   "cell_type": "code",
   "execution_count": 732,
   "id": "4dd2bc7c",
   "metadata": {},
   "outputs": [],
   "source": [
    "row1 = 'vast:a2b2:ride:in:awe:b2b:3list:end'\n",
    "row2 = 'um:no:low:3e:s4w:seer'"
   ]
  },
  {
   "cell_type": "code",
   "execution_count": 733,
   "id": "3cc51aec",
   "metadata": {},
   "outputs": [],
   "source": [
    "pat = regex.compile(r'\\G[^\\d:]+:')"
   ]
  },
  {
   "cell_type": "code",
   "execution_count": 734,
   "id": "9557095d",
   "metadata": {},
   "outputs": [
    {
     "data": {
      "text/plain": [
       "'a2b2:ride:in:awe:b2b:3list:end'"
      ]
     },
     "execution_count": 734,
     "metadata": {},
     "output_type": "execute_result"
    }
   ],
   "source": [
    "pat.sub('', row1)"
   ]
  },
  {
   "cell_type": "code",
   "execution_count": 735,
   "id": "03737305",
   "metadata": {},
   "outputs": [
    {
     "data": {
      "text/plain": [
       "'3e:s4w:seer'"
      ]
     },
     "execution_count": 735,
     "metadata": {},
     "output_type": "execute_result"
    }
   ],
   "source": [
    "pat.sub('', row2)"
   ]
  },
  {
   "cell_type": "markdown",
   "id": "422f1d9f",
   "metadata": {},
   "source": [
    "**g)** For the given input strings, extract `if` followed by any number of nested parentheses. Assume that there will be only one such pattern per input string."
   ]
  },
  {
   "cell_type": "code",
   "execution_count": 740,
   "id": "c136aa6f",
   "metadata": {},
   "outputs": [],
   "source": [
    "ip1 = 'for (((i*3)+2)/6) if(3-(k*3+4)/12-(r+2/3)) while()'\n",
    "ip2 = 'if+while if(a(b)c(d(e(f)1)2)3) for(i=1)'"
   ]
  },
  {
   "cell_type": "code",
   "execution_count": 741,
   "id": "7c942aed",
   "metadata": {},
   "outputs": [],
   "source": [
    "pat=regex.compile(r'if(\\((?:[^()]++|(?1))++\\))')"
   ]
  },
  {
   "cell_type": "code",
   "execution_count": 742,
   "id": "b205bb95",
   "metadata": {},
   "outputs": [
    {
     "data": {
      "text/plain": [
       "'if(3-(k*3+4)/12-(r+2/3))'"
      ]
     },
     "execution_count": 742,
     "metadata": {},
     "output_type": "execute_result"
    }
   ],
   "source": [
    "pat.search(ip1)[0]"
   ]
  },
  {
   "cell_type": "code",
   "execution_count": 743,
   "id": "ddad52f3",
   "metadata": {},
   "outputs": [
    {
     "data": {
      "text/plain": [
       "'if(a(b)c(d(e(f)1)2)3)'"
      ]
     },
     "execution_count": 743,
     "metadata": {},
     "output_type": "execute_result"
    }
   ],
   "source": [
    "pat.search(ip2)[0]"
   ]
  },
  {
   "cell_type": "markdown",
   "id": "139c3f44",
   "metadata": {},
   "source": [
    "**h)** Read about `POSIX` flag from https://pypi.org/project/regex/. Is the following code snippet showing the correct output?"
   ]
  },
  {
   "cell_type": "code",
   "execution_count": 744,
   "id": "1e83c701",
   "metadata": {},
   "outputs": [],
   "source": [
    "words = 'plink incoming tint winter in caution sentient'"
   ]
  },
  {
   "cell_type": "code",
   "execution_count": 745,
   "id": "7cb77757",
   "metadata": {},
   "outputs": [],
   "source": [
    "change = regex.compile(r'int|in|ion|ing|inco|inter|ink', flags=regex.POSIX)\n"
   ]
  },
  {
   "cell_type": "code",
   "execution_count": 747,
   "id": "d2454041",
   "metadata": {},
   "outputs": [
    {
     "data": {
      "text/plain": [
       "'plX XmX tX wX X cautX sentient'"
      ]
     },
     "execution_count": 747,
     "metadata": {},
     "output_type": "execute_result"
    }
   ],
   "source": [
    "change.sub('X', words)"
   ]
  },
  {
   "cell_type": "markdown",
   "id": "699ea946",
   "metadata": {},
   "source": [
    "**i)** Extract all whole words for the given input strings. However, based on user input `ignore`, do not match words if they contain any character present in the `ignore` variable."
   ]
  },
  {
   "cell_type": "code",
   "execution_count": 756,
   "id": "e9d116ca",
   "metadata": {},
   "outputs": [],
   "source": [
    "s1 = 'match after the last newline character'\n",
    "s2 = 'and then you want to test'"
   ]
  },
  {
   "cell_type": "markdown",
   "id": "cf16e86f",
   "metadata": {},
   "source": [
    "**j)** Retain only punctuation characters for the given strings (generated from codepoints). Use Unicode character set definition for punctuation for solving this exercise."
   ]
  },
  {
   "cell_type": "code",
   "execution_count": 719,
   "id": "6ca33275",
   "metadata": {},
   "outputs": [],
   "source": [
    "s1 = ''.join(chr(c) for c in range(0, 0x80))\n",
    "s2 = ''.join(chr(c) for c in range(0x80, 0x100))\n",
    "s3 = ''.join(chr(c) for c in range(0x2600, 0x27ec))"
   ]
  },
  {
   "cell_type": "code",
   "execution_count": null,
   "id": "91749048",
   "metadata": {},
   "outputs": [],
   "source": [
    "pat = regex.compile(r'\\P{P}+')"
   ]
  },
  {
   "cell_type": "markdown",
   "id": "145acca4",
   "metadata": {},
   "source": [
    "**k)** For the given **markdown** file, replace all occurrences of the string `python` (irrespective of case) with the string `Python`. However, any match within code blocks that start with whole line ` ```python ` and end with whole line ` ``` ` shouldn't be replaced. Consider the input file to be small enough to fit memory requirements."
   ]
  },
  {
   "cell_type": "markdown",
   "id": "3a02f49c",
   "metadata": {},
   "source": [
    "Refer to [github: exercises folder](https://github.com/learnbyexample/py_regular_expressions/tree/master/exercises) for files `sample.md` and `expected.md` required to solve this exercise."
   ]
  },
  {
   "cell_type": "code",
   "execution_count": null,
   "id": "2cad08ae",
   "metadata": {},
   "outputs": [],
   "source": [
    "ip_str = open('sample.md', 'r').read()"
   ]
  },
  {
   "cell_type": "code",
   "execution_count": null,
   "id": "20101a26",
   "metadata": {},
   "outputs": [],
   "source": []
  },
  {
   "cell_type": "markdown",
   "id": "fe92d86a",
   "metadata": {},
   "source": [
    "**l)** For the given input strings, construct a word that is made up of last characters of all the words in the input. Use last character of last word as first character, last character of last but one word as second character and so on."
   ]
  },
  {
   "cell_type": "code",
   "execution_count": 721,
   "id": "d104d0b0",
   "metadata": {},
   "outputs": [],
   "source": [
    "s1 = 'knack tic pi roar what'\n",
    "s2 = '42;rod;t2t2;car'"
   ]
  },
  {
   "cell_type": "code",
   "execution_count": 722,
   "id": "089530c6",
   "metadata": {},
   "outputs": [
    {
     "data": {
      "text/plain": [
       "['knack tic pi roar what']"
      ]
     },
     "execution_count": 722,
     "metadata": {},
     "output_type": "execute_result"
    }
   ],
   "source": [
    "regex.split(r'(\\d+)(?!.*\\d)', s1)"
   ]
  },
  {
   "cell_type": "code",
   "execution_count": 723,
   "id": "ee4fd9b7",
   "metadata": {},
   "outputs": [
    {
     "data": {
      "text/plain": [
       "['42;rod;t2t', '2', ';car']"
      ]
     },
     "execution_count": 723,
     "metadata": {},
     "output_type": "execute_result"
    }
   ],
   "source": [
    "regex.split(r'(\\d+)(?!.*\\d)', s2)"
   ]
  },
  {
   "cell_type": "markdown",
   "id": "52042fe7",
   "metadata": {},
   "source": [
    "**m)** Replicate `str.rpartition` functionality with regular expressions. Split into three parts based on last match of sequences of digits, which is `777` and `12` for the given input strings."
   ]
  },
  {
   "cell_type": "code",
   "execution_count": 720,
   "id": "efa57b83",
   "metadata": {},
   "outputs": [],
   "source": [
    "s1 = 'Sample123string42with777numbers'\n",
    "s2 = '12apples'"
   ]
  },
  {
   "cell_type": "markdown",
   "id": "adc4ef0b",
   "metadata": {},
   "source": [
    "**n)** Read about fuzzy matching on https://pypi.org/project/regex/. For the given input strings, return `True` if they are exactly same as `cat` or there is exactly one character difference. Ignore case when comparing differences. For example, `Ca2` should give `True`. `act` will be `False` even though the characters are same because position should be maintained."
   ]
  },
  {
   "cell_type": "code",
   "execution_count": null,
   "id": "2b21703c",
   "metadata": {},
   "outputs": [],
   "source": [
    "pat = regex.compile(r'(?i)(cat){s<=1}')\n"
   ]
  }
 ],
 "metadata": {
  "kernelspec": {
   "display_name": "Python 3 (ipykernel)",
   "language": "python",
   "name": "python3"
  },
  "language_info": {
   "codemirror_mode": {
    "name": "ipython",
    "version": 3
   },
   "file_extension": ".py",
   "mimetype": "text/x-python",
   "name": "python",
   "nbconvert_exporter": "python",
   "pygments_lexer": "ipython3",
   "version": "3.9.7"
  }
 },
 "nbformat": 4,
 "nbformat_minor": 5
}
