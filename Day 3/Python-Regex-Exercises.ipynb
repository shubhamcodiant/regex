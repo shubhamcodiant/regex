{
 "cells": [
  {
   "cell_type": "markdown",
   "id": "6a63b714",
   "metadata": {},
   "source": [
    "# Exercises\n",
    "\n",
    ">![info](../images/info.svg) Try to solve exercises in every chapter using only the features discussed until that chapter. Some of the exercises will be easier to solve with techniques presented in later chapters, but the aim of these exercises is to explore the features presented so far.\n",
    "\n",
    ">![info](../images/info.svg) For solutions, see [Exercise_solutions.md](https://github.com/learnbyexample/py_regular_expressions/blob/master/exercises/Exercise_solutions.md).\n",
    "\n",
    "<br>"
   ]
  },
  {
   "cell_type": "code",
   "execution_count": 1,
   "id": "0556ecf4",
   "metadata": {},
   "outputs": [],
   "source": [
    "import re"
   ]
  },
  {
   "cell_type": "markdown",
   "id": "1a16ce07",
   "metadata": {},
   "source": [
    "# re introduction"
   ]
  },
  {
   "cell_type": "markdown",
   "id": "78d3f81f",
   "metadata": {},
   "source": [
    "**a)** Check whether the given strings contain `0xB0`. Display a boolean result as shown b"
   ]
  },
  {
   "cell_type": "code",
   "execution_count": 2,
   "id": "e2e67c23",
   "metadata": {},
   "outputs": [],
   "source": [
    "line1 = 'start address: 0xA0, func1 address: 0xC0'\n",
    "line2 = 'end address: 0xFF, func2 address: 0xB0'"
   ]
  },
  {
   "cell_type": "code",
   "execution_count": 3,
   "id": "3329daac",
   "metadata": {},
   "outputs": [
    {
     "data": {
      "text/plain": [
       "False"
      ]
     },
     "execution_count": 3,
     "metadata": {},
     "output_type": "execute_result"
    }
   ],
   "source": [
    "bool(re.search(r'0xB0', line1))     ##### add your solution here\n"
   ]
  },
  {
   "cell_type": "code",
   "execution_count": 4,
   "id": "6dbe1a48",
   "metadata": {},
   "outputs": [
    {
     "data": {
      "text/plain": [
       "True"
      ]
     },
     "execution_count": 4,
     "metadata": {},
     "output_type": "execute_result"
    }
   ],
   "source": [
    "bool(re.search(r'0xB0', line2))     ##### add your solution here"
   ]
  },
  {
   "cell_type": "markdown",
   "id": "8f9852ec",
   "metadata": {},
   "source": [
    "**b)** Replace all occurrences of `5` with `five` for the given string."
   ]
  },
  {
   "cell_type": "code",
   "execution_count": 5,
   "id": "880711ff",
   "metadata": {},
   "outputs": [
    {
     "data": {
      "text/plain": [
       "'They ate five apples and five oranges'"
      ]
     },
     "execution_count": 5,
     "metadata": {},
     "output_type": "execute_result"
    }
   ],
   "source": [
    "ip = 'They ate 5 apples and 5 oranges'\n",
    "re.sub(r'5','five',ip)  "
   ]
  },
  {
   "cell_type": "markdown",
   "id": "b2865064",
   "metadata": {},
   "source": [
    "**c)** Replace first occurrence of `5` with `five` for the given string."
   ]
  },
  {
   "cell_type": "code",
   "execution_count": 6,
   "id": "79bf8e6b",
   "metadata": {},
   "outputs": [
    {
     "data": {
      "text/plain": [
       "'They ate five apples and 5 oranges'"
      ]
     },
     "execution_count": 6,
     "metadata": {},
     "output_type": "execute_result"
    }
   ],
   "source": [
    "ip = 'They ate 5 apples and 5 oranges'\n",
    "re.sub('5','five', ip, count=1)       ##### add your solution here"
   ]
  },
  {
   "cell_type": "markdown",
   "id": "694208d5",
   "metadata": {},
   "source": [
    "**d)** For the given list, filter all elements that do `*not*` contain `e`."
   ]
  },
  {
   "cell_type": "code",
   "execution_count": 7,
   "id": "44abf381",
   "metadata": {},
   "outputs": [],
   "source": [
    "items = ['goal', 'new', 'user', 'sit', 'eat', 'dinner']"
   ]
  },
  {
   "cell_type": "code",
   "execution_count": 8,
   "id": "5cf423b9",
   "metadata": {},
   "outputs": [
    {
     "data": {
      "text/plain": [
       "['goal', 'sit']"
      ]
     },
     "execution_count": 8,
     "metadata": {},
     "output_type": "execute_result"
    }
   ],
   "source": [
    "[w for w in items if not re.search(r'e',w)]"
   ]
  },
  {
   "cell_type": "markdown",
   "id": "fd9651b2",
   "metadata": {},
   "source": [
    "**e)** Replace all occurrences of `note` irrespective of case with `X`."
   ]
  },
  {
   "cell_type": "code",
   "execution_count": 9,
   "id": "5063de66",
   "metadata": {},
   "outputs": [],
   "source": [
    "ip = 'This note should not be NoTeD'"
   ]
  },
  {
   "cell_type": "code",
   "execution_count": 10,
   "id": "73056047",
   "metadata": {},
   "outputs": [
    {
     "data": {
      "text/plain": [
       "'This X should not be XD'"
      ]
     },
     "execution_count": 10,
     "metadata": {},
     "output_type": "execute_result"
    }
   ],
   "source": [
    "re.sub(r'[Nn]o[Tt]e', \"X\", ip)"
   ]
  },
  {
   "cell_type": "code",
   "execution_count": 11,
   "id": "38ab848a",
   "metadata": {},
   "outputs": [
    {
     "data": {
      "text/plain": [
       "'This X should not be XD'"
      ]
     },
     "execution_count": 11,
     "metadata": {},
     "output_type": "execute_result"
    }
   ],
   "source": [
    "re.sub(r'note|NoTe', \"X\", ip)"
   ]
  },
  {
   "cell_type": "code",
   "execution_count": 12,
   "id": "5a5c6f2b",
   "metadata": {},
   "outputs": [
    {
     "data": {
      "text/plain": [
       "'This X should not be XD'"
      ]
     },
     "execution_count": 12,
     "metadata": {},
     "output_type": "execute_result"
    }
   ],
   "source": [
    "re.sub(r'note', 'X',ip,flags = re.I)"
   ]
  },
  {
   "cell_type": "markdown",
   "id": "70d04255",
   "metadata": {},
   "source": [
    "**f)** Check if `at` is present in the given byte input data."
   ]
  },
  {
   "cell_type": "code",
   "execution_count": 13,
   "id": "731a94e8",
   "metadata": {},
   "outputs": [
    {
     "data": {
      "text/plain": [
       "True"
      ]
     },
     "execution_count": 13,
     "metadata": {},
     "output_type": "execute_result"
    }
   ],
   "source": [
    "ip = b'tiger imp goat'\n",
    "bool(re.search(rb'at',ip))"
   ]
  },
  {
   "cell_type": "markdown",
   "id": "f91efdfe",
   "metadata": {},
   "source": [
    "**g)** For the given input string, display all lines not containing `start` irrespective of case."
   ]
  },
  {
   "cell_type": "code",
   "execution_count": 14,
   "id": "81ec8a36",
   "metadata": {},
   "outputs": [],
   "source": [
    "para = '''good start\n",
    "Start working on that\n",
    "project you always wanted\n",
    "stars are shining brightly\n",
    "hi there\n",
    "start and try to\n",
    "finish the book\n",
    "bye'''"
   ]
  },
  {
   "cell_type": "code",
   "execution_count": 15,
   "id": "7f9df647",
   "metadata": {},
   "outputs": [
    {
     "name": "stdout",
     "output_type": "stream",
     "text": [
      "project you always wanted\n",
      "stars are shining brightly\n",
      "hi there\n",
      "finish the book\n",
      "bye\n"
     ]
    }
   ],
   "source": [
    "pat = re.compile(r'Start|start', re.I)      ##### add your solution here\n",
    ">>> for line in para.split('\\n'):\n",
    "...     if not pat.search(line):\n",
    "...         print(line)"
   ]
  },
  {
   "cell_type": "code",
   "execution_count": 16,
   "id": "d625f4ca",
   "metadata": {},
   "outputs": [
    {
     "name": "stdout",
     "output_type": "stream",
     "text": [
      "project you always wanted\n",
      "stars are shining brightly\n",
      "hi there\n",
      "finish the book\n",
      "bye\n"
     ]
    }
   ],
   "source": [
    "pat = re.compile(r'start', flags =re.I)      ##### add your solution here\n",
    ">>> for line in para.split('\\n'):\n",
    "...     if not pat.search(line):\n",
    "...         print(line)"
   ]
  },
  {
   "cell_type": "markdown",
   "id": "0610f8a3",
   "metadata": {},
   "source": [
    "**h)** For the given list, filter all elements that contains either `a` or `w`."
   ]
  },
  {
   "cell_type": "code",
   "execution_count": 17,
   "id": "b8b08586",
   "metadata": {},
   "outputs": [],
   "source": [
    "items = ['goal', 'new', 'user', 'sit', 'eat', 'dinner']"
   ]
  },
  {
   "cell_type": "code",
   "execution_count": 18,
   "id": "f914e002",
   "metadata": {},
   "outputs": [
    {
     "data": {
      "text/plain": [
       "['goal', 'new', 'eat']"
      ]
     },
     "execution_count": 18,
     "metadata": {},
     "output_type": "execute_result"
    }
   ],
   "source": [
    "[w for w in items if re.search(r'a',w) or re.search(r'w',w)]"
   ]
  },
  {
   "cell_type": "markdown",
   "id": "604dd083",
   "metadata": {},
   "source": [
    "**i)** For the given list, filter all elements that contains both `e` and `n`."
   ]
  },
  {
   "cell_type": "code",
   "execution_count": 19,
   "id": "e576877d",
   "metadata": {},
   "outputs": [],
   "source": [
    "items = ['goal', 'new', 'user', 'sit', 'eat', 'dinner']"
   ]
  },
  {
   "cell_type": "code",
   "execution_count": 20,
   "id": "9ee424a3",
   "metadata": {},
   "outputs": [
    {
     "data": {
      "text/plain": [
       "['new', 'dinner']"
      ]
     },
     "execution_count": 20,
     "metadata": {},
     "output_type": "execute_result"
    }
   ],
   "source": [
    "[w for w in items if re.search(r'e',w) and re.search(r'n',w)]"
   ]
  },
  {
   "cell_type": "markdown",
   "id": "3ead3d06",
   "metadata": {},
   "source": [
    "**j)** For the given string, replace `0xA0` with `0x7F` and `0xC0` with `0x1F`."
   ]
  },
  {
   "cell_type": "code",
   "execution_count": 21,
   "id": "5f1b1547",
   "metadata": {},
   "outputs": [
    {
     "data": {
      "text/plain": [
       "'start address: 0xA0, func1 address: 0xC0'"
      ]
     },
     "execution_count": 21,
     "metadata": {},
     "output_type": "execute_result"
    }
   ],
   "source": [
    "ip = 'start address: 0xA0, func1 address: 0xC0'\n",
    "re.sub(r'\\.+(0xA0)\\.+(0xC0)',r'\\.+\\0x7F\\.+\\0x1F',ip)"
   ]
  },
  {
   "cell_type": "code",
   "execution_count": 22,
   "id": "d492067b",
   "metadata": {},
   "outputs": [
    {
     "data": {
      "text/plain": [
       "'start address: 0x7F, func1 address: 0x1F'"
      ]
     },
     "execution_count": 22,
     "metadata": {},
     "output_type": "execute_result"
    }
   ],
   "source": [
    "ip = 'start address: 0xA0, func1 address: 0xC0'\n",
    "re.sub(r'0xC0', '0x1F', re.sub(r'0xA0', '0x7F', ip))"
   ]
  },
  {
   "cell_type": "code",
   "execution_count": 23,
   "id": "b39ccb43",
   "metadata": {},
   "outputs": [
    {
     "name": "stdout",
     "output_type": "stream",
     "text": [
      "start address: 0x7F, func1 address: 0x1F\n"
     ]
    }
   ],
   "source": [
    "ip = 'start address: 0xA0, func1 address: 0xC0'\n",
    "lst1 = ['0xA0','0xC0']\n",
    "lst2 = ['0x7F','0x1F' ]\n",
    "for i in range(2):\n",
    "    x =re.sub(lst1[i],lst2[i], ip )\n",
    "    ip = x\n",
    "\n",
    "print(x)"
   ]
  },
  {
   "cell_type": "markdown",
   "id": "ed285fe5",
   "metadata": {},
   "source": [
    "# Anchors"
   ]
  },
  {
   "cell_type": "markdown",
   "id": "9df5f32a",
   "metadata": {},
   "source": [
    "**a)** Check if the given strings start with `be`."
   ]
  },
  {
   "cell_type": "code",
   "execution_count": 24,
   "id": "6d0aecc3",
   "metadata": {},
   "outputs": [],
   "source": [
    "line1 = 'be nice'\n",
    "line2 = '\"best!\"'\n",
    "line3 = 'better?'\n",
    "line4 = 'oh no\\nbear spotted'\n"
   ]
  },
  {
   "cell_type": "code",
   "execution_count": 25,
   "id": "0154fd4c",
   "metadata": {},
   "outputs": [],
   "source": [
    "pat = re.compile(\"^be\")      ##### add your solution here"
   ]
  },
  {
   "cell_type": "code",
   "execution_count": 26,
   "id": "ecd1375e",
   "metadata": {},
   "outputs": [
    {
     "data": {
      "text/plain": [
       "True"
      ]
     },
     "execution_count": 26,
     "metadata": {},
     "output_type": "execute_result"
    }
   ],
   "source": [
    "bool(pat.search(line1))"
   ]
  },
  {
   "cell_type": "code",
   "execution_count": 27,
   "id": "1c79102f",
   "metadata": {},
   "outputs": [
    {
     "data": {
      "text/plain": [
       "False"
      ]
     },
     "execution_count": 27,
     "metadata": {},
     "output_type": "execute_result"
    }
   ],
   "source": [
    "bool(pat.search(line2))"
   ]
  },
  {
   "cell_type": "code",
   "execution_count": 28,
   "id": "5d63fc94",
   "metadata": {},
   "outputs": [
    {
     "data": {
      "text/plain": [
       "True"
      ]
     },
     "execution_count": 28,
     "metadata": {},
     "output_type": "execute_result"
    }
   ],
   "source": [
    "bool(pat.search(line3))"
   ]
  },
  {
   "cell_type": "code",
   "execution_count": 29,
   "id": "ca93fbdd",
   "metadata": {},
   "outputs": [
    {
     "data": {
      "text/plain": [
       "False"
      ]
     },
     "execution_count": 29,
     "metadata": {},
     "output_type": "execute_result"
    }
   ],
   "source": [
    "bool(pat.search(line4))"
   ]
  },
  {
   "cell_type": "markdown",
   "id": "54899df3",
   "metadata": {},
   "source": [
    "**b)** For the given input string, change only whole word `red` to `brown`"
   ]
  },
  {
   "cell_type": "markdown",
   "id": "e83b7f6b",
   "metadata": {},
   "source": [
    "## `\\b` \n",
    "word boundry"
   ]
  },
  {
   "cell_type": "code",
   "execution_count": 30,
   "id": "baed7eda",
   "metadata": {},
   "outputs": [],
   "source": [
    "words = 'bred red spread credible'"
   ]
  },
  {
   "cell_type": "code",
   "execution_count": 31,
   "id": "a1e1bfb0",
   "metadata": {},
   "outputs": [
    {
     "data": {
      "text/plain": [
       "'bred brown spread credible'"
      ]
     },
     "execution_count": 31,
     "metadata": {},
     "output_type": "execute_result"
    }
   ],
   "source": [
    "re.sub(r'\\bred\\b', 'brown',words)     ##### add your solution here\n",
    "# \\b Anchors a match to a word boundary.\n",
    "# it can create boundry that mean restricted"
   ]
  },
  {
   "cell_type": "markdown",
   "id": "4c9d6c8a",
   "metadata": {},
   "source": [
    "**c)** For the given input list, filter all elements that contains `42` surrounded by word characters.\n"
   ]
  },
  {
   "cell_type": "markdown",
   "id": "1f92d183",
   "metadata": {},
   "source": [
    "## `\\B` \n",
    "reverse word boundry"
   ]
  },
  {
   "cell_type": "code",
   "execution_count": 32,
   "id": "d83a73d2",
   "metadata": {},
   "outputs": [],
   "source": [
    "words = ['hi42bye', 'nice1423', 'bad42', 'cool_42a', 'fake4b']"
   ]
  },
  {
   "cell_type": "code",
   "execution_count": 33,
   "id": "4ca23b6f",
   "metadata": {},
   "outputs": [
    {
     "data": {
      "text/plain": [
       "['hi42bye', 'nice1423', 'cool_42a']"
      ]
     },
     "execution_count": 33,
     "metadata": {},
     "output_type": "execute_result"
    }
   ],
   "source": [
    "[w for w in words if re.search('\\w+42\\w+',w)]"
   ]
  },
  {
   "cell_type": "code",
   "execution_count": 34,
   "id": "0bce465e",
   "metadata": {},
   "outputs": [
    {
     "data": {
      "text/plain": [
       "['hi42bye', 'nice1423', 'cool_42a']"
      ]
     },
     "execution_count": 34,
     "metadata": {},
     "output_type": "execute_result"
    }
   ],
   "source": [
    "[w for w in words if re.search('\\B42\\B',w)]"
   ]
  },
  {
   "cell_type": "markdown",
   "id": "7798c130",
   "metadata": {},
   "source": [
    " 1 **d)** For the given input list, filter all elements that start with `den` or end with `ly`."
   ]
  },
  {
   "cell_type": "code",
   "execution_count": 35,
   "id": "ccd384ce",
   "metadata": {},
   "outputs": [],
   "source": [
    "items = ['lovely', '1\\ndentist', '2 lonely', 'eden', 'fly\\n', 'dent']"
   ]
  },
  {
   "cell_type": "code",
   "execution_count": 36,
   "id": "81e9273f",
   "metadata": {},
   "outputs": [
    {
     "data": {
      "text/plain": [
       "['lovely', '2 lonely', 'fly\\n', 'dent']"
      ]
     },
     "execution_count": 36,
     "metadata": {},
     "output_type": "execute_result"
    }
   ],
   "source": [
    "[e for e in items if re.search(r'^(den)|(ly)$',e)]"
   ]
  },
  {
   "cell_type": "markdown",
   "id": "7590856e",
   "metadata": {},
   "source": [
    "## `\\A` \n",
    "Anchor a match to the start of `<string>`"
   ]
  },
  {
   "cell_type": "markdown",
   "id": "930f8830",
   "metadata": {},
   "source": [
    "## or"
   ]
  },
  {
   "cell_type": "code",
   "execution_count": 37,
   "id": "32a57b60",
   "metadata": {},
   "outputs": [
    {
     "data": {
      "text/plain": [
       "['lovely', '2 lonely', 'fly\\n', 'dent']"
      ]
     },
     "execution_count": 37,
     "metadata": {},
     "output_type": "execute_result"
    }
   ],
   "source": [
    "[e for e in items if re.search(r'^(den)',e) or re.search(r'(ly)$',e)]"
   ]
  },
  {
   "cell_type": "code",
   "execution_count": 38,
   "id": "7f4b66a6",
   "metadata": {},
   "outputs": [
    {
     "data": {
      "text/plain": [
       "['lovely', '2 lonely', 'dent']"
      ]
     },
     "execution_count": 38,
     "metadata": {},
     "output_type": "execute_result"
    }
   ],
   "source": [
    "[e for e in items if re.search(r'\\Aden', e) or re.search(r'ly\\Z', e)]"
   ]
  },
  {
   "cell_type": "markdown",
   "id": "5100c42c",
   "metadata": {},
   "source": [
    "**e)** For the given input string, change whole word `mall` to `1234` only if it is at the start of a line."
   ]
  },
  {
   "cell_type": "code",
   "execution_count": 39,
   "id": "06fef86c",
   "metadata": {},
   "outputs": [],
   "source": [
    "para = '''\\\n",
    "ball fall wall tall\n",
    "mall call ball pall\n",
    "wall mall ball fall\n",
    "mallet wallet malls'''"
   ]
  },
  {
   "cell_type": "code",
   "execution_count": 40,
   "id": "440297ef",
   "metadata": {},
   "outputs": [
    {
     "name": "stdout",
     "output_type": "stream",
     "text": [
      "ball fall wall tall\n",
      "1234 call ball pall\n",
      "wall mall ball fall\n",
      "mallet wallet malls\n"
     ]
    }
   ],
   "source": [
    "print(re.sub('(mall)', '1234', para, count =1))"
   ]
  },
  {
   "cell_type": "markdown",
   "id": "31c0d711",
   "metadata": {},
   "source": [
    "flags"
   ]
  },
  {
   "cell_type": "code",
   "execution_count": 41,
   "id": "adf71f31",
   "metadata": {},
   "outputs": [
    {
     "name": "stdout",
     "output_type": "stream",
     "text": [
      "ball fall wall tall\n",
      "1234 call ball pall\n",
      "wall mall ball fall\n",
      "mallet wallet malls\n"
     ]
    }
   ],
   "source": [
    "print(re.sub(r'^mall\\b', '1234', para, flags= re.M))"
   ]
  },
  {
   "cell_type": "markdown",
   "id": "f225fa1c",
   "metadata": {},
   "source": [
    "**f)** For the given list, filter all elements having a line starting with `den` or ending with `ly`.\n"
   ]
  },
  {
   "cell_type": "code",
   "execution_count": 42,
   "id": "3532e431",
   "metadata": {},
   "outputs": [],
   "source": [
    "items = ['lovely', '1\\ndentist', '2 lonely', 'eden', 'fly\\nfar', 'dent']"
   ]
  },
  {
   "cell_type": "code",
   "execution_count": 43,
   "id": "790766d2",
   "metadata": {},
   "outputs": [
    {
     "data": {
      "text/plain": [
       "['lovely', '1\\ndentist', '2 lonely', 'fly\\nfar', 'dent']"
      ]
     },
     "execution_count": 43,
     "metadata": {},
     "output_type": "execute_result"
    }
   ],
   "source": [
    "[w for w in items if re.search(\"^(den)|(ly)$\", w, re.M)]"
   ]
  },
  {
   "cell_type": "code",
   "execution_count": 44,
   "id": "d8b32489",
   "metadata": {},
   "outputs": [
    {
     "data": {
      "text/plain": [
       "['lovely', '1\\ndentist', '2 lonely', 'fly\\nfar', 'dent']"
      ]
     },
     "execution_count": 44,
     "metadata": {},
     "output_type": "execute_result"
    }
   ],
   "source": [
    "[e for e in items if re.search(r'^den', e, flags=re.M) or re.search(r'ly$', e, flags=re.M)]"
   ]
  },
  {
   "cell_type": "markdown",
   "id": "dbad9007",
   "metadata": {},
   "source": [
    "**g)** For the given input list, filter all whole elements `12\\nthree` irrespective of case."
   ]
  },
  {
   "cell_type": "code",
   "execution_count": 45,
   "id": "76dadcb7",
   "metadata": {},
   "outputs": [],
   "source": [
    "items = ['12\\nthree\\n', '12\\nThree', '12\\nthree\\n4', '12\\nthree']"
   ]
  },
  {
   "cell_type": "markdown",
   "id": "d0b68b2d",
   "metadata": {},
   "source": [
    "## flags=re.M\n",
    "## re.serach \n",
    "(wrong)"
   ]
  },
  {
   "cell_type": "code",
   "execution_count": 46,
   "id": "ed1dc31b",
   "metadata": {},
   "outputs": [
    {
     "data": {
      "text/plain": [
       "['12\\nthree\\n', '12\\nthree\\n4', '12\\nthree']"
      ]
     },
     "execution_count": 46,
     "metadata": {},
     "output_type": "execute_result"
    }
   ],
   "source": [
    "[w for w in items if re.search(\"12\\nthree\", w, flags=re.M)]"
   ]
  },
  {
   "cell_type": "code",
   "execution_count": 47,
   "id": "1ad5c1e3",
   "metadata": {},
   "outputs": [
    {
     "data": {
      "text/plain": [
       "[]"
      ]
     },
     "execution_count": 47,
     "metadata": {},
     "output_type": "execute_result"
    }
   ],
   "source": [
    "[w for w in items if re.search(\"^[1].+e\", w, re.M)]"
   ]
  },
  {
   "cell_type": "markdown",
   "id": "16f8bd86",
   "metadata": {},
   "source": [
    "## flags= re.I\n",
    "## re.fullmatch()\n",
    "(right)"
   ]
  },
  {
   "cell_type": "code",
   "execution_count": 48,
   "id": "9fab3173",
   "metadata": {},
   "outputs": [
    {
     "data": {
      "text/plain": [
       "['12\\nThree', '12\\nthree']"
      ]
     },
     "execution_count": 48,
     "metadata": {},
     "output_type": "execute_result"
    }
   ],
   "source": [
    "[e for e in items if re.fullmatch(r'12\\nthree', e, flags=re.I)]"
   ]
  },
  {
   "cell_type": "markdown",
   "id": "02be44d2",
   "metadata": {},
   "source": [
    " **h)** For the given input list, replace `hand` with `X` for all elements that start with `hand` followed by at least one word character."
   ]
  },
  {
   "cell_type": "code",
   "execution_count": 49,
   "id": "a6f1cb0a",
   "metadata": {},
   "outputs": [],
   "source": [
    "items = ['handed', 'hand', 'handy', 'unhanded', 'handle', 'hand-2']"
   ]
  },
  {
   "cell_type": "code",
   "execution_count": 50,
   "id": "71025ec9",
   "metadata": {},
   "outputs": [
    {
     "data": {
      "text/plain": [
       "['Xed', 'hand', 'Xy', 'unhanded', 'Xle', 'hand-2']"
      ]
     },
     "execution_count": 50,
     "metadata": {},
     "output_type": "execute_result"
    }
   ],
   "source": [
    "[re.sub('^[h].+d\\B','X',w) for w in items]"
   ]
  },
  {
   "cell_type": "markdown",
   "id": "58984c6d",
   "metadata": {},
   "source": [
    "## \\b with \\B"
   ]
  },
  {
   "cell_type": "code",
   "execution_count": 51,
   "id": "e3e6ada5",
   "metadata": {},
   "outputs": [
    {
     "data": {
      "text/plain": [
       "['Xed', 'hand', 'Xy', 'unhanded', 'Xle', 'hand-2']"
      ]
     },
     "execution_count": 51,
     "metadata": {},
     "output_type": "execute_result"
    }
   ],
   "source": [
    "[re.sub(r'\\bhand\\B','X', w) for w in items]"
   ]
  },
  {
   "cell_type": "markdown",
   "id": "254e57ca",
   "metadata": {},
   "source": [
    "**i)** For the given input list, filter all elements starting with `h`. Additionally, replace `e` with `X` for these filtered elements."
   ]
  },
  {
   "cell_type": "code",
   "execution_count": 52,
   "id": "deee0511",
   "metadata": {},
   "outputs": [],
   "source": [
    "items = ['handed', 'hand', 'handy', 'unhanded', 'handle', 'hand-2']"
   ]
  },
  {
   "cell_type": "code",
   "execution_count": 53,
   "id": "38fe6dec",
   "metadata": {},
   "outputs": [
    {
     "data": {
      "text/plain": [
       "['handXed', 'handX', 'handXy', 'handXlX', 'handX-2']"
      ]
     },
     "execution_count": 53,
     "metadata": {},
     "output_type": "execute_result"
    }
   ],
   "source": [
    "[re.sub('(?<=^(hand))|(?<=^(handl))(e)','X',w) for w in items if re.search(r'\\Ah', w) ]"
   ]
  },
  {
   "cell_type": "markdown",
   "id": "91f40f87",
   "metadata": {},
   "source": [
    "## \\A\n",
    "Start match anchor"
   ]
  },
  {
   "cell_type": "code",
   "execution_count": 54,
   "id": "015132f8",
   "metadata": {},
   "outputs": [
    {
     "data": {
      "text/plain": [
       "['handXd', 'hand', 'handy', 'handlX', 'hand-2']"
      ]
     },
     "execution_count": 54,
     "metadata": {},
     "output_type": "execute_result"
    }
   ],
   "source": [
    "[re.sub(r'e', 'X', w) for w in items if re.search(r'\\Ah', w)]"
   ]
  },
  {
   "cell_type": "markdown",
   "id": "0689862b",
   "metadata": {},
   "source": [
    "# Alternation and Grouping\n"
   ]
  },
  {
   "cell_type": "markdown",
   "id": "9792254f",
   "metadata": {},
   "source": [
    "**a)** For the given input list, filter all elements that start with `den` or end with `ly`"
   ]
  },
  {
   "cell_type": "code",
   "execution_count": 55,
   "id": "eedc49d1",
   "metadata": {},
   "outputs": [],
   "source": [
    "items = ['lovely', '1\\ndentist', '2 lonely', 'eden', 'fly\\n', 'dent']"
   ]
  },
  {
   "cell_type": "markdown",
   "id": "ef39aa2f",
   "metadata": {},
   "source": [
    "## |\n",
    "Specifies a set of alternatives on which to match."
   ]
  },
  {
   "cell_type": "code",
   "execution_count": 56,
   "id": "0420fc8b",
   "metadata": {},
   "outputs": [],
   "source": [
    "lst = []\n",
    "for w in items:\n",
    "    if re.search('den\\w+|\\w+ly',w):\n",
    "        lst.append(w)\n",
    "        "
   ]
  },
  {
   "cell_type": "code",
   "execution_count": 57,
   "id": "660628c2",
   "metadata": {},
   "outputs": [
    {
     "data": {
      "text/plain": [
       "['lovely', '1\\ndentist', '2 lonely', 'fly\\n', 'dent']"
      ]
     },
     "execution_count": 57,
     "metadata": {},
     "output_type": "execute_result"
    }
   ],
   "source": [
    "lst"
   ]
  },
  {
   "cell_type": "markdown",
   "id": "58820474",
   "metadata": {},
   "source": [
    "## \\Z \\z\n",
    "\\Z  matches just before a `single newline` at the end of the search string"
   ]
  },
  {
   "cell_type": "code",
   "execution_count": 58,
   "id": "81d9c9ed",
   "metadata": {},
   "outputs": [
    {
     "data": {
      "text/plain": [
       "['lovely', '2 lonely', 'dent']"
      ]
     },
     "execution_count": 58,
     "metadata": {},
     "output_type": "execute_result"
    }
   ],
   "source": [
    "[e for e in items if re.search(r'\\Aden|ly\\Z', e)]\n",
    "# (correct)"
   ]
  },
  {
   "cell_type": "code",
   "execution_count": 59,
   "id": "d747ecef",
   "metadata": {},
   "outputs": [
    {
     "data": {
      "text/plain": [
       "['lovely', '2 lonely', 'fly\\n', 'dent']"
      ]
     },
     "execution_count": 59,
     "metadata": {},
     "output_type": "execute_result"
    }
   ],
   "source": [
    "[e for e in items if re.search(r'^den\\w+|\\w+ly$',e)]"
   ]
  },
  {
   "cell_type": "markdown",
   "id": "fc1bbea8",
   "metadata": {},
   "source": [
    "**b)** For the given list, filter all elements having a line starting with `den` or ending with `ly`."
   ]
  },
  {
   "cell_type": "code",
   "execution_count": 60,
   "id": "9baf37cb",
   "metadata": {},
   "outputs": [],
   "source": [
    "items = ['lovely', '1\\ndentist', '2 lonely', 'eden', 'fly\\nfar', 'dent']"
   ]
  },
  {
   "cell_type": "code",
   "execution_count": 61,
   "id": "c572a7b0",
   "metadata": {},
   "outputs": [
    {
     "data": {
      "text/plain": [
       "['lovely', '2 lonely', 'dent']"
      ]
     },
     "execution_count": 61,
     "metadata": {},
     "output_type": "execute_result"
    }
   ],
   "source": [
    "[e for e in items if re.search(r'^den|ly$',e)]"
   ]
  },
  {
   "cell_type": "markdown",
   "id": "e0857773",
   "metadata": {},
   "source": [
    "## flags = re.M"
   ]
  },
  {
   "cell_type": "code",
   "execution_count": 62,
   "id": "36dd9d4b",
   "metadata": {},
   "outputs": [
    {
     "data": {
      "text/plain": [
       "['lovely', '1\\ndentist', '2 lonely', 'fly\\nfar', 'dent']"
      ]
     },
     "execution_count": 62,
     "metadata": {},
     "output_type": "execute_result"
    }
   ],
   "source": [
    "[e for e in items if re.search(r'^den|ly$',e, flags = re.M)]"
   ]
  },
  {
   "cell_type": "markdown",
   "id": "ad890b15",
   "metadata": {},
   "source": [
    "**c)** For the given input strings, replace all occurrences of `removed` or `reed` or `received` or `refused` with `X`.\n"
   ]
  },
  {
   "cell_type": "code",
   "execution_count": 63,
   "id": "5cbee880",
   "metadata": {},
   "outputs": [],
   "source": [
    "s1 = 'creed refuse removed read'\n",
    "s2 = 'refused reed redo received'"
   ]
  },
  {
   "cell_type": "code",
   "execution_count": 64,
   "id": "d07c5558",
   "metadata": {},
   "outputs": [
    {
     "name": "stdout",
     "output_type": "stream",
     "text": [
      "cX refuse X read\n",
      "X X redo X\n"
     ]
    }
   ],
   "source": [
    "pat = re.compile('reed|received|refused|removed')\n",
    "print(pat.sub('X', s1))\n",
    "print(pat.sub('X', s2))"
   ]
  },
  {
   "cell_type": "markdown",
   "id": "c9c4be6e",
   "metadata": {},
   "source": [
    "## |\n",
    "multiple options"
   ]
  },
  {
   "cell_type": "code",
   "execution_count": 65,
   "id": "c2016b6c",
   "metadata": {},
   "outputs": [],
   "source": [
    "pat = re.compile('re(|ceiv|fus|mov)ed')"
   ]
  },
  {
   "cell_type": "code",
   "execution_count": 66,
   "id": "5a8e0482",
   "metadata": {},
   "outputs": [
    {
     "data": {
      "text/plain": [
       "'cX refuse X read'"
      ]
     },
     "execution_count": 66,
     "metadata": {},
     "output_type": "execute_result"
    }
   ],
   "source": [
    "pat.sub('X', s1)"
   ]
  },
  {
   "cell_type": "code",
   "execution_count": 67,
   "id": "094cbd7c",
   "metadata": {},
   "outputs": [
    {
     "data": {
      "text/plain": [
       "'cX refuse X read'"
      ]
     },
     "execution_count": 67,
     "metadata": {},
     "output_type": "execute_result"
    }
   ],
   "source": [
    "pat.sub('X', s1)"
   ]
  },
  {
   "cell_type": "markdown",
   "id": "340cdee1",
   "metadata": {},
   "source": [
    "**d)** For the given input strings, replace all matches from the list `words` with `A`.\n"
   ]
  },
  {
   "cell_type": "code",
   "execution_count": 68,
   "id": "c2bc871b",
   "metadata": {},
   "outputs": [],
   "source": [
    "s1 = 'plate full of slate'\n",
    "s2 = \"slated for later, don't be late\"\n",
    "words = ['late', 'later', 'slated']"
   ]
  },
  {
   "cell_type": "code",
   "execution_count": 69,
   "id": "052bb417",
   "metadata": {},
   "outputs": [
    {
     "name": "stdout",
     "output_type": "stream",
     "text": [
      "pA full of sA\n",
      "A for Ar, don't be A\n"
     ]
    }
   ],
   "source": [
    "pat = re.compile(\"|\".join(words))\n",
    "print(pat.sub('A', s1))\n",
    "print(pat.sub('A', s2))"
   ]
  },
  {
   "cell_type": "markdown",
   "id": "2ff1641b",
   "metadata": {},
   "source": [
    "**e)** Filter all whole elements from the input list `items` based on elements listed in `words`."
   ]
  },
  {
   "cell_type": "code",
   "execution_count": 70,
   "id": "e50a33fd",
   "metadata": {},
   "outputs": [],
   "source": [
    "items = ['slate', 'later', 'plate', 'late', 'slates', 'slated ']\n",
    "words = ['late', 'later', 'slated']"
   ]
  },
  {
   "cell_type": "markdown",
   "id": "b55e4410",
   "metadata": {},
   "source": [
    "# .fullmatch"
   ]
  },
  {
   "cell_type": "code",
   "execution_count": 71,
   "id": "80d919e3",
   "metadata": {},
   "outputs": [
    {
     "data": {
      "text/plain": [
       "['later', 'late']"
      ]
     },
     "execution_count": 71,
     "metadata": {},
     "output_type": "execute_result"
    }
   ],
   "source": [
    "pat = re.compile(\"|\".join(words))\n",
    "\n",
    "[w for w in items if pat.fullmatch(w)]"
   ]
  },
  {
   "cell_type": "markdown",
   "id": "dde22fb4",
   "metadata": {},
   "source": [
    "# Escaping metacharacters\n",
    "`\\*, \\+,\\^,\\\\, \\|`"
   ]
  },
  {
   "cell_type": "markdown",
   "id": "c59c1684",
   "metadata": {},
   "source": [
    "**a)** Transform the given input strings to the expected output using same logic on both strings."
   ]
  },
  {
   "cell_type": "code",
   "execution_count": 72,
   "id": "4ced4b66",
   "metadata": {},
   "outputs": [],
   "source": [
    "str1 = '(9-2)*5+qty/3'\n",
    "\n",
    "str2 = '(qty+4)/2-(9-2)*5+pq/4'\n"
   ]
  },
  {
   "cell_type": "code",
   "execution_count": 73,
   "id": "6d4cc074",
   "metadata": {},
   "outputs": [
    {
     "data": {
      "text/plain": [
       "'35+qty/3'"
      ]
     },
     "execution_count": 73,
     "metadata": {},
     "output_type": "execute_result"
    }
   ],
   "source": [
    "re.sub(r'\\(9\\-2\\)\\*5', '35', str1)"
   ]
  },
  {
   "cell_type": "code",
   "execution_count": 74,
   "id": "4e9123e6",
   "metadata": {},
   "outputs": [
    {
     "data": {
      "text/plain": [
       "'(qty+4)/2-35+pq/4'"
      ]
     },
     "execution_count": 74,
     "metadata": {},
     "output_type": "execute_result"
    }
   ],
   "source": [
    "re.sub(r'\\(qty\\+4\\)\\/2\\-\\(9\\-2\\)\\*5','(qty+4)/2-35', str2)"
   ]
  },
  {
   "cell_type": "markdown",
   "id": "89ca3107",
   "metadata": {},
   "source": [
    "**b)** Replace `(4)\\|` with `2` only at the start or end of given input strings."
   ]
  },
  {
   "cell_type": "code",
   "execution_count": 75,
   "id": "b6b01d86",
   "metadata": {},
   "outputs": [],
   "source": [
    "s1 = r'2.3/(4)\\|6 foo 5.3-(4)\\|'\n",
    "\n",
    "s2 = r'(4)\\|42 - (4)\\|3'\n",
    "\n",
    "s3 = 'two - (4)\\\\|\\n'\n"
   ]
  },
  {
   "cell_type": "code",
   "execution_count": 76,
   "id": "82ccc897",
   "metadata": {},
   "outputs": [],
   "source": [
    "# raw string need "
   ]
  },
  {
   "cell_type": "code",
   "execution_count": 77,
   "id": "b00cd6b2",
   "metadata": {},
   "outputs": [],
   "source": [
    "pat = re.compile(r'\\A\\(4\\)\\\\\\||\\(4\\)\\\\\\|\\Z')\n",
    "# \\(4\\)\\\\\\ ==(4)\\|"
   ]
  },
  {
   "cell_type": "code",
   "execution_count": 78,
   "id": "295e8dd9",
   "metadata": {},
   "outputs": [
    {
     "data": {
      "text/plain": [
       "'2.3/(4)\\\\|6 foo 5.3-2'"
      ]
     },
     "execution_count": 78,
     "metadata": {},
     "output_type": "execute_result"
    }
   ],
   "source": [
    "pat.sub('2',s1)"
   ]
  },
  {
   "cell_type": "code",
   "execution_count": 79,
   "id": "217210e8",
   "metadata": {},
   "outputs": [
    {
     "data": {
      "text/plain": [
       "'242 - (4)\\\\|3'"
      ]
     },
     "execution_count": 79,
     "metadata": {},
     "output_type": "execute_result"
    }
   ],
   "source": [
    "pat.sub('2',s2)"
   ]
  },
  {
   "cell_type": "code",
   "execution_count": 80,
   "id": "0e80d02e",
   "metadata": {},
   "outputs": [
    {
     "data": {
      "text/plain": [
       "'two - (4)\\\\|\\n'"
      ]
     },
     "execution_count": 80,
     "metadata": {},
     "output_type": "execute_result"
    }
   ],
   "source": [
    "pat.sub('2',s3)"
   ]
  },
  {
   "cell_type": "markdown",
   "id": "798729b6",
   "metadata": {},
   "source": [
    "**c)** Replace any matching element from the list `items` with `X` for given the input strings. Match the elements from `items` literally. Assume no two elements of `items` will result in any matching conflict.\n"
   ]
  },
  {
   "cell_type": "code",
   "execution_count": 81,
   "id": "e1979b5b",
   "metadata": {},
   "outputs": [],
   "source": [
    "items = ['a.b', '3+n', r'x\\y\\z', 'qty||price', '{n}']\n"
   ]
  },
  {
   "cell_type": "markdown",
   "id": "d45c0f26",
   "metadata": {},
   "source": [
    "## re.escape() \n",
    "### same as re.match()\n",
    "lot of special characters that you want the parser to take literally instead of as metacharacters"
   ]
  },
  {
   "cell_type": "code",
   "execution_count": 82,
   "id": "6f8d6276",
   "metadata": {},
   "outputs": [],
   "source": [
    "pat = re.compile(\"|\".join(re.escape(e) for e in items))      ##### add your solution here"
   ]
  },
  {
   "cell_type": "code",
   "execution_count": 83,
   "id": "a26ed18c",
   "metadata": {},
   "outputs": [
    {
     "data": {
      "text/plain": [
       "'0Xcd'"
      ]
     },
     "execution_count": 83,
     "metadata": {},
     "output_type": "execute_result"
    }
   ],
   "source": [
    "pat.sub('X','0a.bcd')"
   ]
  },
  {
   "cell_type": "code",
   "execution_count": 84,
   "id": "3e84adbd",
   "metadata": {},
   "outputs": [
    {
     "data": {
      "text/plain": [
       "'EXAMPLE'"
      ]
     },
     "execution_count": 84,
     "metadata": {},
     "output_type": "execute_result"
    }
   ],
   "source": [
    "pat.sub('X', 'E{n}AMPLE')"
   ]
  },
  {
   "cell_type": "code",
   "execution_count": 85,
   "id": "bcaaf8fa",
   "metadata": {},
   "outputs": [
    {
     "data": {
      "text/plain": [
       "'4X2 aXe'"
      ]
     },
     "execution_count": 85,
     "metadata": {},
     "output_type": "execute_result"
    }
   ],
   "source": [
    "pat.sub('X', r'43+n2 ax\\y\\ze')"
   ]
  },
  {
   "cell_type": "markdown",
   "id": "b22691ab",
   "metadata": {},
   "source": [
    "**d)** Replace backspace character `\\b` with a single space character for the given input string."
   ]
  },
  {
   "cell_type": "markdown",
   "id": "859a20e0",
   "metadata": {},
   "source": [
    "# \\b = \\x08"
   ]
  },
  {
   "cell_type": "code",
   "execution_count": 86,
   "id": "64cc2ca8",
   "metadata": {},
   "outputs": [
    {
     "data": {
      "text/plain": [
       "'123\\x08456'"
      ]
     },
     "execution_count": 86,
     "metadata": {},
     "output_type": "execute_result"
    }
   ],
   "source": [
    "ip = '123\\b456'\n",
    "ip"
   ]
  },
  {
   "cell_type": "code",
   "execution_count": 87,
   "id": "fe4bddf4",
   "metadata": {},
   "outputs": [
    {
     "data": {
      "text/plain": [
       "'123 456'"
      ]
     },
     "execution_count": 87,
     "metadata": {},
     "output_type": "execute_result"
    }
   ],
   "source": [
    "re.sub(r'\\x08',' ',ip)"
   ]
  },
  {
   "cell_type": "markdown",
   "id": "67ec8041",
   "metadata": {},
   "source": [
    "Raw string"
   ]
  },
  {
   "cell_type": "code",
   "execution_count": 88,
   "id": "af5222d5",
   "metadata": {},
   "outputs": [
    {
     "data": {
      "text/plain": [
       "'123\\\\b456'"
      ]
     },
     "execution_count": 88,
     "metadata": {},
     "output_type": "execute_result"
    }
   ],
   "source": [
    "ip = r'123\\b456'\n",
    "ip"
   ]
  },
  {
   "cell_type": "code",
   "execution_count": 89,
   "id": "d5a39851",
   "metadata": {},
   "outputs": [
    {
     "data": {
      "text/plain": [
       "'123 456'"
      ]
     },
     "execution_count": 89,
     "metadata": {},
     "output_type": "execute_result"
    }
   ],
   "source": [
    "re.sub(r'\\\\b',' ',ip)"
   ]
  },
  {
   "cell_type": "markdown",
   "id": "5242a4b3",
   "metadata": {},
   "source": [
    "**e)** Replace all occurrences of `\\e` with `e`."
   ]
  },
  {
   "cell_type": "code",
   "execution_count": 90,
   "id": "b9874d61",
   "metadata": {},
   "outputs": [
    {
     "data": {
      "text/plain": [
       "'th\\\\er\\\\e ar\\\\e common asp\\\\ects among th\\\\e alt\\\\ernations'"
      ]
     },
     "execution_count": 90,
     "metadata": {},
     "output_type": "execute_result"
    }
   ],
   "source": [
    "ip = r'th\\er\\e ar\\e common asp\\ects among th\\e alt\\ernations'\n",
    "ip"
   ]
  },
  {
   "cell_type": "code",
   "execution_count": 91,
   "id": "8aef2333",
   "metadata": {},
   "outputs": [
    {
     "data": {
      "text/plain": [
       "'there are common aspects among the alternations'"
      ]
     },
     "execution_count": 91,
     "metadata": {},
     "output_type": "execute_result"
    }
   ],
   "source": [
    "re.sub(r'\\\\e', 'e',ip)"
   ]
  },
  {
   "cell_type": "markdown",
   "id": "fbebb924",
   "metadata": {},
   "source": [
    "**f)** Replace any matching item from the list `eqns` with `X` for given the string `ip`. Match the items from `eqns` literally."
   ]
  },
  {
   "cell_type": "code",
   "execution_count": 92,
   "id": "3f74dd83",
   "metadata": {},
   "outputs": [],
   "source": [
    "ip = '3-(a^b)+2*(a^b)-(a/b)+3'\n",
    "eqns = ['(a^b)', '(a/b)', '(a^b)+2']\n"
   ]
  },
  {
   "cell_type": "code",
   "execution_count": 93,
   "id": "6f62f7dc",
   "metadata": {},
   "outputs": [
    {
     "data": {
      "text/plain": [
       "'3-(a^b)+2*(a^b)-(a/b)+3'"
      ]
     },
     "execution_count": 93,
     "metadata": {},
     "output_type": "execute_result"
    }
   ],
   "source": [
    "ip"
   ]
  },
  {
   "cell_type": "code",
   "execution_count": 94,
   "id": "45b4f853",
   "metadata": {},
   "outputs": [
    {
     "name": "stdout",
     "output_type": "stream",
     "text": [
      "(a^b)|(a/b)|(a^b)+2\n"
     ]
    }
   ],
   "source": [
    "a = \"|\".join(eqns)\n",
    "print(a)"
   ]
  },
  {
   "cell_type": "code",
   "execution_count": 95,
   "id": "4425b3a7",
   "metadata": {},
   "outputs": [
    {
     "name": "stdout",
     "output_type": "stream",
     "text": [
      "copy(a^b)|(a/b)|(a^b)+2\n"
     ]
    }
   ],
   "source": [
    "print('copy{}'.format(a))"
   ]
  },
  {
   "cell_type": "code",
   "execution_count": 96,
   "id": "0f8ce7c4",
   "metadata": {},
   "outputs": [
    {
     "data": {
      "text/plain": [
       "re.compile(r'\\(a\\^b\\)|\\(a/b\\)|\\(a\\^b\\)\\+2', re.UNICODE)"
      ]
     },
     "execution_count": 96,
     "metadata": {},
     "output_type": "execute_result"
    }
   ],
   "source": [
    "re.compile(\"|\".join(re.escape(e) for e in eqns))"
   ]
  },
  {
   "cell_type": "code",
   "execution_count": 97,
   "id": "966dec66",
   "metadata": {},
   "outputs": [
    {
     "data": {
      "text/plain": [
       "'3-(a^b)+2*(a^b)-(a/b)+3'"
      ]
     },
     "execution_count": 97,
     "metadata": {},
     "output_type": "execute_result"
    }
   ],
   "source": [
    "pat.sub('X', ip)"
   ]
  },
  {
   "cell_type": "markdown",
   "id": "37285854",
   "metadata": {},
   "source": [
    "### soreted(,key = len, reverse = True)"
   ]
  },
  {
   "cell_type": "code",
   "execution_count": 98,
   "id": "0d2a9b4c",
   "metadata": {},
   "outputs": [],
   "source": [
    "eqns_sorted = sorted(eqns, key=len, reverse=True)\n",
    "pat = re.compile('|'.join(re.escape(s) for s in eqns_sorted))"
   ]
  },
  {
   "cell_type": "code",
   "execution_count": 99,
   "id": "1ead89e2",
   "metadata": {},
   "outputs": [
    {
     "data": {
      "text/plain": [
       "'3-X*X-X+3'"
      ]
     },
     "execution_count": 99,
     "metadata": {},
     "output_type": "execute_result"
    }
   ],
   "source": [
    "pat.sub('X', ip)"
   ]
  },
  {
   "cell_type": "markdown",
   "id": "35bd5dd5",
   "metadata": {},
   "source": [
    "# Dot metacharacter and Quantifiers"
   ]
  },
  {
   "cell_type": "markdown",
   "id": "e89a8ac8",
   "metadata": {},
   "source": [
    "Since `.` metacharacter doesn't match newline character by default, assume that the input strings in the following exercises will not contain newline characters.\n"
   ]
  },
  {
   "cell_type": "markdown",
   "id": "798cf776",
   "metadata": {},
   "source": [
    "**a)** Replace `42//5` or `42/5` with `8` for the given input."
   ]
  },
  {
   "cell_type": "code",
   "execution_count": 100,
   "id": "0d5461dd",
   "metadata": {},
   "outputs": [],
   "source": [
    "ip = 'a+42//5-c pressure*3+42/5-14256'"
   ]
  },
  {
   "cell_type": "code",
   "execution_count": 101,
   "id": "4e77e91e",
   "metadata": {},
   "outputs": [
    {
     "data": {
      "text/plain": [
       "'a+8-c pressure*3+8-14256'"
      ]
     },
     "execution_count": 101,
     "metadata": {},
     "output_type": "execute_result"
    }
   ],
   "source": [
    "re.sub(r'42(\\/\\/|\\/)5','8',ip)"
   ]
  },
  {
   "cell_type": "markdown",
   "id": "c443ddda",
   "metadata": {},
   "source": [
    "**b)** For the list `items`, filter all elements starting with `hand` and ending with at most one more character or `le`.\n"
   ]
  },
  {
   "cell_type": "code",
   "execution_count": 102,
   "id": "4d04c45f",
   "metadata": {},
   "outputs": [],
   "source": [
    "items = ['handed', 'hand', 'handled', 'handy', 'unhand', 'hands', 'handle']"
   ]
  },
  {
   "cell_type": "code",
   "execution_count": 103,
   "id": "f3194967",
   "metadata": {},
   "outputs": [
    {
     "data": {
      "text/plain": [
       "['handed', 'hand', 'handled', 'handy', 'hands', 'handle']"
      ]
     },
     "execution_count": 103,
     "metadata": {},
     "output_type": "execute_result"
    }
   ],
   "source": [
    "[w for w in items if re.search(r'^(hand)',w) or re.search(r'le$',w)] "
   ]
  },
  {
   "cell_type": "markdown",
   "id": "c1561bb4",
   "metadata": {},
   "source": [
    "# `?` \n",
    "Matches zero or one repetitions of the preceding regex\n",
    "\n",
    "# `dot (.)`\n",
    "\n",
    "dot(.)Specifies a wildcard."
   ]
  },
  {
   "cell_type": "code",
   "execution_count": 104,
   "id": "26ef1d0b",
   "metadata": {},
   "outputs": [
    {
     "data": {
      "text/plain": [
       "['hand', 'handy', 'hands', 'handle']"
      ]
     },
     "execution_count": 104,
     "metadata": {},
     "output_type": "execute_result"
    }
   ],
   "source": [
    "[w for w in items if re.fullmatch(r'^hand(.|le)?',w)] "
   ]
  },
  {
   "cell_type": "markdown",
   "id": "da7bfa54",
   "metadata": {},
   "source": [
    "**c)** Use `re.split` to get the output as shown for the given input strings."
   ]
  },
  {
   "cell_type": "code",
   "execution_count": 105,
   "id": "e1dd1c14",
   "metadata": {},
   "outputs": [],
   "source": [
    ">>> eqn1 = 'a+42//5-c'\n",
    ">>> eqn2 = 'pressure*3+42/5-14256'\n",
    ">>> eqn3 = 'r*42-5/3+42///5-42/53+a'"
   ]
  },
  {
   "cell_type": "markdown",
   "id": "a5d85890",
   "metadata": {},
   "source": [
    "# re.split"
   ]
  },
  {
   "cell_type": "code",
   "execution_count": 106,
   "id": "30fd9e19",
   "metadata": {},
   "outputs": [
    {
     "data": {
      "text/plain": [
       "['a+', '-c']"
      ]
     },
     "execution_count": 106,
     "metadata": {},
     "output_type": "execute_result"
    }
   ],
   "source": [
    "re.split('42//5',eqn1)"
   ]
  },
  {
   "cell_type": "code",
   "execution_count": 107,
   "id": "95cd98fb",
   "metadata": {},
   "outputs": [
    {
     "data": {
      "text/plain": [
       "['pressure*3+', '-14256']"
      ]
     },
     "execution_count": 107,
     "metadata": {},
     "output_type": "execute_result"
    }
   ],
   "source": [
    "re.split('42/5',eqn2)"
   ]
  },
  {
   "cell_type": "code",
   "execution_count": 108,
   "id": "5ca2c454",
   "metadata": {},
   "outputs": [
    {
     "data": {
      "text/plain": [
       "['r*42-5/3+42///5-', '3+a']"
      ]
     },
     "execution_count": 108,
     "metadata": {},
     "output_type": "execute_result"
    }
   ],
   "source": [
    "re.split('42/5',eqn3)"
   ]
  },
  {
   "cell_type": "markdown",
   "id": "c07eebb3",
   "metadata": {},
   "source": [
    "## ?\n",
    "Matches zero or one repetitions of the preceding regex"
   ]
  },
  {
   "cell_type": "code",
   "execution_count": 109,
   "id": "f785011d",
   "metadata": {},
   "outputs": [],
   "source": [
    "pat = re.compile(r'42//?5')"
   ]
  },
  {
   "cell_type": "code",
   "execution_count": 110,
   "id": "174c3355",
   "metadata": {},
   "outputs": [
    {
     "data": {
      "text/plain": [
       "['a+', '-c']"
      ]
     },
     "execution_count": 110,
     "metadata": {},
     "output_type": "execute_result"
    }
   ],
   "source": [
    "pat.split(eqn1)"
   ]
  },
  {
   "cell_type": "code",
   "execution_count": 111,
   "id": "1775b75b",
   "metadata": {},
   "outputs": [
    {
     "data": {
      "text/plain": [
       "['pressure*3+', '-14256']"
      ]
     },
     "execution_count": 111,
     "metadata": {},
     "output_type": "execute_result"
    }
   ],
   "source": [
    "pat.split(eqn2)"
   ]
  },
  {
   "cell_type": "code",
   "execution_count": 112,
   "id": "6cfe71cd",
   "metadata": {},
   "outputs": [
    {
     "data": {
      "text/plain": [
       "['r*42-5/3+42///5-', '3+a']"
      ]
     },
     "execution_count": 112,
     "metadata": {},
     "output_type": "execute_result"
    }
   ],
   "source": [
    "pat.split(eqn3)"
   ]
  },
  {
   "cell_type": "markdown",
   "id": "7b9e4bf0",
   "metadata": {},
   "source": [
    "# `*`\n",
    "zero or more repetitions"
   ]
  },
  {
   "cell_type": "code",
   "execution_count": 113,
   "id": "bd0a6a71",
   "metadata": {},
   "outputs": [],
   "source": [
    "pat = re.compile(r'42//?5')\n"
   ]
  },
  {
   "cell_type": "code",
   "execution_count": 114,
   "id": "ec89ebef",
   "metadata": {},
   "outputs": [
    {
     "data": {
      "text/plain": [
       "['a+', '-c']"
      ]
     },
     "execution_count": 114,
     "metadata": {},
     "output_type": "execute_result"
    }
   ],
   "source": [
    "pat.split(eqn1)"
   ]
  },
  {
   "cell_type": "code",
   "execution_count": 115,
   "id": "33ee5532",
   "metadata": {},
   "outputs": [
    {
     "data": {
      "text/plain": [
       "['pressure*3+', '-14256']"
      ]
     },
     "execution_count": 115,
     "metadata": {},
     "output_type": "execute_result"
    }
   ],
   "source": [
    "pat.split(eqn2)"
   ]
  },
  {
   "cell_type": "code",
   "execution_count": 116,
   "id": "5f11c5df",
   "metadata": {},
   "outputs": [
    {
     "data": {
      "text/plain": [
       "['r*42-5/3+42///5-', '3+a']"
      ]
     },
     "execution_count": 116,
     "metadata": {},
     "output_type": "execute_result"
    }
   ],
   "source": [
    "pat.split(eqn3)"
   ]
  },
  {
   "cell_type": "markdown",
   "id": "02801250",
   "metadata": {},
   "source": [
    "**d)** For the given input strings, remove everything from the first occurrence of `i` till end of the string."
   ]
  },
  {
   "cell_type": "code",
   "execution_count": 117,
   "id": "7e6dda1f",
   "metadata": {},
   "outputs": [],
   "source": [
    "s1 = 'remove the special meaning of such constructs'\n",
    "s2 = 'characters while constructing'"
   ]
  },
  {
   "cell_type": "markdown",
   "id": "4eafeb99",
   "metadata": {},
   "source": [
    "# `+ `\n",
    "at least one or more repetitions\n",
    "# `.`\n",
    "The `.` metacharacter matches any `single character` `except a newline`:"
   ]
  },
  {
   "cell_type": "code",
   "execution_count": 118,
   "id": "476c81a9",
   "metadata": {},
   "outputs": [],
   "source": [
    "pat = re.compile(r'i.+')"
   ]
  },
  {
   "cell_type": "code",
   "execution_count": 119,
   "id": "0120ce93",
   "metadata": {},
   "outputs": [
    {
     "data": {
      "text/plain": [
       "'remove the spec'"
      ]
     },
     "execution_count": 119,
     "metadata": {},
     "output_type": "execute_result"
    }
   ],
   "source": [
    "pat.sub('',s1)"
   ]
  },
  {
   "cell_type": "code",
   "execution_count": 120,
   "id": "3b731c18",
   "metadata": {},
   "outputs": [
    {
     "data": {
      "text/plain": [
       "'characters wh'"
      ]
     },
     "execution_count": 120,
     "metadata": {},
     "output_type": "execute_result"
    }
   ],
   "source": [
    "pat.sub('',s2)"
   ]
  },
  {
   "cell_type": "markdown",
   "id": "1f74c04f",
   "metadata": {},
   "source": [
    "# `*`\n",
    "zero or more repetitions"
   ]
  },
  {
   "cell_type": "markdown",
   "id": "04e9142c",
   "metadata": {},
   "source": [
    "**e)** For the given strings, construct a RE to get output as shown."
   ]
  },
  {
   "cell_type": "code",
   "execution_count": 121,
   "id": "7b2d6a40",
   "metadata": {},
   "outputs": [],
   "source": [
    "str1 = 'a+b(addition)'\n",
    "str2 = 'a/b(division) + c%d(#modulo)'\n",
    "str3 = 'Hi there(greeting). Nice day(a(b)'"
   ]
  },
  {
   "cell_type": "code",
   "execution_count": 122,
   "id": "0d1c97ee",
   "metadata": {},
   "outputs": [],
   "source": [
    "remove_parentheses = re.compile(r'\\(.*\\)')"
   ]
  },
  {
   "cell_type": "markdown",
   "id": "8de545dc",
   "metadata": {},
   "source": [
    "## `.*?`\n",
    "`(.*?)` matches any character `(.)` any number of times `(*)`, as few times as possible to make the regex match `(?)"
   ]
  },
  {
   "cell_type": "code",
   "execution_count": 123,
   "id": "b4a04dab",
   "metadata": {},
   "outputs": [],
   "source": [
    "remove_parentheses = re.compile(r'\\(.*?\\)')"
   ]
  },
  {
   "cell_type": "code",
   "execution_count": 124,
   "id": "b6a6dd22",
   "metadata": {},
   "outputs": [
    {
     "data": {
      "text/plain": [
       "'a+b'"
      ]
     },
     "execution_count": 124,
     "metadata": {},
     "output_type": "execute_result"
    }
   ],
   "source": [
    "remove_parentheses.sub('', str1)"
   ]
  },
  {
   "cell_type": "code",
   "execution_count": 125,
   "id": "ab5c662e",
   "metadata": {},
   "outputs": [
    {
     "data": {
      "text/plain": [
       "'a/b + c%d'"
      ]
     },
     "execution_count": 125,
     "metadata": {},
     "output_type": "execute_result"
    }
   ],
   "source": [
    "remove_parentheses.sub('', str2)"
   ]
  },
  {
   "cell_type": "code",
   "execution_count": 126,
   "id": "9375cb93",
   "metadata": {},
   "outputs": [
    {
     "data": {
      "text/plain": [
       "'Hi there. Nice day'"
      ]
     },
     "execution_count": 126,
     "metadata": {},
     "output_type": "execute_result"
    }
   ],
   "source": [
    "remove_parentheses.sub('', str3)"
   ]
  },
  {
   "cell_type": "markdown",
   "id": "b2d9e93f",
   "metadata": {},
   "source": [
    "**f)** Correct the given RE to get the expected output."
   ]
  },
  {
   "cell_type": "code",
   "execution_count": 127,
   "id": "0f457de9",
   "metadata": {},
   "outputs": [],
   "source": [
    "words = 'plink incoming tint winter in caution sentient'\n",
    "change = re.compile(r'int|in|ion|ing|inco|inter|ink')"
   ]
  },
  {
   "cell_type": "code",
   "execution_count": 128,
   "id": "86cfe941",
   "metadata": {},
   "outputs": [
    {
     "data": {
      "text/plain": [
       "'plXk XcomXg tX wXer X cautX sentient'"
      ]
     },
     "execution_count": 128,
     "metadata": {},
     "output_type": "execute_result"
    }
   ],
   "source": [
    "# wrong output\n",
    "change.sub('X', words)"
   ]
  },
  {
   "cell_type": "code",
   "execution_count": 129,
   "id": "ccf03fc7",
   "metadata": {},
   "outputs": [],
   "source": [
    "# expected output\n",
    "# 'plX XmX tX wX X cautX sentient'\n",
    "\n",
    "change = re.compile(r'in(g|co|ter|k|t)?|ion')       ##### add your solution here"
   ]
  },
  {
   "cell_type": "code",
   "execution_count": 130,
   "id": "1fa7ef0d",
   "metadata": {},
   "outputs": [
    {
     "data": {
      "text/plain": [
       "'plX XmX tX wX X cautX sentient'"
      ]
     },
     "execution_count": 130,
     "metadata": {},
     "output_type": "execute_result"
    }
   ],
   "source": [
    "change.sub('X', words)"
   ]
  },
  {
   "cell_type": "markdown",
   "id": "62f44939",
   "metadata": {},
   "source": [
    "**g)** For the given greedy quantifiers, what would be the equivalent form using `{m,n}` representation?"
   ]
  },
  {
   "cell_type": "markdown",
   "id": "8676c61f",
   "metadata": {},
   "source": [
    "* `?` is same as\n",
    "`m=0 , n= 1`\n",
    "* `*` is same as\n",
    "`m=0 , n = `$\\infty$\n",
    "* `+` is same as\n",
    "`m=1 , n=` $\\infty$"
   ]
  },
  {
   "cell_type": "markdown",
   "id": "b08f0401",
   "metadata": {},
   "source": [
    "**h)** `(a*|b*)` is same as `(a|b)*` — True or False?\n",
    "<br>False\n",
    "* `(a*|b*)` this will match only one repetation i.e aa or bbbb\n",
    "* `(a|b)*` this will match combination of both i.e ab , aabb, abb "
   ]
  },
  {
   "cell_type": "markdown",
   "id": "93b2d69f",
   "metadata": {},
   "source": [
    "**i)** For the given input strings, remove everything from the first occurrence of `test` (irrespective of case) till end of the string, provided `test` isn't at the end of the string.\n"
   ]
  },
  {
   "cell_type": "code",
   "execution_count": 131,
   "id": "2e51aea9",
   "metadata": {},
   "outputs": [],
   "source": [
    "s1 = 'this is a Test'\n",
    "s2 = 'always test your RE for corner cases'\n",
    "s3 = 'a TEST of skill tests?'\n"
   ]
  },
  {
   "cell_type": "code",
   "execution_count": 132,
   "id": "6710d6ea",
   "metadata": {},
   "outputs": [
    {
     "name": "stdout",
     "output_type": "stream",
     "text": [
      "this is a \n",
      "always \n",
      "a \n"
     ]
    }
   ],
   "source": [
    "pat = re.compile(r'test.*',flags = re.I)      ##### add your solution here\n",
    "\n",
    "print(pat.sub('', s1))\n",
    "print(pat.sub('', s2))\n",
    "print(pat.sub('', s3))"
   ]
  },
  {
   "cell_type": "code",
   "execution_count": 133,
   "id": "329d31cd",
   "metadata": {},
   "outputs": [
    {
     "name": "stdout",
     "output_type": "stream",
     "text": [
      "this is a Test\n",
      "always \n",
      "a \n"
     ]
    }
   ],
   "source": [
    "pat = re.compile(r'(test|TEST).*',)      ##### add your solution here\n",
    "\n",
    "print(pat.sub('', s1))\n",
    "print(pat.sub('', s2))\n",
    "print(pat.sub('', s3))"
   ]
  },
  {
   "cell_type": "code",
   "execution_count": 134,
   "id": "7c3e0031",
   "metadata": {},
   "outputs": [
    {
     "name": "stdout",
     "output_type": "stream",
     "text": [
      "this is a Test\n",
      "always \n",
      "a \n"
     ]
    }
   ],
   "source": [
    "pat = re.compile('test.+', flags=re.I)     ##### add your solution here\n",
    "\n",
    "print(pat.sub('', s1))\n",
    "print(pat.sub('', s2))\n",
    "print(pat.sub('', s3))"
   ]
  },
  {
   "cell_type": "markdown",
   "id": "65c08d40",
   "metadata": {},
   "source": [
    "**j)** For the input list `words`, filter all elements starting with `s` and containing `e` and `t` in any order."
   ]
  },
  {
   "cell_type": "code",
   "execution_count": 135,
   "id": "0f440f6a",
   "metadata": {},
   "outputs": [],
   "source": [
    "words = ['sequoia', 'subtle', 'exhibit', 'asset', 'sets', 'tests', 'site']"
   ]
  },
  {
   "cell_type": "code",
   "execution_count": 136,
   "id": "5e9d06ff",
   "metadata": {},
   "outputs": [],
   "source": [
    "pat = re.compile('\\As.*(e.*t|t.*e).*')"
   ]
  },
  {
   "cell_type": "code",
   "execution_count": 137,
   "id": "97e1e643",
   "metadata": {},
   "outputs": [
    {
     "data": {
      "text/plain": [
       "['subtle', 'sets', 'site']"
      ]
     },
     "execution_count": 137,
     "metadata": {},
     "output_type": "execute_result"
    }
   ],
   "source": [
    "[w for w in words if pat.search(w)]"
   ]
  },
  {
   "cell_type": "markdown",
   "id": "23345dd0",
   "metadata": {},
   "source": [
    "**k)** For the input list `words`, remove all elements having less than `6` characters."
   ]
  },
  {
   "cell_type": "code",
   "execution_count": 138,
   "id": "db448ddb",
   "metadata": {},
   "outputs": [],
   "source": [
    "words = ['sequoia', 'subtle', 'exhibit', 'asset', 'sets', 'tests', 'site']"
   ]
  },
  {
   "cell_type": "code",
   "execution_count": 139,
   "id": "be0af18c",
   "metadata": {},
   "outputs": [
    {
     "data": {
      "text/plain": [
       "['sequoia', 'subtle', 'exhibit']"
      ]
     },
     "execution_count": 139,
     "metadata": {},
     "output_type": "execute_result"
    }
   ],
   "source": [
    "[w for w in words if re.search(r'.{6}',w)]"
   ]
  },
  {
   "cell_type": "code",
   "execution_count": 140,
   "id": "364a14ba",
   "metadata": {},
   "outputs": [
    {
     "data": {
      "text/plain": [
       "['sequoia', 'subtle', 'exhibit']"
      ]
     },
     "execution_count": 140,
     "metadata": {},
     "output_type": "execute_result"
    }
   ],
   "source": [
    "[w for w in words if re.search(r'.{6,}', w)]"
   ]
  },
  {
   "cell_type": "markdown",
   "id": "8c972abd",
   "metadata": {},
   "source": [
    "**l)** For the input list `words`, filter all elements starting with `s` or `t` and having a maximum of `6` characters."
   ]
  },
  {
   "cell_type": "code",
   "execution_count": 141,
   "id": "4aa19b22",
   "metadata": {},
   "outputs": [],
   "source": [
    "words = ['sequoia', 'subtle', 'exhibit', 'asset', 'sets', 'tests', 'site']"
   ]
  },
  {
   "cell_type": "code",
   "execution_count": 142,
   "id": "8aaf42f3",
   "metadata": {},
   "outputs": [
    {
     "data": {
      "text/plain": [
       "['sequoia', 'subtle', 'exhibit', 'asset', 'sets', 'tests', 'site']"
      ]
     },
     "execution_count": 142,
     "metadata": {},
     "output_type": "execute_result"
    }
   ],
   "source": [
    "[w for w in words if re.search(r'.{,5}', w) and re.search(r'.*(s*|t*).*', w)]"
   ]
  },
  {
   "cell_type": "code",
   "execution_count": 143,
   "id": "421ae908",
   "metadata": {},
   "outputs": [
    {
     "data": {
      "text/plain": [
       "['subtle', 'sets', 'tests', 'site']"
      ]
     },
     "execution_count": 143,
     "metadata": {},
     "output_type": "execute_result"
    }
   ],
   "source": [
    "[w for w in words if re.fullmatch(r'(s|t).{,5}', w)]\n",
    "# (correct)"
   ]
  },
  {
   "cell_type": "markdown",
   "id": "3f1c1523",
   "metadata": {},
   "source": [
    "\n",
    "**m)** Can you reason out why this code results in the output shown? The aim was to remove all `<characters>` patterns but not the `<>` ones. The expected result was `'a 1<> b 2<> c'`."
   ]
  },
  {
   "cell_type": "code",
   "execution_count": 144,
   "id": "b2e42af1",
   "metadata": {},
   "outputs": [],
   "source": [
    "ip = 'a<apple> 1<> b<bye> 2<> c<cat>'"
   ]
  },
  {
   "cell_type": "code",
   "execution_count": 145,
   "id": "c79e08f3",
   "metadata": {},
   "outputs": [
    {
     "data": {
      "text/plain": [
       "'a 1 2'"
      ]
     },
     "execution_count": 145,
     "metadata": {},
     "output_type": "execute_result"
    }
   ],
   "source": [
    "re.sub(r'<.+?>', '', ip)"
   ]
  },
  {
   "cell_type": "markdown",
   "id": "163e7cde",
   "metadata": {},
   "source": [
    ".+ means detect any character one or more times \n"
   ]
  },
  {
   "cell_type": "markdown",
   "id": "e30dd8c1",
   "metadata": {},
   "source": [
    "**n)** Use `re.split` to get the output as shown below for given input strings."
   ]
  },
  {
   "cell_type": "code",
   "execution_count": 146,
   "id": "96733938",
   "metadata": {},
   "outputs": [],
   "source": [
    "s1 = 'go there  //   \"this // that\"'\n",
    "s2 = 'a//b // c//d e//f // 4//5'\n",
    "s3 = '42// hi//bye//see // carefully'"
   ]
  },
  {
   "cell_type": "code",
   "execution_count": 147,
   "id": "38a7baa9",
   "metadata": {},
   "outputs": [],
   "source": [
    "pat = re.compile(r'\\s{1,2}//\\s{1,2}')     ##### add your solution here\n",
    "# (correct)"
   ]
  },
  {
   "cell_type": "code",
   "execution_count": 148,
   "id": "1aa0f821",
   "metadata": {},
   "outputs": [
    {
     "data": {
      "text/plain": [
       "['go there', ' \"this', 'that\"']"
      ]
     },
     "execution_count": 148,
     "metadata": {},
     "output_type": "execute_result"
    }
   ],
   "source": [
    "pat.split(s1)"
   ]
  },
  {
   "cell_type": "code",
   "execution_count": 149,
   "id": "9527b496",
   "metadata": {},
   "outputs": [
    {
     "data": {
      "text/plain": [
       "['a//b', 'c//d e//f', '4//5']"
      ]
     },
     "execution_count": 149,
     "metadata": {},
     "output_type": "execute_result"
    }
   ],
   "source": [
    "pat.split(s2)"
   ]
  },
  {
   "cell_type": "code",
   "execution_count": 150,
   "id": "d6155bc6",
   "metadata": {},
   "outputs": [
    {
     "data": {
      "text/plain": [
       "['42// hi//bye//see', 'carefully']"
      ]
     },
     "execution_count": 150,
     "metadata": {},
     "output_type": "execute_result"
    }
   ],
   "source": [
    "pat.split(s3)"
   ]
  },
  {
   "cell_type": "code",
   "execution_count": 151,
   "id": "677319b7",
   "metadata": {},
   "outputs": [],
   "source": [
    "pat = re.compile(r'\\s+//\\s+')     ##### add your solution here"
   ]
  },
  {
   "cell_type": "code",
   "execution_count": 152,
   "id": "7f186ee5",
   "metadata": {},
   "outputs": [
    {
     "data": {
      "text/plain": [
       "['go there', '\"this', 'that\"']"
      ]
     },
     "execution_count": 152,
     "metadata": {},
     "output_type": "execute_result"
    }
   ],
   "source": [
    "pat.split(s1)"
   ]
  },
  {
   "cell_type": "code",
   "execution_count": 153,
   "id": "92e9a601",
   "metadata": {},
   "outputs": [
    {
     "data": {
      "text/plain": [
       "['a//b', 'c//d e//f', '4//5']"
      ]
     },
     "execution_count": 153,
     "metadata": {},
     "output_type": "execute_result"
    }
   ],
   "source": [
    "pat.split(s2)"
   ]
  },
  {
   "cell_type": "code",
   "execution_count": 154,
   "id": "6e074ee2",
   "metadata": {},
   "outputs": [
    {
     "data": {
      "text/plain": [
       "['a//b', 'c//d e//f', '4//5']"
      ]
     },
     "execution_count": 154,
     "metadata": {},
     "output_type": "execute_result"
    }
   ],
   "source": [
    "pat.split(s2)"
   ]
  },
  {
   "cell_type": "code",
   "execution_count": 155,
   "id": "fa98fd52",
   "metadata": {},
   "outputs": [],
   "source": [
    "pat = re.compile(r' +// +')"
   ]
  },
  {
   "cell_type": "code",
   "execution_count": 156,
   "id": "f035b6a6",
   "metadata": {},
   "outputs": [
    {
     "data": {
      "text/plain": [
       "['go there', '\"this', 'that\"']"
      ]
     },
     "execution_count": 156,
     "metadata": {},
     "output_type": "execute_result"
    }
   ],
   "source": [
    "pat.split(s1)"
   ]
  },
  {
   "cell_type": "code",
   "execution_count": 157,
   "id": "4c3f5dcc",
   "metadata": {},
   "outputs": [
    {
     "data": {
      "text/plain": [
       "['a//b', 'c//d e//f', '4//5']"
      ]
     },
     "execution_count": 157,
     "metadata": {},
     "output_type": "execute_result"
    }
   ],
   "source": [
    "pat.split(s2)"
   ]
  },
  {
   "cell_type": "code",
   "execution_count": 158,
   "id": "d1bb1878",
   "metadata": {},
   "outputs": [
    {
     "data": {
      "text/plain": [
       "['42// hi//bye//see', 'carefully']"
      ]
     },
     "execution_count": 158,
     "metadata": {},
     "output_type": "execute_result"
    }
   ],
   "source": [
    "pat.split(s3)"
   ]
  },
  {
   "cell_type": "markdown",
   "id": "fea88fdb",
   "metadata": {},
   "source": [
    "# Working with matched portions"
   ]
  },
  {
   "cell_type": "markdown",
   "id": "26832326",
   "metadata": {},
   "source": [
    "**a)** For the given strings, extract the matching portion from first `is` to last `t`."
   ]
  },
  {
   "cell_type": "markdown",
   "id": "1f3b3b5c",
   "metadata": {},
   "source": [
    "first match to last match "
   ]
  },
  {
   "cell_type": "code",
   "execution_count": 159,
   "id": "5e9d3968",
   "metadata": {},
   "outputs": [],
   "source": [
    "str1 = 'This the biggest fruit you have seen?'\n",
    "str2 = 'Your mission is to read and practice consistently'"
   ]
  },
  {
   "cell_type": "code",
   "execution_count": 160,
   "id": "9fc93ae8",
   "metadata": {},
   "outputs": [],
   "source": [
    "pat = re.compile('(is).*t')"
   ]
  },
  {
   "cell_type": "code",
   "execution_count": 161,
   "id": "1d02193d",
   "metadata": {},
   "outputs": [
    {
     "data": {
      "text/plain": [
       "<re.Match object; span=(2, 22), match='is the biggest fruit'>"
      ]
     },
     "execution_count": 161,
     "metadata": {},
     "output_type": "execute_result"
    }
   ],
   "source": [
    "pat.search(str1)"
   ]
  },
  {
   "cell_type": "code",
   "execution_count": 162,
   "id": "9ccbae7a",
   "metadata": {},
   "outputs": [
    {
     "data": {
      "text/plain": [
       "<re.Match object; span=(6, 47), match='ission is to read and practice consistent'>"
      ]
     },
     "execution_count": 162,
     "metadata": {},
     "output_type": "execute_result"
    }
   ],
   "source": [
    "pat.search(str2)"
   ]
  },
  {
   "cell_type": "markdown",
   "id": "0602371e",
   "metadata": {},
   "source": [
    "**b)** Find the starting index of first occurrence of `is` or `the` or `was` or `to` for the given input strings.\n"
   ]
  },
  {
   "cell_type": "code",
   "execution_count": 163,
   "id": "8dc47fb0",
   "metadata": {},
   "outputs": [],
   "source": [
    "s1 = 'match after the last newline character'\n",
    "s2 = 'and then you want to test'\n",
    "s3 = 'this is good bye then'\n",
    "s4 = 'who was there to see?'"
   ]
  },
  {
   "cell_type": "code",
   "execution_count": 165,
   "id": "74dadc58",
   "metadata": {},
   "outputs": [],
   "source": [
    "pat = re.compile(r'(is|the|was|to)')"
   ]
  },
  {
   "cell_type": "code",
   "execution_count": 166,
   "id": "6310d355",
   "metadata": {},
   "outputs": [
    {
     "data": {
      "text/plain": [
       "12"
      ]
     },
     "execution_count": 166,
     "metadata": {},
     "output_type": "execute_result"
    }
   ],
   "source": [
    "pat.search(s1).start()"
   ]
  },
  {
   "cell_type": "code",
   "execution_count": 167,
   "id": "1ec752a1",
   "metadata": {},
   "outputs": [
    {
     "data": {
      "text/plain": [
       "4"
      ]
     },
     "execution_count": 167,
     "metadata": {},
     "output_type": "execute_result"
    }
   ],
   "source": [
    "pat.search(s2).start()"
   ]
  },
  {
   "cell_type": "code",
   "execution_count": 168,
   "id": "5e35e53c",
   "metadata": {},
   "outputs": [
    {
     "data": {
      "text/plain": [
       "2"
      ]
     },
     "execution_count": 168,
     "metadata": {},
     "output_type": "execute_result"
    }
   ],
   "source": [
    "pat.search(s3).start()"
   ]
  },
  {
   "cell_type": "code",
   "execution_count": 169,
   "id": "670ba487",
   "metadata": {},
   "outputs": [
    {
     "data": {
      "text/plain": [
       "4"
      ]
     },
     "execution_count": 169,
     "metadata": {},
     "output_type": "execute_result"
    }
   ],
   "source": [
    "pat.search(s4).start()"
   ]
  },
  {
   "cell_type": "markdown",
   "id": "daf01ac0",
   "metadata": {},
   "source": [
    "**c)** Find the starting index of last occurrence of `is` or `the` or `was` or `to` for the given input strings."
   ]
  },
  {
   "cell_type": "code",
   "execution_count": 170,
   "id": "8a812bfc",
   "metadata": {},
   "outputs": [],
   "source": [
    "s1 = 'match after the last newline character'\n",
    "s2 = 'and then you want to test'\n",
    "s3 = 'this is good bye then'\n",
    "s4 = 'who was there to see?'"
   ]
  },
  {
   "cell_type": "code",
   "execution_count": 171,
   "id": "b572b2df",
   "metadata": {},
   "outputs": [],
   "source": [
    "pat = re.compile(r'(is|the|was|to)') "
   ]
  },
  {
   "cell_type": "code",
   "execution_count": 172,
   "id": "8df5c6e8",
   "metadata": {},
   "outputs": [
    {
     "data": {
      "text/plain": [
       "15"
      ]
     },
     "execution_count": 172,
     "metadata": {},
     "output_type": "execute_result"
    }
   ],
   "source": [
    "pat.search(s1).end()"
   ]
  },
  {
   "cell_type": "code",
   "execution_count": 173,
   "id": "9f916c45",
   "metadata": {},
   "outputs": [
    {
     "data": {
      "text/plain": [
       "7"
      ]
     },
     "execution_count": 173,
     "metadata": {},
     "output_type": "execute_result"
    }
   ],
   "source": [
    "pat.search(s2).end()"
   ]
  },
  {
   "cell_type": "code",
   "execution_count": 174,
   "id": "8b8d3052",
   "metadata": {},
   "outputs": [
    {
     "data": {
      "text/plain": [
       "4"
      ]
     },
     "execution_count": 174,
     "metadata": {},
     "output_type": "execute_result"
    }
   ],
   "source": [
    "pat.search(s3).end()"
   ]
  },
  {
   "cell_type": "code",
   "execution_count": 175,
   "id": "a214e49e",
   "metadata": {},
   "outputs": [
    {
     "data": {
      "text/plain": [
       "7"
      ]
     },
     "execution_count": 175,
     "metadata": {},
     "output_type": "execute_result"
    }
   ],
   "source": [
    "pat.search(s4).end()"
   ]
  },
  {
   "cell_type": "markdown",
   "id": "c633e397",
   "metadata": {},
   "source": [
    "**d)** The given input string contains `:` exactly once. Extract all characters after the `:` as output."
   ]
  },
  {
   "cell_type": "code",
   "execution_count": 176,
   "id": "f5514257",
   "metadata": {},
   "outputs": [],
   "source": [
    "ip = 'fruits:apple, mango, guava, blueberry'"
   ]
  },
  {
   "cell_type": "code",
   "execution_count": 177,
   "id": "a2b49840",
   "metadata": {},
   "outputs": [
    {
     "name": "stdout",
     "output_type": "stream",
     "text": [
      "<re.Match object; span=(6, 37), match=':apple, mango, guava, blueberry'>\n"
     ]
    }
   ],
   "source": [
    "print(re.search(r':a(.*)', ip))"
   ]
  },
  {
   "cell_type": "code",
   "execution_count": 178,
   "id": "e98f071c",
   "metadata": {},
   "outputs": [
    {
     "data": {
      "text/plain": [
       "':apple, mango, guava, blueberry'"
      ]
     },
     "execution_count": 178,
     "metadata": {},
     "output_type": "execute_result"
    }
   ],
   "source": [
    "re.search(r':a(.*)', ip)[0]\n"
   ]
  },
  {
   "cell_type": "code",
   "execution_count": 179,
   "id": "6f9cbbf5",
   "metadata": {},
   "outputs": [
    {
     "data": {
      "text/plain": [
       "'pple, mango, guava, blueberry'"
      ]
     },
     "execution_count": 179,
     "metadata": {},
     "output_type": "execute_result"
    }
   ],
   "source": [
    "re.search(r':a(.*)', ip)[1]\n",
    "# this will capture only match which is in parentheses "
   ]
  },
  {
   "cell_type": "markdown",
   "id": "9d816aa8",
   "metadata": {},
   "source": [
    "**e)** The given input strings contains some text followed by `-` followed by a number. Replace that number with its `log` value using `math.log()`.\n"
   ]
  },
  {
   "cell_type": "code",
   "execution_count": 180,
   "id": "e1c06c6a",
   "metadata": {},
   "outputs": [],
   "source": [
    "s1 = 'first-3.14'\n",
    "s2 = 'next-123'"
   ]
  },
  {
   "cell_type": "code",
   "execution_count": 181,
   "id": "2c6ed86c",
   "metadata": {},
   "outputs": [],
   "source": [
    "import math"
   ]
  },
  {
   "cell_type": "code",
   "execution_count": 182,
   "id": "2cbc6bd9",
   "metadata": {},
   "outputs": [],
   "source": [
    "\n",
    "pat = re.compile('(\\d+.\\d+)|(\\d+)')"
   ]
  },
  {
   "cell_type": "code",
   "execution_count": 183,
   "id": "8bf7ede2",
   "metadata": {},
   "outputs": [],
   "source": [
    "s1_log = math.log(float(pat.search(s1)[0]))"
   ]
  },
  {
   "cell_type": "code",
   "execution_count": 184,
   "id": "d82b0784",
   "metadata": {},
   "outputs": [],
   "source": [
    "s2_log = math.log(int(pat.search(s2)[0]))"
   ]
  },
  {
   "cell_type": "code",
   "execution_count": 185,
   "id": "90335ad7",
   "metadata": {},
   "outputs": [
    {
     "data": {
      "text/plain": [
       "'first-1.144222799920162'"
      ]
     },
     "execution_count": 185,
     "metadata": {},
     "output_type": "execute_result"
    }
   ],
   "source": [
    "pat.sub(str(s1_log),s1)"
   ]
  },
  {
   "cell_type": "code",
   "execution_count": 186,
   "id": "fe733ac7",
   "metadata": {},
   "outputs": [
    {
     "data": {
      "text/plain": [
       "'next-4.812184355372417'"
      ]
     },
     "execution_count": 186,
     "metadata": {},
     "output_type": "execute_result"
    }
   ],
   "source": [
    "pat.sub(str(s2_log),s2)"
   ]
  },
  {
   "cell_type": "markdown",
   "id": "275bd168",
   "metadata": {},
   "source": [
    "**f)** Replace all occurrences of `par` with `spar`, `spare` with `spare` and `park` with `garden` for the given input strings."
   ]
  },
  {
   "cell_type": "code",
   "execution_count": 187,
   "id": "1c1b1648",
   "metadata": {},
   "outputs": [],
   "source": [
    "str1 = 'apartment has a park'\n",
    "str2 = 'do you have a spare cable'\n",
    "str3 = 'write a parser'"
   ]
  },
  {
   "cell_type": "code",
   "execution_count": 188,
   "id": "d45e08b7",
   "metadata": {},
   "outputs": [
    {
     "data": {
      "text/plain": [
       "'aspartment has a spark'"
      ]
     },
     "execution_count": 188,
     "metadata": {},
     "output_type": "execute_result"
    }
   ],
   "source": [
    "re.sub(r'par','spar',str1)"
   ]
  },
  {
   "cell_type": "code",
   "execution_count": 189,
   "id": "953169c8",
   "metadata": {},
   "outputs": [
    {
     "data": {
      "text/plain": [
       "'do you have a spare cable'"
      ]
     },
     "execution_count": 189,
     "metadata": {},
     "output_type": "execute_result"
    }
   ],
   "source": [
    "re.sub(r'spare','spare',str2)"
   ]
  },
  {
   "cell_type": "code",
   "execution_count": 190,
   "id": "b0d1b149",
   "metadata": {},
   "outputs": [
    {
     "data": {
      "text/plain": [
       "'do you have a spare cable'"
      ]
     },
     "execution_count": 190,
     "metadata": {},
     "output_type": "execute_result"
    }
   ],
   "source": [
    "re.sub(r'park','garden',str2)"
   ]
  },
  {
   "cell_type": "markdown",
   "id": "558f357f",
   "metadata": {},
   "source": [
    "**g)** Extract all words between `(` and `)` from the given input string as a list. Assume that the input will not contain any broken parentheses.\n"
   ]
  },
  {
   "cell_type": "code",
   "execution_count": 191,
   "id": "a4b2b873",
   "metadata": {},
   "outputs": [],
   "source": [
    "ip = 'another (way) to reuse (portion) matched (by) capture groups'"
   ]
  },
  {
   "cell_type": "code",
   "execution_count": 192,
   "id": "9ccfc4d6",
   "metadata": {},
   "outputs": [
    {
     "data": {
      "text/plain": [
       "['way', 'portion', 'by']"
      ]
     },
     "execution_count": 192,
     "metadata": {},
     "output_type": "execute_result"
    }
   ],
   "source": [
    "re.findall('\\(*(\\w+)\\)',ip)"
   ]
  },
  {
   "cell_type": "markdown",
   "id": "287fee44",
   "metadata": {},
   "source": [
    "**h)** Extract all occurrences of `<` up to next occurrence of `>`, provided there is at least one character in between `<` and `>`.\n"
   ]
  },
  {
   "cell_type": "code",
   "execution_count": 199,
   "id": "b75d76b6",
   "metadata": {},
   "outputs": [],
   "source": [
    "ip = 'a<apple> 1<> b<bye> 2<> c<cat>'"
   ]
  },
  {
   "cell_type": "code",
   "execution_count": 204,
   "id": "b675f591",
   "metadata": {},
   "outputs": [
    {
     "data": {
      "text/plain": [
       "['<apple>', '<bye>', '<cat>']"
      ]
     },
     "execution_count": 204,
     "metadata": {},
     "output_type": "execute_result"
    }
   ],
   "source": [
    "re.findall(r'<\\w+?>',ip)"
   ]
  },
  {
   "cell_type": "code",
   "execution_count": 203,
   "id": "316d2b91",
   "metadata": {},
   "outputs": [
    {
     "data": {
      "text/plain": [
       "['<apple>', '<> b<bye>', '<> c<cat>']"
      ]
     },
     "execution_count": 203,
     "metadata": {},
     "output_type": "execute_result"
    }
   ],
   "source": [
    "re.findall(r'<.+?>',ip)"
   ]
  },
  {
   "cell_type": "markdown",
   "id": "41e6ec49",
   "metadata": {},
   "source": [
    "**i)** Use `re.findall` to get the output as shown below for the given input strings. Note the characters used in the input strings carefully.\n"
   ]
  },
  {
   "cell_type": "code",
   "execution_count": 196,
   "id": "e0fc366e",
   "metadata": {},
   "outputs": [],
   "source": [
    "row1 = '-2,5 4,+3 +42,-53 4356246,-357532354 '\n",
    "row2 = '1.32,-3.14 634,5.63 63.3e3,9907809345343.235 '"
   ]
  },
  {
   "cell_type": "code",
   "execution_count": 214,
   "id": "f2646196",
   "metadata": {},
   "outputs": [],
   "source": [
    "pat = re.compile(r'(.+?),(.+?)\\s')\n",
    "# created two groups by the bracess \n",
    "#1st group can contain character up to quama(,) \n",
    "#2nd group can contain character next to quama(,)\n",
    "#and this group ends up to next space "
   ]
  },
  {
   "cell_type": "code",
   "execution_count": 215,
   "id": "96efda07",
   "metadata": {},
   "outputs": [
    {
     "data": {
      "text/plain": [
       "[('-2', '5'), ('4', '+3'), ('+42', '-53'), ('4356246', '-357532354')]"
      ]
     },
     "execution_count": 215,
     "metadata": {},
     "output_type": "execute_result"
    }
   ],
   "source": [
    "pat.findall(row1)"
   ]
  },
  {
   "cell_type": "code",
   "execution_count": 216,
   "id": "4f5e2cdb",
   "metadata": {},
   "outputs": [
    {
     "data": {
      "text/plain": [
       "[('1.32', '-3.14'), ('634', '5.63'), ('63.3e3', '9907809345343.235')]"
      ]
     },
     "execution_count": 216,
     "metadata": {},
     "output_type": "execute_result"
    }
   ],
   "source": [
    "pat.findall(row2)"
   ]
  },
  {
   "cell_type": "markdown",
   "id": "403997b9",
   "metadata": {},
   "source": [
    "**j)** This is an extension to previous question."
   ]
  },
  {
   "cell_type": "markdown",
   "id": "dd66b333",
   "metadata": {},
   "source": [
    "* For `row1`, find the sum of integers of each tuple element. For example, sum of `-2` and `5` is `3`.\n",
    "* For `row2`, find the sum of floating-point numbers of each tuple element. For example, sum of `1.32` and `-3.14` is `-1.82`."
   ]
  },
  {
   "cell_type": "code",
   "execution_count": 266,
   "id": "82cc1972",
   "metadata": {},
   "outputs": [],
   "source": [
    "row1 = '-2,5 4,+3 +42,-53 4356246,-357532354 '\n",
    "row2 = '1.32,-3.14 634,5.63 63.3e3,9907809345343.235 '"
   ]
  },
  {
   "cell_type": "code",
   "execution_count": 267,
   "id": "772662dd",
   "metadata": {},
   "outputs": [],
   "source": [
    "pat = re.compile(r'(.+?),(.+?)\\x20')"
   ]
  },
  {
   "cell_type": "code",
   "execution_count": 268,
   "id": "a1c7bac3",
   "metadata": {},
   "outputs": [],
   "source": [
    "row1 = pat.findall(row1)\n",
    "row2 = pat.findall(row2)"
   ]
  },
  {
   "cell_type": "code",
   "execution_count": 269,
   "id": "96fb810b",
   "metadata": {},
   "outputs": [
    {
     "data": {
      "text/plain": [
       "[('1.32', '-3.14'), ('634', '5.63'), ('63.3e3', '9907809345343.235')]"
      ]
     },
     "execution_count": 269,
     "metadata": {},
     "output_type": "execute_result"
    }
   ],
   "source": [
    "row2"
   ]
  },
  {
   "cell_type": "code",
   "execution_count": 270,
   "id": "0dc06657",
   "metadata": {},
   "outputs": [
    {
     "data": {
      "text/plain": [
       "[3, 7, -11, -353176108]"
      ]
     },
     "execution_count": 270,
     "metadata": {},
     "output_type": "execute_result"
    }
   ],
   "source": [
    "[(int(i[0])+int(i[1])) for i in row1]"
   ]
  },
  {
   "cell_type": "code",
   "execution_count": 271,
   "id": "1291589a",
   "metadata": {},
   "outputs": [
    {
     "data": {
      "text/plain": [
       "[-1.82, 639.63, 9907809408643.234]"
      ]
     },
     "execution_count": 271,
     "metadata": {},
     "output_type": "execute_result"
    }
   ],
   "source": [
    "[(float(i[0])+float(i[1])) for i in row2]\n"
   ]
  },
  {
   "cell_type": "markdown",
   "id": "86064105",
   "metadata": {},
   "source": [
    "**k)** Use `re.split` to get the output as shown below."
   ]
  },
  {
   "cell_type": "code",
   "execution_count": 272,
   "id": "6df7b4ff",
   "metadata": {},
   "outputs": [],
   "source": [
    "ip = '42:no-output;1000:car-truck;SQEX49801'"
   ]
  },
  {
   "cell_type": "code",
   "execution_count": 273,
   "id": "daa0f0df",
   "metadata": {},
   "outputs": [
    {
     "data": {
      "text/plain": [
       "['42', 'no', 'output', '1000', 'car', 'truck', 'SQEX49801']"
      ]
     },
     "execution_count": 273,
     "metadata": {},
     "output_type": "execute_result"
    }
   ],
   "source": [
    "re.split(r'[;:-]',ip)"
   ]
  },
  {
   "cell_type": "markdown",
   "id": "2723a409",
   "metadata": {},
   "source": [
    "**l)** For the given list of strings, change the elements into a tuple of original element and number of times `t` occurs in that element."
   ]
  },
  {
   "cell_type": "code",
   "execution_count": 274,
   "id": "0f426641",
   "metadata": {},
   "outputs": [],
   "source": [
    "words = ['sequoia', 'attest', 'tattletale', 'asset']"
   ]
  },
  {
   "cell_type": "code",
   "execution_count": 281,
   "id": "2568856c",
   "metadata": {},
   "outputs": [
    {
     "data": {
      "text/plain": [
       "[('sequoia', 0), ('attest', 3), ('tattletale', 4), ('asset', 1)]"
      ]
     },
     "execution_count": 281,
     "metadata": {},
     "output_type": "execute_result"
    }
   ],
   "source": [
    "[re.subn(r't', 't', w) for w in words]\n",
    "# 't' replaced with 't' and also shown how many time it been replace"
   ]
  },
  {
   "cell_type": "markdown",
   "id": "e9ffa31a",
   "metadata": {},
   "source": [
    "**m)** The given input string has fields separated by `:`. Each field contains four uppercase alphabets followed optionally by two digits. Ignore the last field, which is empty. See [docs.python: Match.groups](https://docs.python.org/3/library/re.html#re.Match.groups) and use `re.finditer` to get the output as shown below. If the optional digits aren't present, show `'NA'` instead of `None`."
   ]
  },
  {
   "cell_type": "code",
   "execution_count": 282,
   "id": "4763e4b2",
   "metadata": {},
   "outputs": [],
   "source": [
    "ip = 'TWXA42:JWPA:NTED01:'"
   ]
  },
  {
   "cell_type": "code",
   "execution_count": 288,
   "id": "44453be2",
   "metadata": {},
   "outputs": [
    {
     "data": {
      "text/plain": [
       "['TWXA42', 'JWPA', 'NTED01', '']"
      ]
     },
     "execution_count": 288,
     "metadata": {},
     "output_type": "execute_result"
    }
   ],
   "source": [
    "re.split(r'[:]',ip)"
   ]
  },
  {
   "cell_type": "code",
   "execution_count": 303,
   "id": "03556925",
   "metadata": {},
   "outputs": [
    {
     "name": "stdout",
     "output_type": "stream",
     "text": [
      "('TWXA', '42')\n",
      "('JWPA', 'NA')\n",
      "('NTED', '01')\n"
     ]
    }
   ],
   "source": [
    "for i in re.finditer(r'(.{4})(..)?:',ip):\n",
    "    print(i.groups(default='NA'))"
   ]
  },
  {
   "cell_type": "markdown",
   "id": "260f48ad",
   "metadata": {},
   "source": [
    "**Note** that this is different from `re.findall` which will just give empty string instead of `None` when a capture group doesn't participate.\n"
   ]
  },
  {
   "cell_type": "markdown",
   "id": "4d7e509e",
   "metadata": {},
   "source": [
    "**n)** Convert the comma separated strings to corresponding `dict` objects as shown below."
   ]
  },
  {
   "cell_type": "code",
   "execution_count": 330,
   "id": "582b0e3b",
   "metadata": {},
   "outputs": [],
   "source": [
    "row1 = 'name:rohan,maths:75,phy:89,'\n",
    "row2 = 'name:rose,maths:88,phy:92,'"
   ]
  },
  {
   "cell_type": "code",
   "execution_count": 331,
   "id": "6f224175",
   "metadata": {},
   "outputs": [],
   "source": [
    "dict_1 ={} "
   ]
  },
  {
   "cell_type": "code",
   "execution_count": 332,
   "id": "bd754479",
   "metadata": {},
   "outputs": [],
   "source": [
    "for i in re.finditer(r'(.+?):(.+?),',row1):\n",
    "    dict_1[i.groups()[0]] = i.groups()[1]"
   ]
  },
  {
   "cell_type": "code",
   "execution_count": 342,
   "id": "52df13c9",
   "metadata": {},
   "outputs": [],
   "source": [
    "dict_2= {i.groups()[0]:i.groups()[1] for i in re.finditer(r'(.+?):(.+?),',row1)}"
   ]
  },
  {
   "cell_type": "code",
   "execution_count": 343,
   "id": "14bc841d",
   "metadata": {},
   "outputs": [
    {
     "data": {
      "text/plain": [
       "{'name': 'rohan', 'maths': '75', 'phy': '89'}"
      ]
     },
     "execution_count": 343,
     "metadata": {},
     "output_type": "execute_result"
    }
   ],
   "source": [
    "dict_2"
   ]
  },
  {
   "cell_type": "code",
   "execution_count": 321,
   "id": "7b3a92d2",
   "metadata": {},
   "outputs": [
    {
     "data": {
      "text/plain": [
       "{'name:rohan,': 'name', 'maths:75,': 'maths', 'phy:89,': 'phy'}"
      ]
     },
     "execution_count": 321,
     "metadata": {},
     "output_type": "execute_result"
    }
   ],
   "source": [
    "dict_1"
   ]
  },
  {
   "cell_type": "markdown",
   "id": "e0d6f244",
   "metadata": {},
   "source": [
    "# Character class"
   ]
  },
  {
   "cell_type": "markdown",
   "id": "83e2ce6f",
   "metadata": {},
   "source": [
    "**a)** For the list `items`, filter all elements starting with `hand` and ending with `s` or `y` or `le`."
   ]
  },
  {
   "cell_type": "code",
   "execution_count": 360,
   "id": "94ae9bc0",
   "metadata": {},
   "outputs": [],
   "source": [
    "items = ['-handy', 'hand', 'handy', 'unhand', 'hands', 'handle']"
   ]
  },
  {
   "cell_type": "code",
   "execution_count": 361,
   "id": "509d3455",
   "metadata": {},
   "outputs": [
    {
     "data": {
      "text/plain": [
       "<re.Match object; span=(0, 0), match=''>"
      ]
     },
     "execution_count": 361,
     "metadata": {},
     "output_type": "execute_result"
    }
   ],
   "source": [
    "re.search('\\Ahand\\Z','hand')"
   ]
  },
  {
   "cell_type": "code",
   "execution_count": 368,
   "id": "aacce7af",
   "metadata": {},
   "outputs": [
    {
     "data": {
      "text/plain": [
       "['handy', 'hands', 'handle']"
      ]
     },
     "execution_count": 368,
     "metadata": {},
     "output_type": "execute_result"
    }
   ],
   "source": [
    "[w for w in items if re.search(r'\\Ahand([sy]|le)',w)]"
   ]
  },
  {
   "cell_type": "code",
   "execution_count": 369,
   "id": "6e022b18",
   "metadata": {},
   "outputs": [
    {
     "data": {
      "text/plain": [
       "['handy', 'hands', 'handle']"
      ]
     },
     "execution_count": 369,
     "metadata": {},
     "output_type": "execute_result"
    }
   ],
   "source": [
    "[w for w in items if re.search(r'\\Ahand.*(s|y|le)',w)]"
   ]
  },
  {
   "cell_type": "code",
   "execution_count": 362,
   "id": "f2170bde",
   "metadata": {},
   "outputs": [
    {
     "data": {
      "text/plain": [
       "['handy', 'hands', 'handle']"
      ]
     },
     "execution_count": 362,
     "metadata": {},
     "output_type": "execute_result"
    }
   ],
   "source": [
    "[w for w in items if re.fullmatch(r'hand([sy]|le)', w)]"
   ]
  },
  {
   "cell_type": "markdown",
   "id": "78f2fb08",
   "metadata": {},
   "source": [
    "**b)** Replace all whole words `reed` or `read` or `red` with `X`"
   ]
  },
  {
   "cell_type": "code",
   "execution_count": 370,
   "id": "0ee0a64c",
   "metadata": {},
   "outputs": [],
   "source": [
    "ip = 'redo red credible :read: rod reed'"
   ]
  },
  {
   "cell_type": "code",
   "execution_count": 385,
   "id": "1be9014f",
   "metadata": {},
   "outputs": [
    {
     "data": {
      "text/plain": [
       "'redo X credible :X: rod X'"
      ]
     },
     "execution_count": 385,
     "metadata": {},
     "output_type": "execute_result"
    }
   ],
   "source": [
    "re.sub(r'\\b(reed|red|read)\\b','X',ip)"
   ]
  },
  {
   "cell_type": "code",
   "execution_count": 384,
   "id": "ddc5d76c",
   "metadata": {},
   "outputs": [
    {
     "data": {
      "text/plain": [
       "'redo X credible :X: rod X'"
      ]
     },
     "execution_count": 384,
     "metadata": {},
     "output_type": "execute_result"
    }
   ],
   "source": [
    "re.sub(r'\\bre[ae]?d\\b',\"X\",ip)"
   ]
  },
  {
   "cell_type": "markdown",
   "id": "964df1b4",
   "metadata": {},
   "source": [
    "**c)** For the list `words`, filter all elements containing `e` or `i` followed by `l` or `n`. Note that the order mentioned should be followed.\n"
   ]
  },
  {
   "cell_type": "code",
   "execution_count": 386,
   "id": "9957a38e",
   "metadata": {},
   "outputs": [],
   "source": [
    "words = ['surrender', 'unicorn', 'newer', 'door', 'empty', 'eel', 'pest']"
   ]
  },
  {
   "cell_type": "code",
   "execution_count": 390,
   "id": "cc5fa67b",
   "metadata": {},
   "outputs": [
    {
     "data": {
      "text/plain": [
       "['surrender', 'unicorn', 'eel']"
      ]
     },
     "execution_count": 390,
     "metadata": {},
     "output_type": "execute_result"
    }
   ],
   "source": [
    "[w for w in words if re.search('[ei].*[ln]',w)]"
   ]
  },
  {
   "cell_type": "markdown",
   "id": "eef6b573",
   "metadata": {},
   "source": [
    "**d)** For the list `words`, filter all elements containing `e` or `i` and `l` or `n` in any order."
   ]
  },
  {
   "cell_type": "code",
   "execution_count": 391,
   "id": "e8b2447a",
   "metadata": {},
   "outputs": [],
   "source": [
    "words = ['surrender', 'unicorn', 'newer', 'door', 'empty', 'eel', 'pest']\n"
   ]
  },
  {
   "cell_type": "code",
   "execution_count": 396,
   "id": "cf3aa154",
   "metadata": {},
   "outputs": [
    {
     "data": {
      "text/plain": [
       "['surrender', 'unicorn', 'newer', 'eel']"
      ]
     },
     "execution_count": 396,
     "metadata": {},
     "output_type": "execute_result"
    }
   ],
   "source": [
    "[w for w in words if re.search(r'[ei].*[ln]|[ln].*[ei]',w)]"
   ]
  },
  {
   "cell_type": "markdown",
   "id": "8b1e01e0",
   "metadata": {},
   "source": [
    "**e)** Extract all hex character sequences, with `0x` optional prefix. Match the characters case insensitively, and the sequences shouldn't be surrounded by other word characters."
   ]
  },
  {
   "cell_type": "code",
   "execution_count": 398,
   "id": "3164dc28",
   "metadata": {},
   "outputs": [],
   "source": [
    "str1 = '128A foo 0xfe32 34 0xbar'\n",
    "str2 = '0XDEADBEEF place 0x0ff1ce bad'\n"
   ]
  },
  {
   "cell_type": "code",
   "execution_count": 399,
   "id": "88534338",
   "metadata": {},
   "outputs": [],
   "source": [
    "pat= re.compile(r'\\b(0x)?[\\da-f]+\\b')"
   ]
  },
  {
   "cell_type": "code",
   "execution_count": 401,
   "id": "673ed1a2",
   "metadata": {},
   "outputs": [],
   "source": [
    "hex_seq = re.compile(r'\\b(0x)?[\\da-f]+\\b', flags=re.I)"
   ]
  },
  {
   "cell_type": "code",
   "execution_count": 403,
   "id": "c42c51fe",
   "metadata": {},
   "outputs": [
    {
     "data": {
      "text/plain": [
       "['128A', '0xfe32', '34']"
      ]
     },
     "execution_count": 403,
     "metadata": {},
     "output_type": "execute_result"
    }
   ],
   "source": [
    "[w[0] for w in hex_seq.finditer(str1)]"
   ]
  },
  {
   "cell_type": "code",
   "execution_count": 404,
   "id": "9beaf05b",
   "metadata": {},
   "outputs": [
    {
     "data": {
      "text/plain": [
       "['0XDEADBEEF', '0x0ff1ce', 'bad']"
      ]
     },
     "execution_count": 404,
     "metadata": {},
     "output_type": "execute_result"
    }
   ],
   "source": [
    "[w[0] for w in hex_seq.finditer(str2)]"
   ]
  },
  {
   "cell_type": "markdown",
   "id": "21b19fb2",
   "metadata": {},
   "source": [
    "**f)** Delete from `(` to the next occurrence of `)` unless they contain parentheses characters in between."
   ]
  },
  {
   "cell_type": "code",
   "execution_count": 405,
   "id": "73bba179",
   "metadata": {},
   "outputs": [],
   "source": [
    "str1 = 'def factorial()'\n",
    "str2 = 'a/b(division) + c%d(#modulo) - (e+(j/k-3)*4)'\n",
    "str3 = 'Hi there(greeting). Nice day(a(b)'"
   ]
  },
  {
   "cell_type": "code",
   "execution_count": 422,
   "id": "9cd3eae4",
   "metadata": {},
   "outputs": [],
   "source": [
    "remove_parentheses = re.compile(r'\\([^()]*\\)') "
   ]
  },
  {
   "cell_type": "code",
   "execution_count": 423,
   "id": "88835eb1",
   "metadata": {},
   "outputs": [
    {
     "data": {
      "text/plain": [
       "'def factorial'"
      ]
     },
     "execution_count": 423,
     "metadata": {},
     "output_type": "execute_result"
    }
   ],
   "source": [
    "remove_parentheses.sub('',str1)"
   ]
  },
  {
   "cell_type": "code",
   "execution_count": 420,
   "id": "b46b7827",
   "metadata": {},
   "outputs": [
    {
     "data": {
      "text/plain": [
       "'a/b + c%d - *4)'"
      ]
     },
     "execution_count": 420,
     "metadata": {},
     "output_type": "execute_result"
    }
   ],
   "source": [
    "remove_parentheses.sub('',str2)"
   ]
  },
  {
   "cell_type": "code",
   "execution_count": 424,
   "id": "16269386",
   "metadata": {},
   "outputs": [
    {
     "data": {
      "text/plain": [
       "'Hi there. Nice day(a'"
      ]
     },
     "execution_count": 424,
     "metadata": {},
     "output_type": "execute_result"
    }
   ],
   "source": [
    "remove_parentheses.sub('',str3)"
   ]
  },
  {
   "cell_type": "markdown",
   "id": "eabae1d0",
   "metadata": {},
   "source": [
    "**g)** For the list `words`, filter all elements not starting with `e` or `p` or `u`."
   ]
  },
  {
   "cell_type": "code",
   "execution_count": 425,
   "id": "0ef0d7d4",
   "metadata": {},
   "outputs": [],
   "source": [
    "words = ['surrender', 'unicorn', 'newer', 'door', 'empty', 'eel', 'pest']"
   ]
  },
  {
   "cell_type": "code",
   "execution_count": 427,
   "id": "725ebf91",
   "metadata": {},
   "outputs": [
    {
     "data": {
      "text/plain": [
       "['surrender', 'newer', 'door']"
      ]
     },
     "execution_count": 427,
     "metadata": {},
     "output_type": "execute_result"
    }
   ],
   "source": [
    "[i for i in words if re.search(r'^[^epu]', i)]"
   ]
  },
  {
   "cell_type": "code",
   "execution_count": 428,
   "id": "cdde75f2",
   "metadata": {},
   "outputs": [
    {
     "data": {
      "text/plain": [
       "['surrender', 'newer', 'door']"
      ]
     },
     "execution_count": 428,
     "metadata": {},
     "output_type": "execute_result"
    }
   ],
   "source": [
    "[i for i in words if re.search(r'\\A[^epu]', i)]"
   ]
  },
  {
   "cell_type": "markdown",
   "id": "a3587e7d",
   "metadata": {},
   "source": [
    "**h)** For the list `words`, filter all elements not containing `u` or `w` or `ee` or `-`."
   ]
  },
  {
   "cell_type": "code",
   "execution_count": 429,
   "id": "3399a4dc",
   "metadata": {},
   "outputs": [],
   "source": [
    "words = ['p-t', 'you', 'tea', 'heel', 'owe', 'new', 'reed', 'ear']\n"
   ]
  },
  {
   "cell_type": "code",
   "execution_count": 435,
   "id": "b30d0365",
   "metadata": {},
   "outputs": [
    {
     "data": {
      "text/plain": [
       "['tea', 'ear']"
      ]
     },
     "execution_count": 435,
     "metadata": {},
     "output_type": "execute_result"
    }
   ],
   "source": [
    "[i for i in words if not re.search(r'[uw-]|ee', i)]"
   ]
  },
  {
   "cell_type": "markdown",
   "id": "5159b2de",
   "metadata": {},
   "source": [
    "**i)** The given input strings contain fields separated by `,` and fields can be empty too. Replace last three fields with `WHTSZ323`.\n"
   ]
  },
  {
   "cell_type": "code",
   "execution_count": 436,
   "id": "ceddd8d0",
   "metadata": {},
   "outputs": [],
   "source": [
    "row1 = '(2),kite,12,,D,C,,'\n",
    "row2 = 'hi,bye,sun,moon'"
   ]
  },
  {
   "cell_type": "code",
   "execution_count": 466,
   "id": "8c708eca",
   "metadata": {},
   "outputs": [],
   "source": [
    "pat = re.compile(r'(,[^,]*){3}\\Z')"
   ]
  },
  {
   "cell_type": "code",
   "execution_count": 469,
   "id": "519b9d88",
   "metadata": {},
   "outputs": [
    {
     "data": {
      "text/plain": [
       "'(2),kite,12,,D,WHTSZ323'"
      ]
     },
     "execution_count": 469,
     "metadata": {},
     "output_type": "execute_result"
    }
   ],
   "source": [
    "pat.sub(',WHTSZ323',row1)"
   ]
  },
  {
   "cell_type": "code",
   "execution_count": 470,
   "id": "b0d9475d",
   "metadata": {},
   "outputs": [
    {
     "data": {
      "text/plain": [
       "'hi,WHTSZ323'"
      ]
     },
     "execution_count": 470,
     "metadata": {},
     "output_type": "execute_result"
    }
   ],
   "source": [
    "pat.sub(',WHTSZ323',row2)"
   ]
  },
  {
   "cell_type": "markdown",
   "id": "09e08c69",
   "metadata": {},
   "source": [
    "**j)** Split the given strings based on consecutive sequence of digit or whitespace characters."
   ]
  },
  {
   "cell_type": "code",
   "execution_count": 478,
   "id": "0e90ebd5",
   "metadata": {},
   "outputs": [],
   "source": [
    "str1 = 'lion \\t Ink32onion Nice'\n",
    "str2 = '**1\\f2\\n3star\\t7 77\\r**'"
   ]
  },
  {
   "cell_type": "code",
   "execution_count": 479,
   "id": "5d4310d0",
   "metadata": {},
   "outputs": [],
   "source": [
    "pat = re.compile('[\\d\\s]+')\n"
   ]
  },
  {
   "cell_type": "code",
   "execution_count": 481,
   "id": "18a88e74",
   "metadata": {},
   "outputs": [
    {
     "data": {
      "text/plain": [
       "['lion', 'Ink', 'onion', 'Nice']"
      ]
     },
     "execution_count": 481,
     "metadata": {},
     "output_type": "execute_result"
    }
   ],
   "source": [
    "pat.split(str1)"
   ]
  },
  {
   "cell_type": "code",
   "execution_count": 482,
   "id": "d597e760",
   "metadata": {},
   "outputs": [
    {
     "data": {
      "text/plain": [
       "['**', 'star', '**']"
      ]
     },
     "execution_count": 482,
     "metadata": {},
     "output_type": "execute_result"
    }
   ],
   "source": [
    "pat.split(str2)"
   ]
  },
  {
   "cell_type": "markdown",
   "id": "093f78ce",
   "metadata": {},
   "source": [
    "**k)** Delete all occurrences of the sequence `<characters>` where `characters` is one or more non `>` characters and cannot be empty.\n"
   ]
  },
  {
   "cell_type": "code",
   "execution_count": 483,
   "id": "62eebf68",
   "metadata": {},
   "outputs": [],
   "source": [
    "ip = 'a<apple> 1<> b<bye> 2<> c<cat>'"
   ]
  },
  {
   "cell_type": "code",
   "execution_count": 503,
   "id": "6b775a13",
   "metadata": {},
   "outputs": [
    {
     "data": {
      "text/plain": [
       "'a 1<> b 2<> c'"
      ]
     },
     "execution_count": 503,
     "metadata": {},
     "output_type": "execute_result"
    }
   ],
   "source": [
    "re.sub(r'<[a-z]+>','',ip)"
   ]
  },
  {
   "cell_type": "code",
   "execution_count": 504,
   "id": "9c675ed7",
   "metadata": {},
   "outputs": [
    {
     "data": {
      "text/plain": [
       "'a 1<> b 2<> c'"
      ]
     },
     "execution_count": 504,
     "metadata": {},
     "output_type": "execute_result"
    }
   ],
   "source": [
    "re.sub(r'<[^>]+>','',ip)"
   ]
  },
  {
   "cell_type": "code",
   "execution_count": 505,
   "id": "f07810d2",
   "metadata": {},
   "outputs": [
    {
     "data": {
      "text/plain": [
       "'a 1<> b 2<> c'"
      ]
     },
     "execution_count": 505,
     "metadata": {},
     "output_type": "execute_result"
    }
   ],
   "source": [
    "re.sub(r'<\\w+>','',ip)"
   ]
  },
  {
   "cell_type": "markdown",
   "id": "f17e4af5",
   "metadata": {},
   "source": [
    "**l)** `\\b[a-z](on|no)[a-z]\\b` is same as `\\b[a-z][on]{2}[a-z]\\b`. True or False? Sample input lines shown below might help to understand the differences, if any."
   ]
  },
  {
   "cell_type": "markdown",
   "id": "339adf71",
   "metadata": {},
   "source": [
    "False. `[on]{2}` will also match oo and nn"
   ]
  },
  {
   "cell_type": "code",
   "execution_count": 506,
   "id": "0b36b32b",
   "metadata": {},
   "outputs": [
    {
     "name": "stdout",
     "output_type": "stream",
     "text": [
      "known\n",
      "mood\n",
      "know\n",
      "pony\n",
      "inns\n"
     ]
    }
   ],
   "source": [
    "print('known\\nmood\\nknow\\npony\\ninns')"
   ]
  },
  {
   "cell_type": "markdown",
   "id": "5bc8e07b",
   "metadata": {},
   "source": [
    "**m)** For the given list, filter all elements containing any number sequence greater than `624`."
   ]
  },
  {
   "cell_type": "code",
   "execution_count": 508,
   "id": "a0c52a87",
   "metadata": {},
   "outputs": [],
   "source": [
    "items = ['hi0000432abcd', 'car00625', '42_624 0512', '3.14 96 2 foo1234baz']"
   ]
  },
  {
   "cell_type": "code",
   "execution_count": 509,
   "id": "7d7e5869",
   "metadata": {},
   "outputs": [
    {
     "data": {
      "text/plain": [
       "['car00625', '3.14 96 2 foo1234baz']"
      ]
     },
     "execution_count": 509,
     "metadata": {},
     "output_type": "execute_result"
    }
   ],
   "source": [
    "[e for e in items if any(int(m[0])>624 for m in re.finditer(r'\\d+', e))]"
   ]
  },
  {
   "cell_type": "markdown",
   "id": "444a51fd",
   "metadata": {},
   "source": [
    "**n)** Count the maximum depth of nested braces for the given strings. Unbalanced or wrongly ordered braces should return `-1`. Note that this will require a mix of regular expressions and Python code."
   ]
  },
  {
   "cell_type": "markdown",
   "id": "d799140c",
   "metadata": {},
   "source": [
    "**o)** By default, `str.split` method will split on whitespace and remove empty strings from the result. Which `re` module function would you use to replicate this functionality?\n"
   ]
  },
  {
   "cell_type": "markdown",
   "id": "ab160503",
   "metadata": {},
   "source": [
    "## `\\t` and `\\n`"
   ]
  },
  {
   "cell_type": "code",
   "execution_count": 517,
   "id": "918ecdae",
   "metadata": {},
   "outputs": [],
   "source": [
    "ip = ' \\t\\r  so  pole\\t\\t\\t\\n\\nlit in to \\r\\n\\v\\f  '"
   ]
  },
  {
   "cell_type": "markdown",
   "id": "3ae89cac",
   "metadata": {},
   "source": [
    "`\\t` =  white space and `\\n` = new line"
   ]
  },
  {
   "cell_type": "code",
   "execution_count": 518,
   "id": "67c1cd2d",
   "metadata": {},
   "outputs": [
    {
     "data": {
      "text/plain": [
       "['so', 'pole', 'lit', 'in', 'to']"
      ]
     },
     "execution_count": 518,
     "metadata": {},
     "output_type": "execute_result"
    }
   ],
   "source": [
    "ip.split()"
   ]
  },
  {
   "cell_type": "code",
   "execution_count": 520,
   "id": "0a1ed4c6",
   "metadata": {},
   "outputs": [
    {
     "data": {
      "text/plain": [
       "['so', 'pole', 'lit', 'in', 'to']"
      ]
     },
     "execution_count": 520,
     "metadata": {},
     "output_type": "execute_result"
    }
   ],
   "source": [
    "re.findall(r'\\S+', ip)"
   ]
  },
  {
   "cell_type": "markdown",
   "id": "2d408f2e",
   "metadata": {},
   "source": [
    "\n",
    "**p)** Convert the given input string to two different lists as shown below."
   ]
  },
  {
   "cell_type": "markdown",
   "id": "01cb0d4a",
   "metadata": {},
   "source": [
    "## `\\W` \n",
    "## `(\\W)`"
   ]
  },
  {
   "cell_type": "code",
   "execution_count": 526,
   "id": "6bce1b6c",
   "metadata": {},
   "outputs": [],
   "source": [
    "ip = 'price_42 roast^\\t\\n^-ice==cat\\neast'"
   ]
  },
  {
   "cell_type": "code",
   "execution_count": 528,
   "id": "c20d71a8",
   "metadata": {},
   "outputs": [
    {
     "data": {
      "text/plain": [
       "['price_42', 'roast', 'ice', 'cat', 'east']"
      ]
     },
     "execution_count": 528,
     "metadata": {},
     "output_type": "execute_result"
    }
   ],
   "source": [
    "re.split(r'\\W+',ip)"
   ]
  },
  {
   "cell_type": "code",
   "execution_count": 530,
   "id": "bf175b91",
   "metadata": {},
   "outputs": [
    {
     "data": {
      "text/plain": [
       "['price_42', ' ', 'roast', '^\\t\\n^-', 'ice', '==', 'cat', '\\n', 'east']"
      ]
     },
     "execution_count": 530,
     "metadata": {},
     "output_type": "execute_result"
    }
   ],
   "source": [
    "re.split(r'(\\W+)',ip)"
   ]
  },
  {
   "cell_type": "markdown",
   "id": "d4c278bf",
   "metadata": {},
   "source": [
    "**q)** Filter all elements whose first non-whitespace character is not a `#` character. Any element made up of only whitespace characters should be ignored as well."
   ]
  },
  {
   "cell_type": "code",
   "execution_count": 532,
   "id": "14f03296",
   "metadata": {},
   "outputs": [],
   "source": [
    "items = ['    #comment', '\\t\\napple #42', '#oops', 'sure', 'no#1', '\\t\\r\\f']"
   ]
  },
  {
   "cell_type": "code",
   "execution_count": 533,
   "id": "67b03f92",
   "metadata": {},
   "outputs": [
    {
     "data": {
      "text/plain": [
       "['\\t\\napple #42', 'sure', 'no#1']"
      ]
     },
     "execution_count": 533,
     "metadata": {},
     "output_type": "execute_result"
    }
   ],
   "source": [
    "[e for e in items if re.search(r'\\A\\s*[^#\\s]', e)]"
   ]
  },
  {
   "cell_type": "markdown",
   "id": "b4129e65",
   "metadata": {},
   "source": [
    "# Groupings and backreferences\n",
    "IMP"
   ]
  },
  {
   "cell_type": "markdown",
   "id": "47aab44a",
   "metadata": {},
   "source": [
    "**a)** Replace the space character that occurs after a word ending with `a` or `r` with a newline character."
   ]
  },
  {
   "cell_type": "code",
   "execution_count": 534,
   "id": "e8dceb4c",
   "metadata": {},
   "outputs": [],
   "source": [
    "ip = 'area not a _a2_ roar took 22'"
   ]
  },
  {
   "cell_type": "code",
   "execution_count": 535,
   "id": "b6545fbb",
   "metadata": {},
   "outputs": [
    {
     "name": "stdout",
     "output_type": "stream",
     "text": [
      "area\n",
      "not a\n",
      "_a2_ roar\n",
      "took 22\n"
     ]
    }
   ],
   "source": [
    "print(re.sub(r'([ar]) ', r'\\1\\n', ip))"
   ]
  },
  {
   "cell_type": "markdown",
   "id": "6a9125dc",
   "metadata": {},
   "source": [
    "**b)** Add `[]` around words starting with `s` and containing `e` and `t` in any order."
   ]
  },
  {
   "cell_type": "code",
   "execution_count": 536,
   "id": "8e306541",
   "metadata": {},
   "outputs": [],
   "source": [
    "ip = 'sequoia subtle exhibit asset sets tests site'"
   ]
  },
  {
   "cell_type": "code",
   "execution_count": 543,
   "id": "f7b8411c",
   "metadata": {},
   "outputs": [
    {
     "data": {
      "text/plain": [
       "'sequoia [subtle] exhibit asset [sets] tests [site]'"
      ]
     },
     "execution_count": 543,
     "metadata": {},
     "output_type": "execute_result"
    }
   ],
   "source": [
    "re.sub(r'\\bs\\w*(e\\w*t|t\\w*e)\\w*','[\\g<0>]', ip)"
   ]
  },
  {
   "cell_type": "markdown",
   "id": "58bc78d8",
   "metadata": {},
   "source": [
    "**c)** Replace all whole words with `X` that start and end with the same word character. Single character word should get replaced with `X` too, as it satisfies the stated condition.\n"
   ]
  },
  {
   "cell_type": "code",
   "execution_count": 544,
   "id": "aa09adc0",
   "metadata": {},
   "outputs": [],
   "source": [
    "ip = 'oreo not a _a2_ roar took 22'"
   ]
  },
  {
   "cell_type": "code",
   "execution_count": 556,
   "id": "41a9d03e",
   "metadata": {},
   "outputs": [
    {
     "data": {
      "text/plain": [
       "'X not X X X took X'"
      ]
     },
     "execution_count": 556,
     "metadata": {},
     "output_type": "execute_result"
    }
   ],
   "source": [
    "re.sub(r'\\b(\\w|(\\w)\\w*\\2)\\b', 'X', ip)"
   ]
  },
  {
   "cell_type": "markdown",
   "id": "5c87bb12",
   "metadata": {},
   "source": [
    "**d)** Convert the given **markdown** headers to corresponding **anchor** tag. Consider the input to start with one or more `#` characters followed by space and word characters. The `name` attribute is constructed by converting the header to lowercase and replacing spaces with hyphens. Can you do it without using a capture group?"
   ]
  },
  {
   "cell_type": "code",
   "execution_count": 558,
   "id": "41b1020d",
   "metadata": {},
   "outputs": [],
   "source": [
    "header1 = '# Regular Expressions'\n",
    "header2 = '## Compiling regular expressions'"
   ]
  },
  {
   "cell_type": "code",
   "execution_count": 559,
   "id": "addafb3e",
   "metadata": {},
   "outputs": [],
   "source": [
    "##### add your solution here for header1\n",
    "# <a name=\"regular-expressions\"></a>Regular Expressions'\n",
    "##### add your solution here for header2\n",
    "## <a name=\"compiling-regular-expressions\"></a>Compiling regular expressions'"
   ]
  },
  {
   "cell_type": "markdown",
   "id": "79e9f631",
   "metadata": {},
   "source": [
    "**e)** Convert the given **markdown** anchors to corresponding **hyperlinks**."
   ]
  },
  {
   "cell_type": "code",
   "execution_count": 561,
   "id": "0d868c37",
   "metadata": {},
   "outputs": [],
   "source": [
    "anchor1 = '# <a name=\"regular-expressions\"></a>Regular Expressions'\n",
    "anchor2 = '## <a name=\"subexpression-calls\"></a>Subexpression calls'"
   ]
  },
  {
   "cell_type": "code",
   "execution_count": 564,
   "id": "be6decfe",
   "metadata": {},
   "outputs": [],
   "source": [
    "hyperlink = re.compile(r'[^\"]+\"([^\"]+)\"></a>(.+)')"
   ]
  },
  {
   "cell_type": "code",
   "execution_count": 566,
   "id": "2ee66674",
   "metadata": {},
   "outputs": [
    {
     "data": {
      "text/plain": [
       "'[regular-expressions](Regular Expressions)'"
      ]
     },
     "execution_count": 566,
     "metadata": {},
     "output_type": "execute_result"
    }
   ],
   "source": [
    "hyperlink.sub(r'[\\g<1>](\\g<2>)',anchor1)"
   ]
  },
  {
   "cell_type": "code",
   "execution_count": 567,
   "id": "3282dab0",
   "metadata": {},
   "outputs": [
    {
     "data": {
      "text/plain": [
       "'[subexpression-calls](Subexpression calls)'"
      ]
     },
     "execution_count": 567,
     "metadata": {},
     "output_type": "execute_result"
    }
   ],
   "source": [
    "hyperlink.sub(r'[\\g<1>](\\g<2>)',anchor2)"
   ]
  },
  {
   "cell_type": "markdown",
   "id": "88bbec3c",
   "metadata": {},
   "source": [
    "## `\\2`\n",
    "backpreference"
   ]
  },
  {
   "cell_type": "markdown",
   "id": "f266f92e",
   "metadata": {},
   "source": [
    "**f)** Count the number of whole words that have at least two occurrences of consecutive repeated alphabets. For example, words like `stillness` and `Committee` should be counted but not words like `root` or `readable` or `rotational`."
   ]
  },
  {
   "cell_type": "code",
   "execution_count": 568,
   "id": "219bbc39",
   "metadata": {},
   "outputs": [],
   "source": [
    "ip = '''oppressed abandon accommodation bloodless\n",
    "carelessness committed apparition innkeeper\n",
    "occasionally afforded embarrassment foolishness\n",
    "depended successfully succeeded\n",
    "possession cleanliness suppress'''"
   ]
  },
  {
   "cell_type": "code",
   "execution_count": 570,
   "id": "040bd0fc",
   "metadata": {},
   "outputs": [
    {
     "data": {
      "text/plain": [
       "13"
      ]
     },
     "execution_count": 570,
     "metadata": {},
     "output_type": "execute_result"
    }
   ],
   "source": [
    "len(re.findall(r'\\b(\\w*(\\w)\\2){2}\\w*\\b', ip))"
   ]
  },
  {
   "cell_type": "code",
   "execution_count": null,
   "id": "aba56548",
   "metadata": {},
   "outputs": [],
   "source": []
  },
  {
   "cell_type": "markdown",
   "id": "6eab16d6",
   "metadata": {},
   "source": [
    "## reapating sequence"
   ]
  },
  {
   "cell_type": "markdown",
   "id": "80fcdac8",
   "metadata": {},
   "source": [
    "**g)** For the given input string, replace all occurrences of digit sequences with only the unique non-repeating sequence. For example, `232323` should be changed to `23` and `897897` should be changed to `897`. If there no repeats (for example `1234`) or if the repeats end prematurely (for example `12121`), it should not be changed."
   ]
  },
  {
   "cell_type": "code",
   "execution_count": 572,
   "id": "a7c36aad",
   "metadata": {},
   "outputs": [],
   "source": [
    "ip = '1234 2323 453545354535 9339 11 60260260'"
   ]
  },
  {
   "cell_type": "markdown",
   "id": "ae9506f3",
   "metadata": {},
   "source": [
    "## \\1\n",
    "backpreference"
   ]
  },
  {
   "cell_type": "code",
   "execution_count": 574,
   "id": "8f4eac51",
   "metadata": {},
   "outputs": [
    {
     "data": {
      "text/plain": [
       "'1234 23 4535 9339 1 60260260'"
      ]
     },
     "execution_count": 574,
     "metadata": {},
     "output_type": "execute_result"
    }
   ],
   "source": [
    "re.sub(r'\\b(\\d+)\\1+\\b', r'\\1', ip)\n",
    "# (\\d+) that group given reference as a 1"
   ]
  },
  {
   "cell_type": "markdown",
   "id": "8b52fa3f",
   "metadata": {},
   "source": [
    "**h)** Replace sequences made up of words separated by `:` or `.` by the first word of the sequence. Such sequences will end when `:` or `.` is not followed by a word character.\n"
   ]
  },
  {
   "cell_type": "code",
   "execution_count": 576,
   "id": "a4bbebbd",
   "metadata": {},
   "outputs": [],
   "source": [
    "ip = 'wow:Good:2_two:five: hi-2 bye kite.777.water.'"
   ]
  },
  {
   "cell_type": "code",
   "execution_count": 577,
   "id": "b5b34008",
   "metadata": {},
   "outputs": [
    {
     "data": {
      "text/plain": [
       "'wow hi-2 bye kite'"
      ]
     },
     "execution_count": 577,
     "metadata": {},
     "output_type": "execute_result"
    }
   ],
   "source": [
    "re.sub(r'(\\w+)[:.](\\w+[:.])+', r'\\1', ip)"
   ]
  },
  {
   "cell_type": "markdown",
   "id": "3091a5fe",
   "metadata": {},
   "source": [
    "**i)** Replace sequences made up of words separated by `:` or `.` by the last word of the sequence. Such sequences will end when `:` or `.` is not followed by a word character.\n"
   ]
  },
  {
   "cell_type": "code",
   "execution_count": 578,
   "id": "32742c7d",
   "metadata": {},
   "outputs": [],
   "source": [
    "ip = 'wow:Good:2_two:five: hi-2 bye kite.777.water.'"
   ]
  },
  {
   "cell_type": "code",
   "execution_count": 579,
   "id": "97ddbf03",
   "metadata": {},
   "outputs": [
    {
     "data": {
      "text/plain": [
       "'five hi-2 bye water'"
      ]
     },
     "execution_count": 579,
     "metadata": {},
     "output_type": "execute_result"
    }
   ],
   "source": [
    "re.sub(r'((\\w+)[:.])+', r'\\2', ip)"
   ]
  },
  {
   "cell_type": "markdown",
   "id": "e3b82d61",
   "metadata": {},
   "source": [
    "**j)** Split the given input string on one or more repeated sequence of `cat`."
   ]
  },
  {
   "cell_type": "code",
   "execution_count": 580,
   "id": "25c01f19",
   "metadata": {},
   "outputs": [],
   "source": [
    "ip = 'firecatlioncatcatcatbearcatcatparrot'\n"
   ]
  },
  {
   "cell_type": "code",
   "execution_count": 581,
   "id": "bd4cca84",
   "metadata": {},
   "outputs": [
    {
     "data": {
      "text/plain": [
       "['fire', 'cat', 'lion', 'cat', 'bear', 'cat', 'parrot']"
      ]
     },
     "execution_count": 581,
     "metadata": {},
     "output_type": "execute_result"
    }
   ],
   "source": [
    "re.split(r'(cat)+',ip )"
   ]
  },
  {
   "cell_type": "markdown",
   "id": "1299db00",
   "metadata": {},
   "source": [
    "## `(?:<regex>)`\n",
    "Creates a non-capturing group."
   ]
  },
  {
   "cell_type": "code",
   "execution_count": 582,
   "id": "deebfa3b",
   "metadata": {},
   "outputs": [
    {
     "data": {
      "text/plain": [
       "['fire', 'lion', 'bear', 'parrot']"
      ]
     },
     "execution_count": 582,
     "metadata": {},
     "output_type": "execute_result"
    }
   ],
   "source": [
    "re.split(r'(?:cat)+', ip)"
   ]
  },
  {
   "cell_type": "markdown",
   "id": "956ef25b",
   "metadata": {},
   "source": [
    "**k)** For the given input string, find all occurrences of digit sequences with at least one repeating sequence. For example, `232323` and `897897`. If the repeats end prematurely, for example `12121`, it should not be matched.\n",
    "\n",
    "```ruby"
   ]
  },
  {
   "cell_type": "code",
   "execution_count": 583,
   "id": "f8e326b0",
   "metadata": {},
   "outputs": [],
   "source": [
    "ip = '1234 2323 453545354535 9339 11 60260260'"
   ]
  },
  {
   "cell_type": "code",
   "execution_count": 584,
   "id": "ee9bdaf5",
   "metadata": {},
   "outputs": [],
   "source": [
    "pat = re.compile(r'\\b(\\d+)\\1+\\b')\n"
   ]
  },
  {
   "cell_type": "code",
   "execution_count": 585,
   "id": "8e7c750d",
   "metadata": {},
   "outputs": [
    {
     "data": {
      "text/plain": [
       "['2323', '453545354535', '11']"
      ]
     },
     "execution_count": 585,
     "metadata": {},
     "output_type": "execute_result"
    }
   ],
   "source": [
    "[m[0] for m in pat.finditer(ip)]"
   ]
  },
  {
   "cell_type": "code",
   "execution_count": 586,
   "id": "719c1d39",
   "metadata": {},
   "outputs": [
    {
     "data": {
      "text/plain": [
       "['23', '4535', '1']"
      ]
     },
     "execution_count": 586,
     "metadata": {},
     "output_type": "execute_result"
    }
   ],
   "source": [
    "pat.findall(ip)"
   ]
  },
  {
   "cell_type": "markdown",
   "id": "07a5adaf",
   "metadata": {},
   "source": [
    "**l)** Convert the comma separated strings to corresponding `dict` objects as shown below. The keys are `name`, `maths` and `phy` for the three fields in the input strings."
   ]
  },
  {
   "cell_type": "code",
   "execution_count": 587,
   "id": "7daa5447",
   "metadata": {},
   "outputs": [],
   "source": [
    "row1 = 'rohan,75,89'\n",
    "row2 = 'rose,88,92'"
   ]
  },
  {
   "cell_type": "code",
   "execution_count": 598,
   "id": "f26e78d0",
   "metadata": {},
   "outputs": [],
   "source": [
    "pat = re.compile(\"(?P<name>\\w+),(?P<maths>\\d{2}),(?P<phy>\\d{2})\")"
   ]
  },
  {
   "cell_type": "code",
   "execution_count": 599,
   "id": "1823b193",
   "metadata": {},
   "outputs": [
    {
     "data": {
      "text/plain": [
       "{'name': 'rohan', 'maths': '75', 'phy': '89'}"
      ]
     },
     "execution_count": 599,
     "metadata": {},
     "output_type": "execute_result"
    }
   ],
   "source": [
    "pat.search(row1).groupdict()"
   ]
  },
  {
   "cell_type": "code",
   "execution_count": 600,
   "id": "2fd6c9b2",
   "metadata": {},
   "outputs": [
    {
     "data": {
      "text/plain": [
       "{'name': 'rose', 'maths': '88', 'phy': '92'}"
      ]
     },
     "execution_count": 600,
     "metadata": {},
     "output_type": "execute_result"
    }
   ],
   "source": [
    "pat.search(row2).groupdict()"
   ]
  },
  {
   "cell_type": "markdown",
   "id": "d28f7ca2",
   "metadata": {},
   "source": [
    "**m)** Surround all whole words with `()`. Additionally, if the whole word is `imp` or `ant`, delete them. Can you do it with single substitution?"
   ]
  },
  {
   "cell_type": "code",
   "execution_count": 601,
   "id": "a7d08ed3",
   "metadata": {},
   "outputs": [],
   "source": [
    "ip = 'tiger imp goat eagle ant important'"
   ]
  },
  {
   "cell_type": "code",
   "execution_count": 607,
   "id": "23f22e32",
   "metadata": {},
   "outputs": [
    {
     "data": {
      "text/plain": [
       "'(tiger) () (goat) (eagle) () (important)'"
      ]
     },
     "execution_count": 607,
     "metadata": {},
     "output_type": "execute_result"
    }
   ],
   "source": [
    "re.sub(r'\\b(?:imp|ant|(\\w+))\\b', r'(\\1)', ip)"
   ]
  },
  {
   "cell_type": "code",
   "execution_count": 613,
   "id": "6d42fce7",
   "metadata": {},
   "outputs": [
    {
     "data": {
      "text/plain": [
       "'(tiger) () (goat) (eagle) () (important)'"
      ]
     },
     "execution_count": 613,
     "metadata": {},
     "output_type": "execute_result"
    }
   ],
   "source": [
    "re.sub(r'\\b(?:imp|ant|(\\w+))\\b',r'(\\1)',ip)"
   ]
  },
  {
   "cell_type": "markdown",
   "id": "6f1933f3",
   "metadata": {},
   "source": [
    "**n)** Filter all elements that contains a sequence of lowercase alphabets followed by `-` followed by digits. They can be optionally surrounded by `{{` and `}}`. Any partial match shouldn't be part of the output.\n"
   ]
  },
  {
   "cell_type": "code",
   "execution_count": 614,
   "id": "6a483032",
   "metadata": {},
   "outputs": [],
   "source": [
    "ip = ['{{apple-150}}', '{{mango2-100}}', '{{cherry-200', 'grape-87']"
   ]
  },
  {
   "cell_type": "code",
   "execution_count": 615,
   "id": "daf64ed6",
   "metadata": {},
   "outputs": [
    {
     "data": {
      "text/plain": [
       "['{{apple-150}}', 'grape-87']"
      ]
     },
     "execution_count": 615,
     "metadata": {},
     "output_type": "execute_result"
    }
   ],
   "source": [
    "[w for w in ip if re.fullmatch(r'({{)?[a-z]+-\\d+(?(1)}})', w)]"
   ]
  },
  {
   "cell_type": "markdown",
   "id": "7823a55b",
   "metadata": {},
   "source": [
    "\n",
    "**o)** The given input string has sequences made up of words separated by `:` or `.` and such sequences will end when `:` or `.` is not followed by a word character. For all such sequences, display only the last word followed by `-` followed by first word."
   ]
  },
  {
   "cell_type": "code",
   "execution_count": 616,
   "id": "4d426273",
   "metadata": {},
   "outputs": [],
   "source": [
    "ip = 'wow:Good:2_two:five: hi-2 bye kite.777.water.'"
   ]
  },
  {
   "cell_type": "markdown",
   "id": "a1e17734",
   "metadata": {},
   "source": [
    "<!-- [m.expand(r'\\2-\\1') for m in re.finditer(r'(\\w+)[:.](?:(\\w+)[:.])+', ip)] -->"
   ]
  },
  {
   "cell_type": "markdown",
   "id": "cac920b5",
   "metadata": {},
   "source": [
    "# Lookarounds\n",
    "\n",
    "Please use lookarounds for solving the following exercises even if you can do it without lookarounds. Unless you cannot use lookarounds for cases like variable length lookbehinds.\n"
   ]
  },
  {
   "cell_type": "markdown",
   "id": "3438c2fe",
   "metadata": {},
   "source": [
    "**a)** Replace all whole words with `X` unless it is preceded by `(` character."
   ]
  },
  {
   "cell_type": "code",
   "execution_count": 617,
   "id": "f04d139f",
   "metadata": {},
   "outputs": [],
   "source": [
    "ip = '(apple) guava berry) apple (mango) (grape'"
   ]
  },
  {
   "cell_type": "code",
   "execution_count": 618,
   "id": "93d54f3f",
   "metadata": {},
   "outputs": [
    {
     "data": {
      "text/plain": [
       "'(apple) X X) X (mango) (grape'"
      ]
     },
     "execution_count": 618,
     "metadata": {},
     "output_type": "execute_result"
    }
   ],
   "source": [
    "re.sub(r'(?<!\\()\\b\\w+', 'X', ip)"
   ]
  },
  {
   "cell_type": "markdown",
   "id": "99eefae1",
   "metadata": {},
   "source": [
    "**b)** Replace all whole words with `X` unless it is followed by `)` character."
   ]
  },
  {
   "cell_type": "code",
   "execution_count": 619,
   "id": "ff426680",
   "metadata": {},
   "outputs": [],
   "source": [
    "ip = '(apple) guava berry) apple (mango) (grape'"
   ]
  },
  {
   "cell_type": "code",
   "execution_count": 620,
   "id": "1c170b18",
   "metadata": {},
   "outputs": [
    {
     "data": {
      "text/plain": [
       "'(apple) X berry) X (mango) (X'"
      ]
     },
     "execution_count": 620,
     "metadata": {},
     "output_type": "execute_result"
    }
   ],
   "source": [
    "re.sub(r'\\b\\w+\\b(?!\\))', 'X', ip)"
   ]
  },
  {
   "cell_type": "markdown",
   "id": "ad5d4192",
   "metadata": {},
   "source": [
    "**c)** Replace all whole words with `X` unless it is preceded by `(` or followed by `)` characters."
   ]
  },
  {
   "cell_type": "code",
   "execution_count": 621,
   "id": "76947a8f",
   "metadata": {},
   "outputs": [],
   "source": [
    "ip = '(apple) guava berry) apple (mango) (grape'"
   ]
  },
  {
   "cell_type": "code",
   "execution_count": 622,
   "id": "c3bb18b8",
   "metadata": {},
   "outputs": [
    {
     "data": {
      "text/plain": [
       "'(apple) X berry) X (mango) (grape'"
      ]
     },
     "execution_count": 622,
     "metadata": {},
     "output_type": "execute_result"
    }
   ],
   "source": [
    "re.sub(r'(?<!\\()\\b\\w+\\b(?!\\))', 'X', ip)"
   ]
  },
  {
   "cell_type": "markdown",
   "id": "c8c28740",
   "metadata": {},
   "source": [
    "**d)** Extract all whole words that do not end with `e` or `n`."
   ]
  },
  {
   "cell_type": "code",
   "execution_count": 623,
   "id": "05ca3af5",
   "metadata": {},
   "outputs": [],
   "source": [
    "ip = 'at row on urn e note dust n'"
   ]
  },
  {
   "cell_type": "code",
   "execution_count": 624,
   "id": "24d31d78",
   "metadata": {},
   "outputs": [
    {
     "data": {
      "text/plain": [
       "['at', 'row', 'dust']"
      ]
     },
     "execution_count": 624,
     "metadata": {},
     "output_type": "execute_result"
    }
   ],
   "source": [
    "re.findall(r'\\b\\w+\\b(?<![en])', ip)\n"
   ]
  },
  {
   "cell_type": "markdown",
   "id": "08752ff7",
   "metadata": {},
   "source": [
    "**e)** Extract all whole words that do not start with `a` or `d` or `n`."
   ]
  },
  {
   "cell_type": "code",
   "execution_count": 625,
   "id": "d39e846a",
   "metadata": {},
   "outputs": [],
   "source": [
    "ip = 'at row on urn e note dust n'"
   ]
  },
  {
   "cell_type": "code",
   "execution_count": 626,
   "id": "90b81b62",
   "metadata": {},
   "outputs": [
    {
     "data": {
      "text/plain": [
       "['row', 'on', 'urn', 'e']"
      ]
     },
     "execution_count": 626,
     "metadata": {},
     "output_type": "execute_result"
    }
   ],
   "source": [
    "re.findall(r'(?![adn])\\b\\w+\\b', ip)"
   ]
  },
  {
   "cell_type": "markdown",
   "id": "0f32ad9b",
   "metadata": {},
   "source": [
    "**f)** Extract all whole words only if they are followed by `:` or `,` or `-`."
   ]
  },
  {
   "cell_type": "code",
   "execution_count": 627,
   "id": "9ef7fdd7",
   "metadata": {},
   "outputs": [],
   "source": [
    "ip = 'poke,on=-=so:ink.to/is(vast)ever-sit'"
   ]
  },
  {
   "cell_type": "code",
   "execution_count": 628,
   "id": "39cd7a0f",
   "metadata": {},
   "outputs": [
    {
     "data": {
      "text/plain": [
       "['poke', 'so', 'ever']"
      ]
     },
     "execution_count": 628,
     "metadata": {},
     "output_type": "execute_result"
    }
   ],
   "source": [
    "re.findall(r'\\w+(?=[:,-])', ip)"
   ]
  },
  {
   "cell_type": "markdown",
   "id": "0c25e1be",
   "metadata": {},
   "source": [
    "**g)** Extract all whole words only if they are preceded by `=` or `/` or `-`.\n"
   ]
  },
  {
   "cell_type": "code",
   "execution_count": 629,
   "id": "479fa5bd",
   "metadata": {},
   "outputs": [],
   "source": [
    "ip = 'poke,on=-=so:ink.to/is(vast)ever-sit'"
   ]
  },
  {
   "cell_type": "code",
   "execution_count": 630,
   "id": "26cd99a0",
   "metadata": {},
   "outputs": [
    {
     "data": {
      "text/plain": [
       "['so', 'is', 'sit']"
      ]
     },
     "execution_count": 630,
     "metadata": {},
     "output_type": "execute_result"
    }
   ],
   "source": [
    "re.findall(r'(?<=[=/-])\\w+', ip)"
   ]
  },
  {
   "cell_type": "markdown",
   "id": "939112bf",
   "metadata": {},
   "source": [
    "**h)** Extract all whole words only if they are preceded by `=` or `:` and followed by `:` or `.`."
   ]
  },
  {
   "cell_type": "code",
   "execution_count": 631,
   "id": "91ab2b20",
   "metadata": {},
   "outputs": [],
   "source": [
    "ip = 'poke,on=-=so:ink.to/is(vast)ever-sit'"
   ]
  },
  {
   "cell_type": "code",
   "execution_count": 632,
   "id": "fd1df1c3",
   "metadata": {},
   "outputs": [
    {
     "data": {
      "text/plain": [
       "['so', 'ink']"
      ]
     },
     "execution_count": 632,
     "metadata": {},
     "output_type": "execute_result"
    }
   ],
   "source": [
    "re.findall(r'(?<=[=:])\\w+(?=[:.])', ip)"
   ]
  },
  {
   "cell_type": "markdown",
   "id": "382a59ad",
   "metadata": {},
   "source": [
    "**i)** Extract all whole words only if they are preceded by `=` or `:` or `.` or `(` or `-` and not followed by `.` or `/`."
   ]
  },
  {
   "cell_type": "code",
   "execution_count": 633,
   "id": "f88545ba",
   "metadata": {},
   "outputs": [],
   "source": [
    "ip = 'poke,on=-=so:ink.to/is(vast)ever-sit'"
   ]
  },
  {
   "cell_type": "code",
   "execution_count": 634,
   "id": "72fc3c76",
   "metadata": {},
   "outputs": [
    {
     "data": {
      "text/plain": [
       "['so', 'vast', 'sit']"
      ]
     },
     "execution_count": 634,
     "metadata": {},
     "output_type": "execute_result"
    }
   ],
   "source": [
    "re.findall(r'(?<=[=:.(-])\\w+\\b(?![/.])', ip)"
   ]
  },
  {
   "cell_type": "markdown",
   "id": "0aaf8019",
   "metadata": {},
   "source": [
    "**j)** Remove leading and trailing whitespaces from all the individual fields where `,` is the field separator."
   ]
  },
  {
   "cell_type": "code",
   "execution_count": 636,
   "id": "71247213",
   "metadata": {},
   "outputs": [],
   "source": [
    "csv1 = ' comma  ,separated ,values \\t\\r '\n",
    "csv2 = 'good bad,nice  ice  , 42 , ,   stall   small'"
   ]
  },
  {
   "cell_type": "code",
   "execution_count": 637,
   "id": "4693ac1f",
   "metadata": {},
   "outputs": [],
   "source": [
    "remove_whitespace = re.compile(r'(?<![^,])\\s+|\\s+(?![^,])')"
   ]
  },
  {
   "cell_type": "code",
   "execution_count": 638,
   "id": "468ef3ff",
   "metadata": {},
   "outputs": [
    {
     "data": {
      "text/plain": [
       "'comma,separated,values'"
      ]
     },
     "execution_count": 638,
     "metadata": {},
     "output_type": "execute_result"
    }
   ],
   "source": [
    "remove_whitespace.sub(\"\",csv1)"
   ]
  },
  {
   "cell_type": "code",
   "execution_count": 639,
   "id": "6999cc04",
   "metadata": {},
   "outputs": [
    {
     "data": {
      "text/plain": [
       "'good bad,nice  ice,42,,stall   small'"
      ]
     },
     "execution_count": 639,
     "metadata": {},
     "output_type": "execute_result"
    }
   ],
   "source": [
    "remove_whitespace.sub(\"\",csv2)"
   ]
  },
  {
   "cell_type": "markdown",
   "id": "5168956e",
   "metadata": {},
   "source": [
    "**k)** Filter all elements that satisfy all of these rules:\n",
    "\n",
    "* should have at least two alphabets\n",
    "* should have at least 3 digits\n",
    "* should have at least one special character among `%` or `*` or `#` or `$`\n",
    "* should not end with a whitespace character"
   ]
  },
  {
   "cell_type": "code",
   "execution_count": 640,
   "id": "139f5902",
   "metadata": {},
   "outputs": [],
   "source": [
    "pwds = ['hunter2', 'F2H3u%9', '*X3Yz3.14\\t', 'r2_d2_42', 'A $B C1234']"
   ]
  },
  {
   "cell_type": "code",
   "execution_count": 641,
   "id": "b9487b40",
   "metadata": {},
   "outputs": [],
   "source": [
    "pat = re.compile(r'(?=(.*[a-zA-Z]){2})(?=(.*\\d){3})(?!.*\\s\\Z).*[%*#$]')"
   ]
  },
  {
   "cell_type": "code",
   "execution_count": 642,
   "id": "fae42711",
   "metadata": {},
   "outputs": [
    {
     "data": {
      "text/plain": [
       "['F2H3u%9', 'A $B C1234']"
      ]
     },
     "execution_count": 642,
     "metadata": {},
     "output_type": "execute_result"
    }
   ],
   "source": [
    "[p for p in pwds if pat.search(p)]"
   ]
  },
  {
   "cell_type": "markdown",
   "id": "744cafe8",
   "metadata": {},
   "source": [
    "**l)** For the given string, surround all whole words with `{}` except for whole words `par` and `cat` and `apple`."
   ]
  },
  {
   "cell_type": "code",
   "execution_count": 643,
   "id": "e4a13b60",
   "metadata": {},
   "outputs": [],
   "source": [
    "ip = 'part; cat {super} rest_42 par scatter apple spar'"
   ]
  },
  {
   "cell_type": "code",
   "execution_count": 644,
   "id": "1698b03c",
   "metadata": {},
   "outputs": [
    {
     "data": {
      "text/plain": [
       "'{part}; cat {{super}} {rest_42} par {scatter} apple {spar}'"
      ]
     },
     "execution_count": 644,
     "metadata": {},
     "output_type": "execute_result"
    }
   ],
   "source": [
    "re.sub(r'\\b(?!(?:par|cat|apple)\\b)\\w+\\b', r'{\\g<0>}', ip)"
   ]
  },
  {
   "cell_type": "markdown",
   "id": "4fa6833d",
   "metadata": {},
   "source": [
    "**m)** Extract integer portion of floating-point numbers for the given string. A number ending with `.` and no further digits should not be considered."
   ]
  },
  {
   "cell_type": "code",
   "execution_count": 645,
   "id": "1123ca66",
   "metadata": {},
   "outputs": [],
   "source": [
    "ip = '12 ab32.4 go 5 2. 46.42 5'"
   ]
  },
  {
   "cell_type": "code",
   "execution_count": 646,
   "id": "d8eb3322",
   "metadata": {},
   "outputs": [
    {
     "data": {
      "text/plain": [
       "['32', '46']"
      ]
     },
     "execution_count": 646,
     "metadata": {},
     "output_type": "execute_result"
    }
   ],
   "source": [
    "re.findall(r'\\d+(?=\\.\\d+)', ip)"
   ]
  },
  {
   "cell_type": "markdown",
   "id": "a1b2cd85",
   "metadata": {},
   "source": [
    "**n)** For the given input strings, extract all overlapping two character sequences."
   ]
  },
  {
   "cell_type": "code",
   "execution_count": 648,
   "id": "6e523102",
   "metadata": {},
   "outputs": [],
   "source": [
    "s1 = 'apple'\n",
    "s2 = '1.2-3:4'"
   ]
  },
  {
   "cell_type": "code",
   "execution_count": 649,
   "id": "163ed572",
   "metadata": {},
   "outputs": [],
   "source": [
    "pat = re.compile(r'.(?=(.))')"
   ]
  },
  {
   "cell_type": "code",
   "execution_count": 650,
   "id": "f5835e8b",
   "metadata": {},
   "outputs": [
    {
     "data": {
      "text/plain": [
       "['ap', 'pp', 'pl', 'le']"
      ]
     },
     "execution_count": 650,
     "metadata": {},
     "output_type": "execute_result"
    }
   ],
   "source": [
    "[m[0]+m[1] for m in pat.finditer(s1)]\n"
   ]
  },
  {
   "cell_type": "code",
   "execution_count": 651,
   "id": "02a24cf4",
   "metadata": {},
   "outputs": [
    {
     "data": {
      "text/plain": [
       "['1.', '.2', '2-', '-3', '3:', ':4']"
      ]
     },
     "execution_count": 651,
     "metadata": {},
     "output_type": "execute_result"
    }
   ],
   "source": [
    "[m[0]+m[1] for m in pat.finditer(s2)]"
   ]
  },
  {
   "cell_type": "markdown",
   "id": "766325ff",
   "metadata": {},
   "source": [
    "**o)** The given input strings contain fields separated by `:` character. Delete `:` and the last field if there is a digit character anywhere before the last f"
   ]
  },
  {
   "cell_type": "code",
   "execution_count": null,
   "id": "e7043eb7",
   "metadata": {},
   "outputs": [],
   "source": []
  }
 ],
 "metadata": {
  "kernelspec": {
   "display_name": "Python 3 (ipykernel)",
   "language": "python",
   "name": "python3"
  },
  "language_info": {
   "codemirror_mode": {
    "name": "ipython",
    "version": 3
   },
   "file_extension": ".py",
   "mimetype": "text/x-python",
   "name": "python",
   "nbconvert_exporter": "python",
   "pygments_lexer": "ipython3",
   "version": "3.9.7"
  }
 },
 "nbformat": 4,
 "nbformat_minor": 5
}
