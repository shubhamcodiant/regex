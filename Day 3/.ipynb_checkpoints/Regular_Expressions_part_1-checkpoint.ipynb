{
 "cells": [
  {
   "cell_type": "markdown",
   "id": "7af0214f",
   "metadata": {},
   "source": [
    "# Expressions: Regexes in Python (Part 1)"
   ]
  },
  {
   "cell_type": "markdown",
   "id": "d552086b",
   "metadata": {},
   "source": [
    "magine you have a string object s. Now suppose you need to write Python code to find out whether s contains the substring '123'. There are at least a couple ways to do this. You could use the in operator:"
   ]
  },
  {
   "cell_type": "code",
   "execution_count": 1,
   "id": "f252f14d",
   "metadata": {},
   "outputs": [
    {
     "data": {
      "text/plain": [
       "True"
      ]
     },
     "execution_count": 1,
     "metadata": {},
     "output_type": "execute_result"
    }
   ],
   "source": [
    " s = 'foo123bar'\n",
    "'123' in s"
   ]
  },
  {
   "cell_type": "markdown",
   "id": "1302ac69",
   "metadata": {},
   "source": [
    "If you want to know not only whether '123' exists in s but also where it exists, then you can use .find() or .index(). Each of these returns the character position within s where the substring resides:\n",
    "\n"
   ]
  },
  {
   "cell_type": "code",
   "execution_count": 2,
   "id": "1af2820a",
   "metadata": {},
   "outputs": [
    {
     "data": {
      "text/plain": [
       "3"
      ]
     },
     "execution_count": 2,
     "metadata": {},
     "output_type": "execute_result"
    }
   ],
   "source": [
    "s.find('123')"
   ]
  },
  {
   "cell_type": "code",
   "execution_count": 3,
   "id": "8efd4634",
   "metadata": {},
   "outputs": [
    {
     "data": {
      "text/plain": [
       "3"
      ]
     },
     "execution_count": 3,
     "metadata": {},
     "output_type": "execute_result"
    }
   ],
   "source": [
    "s.index('123')"
   ]
  },
  {
   "cell_type": "markdown",
   "id": "4c85f799",
   "metadata": {},
   "source": [
    "In these examples, the matching is done by a straightforward character-by-character comparison. That will get the job done in many cases. But sometimes, the problem is more complicated than that.\n",
    "\n",
    "<br>For example, rather than searching for a fixed substring like '123', suppose you wanted to determine whether a string contains any three consecutive decimal digit characters, as in the strings 'foo123bar', 'foo456bar', '234baz', and 'qux678'.\n",
    "\n",
    "<br>Strict character comparisons won’t cut it here. This is where regexes in Python come to the rescue."
   ]
  },
  {
   "cell_type": "markdown",
   "id": "4c5a5fb3",
   "metadata": {},
   "source": [
    "# The `re` Module"
   ]
  },
  {
   "cell_type": "markdown",
   "id": "d0149bac",
   "metadata": {},
   "source": [
    "Regex functionality in Python resides in a module named re. The re module contains many useful functions and methods, most of which you’ll learn about in the next tutorial in this series."
   ]
  },
  {
   "cell_type": "markdown",
   "id": "c965b169",
   "metadata": {},
   "source": [
    "For now, you’ll focus predominantly on one function, `re.search()`.\n",
    "\n"
   ]
  },
  {
   "cell_type": "markdown",
   "id": "7361af07",
   "metadata": {},
   "source": [
    "### `re.search(<regex>, <string>)`\n",
    "\n",
    "Scans a string for a regex match."
   ]
  },
  {
   "cell_type": "markdown",
   "id": "4c0dac4b",
   "metadata": {},
   "source": [
    "`re.search(<regex>, <string>)` scans `<string>` looking for the first location where the pattern `<regex>` matches. If a match is found, then `re.search()` returns a `match object.` Otherwise, it returns `None`."
   ]
  },
  {
   "cell_type": "markdown",
   "id": "7fe505cc",
   "metadata": {},
   "source": [
    "`re.search()` takes an optional third `<flags>` argument that you’ll learn about at the end of this tutorial."
   ]
  },
  {
   "cell_type": "code",
   "execution_count": 4,
   "id": "9752497b",
   "metadata": {},
   "outputs": [],
   "source": [
    "# importing regex module\n",
    "\n",
    "import re \n"
   ]
  },
  {
   "cell_type": "markdown",
   "id": "43b0114e",
   "metadata": {},
   "source": [
    "## First Pattern-Matching Example\n",
    "Now that you know how to gain access to re.search(), you can give it a try:"
   ]
  },
  {
   "cell_type": "code",
   "execution_count": 5,
   "id": "92821974",
   "metadata": {},
   "outputs": [
    {
     "data": {
      "text/plain": [
       "<re.Match object; span=(3, 6), match='123'>"
      ]
     },
     "execution_count": 5,
     "metadata": {},
     "output_type": "execute_result"
    }
   ],
   "source": [
    "s = 'foo123bar'\n",
    "\n",
    "re.search('123',s)"
   ]
  },
  {
   "cell_type": "markdown",
   "id": "544eb5d9",
   "metadata": {},
   "source": [
    "A match object is **truthy**, so you can use it in a Boolean context like a conditional statement:"
   ]
  },
  {
   "cell_type": "code",
   "execution_count": 6,
   "id": "fd35bbfd",
   "metadata": {},
   "outputs": [
    {
     "name": "stdout",
     "output_type": "stream",
     "text": [
      "Found a match\n"
     ]
    }
   ],
   "source": [
    "if re.search('123',s):\n",
    "    print('Found a match')\n",
    "else:\n",
    "    print(\"no match.\")"
   ]
  },
  {
   "cell_type": "markdown",
   "id": "2654f193",
   "metadata": {},
   "source": [
    "The interpreter displays the match object as <_sre.SRE_Match object; span=(3, 6), match='123'>. This contains some useful information."
   ]
  },
  {
   "cell_type": "markdown",
   "id": "adce8898",
   "metadata": {},
   "source": [
    "span=(3, 6) indicates the portion of <string> in which the match was found. This means the same thing as it would in slice notation:\n",
    "\n"
   ]
  },
  {
   "cell_type": "code",
   "execution_count": 7,
   "id": "3c703813",
   "metadata": {},
   "outputs": [
    {
     "data": {
      "text/plain": [
       "'123'"
      ]
     },
     "execution_count": 7,
     "metadata": {},
     "output_type": "execute_result"
    }
   ],
   "source": [
    "s[3:6]"
   ]
  },
  {
   "cell_type": "markdown",
   "id": "5fefa5ae",
   "metadata": {},
   "source": [
    "In this example, the match starts at character position 3 and extends up to but not including position 6."
   ]
  },
  {
   "cell_type": "markdown",
   "id": "9e36097b",
   "metadata": {},
   "source": [
    "## Python Regex Metacharacters"
   ]
  },
  {
   "cell_type": "markdown",
   "id": "f696bf4a",
   "metadata": {},
   "source": [
    "The real power of regex matching in Python emerges when `<regex>` contains special characters called **metacharacters**. These have a unique meaning to the regex matching engine and vastly enhance the capability of the search."
   ]
  },
  {
   "cell_type": "markdown",
   "id": "a0c8595d",
   "metadata": {},
   "source": [
    "Consider again the problem of how to determine whether a string contains any three consecutive decimal digit characters.\n",
    "\n",
    "<br>In a regex, a set of characters specified in square brackets ([]) makes up a character class. This metacharacter sequence matches any single character that is in the class, as demonstrated in the following example:"
   ]
  },
  {
   "cell_type": "code",
   "execution_count": 8,
   "id": "8d6b45c6",
   "metadata": {},
   "outputs": [
    {
     "data": {
      "text/plain": [
       "<re.Match object; span=(3, 6), match='123'>"
      ]
     },
     "execution_count": 8,
     "metadata": {},
     "output_type": "execute_result"
    }
   ],
   "source": [
    "s = 'foo123bar'\n",
    "\n",
    "re.search('[0-9][0-9][0-9]',s)"
   ]
  },
  {
   "cell_type": "markdown",
   "id": "ff734d69",
   "metadata": {},
   "source": [
    "[0-9] matches any single decimal digit character—any character between '0' and '9', inclusive. The full expression [0-9][0-9][0-9] matches any sequence of three decimal digit characters. In this case, s matches because it contains three consecutive decimal digit characters, '123'."
   ]
  },
  {
   "cell_type": "markdown",
   "id": "6b89da7a",
   "metadata": {},
   "source": [
    "These strings also match:"
   ]
  },
  {
   "cell_type": "code",
   "execution_count": 9,
   "id": "003a9969",
   "metadata": {},
   "outputs": [
    {
     "data": {
      "text/plain": [
       "<re.Match object; span=(3, 6), match='456'>"
      ]
     },
     "execution_count": 9,
     "metadata": {},
     "output_type": "execute_result"
    }
   ],
   "source": [
    "re.search('[0-9][0-9][0-9]', 'foo456bar')"
   ]
  },
  {
   "cell_type": "code",
   "execution_count": 10,
   "id": "ee70456a",
   "metadata": {},
   "outputs": [
    {
     "data": {
      "text/plain": [
       "<re.Match object; span=(0, 3), match='234'>"
      ]
     },
     "execution_count": 10,
     "metadata": {},
     "output_type": "execute_result"
    }
   ],
   "source": [
    "re.search('[0-9][0-9][0-9]', '234baz')"
   ]
  },
  {
   "cell_type": "code",
   "execution_count": 11,
   "id": "01f4d02d",
   "metadata": {},
   "outputs": [
    {
     "data": {
      "text/plain": [
       "<re.Match object; span=(3, 6), match='678'>"
      ]
     },
     "execution_count": 11,
     "metadata": {},
     "output_type": "execute_result"
    }
   ],
   "source": [
    "re.search('[0-9][0-9][0-9]', 'qux678')"
   ]
  },
  {
   "cell_type": "markdown",
   "id": "d6ada241",
   "metadata": {},
   "source": [
    "On the other hand, a string that doesn’t contain three consecutive digits won’t match:"
   ]
  },
  {
   "cell_type": "code",
   "execution_count": 12,
   "id": "59722cc6",
   "metadata": {},
   "outputs": [
    {
     "name": "stdout",
     "output_type": "stream",
     "text": [
      "None\n"
     ]
    }
   ],
   "source": [
    "print(re.search('[0-9][0-9][0-9]', '12foo34'))"
   ]
  },
  {
   "cell_type": "markdown",
   "id": "ba22c73a",
   "metadata": {},
   "source": [
    "With regexes in Python, you can identify patterns in a string that you wouldn’t be able to find with the in operator or with string methods.\n",
    "\n",
    "<br>Take a look at another regex metacharacter. The dot (.) metacharacter matches any character except a newline, so it functions like a wildcard:"
   ]
  },
  {
   "cell_type": "code",
   "execution_count": 13,
   "id": "7d353c10",
   "metadata": {},
   "outputs": [
    {
     "data": {
      "text/plain": [
       "<re.Match object; span=(3, 6), match='123'>"
      ]
     },
     "execution_count": 13,
     "metadata": {},
     "output_type": "execute_result"
    }
   ],
   "source": [
    "s = 'foo123bar'\n",
    "re.search('1.3', s)"
   ]
  },
  {
   "cell_type": "code",
   "execution_count": 14,
   "id": "eaa528b6",
   "metadata": {},
   "outputs": [
    {
     "name": "stdout",
     "output_type": "stream",
     "text": [
      "None\n"
     ]
    }
   ],
   "source": [
    "s = 'foo13bar'\n",
    "print(re.search('1.3', s))"
   ]
  },
  {
   "cell_type": "markdown",
   "id": "96bbdcae",
   "metadata": {},
   "source": [
    "In the first example, the regex 1.3 matches '123' because the '1' and '3' match literally, and the . matches the '2'. Here, you’re essentially asking, “Does s contain a '1', then any character (except a newline), then a '3'?” The answer is yes for 'foo123bar' but no for 'foo13bar'."
   ]
  },
  {
   "cell_type": "markdown",
   "id": "d7b06063",
   "metadata": {},
   "source": [
    "## Metacharacters Supported by the re Module"
   ]
  },
  {
   "cell_type": "code",
   "execution_count": 15,
   "id": "6d3501a3",
   "metadata": {},
   "outputs": [
    {
     "data": {
      "text/plain": [
       "<re.Match object; span=(3, 6), match='123'>"
      ]
     },
     "execution_count": 15,
     "metadata": {},
     "output_type": "execute_result"
    }
   ],
   "source": [
    "s = 'foo123bar'\n",
    "re.search('123', s)"
   ]
  },
  {
   "cell_type": "markdown",
   "id": "5821a408",
   "metadata": {},
   "source": [
    "In this case, 123 is technically a regex, but it’s not a very interesting one because it doesn’t contain any metacharacters. It just matches the string '123'."
   ]
  },
  {
   "cell_type": "markdown",
   "id": "c02a9993",
   "metadata": {},
   "source": [
    "Things get much more exciting when you throw metacharacters into the mix. The following sections explain in detail how you can use each metacharacter or metacharacter sequence to enhance pattern-matching functionality.\n",
    "\n"
   ]
  },
  {
   "cell_type": "markdown",
   "id": "099024ef",
   "metadata": {},
   "source": [
    "## Metacharacters That Match a Single Character\n",
    "The metacharacter sequences in this section try to match a single character from the search string. When the regex parser encounters one of these metacharacter sequences, a match happens if the character at the current parsing position fits the description that the sequence describes."
   ]
  },
  {
   "cell_type": "markdown",
   "id": "e4831298",
   "metadata": {},
   "source": [
    "`[]`\n",
    "Specifies a specific set of characters to match."
   ]
  },
  {
   "cell_type": "markdown",
   "id": "7e115bfa",
   "metadata": {},
   "source": [
    "Characters contained in square brackets `([])` represent a character class—an enumerated set of characters to match from. A character class metacharacter sequence will match any single character contained in the class."
   ]
  },
  {
   "cell_type": "markdown",
   "id": "165d4cb7",
   "metadata": {},
   "source": [
    "You can enumerate the characters individually like this:"
   ]
  },
  {
   "cell_type": "code",
   "execution_count": 16,
   "id": "bdcd8bed",
   "metadata": {},
   "outputs": [
    {
     "data": {
      "text/plain": [
       "<re.Match object; span=(3, 6), match='bar'>"
      ]
     },
     "execution_count": 16,
     "metadata": {},
     "output_type": "execute_result"
    }
   ],
   "source": [
    "re.search('ba[artz]', 'foobarqux')"
   ]
  },
  {
   "cell_type": "code",
   "execution_count": 17,
   "id": "0d62348b",
   "metadata": {},
   "outputs": [
    {
     "data": {
      "text/plain": [
       "<re.Match object; span=(3, 6), match='baz'>"
      ]
     },
     "execution_count": 17,
     "metadata": {},
     "output_type": "execute_result"
    }
   ],
   "source": [
    "re.search('ba[artz]', 'foobazqux')"
   ]
  },
  {
   "cell_type": "markdown",
   "id": "ca84b499",
   "metadata": {},
   "source": [
    "The metacharacter sequence [artz] matches any single 'a', 'r', 't', or 'z' character. In the example, the regex ba[artz] matches both 'bar' and 'baz' (and would also match 'baa' and 'bat')."
   ]
  },
  {
   "cell_type": "markdown",
   "id": "0a3ed4fa",
   "metadata": {},
   "source": [
    "A character class can also contain a range of characters separated by a hyphen (-), in which case it matches any single character within the range. For example, `[a-z]` matches any lowercase alphabetic character between 'a' and 'z', inclusive:"
   ]
  },
  {
   "cell_type": "code",
   "execution_count": 18,
   "id": "5e46866d",
   "metadata": {},
   "outputs": [
    {
     "data": {
      "text/plain": [
       "<re.Match object; span=(3, 4), match='b'>"
      ]
     },
     "execution_count": 18,
     "metadata": {},
     "output_type": "execute_result"
    }
   ],
   "source": [
    "re.search('[a-z]', 'FOObar')"
   ]
  },
  {
   "cell_type": "markdown",
   "id": "440b6cbf",
   "metadata": {},
   "source": [
    "[0-9] matches any digit character:"
   ]
  },
  {
   "cell_type": "code",
   "execution_count": 19,
   "id": "56edfd95",
   "metadata": {},
   "outputs": [
    {
     "data": {
      "text/plain": [
       "<re.Match object; span=(3, 5), match='12'>"
      ]
     },
     "execution_count": 19,
     "metadata": {},
     "output_type": "execute_result"
    }
   ],
   "source": [
    "re.search('[0-9][0-9]','foo123bar')"
   ]
  },
  {
   "cell_type": "markdown",
   "id": "3a004752",
   "metadata": {},
   "source": [
    "n this case, [0-9][0-9] matches a sequence of two digits. The first portion of the string 'foo123bar' that matches is '12'.\n",
    "\n",
    "<br>[0-9a-fA-F] matches any hexadecimal digit character:"
   ]
  },
  {
   "cell_type": "code",
   "execution_count": 20,
   "id": "97a23e3e",
   "metadata": {},
   "outputs": [
    {
     "data": {
      "text/plain": [
       "<re.Match object; span=(4, 5), match='a'>"
      ]
     },
     "execution_count": 20,
     "metadata": {},
     "output_type": "execute_result"
    }
   ],
   "source": [
    "re.search('[0-9a-fA-F]','--- a0 ---')"
   ]
  },
  {
   "cell_type": "markdown",
   "id": "5add8fe9",
   "metadata": {},
   "source": [
    "Here, [0-9a-fA-F] matches the first hexadecimal digit character in the search string, 'a'."
   ]
  },
  {
   "cell_type": "markdown",
   "id": "9f2c27cf",
   "metadata": {},
   "source": [
    "You can complement a character class by specifying ^ as the first character, in which case it matches any character that isn’t in the set. In the following example, [^0-9] matches any character that isn’t a digit:"
   ]
  },
  {
   "cell_type": "code",
   "execution_count": 21,
   "id": "3804c136",
   "metadata": {},
   "outputs": [
    {
     "data": {
      "text/plain": [
       "<re.Match object; span=(5, 6), match='f'>"
      ]
     },
     "execution_count": 21,
     "metadata": {},
     "output_type": "execute_result"
    }
   ],
   "source": [
    "re.search('[^0-9]', '12345foo')"
   ]
  },
  {
   "cell_type": "markdown",
   "id": "252c4db3",
   "metadata": {},
   "source": [
    "Here, the match object indicates that the first character in the string that isn’t a digit is 'f'.\n",
    "\n",
    "<br>If a `^` character appears in a character class but isn’t the first character, then it has no special meaning and matches a literal `'^'` character:"
   ]
  },
  {
   "cell_type": "code",
   "execution_count": 22,
   "id": "a4efaa83",
   "metadata": {},
   "outputs": [
    {
     "data": {
      "text/plain": [
       "<re.Match object; span=(3, 4), match='^'>"
      ]
     },
     "execution_count": 22,
     "metadata": {},
     "output_type": "execute_result"
    }
   ],
   "source": [
    "re.search('[#:^]','foo^bar:baz#qux')"
   ]
  },
  {
   "cell_type": "markdown",
   "id": "1b4df6b8",
   "metadata": {},
   "source": [
    "As you’ve seen, you can specify a range of characters in a character class by separating characters with a hyphen. What if you want the character class to include a literal hyphen character? You can place it as the first or last character or escape it with a backslash (\\):"
   ]
  },
  {
   "cell_type": "code",
   "execution_count": 23,
   "id": "d2f34fc1",
   "metadata": {},
   "outputs": [
    {
     "data": {
      "text/plain": [
       "<re.Match object; span=(3, 4), match='-'>"
      ]
     },
     "execution_count": 23,
     "metadata": {},
     "output_type": "execute_result"
    }
   ],
   "source": [
    "re.search('[-abc]','123-456')"
   ]
  },
  {
   "cell_type": "code",
   "execution_count": 24,
   "id": "279542eb",
   "metadata": {},
   "outputs": [
    {
     "data": {
      "text/plain": [
       "<re.Match object; span=(3, 4), match='-'>"
      ]
     },
     "execution_count": 24,
     "metadata": {},
     "output_type": "execute_result"
    }
   ],
   "source": [
    "re.search('[abc-]','123-456')"
   ]
  },
  {
   "cell_type": "code",
   "execution_count": 25,
   "id": "67c89b8f",
   "metadata": {},
   "outputs": [
    {
     "data": {
      "text/plain": [
       "<re.Match object; span=(3, 4), match='-'>"
      ]
     },
     "execution_count": 25,
     "metadata": {},
     "output_type": "execute_result"
    }
   ],
   "source": [
    "re.search('[ab\\-c]','123-456')"
   ]
  },
  {
   "cell_type": "markdown",
   "id": "d907f2e1",
   "metadata": {},
   "source": [
    "If you want to include a literal ']' in a character class, then you can place it as the first character or escape it with backslash:"
   ]
  },
  {
   "cell_type": "code",
   "execution_count": 26,
   "id": "4b6143f1",
   "metadata": {},
   "outputs": [
    {
     "data": {
      "text/plain": [
       "<re.Match object; span=(5, 6), match=']'>"
      ]
     },
     "execution_count": 26,
     "metadata": {},
     "output_type": "execute_result"
    }
   ],
   "source": [
    "re.search('[]]', 'foo[1]')"
   ]
  },
  {
   "cell_type": "code",
   "execution_count": 27,
   "id": "a83d281e",
   "metadata": {},
   "outputs": [
    {
     "data": {
      "text/plain": [
       "<re.Match object; span=(5, 6), match=']'>"
      ]
     },
     "execution_count": 27,
     "metadata": {},
     "output_type": "execute_result"
    }
   ],
   "source": [
    "re.search('[ab\\]cd]','foo[1]')"
   ]
  },
  {
   "cell_type": "markdown",
   "id": "1795ac7b",
   "metadata": {},
   "source": [
    "Other regex metacharacters lose their special meaning inside a character class:"
   ]
  },
  {
   "cell_type": "code",
   "execution_count": 28,
   "id": "d8e3e01b",
   "metadata": {},
   "outputs": [
    {
     "data": {
      "text/plain": [
       "<re.Match object; span=(3, 4), match='*'>"
      ]
     },
     "execution_count": 28,
     "metadata": {},
     "output_type": "execute_result"
    }
   ],
   "source": [
    "re.search('[)*+|]', '123*456')"
   ]
  },
  {
   "cell_type": "code",
   "execution_count": 29,
   "id": "36a8c388",
   "metadata": {},
   "outputs": [
    {
     "data": {
      "text/plain": [
       "<re.Match object; span=(3, 4), match='+'>"
      ]
     },
     "execution_count": 29,
     "metadata": {},
     "output_type": "execute_result"
    }
   ],
   "source": [
    "re.search('[)*+|]', '123+456')"
   ]
  },
  {
   "cell_type": "markdown",
   "id": "a55c6961",
   "metadata": {},
   "source": [
    "As you saw in the table above, * and + have special meanings in a regex in Python. They designate repetition, which you’ll learn more about shortly. But in this example, they’re inside a character class, so they match themselves literally."
   ]
  },
  {
   "cell_type": "markdown",
   "id": "38fe4295",
   "metadata": {},
   "source": [
    "### `dot (.)`\n",
    "\n",
    "Specifies a wildcard."
   ]
  },
  {
   "cell_type": "markdown",
   "id": "dc4a773a",
   "metadata": {},
   "source": [
    "The `.` metacharacter matches any single character except a newline:"
   ]
  },
  {
   "cell_type": "code",
   "execution_count": 30,
   "id": "4d1fb729",
   "metadata": {},
   "outputs": [
    {
     "data": {
      "text/plain": [
       "<re.Match object; span=(0, 7), match='fooxbar'>"
      ]
     },
     "execution_count": 30,
     "metadata": {},
     "output_type": "execute_result"
    }
   ],
   "source": [
    "re.search('foo.bar', 'fooxbar')"
   ]
  },
  {
   "cell_type": "code",
   "execution_count": 31,
   "id": "06f98bbb",
   "metadata": {},
   "outputs": [],
   "source": [
    "re.search('foo.bar', 'foobar')"
   ]
  },
  {
   "cell_type": "code",
   "execution_count": 32,
   "id": "feb48027",
   "metadata": {},
   "outputs": [],
   "source": [
    "re.search('foo.bar', 'foo\\nbar')"
   ]
  },
  {
   "cell_type": "markdown",
   "id": "c2f2320c",
   "metadata": {},
   "source": [
    "As a regex, `foo.bar` essentially means the characters `'foo'`, then any character except newline, then the characters 'bar'. The first string shown above, `'fooxbar'`, fits the bill because the . metacharacter matches the 'x'.\n",
    "\n",
    "<br>The second and third strings fail to match. In the last case, although there’s a character between `'foo'` and `'bar'`, it’s a newline, and by default, the . metacharacter doesn’t match a newline. There is, however, a way to force . to match a newline, which you’ll learn about at the end of this tutorial."
   ]
  },
  {
   "cell_type": "markdown",
   "id": "719d3c70",
   "metadata": {},
   "source": [
    "### \\w\n",
    "### \\W\n",
    "\n",
    "Match based on whether a character is a word character.\n"
   ]
  },
  {
   "cell_type": "markdown",
   "id": "2a3c7b2b",
   "metadata": {},
   "source": [
    "`\\w` matches any alphanumeric word character. Word characters are uppercase and lowercase letters, digits, and the underscore `(_)` character, so `\\w` is essentially shorthand for `[a-zA-Z0-9_]`:"
   ]
  },
  {
   "cell_type": "code",
   "execution_count": 33,
   "id": "00339870",
   "metadata": {},
   "outputs": [
    {
     "data": {
      "text/plain": [
       "<re.Match object; span=(3, 4), match='a'>"
      ]
     },
     "execution_count": 33,
     "metadata": {},
     "output_type": "execute_result"
    }
   ],
   "source": [
    "re.search('\\w', '#(.a$@&')"
   ]
  },
  {
   "cell_type": "code",
   "execution_count": 34,
   "id": "74f2b512",
   "metadata": {},
   "outputs": [
    {
     "data": {
      "text/plain": [
       "<re.Match object; span=(3, 4), match='a'>"
      ]
     },
     "execution_count": 34,
     "metadata": {},
     "output_type": "execute_result"
    }
   ],
   "source": [
    " re.search('[a-zA-Z0-9_]', '#(.a$@&')"
   ]
  },
  {
   "cell_type": "markdown",
   "id": "4635d799",
   "metadata": {},
   "source": [
    "In this case, the first word character in the string `'#(.a$@&' is 'a'`.\n",
    "\n",
    "`\\W`is the opposite. It matches any non-word character and is equivalent to `[^a-zA-Z0-9_]`:\n",
    "\n"
   ]
  },
  {
   "cell_type": "code",
   "execution_count": 35,
   "id": "22e8b572",
   "metadata": {},
   "outputs": [
    {
     "data": {
      "text/plain": [
       "<re.Match object; span=(3, 4), match='*'>"
      ]
     },
     "execution_count": 35,
     "metadata": {},
     "output_type": "execute_result"
    }
   ],
   "source": [
    "re.search('\\W', 'a_1*3Qb')"
   ]
  },
  {
   "cell_type": "code",
   "execution_count": 36,
   "id": "17f02fe7",
   "metadata": {},
   "outputs": [
    {
     "data": {
      "text/plain": [
       "<re.Match object; span=(3, 4), match='*'>"
      ]
     },
     "execution_count": 36,
     "metadata": {},
     "output_type": "execute_result"
    }
   ],
   "source": [
    "re.search('[^a-zA-Z0-9_]', 'a_1*3Qb')"
   ]
  },
  {
   "cell_type": "markdown",
   "id": "86ae3fbd",
   "metadata": {},
   "source": [
    "Here, the first non-word character in 'a_1*3!b' is '*'."
   ]
  },
  {
   "cell_type": "markdown",
   "id": "c83779a9",
   "metadata": {},
   "source": [
    "### \\d\n",
    "### \\D\n",
    "\n",
    "Match based on whether a character is a decimal digit."
   ]
  },
  {
   "cell_type": "markdown",
   "id": "3abbb1df",
   "metadata": {},
   "source": [
    "`\\d` matches any decimal digit character. `\\D` is the opposite. It matches any character that isn’t a decimal digit:"
   ]
  },
  {
   "cell_type": "code",
   "execution_count": 37,
   "id": "7089a2aa",
   "metadata": {},
   "outputs": [
    {
     "data": {
      "text/plain": [
       "<re.Match object; span=(3, 4), match='4'>"
      ]
     },
     "execution_count": 37,
     "metadata": {},
     "output_type": "execute_result"
    }
   ],
   "source": [
    "re.search('\\d','abc4def')"
   ]
  },
  {
   "cell_type": "code",
   "execution_count": 38,
   "id": "c92b10b5",
   "metadata": {},
   "outputs": [
    {
     "data": {
      "text/plain": [
       "<re.Match object; span=(3, 4), match='Q'>"
      ]
     },
     "execution_count": 38,
     "metadata": {},
     "output_type": "execute_result"
    }
   ],
   "source": [
    "re.search('\\D','234Q678')"
   ]
  },
  {
   "cell_type": "markdown",
   "id": "5acab335",
   "metadata": {},
   "source": [
    "`\\d` is essentially equivalent to `[0-9]`, and `\\D` is equivalent to `[^0-9]`."
   ]
  },
  {
   "cell_type": "code",
   "execution_count": 39,
   "id": "39859c40",
   "metadata": {},
   "outputs": [
    {
     "data": {
      "text/plain": [
       "<re.Match object; span=(3, 4), match='Q'>"
      ]
     },
     "execution_count": 39,
     "metadata": {},
     "output_type": "execute_result"
    }
   ],
   "source": [
    "re.search('[^0-9]','234Q678')"
   ]
  },
  {
   "cell_type": "markdown",
   "id": "66dd884b",
   "metadata": {},
   "source": [
    "### \\s white space \n",
    "### \\S opposit of white space\n",
    "\n",
    "Match based on whether a character represents whitespace."
   ]
  },
  {
   "cell_type": "markdown",
   "id": "3c358f70",
   "metadata": {},
   "source": [
    "`\\s` matches any `whitespace` character:"
   ]
  },
  {
   "cell_type": "code",
   "execution_count": 40,
   "id": "1f10c8f3",
   "metadata": {},
   "outputs": [
    {
     "data": {
      "text/plain": [
       "<re.Match object; span=(3, 4), match='\\n'>"
      ]
     },
     "execution_count": 40,
     "metadata": {},
     "output_type": "execute_result"
    }
   ],
   "source": [
    "re.search('\\s', 'foo\\nbar baz')"
   ]
  },
  {
   "cell_type": "markdown",
   "id": "784e0bbd",
   "metadata": {},
   "source": [
    "Note that, unlike the dot wildcard metacharacter, `\\s` does match a newline character."
   ]
  },
  {
   "cell_type": "markdown",
   "id": "fe7695a6",
   "metadata": {},
   "source": [
    "`\\S` is the `opposite` of `\\s`. It matches any character that `isn’t whitespace`:"
   ]
  },
  {
   "cell_type": "code",
   "execution_count": 41,
   "id": "cdf8da03",
   "metadata": {},
   "outputs": [
    {
     "data": {
      "text/plain": [
       "<re.Match object; span=(4, 5), match='f'>"
      ]
     },
     "execution_count": 41,
     "metadata": {},
     "output_type": "execute_result"
    }
   ],
   "source": [
    "re.search('\\S', '  \\n foo  \\n  ')"
   ]
  },
  {
   "cell_type": "markdown",
   "id": "c22c50de",
   "metadata": {},
   "source": [
    "Again, \\s and \\S consider a newline to be whitespace. In the example above, the first non-whitespace character is 'f'"
   ]
  },
  {
   "cell_type": "markdown",
   "id": "9f4451f2",
   "metadata": {},
   "source": [
    "The character class sequences \\w, \\W, \\d, \\D, \\s, and \\S can appear inside a square bracket character class as well:"
   ]
  },
  {
   "cell_type": "code",
   "execution_count": 42,
   "id": "6632a39b",
   "metadata": {},
   "outputs": [
    {
     "data": {
      "text/plain": [
       "<re.Match object; span=(3, 4), match='3'>"
      ]
     },
     "execution_count": 42,
     "metadata": {},
     "output_type": "execute_result"
    }
   ],
   "source": [
    "re.search('[\\d\\w\\s]','---3---')"
   ]
  },
  {
   "cell_type": "code",
   "execution_count": 43,
   "id": "a20f22cb",
   "metadata": {},
   "outputs": [
    {
     "data": {
      "text/plain": [
       "<re.Match object; span=(3, 4), match='a'>"
      ]
     },
     "execution_count": 43,
     "metadata": {},
     "output_type": "execute_result"
    }
   ],
   "source": [
    "re.search('[\\d\\w\\s]', '---a---')"
   ]
  },
  {
   "cell_type": "code",
   "execution_count": 44,
   "id": "447d474e",
   "metadata": {},
   "outputs": [
    {
     "data": {
      "text/plain": [
       "<re.Match object; span=(3, 4), match=' '>"
      ]
     },
     "execution_count": 44,
     "metadata": {},
     "output_type": "execute_result"
    }
   ],
   "source": [
    "re.search('[\\d\\w\\s]', '--- ---')"
   ]
  },
  {
   "cell_type": "markdown",
   "id": "d44f2779",
   "metadata": {},
   "source": [
    "In this case, `[\\d\\w\\s]` matches any digit, word, or whitespace character. And since \\w includes \\d, the same character class could also be expressed slightly shorter as `[\\w\\s]`."
   ]
  },
  {
   "cell_type": "markdown",
   "id": "d30d2540",
   "metadata": {},
   "source": [
    "### Escaping Metacharacters\n",
    "Occasionally, you’ll want to include a metacharacter in your regex, except you won’t want it to carry its special meaning. Instead, you’ll want it to represent itself as a literal character."
   ]
  },
  {
   "cell_type": "markdown",
   "id": "d70e046a",
   "metadata": {},
   "source": [
    "## backslash (`\\`)\n",
    "\n",
    "Removes the special meaning of a metacharacter."
   ]
  },
  {
   "cell_type": "markdown",
   "id": "c3fe3d8c",
   "metadata": {},
   "source": [
    "As you’ve just seen, the backslash character can introduce special character classes like word, digit, and whitespace. There are also special metacharacter sequences called **anchors** that begin with a backslash, which you’ll learn about below."
   ]
  },
  {
   "cell_type": "markdown",
   "id": "0c95801c",
   "metadata": {},
   "source": [
    "When it’s not serving either of these purposes, the backslash **escapes** metacharacters. A metacharacter preceded by a backslash loses its special meaning and matches the literal character instead. Consider the following examples:"
   ]
  },
  {
   "cell_type": "code",
   "execution_count": 45,
   "id": "61613d00",
   "metadata": {},
   "outputs": [
    {
     "data": {
      "text/plain": [
       "<re.Match object; span=(0, 1), match='f'>"
      ]
     },
     "execution_count": 45,
     "metadata": {},
     "output_type": "execute_result"
    }
   ],
   "source": [
    "re.search('.', 'foo.bar')\n",
    "# not matches `.` in string"
   ]
  },
  {
   "cell_type": "code",
   "execution_count": 46,
   "id": "b77b1836",
   "metadata": {},
   "outputs": [
    {
     "data": {
      "text/plain": [
       "<re.Match object; span=(3, 4), match='.'>"
      ]
     },
     "execution_count": 46,
     "metadata": {},
     "output_type": "execute_result"
    }
   ],
   "source": [
    "re.search('\\.', 'foo.bar')\n",
    "# after giving `\\' before `.`it detects the `.`"
   ]
  },
  {
   "cell_type": "markdown",
   "id": "6ee611c2",
   "metadata": {},
   "source": [
    "In the `<regex>` on **line 1**, the dot (`.`) functions as a wildcard metacharacter, which matches the first character in the string (`'f'`). The . character in the `<regex>` on **line 4** is escaped by a backslash, so it isn’t a wildcard. It’s interpreted literally and matches the `'.'` at index 3 of the search string."
   ]
  },
  {
   "cell_type": "markdown",
   "id": "d6e68741",
   "metadata": {},
   "source": [
    "Using backslashes for escaping can get messy. Suppose you have a string that contains a single backslash:"
   ]
  },
  {
   "cell_type": "code",
   "execution_count": 47,
   "id": "f22c2764",
   "metadata": {},
   "outputs": [],
   "source": [
    "s = r'foo\\bar'"
   ]
  },
  {
   "cell_type": "code",
   "execution_count": 48,
   "id": "5995cdb4",
   "metadata": {},
   "outputs": [
    {
     "name": "stdout",
     "output_type": "stream",
     "text": [
      "foo\\bar\n"
     ]
    }
   ],
   "source": [
    "print(s)"
   ]
  },
  {
   "cell_type": "markdown",
   "id": "291bb8e7",
   "metadata": {},
   "source": [
    "Now suppose you want to create a `<regex>` that will match the backslash between `'foo'` and `'bar'`. The backslash is itself a special character in a regex, so to specify a literal backslash, you need to escape it with another backslash. If that’s that case, then the following should work:"
   ]
  },
  {
   "cell_type": "code",
   "execution_count": 49,
   "id": "38183eb8",
   "metadata": {},
   "outputs": [],
   "source": [
    "# re.search('\\\\', s)"
   ]
  },
  {
   "cell_type": "markdown",
   "id": "90e19f77",
   "metadata": {},
   "source": [
    "### error\n",
    "The problem here is that the backslash escaping happens twice, first by the Python interpreter on the string literal and then again by the regex parser on the regex it receives."
   ]
  },
  {
   "cell_type": "markdown",
   "id": "a6c376bb",
   "metadata": {},
   "source": [
    "Here’s the sequence of events:\n",
    "\n",
    "1. The Python interpreter is the first to process the string literal '\\\\'. It interprets that as an escaped backslash and passes only a single backslash to re.search().\n",
    "2. The regex parser receives just a single backslash, which isn’t a meaningful regex, so the messy error ensues.\n",
    "\n",
    "<br>There are two ways around this. First, you can escape both backslashes in the original string literal:"
   ]
  },
  {
   "cell_type": "code",
   "execution_count": 50,
   "id": "a1c1c166",
   "metadata": {},
   "outputs": [
    {
     "data": {
      "text/plain": [
       "<re.Match object; span=(3, 4), match='\\\\'>"
      ]
     },
     "execution_count": 50,
     "metadata": {},
     "output_type": "execute_result"
    }
   ],
   "source": [
    "re.search('\\\\\\\\', s)"
   ]
  },
  {
   "cell_type": "markdown",
   "id": "4bb5d64c",
   "metadata": {},
   "source": [
    "Doing so causes the following to happen:\n",
    "\n",
    "1. The interpreter sees `'\\\\\\\\'` as a pair of escaped backslashes. It reduces each pair to a single backslash and passes `'\\\\'` to the regex parser.\n",
    "2. The regex parser then sees `\\\\` as one escaped backslash. As a `<regex>`, that matches a single backslash character. You can see from the match object that it matched the backslash at index 3 in s as intended. It’s cumbersome, but it works."
   ]
  },
  {
   "cell_type": "markdown",
   "id": "31b099dd",
   "metadata": {},
   "source": [
    "The second, and probably cleaner, way to handle this is to specify the <regex> using a raw string: `r`"
   ]
  },
  {
   "cell_type": "code",
   "execution_count": 51,
   "id": "f226b071",
   "metadata": {},
   "outputs": [
    {
     "data": {
      "text/plain": [
       "<re.Match object; span=(3, 4), match='\\\\'>"
      ]
     },
     "execution_count": 51,
     "metadata": {},
     "output_type": "execute_result"
    }
   ],
   "source": [
    "re.search(r'\\\\', s)"
   ]
  },
  {
   "cell_type": "markdown",
   "id": "dd73331d",
   "metadata": {},
   "source": [
    "This suppresses the escaping at the interpreter level. The string '\\\\' gets passed unchanged to the regex parser, which again sees one escaped backslash as desired.\n",
    "\n",
    "<br>It’s good practice to use a raw string to specify a regex in Python whenever it contains backslashes."
   ]
  },
  {
   "cell_type": "markdown",
   "id": "60d10626",
   "metadata": {},
   "source": [
    "## Anchors\n",
    "Anchors are zero-width matches. They don’t match any actual characters in the search string, and they don’t consume any of the search string during parsing. Instead, an anchor dictates a particular location in the search string where a match must occur."
   ]
  },
  {
   "cell_type": "markdown",
   "id": "0c6ad55f",
   "metadata": {},
   "source": [
    "### `^`\n",
    "### `\\A`\n",
    "\n",
    "Anchor a match to the start of `<string>`."
   ]
  },
  {
   "cell_type": "markdown",
   "id": "5aa2cf2c",
   "metadata": {},
   "source": [
    "When the regex parser encounters ^ or \\A, the parser’s current position must be at the beginning of the search string for it to find a match."
   ]
  },
  {
   "cell_type": "markdown",
   "id": "cd80e8f9",
   "metadata": {},
   "source": [
    "In other words, regex ^foo stipulates that 'foo' must be present not just any old place in the search string, but at the beginning:"
   ]
  },
  {
   "cell_type": "code",
   "execution_count": 52,
   "id": "9ccf9099",
   "metadata": {},
   "outputs": [
    {
     "data": {
      "text/plain": [
       "<re.Match object; span=(0, 3), match='foo'>"
      ]
     },
     "execution_count": 52,
     "metadata": {},
     "output_type": "execute_result"
    }
   ],
   "source": [
    "re.search('^foo', 'foobar')"
   ]
  },
  {
   "cell_type": "code",
   "execution_count": 53,
   "id": "4114d7b3",
   "metadata": {},
   "outputs": [
    {
     "name": "stdout",
     "output_type": "stream",
     "text": [
      "None\n"
     ]
    }
   ],
   "source": [
    "print(re.search('^foo', 'barfoo'))"
   ]
  },
  {
   "cell_type": "markdown",
   "id": "0ab7c2d2",
   "metadata": {},
   "source": [
    "`\\A`functions similarly:"
   ]
  },
  {
   "cell_type": "code",
   "execution_count": 54,
   "id": "04f15128",
   "metadata": {},
   "outputs": [
    {
     "data": {
      "text/plain": [
       "<re.Match object; span=(0, 3), match='foo'>"
      ]
     },
     "execution_count": 54,
     "metadata": {},
     "output_type": "execute_result"
    }
   ],
   "source": [
    "re.search('\\Afoo', 'foobar')"
   ]
  },
  {
   "cell_type": "code",
   "execution_count": 55,
   "id": "4cfa1bf4",
   "metadata": {},
   "outputs": [
    {
     "name": "stdout",
     "output_type": "stream",
     "text": [
      "None\n"
     ]
    }
   ],
   "source": [
    "print(re.search('\\Afoo', 'barfoo'))"
   ]
  },
  {
   "cell_type": "markdown",
   "id": "c59bef41",
   "metadata": {},
   "source": [
    "`^` and `\\A` behave slightly differently from each other in MULTILINE mode. You’ll learn more about MULTILINE mode below in the section on flags."
   ]
  },
  {
   "cell_type": "markdown",
   "id": "c76a15fb",
   "metadata": {},
   "source": [
    "###  `$`\n",
    "### `\\Z`\n",
    "\n",
    "Anchor a match to the end of `<string>`."
   ]
  },
  {
   "cell_type": "markdown",
   "id": "31f12358",
   "metadata": {},
   "source": [
    "When the regex parser encounters `$` or `\\Z`, the parser’s current position must be at the end of the search string for it to find a match. Whatever precedes `$` or `\\Z` must constitute the end of the search string:"
   ]
  },
  {
   "cell_type": "code",
   "execution_count": 56,
   "id": "47cc440e",
   "metadata": {},
   "outputs": [
    {
     "data": {
      "text/plain": [
       "<re.Match object; span=(3, 6), match='bar'>"
      ]
     },
     "execution_count": 56,
     "metadata": {},
     "output_type": "execute_result"
    }
   ],
   "source": [
    "re.search('bar$', 'foobar')"
   ]
  },
  {
   "cell_type": "code",
   "execution_count": 57,
   "id": "e3cb1826",
   "metadata": {},
   "outputs": [
    {
     "name": "stdout",
     "output_type": "stream",
     "text": [
      "None\n"
     ]
    }
   ],
   "source": [
    "print(re.search('bar$', 'barfoo'))"
   ]
  },
  {
   "cell_type": "code",
   "execution_count": 58,
   "id": "f7805288",
   "metadata": {},
   "outputs": [
    {
     "data": {
      "text/plain": [
       "<re.Match object; span=(3, 6), match='bar'>"
      ]
     },
     "execution_count": 58,
     "metadata": {},
     "output_type": "execute_result"
    }
   ],
   "source": [
    "re.search('bar\\Z', 'foobar')"
   ]
  },
  {
   "cell_type": "markdown",
   "id": "df5f37d5",
   "metadata": {},
   "source": [
    "As a special case, `$` (but not `\\Z`) also matches just before a single newline at the end of the search string:"
   ]
  },
  {
   "cell_type": "code",
   "execution_count": 59,
   "id": "adb4f14e",
   "metadata": {},
   "outputs": [
    {
     "data": {
      "text/plain": [
       "<re.Match object; span=(3, 6), match='bar'>"
      ]
     },
     "execution_count": 59,
     "metadata": {},
     "output_type": "execute_result"
    }
   ],
   "source": [
    "re.search('bar$', 'foobar\\n')"
   ]
  },
  {
   "cell_type": "markdown",
   "id": "0131b527",
   "metadata": {},
   "source": [
    "In this example, `'bar'` isn’t technically at the end of the search string because it’s followed by one additional newline character. But the regex parser lets it slide and calls it a match anyway. This exception doesn’t apply to `\\Z`."
   ]
  },
  {
   "cell_type": "markdown",
   "id": "9649c2ad",
   "metadata": {},
   "source": [
    "`$` and `\\Z` behave slightly differently from each other in MULTILINE mode. See the section below on flags for more information on MULTILINE mode."
   ]
  },
  {
   "cell_type": "markdown",
   "id": "63e343ad",
   "metadata": {},
   "source": [
    "### `\\b`\n",
    "\n",
    "Anchors a match to a word boundary."
   ]
  },
  {
   "cell_type": "markdown",
   "id": "b2ffca33",
   "metadata": {},
   "source": [
    "`\\b` asserts that the regex parser’s current position must be at the beginning or end of a word. A word consists of a sequence of alphanumeric characters or underscores `([a-zA-Z0-9_])`, the same as for the `\\w` character class:"
   ]
  },
  {
   "cell_type": "code",
   "execution_count": 60,
   "id": "36e1e396",
   "metadata": {},
   "outputs": [
    {
     "data": {
      "text/plain": [
       "<re.Match object; span=(4, 7), match='bar'>"
      ]
     },
     "execution_count": 60,
     "metadata": {},
     "output_type": "execute_result"
    }
   ],
   "source": [
    "re.search(r'\\bbar', 'foo bar')"
   ]
  },
  {
   "cell_type": "code",
   "execution_count": 61,
   "id": "bbc1448f",
   "metadata": {},
   "outputs": [
    {
     "data": {
      "text/plain": [
       "<re.Match object; span=(4, 7), match='bar'>"
      ]
     },
     "execution_count": 61,
     "metadata": {},
     "output_type": "execute_result"
    }
   ],
   "source": [
    "re.search(r'\\bbar', 'foo.bar')"
   ]
  },
  {
   "cell_type": "code",
   "execution_count": 62,
   "id": "c875842d",
   "metadata": {},
   "outputs": [
    {
     "name": "stdout",
     "output_type": "stream",
     "text": [
      "None\n"
     ]
    }
   ],
   "source": [
    "print(re.search(r'\\bbar', 'foobar'))"
   ]
  },
  {
   "cell_type": "code",
   "execution_count": 63,
   "id": "038a9cbf",
   "metadata": {},
   "outputs": [
    {
     "data": {
      "text/plain": [
       "<re.Match object; span=(0, 3), match='foo'>"
      ]
     },
     "execution_count": 63,
     "metadata": {},
     "output_type": "execute_result"
    }
   ],
   "source": [
    "re.search(r'foo\\b', 'foo.bar')"
   ]
  },
  {
   "cell_type": "code",
   "execution_count": 64,
   "id": "9eca8f23",
   "metadata": {},
   "outputs": [
    {
     "name": "stdout",
     "output_type": "stream",
     "text": [
      "None\n"
     ]
    }
   ],
   "source": [
    "print(re.search(r'foo\\b', 'foobar'))"
   ]
  },
  {
   "cell_type": "markdown",
   "id": "dd851c0f",
   "metadata": {},
   "source": [
    "In the above examples, a match happens on `lines 1` and `3` because there’s a word boundary at the start of `'bar'`. This isn’t the case on `line 6`, so the match fails there."
   ]
  },
  {
   "cell_type": "markdown",
   "id": "f914e3cc",
   "metadata": {},
   "source": [
    "Similarly, there are matches on `lines 9` and `11` because a word boundary exists at the end of `'foo'`, but not on `line 14`."
   ]
  },
  {
   "cell_type": "markdown",
   "id": "3c235ae2",
   "metadata": {},
   "source": [
    "Using the `\\b` anchor on both ends of the `<regex>` will cause it to match when it’s present in the search string as a whole word:"
   ]
  },
  {
   "cell_type": "code",
   "execution_count": 65,
   "id": "3f22018b",
   "metadata": {},
   "outputs": [
    {
     "data": {
      "text/plain": [
       "<re.Match object; span=(4, 7), match='bar'>"
      ]
     },
     "execution_count": 65,
     "metadata": {},
     "output_type": "execute_result"
    }
   ],
   "source": [
    "re.search(r'\\bbar\\b', 'foo bar baz')"
   ]
  },
  {
   "cell_type": "code",
   "execution_count": 66,
   "id": "8d65bba3",
   "metadata": {},
   "outputs": [
    {
     "data": {
      "text/plain": [
       "<re.Match object; span=(4, 7), match='bar'>"
      ]
     },
     "execution_count": 66,
     "metadata": {},
     "output_type": "execute_result"
    }
   ],
   "source": [
    "re.search(r'\\bbar\\b', 'foo(bar)baz')"
   ]
  },
  {
   "cell_type": "code",
   "execution_count": 67,
   "id": "e4d6c7bf",
   "metadata": {},
   "outputs": [
    {
     "name": "stdout",
     "output_type": "stream",
     "text": [
      "None\n"
     ]
    }
   ],
   "source": [
    "print(re.search(r'\\bbar\\b', 'foobarbaz'))"
   ]
  },
  {
   "cell_type": "markdown",
   "id": "30970d2e",
   "metadata": {},
   "source": [
    "## Quantifiers"
   ]
  },
  {
   "cell_type": "markdown",
   "id": "65d3e84f",
   "metadata": {},
   "source": [
    "A **quantifier** metacharacter immediately follows a portion of a `<regex>` and indicates how many times that portion must occur for the match to succeed."
   ]
  },
  {
   "cell_type": "markdown",
   "id": "2be66df9",
   "metadata": {},
   "source": [
    "## *\n",
    "\n",
    "Matches zero or more repetitions of the preceding regex."
   ]
  },
  {
   "cell_type": "markdown",
   "id": "30358fcf",
   "metadata": {},
   "source": [
    "For example, `a*` matches zero or more `'a'` characters. That means it would match an empty string, `'a'`, `'aa'`, `'aaa'`, and so on."
   ]
  },
  {
   "cell_type": "markdown",
   "id": "9e921e14",
   "metadata": {},
   "source": [
    "Consider these examples:"
   ]
  },
  {
   "cell_type": "code",
   "execution_count": 68,
   "id": "72aaa243",
   "metadata": {},
   "outputs": [
    {
     "data": {
      "text/plain": [
       "<re.Match object; span=(0, 6), match='foobar'>"
      ]
     },
     "execution_count": 68,
     "metadata": {},
     "output_type": "execute_result"
    }
   ],
   "source": [
    "re.search('foo-*bar', 'foobar')     # Zero dashes\n",
    "# *min 0"
   ]
  },
  {
   "cell_type": "code",
   "execution_count": 69,
   "id": "3ed3b717",
   "metadata": {},
   "outputs": [
    {
     "data": {
      "text/plain": [
       "<re.Match object; span=(0, 7), match='foo-bar'>"
      ]
     },
     "execution_count": 69,
     "metadata": {},
     "output_type": "execute_result"
    }
   ],
   "source": [
    "re.search('foo-*bar', 'foo-bar')       # One dash"
   ]
  },
  {
   "cell_type": "code",
   "execution_count": 70,
   "id": "7e16673c",
   "metadata": {},
   "outputs": [
    {
     "data": {
      "text/plain": [
       "<re.Match object; span=(0, 8), match='foo--bar'>"
      ]
     },
     "execution_count": 70,
     "metadata": {},
     "output_type": "execute_result"
    }
   ],
   "source": [
    "re.search('foo-*bar', 'foo--bar')        # Two dashes"
   ]
  },
  {
   "cell_type": "markdown",
   "id": "a974f83a",
   "metadata": {},
   "source": [
    "On **line 1**, there are zero `'-'` characters between `'foo'` and `'bar'`. On **line 3** there’s one, and on **line 5** there are two. The metacharacter sequence `-*` matches in all three cases."
   ]
  },
  {
   "cell_type": "code",
   "execution_count": 71,
   "id": "56017730",
   "metadata": {},
   "outputs": [
    {
     "data": {
      "text/plain": [
       "<re.Match object; span=(0, 12), match='foo------bar'>"
      ]
     },
     "execution_count": 71,
     "metadata": {},
     "output_type": "execute_result"
    }
   ],
   "source": [
    "re.search('foo-*bar', 'foo------bar')   # * (zero or more occurrences)"
   ]
  },
  {
   "cell_type": "markdown",
   "id": "555de3ca",
   "metadata": {},
   "source": [
    "You’ll probably encounter the regex `.*` in a Python program at some point. `This matches zero or more occurrences of any character`. In other words, it essentially matches `any character sequence up` to a line break. (Remember that the . wildcard metacharacter doesn’t match a newline.)"
   ]
  },
  {
   "cell_type": "markdown",
   "id": "79b38527",
   "metadata": {},
   "source": [
    "In this example, `.*` matches everything between `'foo'` and `'bar'`:"
   ]
  },
  {
   "cell_type": "code",
   "execution_count": 72,
   "id": "efa5d3a9",
   "metadata": {},
   "outputs": [
    {
     "data": {
      "text/plain": [
       "<re.Match object; span=(2, 23), match='foo $qux@grault % bar'>"
      ]
     },
     "execution_count": 72,
     "metadata": {},
     "output_type": "execute_result"
    }
   ],
   "source": [
    "re.search('foo.*bar', '# foo $qux@grault % bar #')\n",
    "# it matches all metacharacters\n"
   ]
  },
  {
   "cell_type": "markdown",
   "id": "3d435a56",
   "metadata": {},
   "source": [
    "Did you notice the `span=` and `match=` information contained in the match object?"
   ]
  },
  {
   "cell_type": "markdown",
   "id": "b4b2a4b5",
   "metadata": {},
   "source": [
    "Until now, the regexes in the examples you’ve seen have specified matches of predictable length. Once you start using quantifiers like `*`, the number of characters matched can be quite variable, and the information in the match object becomes more useful."
   ]
  },
  {
   "cell_type": "markdown",
   "id": "c5531645",
   "metadata": {},
   "source": [
    "You’ll learn more about how to access the information stored in a match object in the next tutorial in the series."
   ]
  },
  {
   "cell_type": "markdown",
   "id": "5e4f713a",
   "metadata": {},
   "source": [
    "### `+`\n",
    "\n",
    "Matches one or more repetitions of the preceding regex."
   ]
  },
  {
   "cell_type": "markdown",
   "id": "4fb6e713",
   "metadata": {},
   "source": [
    "This is similar to `*`, but the quantified regex must occur at least once:"
   ]
  },
  {
   "cell_type": "code",
   "execution_count": 73,
   "id": "89c91076",
   "metadata": {},
   "outputs": [
    {
     "name": "stdout",
     "output_type": "stream",
     "text": [
      "None\n"
     ]
    }
   ],
   "source": [
    "print(re.search('foo-+bar', 'foobar'))              # Zero dashes\n",
    "\n",
    "# at least one occurrence of `-` "
   ]
  },
  {
   "cell_type": "code",
   "execution_count": 74,
   "id": "5010abf3",
   "metadata": {},
   "outputs": [
    {
     "data": {
      "text/plain": [
       "<re.Match object; span=(0, 7), match='foo-bar'>"
      ]
     },
     "execution_count": 74,
     "metadata": {},
     "output_type": "execute_result"
    }
   ],
   "source": [
    "re.search('foo-+bar', 'foo-bar')                    # One dash"
   ]
  },
  {
   "cell_type": "code",
   "execution_count": 75,
   "id": "f2f03b0a",
   "metadata": {},
   "outputs": [
    {
     "data": {
      "text/plain": [
       "<re.Match object; span=(0, 8), match='foo--bar'>"
      ]
     },
     "execution_count": 75,
     "metadata": {},
     "output_type": "execute_result"
    }
   ],
   "source": [
    "re.search('foo-+bar', 'foo--bar')                    # Two dashes"
   ]
  },
  {
   "cell_type": "markdown",
   "id": "75f524df",
   "metadata": {},
   "source": [
    "Remember from above that foo`-*`bar matched the string 'foobar' because the `*` metacharacter allows for zero occurrences of `'-'`. The + metacharacter, on the other hand, requires at least one occurrence of `'-'`. That means there isn’t a match on **line 1** in this case."
   ]
  },
  {
   "cell_type": "markdown",
   "id": "29d1e048",
   "metadata": {},
   "source": [
    "## `?`\n",
    "\n",
    "Matches zero or one repetitions of the preceding regex."
   ]
  },
  {
   "cell_type": "markdown",
   "id": "301466cd",
   "metadata": {},
   "source": [
    "`?` is also similar to `*` and `+`, but in this case there’s only a match if the preceding regex occurs once or not at all:"
   ]
  },
  {
   "cell_type": "code",
   "execution_count": 76,
   "id": "2eb20fb0",
   "metadata": {},
   "outputs": [
    {
     "data": {
      "text/plain": [
       "<re.Match object; span=(0, 6), match='foobar'>"
      ]
     },
     "execution_count": 76,
     "metadata": {},
     "output_type": "execute_result"
    }
   ],
   "source": [
    "re.search('foo-?bar', 'foobar') # Zero \n",
    "\n",
    "#?optional"
   ]
  },
  {
   "cell_type": "code",
   "execution_count": 77,
   "id": "2e509fca",
   "metadata": {},
   "outputs": [
    {
     "data": {
      "text/plain": [
       "<re.Match object; span=(0, 7), match='foo-bar'>"
      ]
     },
     "execution_count": 77,
     "metadata": {},
     "output_type": "execute_result"
    }
   ],
   "source": [
    "re.search('foo-?bar', 'foo-bar')            # One dash"
   ]
  },
  {
   "cell_type": "code",
   "execution_count": 78,
   "id": "e6121827",
   "metadata": {},
   "outputs": [
    {
     "name": "stdout",
     "output_type": "stream",
     "text": [
      "None\n"
     ]
    }
   ],
   "source": [
    "print(re.search('foo-?bar', 'foo--bar'))     # Two dashes\n",
    "# match fail because of to `--` are present"
   ]
  },
  {
   "cell_type": "markdown",
   "id": "467328df",
   "metadata": {},
   "source": [
    "In this example, there are matches on **lines 1** and **3**. But on **line 5**, where there are `two '-' characters`, the `match fails`."
   ]
  },
  {
   "cell_type": "code",
   "execution_count": 79,
   "id": "1668a2e6",
   "metadata": {},
   "outputs": [
    {
     "name": "stdout",
     "output_type": "stream",
     "text": [
      "<re.Match object; span=(0, 8), match='foo--bar'>\n"
     ]
    }
   ],
   "source": [
    "print(re.search('foo--?bar', 'foo--bar')) "
   ]
  },
  {
   "cell_type": "code",
   "execution_count": 80,
   "id": "767ff676",
   "metadata": {},
   "outputs": [
    {
     "name": "stdout",
     "output_type": "stream",
     "text": [
      "<re.Match object; span=(0, 8), match='foo--bar'>\n"
     ]
    }
   ],
   "source": [
    "print(re.search('foo---?bar', 'foo--bar')) "
   ]
  },
  {
   "cell_type": "code",
   "execution_count": 81,
   "id": "83329e7e",
   "metadata": {},
   "outputs": [
    {
     "name": "stdout",
     "output_type": "stream",
     "text": [
      "None\n"
     ]
    }
   ],
   "source": [
    "print(re.search('foo--?bar', 'foo---bar')) \n",
    "# maximum limit exceeded"
   ]
  },
  {
   "cell_type": "markdown",
   "id": "04c0bd86",
   "metadata": {},
   "source": [
    "Here are some more `examples` showing the use of `all three quantifier metacharacters`:"
   ]
  },
  {
   "cell_type": "code",
   "execution_count": 82,
   "id": "76ae7c60",
   "metadata": {},
   "outputs": [
    {
     "data": {
      "text/plain": [
       "<re.Match object; span=(0, 6), match='foobar'>"
      ]
     },
     "execution_count": 82,
     "metadata": {},
     "output_type": "execute_result"
    }
   ],
   "source": [
    "re.match('foo[1-9]*bar', 'foobar')\n",
    "\n",
    "# it can contains foo , [0-9]*, bar\n",
    "# [0-9]* means 0 or more occurance of digits\n",
    "# [0-9]+ means at least 1 or more of digits\n",
    "#[0-9]? means 0 or up to 1 of digit"
   ]
  },
  {
   "cell_type": "code",
   "execution_count": 83,
   "id": "674c4464",
   "metadata": {},
   "outputs": [
    {
     "data": {
      "text/plain": [
       "<re.Match object; span=(0, 8), match='foo42bar'>"
      ]
     },
     "execution_count": 83,
     "metadata": {},
     "output_type": "execute_result"
    }
   ],
   "source": [
    "re.match('foo[1-9]*bar', 'foo42bar')\n",
    "\n",
    "# * 0 or more occureance of digits"
   ]
  },
  {
   "cell_type": "code",
   "execution_count": 84,
   "id": "42429e80",
   "metadata": {},
   "outputs": [
    {
     "name": "stdout",
     "output_type": "stream",
     "text": [
      "None\n"
     ]
    }
   ],
   "source": [
    "print(re.match('foo[1-9]+bar', 'foobar'))\n",
    "\n",
    "#[1-9]+ means at least 1 or more time occurance of digits   \n",
    "#note- it is showing none because that string does not contain any digit"
   ]
  },
  {
   "cell_type": "code",
   "execution_count": 85,
   "id": "c0ab971f",
   "metadata": {},
   "outputs": [
    {
     "data": {
      "text/plain": [
       "<re.Match object; span=(0, 8), match='foo42bar'>"
      ]
     },
     "execution_count": 85,
     "metadata": {},
     "output_type": "execute_result"
    }
   ],
   "source": [
    "re.match('foo[1-9]+bar', 'foo42bar')\n",
    "#[1-9]+ means at least 1 or more time occurance of digits   \n",
    "#note-  string contains more than one 1 digits"
   ]
  },
  {
   "cell_type": "code",
   "execution_count": 86,
   "id": "3cfe4113",
   "metadata": {},
   "outputs": [
    {
     "data": {
      "text/plain": [
       "<re.Match object; span=(0, 6), match='foobar'>"
      ]
     },
     "execution_count": 86,
     "metadata": {},
     "output_type": "execute_result"
    }
   ],
   "source": [
    "re.match('foo[1-9]?bar', 'foobar')\n",
    "#[1-9]? for this serach required 0 or max one digit \n"
   ]
  },
  {
   "cell_type": "code",
   "execution_count": 87,
   "id": "ebcaf2f2",
   "metadata": {},
   "outputs": [
    {
     "name": "stdout",
     "output_type": "stream",
     "text": [
      "None\n"
     ]
    }
   ],
   "source": [
    "print(re.match('foo[1-9]?bar', 'foo42bar'))\n",
    "#[1-9]? for this serach required 0 or max one digit \n",
    "# note - shows none because condition not satiesfied (more than 1 degits are present)"
   ]
  },
  {
   "cell_type": "markdown",
   "id": "79ab5e55",
   "metadata": {},
   "source": [
    "This time, the quantified regex is the character class `[1-9]` instead of the simple character `'-'`."
   ]
  },
  {
   "cell_type": "markdown",
   "id": "e74974ac",
   "metadata": {},
   "source": [
    "### *?\n",
    "### +?\n",
    "### ??\n",
    "\n",
    "The non-greedy (or lazy) versions of the `*`, `+`, and `?` quantifiers."
   ]
  },
  {
   "cell_type": "markdown",
   "id": "353a3158",
   "metadata": {},
   "source": [
    "When used alone, the quantifier metacharacters *, +, and ? are `all greedy`, meaning they `produce the longest possible match`. Consider this example:"
   ]
  },
  {
   "cell_type": "code",
   "execution_count": 88,
   "id": "38624a94",
   "metadata": {},
   "outputs": [
    {
     "data": {
      "text/plain": [
       "<re.Match object; span=(1, 18), match='<foo> <bar> <baz>'>"
      ]
     },
     "execution_count": 88,
     "metadata": {},
     "output_type": "execute_result"
    }
   ],
   "source": [
    "re.search('<.*>', '%<foo> <bar> <baz>%')"
   ]
  },
  {
   "cell_type": "markdown",
   "id": "b9133b90",
   "metadata": {},
   "source": [
    "The regex `<.*>` effectively means:\n",
    "\n",
    "- A `'<'` character\n",
    "- Then any sequence of characters\n",
    "- Then a `'>'` character"
   ]
  },
  {
   "cell_type": "markdown",
   "id": "0bfcaf37",
   "metadata": {},
   "source": [
    "But which `'>'` character? There are three possibilities:\n",
    "\n",
    "1. The one just after 'foo'\n",
    "2. The one just after 'bar'\n",
    "3. The one just after 'baz'"
   ]
  },
  {
   "cell_type": "markdown",
   "id": "579efd3b",
   "metadata": {},
   "source": [
    "Since the `*` metacharacter is greedy, it dictates the longest possible match, which includes everything up to and including the `'>'` character that follows `'baz'`. You can see from the match object that this is the match produced.\n",
    "\n",
    "If you want the shortest possible match instead, then use the non-greedy metacharacter sequence `*?`:"
   ]
  },
  {
   "cell_type": "code",
   "execution_count": 89,
   "id": "c6a5b574",
   "metadata": {},
   "outputs": [
    {
     "data": {
      "text/plain": [
       "<re.Match object; span=(1, 6), match='<foo>'>"
      ]
     },
     "execution_count": 89,
     "metadata": {},
     "output_type": "execute_result"
    }
   ],
   "source": [
    "re.search('<.*?>', '%<foo> <bar> <baz>%')"
   ]
  },
  {
   "cell_type": "markdown",
   "id": "430d4799",
   "metadata": {},
   "source": [
    "In this case, the match ends with the '>' character following 'foo'.\n",
    "<br>**Note:** You could accomplish the same thing with the regex `<[^>]*>`, which means:\n",
    "* A '<' character\n",
    "* Then any sequence of characters other than '>'\n",
    "* Then a '>' character\n",
    "\n",
    "This is the only option available with some older parsers that don’t support lazy quantifiers. Happily, that’s not the case with the regex parser in Python’s re module."
   ]
  },
  {
   "cell_type": "markdown",
   "id": "ae4df7fd",
   "metadata": {},
   "source": [
    "There are lazy versions of the + and ? quantifiers as well:"
   ]
  },
  {
   "cell_type": "code",
   "execution_count": 90,
   "id": "423786d7",
   "metadata": {},
   "outputs": [
    {
     "data": {
      "text/plain": [
       "<re.Match object; span=(1, 18), match='<foo> <bar> <baz>'>"
      ]
     },
     "execution_count": 90,
     "metadata": {},
     "output_type": "execute_result"
    }
   ],
   "source": [
    "re.search('<.+>', '%<foo> <bar> <baz>%')"
   ]
  },
  {
   "cell_type": "code",
   "execution_count": 91,
   "id": "f735eedc",
   "metadata": {},
   "outputs": [
    {
     "data": {
      "text/plain": [
       "<re.Match object; span=(1, 6), match='<foo>'>"
      ]
     },
     "execution_count": 91,
     "metadata": {},
     "output_type": "execute_result"
    }
   ],
   "source": [
    "re.search('<.+?>', '%<foo> <bar> <baz>%')"
   ]
  },
  {
   "cell_type": "code",
   "execution_count": 92,
   "id": "fc2acf91",
   "metadata": {},
   "outputs": [
    {
     "data": {
      "text/plain": [
       "<re.Match object; span=(0, 2), match='ba'>"
      ]
     },
     "execution_count": 92,
     "metadata": {},
     "output_type": "execute_result"
    }
   ],
   "source": [
    "re.search('ba?', 'baaaa')\n",
    "# ? zero or max"
   ]
  },
  {
   "cell_type": "code",
   "execution_count": 93,
   "id": "986cf879",
   "metadata": {},
   "outputs": [
    {
     "data": {
      "text/plain": [
       "<re.Match object; span=(0, 1), match='b'>"
      ]
     },
     "execution_count": 93,
     "metadata": {},
     "output_type": "execute_result"
    }
   ],
   "source": [
    "re.search('ba??', 'baaaa')"
   ]
  },
  {
   "cell_type": "markdown",
   "id": "8f4fc2c8",
   "metadata": {},
   "source": [
    "The first two examples on **lines 1** and **3** are similar to the examples shown above, only using `+` and `+?` instead of `*` and `*?`."
   ]
  },
  {
   "cell_type": "markdown",
   "id": "4fc22b6c",
   "metadata": {},
   "source": [
    "The last examples on **lines 6** and **8** are a little different. In general, the ? metacharacter matches zero or one occurrences of the preceding regex. The greedy version, ?, matches one occurrence, so ba? matches 'b' followed by a single 'a'. The non-greedy version, ??, matches zero occurrences, so ba?? matches just 'b'."
   ]
  },
  {
   "cell_type": "code",
   "execution_count": 94,
   "id": "dd5a8352",
   "metadata": {},
   "outputs": [
    {
     "data": {
      "text/plain": [
       "<re.Match object; span=(0, 2), match='ba'>"
      ]
     },
     "execution_count": 94,
     "metadata": {},
     "output_type": "execute_result"
    }
   ],
   "source": [
    "re.search('baa??', 'baaaa')\n",
    "#?? means o or max-1 "
   ]
  },
  {
   "cell_type": "markdown",
   "id": "dfb56809",
   "metadata": {},
   "source": [
    "## {m}\n",
    "\n",
    "Matches exactly `m` repetitions of the preceding regex."
   ]
  },
  {
   "cell_type": "markdown",
   "id": "7fa00a5e",
   "metadata": {},
   "source": [
    "This is similar to `*` or `+`, but it specifies exactly how many times the preceding regex must occur for a match to succeed:"
   ]
  },
  {
   "cell_type": "code",
   "execution_count": 95,
   "id": "e9695e14",
   "metadata": {},
   "outputs": [
    {
     "name": "stdout",
     "output_type": "stream",
     "text": [
      "None\n"
     ]
    }
   ],
   "source": [
    "print(re.search('x-{3}x', 'x--x'))                       # Two dashes\n",
    "# -{3} means - occures exactly 3 time otherwise it shows none"
   ]
  },
  {
   "cell_type": "code",
   "execution_count": 96,
   "id": "e6408bf3",
   "metadata": {},
   "outputs": [
    {
     "data": {
      "text/plain": [
       "<re.Match object; span=(0, 5), match='x---x'>"
      ]
     },
     "execution_count": 96,
     "metadata": {},
     "output_type": "execute_result"
    }
   ],
   "source": [
    "re.search('x-{3}x', 'x---x') \n",
    "# -{3} means - occures exactly 3 time otherwise it shows none"
   ]
  },
  {
   "cell_type": "code",
   "execution_count": 97,
   "id": "b8575aef",
   "metadata": {},
   "outputs": [
    {
     "name": "stdout",
     "output_type": "stream",
     "text": [
      "None\n"
     ]
    }
   ],
   "source": [
    "print(re.search('x-{3}x', 'x----x'))                      # Four dashes"
   ]
  },
  {
   "cell_type": "markdown",
   "id": "8904b1da",
   "metadata": {},
   "source": [
    "Here, `x-{3}x` matches `'x'`, followed by exactly three instances of the `'-'` character, followed by another `'x'`. The match fails when there are fewer or more than three dashes between the `'x'` characters."
   ]
  },
  {
   "cell_type": "markdown",
   "id": "3777810d",
   "metadata": {},
   "source": [
    "## {m,n}\n",
    "\n",
    "Matches any number of repetitions of the preceding regex from m to n, inclusive."
   ]
  },
  {
   "cell_type": "markdown",
   "id": "79d82a6c",
   "metadata": {},
   "source": [
    "In the following example, the quantified `<regex>` is `-{2,4}`. The match `succeeds when there are two, three, or four dashes` between the `'x'` characters but fails otherwise:"
   ]
  },
  {
   "cell_type": "code",
   "execution_count": 98,
   "id": "855c58b2",
   "metadata": {},
   "outputs": [
    {
     "name": "stdout",
     "output_type": "stream",
     "text": [
      "1  x-x        None\n",
      "2  x--x       <re.Match object; span=(0, 4), match='x--x'>\n",
      "3  x---x      <re.Match object; span=(0, 5), match='x---x'>\n",
      "4  x----x     <re.Match object; span=(0, 6), match='x----x'>\n",
      "5  x-----x    None\n"
     ]
    }
   ],
   "source": [
    "for i in range(1, 6):\n",
    "        s = f\"x{'-' * i}x\"\n",
    "        print(f'{i}  {s:10}', re.search('x-{2,4}x', s))"
   ]
  },
  {
   "cell_type": "markdown",
   "id": "2e5e5c7b",
   "metadata": {},
   "source": [
    "1. result is none because `-` are occured less than 2\n",
    "2. matched becaused because `-` are occured 2 times \n",
    "3. matched becaused because `-` are occured  more than 2 times and less than 4 \n",
    "4. matched becaused because `-` are occured more than 2 times and equal 4\n",
    "5. result is none because `-` are occured more than 4 times\n",
    " \n"
   ]
  },
  {
   "cell_type": "markdown",
   "id": "2ae3021e",
   "metadata": {},
   "source": [
    "Omitting m implies a lower bound of 0, and omitting n implies an unlimited upper bound:"
   ]
  },
  {
   "cell_type": "markdown",
   "id": "bf1507c8",
   "metadata": {},
   "source": [
    "\n",
    "| Regular Expression  | Matches | Matches |\n",
    "| --- | --- | --- |\n",
    "| `<regex>{,n}` | Any number of repetitions of `<regex>` less than or equal to n | `<regex>{0,n}` |\n",
    "| `<regex>{m,}` |\tAny number of repetitions of `<regex>` greater than or equal to m | `----` |\n",
    "| <regex>{,}\t| Any number of repetitions of `<regex>` | `<regex>{0,}<regex>*` |"
   ]
  },
  {
   "cell_type": "markdown",
   "id": "ffd39733",
   "metadata": {},
   "source": [
    "If you omit all of m, n, and the comma, then the curly braces no longer function as metacharacters. {} matches just the literal string '{}':"
   ]
  },
  {
   "cell_type": "code",
   "execution_count": 99,
   "id": "4527477e",
   "metadata": {
    "scrolled": true
   },
   "outputs": [
    {
     "data": {
      "text/plain": [
       "<re.Match object; span=(0, 4), match='x{}y'>"
      ]
     },
     "execution_count": 99,
     "metadata": {},
     "output_type": "execute_result"
    }
   ],
   "source": [
    "re.search('x{}y', 'x{}y')"
   ]
  },
  {
   "cell_type": "markdown",
   "id": "fbb74499",
   "metadata": {},
   "source": []
  },
  {
   "cell_type": "markdown",
   "id": "e7daa00d",
   "metadata": {},
   "source": [
    "In fact, to have any special meaning, a sequence with curly braces must fit one of the following patterns in which m and n are nonnegative integers:\n",
    "\n",
    "* {m,n}\n",
    "* {m,}\n",
    "* {,n}\n",
    "* {,}"
   ]
  },
  {
   "cell_type": "markdown",
   "id": "09bbf61f",
   "metadata": {},
   "source": [
    "Otherwise, it matches literally:"
   ]
  },
  {
   "cell_type": "code",
   "execution_count": 100,
   "id": "d77e806c",
   "metadata": {},
   "outputs": [
    {
     "data": {
      "text/plain": [
       "<re.Match object; span=(0, 7), match='x{foo}y'>"
      ]
     },
     "execution_count": 100,
     "metadata": {},
     "output_type": "execute_result"
    }
   ],
   "source": [
    "re.search('x{foo}y', 'x{foo}y')\n",
    "# matches as it is "
   ]
  },
  {
   "cell_type": "code",
   "execution_count": 101,
   "id": "4f54ec98",
   "metadata": {},
   "outputs": [
    {
     "data": {
      "text/plain": [
       "<re.Match object; span=(0, 7), match='x{a:b}y'>"
      ]
     },
     "execution_count": 101,
     "metadata": {},
     "output_type": "execute_result"
    }
   ],
   "source": [
    "re.search('x{a:b}y', 'x{a:b}y')\n",
    "# it is alos matches as it is"
   ]
  },
  {
   "cell_type": "code",
   "execution_count": 102,
   "id": "12e58681",
   "metadata": {},
   "outputs": [
    {
     "data": {
      "text/plain": [
       "<re.Match object; span=(0, 9), match='x{1,3,5}y'>"
      ]
     },
     "execution_count": 102,
     "metadata": {},
     "output_type": "execute_result"
    }
   ],
   "source": [
    "re.search('x{1,3,5}y', 'x{1,3,5}y')\n",
    "# matches as it is "
   ]
  },
  {
   "cell_type": "code",
   "execution_count": 103,
   "id": "61da2419",
   "metadata": {},
   "outputs": [
    {
     "data": {
      "text/plain": [
       "<re.Match object; span=(0, 11), match='x{foo,bar}y'>"
      ]
     },
     "execution_count": 103,
     "metadata": {},
     "output_type": "execute_result"
    }
   ],
   "source": [
    "re.search('x{foo,bar}y', 'x{foo,bar}y')\n",
    "# matches as it is"
   ]
  },
  {
   "cell_type": "markdown",
   "id": "de288cd3",
   "metadata": {},
   "source": [
    "Later in this tutorial, when you learn about the `DEBUG` flag, you’ll see how you can confirm this."
   ]
  },
  {
   "cell_type": "markdown",
   "id": "205702bc",
   "metadata": {},
   "source": [
    "## {m,n}?\n",
    "\n",
    "The non-greedy (lazy) version of {m,n}."
   ]
  },
  {
   "cell_type": "markdown",
   "id": "16d211aa",
   "metadata": {},
   "source": [
    "`{m,n}` will match as many characters as possible, and `{m,n}?` will match as few as possible:"
   ]
  },
  {
   "cell_type": "code",
   "execution_count": 104,
   "id": "aaf2cb5c",
   "metadata": {},
   "outputs": [
    {
     "data": {
      "text/plain": [
       "<re.Match object; span=(0, 5), match='aaaaa'>"
      ]
     },
     "execution_count": 104,
     "metadata": {},
     "output_type": "execute_result"
    }
   ],
   "source": [
    "re.search('a{3,5}', 'aaaaaaaa')\n",
    "# {m,n} will match as many characters as possible"
   ]
  },
  {
   "cell_type": "code",
   "execution_count": 105,
   "id": "ba258016",
   "metadata": {},
   "outputs": [
    {
     "data": {
      "text/plain": [
       "<re.Match object; span=(0, 3), match='aaa'>"
      ]
     },
     "execution_count": 105,
     "metadata": {},
     "output_type": "execute_result"
    }
   ],
   "source": [
    "re.search('a{3,5}?', 'aaaaaaaa')\n",
    "#  {m,n}? will match as few as possible\n",
    "# note- here minimum is 3 hence character 3 occures ony three time"
   ]
  },
  {
   "cell_type": "markdown",
   "id": "eba1bc57",
   "metadata": {},
   "source": [
    "## Grouping Constructs and Backreferences"
   ]
  },
  {
   "cell_type": "markdown",
   "id": "a420c6c7",
   "metadata": {},
   "source": [
    "Grouping constructs break up a regex in Python into subexpressions or groups. This serves two purposes:\n",
    "\n",
    "1. **Grouping:** A group represents a single syntactic entity. Additional metacharacters apply to the entire group as a unit.\n",
    "2. **Capturing:** Some grouping constructs also capture the portion of the search string that matches the subexpression in the group. You can retrieve captured matches later through several different mechanisms.\n",
    "\n"
   ]
  },
  {
   "cell_type": "markdown",
   "id": "76cd5684",
   "metadata": {},
   "source": [
    "## `(<regex>)`\n",
    "    Defines a subexpression or group."
   ]
  },
  {
   "cell_type": "markdown",
   "id": "78514b9f",
   "metadata": {},
   "source": [
    "This is the most basic grouping construct. A regex in parentheses just matches the contents of the parentheses:"
   ]
  },
  {
   "cell_type": "code",
   "execution_count": 106,
   "id": "9013d6ff",
   "metadata": {},
   "outputs": [
    {
     "data": {
      "text/plain": [
       "<re.Match object; span=(4, 7), match='bar'>"
      ]
     },
     "execution_count": 106,
     "metadata": {},
     "output_type": "execute_result"
    }
   ],
   "source": [
    "re.search('(bar)', 'foo bar baz')\n",
    "#matches with parentheses"
   ]
  },
  {
   "cell_type": "code",
   "execution_count": 107,
   "id": "4d48e799",
   "metadata": {},
   "outputs": [
    {
     "data": {
      "text/plain": [
       "<re.Match object; span=(4, 7), match='bar'>"
      ]
     },
     "execution_count": 107,
     "metadata": {},
     "output_type": "execute_result"
    }
   ],
   "source": [
    "re.search('bar', 'foo bar baz')\n",
    "#matches without parentheses"
   ]
  },
  {
   "cell_type": "markdown",
   "id": "ac968220",
   "metadata": {},
   "source": [
    "As a regex, `(bar)` matches the string `'bar'`, the same as the regex bar would without the parentheses."
   ]
  },
  {
   "cell_type": "markdown",
   "id": "35bfda3d",
   "metadata": {},
   "source": [
    "## Treating a Group as a Unit\n",
    "A quantifier metacharacter that follows a group operates on the entire subexpression specified in the group as a single unit.\n",
    "\n",
    "For instance, the following example matches one or more occurrences of the string `'bar'`:"
   ]
  },
  {
   "cell_type": "code",
   "execution_count": 108,
   "id": "568f1258",
   "metadata": {},
   "outputs": [
    {
     "data": {
      "text/plain": [
       "<re.Match object; span=(4, 7), match='bar'>"
      ]
     },
     "execution_count": 108,
     "metadata": {},
     "output_type": "execute_result"
    }
   ],
   "source": [
    "re.search('(bar)+', 'foo bar baz')\n",
    "# + means at least 1 or more than one "
   ]
  },
  {
   "cell_type": "code",
   "execution_count": 109,
   "id": "2a4fe8a1",
   "metadata": {},
   "outputs": [
    {
     "data": {
      "text/plain": [
       "<re.Match object; span=(4, 10), match='barbar'>"
      ]
     },
     "execution_count": 109,
     "metadata": {},
     "output_type": "execute_result"
    }
   ],
   "source": [
    "re.search('(bar)+', 'foo barbar baz')\n",
    "# + means at least 1 or more than one \n",
    "# note - captures frequently occured bar"
   ]
  },
  {
   "cell_type": "code",
   "execution_count": 110,
   "id": "a40f77af",
   "metadata": {},
   "outputs": [
    {
     "data": {
      "text/plain": [
       "<re.Match object; span=(4, 16), match='barbarbarbar'>"
      ]
     },
     "execution_count": 110,
     "metadata": {},
     "output_type": "execute_result"
    }
   ],
   "source": [
    "re.search('(bar)+', 'foo barbarbarbar baz')\n",
    "# + means at least 1 or more than one \n",
    "# note - captures frequently occured bar"
   ]
  },
  {
   "cell_type": "markdown",
   "id": "fd2f96d7",
   "metadata": {},
   "source": [
    "Here’s a breakdown of the difference between the two regexes with and without grouping parentheses:"
   ]
  },
  {
   "cell_type": "markdown",
   "id": "f351ba5c",
   "metadata": {},
   "source": [
    "| Regex | Interpretation|\tMatches | Examples|\n",
    "|---:|:-------------|:-----------|:------|\n",
    "bar+ |\tThe + metacharacter applies only to the character 'r'.\t|'ba' followed by one or more occurrences of 'r' |\t'bar' 'barr' 'barrr'|\n",
    "| (bar)+ | The + metacharacter applies to the entire string 'bar'. | One or more occurrences of | 'bar' 'bar' 'barbar' 'barbarbar'|"
   ]
  },
  {
   "cell_type": "markdown",
   "id": "d51c3923",
   "metadata": {},
   "source": [
    "Now take a look at a more complicated example. The regex `(ba[rz]){2,4}(qux)?` matches 2 to 4 occurrences of either `'bar'` or `'baz'`, optionally followed by `'qux'`:"
   ]
  },
  {
   "cell_type": "code",
   "execution_count": 111,
   "id": "4848a827",
   "metadata": {},
   "outputs": [
    {
     "data": {
      "text/plain": [
       "<re.Match object; span=(0, 12), match='bazbarbazqux'>"
      ]
     },
     "execution_count": 111,
     "metadata": {},
     "output_type": "execute_result"
    }
   ],
   "source": [
    "re.search('(ba[rz]){2,4}(qux)?', 'bazbarbazqux')"
   ]
  },
  {
   "cell_type": "code",
   "execution_count": 112,
   "id": "b99f2151",
   "metadata": {},
   "outputs": [
    {
     "data": {
      "text/plain": [
       "<re.Match object; span=(0, 6), match='barbar'>"
      ]
     },
     "execution_count": 112,
     "metadata": {},
     "output_type": "execute_result"
    }
   ],
   "source": [
    "re.search('(ba[rz]){2,4}(qux)?', 'barbar')"
   ]
  },
  {
   "cell_type": "markdown",
   "id": "125d5588",
   "metadata": {},
   "source": [
    "The following example shows that you can nest grouping parentheses:"
   ]
  },
  {
   "cell_type": "code",
   "execution_count": 113,
   "id": "c51647a0",
   "metadata": {},
   "outputs": [
    {
     "data": {
      "text/plain": [
       "<re.Match object; span=(0, 9), match='foofoobar'>"
      ]
     },
     "execution_count": 113,
     "metadata": {},
     "output_type": "execute_result"
    }
   ],
   "source": [
    "re.search('(foo(bar)?)+(\\d\\d\\d)?', 'foofoobar')"
   ]
  },
  {
   "cell_type": "code",
   "execution_count": 114,
   "id": "7d605b7f",
   "metadata": {},
   "outputs": [
    {
     "data": {
      "text/plain": [
       "<re.Match object; span=(0, 12), match='foofoobar123'>"
      ]
     },
     "execution_count": 114,
     "metadata": {},
     "output_type": "execute_result"
    }
   ],
   "source": [
    "re.search('(foo(bar)?)+(\\d\\d\\d)?', 'foofoobar123')"
   ]
  },
  {
   "cell_type": "code",
   "execution_count": 115,
   "id": "5f67582a",
   "metadata": {},
   "outputs": [
    {
     "data": {
      "text/plain": [
       "<re.Match object; span=(0, 9), match='foofoo123'>"
      ]
     },
     "execution_count": 115,
     "metadata": {},
     "output_type": "execute_result"
    }
   ],
   "source": [
    "re.search('(foo(bar)?)+(\\d\\d\\d)?', 'foofoo123')"
   ]
  },
  {
   "cell_type": "markdown",
   "id": "a15e5c35",
   "metadata": {},
   "source": [
    "The regex (foo(bar)?)+(\\d\\d\\d)? is pretty elaborate, so let’s break it down into smaller pieces:"
   ]
  },
  {
   "cell_type": "markdown",
   "id": "e5ef8084",
   "metadata": {},
   "source": [
    "| Regex\t| Matches|\n",
    "|---:|:-------------|\n",
    "|foo(bar)?|\t'foo' optionally followed by 'bar'|\n",
    "|(foo(bar)?)+|\tOne or more occurrences of the above |\n",
    "|\\d\\d\\d | Three decimal digit characters |\n",
    "|(\\d\\d\\d)? | Zero or one occurrences of the above |"
   ]
  },
  {
   "cell_type": "markdown",
   "id": "8d04531c",
   "metadata": {},
   "source": [
    "Capturing Groups\n",
    "Grouping isn’t the only useful purpose that grouping constructs serve. Most (but not quite all) grouping constructs also capture the part of the search string that matches the group. You can retrieve the captured portion or refer to it later in several different ways.\n",
    "\n",
    "Remember the match object that `re.search()` returns? There are two methods defined for a match object that provide access to captured groups: `.groups()` and `.group()`."
   ]
  },
  {
   "cell_type": "markdown",
   "id": "5bfb6fdf",
   "metadata": {},
   "source": [
    "## `m.groups()`\n",
    "\n",
    "Returns a tuple containing all the captured groups from a regex match."
   ]
  },
  {
   "cell_type": "code",
   "execution_count": 116,
   "id": "3c692702",
   "metadata": {},
   "outputs": [
    {
     "data": {
      "text/plain": [
       "<re.Match object; span=(0, 10), match='foo,quux,b'>"
      ]
     },
     "execution_count": 116,
     "metadata": {},
     "output_type": "execute_result"
    }
   ],
   "source": [
    "m = re.search('(\\w+),(\\w+),(\\w)', 'foo,quux,baz')\n",
    "m"
   ]
  },
  {
   "cell_type": "markdown",
   "id": "03ddda18",
   "metadata": {},
   "source": [
    "\\w+ mean at least 1 or more words \n",
    "<br>\\w mean exactly words "
   ]
  },
  {
   "cell_type": "markdown",
   "id": "dcf09070",
   "metadata": {},
   "source": [
    "Each of the three (\\w+) expressions matches a sequence of word characters. The full regex (\\w+),(\\w+),(\\w+) breaks the search string into three comma-separated tokens."
   ]
  },
  {
   "cell_type": "markdown",
   "id": "99d9ea19",
   "metadata": {},
   "source": [
    "Because the (\\w+) expressions use grouping parentheses, the corresponding matching tokens are **captured**. To access the captured matches, you can use .groups(), which returns a tuple containing all the captured matches in order:"
   ]
  },
  {
   "cell_type": "code",
   "execution_count": 117,
   "id": "f194dd26",
   "metadata": {},
   "outputs": [
    {
     "data": {
      "text/plain": [
       "('foo', 'quux', 'b')"
      ]
     },
     "execution_count": 117,
     "metadata": {},
     "output_type": "execute_result"
    }
   ],
   "source": [
    "m.groups()"
   ]
  },
  {
   "cell_type": "markdown",
   "id": "19f9e441",
   "metadata": {},
   "source": [
    "Notice that the tuple contains the tokens but not the commas that appeared in the search string. That’s because the word characters that make up the tokens are inside the grouping parentheses but the commas aren’t. The commas that you see between the returned tokens are the standard delimiters used to separate values in a tuple."
   ]
  },
  {
   "cell_type": "markdown",
   "id": "54eb9b3d",
   "metadata": {},
   "source": [
    "## `m.group(<n>)`\n",
    "Returns a string containing the `<n>th` captured match."
   ]
  },
  {
   "cell_type": "markdown",
   "id": "27ec069e",
   "metadata": {},
   "source": [
    "With one argument, .group() returns a single captured match. Note that the arguments are one-based, not zero-based. So, m.group(1) refers to the first captured match, m.group(2) to the second, and so on:\n",
    "\n"
   ]
  },
  {
   "cell_type": "code",
   "execution_count": 118,
   "id": "b67b558a",
   "metadata": {},
   "outputs": [
    {
     "data": {
      "text/plain": [
       "('foo', 'quux', 'baz')"
      ]
     },
     "execution_count": 118,
     "metadata": {},
     "output_type": "execute_result"
    }
   ],
   "source": [
    "m = re.search('(\\w+),(\\w+),(\\w+)', 'foo,quux,baz')\n",
    "# prantheses and quama created  group\n",
    "m.groups()"
   ]
  },
  {
   "cell_type": "code",
   "execution_count": 119,
   "id": "fcbf495a",
   "metadata": {},
   "outputs": [
    {
     "data": {
      "text/plain": [
       "'foo'"
      ]
     },
     "execution_count": 119,
     "metadata": {},
     "output_type": "execute_result"
    }
   ],
   "source": [
    "m.group(1)\n",
    "# group 1 formed up to 1 quama  "
   ]
  },
  {
   "cell_type": "code",
   "execution_count": 120,
   "id": "da52727c",
   "metadata": {},
   "outputs": [
    {
     "data": {
      "text/plain": [
       "'quux'"
      ]
     },
     "execution_count": 120,
     "metadata": {},
     "output_type": "execute_result"
    }
   ],
   "source": [
    "m.group(2)"
   ]
  },
  {
   "cell_type": "code",
   "execution_count": 121,
   "id": "169cb3aa",
   "metadata": {},
   "outputs": [
    {
     "data": {
      "text/plain": [
       "'baz'"
      ]
     },
     "execution_count": 121,
     "metadata": {},
     "output_type": "execute_result"
    }
   ],
   "source": [
    "m.group(3)"
   ]
  },
  {
   "cell_type": "markdown",
   "id": "b14ffac3",
   "metadata": {},
   "source": [
    "Since the numbering of captured matches is one-based, and there isn’t any group numbered zero, `m.group(0)` has a special meaning:"
   ]
  },
  {
   "cell_type": "code",
   "execution_count": 122,
   "id": "8b4d70cc",
   "metadata": {},
   "outputs": [
    {
     "data": {
      "text/plain": [
       "'foo,quux,baz'"
      ]
     },
     "execution_count": 122,
     "metadata": {},
     "output_type": "execute_result"
    }
   ],
   "source": [
    "m.group(0)\n",
    "# 0 will returns entire match means all groups"
   ]
  },
  {
   "cell_type": "code",
   "execution_count": 123,
   "id": "7b6c4575",
   "metadata": {},
   "outputs": [
    {
     "data": {
      "text/plain": [
       "'foo,quux,baz'"
      ]
     },
     "execution_count": 123,
     "metadata": {},
     "output_type": "execute_result"
    }
   ],
   "source": [
    "m.group()\n",
    "# same as 0 "
   ]
  },
  {
   "cell_type": "markdown",
   "id": "da3d7f43",
   "metadata": {},
   "source": [
    "`m.group(0)` returns the entire match, and `m.group()` does the same."
   ]
  },
  {
   "cell_type": "markdown",
   "id": "ba265619",
   "metadata": {},
   "source": [
    "## m.group(<n1>, <n2>, ...)\n",
    "Returns a tuple containing the specified captured matches."
   ]
  },
  {
   "cell_type": "markdown",
   "id": "780def4c",
   "metadata": {},
   "source": [
    "With multiple arguments, .group() returns a tuple containing the specified captured matches in the given order:"
   ]
  },
  {
   "cell_type": "code",
   "execution_count": 124,
   "id": "3760ec03",
   "metadata": {},
   "outputs": [
    {
     "data": {
      "text/plain": [
       "'foo,quux,baz'"
      ]
     },
     "execution_count": 124,
     "metadata": {},
     "output_type": "execute_result"
    }
   ],
   "source": [
    "m.group()"
   ]
  },
  {
   "cell_type": "code",
   "execution_count": 125,
   "id": "3003f3c9",
   "metadata": {},
   "outputs": [
    {
     "data": {
      "text/plain": [
       "('quux', 'baz')"
      ]
     },
     "execution_count": 125,
     "metadata": {},
     "output_type": "execute_result"
    }
   ],
   "source": [
    "m.group(2, 3)"
   ]
  },
  {
   "cell_type": "code",
   "execution_count": 126,
   "id": "6be70b0a",
   "metadata": {},
   "outputs": [
    {
     "data": {
      "text/plain": [
       "('baz', 'quux', 'foo')"
      ]
     },
     "execution_count": 126,
     "metadata": {},
     "output_type": "execute_result"
    }
   ],
   "source": [
    "m.group(3, 2, 1)"
   ]
  },
  {
   "cell_type": "markdown",
   "id": "e264f43b",
   "metadata": {},
   "source": [
    "This is just convenient shorthand. You could create the tuple of matches yourself instead:"
   ]
  },
  {
   "cell_type": "code",
   "execution_count": 127,
   "id": "79eb1e48",
   "metadata": {},
   "outputs": [
    {
     "data": {
      "text/plain": [
       "('baz', 'quux', 'foo')"
      ]
     },
     "execution_count": 127,
     "metadata": {},
     "output_type": "execute_result"
    }
   ],
   "source": [
    "m.group(3, 2, 1)"
   ]
  },
  {
   "cell_type": "code",
   "execution_count": 128,
   "id": "e8b3a70e",
   "metadata": {},
   "outputs": [
    {
     "data": {
      "text/plain": [
       "('baz', 'quux', 'foo')"
      ]
     },
     "execution_count": 128,
     "metadata": {},
     "output_type": "execute_result"
    }
   ],
   "source": [
    "(m.group(3), m.group(2), m.group(1))\n",
    "# same as above "
   ]
  },
  {
   "cell_type": "markdown",
   "id": "885a620c",
   "metadata": {},
   "source": [
    "The two statements shown are functionally equivalent."
   ]
  },
  {
   "cell_type": "markdown",
   "id": "6efab7ec",
   "metadata": {},
   "source": [
    "## Backreferences\n",
    "You can match a previously captured group later within the same regex using a special metacharacter sequence called a **backreference**."
   ]
  },
  {
   "cell_type": "markdown",
   "id": "38a11176",
   "metadata": {},
   "source": [
    "## `\\<n>`\n",
    "\n",
    "Matches the contents of a previously captured group.\n",
    "\n"
   ]
  },
  {
   "cell_type": "markdown",
   "id": "aa473b8c",
   "metadata": {},
   "source": [
    "Within a regex in Python, the sequence `\\<n>`, where `<n>` is an integer from 1 to 99, matches the contents of the `<n>th` captured group."
   ]
  },
  {
   "cell_type": "markdown",
   "id": "f260f408",
   "metadata": {},
   "source": [
    "Here’s a regex that matches a word, followed by a comma, followed by the same word again:"
   ]
  },
  {
   "cell_type": "code",
   "execution_count": 129,
   "id": "91d1b528",
   "metadata": {},
   "outputs": [],
   "source": [
    "regex = r'(\\w+),\\1'"
   ]
  },
  {
   "cell_type": "code",
   "execution_count": 130,
   "id": "6e904657",
   "metadata": {},
   "outputs": [],
   "source": [
    "m = re.search(regex, 'foo,foo')"
   ]
  },
  {
   "cell_type": "code",
   "execution_count": 131,
   "id": "7c2e99cc",
   "metadata": {},
   "outputs": [
    {
     "data": {
      "text/plain": [
       "<re.Match object; span=(0, 7), match='foo,foo'>"
      ]
     },
     "execution_count": 131,
     "metadata": {},
     "output_type": "execute_result"
    }
   ],
   "source": [
    "m"
   ]
  },
  {
   "cell_type": "code",
   "execution_count": 132,
   "id": "7f10cab6",
   "metadata": {},
   "outputs": [
    {
     "data": {
      "text/plain": [
       "<re.Match object; span=(0, 7), match='qux,qux'>"
      ]
     },
     "execution_count": 132,
     "metadata": {},
     "output_type": "execute_result"
    }
   ],
   "source": [
    "m = re.search(regex, 'qux,qux')\n",
    "m"
   ]
  },
  {
   "cell_type": "code",
   "execution_count": 133,
   "id": "d3610813",
   "metadata": {},
   "outputs": [
    {
     "data": {
      "text/plain": [
       "'qux'"
      ]
     },
     "execution_count": 133,
     "metadata": {},
     "output_type": "execute_result"
    }
   ],
   "source": [
    "m.group(1)"
   ]
  },
  {
   "cell_type": "code",
   "execution_count": 134,
   "id": "fc8c506c",
   "metadata": {},
   "outputs": [],
   "source": [
    "m = re.search(regex, 'foo,qux')"
   ]
  },
  {
   "cell_type": "code",
   "execution_count": 135,
   "id": "950e776c",
   "metadata": {},
   "outputs": [
    {
     "name": "stdout",
     "output_type": "stream",
     "text": [
      "None\n"
     ]
    }
   ],
   "source": [
    "print(m)"
   ]
  },
  {
   "cell_type": "markdown",
   "id": "773a1791",
   "metadata": {},
   "source": [
    "In the first example, on **line 3**, `(\\w+)` matches the first instance of the string `'foo'` and saves it as the first captured group. The `comma matches literally`. \n",
    "<br>Then `\\1` is a backreference to the first captured group and matches `'foo'` again. \n",
    "<br>The second example, on **line 9**, is identical except that the `(\\w+)` matches `'qux'` instead."
   ]
  },
  {
   "cell_type": "markdown",
   "id": "86c2e9a6",
   "metadata": {},
   "source": [
    "The last example, on **line 15**, doesn’t have a match because what comes before the comma isn’t the same as what comes after it, so the `\\1` backreference doesn’t match."
   ]
  },
  {
   "cell_type": "markdown",
   "id": "3e91c198",
   "metadata": {},
   "source": [
    "**Note:** Any time you use a regex in Python with a numbered backreference, it’s a good idea to specify it as a raw string. Otherwise, the interpreter may confuse the backreference with an octal value.\n",
    "\n",
    "<br>Consider this example:"
   ]
  },
  {
   "cell_type": "code",
   "execution_count": 136,
   "id": "fc934347",
   "metadata": {},
   "outputs": [
    {
     "name": "stdout",
     "output_type": "stream",
     "text": [
      "None\n"
     ]
    }
   ],
   "source": [
    "print(re.search('([a-z])#\\1', 'd#d'))"
   ]
  },
  {
   "cell_type": "markdown",
   "id": "bd9f0dfc",
   "metadata": {},
   "source": [
    "The regex `([a-z])#\\1` matches a lowercase letter, followed by `'#'`, followed by the same lowercase letter. The string in this case is `'d#d'`, which should match. But the match fails because Python misinterprets the backreference `\\1` as the character whose octal value is one:"
   ]
  },
  {
   "cell_type": "code",
   "execution_count": 137,
   "id": "0a7d1bb2",
   "metadata": {},
   "outputs": [
    {
     "data": {
      "text/plain": [
       "'0o1'"
      ]
     },
     "execution_count": 137,
     "metadata": {},
     "output_type": "execute_result"
    }
   ],
   "source": [
    "oct(ord('\\1'))"
   ]
  },
  {
   "cell_type": "markdown",
   "id": "98cd0527",
   "metadata": {},
   "source": [
    "You’ll achieve the correct match if you specify the regex as a raw string:"
   ]
  },
  {
   "cell_type": "code",
   "execution_count": 138,
   "id": "479245e8",
   "metadata": {},
   "outputs": [
    {
     "data": {
      "text/plain": [
       "<re.Match object; span=(0, 3), match='d#d'>"
      ]
     },
     "execution_count": 138,
     "metadata": {},
     "output_type": "execute_result"
    }
   ],
   "source": [
    "re.search(r'([a-z])#\\1', 'd#d')"
   ]
  },
  {
   "cell_type": "markdown",
   "id": "376f9c42",
   "metadata": {},
   "source": [
    "Remember to consider using a raw string whenever your regex includes a metacharacter sequence containing a backslash."
   ]
  },
  {
   "cell_type": "markdown",
   "id": "7bcdf0f2",
   "metadata": {},
   "source": [
    "Numbered backreferences are one-based like the arguments to `.group()`. Only the first ninety-nine captured groups are accessible by backreference. The interpreter will regard `\\100` as the `'@'` character, whose octal value is 100."
   ]
  },
  {
   "cell_type": "markdown",
   "id": "06a4bb08",
   "metadata": {},
   "source": [
    "## Other Grouping Constructs"
   ]
  },
  {
   "cell_type": "markdown",
   "id": "7a82443a",
   "metadata": {},
   "source": [
    "Enhanced grouping constructs that allow you to tweak when and how grouping occurs"
   ]
  },
  {
   "cell_type": "markdown",
   "id": "a26b12e3",
   "metadata": {},
   "source": [
    "## `(?P<name><regex>)`\n",
    "\n",
    "Creates a named captured group."
   ]
  },
  {
   "cell_type": "markdown",
   "id": "30fe3c15",
   "metadata": {},
   "source": [
    "This metacharacter sequence is similar to grouping parentheses in that it creates a group matching `<regex>` that is accessible through the match object or a subsequent backreference. The difference in this case is that you reference the matched group by its given symbolic `<name>` instead of by its number."
   ]
  },
  {
   "cell_type": "markdown",
   "id": "52d2ad81",
   "metadata": {},
   "source": [
    "Earlier, you saw this example with three captured groups numbered 1, 2, and 3:"
   ]
  },
  {
   "cell_type": "code",
   "execution_count": 144,
   "id": "5099ca01",
   "metadata": {},
   "outputs": [],
   "source": [
    "m = re.search('(\\w+),(\\w+),(\\w+)', 'foo,quux,baz')"
   ]
  },
  {
   "cell_type": "code",
   "execution_count": 145,
   "id": "76216851",
   "metadata": {},
   "outputs": [
    {
     "data": {
      "text/plain": [
       "('foo', 'quux', 'baz')"
      ]
     },
     "execution_count": 145,
     "metadata": {},
     "output_type": "execute_result"
    }
   ],
   "source": [
    "m.groups()"
   ]
  },
  {
   "cell_type": "code",
   "execution_count": 146,
   "id": "41f4f2dc",
   "metadata": {},
   "outputs": [
    {
     "data": {
      "text/plain": [
       "('foo', 'quux', 'baz')"
      ]
     },
     "execution_count": 146,
     "metadata": {},
     "output_type": "execute_result"
    }
   ],
   "source": [
    "m.group(1,2,3)"
   ]
  },
  {
   "cell_type": "code",
   "execution_count": 147,
   "id": "5ddc52f3",
   "metadata": {},
   "outputs": [],
   "source": [
    "m = re.search('(?P<w1>\\w+),(?P<w2>\\w+),(?P<w3>\\w+)', 'foo,quux,baz')\n"
   ]
  },
  {
   "cell_type": "markdown",
   "id": "bb031c66",
   "metadata": {},
   "source": [
    "\n",
    "You can refer to these captured groups by their symbolic names:"
   ]
  },
  {
   "cell_type": "code",
   "execution_count": 148,
   "id": "73c10d4d",
   "metadata": {},
   "outputs": [
    {
     "data": {
      "text/plain": [
       "'foo'"
      ]
     },
     "execution_count": 148,
     "metadata": {},
     "output_type": "execute_result"
    }
   ],
   "source": [
    "m.group('w1')\n",
    "# group 1 named as the w1"
   ]
  },
  {
   "cell_type": "code",
   "execution_count": 149,
   "id": "f8af78a3",
   "metadata": {},
   "outputs": [
    {
     "data": {
      "text/plain": [
       "'baz'"
      ]
     },
     "execution_count": 149,
     "metadata": {},
     "output_type": "execute_result"
    }
   ],
   "source": [
    "m.group('w3')\n",
    "# group 3 named as the w3"
   ]
  },
  {
   "cell_type": "code",
   "execution_count": 150,
   "id": "e54b6a72",
   "metadata": {},
   "outputs": [
    {
     "data": {
      "text/plain": [
       "('foo', 'quux', 'baz')"
      ]
     },
     "execution_count": 150,
     "metadata": {},
     "output_type": "execute_result"
    }
   ],
   "source": [
    "m.group('w1','w2','w3')"
   ]
  },
  {
   "cell_type": "markdown",
   "id": "41414be1",
   "metadata": {},
   "source": [
    "You can still access groups with symbolic names by number if you wish:"
   ]
  },
  {
   "cell_type": "code",
   "execution_count": 152,
   "id": "ddfc005c",
   "metadata": {},
   "outputs": [],
   "source": [
    "m = re.search('(?P<w1>\\w+),(?P<w2>\\w+),(?P<w3>\\w+)', 'foo,quux,baz')\n",
    "# (?P<w1>) this is for naming the group name"
   ]
  },
  {
   "cell_type": "code",
   "execution_count": 153,
   "id": "c0c53233",
   "metadata": {},
   "outputs": [
    {
     "data": {
      "text/plain": [
       "'foo'"
      ]
     },
     "execution_count": 153,
     "metadata": {},
     "output_type": "execute_result"
    }
   ],
   "source": [
    "m.group('w1')"
   ]
  },
  {
   "cell_type": "code",
   "execution_count": 155,
   "id": "ce3d1b92",
   "metadata": {},
   "outputs": [
    {
     "data": {
      "text/plain": [
       "'foo'"
      ]
     },
     "execution_count": 155,
     "metadata": {},
     "output_type": "execute_result"
    }
   ],
   "source": [
    "m.group(1)\n",
    "# also we use digits for printing the group"
   ]
  },
  {
   "cell_type": "code",
   "execution_count": 156,
   "id": "3a1d6f52",
   "metadata": {},
   "outputs": [
    {
     "data": {
      "text/plain": [
       "('foo', 'quux', 'baz')"
      ]
     },
     "execution_count": 156,
     "metadata": {},
     "output_type": "execute_result"
    }
   ],
   "source": [
    "m.group('w1', 'w2', 'w3')"
   ]
  },
  {
   "cell_type": "code",
   "execution_count": 157,
   "id": "182c719e",
   "metadata": {},
   "outputs": [
    {
     "data": {
      "text/plain": [
       "('foo', 'quux', 'baz')"
      ]
     },
     "execution_count": 157,
     "metadata": {},
     "output_type": "execute_result"
    }
   ],
   "source": [
    "m.group(1, 2, 3)"
   ]
  },
  {
   "cell_type": "markdown",
   "id": "f298a5fb",
   "metadata": {},
   "source": [
    "Any `<name>` specified with this construct must conform to the rules for a Python identifier, and each `<name>` can only appear once per regex."
   ]
  },
  {
   "cell_type": "markdown",
   "id": "bfb61bc5",
   "metadata": {},
   "source": [
    "## `(?P=<name>)`\n",
    "\n",
    "Matches the contents of a previously captured named group."
   ]
  },
  {
   "cell_type": "markdown",
   "id": "6b56bdce",
   "metadata": {},
   "source": [
    "The `(?P=<name>)` metacharacter sequence is a backreference, similar to `\\<n>`, except that it refers to a named group rather than a numbered group.\n",
    "\n",
    "Here again is the example from above, which uses a numbered backreference to match a word, followed by a comma, followed by the same word again:"
   ]
  },
  {
   "cell_type": "code",
   "execution_count": 158,
   "id": "6c304613",
   "metadata": {},
   "outputs": [
    {
     "data": {
      "text/plain": [
       "<re.Match object; span=(0, 7), match='foo,foo'>"
      ]
     },
     "execution_count": 158,
     "metadata": {},
     "output_type": "execute_result"
    }
   ],
   "source": [
    "m = re.search(r'(\\w+),\\1', 'foo,foo')\n",
    "m"
   ]
  },
  {
   "cell_type": "code",
   "execution_count": 159,
   "id": "5e8d08bc",
   "metadata": {},
   "outputs": [
    {
     "data": {
      "text/plain": [
       "'foo'"
      ]
     },
     "execution_count": 159,
     "metadata": {},
     "output_type": "execute_result"
    }
   ],
   "source": [
    "m.group(1)"
   ]
  },
  {
   "cell_type": "markdown",
   "id": "a1ae9051",
   "metadata": {},
   "source": [
    "The following code does the same thing using a named group and a backreference instead:"
   ]
  },
  {
   "cell_type": "code",
   "execution_count": 162,
   "id": "95a53218",
   "metadata": {},
   "outputs": [],
   "source": [
    "m = re.search(r'(?P<word>\\w+),(?P=word)', 'foo,foo')\n",
    "# named group back preference"
   ]
  },
  {
   "cell_type": "code",
   "execution_count": 163,
   "id": "1d6d8556",
   "metadata": {},
   "outputs": [
    {
     "data": {
      "text/plain": [
       "<re.Match object; span=(0, 7), match='foo,foo'>"
      ]
     },
     "execution_count": 163,
     "metadata": {},
     "output_type": "execute_result"
    }
   ],
   "source": [
    "m"
   ]
  },
  {
   "cell_type": "code",
   "execution_count": 164,
   "id": "fe10cd7f",
   "metadata": {},
   "outputs": [
    {
     "data": {
      "text/plain": [
       "'foo'"
      ]
     },
     "execution_count": 164,
     "metadata": {},
     "output_type": "execute_result"
    }
   ],
   "source": [
    "m.group('word')"
   ]
  },
  {
   "cell_type": "markdown",
   "id": "e68297bf",
   "metadata": {},
   "source": [
    "(?P=<word>\\w+) matches 'foo' and saves it as a captured group named word. Again, the comma matches literally. Then (?P=word) is a backreference to the named capture and matches 'foo' again."
   ]
  },
  {
   "cell_type": "markdown",
   "id": "e0790ff3",
   "metadata": {},
   "source": [
    "`Note: The angle brackets (< and >) are required around name when creating a named group but not when referring to it later, either by backreference or by .group():`"
   ]
  },
  {
   "cell_type": "code",
   "execution_count": 166,
   "id": "65c1d4b4",
   "metadata": {},
   "outputs": [],
   "source": [
    "m = re.match(r'(?P<num>\\d+)\\.(?P=num)','135.135')\n",
    "# backreference"
   ]
  },
  {
   "cell_type": "code",
   "execution_count": 167,
   "id": "0c7c27ee",
   "metadata": {},
   "outputs": [
    {
     "data": {
      "text/plain": [
       "<re.Match object; span=(0, 7), match='135.135'>"
      ]
     },
     "execution_count": 167,
     "metadata": {},
     "output_type": "execute_result"
    }
   ],
   "source": [
    "m"
   ]
  },
  {
   "cell_type": "code",
   "execution_count": 168,
   "id": "8c3d226a",
   "metadata": {},
   "outputs": [
    {
     "data": {
      "text/plain": [
       "'135'"
      ]
     },
     "execution_count": 168,
     "metadata": {},
     "output_type": "execute_result"
    }
   ],
   "source": [
    "m.group('num')"
   ]
  },
  {
   "cell_type": "markdown",
   "id": "cfaec115",
   "metadata": {},
   "source": [
    "Here, `(?P<num>\\d+)` creates the captured group. But the corresponding backreference is `(?P=num)` without the angle brackets."
   ]
  },
  {
   "cell_type": "markdown",
   "id": "faa7e5dd",
   "metadata": {},
   "source": [
    "## `(?:<regex>)`\n",
    "\n",
    "Creates a non-capturing group."
   ]
  },
  {
   "cell_type": "markdown",
   "id": "d45e28d8",
   "metadata": {},
   "source": [
    "`(?:<regex>)` is just like `(<regex>)` in that it matches the specified `<regex>`. But `(?:<regex>)` doesn’t capture the match for later retrieval:"
   ]
  },
  {
   "cell_type": "code",
   "execution_count": 170,
   "id": "cbebd91d",
   "metadata": {},
   "outputs": [],
   "source": [
    "m = re.search('(\\w+),(?:\\w+),(\\w+)', 'foo,quux,baz')"
   ]
  },
  {
   "cell_type": "code",
   "execution_count": 175,
   "id": "dbd1251a",
   "metadata": {},
   "outputs": [
    {
     "data": {
      "text/plain": [
       "('foo', 'baz')"
      ]
     },
     "execution_count": 175,
     "metadata": {},
     "output_type": "execute_result"
    }
   ],
   "source": [
    "m.groups()\n",
    "#in  groups() function can not matches 'quux' as a group"
   ]
  },
  {
   "cell_type": "code",
   "execution_count": 174,
   "id": "c6af5cb4",
   "metadata": {},
   "outputs": [
    {
     "data": {
      "text/plain": [
       "'foo,quux,baz'"
      ]
     },
     "execution_count": 174,
     "metadata": {},
     "output_type": "execute_result"
    }
   ],
   "source": [
    "m.group()"
   ]
  },
  {
   "cell_type": "code",
   "execution_count": 176,
   "id": "a6a6c74e",
   "metadata": {},
   "outputs": [
    {
     "data": {
      "text/plain": [
       "'foo'"
      ]
     },
     "execution_count": 176,
     "metadata": {},
     "output_type": "execute_result"
    }
   ],
   "source": [
    " m.group(1)"
   ]
  },
  {
   "cell_type": "code",
   "execution_count": 179,
   "id": "f5925e65",
   "metadata": {},
   "outputs": [
    {
     "data": {
      "text/plain": [
       "'baz'"
      ]
     },
     "execution_count": 179,
     "metadata": {},
     "output_type": "execute_result"
    }
   ],
   "source": [
    " m.group(2)\n",
    "# it can not matches quux as a group 2 beacause we used :?"
   ]
  },
  {
   "cell_type": "markdown",
   "id": "50e2fe0b",
   "metadata": {},
   "source": [
    "## Why would you want to define a group but not capture it?\n",
    "\n",
    "<br>Remember that the regex parser will treat the <regex> inside grouping parentheses as a single unit. You may have a situation where you need this grouping feature, but you don’t need to do anything with the value later, so you don’t really need to capture it. If you use non-capturing grouping, then the tuple of captured groups won’t be cluttered with values you don’t actually need to keep.\n",
    "\n",
    "<br>Additionally, it takes some time and memory to capture a group. If the code that performs the match executes many times and you don’t capture groups that you aren’t going to use later, then you may see a slight performance advantage"
   ]
  },
  {
   "cell_type": "markdown",
   "id": "fa550f50",
   "metadata": {},
   "source": [
    "## `(?(<n>)<yes-regex>|<no-regex>)`\n",
    "## `(?(<name>)<yes-regex>|<no-regex>)`\n",
    "\n",
    "Specifies a conditional match."
   ]
  },
  {
   "cell_type": "markdown",
   "id": "ee489392",
   "metadata": {},
   "source": [
    "A conditional match matches against one of two specified regexes depending on whether the given group exists:"
   ]
  },
  {
   "cell_type": "markdown",
   "id": "1803c79f",
   "metadata": {},
   "source": [
    "* `(?(<n>)<yes-regex>|<no-regex>)` matches against `<yes-regex>` if a group numbered `<n>` exists. Otherwise, it matches against `<no-regex>`.\n",
    "\n",
    "* `(?(<name>)<yes-regex>|<no-regex>)` matches against `<yes-regex>` if a group named `<name>` exists. Otherwise, it matches against `<no-regex>`."
   ]
  },
  {
   "cell_type": "markdown",
   "id": "ad28cb92",
   "metadata": {},
   "source": [
    "Conditional matches are better illustrated with an example. Consider this regex:"
   ]
  },
  {
   "cell_type": "code",
   "execution_count": 186,
   "id": "153e8f25",
   "metadata": {},
   "outputs": [],
   "source": [
    "regex = r'^(###)?foo(?(1)bar|baz)'\n",
    "# ^(###)? means search string optionally begins with '###'\n"
   ]
  },
  {
   "cell_type": "markdown",
   "id": "2fa5b60e",
   "metadata": {},
   "source": [
    "Here are the parts of this regex broken out with some explanation:\n",
    "1. ^(###)? indicates that the search string optionally begins with '###'. If it does, then the grouping parentheses around ### will create a group numbered 1. Otherwise, no such group will exist.\n",
    "2. The next portion, foo, literally matches the string 'foo'.\n",
    "3. Lastly, (?(1)bar|baz) matches against 'bar' if group 1 exists and 'baz' if it doesn’t."
   ]
  },
  {
   "cell_type": "markdown",
   "id": "606526c4",
   "metadata": {},
   "source": [
    "The following code blocks demonstrate the use of the above regex in several different Python code snippets:"
   ]
  },
  {
   "cell_type": "code",
   "execution_count": 190,
   "id": "711ff27c",
   "metadata": {},
   "outputs": [
    {
     "data": {
      "text/plain": [
       "<re.Match object; span=(0, 9), match='###foobar'>"
      ]
     },
     "execution_count": 190,
     "metadata": {},
     "output_type": "execute_result"
    }
   ],
   "source": [
    "#i.e 1\n",
    "#r'^(###)?foo(?(1)bar|baz)'\n",
    "re.search(regex, \"###foobar\")\n",
    "# string `###foobar` matches of start condition '###' == True\n",
    "# string `###foobar` matches against the 'bar' == True "
   ]
  },
  {
   "cell_type": "markdown",
   "id": "9a1b3f4c",
   "metadata": {},
   "source": [
    "The search string `'###foobar'` does start with `'###'`, so the parser creates a group numbered 1. The conditional match is then against 'bar', which matches."
   ]
  },
  {
   "cell_type": "code",
   "execution_count": 188,
   "id": "fd15365e",
   "metadata": {},
   "outputs": [
    {
     "name": "stdout",
     "output_type": "stream",
     "text": [
      "None\n"
     ]
    }
   ],
   "source": [
    "#i.e 2 \n",
    "#r'^(###)?foo(?(1)bar|baz)'\n",
    "print(re.search(regex, '###foobaz'))\n",
    "\n",
    "#this condition does start with '###' and it is also called group no1 == True\n",
    "# but condition match is against 'bar', hence it does not match  == False"
   ]
  },
  {
   "cell_type": "code",
   "execution_count": 191,
   "id": "cde3a638",
   "metadata": {},
   "outputs": [
    {
     "name": "stdout",
     "output_type": "stream",
     "text": [
      "None\n"
     ]
    }
   ],
   "source": [
    "# i.e 3\n",
    "#r'^(###)?foo(?(1)bar|baz)'\n",
    "\n",
    "print(re.search(regex, 'foobar'))\n",
    "# in this condition string 'foobar' does not start with \"###\"  == False \n",
    "# string `###foobar` matches against the 'bar' == True "
   ]
  },
  {
   "cell_type": "code",
   "execution_count": 192,
   "id": "15ab9c3f",
   "metadata": {},
   "outputs": [
    {
     "data": {
      "text/plain": [
       "<re.Match object; span=(0, 6), match='foobaz'>"
      ]
     },
     "execution_count": 192,
     "metadata": {},
     "output_type": "execute_result"
    }
   ],
   "source": [
    "# i.e. 4\n",
    "#r'^(###)?foo(?(1)bar|baz)'\n",
    "re.search(regex, 'foobaz')\n",
    "re.search(regex, \"###foobar\")\n",
    "# string `###foobar` matches of start condition '###' == False\n",
    "# string `###foobar` matches against the 'bar' == False\n",
    "# (?(1)bar|baz) this group is atached to group with ?(1)bar match \n",
    "# If it is fails it satiesfied with baz if it is mathches "
   ]
  },
  {
   "cell_type": "markdown",
   "id": "8644bd8f",
   "metadata": {},
   "source": [
    "Here’s another conditional match using a named group instead of a numbered group:"
   ]
  },
  {
   "cell_type": "code",
   "execution_count": 194,
   "id": "24e1f355",
   "metadata": {},
   "outputs": [],
   "source": [
    "regex = r'^(?P<ch>\\W)?foo(?(ch)(?P=ch)|)$'\n",
    "\n",
    "# new group name ch \n",
    "# ?P=ch backreference"
   ]
  },
  {
   "cell_type": "markdown",
   "id": "56babe5f",
   "metadata": {},
   "source": [
    "This regex matches the string 'foo', preceded by a single non-word character and followed by the same non-word character, or the string 'foo' by itself."
   ]
  },
  {
   "cell_type": "markdown",
   "id": "16624a3b",
   "metadata": {},
   "source": [
    "Again, let’s break this down into pieces:"
   ]
  },
  {
   "cell_type": "markdown",
   "id": "76fbda23",
   "metadata": {},
   "source": [
    "|Regex|\tMatches|\n",
    "|---:|:-------------|\n",
    "| `^` |\tThe start of the string|\n",
    "| `(?P<ch>\\W)` |\tA single non-word character, captured in a group named ch|\n",
    "| `(?P<ch>\\W)?` | Zero or one occurrences of the above\n",
    "|`foo`|The literal string 'foo'|\n",
    "| `(?(ch)(?P=ch)|)` | `The contents of the group named ch if it exists, or the empty string if it doesn’t` |\n",
    "|`$`|\tThe end of the string|"
   ]
  },
  {
   "cell_type": "code",
   "execution_count": 196,
   "id": "5aac3372",
   "metadata": {},
   "outputs": [
    {
     "data": {
      "text/plain": [
       "<re.Match object; span=(0, 3), match='foo'>"
      ]
     },
     "execution_count": 196,
     "metadata": {},
     "output_type": "execute_result"
    }
   ],
   "source": [
    "# regex = r'^(?P<ch>\\W)?foo(?(ch)(?P=ch)|)$'\n",
    "re.search(regex, 'foo')\n",
    "# 'foo' is by itself."
   ]
  },
  {
   "cell_type": "code",
   "execution_count": 198,
   "id": "68543d32",
   "metadata": {},
   "outputs": [
    {
     "data": {
      "text/plain": [
       "<re.Match object; span=(0, 5), match='#foo#'>"
      ]
     },
     "execution_count": 198,
     "metadata": {},
     "output_type": "execute_result"
    }
   ],
   "source": [
    "re.search(regex, '#foo#')\n",
    "# same non-word characher precedes and follows 'foo' As advertised, these matches succeed."
   ]
  },
  {
   "cell_type": "code",
   "execution_count": 199,
   "id": "fd4c0aad",
   "metadata": {},
   "outputs": [
    {
     "data": {
      "text/plain": [
       "<re.Match object; span=(0, 5), match='@foo@'>"
      ]
     },
     "execution_count": 199,
     "metadata": {},
     "output_type": "execute_result"
    }
   ],
   "source": [
    "# regex = r'^(?P<ch>\\W)?foo(?(ch)(?P=ch)|)$'\n",
    "\n",
    "re.search(regex,\"@foo@\")\n",
    "# same non-word characher precedes and follows 'foo' As advertised, these matches succeed."
   ]
  },
  {
   "cell_type": "code",
   "execution_count": 201,
   "id": "ddcc884e",
   "metadata": {},
   "outputs": [
    {
     "name": "stdout",
     "output_type": "stream",
     "text": [
      "None\n"
     ]
    }
   ],
   "source": [
    "# regex = r'^(?P<ch>\\W)?foo(?(ch)(?P=ch)|)$'\n",
    "\n",
    "print(re.search(regex, '#foo'))\n",
    "\n",
    "# matches fails "
   ]
  },
  {
   "cell_type": "code",
   "execution_count": 202,
   "id": "fc924af4",
   "metadata": {},
   "outputs": [
    {
     "name": "stdout",
     "output_type": "stream",
     "text": [
      "None\n"
     ]
    }
   ],
   "source": [
    "# regex = r'^(?P<ch>\\W)?foo(?(ch)(?P=ch)|)$'\n",
    "print(re.search(regex, 'foo@'))\n",
    "# matches fails     "
   ]
  },
  {
   "cell_type": "markdown",
   "id": "d596e707",
   "metadata": {},
   "source": [
    "Conditional regexes in Python are pretty esoteric and challenging to work through. If you ever do find a reason to use one, then you could probably accomplish the same goal with multiple separate `re.search()` calls, and your code would be less complicated to read and understand."
   ]
  },
  {
   "cell_type": "markdown",
   "id": "0172569b",
   "metadata": {},
   "source": [
    "## Lookahead and Lookbehind Assertions\n",
    "* **Lookahead** and **lookbehind** assertions determine the success or failure of a regex match in Python based ON what is just `behind (to the left)` or `ahead (to the right)` of the parser’s current position in the search string\n",
    "* Like anchors, lookahead and lookbehind assertions are zero-width assertions, so they don’t consume any of the search string. Also, even though they contain parentheses and perform grouping, they don’t capture what they match."
   ]
  },
  {
   "cell_type": "markdown",
   "id": "39975e40",
   "metadata": {},
   "source": [
    "## `(?=<lookahead_regex>)`\n",
    "\n",
    "Creates a positive lookahead assertion.\n",
    "\n"
   ]
  },
  {
   "cell_type": "markdown",
   "id": "bdfb088c",
   "metadata": {},
   "source": [
    "`(?=<lookahead_regex>)` asserts that what follows the regex parser’s current position must match `<lookahead_regex>`:\n",
    "\n"
   ]
  },
  {
   "cell_type": "code",
   "execution_count": 204,
   "id": "f923bece",
   "metadata": {},
   "outputs": [
    {
     "data": {
      "text/plain": [
       "<re.Match object; span=(0, 3), match='foo'>"
      ]
     },
     "execution_count": 204,
     "metadata": {},
     "output_type": "execute_result"
    }
   ],
   "source": [
    "re.search('foo(?=[a-z])', 'foobar')\n",
    "# lookahead assertion (?=[a-z]) means  string must be lowercase alphabetic character\n",
    "# In this case, it's the character 'b', so a match is found"
   ]
  },
  {
   "cell_type": "markdown",
   "id": "19a05dd0",
   "metadata": {},
   "source": [
    "In the next example, on the other hand, the lookahead fails. The next character after `'foo'` is '1', so there isn’t a match:"
   ]
  },
  {
   "cell_type": "code",
   "execution_count": 206,
   "id": "96807208",
   "metadata": {},
   "outputs": [
    {
     "name": "stdout",
     "output_type": "stream",
     "text": [
      "None\n"
     ]
    }
   ],
   "source": [
    "print(re.search('foo(?=[a-z])', 'foo123'))\n",
    "# foo matches \n",
    "# (?=[a-z]) this condition applied for next character from foo it must be start with any digit "
   ]
  },
  {
   "cell_type": "markdown",
   "id": "7d3a92ee",
   "metadata": {},
   "source": [
    "Here’s another example illustrating how a `lookahead` differs from a conventional regex in Python"
   ]
  },
  {
   "cell_type": "code",
   "execution_count": 210,
   "id": "e7ddff94",
   "metadata": {},
   "outputs": [
    {
     "data": {
      "text/plain": [
       "'b'"
      ]
     },
     "execution_count": 210,
     "metadata": {},
     "output_type": "execute_result"
    }
   ],
   "source": [
    "m = re.search('foo(?=[a-z])(?P<ch>.)', 'foobar')\n",
    "m.group('ch')\n",
    "# foo matches \n",
    "# after foo charaters next character should be lowercase alphabet \n",
    "# also (?P<ch>.) it createds 2 nd group match which given name is ch"
   ]
  },
  {
   "cell_type": "code",
   "execution_count": 212,
   "id": "0b473c28",
   "metadata": {},
   "outputs": [
    {
     "data": {
      "text/plain": [
       "'a'"
      ]
     },
     "execution_count": 212,
     "metadata": {},
     "output_type": "execute_result"
    }
   ],
   "source": [
    "m = re.search('foo([a-z])(?P<ch>.)', 'foobar')\n",
    "m.group('ch')\n"
   ]
  },
  {
   "cell_type": "markdown",
   "id": "572440ff",
   "metadata": {},
   "source": [
    "In the first search, the parser proceeds as follows:\n",
    "\n",
    "1. The first portion of the regex, foo, matches and consumes `'foo'` from the search string 'foobar'.\n",
    "2. The next portion, `(?=[a-z])`, is a lookahead that matches 'b', but the parser doesn’t advance past the 'b'.\n",
    "3. Lastly, `(?P<ch>.)` matches the next single character available, which is 'b', and captures it in a group named ch.\n",
    "\n",
    "<br>The m.group('ch') call confirms that the group named ch contains 'b'."
   ]
  },
  {
   "cell_type": "code",
   "execution_count": 214,
   "id": "b3e84447",
   "metadata": {},
   "outputs": [
    {
     "data": {
      "text/plain": [
       "'a'"
      ]
     },
     "execution_count": 214,
     "metadata": {},
     "output_type": "execute_result"
    }
   ],
   "source": [
    "m = re.search('foo([a-z])(?P<ch>.)', 'foobar')\n",
    "m.group('ch')\n",
    "# it returns a when calling group ch  because we used (?P<ch>.)"
   ]
  },
  {
   "cell_type": "markdown",
   "id": "da522533",
   "metadata": {},
   "source": [
    "Compare that to the search on above cell, which doesn’t contain a lookahead:"
   ]
  },
  {
   "cell_type": "markdown",
   "id": "dc3b65f5",
   "metadata": {},
   "source": [
    "1. As in the first example, the first portion of the regex, `foo`, matches and consumes `'foo'` from the search string 'foobar'.\n",
    "2. The next portion, `([a-z])`, matches and consumes 'b', and the parser advances past 'b'.\n",
    "3. Lastly, `(?P<ch>.)` matches the next single character available, which is now 'a'."
   ]
  },
  {
   "cell_type": "markdown",
   "id": "64977240",
   "metadata": {},
   "source": [
    "m.group('ch') confirms that, in this case, the group named ch contains 'a'."
   ]
  },
  {
   "cell_type": "markdown",
   "id": "716d5da5",
   "metadata": {},
   "source": [
    "## `(?!<lookahead_regex>)`\n",
    "\n",
    "Creates a negative lookahead assertion.\n",
    "\n"
   ]
  },
  {
   "cell_type": "markdown",
   "id": "57da37d5",
   "metadata": {},
   "source": [
    "`(?!<lookahead_regex>)` asserts that what follows the regex parser’s current position must not match `<lookahead_regex>`."
   ]
  },
  {
   "cell_type": "code",
   "execution_count": 216,
   "id": "0096bb2b",
   "metadata": {},
   "outputs": [
    {
     "data": {
      "text/plain": [
       "<re.Match object; span=(0, 3), match='foo'>"
      ]
     },
     "execution_count": 216,
     "metadata": {},
     "output_type": "execute_result"
    }
   ],
   "source": [
    "# Here are the positive lookahead examples you saw earlier, \n",
    "# along with their negative lookahead counterparts:\n",
    "re.search('foo(?=[a-z])', 'foobar')\n",
    "#?= (positive lookahead)"
   ]
  },
  {
   "cell_type": "code",
   "execution_count": 218,
   "id": "f26a1ac6",
   "metadata": {},
   "outputs": [
    {
     "name": "stdout",
     "output_type": "stream",
     "text": [
      "None\n"
     ]
    }
   ],
   "source": [
    "print(re.search('foo(?![a-z])', 'foobar'))\n",
    "# ?!  (negative lookahead)\n",
    "# it does not match because lookahead negative lookahead assertions on"
   ]
  },
  {
   "cell_type": "code",
   "execution_count": 219,
   "id": "95b22523",
   "metadata": {},
   "outputs": [
    {
     "name": "stdout",
     "output_type": "stream",
     "text": [
      "None\n"
     ]
    }
   ],
   "source": [
    "print(re.search('foo(?=[a-z])', 'foo123'))\n",
    "# ?= (positive lookahead)\n",
    "# reason - needs to match lowercase alphabets does not match"
   ]
  },
  {
   "cell_type": "code",
   "execution_count": 220,
   "id": "bdce911f",
   "metadata": {},
   "outputs": [
    {
     "data": {
      "text/plain": [
       "<re.Match object; span=(0, 3), match='foo'>"
      ]
     },
     "execution_count": 220,
     "metadata": {},
     "output_type": "execute_result"
    }
   ],
   "source": [
    "re.search('foo(?![a-z])', 'foo123')\n",
    "# ?!  (negative lookahead)\n",
    "# reason - it does not match because lookahead negative lookahead assertions on lowercase alphabets  "
   ]
  },
  {
   "cell_type": "markdown",
   "id": "cf094ee9",
   "metadata": {},
   "source": [
    "## `(?<=<lookbehind_regex>)`\n",
    "\n",
    "Creates a positive lookbehind assertion."
   ]
  },
  {
   "cell_type": "markdown",
   "id": "f728896d",
   "metadata": {},
   "source": [
    "`(?<=<lookbehind_regex>)` asserts that what precedes the regex parser’s current position must match `<lookbehind_regex>`."
   ]
  },
  {
   "cell_type": "markdown",
   "id": "151830c5",
   "metadata": {},
   "source": [
    "In the following example, the lookbehind assertion specifies that `'foo'` must precede `'bar'`:"
   ]
  },
  {
   "cell_type": "code",
   "execution_count": 222,
   "id": "622d8f52",
   "metadata": {},
   "outputs": [
    {
     "data": {
      "text/plain": [
       "<re.Match object; span=(3, 6), match='bar'>"
      ]
     },
     "execution_count": 222,
     "metadata": {},
     "output_type": "execute_result"
    }
   ],
   "source": [
    "re.search('(?<=foo)bar', 'foobar')\n",
    "#?<= this is for lookbehind"
   ]
  },
  {
   "cell_type": "markdown",
   "id": "bace4bca",
   "metadata": {},
   "source": [
    "This is the case here, so the match succeeds. As with lookahead assertions, the part of the search string that matches the lookbehind doesn’t become part of the eventual match."
   ]
  },
  {
   "cell_type": "markdown",
   "id": "97a6694b",
   "metadata": {},
   "source": [
    "The next example fails to match because the lookbehind requires that `'qux'` precede `'bar'`:"
   ]
  },
  {
   "cell_type": "code",
   "execution_count": 223,
   "id": "28691173",
   "metadata": {},
   "outputs": [
    {
     "name": "stdout",
     "output_type": "stream",
     "text": [
      "None\n"
     ]
    }
   ],
   "source": [
    "print(re.search('(?<=qux)bar', 'foobar'))\n",
    "# example fails to match because the lookbehind requires that 'qux' precede 'bar':"
   ]
  },
  {
   "cell_type": "code",
   "execution_count": 225,
   "id": "4faf3b84",
   "metadata": {},
   "outputs": [
    {
     "name": "stdout",
     "output_type": "stream",
     "text": [
      "None\n"
     ]
    }
   ],
   "source": [
    "print(re.search('(?<=qux)bar', 'foobar'))\n"
   ]
  },
  {
   "cell_type": "markdown",
   "id": "5a43e2e1",
   "metadata": {},
   "source": [
    "* There’s a restriction on lookbehind assertions that doesn’t apply to lookahead assertions.\n",
    "* The <lookbehind_regex> in a lookbehind assertion must specify a match of fixed length."
   ]
  },
  {
   "cell_type": "markdown",
   "id": "71aca5f5",
   "metadata": {},
   "source": [
    "For example, the following isn’t allowed because the length of the string matched by a+ is indeterminate:"
   ]
  },
  {
   "cell_type": "code",
   "execution_count": 228,
   "id": "d82ec80a",
   "metadata": {},
   "outputs": [],
   "source": [
    "#re.search('(?<=a+)def', 'aaadef')\n",
    "# this will shows error because re.search('(?<=a+)def', 'aaadef')\n",
    "# error: look-behind requires fixed-width pattern\n",
    "# this means a+ require exactly one occurance "
   ]
  },
  {
   "cell_type": "markdown",
   "id": "334e6199",
   "metadata": {},
   "source": [
    "This, however, is okay:\n",
    "\n"
   ]
  },
  {
   "cell_type": "code",
   "execution_count": null,
   "id": "e08fcc27",
   "metadata": {},
   "outputs": [],
   "source": [
    "re.search('(?<=a{3})def', 'aaadef')\n",
    "# Anything that matches a{3} will have a fixed length of three, \n",
    "# a{3} is valid in a lookbehind assertion."
   ]
  },
  {
   "cell_type": "markdown",
   "id": "f42c1e07",
   "metadata": {},
   "source": [
    "# `(?<!--<lookbehind_regex-->)`\n",
    "\n",
    "Creates a negative lookbehind assertion."
   ]
  },
  {
   "cell_type": "markdown",
   "id": "465dbb41",
   "metadata": {},
   "source": [
    "`(?<!--<lookbehind_regex-->)` asserts that what precedes the regex parser’s current position must not match `<lookbehind_regex>`:"
   ]
  },
  {
   "cell_type": "code",
   "execution_count": 230,
   "id": "98071c2e",
   "metadata": {},
   "outputs": [
    {
     "name": "stdout",
     "output_type": "stream",
     "text": [
      "None\n"
     ]
    }
   ],
   "source": [
    "print(re.search('(?<!foo)bar', 'foobar'))"
   ]
  },
  {
   "cell_type": "code",
   "execution_count": 231,
   "id": "c7431ea9",
   "metadata": {},
   "outputs": [
    {
     "data": {
      "text/plain": [
       "<re.Match object; span=(3, 6), match='bar'>"
      ]
     },
     "execution_count": 231,
     "metadata": {},
     "output_type": "execute_result"
    }
   ],
   "source": [
    "re.search('(?<!qux)bar', 'foobar')"
   ]
  },
  {
   "cell_type": "markdown",
   "id": "585c7199",
   "metadata": {},
   "source": [
    "As with the positive lookbehind assertion, `<lookbehind_regex>` must specify a match of fixed length."
   ]
  },
  {
   "cell_type": "markdown",
   "id": "29b444d2",
   "metadata": {},
   "source": [
    "## Miscellaneous Metacharacters\n",
    "There are a couple more metacharacter sequences to cover. These are stray metacharacters that don’t obviously fall into any of the categories already discussed."
   ]
  },
  {
   "cell_type": "markdown",
   "id": "52e6e806",
   "metadata": {},
   "source": [
    "## `(?#...)`\n",
    "Specifies a comment."
   ]
  },
  {
   "cell_type": "markdown",
   "id": "96038e35",
   "metadata": {},
   "source": [
    "The regex parser ignores anything contained in the sequence (?#...):"
   ]
  },
  {
   "cell_type": "code",
   "execution_count": 232,
   "id": "770f7fc7",
   "metadata": {},
   "outputs": [
    {
     "data": {
      "text/plain": [
       "<re.Match object; span=(4, 11), match='bar baz'>"
      ]
     },
     "execution_count": 232,
     "metadata": {},
     "output_type": "execute_result"
    }
   ],
   "source": [
    "re.search('bar(?#This is a comment) *baz', 'foo bar baz qux')\n",
    "# ?#  will allows to documentation inside a regex in python"
   ]
  },
  {
   "cell_type": "markdown",
   "id": "304fc7c0",
   "metadata": {},
   "source": [
    "This allows you to specify documentation inside a regex in Python, which can be especially useful if the regex is particularly long."
   ]
  },
  {
   "cell_type": "markdown",
   "id": "0f36918a",
   "metadata": {},
   "source": [
    "## Vertical bar, or pipe `(|)`\n",
    "Specifies a set of alternatives on which to match."
   ]
  },
  {
   "cell_type": "markdown",
   "id": "5a4df393",
   "metadata": {},
   "source": [
    "An expression of the form `<regex1>|<regex2>|...|<regexn>` matches at most one of the specified `<regexi>` expressions:\n",
    "\n"
   ]
  },
  {
   "cell_type": "code",
   "execution_count": 233,
   "id": "f072586b",
   "metadata": {},
   "outputs": [
    {
     "data": {
      "text/plain": [
       "<re.Match object; span=(0, 3), match='bar'>"
      ]
     },
     "execution_count": 233,
     "metadata": {},
     "output_type": "execute_result"
    }
   ],
   "source": [
    "re.search('foo|bar|baz', 'bar')\n",
    "# `|` == Here, foo|bar|baz will match any of 'foo', 'bar', or 'baz'"
   ]
  },
  {
   "cell_type": "code",
   "execution_count": 234,
   "id": "d9565098",
   "metadata": {},
   "outputs": [
    {
     "data": {
      "text/plain": [
       "<re.Match object; span=(0, 3), match='baz'>"
      ]
     },
     "execution_count": 234,
     "metadata": {},
     "output_type": "execute_result"
    }
   ],
   "source": [
    "re.search('foo|bar|baz', 'baz')\n",
    "# `|` == Here, foo|bar|baz will match any of 'foo', 'bar', or 'baz'"
   ]
  },
  {
   "cell_type": "code",
   "execution_count": 235,
   "id": "49e6faee",
   "metadata": {},
   "outputs": [
    {
     "name": "stdout",
     "output_type": "stream",
     "text": [
      "None\n"
     ]
    }
   ],
   "source": [
    "print(re.search('foo|bar|baz', 'quux'))\n",
    "# `|` == Here, foo|bar|baz will match any of 'foo', 'bar', or 'baz'# "
   ]
  },
  {
   "cell_type": "markdown",
   "id": "7bf61159",
   "metadata": {},
   "source": [
    "Alternation is `non-greedy`. The regex parser `looks` at the `expressions separated` by `|` in `left-to-right` order and returns the `first match` that it finds. The `remaining expressions aren’t tested`, `even if one of them would produce a longer match`:"
   ]
  },
  {
   "cell_type": "code",
   "execution_count": 236,
   "id": "51b46753",
   "metadata": {},
   "outputs": [
    {
     "data": {
      "text/plain": [
       "<re.Match object; span=(0, 3), match='foo'>"
      ]
     },
     "execution_count": 236,
     "metadata": {},
     "output_type": "execute_result"
    }
   ],
   "source": [
    "# i.e \n",
    "re.search('foo', 'foograult')\n",
    "# foo matches in search"
   ]
  },
  {
   "cell_type": "code",
   "execution_count": 237,
   "id": "c7ae26b9",
   "metadata": {},
   "outputs": [
    {
     "data": {
      "text/plain": [
       "<re.Match object; span=(3, 9), match='grault'>"
      ]
     },
     "execution_count": 237,
     "metadata": {},
     "output_type": "execute_result"
    }
   ],
   "source": [
    "re.search('grault', 'foograult')\n",
    "# grault matches "
   ]
  },
  {
   "cell_type": "code",
   "execution_count": 239,
   "id": "92143ec6",
   "metadata": {},
   "outputs": [
    {
     "data": {
      "text/plain": [
       "<re.Match object; span=(0, 3), match='foo'>"
      ]
     },
     "execution_count": 239,
     "metadata": {},
     "output_type": "execute_result"
    }
   ],
   "source": [
    "re.search('foo|grault', 'foograult')\n",
    "# in regex parser 'foo|grault' finds the first first match (foo) in string 'foograult'\n",
    "# hence it will terminate serach"
   ]
  },
  {
   "cell_type": "code",
   "execution_count": 241,
   "id": "d85a80ef",
   "metadata": {},
   "outputs": [
    {
     "data": {
      "text/plain": [
       "<re.Match object; span=(0, 6), match='grault'>"
      ]
     },
     "execution_count": 241,
     "metadata": {},
     "output_type": "execute_result"
    }
   ],
   "source": [
    "re.search('foo|grault', 'graultfoo')\n",
    "# for understanding "
   ]
  },
  {
   "cell_type": "markdown",
   "id": "c72bd055",
   "metadata": {},
   "source": [
    "You can combine alternation, grouping, and any other metacharacters to achieve whatever level of complexity you need. In the following example, `(foo|bar|baz)+` means a sequence of one or more of the strings `'foo'`, `'bar'`, or `'baz'`:"
   ]
  },
  {
   "cell_type": "code",
   "execution_count": 242,
   "id": "0b39023b",
   "metadata": {},
   "outputs": [
    {
     "data": {
      "text/plain": [
       "<re.Match object; span=(0, 9), match='foofoofoo'>"
      ]
     },
     "execution_count": 242,
     "metadata": {},
     "output_type": "execute_result"
    }
   ],
   "source": [
    "re.search('(foo|bar|baz)+', 'foofoofoo')\n",
    "# repetitive matches occures at single group\n",
    "# + means extacly one group\n",
    "# here is only one group because string not seperated by ,"
   ]
  },
  {
   "cell_type": "code",
   "execution_count": 243,
   "id": "5d073fb1",
   "metadata": {},
   "outputs": [
    {
     "data": {
      "text/plain": [
       "<re.Match object; span=(0, 12), match='bazbazbazbaz'>"
      ]
     },
     "execution_count": 243,
     "metadata": {},
     "output_type": "execute_result"
    }
   ],
   "source": [
    "re.search('(foo|bar|baz)+', 'bazbazbazbaz')\n",
    "# repetitive matches occures at single group\n",
    "# + means extacly one group\n",
    "# here is only one group because string not seperated by ,"
   ]
  },
  {
   "cell_type": "code",
   "execution_count": 244,
   "id": "2677eace",
   "metadata": {},
   "outputs": [
    {
     "data": {
      "text/plain": [
       "<re.Match object; span=(0, 12), match='bazbazbazbaz'>"
      ]
     },
     "execution_count": 244,
     "metadata": {},
     "output_type": "execute_result"
    }
   ],
   "source": [
    "re.search('(foo|bar|baz)+', 'bazbazbazbaz')\n",
    "# repetitive matches occures at single group\n",
    "# + means extacly one group\n",
    "# here is only one group because string not seperated by ,"
   ]
  },
  {
   "cell_type": "markdown",
   "id": "f8562785",
   "metadata": {},
   "source": [
    "In the next example, `([0-9]+|[a-f]+)` means a sequence of one or more decimal digit characters or a sequence of one or more of the characters `'a-f'`:"
   ]
  },
  {
   "cell_type": "code",
   "execution_count": 245,
   "id": "2dab228c",
   "metadata": {},
   "outputs": [
    {
     "data": {
      "text/plain": [
       "<re.Match object; span=(0, 3), match='456'>"
      ]
     },
     "execution_count": 245,
     "metadata": {},
     "output_type": "execute_result"
    }
   ],
   "source": [
    "re.search('([0-9]+|[a-f]+)', '456')\n",
    "# it searches digits or alphabets range between a to f"
   ]
  },
  {
   "cell_type": "code",
   "execution_count": 247,
   "id": "82982c5b",
   "metadata": {},
   "outputs": [
    {
     "data": {
      "text/plain": [
       "<re.Match object; span=(0, 4), match='ffda'>"
      ]
     },
     "execution_count": 247,
     "metadata": {},
     "output_type": "execute_result"
    }
   ],
   "source": [
    "re.search('([0-9]+|[a-f]+)', 'ffda')\n",
    "# it searches digits or alphabets range between a to f"
   ]
  },
  {
   "cell_type": "markdown",
   "id": "a45913bc",
   "metadata": {},
   "source": [
    "With all the metacharacters that the re module supports, the sky is practically the limit."
   ]
  },
  {
   "cell_type": "markdown",
   "id": "f49916d8",
   "metadata": {},
   "source": [
    "# Modified Regular Expression Matching With Flags"
   ]
  },
  {
   "cell_type": "markdown",
   "id": "b9d6f141",
   "metadata": {},
   "source": [
    "Most of the functions in the re module take an optional `<flags>` argument. This includes the function you’re now very familiar with, `re.search()`."
   ]
  },
  {
   "cell_type": "markdown",
   "id": "338e5bad",
   "metadata": {},
   "source": [
    "## `re.search(<regex>, <string>, <flags>)`\n",
    "\n",
    "Scans a string for a regex match, applying the specified modifier `<flags>`."
   ]
  },
  {
   "cell_type": "markdown",
   "id": "5ad301be",
   "metadata": {},
   "source": [
    "Flags modify regex parsing behavior, allowing you to refine your pattern matching even further."
   ]
  },
  {
   "cell_type": "markdown",
   "id": "af0b6c7c",
   "metadata": {},
   "source": [
    "## Supported Regular Expression Flags"
   ]
  },
  {
   "cell_type": "markdown",
   "id": "0f5614a4",
   "metadata": {},
   "source": [
    "The table below briefly summarizes the available flags. All flags except `re.DEBUG` have a short, single-letter name and also a longer, full-word name:"
   ]
  },
  {
   "cell_type": "markdown",
   "id": "330507d8",
   "metadata": {},
   "source": [
    "## `re.I`\n",
    "## `re.IGNORECASE`\n",
    "\n",
    "Makes matching case insensitive."
   ]
  },
  {
   "cell_type": "markdown",
   "id": "2ee5489e",
   "metadata": {},
   "source": [
    "When `IGNORECASE` is in effect, character matching is case insensitive:"
   ]
  },
  {
   "cell_type": "code",
   "execution_count": 250,
   "id": "efe1b973",
   "metadata": {},
   "outputs": [
    {
     "data": {
      "text/plain": [
       "<re.Match object; span=(0, 3), match='aaa'>"
      ]
     },
     "execution_count": 250,
     "metadata": {},
     "output_type": "execute_result"
    }
   ],
   "source": [
    "re.search('a+', 'aaaAAA')\n",
    "# a+ used for matches character 'a' morethan 1 times"
   ]
  },
  {
   "cell_type": "code",
   "execution_count": 251,
   "id": "cfe8ec56",
   "metadata": {},
   "outputs": [
    {
     "data": {
      "text/plain": [
       "<re.Match object; span=(3, 6), match='AAA'>"
      ]
     },
     "execution_count": 251,
     "metadata": {},
     "output_type": "execute_result"
    }
   ],
   "source": [
    "re.search('A+', 'aaaAAA')\n",
    "# A+ used for matches character 'A' morethan 1 times"
   ]
  },
  {
   "cell_type": "code",
   "execution_count": 253,
   "id": "39d02d56",
   "metadata": {},
   "outputs": [
    {
     "data": {
      "text/plain": [
       "<re.Match object; span=(0, 6), match='aaaAAA'>"
      ]
     },
     "execution_count": 253,
     "metadata": {},
     "output_type": "execute_result"
    }
   ],
   "source": [
    "re.search('a+', 'aaaAAA', re.I)\n",
    "# re.I means ignore a+ "
   ]
  },
  {
   "cell_type": "code",
   "execution_count": 256,
   "id": "1f53332c",
   "metadata": {},
   "outputs": [
    {
     "data": {
      "text/plain": [
       "<re.Match object; span=(0, 6), match='aaaAAA'>"
      ]
     },
     "execution_count": 256,
     "metadata": {},
     "output_type": "execute_result"
    }
   ],
   "source": [
    "re.search('A+', 'aaaAAA',re.IGNORECASE )\n",
    "# re.IGNORECASE it is same as re.I\n",
    "# it ignores A+ which is AAA"
   ]
  },
  {
   "cell_type": "markdown",
   "id": "de12ff86",
   "metadata": {},
   "source": [
    "`IGNORECASE` affects alphabetic matching involving character classes as well:"
   ]
  },
  {
   "cell_type": "code",
   "execution_count": 257,
   "id": "f01a22aa",
   "metadata": {},
   "outputs": [
    {
     "data": {
      "text/plain": [
       "<re.Match object; span=(0, 1), match='a'>"
      ]
     },
     "execution_count": 257,
     "metadata": {},
     "output_type": "execute_result"
    }
   ],
   "source": [
    "re.search('[a-z]+', 'aBcDeF')\n",
    "# [a-z]+ means exacly one lowercase alphabet"
   ]
  },
  {
   "cell_type": "code",
   "execution_count": 259,
   "id": "08b2d41a",
   "metadata": {},
   "outputs": [
    {
     "data": {
      "text/plain": [
       "<re.Match object; span=(0, 6), match='aBcDeF'>"
      ]
     },
     "execution_count": 259,
     "metadata": {},
     "output_type": "execute_result"
    }
   ],
   "source": [
    "re.search('[a-z]+', 'aBcDeF', re.I)\n",
    "# re.I ignores which has to shows [a-z]+ exactaly one character  "
   ]
  },
  {
   "cell_type": "markdown",
   "id": "33369172",
   "metadata": {},
   "source": [
    "When case is significant, the longest portion of `'aBcDeF'`\n",
    "that `[a-z]+` matches is just the initial `'a'`. Specifying re.I makes the search case insensitive, so `[a-z]+` matches the entire string."
   ]
  },
  {
   "cell_type": "markdown",
   "id": "35831539",
   "metadata": {},
   "source": [
    "## `re.M`\n",
    "## `re.MULTILINE`\n",
    "\n",
    "Causes start-of-string and end-of-string anchors to match at embedded newlines."
   ]
  },
  {
   "cell_type": "markdown",
   "id": "b0532549",
   "metadata": {},
   "source": [
    "By default, the `^ (start-of-string)` and `$ (end-of-string)` anchors match only at the beginning and end of the search string:"
   ]
  },
  {
   "cell_type": "code",
   "execution_count": 261,
   "id": "614f0d89",
   "metadata": {},
   "outputs": [],
   "source": [
    "# ^ start of the string\n",
    "# $ end of the string"
   ]
  },
  {
   "cell_type": "code",
   "execution_count": 262,
   "id": "3de21baf",
   "metadata": {},
   "outputs": [],
   "source": [
    "s = 'foo\\nbar\\nbaz'"
   ]
  },
  {
   "cell_type": "code",
   "execution_count": 264,
   "id": "06d37e21",
   "metadata": {},
   "outputs": [
    {
     "name": "stdout",
     "output_type": "stream",
     "text": [
      "foo\n",
      "bar\n",
      "baz\n"
     ]
    }
   ],
   "source": [
    "print(s)"
   ]
  },
  {
   "cell_type": "code",
   "execution_count": 267,
   "id": "38739853",
   "metadata": {},
   "outputs": [
    {
     "data": {
      "text/plain": [
       "<re.Match object; span=(0, 3), match='foo'>"
      ]
     },
     "execution_count": 267,
     "metadata": {},
     "output_type": "execute_result"
    }
   ],
   "source": [
    "re.search('^foo', s)"
   ]
  },
  {
   "cell_type": "code",
   "execution_count": 269,
   "id": "b6f27876",
   "metadata": {},
   "outputs": [
    {
     "name": "stdout",
     "output_type": "stream",
     "text": [
      "None\n"
     ]
    }
   ],
   "source": [
    "print(re.search('^bar', s))\n",
    "# ^bar regex does not find bar at start of the string \n",
    "# ^bar is it an second line"
   ]
  },
  {
   "cell_type": "code",
   "execution_count": 271,
   "id": "b2efc17a",
   "metadata": {},
   "outputs": [
    {
     "name": "stdout",
     "output_type": "stream",
     "text": [
      "None\n"
     ]
    }
   ],
   "source": [
    " print(re.search('^baz', s))\n",
    "# '^baz' regex does not find 'baz' at start of the string \n",
    "# '^baz' is it an second line"
   ]
  },
  {
   "cell_type": "code",
   "execution_count": 273,
   "id": "a7aabbfb",
   "metadata": {},
   "outputs": [
    {
     "name": "stdout",
     "output_type": "stream",
     "text": [
      "<re.Match object; span=(8, 11), match='baz'>\n"
     ]
    }
   ],
   "source": [
    " print(re.search('baz$', s))"
   ]
  },
  {
   "cell_type": "markdown",
   "id": "64c3cbbd",
   "metadata": {},
   "source": [
    "In this case, even though the search string `'foo\\nbar\\nbaz'` contains embedded newline characters, only `'foo'` matches when `anchored at the beginning of the string`, and only `'baz' matches when anchored at the end.`"
   ]
  },
  {
   "cell_type": "markdown",
   "id": "29797c8d",
   "metadata": {},
   "source": [
    "* `^` matches at the `beginning of the string` or at the `beginning of any line` within the `string` (that is, immediately following a newline).\n",
    "* `$` matches at the `end of the string` or at the `end of any line within` the `string` (immediately preceding a newline)."
   ]
  },
  {
   "cell_type": "code",
   "execution_count": 277,
   "id": "b2c7de79",
   "metadata": {},
   "outputs": [
    {
     "name": "stdout",
     "output_type": "stream",
     "text": [
      "foo\n",
      "bar\n",
      "baz\n"
     ]
    }
   ],
   "source": [
    "#The following are the same searches as shown above:\n",
    "s = 'foo\\nbar\\nbaz'\n",
    "print(s)"
   ]
  },
  {
   "cell_type": "code",
   "execution_count": 275,
   "id": "b4ef111c",
   "metadata": {},
   "outputs": [
    {
     "data": {
      "text/plain": [
       "<re.Match object; span=(0, 3), match='foo'>"
      ]
     },
     "execution_count": 275,
     "metadata": {},
     "output_type": "execute_result"
    }
   ],
   "source": [
    "# sames search \n",
    "re.search('^foo', s, re.MULTILINE)"
   ]
  },
  {
   "cell_type": "code",
   "execution_count": 276,
   "id": "91048d09",
   "metadata": {},
   "outputs": [
    {
     "data": {
      "text/plain": [
       "<re.Match object; span=(4, 7), match='bar'>"
      ]
     },
     "execution_count": 276,
     "metadata": {},
     "output_type": "execute_result"
    }
   ],
   "source": [
    "# sames search \n",
    "re.search('^bar', s, re.MULTILINE)\n",
    "# bar is at the first character in Second line in s string\n",
    "\n",
    "# as because of re.MULTILINE it detects linewise first character"
   ]
  },
  {
   "cell_type": "code",
   "execution_count": 278,
   "id": "64df02a8",
   "metadata": {},
   "outputs": [
    {
     "data": {
      "text/plain": [
       "<re.Match object; span=(8, 11), match='baz'>"
      ]
     },
     "execution_count": 278,
     "metadata": {},
     "output_type": "execute_result"
    }
   ],
   "source": [
    "re.search('^baz', s, re.MULTILINE)\n",
    "# baz is at the fist character in third line in s string\n",
    "# as because of re.MULTILINE it detects linewise first character"
   ]
  },
  {
   "cell_type": "code",
   "execution_count": 279,
   "id": "fbc2a72b",
   "metadata": {},
   "outputs": [
    {
     "data": {
      "text/plain": [
       "<re.Match object; span=(0, 3), match='foo'>"
      ]
     },
     "execution_count": 279,
     "metadata": {},
     "output_type": "execute_result"
    }
   ],
   "source": [
    "re.search('foo$', s, re.M)\n",
    "# re.M is same as the re.MULTILINE\n",
    "# $ detects the last word in string\n",
    "# foo is the last word in 1st line"
   ]
  },
  {
   "cell_type": "code",
   "execution_count": 280,
   "id": "87b2f453",
   "metadata": {},
   "outputs": [
    {
     "data": {
      "text/plain": [
       "<re.Match object; span=(4, 7), match='bar'>"
      ]
     },
     "execution_count": 280,
     "metadata": {},
     "output_type": "execute_result"
    }
   ],
   "source": [
    "re.search('bar$', s, re.M)\n",
    "# re.M is same as the re.MULTILINE\n",
    "# $ detects the last word in string\n",
    "# bar is the last word in 2nd line"
   ]
  },
  {
   "cell_type": "code",
   "execution_count": 281,
   "id": "4c7ca189",
   "metadata": {},
   "outputs": [
    {
     "data": {
      "text/plain": [
       "<re.Match object; span=(8, 11), match='baz'>"
      ]
     },
     "execution_count": 281,
     "metadata": {},
     "output_type": "execute_result"
    }
   ],
   "source": [
    "re.search('baz$', s, re.M)\n",
    "# re.M is same as the re.MULTILINE\n",
    "# $ detects the last word in string\n",
    "# baz is the last word in 3nd line"
   ]
  },
  {
   "cell_type": "markdown",
   "id": "1882f14a",
   "metadata": {},
   "source": [
    "In the string 'foo\\nbar\\nbaz', all three of `'foo'`, '`bar'`, and `'baz'` occur at either the start or end of the string or at the start or end of a line within the string. With the MULTILINE flag set, all three match when anchored with either `^` or `$`."
   ]
  },
  {
   "cell_type": "markdown",
   "id": "df40eefc",
   "metadata": {},
   "source": [
    "**Note:** The MULTILINE flag only modifies the ^ and $ anchors in this way. It doesn’t have any effect on the \\A and \\Z anchors:"
   ]
  },
  {
   "cell_type": "code",
   "execution_count": 283,
   "id": "2039a185",
   "metadata": {},
   "outputs": [
    {
     "name": "stdout",
     "output_type": "stream",
     "text": [
      "foo\n",
      "bar\n",
      "baz\n"
     ]
    }
   ],
   "source": [
    "s = 'foo\\nbar\\nbaz'\n",
    "print(s)"
   ]
  },
  {
   "cell_type": "code",
   "execution_count": 284,
   "id": "3041235e",
   "metadata": {},
   "outputs": [
    {
     "data": {
      "text/plain": [
       "<re.Match object; span=(4, 7), match='bar'>"
      ]
     },
     "execution_count": 284,
     "metadata": {},
     "output_type": "execute_result"
    }
   ],
   "source": [
    " re.search('^bar', s, re.MULTILINE)"
   ]
  },
  {
   "cell_type": "code",
   "execution_count": 285,
   "id": "d490e68f",
   "metadata": {},
   "outputs": [
    {
     "data": {
      "text/plain": [
       "<re.Match object; span=(4, 7), match='bar'>"
      ]
     },
     "execution_count": 285,
     "metadata": {},
     "output_type": "execute_result"
    }
   ],
   "source": [
    "re.search('bar$', s, re.MULTILINE)"
   ]
  },
  {
   "cell_type": "code",
   "execution_count": 286,
   "id": "e3f491f6",
   "metadata": {},
   "outputs": [
    {
     "name": "stdout",
     "output_type": "stream",
     "text": [
      "None\n"
     ]
    }
   ],
   "source": [
    "print(re.search('\\Abar', s, re.MULTILINE))\n",
    "# \\A only matches at the beginning of the ENTIRE text\n",
    "# these matches fail even with the MULTILINE flag in effect."
   ]
  },
  {
   "cell_type": "code",
   "execution_count": 288,
   "id": "db7c3822",
   "metadata": {},
   "outputs": [
    {
     "name": "stdout",
     "output_type": "stream",
     "text": [
      "None\n"
     ]
    }
   ],
   "source": [
    "print(re.search('bar\\Z', s, re.MULTILINE))\n",
    "# \\Z only matches at the beginning of the ENTIRE text\n",
    "# these matches fail even with the MULTILINE flag in effect."
   ]
  },
  {
   "cell_type": "markdown",
   "id": "782492f5",
   "metadata": {},
   "source": [
    "## `re.S`\n",
    "## `re.DOTALL`\n",
    "Causes the dot (.) metacharacter to match a newline."
   ]
  },
  {
   "cell_type": "markdown",
   "id": "0736a02a",
   "metadata": {},
   "source": [
    "Remember that by default, the dot metacharacter matches any character except the newline character. The `DOTALL` flag lifts this restriction:"
   ]
  },
  {
   "cell_type": "code",
   "execution_count": 290,
   "id": "77ef1bad",
   "metadata": {},
   "outputs": [
    {
     "name": "stdout",
     "output_type": "stream",
     "text": [
      "None\n"
     ]
    }
   ],
   "source": [
    "#ie. 1\n",
    "print(re.search('foo.bar', 'foo\\nbar'))\n",
    "# . does not matches new line character\n",
    "# . is used for any unknown characters her \\n is unknown in regex"
   ]
  },
  {
   "cell_type": "code",
   "execution_count": 293,
   "id": "628318dd",
   "metadata": {},
   "outputs": [
    {
     "data": {
      "text/plain": [
       "<re.Match object; span=(0, 7), match='foo\\nbar'>"
      ]
     },
     "execution_count": 293,
     "metadata": {},
     "output_type": "execute_result"
    }
   ],
   "source": [
    "#ie. 2\n",
    "# to overcome the multiline dot issue used re.DOTALL\n",
    "re.search('foo.bar', 'foo\\nbar', re.DOTALL)\n",
    "# re.DOTALL matches \\n by the . "
   ]
  },
  {
   "cell_type": "code",
   "execution_count": 294,
   "id": "398e5a7e",
   "metadata": {},
   "outputs": [
    {
     "data": {
      "text/plain": [
       "<re.Match object; span=(0, 7), match='foo\\nbar'>"
      ]
     },
     "execution_count": 294,
     "metadata": {},
     "output_type": "execute_result"
    }
   ],
   "source": [
    "#ie. 3\n",
    "re.search('foo.bar', 'foo\\nbar', re.S)\n",
    "# re.S is the alternative of the re.DOTALL"
   ]
  },
  {
   "cell_type": "markdown",
   "id": "1b936491",
   "metadata": {},
   "source": [
    "* In this example, on example 1 the dot metacharacter doesn’t match the newline in `'foo\\nbar'`.\n",
    "* On example 3 and 5, DOTALL is in effect, so the dot does match the newline. Note that the short name of the DOTALL flag is re.S, not re.D as you might expect."
   ]
  },
  {
   "cell_type": "markdown",
   "id": "412f8455",
   "metadata": {},
   "source": [
    "## `re.X`\n",
    "## `re.VERBOSE`\n",
    "\n",
    "Allows inclusion of whitespace and comments within a regex."
   ]
  },
  {
   "cell_type": "markdown",
   "id": "38138002",
   "metadata": {},
   "source": [
    "The VERBOSE flag specifies a few special behaviors:\n",
    "* The regex parser ignores all whitespace unless it’s within a character class or escaped with a backslash.\n",
    "* If the regex contains a # character that isn’t contained within a character class or escaped with a backslash, then the parser ignores it and all characters to the right of it."
   ]
  },
  {
   "cell_type": "markdown",
   "id": "d5a502ff",
   "metadata": {},
   "source": [
    "What’s the use of this? It allows you to format a regex in Python so that it’s more readable and self-documenting."
   ]
  },
  {
   "cell_type": "markdown",
   "id": "3581b3aa",
   "metadata": {},
   "source": [
    "Here’s an example showing how you might put this to use. Suppose you want to parse phone numbers that have the following format:"
   ]
  },
  {
   "cell_type": "markdown",
   "id": "96175e01",
   "metadata": {},
   "source": [
    "* Optional three-digit area code, in parentheses\n",
    "* Optional whitespace\n",
    "* Three-digit prefix\n",
    "* Separator (either '-' or '.')\n",
    "* Four-digit line number"
   ]
  },
  {
   "cell_type": "markdown",
   "id": "5d1fd557",
   "metadata": {},
   "source": [
    "The following regex does the trick:"
   ]
  },
  {
   "cell_type": "code",
   "execution_count": 295,
   "id": "df0e7e57",
   "metadata": {},
   "outputs": [],
   "source": [
    "regex = r'^(\\(\\d{3}\\))?\\s*\\d{3}[-.]\\d{4}$'\n",
    "# it is an eyeful and much more complex to see "
   ]
  },
  {
   "cell_type": "code",
   "execution_count": 296,
   "id": "e774ea62",
   "metadata": {},
   "outputs": [
    {
     "data": {
      "text/plain": [
       "<re.Match object; span=(0, 8), match='414.9229'>"
      ]
     },
     "execution_count": 296,
     "metadata": {},
     "output_type": "execute_result"
    }
   ],
   "source": [
    "re.search(regex, '414.9229')"
   ]
  },
  {
   "cell_type": "code",
   "execution_count": 297,
   "id": "a6fb47d5",
   "metadata": {},
   "outputs": [
    {
     "data": {
      "text/plain": [
       "<re.Match object; span=(0, 8), match='414-9229'>"
      ]
     },
     "execution_count": 297,
     "metadata": {},
     "output_type": "execute_result"
    }
   ],
   "source": [
    "re.search(regex, '414-9229')"
   ]
  },
  {
   "cell_type": "code",
   "execution_count": 298,
   "id": "1596ec7b",
   "metadata": {},
   "outputs": [
    {
     "data": {
      "text/plain": [
       "<re.Match object; span=(0, 13), match='(712)414-9229'>"
      ]
     },
     "execution_count": 298,
     "metadata": {},
     "output_type": "execute_result"
    }
   ],
   "source": [
    "re.search(regex, '(712)414-9229')"
   ]
  },
  {
   "cell_type": "markdown",
   "id": "7e555554",
   "metadata": {},
   "source": [
    "But r'^(\\(\\d{3}\\))?\\s*\\d{3}[-.]\\d{4}$' is an eyeful, isn’t it? Using the VERBOSE flag, you can write the same regex in Python like this instead:\n",
    "\n"
   ]
  },
  {
   "cell_type": "code",
   "execution_count": 299,
   "id": "86318d5c",
   "metadata": {},
   "outputs": [],
   "source": [
    "regex = r'''^               # Start of string\n",
    "             (\\(\\d{3}\\))?    # Optional area code \n",
    "             \\s*             # Optional whitespace re.DOTALL\n",
    "             \\d{3}           # Three-digit prefix\n",
    "             [-.]            # Separator character\n",
    "             \\d{4}           # Four-digit line number\n",
    "             $               # Anchor at end of string\n",
    "             '''"
   ]
  },
  {
   "cell_type": "code",
   "execution_count": 300,
   "id": "6576fee1",
   "metadata": {},
   "outputs": [
    {
     "data": {
      "text/plain": [
       "<re.Match object; span=(0, 8), match='414.9229'>"
      ]
     },
     "execution_count": 300,
     "metadata": {},
     "output_type": "execute_result"
    }
   ],
   "source": [
    "re.search(regex, '414.9229', re.VERBOSE)\n",
    "# it detect (\\(\\d{3}\\))? optionaly\n",
    "#\\s* for whitespace one or more\n",
    "#\\d{3} for extact 3 digts (414 is in this case)\n",
    "# [-.] it searches of . or -\n",
    "#\\d{4}  for extact 3 digts (9229 is in this case)\n",
    "#$ Anchor for end string"
   ]
  },
  {
   "cell_type": "code",
   "execution_count": 301,
   "id": "6833a1ba",
   "metadata": {},
   "outputs": [
    {
     "data": {
      "text/plain": [
       "<re.Match object; span=(0, 8), match='414-9229'>"
      ]
     },
     "execution_count": 301,
     "metadata": {},
     "output_type": "execute_result"
    }
   ],
   "source": [
    "re.search(regex, '414-9229', re.VERBOSE)"
   ]
  },
  {
   "cell_type": "code",
   "execution_count": 302,
   "id": "b2d96b8a",
   "metadata": {},
   "outputs": [
    {
     "data": {
      "text/plain": [
       "<re.Match object; span=(0, 13), match='(712)414-9229'>"
      ]
     },
     "execution_count": 302,
     "metadata": {},
     "output_type": "execute_result"
    }
   ],
   "source": [
    "re.search(regex, '(712)414-9229', re.X)"
   ]
  },
  {
   "cell_type": "code",
   "execution_count": 303,
   "id": "3bdee461",
   "metadata": {},
   "outputs": [
    {
     "data": {
      "text/plain": [
       "<re.Match object; span=(0, 13), match='(712)414-9229'>"
      ]
     },
     "execution_count": 303,
     "metadata": {},
     "output_type": "execute_result"
    }
   ],
   "source": [
    "re.search(regex, '(712)414-9229', re.X)"
   ]
  },
  {
   "cell_type": "markdown",
   "id": "c6e75e8b",
   "metadata": {},
   "source": [
    "The `re.search()` calls are the `same as` those shown above, so you can see that this regex works the `same as the one specified earlier`. `But it’s less difficult to understand` at first glance."
   ]
  },
  {
   "cell_type": "markdown",
   "id": "b8062dc7",
   "metadata": {},
   "source": [
    "Note that `triple quoting makes it particularly convenient to include embedded newlines`, which qualify as `ignored whitespace in VERBOSE` mode."
   ]
  },
  {
   "cell_type": "markdown",
   "id": "5100aaa7",
   "metadata": {},
   "source": [
    "When using the `VERBOSE flag`, be mindful of whitespace that you do intend to be significant. Consider these examples:"
   ]
  },
  {
   "cell_type": "code",
   "execution_count": 305,
   "id": "2bc086e6",
   "metadata": {},
   "outputs": [
    {
     "data": {
      "text/plain": [
       "<re.Match object; span=(0, 7), match='foo bar'>"
      ]
     },
     "execution_count": 305,
     "metadata": {},
     "output_type": "execute_result"
    }
   ],
   "source": [
    "# i.e.1\n",
    "re.search('foo bar', 'foo bar')\n"
   ]
  },
  {
   "cell_type": "code",
   "execution_count": 307,
   "id": "54020c32",
   "metadata": {},
   "outputs": [
    {
     "name": "stdout",
     "output_type": "stream",
     "text": [
      "None\n"
     ]
    }
   ],
   "source": [
    "# ie.2\n",
    "print(re.search('foo bar', 'foo bar', re.VERBOSE))\n",
    "# VERBOSE flag, be mindful of whitespace\n",
    "# it can not detect whitespace "
   ]
  },
  {
   "cell_type": "code",
   "execution_count": 309,
   "id": "e40ade50",
   "metadata": {},
   "outputs": [
    {
     "data": {
      "text/plain": [
       "<re.Match object; span=(0, 7), match='foo bar'>"
      ]
     },
     "execution_count": 309,
     "metadata": {},
     "output_type": "execute_result"
    }
   ],
   "source": [
    "# i.e.3\n",
    "re.search('foo\\ bar', 'foo bar', re.VERBOSE)\n",
    "# \\ will be helpfull for detecting re.VERBOSE"
   ]
  },
  {
   "cell_type": "code",
   "execution_count": 311,
   "id": "d26d7c44",
   "metadata": {},
   "outputs": [
    {
     "data": {
      "text/plain": [
       "<re.Match object; span=(0, 7), match='foo bar'>"
      ]
     },
     "execution_count": 311,
     "metadata": {},
     "output_type": "execute_result"
    }
   ],
   "source": [
    "# i.e.4\n",
    "re.search('foo[ ]bar', 'foo bar', re.VERBOSE)\n",
    "# [] will be helpfull for detecting re.VERBOSE"
   ]
  },
  {
   "cell_type": "markdown",
   "id": "392a0d16",
   "metadata": {},
   "source": [
    "After all you’ve seen to this point, you may be wondering why on **ie.2** the regex foo bar doesn’t match the string 'foo bar'. It doesn’t because the `VERBOSE flag` causes the `parser` to ignore the space character."
   ]
  },
  {
   "cell_type": "markdown",
   "id": "71e7bc19",
   "metadata": {},
   "source": [
    "To make this match as expected, escape the space character with a backslash or include it in a character class, as shown on **i.e. 3** and **4**."
   ]
  },
  {
   "cell_type": "markdown",
   "id": "c24ab6b1",
   "metadata": {},
   "source": [
    "As with the DOTALL flag, note that the VERBOSE flag has a non-intuitive short name: `re.X`, not `re.V`.\n",
    "\n",
    "## `re.DEBUG`\n",
    "Displays debugging information."
   ]
  },
  {
   "cell_type": "markdown",
   "id": "992b22bc",
   "metadata": {},
   "source": [
    "The DEBUG flag causes the regex parser in Python to display debugging information about the parsing process to the console:"
   ]
  },
  {
   "cell_type": "code",
   "execution_count": 312,
   "id": "58976e0d",
   "metadata": {},
   "outputs": [
    {
     "name": "stdout",
     "output_type": "stream",
     "text": [
      "LITERAL 102\n",
      "LITERAL 111\n",
      "LITERAL 111\n",
      "ANY None\n",
      "LITERAL 98\n",
      "LITERAL 97\n",
      "LITERAL 114\n",
      "\n",
      " 0. INFO 12 0b1 7 7 (to 13)\n",
      "      prefix_skip 3\n",
      "      prefix [0x66, 0x6f, 0x6f] ('foo')\n",
      "      overlap [0, 0, 0]\n",
      "13: LITERAL 0x66 ('f')\n",
      "15. LITERAL 0x6f ('o')\n",
      "17. LITERAL 0x6f ('o')\n",
      "19. ANY\n",
      "20. LITERAL 0x62 ('b')\n",
      "22. LITERAL 0x61 ('a')\n",
      "24. LITERAL 0x72 ('r')\n",
      "26. SUCCESS\n"
     ]
    },
    {
     "data": {
      "text/plain": [
       "<re.Match object; span=(0, 7), match='fooxbar'>"
      ]
     },
     "execution_count": 312,
     "metadata": {},
     "output_type": "execute_result"
    }
   ],
   "source": [
    "re.search('foo.bar', 'fooxbar', re.DEBUG)"
   ]
  },
  {
   "cell_type": "markdown",
   "id": "511bcf5f",
   "metadata": {},
   "source": [
    "When the parser displays LITERAL nnn in the debugging output, it’s showing the ASCII code of a literal character in the regex. In this case, the literal characters are `f', 'o', 'o'` and `'b', 'a', 'r'`."
   ]
  },
  {
   "cell_type": "markdown",
   "id": "acc6646c",
   "metadata": {},
   "source": [
    "Here’s a more complicated example. This is the phone number regex shown in the discussion on the VERBOSE flag earlier:"
   ]
  },
  {
   "cell_type": "code",
   "execution_count": 313,
   "id": "234d50e7",
   "metadata": {},
   "outputs": [],
   "source": [
    "regex = r'^(\\(\\d{3}\\))?\\s*\\d{3}[-.]\\d{4}$'"
   ]
  },
  {
   "cell_type": "code",
   "execution_count": 314,
   "id": "d641b214",
   "metadata": {},
   "outputs": [
    {
     "name": "stdout",
     "output_type": "stream",
     "text": [
      "AT AT_BEGINNING\n",
      "MAX_REPEAT 0 1\n",
      "  SUBPATTERN 1 0 0\n",
      "    LITERAL 40\n",
      "    MAX_REPEAT 3 3\n",
      "      IN\n",
      "        CATEGORY CATEGORY_DIGIT\n",
      "    LITERAL 41\n",
      "MAX_REPEAT 0 MAXREPEAT\n",
      "  IN\n",
      "    CATEGORY CATEGORY_SPACE\n",
      "MAX_REPEAT 3 3\n",
      "  IN\n",
      "    CATEGORY CATEGORY_DIGIT\n",
      "IN\n",
      "  LITERAL 45\n",
      "  LITERAL 46\n",
      "MAX_REPEAT 4 4\n",
      "  IN\n",
      "    CATEGORY CATEGORY_DIGIT\n",
      "AT AT_END\n",
      "\n",
      " 0. INFO 4 0b0 8 MAXREPEAT (to 5)\n",
      " 5: AT BEGINNING\n",
      " 7. REPEAT 21 0 1 (to 29)\n",
      "11.   MARK 0\n",
      "13.   LITERAL 0x28 ('(')\n",
      "15.   REPEAT_ONE 9 3 3 (to 25)\n",
      "19.     IN 4 (to 24)\n",
      "21.       CATEGORY UNI_DIGIT\n",
      "23.       FAILURE\n",
      "24:     SUCCESS\n",
      "25:   LITERAL 0x29 (')')\n",
      "27.   MARK 1\n",
      "29: MAX_UNTIL\n",
      "30. REPEAT_ONE 9 0 MAXREPEAT (to 40)\n",
      "34.   IN 4 (to 39)\n",
      "36.     CATEGORY UNI_SPACE\n",
      "38.     FAILURE\n",
      "39:   SUCCESS\n",
      "40: REPEAT_ONE 9 3 3 (to 50)\n",
      "44.   IN 4 (to 49)\n",
      "46.     CATEGORY UNI_DIGIT\n",
      "48.     FAILURE\n",
      "49:   SUCCESS\n",
      "50: IN 5 (to 56)\n",
      "52.   RANGE 0x2d 0x2e ('-'-'.')\n",
      "55.   FAILURE\n",
      "56: REPEAT_ONE 9 4 4 (to 66)\n",
      "60.   IN 4 (to 65)\n",
      "62.     CATEGORY UNI_DIGIT\n",
      "64.     FAILURE\n",
      "65:   SUCCESS\n",
      "66: AT END\n",
      "68. SUCCESS\n"
     ]
    },
    {
     "data": {
      "text/plain": [
       "<re.Match object; span=(0, 8), match='414.9229'>"
      ]
     },
     "execution_count": 314,
     "metadata": {},
     "output_type": "execute_result"
    }
   ],
   "source": [
    "re.search(regex, '414.9229', re.DEBUG)"
   ]
  },
  {
   "cell_type": "markdown",
   "id": "8920f91d",
   "metadata": {},
   "source": [
    "This looks like a lot of esoteric information that you’d never need, but it can be useful. See the Deep Dive below for a practical application."
   ]
  },
  {
   "cell_type": "markdown",
   "id": "f0a823b8",
   "metadata": {},
   "source": [
    "## Deep Dive: Debugging Regular Expression Parsing\n",
    "\n",
    "As you know from above, the metacharacter sequence {m,n} indicates a specific number of repetitions. It matches anywhere from m to n repetitions of what precedes it:"
   ]
  },
  {
   "cell_type": "code",
   "execution_count": 315,
   "id": "2969930f",
   "metadata": {},
   "outputs": [
    {
     "data": {
      "text/plain": [
       "<re.Match object; span=(0, 5), match='x222y'>"
      ]
     },
     "execution_count": 315,
     "metadata": {},
     "output_type": "execute_result"
    }
   ],
   "source": [
    "re.search('x[123]{2,4}y', 'x222y')"
   ]
  },
  {
   "cell_type": "code",
   "execution_count": 316,
   "id": "123ef0e3",
   "metadata": {},
   "outputs": [
    {
     "name": "stdout",
     "output_type": "stream",
     "text": [
      "LITERAL 120\n",
      "MAX_REPEAT 2 4\n",
      "  IN\n",
      "    LITERAL 49\n",
      "    LITERAL 50\n",
      "    LITERAL 51\n",
      "LITERAL 121\n",
      "\n",
      " 0. INFO 8 0b1 4 6 (to 9)\n",
      "      prefix_skip 1\n",
      "      prefix [0x78] ('x')\n",
      "      overlap [0]\n",
      " 9: LITERAL 0x78 ('x')\n",
      "11. REPEAT_ONE 10 2 4 (to 22)\n",
      "15.   IN 5 (to 21)\n",
      "17.     RANGE 0x31 0x33 ('1'-'3')\n",
      "20.     FAILURE\n",
      "21:   SUCCESS\n",
      "22: LITERAL 0x79 ('y')\n",
      "24. SUCCESS\n"
     ]
    },
    {
     "data": {
      "text/plain": [
       "<re.Match object; span=(0, 5), match='x222y'>"
      ]
     },
     "execution_count": 316,
     "metadata": {},
     "output_type": "execute_result"
    }
   ],
   "source": [
    "re.search('x[123]{2,4}y', 'x222y', re.DEBUG)"
   ]
  },
  {
   "cell_type": "markdown",
   "id": "df726c02",
   "metadata": {},
   "source": [
    "* `MAX_REPEAT 2 4` confirms that the regex parser recognizes the metacharacter sequence `{2,4}` and interprets it as a range quantifier."
   ]
  },
  {
   "cell_type": "markdown",
   "id": "e301dff7",
   "metadata": {},
   "source": [
    "But, as noted previously, if a pair of curly braces in a regex in Python contains anything other than a valid number or numeric range, then it loses its special meaning.\n",
    "\n",
    "You can verify this also:"
   ]
  },
  {
   "cell_type": "code",
   "execution_count": 318,
   "id": "433d0ec9",
   "metadata": {},
   "outputs": [
    {
     "name": "stdout",
     "output_type": "stream",
     "text": [
      "LITERAL 120\n",
      "IN\n",
      "  LITERAL 49\n",
      "  LITERAL 50\n",
      "  LITERAL 51\n",
      "LITERAL 123\n",
      "LITERAL 102\n",
      "LITERAL 111\n",
      "LITERAL 111\n",
      "LITERAL 125\n",
      "LITERAL 121\n",
      "\n",
      " 0. INFO 8 0b1 8 8 (to 9)\n",
      "      prefix_skip 1\n",
      "      prefix [0x78] ('x')\n",
      "      overlap [0]\n",
      " 9: LITERAL 0x78 ('x')\n",
      "11. IN 5 (to 17)\n",
      "13.   RANGE 0x31 0x33 ('1'-'3')\n",
      "16.   FAILURE\n",
      "17: LITERAL 0x7b ('{')\n",
      "19. LITERAL 0x66 ('f')\n",
      "21. LITERAL 0x6f ('o')\n",
      "23. LITERAL 0x6f ('o')\n",
      "25. LITERAL 0x7d ('}')\n",
      "27. LITERAL 0x79 ('y')\n",
      "29. SUCCESS\n"
     ]
    }
   ],
   "source": [
    "re.search('x[123]{foo}y', 'x222y', re.DEBUG)"
   ]
  },
  {
   "cell_type": "markdown",
   "id": "75cab5c3",
   "metadata": {},
   "source": [
    "You can see that there’s no MAX_REPEAT token in the debug output. The LITERAL tokens indicate that the parser treats {foo} literally and not as a quantifier metacharacter sequence. 123, 102, 111, 111, and 125 are the ASCII codes for the characters in the literal string '{foo}'.\n",
    "\n",
    "Information displayed by the DEBUG flag can help you troubleshoot by showing you how the parser is interpreting your regex."
   ]
  },
  {
   "cell_type": "code",
   "execution_count": 320,
   "id": "d5d85e5b",
   "metadata": {},
   "outputs": [
    {
     "name": "stdout",
     "output_type": "stream",
     "text": [
      "None\n"
     ]
    }
   ],
   "source": [
    "print(re.search('x[123]{foo}y', 'x222y'))"
   ]
  },
  {
   "cell_type": "markdown",
   "id": "94d29857",
   "metadata": {},
   "source": [
    "Curiously, the re module doesn’t define a single-letter version of the DEBUG flag. You could define your own if you wanted to:"
   ]
  },
  {
   "cell_type": "code",
   "execution_count": 322,
   "id": "7e6a91a8",
   "metadata": {},
   "outputs": [],
   "source": [
    "import re\n",
    "# re.D\n",
    "# shows error\n",
    "# AttributeError: module 're' has no attribute 'D'"
   ]
  },
  {
   "cell_type": "code",
   "execution_count": 323,
   "id": "90ea0584",
   "metadata": {},
   "outputs": [],
   "source": [
    "re.D = re.DEBUG"
   ]
  },
  {
   "cell_type": "code",
   "execution_count": 324,
   "id": "049545b4",
   "metadata": {},
   "outputs": [
    {
     "name": "stdout",
     "output_type": "stream",
     "text": [
      "LITERAL 102\n",
      "LITERAL 111\n",
      "LITERAL 111\n",
      "\n",
      " 0. INFO 12 0b11 3 3 (to 13)\n",
      "      prefix_skip 3\n",
      "      prefix [0x66, 0x6f, 0x6f] ('foo')\n",
      "      overlap [0, 0, 0]\n",
      "13: LITERAL 0x66 ('f')\n",
      "15. LITERAL 0x6f ('o')\n",
      "17. LITERAL 0x6f ('o')\n",
      "19. SUCCESS\n"
     ]
    },
    {
     "data": {
      "text/plain": [
       "<re.Match object; span=(0, 3), match='foo'>"
      ]
     },
     "execution_count": 324,
     "metadata": {},
     "output_type": "execute_result"
    }
   ],
   "source": [
    "re.search('foo','foo', re.D)"
   ]
  },
  {
   "cell_type": "markdown",
   "id": "8b05e566",
   "metadata": {},
   "source": [
    "But this might be more confusing than helpful, as readers of your code might misconstrue it as an abbreviation for the DOTALL flag. If you did make this assignment, it would be a good idea to document it thoroughly."
   ]
  },
  {
   "cell_type": "markdown",
   "id": "05cc1137",
   "metadata": {},
   "source": [
    "### re.A\n",
    "### re.ASCII\n",
    "### re.U\n",
    "### re.UNICODE\n",
    "### re.L\n",
    "### re.LOCALE"
   ]
  },
  {
   "cell_type": "markdown",
   "id": "92bf9eab",
   "metadata": {},
   "source": [
    "Specify the character encoding used for parsing of special regex character classes."
   ]
  },
  {
   "cell_type": "markdown",
   "id": "6424d9f6",
   "metadata": {},
   "source": [
    "Several of the regex metacharacter sequences (\\w, \\W, \\b, \\B, \\d, \\D, \\s, and \\S) require you to assign characters to certain classes like word, digit, or whitespace. The flags in this group determine the encoding scheme used to assign characters to these classes. The possible encodings are ASCII, Unicode, or according to the current locale."
   ]
  },
  {
   "cell_type": "markdown",
   "id": "3dd59611",
   "metadata": {},
   "source": [
    "You had a brief introduction to character encoding and Unicode in the tutorial on Strings and Character Data in Python, under the discussion of the ord() built-in function. For more in-depth information, check out these resources:"
   ]
  },
  {
   "cell_type": "markdown",
   "id": "7d0f0202",
   "metadata": {},
   "source": [
    "For example, here’s a string that consists of three Devanagari digit characters:"
   ]
  },
  {
   "cell_type": "code",
   "execution_count": 325,
   "id": "4e8b7108",
   "metadata": {},
   "outputs": [
    {
     "data": {
      "text/plain": [
       "'१४६'"
      ]
     },
     "execution_count": 325,
     "metadata": {},
     "output_type": "execute_result"
    }
   ],
   "source": [
    "s = '\\u0967\\u096a\\u096c'\n",
    "s"
   ]
  },
  {
   "cell_type": "markdown",
   "id": "6243db10",
   "metadata": {},
   "source": [
    "For the regex parser to properly account for the Devanagari script, the digit metacharacter sequence \\d must match each of these characters as well."
   ]
  },
  {
   "cell_type": "markdown",
   "id": "1eac4712",
   "metadata": {},
   "source": [
    "The Unicode Consortium created Unicode to handle this problem. Unicode is a character-encoding standard designed to represent all the world’s writing systems. All strings in Python 3, including regexes, are Unicode by default.\n",
    "\n",
    "<br>So then, back to the flags listed above. These flags help to determine whether a character falls into a given class by specifying whether the encoding used is ASCII, Unicode, or the current locale:\n",
    "\n",
    "* **re.U** and **re.UNICODE** specify Unicode encoding. Unicode is the default, so these flags are superfluous. They’re mainly supported for backward compatibility.\n",
    "* **re.A** and **re.ASCII** force a determination based on ASCII encoding. If you happen to be operating in English, then this is happening anyway, so the flag won’t affect whether or not a match is found.\n",
    "* **re.L** and **re.LOCALE** make the determination based on the current locale. Locale is an outdated concept and isn’t considered reliable. Except in rare circumstances, you’re not likely to need it."
   ]
  },
  {
   "cell_type": "markdown",
   "id": "790ad3ca",
   "metadata": {},
   "source": [
    "Using the default Unicode encoding, the regex parser should be able to handle any language you throw at it. In the following example, it correctly recognizes each of the characters in the string '१४६' as a digit:"
   ]
  },
  {
   "cell_type": "code",
   "execution_count": 326,
   "id": "b8147c20",
   "metadata": {},
   "outputs": [],
   "source": [
    "s = '\\u0967\\u096a\\u096c'"
   ]
  },
  {
   "cell_type": "code",
   "execution_count": 328,
   "id": "c4222df9",
   "metadata": {},
   "outputs": [
    {
     "name": "stdout",
     "output_type": "stream",
     "text": [
      "१४६\n"
     ]
    }
   ],
   "source": [
    "print(s)"
   ]
  },
  {
   "cell_type": "code",
   "execution_count": 329,
   "id": "b9d85d4c",
   "metadata": {},
   "outputs": [
    {
     "data": {
      "text/plain": [
       "<re.Match object; span=(0, 3), match='१४६'>"
      ]
     },
     "execution_count": 329,
     "metadata": {},
     "output_type": "execute_result"
    }
   ],
   "source": [
    "re.search('\\d+', s)\n"
   ]
  },
  {
   "cell_type": "markdown",
   "id": "ebb4daa7",
   "metadata": {},
   "source": [
    "Here’s another example that illustrates how character encoding can affect a regex match in Python. Consider this string:"
   ]
  },
  {
   "cell_type": "code",
   "execution_count": 331,
   "id": "903a2978",
   "metadata": {},
   "outputs": [
    {
     "name": "stdout",
     "output_type": "stream",
     "text": [
      "schön\n"
     ]
    }
   ],
   "source": [
    "s = 'sch\\u00f6n'\n",
    "print(s)\n"
   ]
  },
  {
   "cell_type": "markdown",
   "id": "b2364f40",
   "metadata": {},
   "source": [
    "`'schön'` (the German word for pretty or nice) contains the `'ö'` character, which has the 16-bit hexadecimal Unicode value `00f6`. This character isn’t representable in traditional 7-bit ASCII."
   ]
  },
  {
   "cell_type": "markdown",
   "id": "c6cb2e02",
   "metadata": {},
   "source": [
    "If you’re working in German, then you should reasonably expect the regex parser to consider all of the characters in `'schön'` to be word characters.But take a look at what happens if you search s for word characters using the `\\w` character class and force an `ASCII encoding`:"
   ]
  },
  {
   "cell_type": "code",
   "execution_count": 332,
   "id": "4448309f",
   "metadata": {},
   "outputs": [
    {
     "data": {
      "text/plain": [
       "<re.Match object; span=(0, 3), match='sch'>"
      ]
     },
     "execution_count": 332,
     "metadata": {},
     "output_type": "execute_result"
    }
   ],
   "source": [
    "re.search('\\w+', s, re.ASCII)"
   ]
  },
  {
   "cell_type": "markdown",
   "id": "8a75b07b",
   "metadata": {},
   "source": [
    "When you restrict the encoding to `ASCII`, the regex parser recognizes only the first three characters as word characters. The match stops at `'ö'`."
   ]
  },
  {
   "cell_type": "markdown",
   "id": "335251aa",
   "metadata": {},
   "source": [
    "On the other hand, if you specify `re.UNICODE` or allow the encoding to default to Unicode, then all the characters in `'schön'` qualify as word characters:"
   ]
  },
  {
   "cell_type": "code",
   "execution_count": 333,
   "id": "7c2220e5",
   "metadata": {},
   "outputs": [
    {
     "data": {
      "text/plain": [
       "<re.Match object; span=(0, 5), match='schön'>"
      ]
     },
     "execution_count": 333,
     "metadata": {},
     "output_type": "execute_result"
    }
   ],
   "source": [
    "re.search('\\w+', s, re.UNICODE)"
   ]
  },
  {
   "cell_type": "code",
   "execution_count": 334,
   "id": "fed5346b",
   "metadata": {},
   "outputs": [
    {
     "data": {
      "text/plain": [
       "<re.Match object; span=(0, 5), match='schön'>"
      ]
     },
     "execution_count": 334,
     "metadata": {},
     "output_type": "execute_result"
    }
   ],
   "source": [
    "re.search('\\w+', s)"
   ]
  },
  {
   "cell_type": "markdown",
   "id": "7c4eb990",
   "metadata": {},
   "source": [
    "The `ASCII` and `LOCALE` flags are available in case you need them for special circumstances. But in general, the best strategy is to use the default Unicode encoding. This should handle any world language correctly."
   ]
  },
  {
   "cell_type": "markdown",
   "id": "827126ad",
   "metadata": {},
   "source": [
    "### Combining `<flags>` Arguments in a Function Call"
   ]
  },
  {
   "cell_type": "markdown",
   "id": "5084d383",
   "metadata": {},
   "source": [
    "Flag values are defined so that you can combine them using the bitwise OR (|) operator. This allows you to specify several flags in a single function call:"
   ]
  },
  {
   "cell_type": "code",
   "execution_count": 336,
   "id": "c27a407e",
   "metadata": {},
   "outputs": [
    {
     "data": {
      "text/plain": [
       "<re.Match object; span=(4, 7), match='BAR'>"
      ]
     },
     "execution_count": 336,
     "metadata": {},
     "output_type": "execute_result"
    }
   ],
   "source": [
    "re.search('^bar','FOO\\nBAR\\nBAZ', re.I|re.M)"
   ]
  },
  {
   "cell_type": "markdown",
   "id": "3ee6e7fe",
   "metadata": {},
   "source": [
    "This `re.search()` call uses bitwise OR to specify both the `IGNORECASE` and `MULTILINE` flags at once."
   ]
  },
  {
   "cell_type": "markdown",
   "id": "c7368067",
   "metadata": {},
   "source": [
    "### Setting and Clearing Flags Within a Regular Expression\n",
    "In addition to being able to pass a `<flags>` argument to most re module function calls, you can also modify flag values within a regex in Python. There are two regex metacharacter sequences that provide this capability.\n",
    "\n"
   ]
  },
  {
   "cell_type": "markdown",
   "id": "d5c1e23e",
   "metadata": {},
   "source": [
    "## `(?<flags>)`\n",
    "\n",
    "Sets flag value(s) for the duration of a regex."
   ]
  },
  {
   "cell_type": "markdown",
   "id": "a28c1f2a",
   "metadata": {},
   "source": [
    "Within a regex, the metacharacter sequence `(?<flags>)`sets the specified flags for the entire expression."
   ]
  },
  {
   "cell_type": "markdown",
   "id": "ecb3cbb8",
   "metadata": {},
   "source": [
    "The value of `<flags>` is one or more letters from the set a, i, L, m, s, u, and x. Here’s how they correspond to the re module flags:"
   ]
  },
  {
   "cell_type": "markdown",
   "id": "c862ea99",
   "metadata": {},
   "source": [
    "|Letter\t| Flags |\n",
    "|---:|:-------------|\n",
    "|a\t|re.A re.ASCII|\n",
    "|i\t|re.I re.IGNORECASE|\n",
    "|L\t|re.L re.LOCALE|\n",
    "|m\t|re.M re.MULTILINE|\n",
    "|s\t|re.S re.DOTALL|\n",
    "|u\t|re.U re.UNICODE|\n",
    "|x\t|re.X re.VERBOSE|"
   ]
  },
  {
   "cell_type": "markdown",
   "id": "2ffaa4e0",
   "metadata": {},
   "source": [
    "The `(?<flags>)` metacharacter sequence as a whole matches the empty string. It always matches successfully and doesn’t consume any of the search string."
   ]
  },
  {
   "cell_type": "markdown",
   "id": "96ada304",
   "metadata": {},
   "source": [
    "The following examples are equivalent ways of setting the IGNORECASE and MULTILINE flags:"
   ]
  },
  {
   "cell_type": "code",
   "execution_count": 337,
   "id": "c555dc3a",
   "metadata": {},
   "outputs": [
    {
     "data": {
      "text/plain": [
       "<re.Match object; span=(4, 7), match='BAR'>"
      ]
     },
     "execution_count": 337,
     "metadata": {},
     "output_type": "execute_result"
    }
   ],
   "source": [
    "re.search('^bar', 'FOO\\nBAR\\nBAZ\\n', re.I|re.M)\n",
    "#re.I ignorecase \n",
    "#re.M Multiline"
   ]
  },
  {
   "cell_type": "code",
   "execution_count": 338,
   "id": "a36f9aa1",
   "metadata": {},
   "outputs": [
    {
     "data": {
      "text/plain": [
       "<re.Match object; span=(4, 7), match='BAR'>"
      ]
     },
     "execution_count": 338,
     "metadata": {},
     "output_type": "execute_result"
    }
   ],
   "source": [
    "re.search('(?im)^bar', 'FOO\\nBAR\\nBAZ\\n')"
   ]
  },
  {
   "cell_type": "markdown",
   "id": "abc63e6d",
   "metadata": {},
   "source": [
    "Note that a `(?<flags>)` metacharacter sequence sets the given flag(s) for the entire regex no matter where you place it in the expression:"
   ]
  },
  {
   "cell_type": "code",
   "execution_count": 339,
   "id": "16fc78d3",
   "metadata": {},
   "outputs": [
    {
     "name": "stderr",
     "output_type": "stream",
     "text": [
      "C:\\Users\\codiant\\AppData\\Local\\Temp/ipykernel_8288/2863380058.py:1: DeprecationWarning: Flags not at the start of the expression 'foo.bar(?s).baz'\n",
      "  re.search('foo.bar(?s).baz', 'foo\\nbar\\nbaz')\n"
     ]
    },
    {
     "data": {
      "text/plain": [
       "<re.Match object; span=(0, 11), match='foo\\nbar\\nbaz'>"
      ]
     },
     "execution_count": 339,
     "metadata": {},
     "output_type": "execute_result"
    }
   ],
   "source": [
    "re.search('foo.bar(?s).baz', 'foo\\nbar\\nbaz')"
   ]
  },
  {
   "cell_type": "code",
   "execution_count": 340,
   "id": "e343552d",
   "metadata": {},
   "outputs": [
    {
     "name": "stderr",
     "output_type": "stream",
     "text": [
      "C:\\Users\\codiant\\AppData\\Local\\Temp/ipykernel_8288/105958811.py:1: DeprecationWarning: Flags not at the start of the expression 'foo.bar.baz(?s)'\n",
      "  re.search('foo.bar.baz(?s)', 'foo\\nbar\\nbaz')\n"
     ]
    },
    {
     "data": {
      "text/plain": [
       "<re.Match object; span=(0, 11), match='foo\\nbar\\nbaz'>"
      ]
     },
     "execution_count": 340,
     "metadata": {},
     "output_type": "execute_result"
    }
   ],
   "source": [
    "re.search('foo.bar.baz(?s)', 'foo\\nbar\\nbaz')"
   ]
  },
  {
   "cell_type": "markdown",
   "id": "3fd81a1e",
   "metadata": {},
   "source": [
    "In the above examples, both dot metacharacters match newlines because the DOTALL flag is in effect. This is true even when (?s) appears in the middle or at the end of the expression."
   ]
  },
  {
   "cell_type": "markdown",
   "id": "d186a20d",
   "metadata": {},
   "source": [
    "As of Python 3.7, it’s deprecated to specify `(?<flags>)` anywhere in a regex other than at the beginning:"
   ]
  },
  {
   "cell_type": "code",
   "execution_count": 341,
   "id": "6e7be560",
   "metadata": {},
   "outputs": [
    {
     "data": {
      "text/plain": [
       "'3.9.7 (default, Sep 16 2021, 16:59:28) [MSC v.1916 64 bit (AMD64)]'"
      ]
     },
     "execution_count": 341,
     "metadata": {},
     "output_type": "execute_result"
    }
   ],
   "source": [
    "import sys\n",
    "sys.version"
   ]
  },
  {
   "cell_type": "code",
   "execution_count": 342,
   "id": "a0a2b695",
   "metadata": {},
   "outputs": [
    {
     "data": {
      "text/plain": [
       "<re.Match object; span=(0, 11), match='foo\\nbar\\nbaz'>"
      ]
     },
     "execution_count": 342,
     "metadata": {},
     "output_type": "execute_result"
    }
   ],
   "source": [
    "re.search('foo.bar.baz(?s)', 'foo\\nbar\\nbaz')"
   ]
  },
  {
   "cell_type": "markdown",
   "id": "7f4a2856",
   "metadata": {},
   "source": [
    "It still produces the appropriate match, but you’ll get a warning message"
   ]
  },
  {
   "cell_type": "markdown",
   "id": "0e079422",
   "metadata": {},
   "source": [
    "### `(?<set_flags>-<remove_flags>:<regex>)`\n",
    "\n",
    "Sets or removes flag value(s) for the duration of a group."
   ]
  },
  {
   "cell_type": "markdown",
   "id": "b324c556",
   "metadata": {},
   "source": [
    "`(?<set_flags>-<remove_flags>:<regex>)` defines a non-capturing group that matches against `<regex>`. For the `<regex> `contained in the group, the regex parser sets any flags specified in `<set_flags>` and clears any flags specified in `<remove_flags>`."
   ]
  },
  {
   "cell_type": "markdown",
   "id": "446a985c",
   "metadata": {},
   "source": [
    "Values for <set_flags> and <remove_flags> are most commonly i, m, s or x."
   ]
  },
  {
   "cell_type": "markdown",
   "id": "1a5927f6",
   "metadata": {},
   "source": [
    "In the following example, the IGNORECASE flag is set for the specified group:"
   ]
  },
  {
   "cell_type": "code",
   "execution_count": 344,
   "id": "d52c3f0f",
   "metadata": {},
   "outputs": [
    {
     "data": {
      "text/plain": [
       "<re.Match object; span=(0, 6), match='FOObar'>"
      ]
     },
     "execution_count": 344,
     "metadata": {},
     "output_type": "execute_result"
    }
   ],
   "source": [
    "re.search('(?i:foo)bar', 'FOObar')"
   ]
  },
  {
   "cell_type": "markdown",
   "id": "926dc68d",
   "metadata": {},
   "source": [
    "This produces a match because `(?i:foo)` dictates that the match against `'FOO'` is case insensitive."
   ]
  },
  {
   "cell_type": "markdown",
   "id": "decb7a25",
   "metadata": {},
   "source": [
    "Now contrast that with this example:"
   ]
  },
  {
   "cell_type": "code",
   "execution_count": 346,
   "id": "77acd023",
   "metadata": {},
   "outputs": [
    {
     "name": "stdout",
     "output_type": "stream",
     "text": [
      "None\n"
     ]
    }
   ],
   "source": [
    "print(re.search('(?i:foo)bar', 'FOOBAR'))"
   ]
  },
  {
   "cell_type": "markdown",
   "id": "838b7a68",
   "metadata": {},
   "source": [
    "As in the previous example, the match against 'FOO' would succeed because it’s case insensitive. But once outside the group, IGNORECASE is no longer in effect, so the match against 'BAR' is case sensitive and fails."
   ]
  },
  {
   "cell_type": "markdown",
   "id": "bdf63d66",
   "metadata": {},
   "source": [
    "Here’s an example that demonstrates turning a flag off for a group:"
   ]
  },
  {
   "cell_type": "code",
   "execution_count": 347,
   "id": "5597788b",
   "metadata": {},
   "outputs": [
    {
     "name": "stdout",
     "output_type": "stream",
     "text": [
      "None\n"
     ]
    }
   ],
   "source": [
    "print(re.search('(?-i:foo)bar', 'FOOBAR', re.IGNORECASE))\n",
    "# no match found \n",
    "# (?-i:foo) turns off the ignorecase"
   ]
  },
  {
   "cell_type": "markdown",
   "id": "8950a209",
   "metadata": {},
   "source": [
    "Again, there’s no match. Although re.IGNORECASE enables case-insensitive matching for the entire call, the metacharacter sequence `(?-i:foo)` turns off IGNORECASE for the duration of that group, so the match against 'FOO' fails."
   ]
  },
  {
   "cell_type": "markdown",
   "id": "3e499812",
   "metadata": {},
   "source": [
    "### Conclusion\n",
    "This concludes your introduction to regular expression matching and Python’s re module. Congratulations! You’ve mastered a tremendous amount of material.\n",
    "\n",
    "You now know how to:\n",
    "\n",
    "* Use **re.search()** to perform regex matching in Python\n",
    "* Create complex pattern matching searches with regex **metacharacters**\n",
    "* Tweak regex parsing behavior with **flags**"
   ]
  }
 ],
 "metadata": {
  "kernelspec": {
   "display_name": "Python 3 (ipykernel)",
   "language": "python",
   "name": "python3"
  },
  "language_info": {
   "codemirror_mode": {
    "name": "ipython",
    "version": 3
   },
   "file_extension": ".py",
   "mimetype": "text/x-python",
   "name": "python",
   "nbconvert_exporter": "python",
   "pygments_lexer": "ipython3",
   "version": "3.9.7"
  }
 },
 "nbformat": 4,
 "nbformat_minor": 5
}
