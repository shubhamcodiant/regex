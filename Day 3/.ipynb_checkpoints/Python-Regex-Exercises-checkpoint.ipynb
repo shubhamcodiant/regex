{
 "cells": [
  {
   "cell_type": "markdown",
   "id": "6a63b714",
   "metadata": {},
   "source": [
    "# Exercises\n",
    "\n",
    ">![info](../images/info.svg) Try to solve exercises in every chapter using only the features discussed until that chapter. Some of the exercises will be easier to solve with techniques presented in later chapters, but the aim of these exercises is to explore the features presented so far.\n",
    "\n",
    ">![info](../images/info.svg) For solutions, see [Exercise_solutions.md](https://github.com/learnbyexample/py_regular_expressions/blob/master/exercises/Exercise_solutions.md).\n",
    "\n",
    "<br>"
   ]
  },
  {
   "cell_type": "code",
   "execution_count": 1,
   "id": "0556ecf4",
   "metadata": {},
   "outputs": [],
   "source": [
    "import re"
   ]
  },
  {
   "cell_type": "markdown",
   "id": "1a16ce07",
   "metadata": {},
   "source": [
    "# re introduction"
   ]
  },
  {
   "cell_type": "markdown",
   "id": "78d3f81f",
   "metadata": {},
   "source": [
    "**a)** Check whether the given strings contain `0xB0`. Display a boolean result as shown b"
   ]
  },
  {
   "cell_type": "code",
   "execution_count": 2,
   "id": "e2e67c23",
   "metadata": {},
   "outputs": [],
   "source": [
    "line1 = 'start address: 0xA0, func1 address: 0xC0'\n",
    "line2 = 'end address: 0xFF, func2 address: 0xB0'"
   ]
  },
  {
   "cell_type": "code",
   "execution_count": 3,
   "id": "3329daac",
   "metadata": {},
   "outputs": [
    {
     "data": {
      "text/plain": [
       "False"
      ]
     },
     "execution_count": 3,
     "metadata": {},
     "output_type": "execute_result"
    }
   ],
   "source": [
    "bool(re.search(r'0xB0', line1))     ##### add your solution here\n"
   ]
  },
  {
   "cell_type": "code",
   "execution_count": 4,
   "id": "6dbe1a48",
   "metadata": {},
   "outputs": [
    {
     "data": {
      "text/plain": [
       "True"
      ]
     },
     "execution_count": 4,
     "metadata": {},
     "output_type": "execute_result"
    }
   ],
   "source": [
    "bool(re.search(r'0xB0', line2))     ##### add your solution here"
   ]
  },
  {
   "cell_type": "markdown",
   "id": "8f9852ec",
   "metadata": {},
   "source": [
    "**b)** Replace all occurrences of `5` with `five` for the given string."
   ]
  },
  {
   "cell_type": "code",
   "execution_count": 5,
   "id": "880711ff",
   "metadata": {},
   "outputs": [
    {
     "data": {
      "text/plain": [
       "'They ate five apples and five oranges'"
      ]
     },
     "execution_count": 5,
     "metadata": {},
     "output_type": "execute_result"
    }
   ],
   "source": [
    "ip = 'They ate 5 apples and 5 oranges'\n",
    "re.sub(r'5','five',ip)  "
   ]
  },
  {
   "cell_type": "markdown",
   "id": "b2865064",
   "metadata": {},
   "source": [
    "**c)** Replace first occurrence of `5` with `five` for the given string."
   ]
  },
  {
   "cell_type": "code",
   "execution_count": 6,
   "id": "79bf8e6b",
   "metadata": {},
   "outputs": [
    {
     "data": {
      "text/plain": [
       "'They ate five apples and 5 oranges'"
      ]
     },
     "execution_count": 6,
     "metadata": {},
     "output_type": "execute_result"
    }
   ],
   "source": [
    "ip = 'They ate 5 apples and 5 oranges'\n",
    "re.sub('5','five', ip, count=1)       ##### add your solution here"
   ]
  },
  {
   "cell_type": "markdown",
   "id": "694208d5",
   "metadata": {},
   "source": [
    "**d)** For the given list, filter all elements that do `*not*` contain `e`."
   ]
  },
  {
   "cell_type": "code",
   "execution_count": 7,
   "id": "44abf381",
   "metadata": {},
   "outputs": [],
   "source": [
    "items = ['goal', 'new', 'user', 'sit', 'eat', 'dinner']"
   ]
  },
  {
   "cell_type": "code",
   "execution_count": 8,
   "id": "5cf423b9",
   "metadata": {},
   "outputs": [
    {
     "data": {
      "text/plain": [
       "['goal', 'sit']"
      ]
     },
     "execution_count": 8,
     "metadata": {},
     "output_type": "execute_result"
    }
   ],
   "source": [
    "[w for w in items if not re.search(r'e',w)]"
   ]
  },
  {
   "cell_type": "markdown",
   "id": "fd9651b2",
   "metadata": {},
   "source": [
    "**e)** Replace all occurrences of `note` irrespective of case with `X`."
   ]
  },
  {
   "cell_type": "code",
   "execution_count": 202,
   "id": "5063de66",
   "metadata": {},
   "outputs": [],
   "source": [
    "ip = 'This note should not be NoTeD'"
   ]
  },
  {
   "cell_type": "code",
   "execution_count": 10,
   "id": "73056047",
   "metadata": {},
   "outputs": [
    {
     "data": {
      "text/plain": [
       "'This X should not be XD'"
      ]
     },
     "execution_count": 10,
     "metadata": {},
     "output_type": "execute_result"
    }
   ],
   "source": [
    "re.sub(r'[Nn]o[Tt]e', \"X\", ip)"
   ]
  },
  {
   "cell_type": "code",
   "execution_count": 11,
   "id": "38ab848a",
   "metadata": {},
   "outputs": [
    {
     "data": {
      "text/plain": [
       "'This X should not be XD'"
      ]
     },
     "execution_count": 11,
     "metadata": {},
     "output_type": "execute_result"
    }
   ],
   "source": [
    "re.sub(r'note|NoTe', \"X\", ip)"
   ]
  },
  {
   "cell_type": "code",
   "execution_count": 204,
   "id": "5a5c6f2b",
   "metadata": {},
   "outputs": [
    {
     "data": {
      "text/plain": [
       "'This X should not be XD'"
      ]
     },
     "execution_count": 204,
     "metadata": {},
     "output_type": "execute_result"
    }
   ],
   "source": [
    "re.sub(r'note', 'X',ip,flags = re.I)"
   ]
  },
  {
   "cell_type": "markdown",
   "id": "70d04255",
   "metadata": {},
   "source": [
    "**f)** Check if `at` is present in the given byte input data."
   ]
  },
  {
   "cell_type": "code",
   "execution_count": 205,
   "id": "731a94e8",
   "metadata": {},
   "outputs": [
    {
     "data": {
      "text/plain": [
       "True"
      ]
     },
     "execution_count": 205,
     "metadata": {},
     "output_type": "execute_result"
    }
   ],
   "source": [
    "ip = b'tiger imp goat'\n",
    "bool(re.search(rb'at',ip))"
   ]
  },
  {
   "cell_type": "markdown",
   "id": "f91efdfe",
   "metadata": {},
   "source": [
    "**g)** For the given input string, display all lines not containing `start` irrespective of case."
   ]
  },
  {
   "cell_type": "code",
   "execution_count": 218,
   "id": "81ec8a36",
   "metadata": {},
   "outputs": [],
   "source": [
    "para = '''good start\n",
    "Start working on that\n",
    "project you always wanted\n",
    "stars are shining brightly\n",
    "hi there\n",
    "start and try to\n",
    "finish the book\n",
    "bye'''"
   ]
  },
  {
   "cell_type": "code",
   "execution_count": 219,
   "id": "7f9df647",
   "metadata": {},
   "outputs": [
    {
     "name": "stdout",
     "output_type": "stream",
     "text": [
      "project you always wanted\n",
      "stars are shining brightly\n",
      "hi there\n",
      "finish the book\n",
      "bye\n"
     ]
    }
   ],
   "source": [
    "pat = re.compile(r'Start|start', re.I)      ##### add your solution here\n",
    ">>> for line in para.split('\\n'):\n",
    "...     if not pat.search(line):\n",
    "...         print(line)"
   ]
  },
  {
   "cell_type": "code",
   "execution_count": 220,
   "id": "d625f4ca",
   "metadata": {},
   "outputs": [
    {
     "name": "stdout",
     "output_type": "stream",
     "text": [
      "project you always wanted\n",
      "stars are shining brightly\n",
      "hi there\n",
      "finish the book\n",
      "bye\n"
     ]
    }
   ],
   "source": [
    "pat = re.compile(r'start', flags =re.I)      ##### add your solution here\n",
    ">>> for line in para.split('\\n'):\n",
    "...     if not pat.search(line):\n",
    "...         print(line)"
   ]
  },
  {
   "cell_type": "markdown",
   "id": "0610f8a3",
   "metadata": {},
   "source": [
    "**h)** For the given list, filter all elements that contains either `a` or `w`."
   ]
  },
  {
   "cell_type": "code",
   "execution_count": 221,
   "id": "b8b08586",
   "metadata": {},
   "outputs": [],
   "source": [
    "items = ['goal', 'new', 'user', 'sit', 'eat', 'dinner']"
   ]
  },
  {
   "cell_type": "code",
   "execution_count": 222,
   "id": "f914e002",
   "metadata": {},
   "outputs": [
    {
     "data": {
      "text/plain": [
       "['goal', 'new', 'eat']"
      ]
     },
     "execution_count": 222,
     "metadata": {},
     "output_type": "execute_result"
    }
   ],
   "source": [
    "[w for w in items if re.search(r'a',w) or re.search(r'w',w)]"
   ]
  },
  {
   "cell_type": "markdown",
   "id": "604dd083",
   "metadata": {},
   "source": [
    "**i)** For the given list, filter all elements that contains both `e` and `n`."
   ]
  },
  {
   "cell_type": "code",
   "execution_count": 223,
   "id": "e576877d",
   "metadata": {},
   "outputs": [],
   "source": [
    "items = ['goal', 'new', 'user', 'sit', 'eat', 'dinner']"
   ]
  },
  {
   "cell_type": "code",
   "execution_count": 224,
   "id": "9ee424a3",
   "metadata": {},
   "outputs": [
    {
     "data": {
      "text/plain": [
       "['new', 'dinner']"
      ]
     },
     "execution_count": 224,
     "metadata": {},
     "output_type": "execute_result"
    }
   ],
   "source": [
    "[w for w in items if re.search(r'e',w) and re.search(r'n',w)]"
   ]
  },
  {
   "cell_type": "markdown",
   "id": "3ead3d06",
   "metadata": {},
   "source": [
    "**j)** For the given string, replace `0xA0` with `0x7F` and `0xC0` with `0x1F`."
   ]
  },
  {
   "cell_type": "code",
   "execution_count": 217,
   "id": "5f1b1547",
   "metadata": {},
   "outputs": [
    {
     "data": {
      "text/plain": [
       "'start address: 0xA0, func1 address: 0xC0'"
      ]
     },
     "execution_count": 217,
     "metadata": {},
     "output_type": "execute_result"
    }
   ],
   "source": [
    "ip = 'start address: 0xA0, func1 address: 0xC0'\n",
    "re.sub(r'\\.+(0xA0)\\.+(0xC0)',r'\\.+\\0x7F\\.+\\0x1F',ip)"
   ]
  },
  {
   "cell_type": "code",
   "execution_count": 216,
   "id": "d492067b",
   "metadata": {},
   "outputs": [
    {
     "data": {
      "text/plain": [
       "'start address: 0x7F, func1 address: 0x1F'"
      ]
     },
     "execution_count": 216,
     "metadata": {},
     "output_type": "execute_result"
    }
   ],
   "source": [
    "ip = 'start address: 0xA0, func1 address: 0xC0'\n",
    "re.sub(r'0xC0', '0x1F', re.sub(r'0xA0', '0x7F', ip))"
   ]
  },
  {
   "cell_type": "code",
   "execution_count": 20,
   "id": "b39ccb43",
   "metadata": {},
   "outputs": [
    {
     "name": "stdout",
     "output_type": "stream",
     "text": [
      "start address: 0x7F, func1 address: 0x1F\n"
     ]
    }
   ],
   "source": [
    "ip = 'start address: 0xA0, func1 address: 0xC0'\n",
    "lst1 = ['0xA0','0xC0']\n",
    "lst2 = ['0x7F','0x1F' ]\n",
    "for i in range(2):\n",
    "    x =re.sub(lst1[i],lst2[i], ip )\n",
    "    ip = x\n",
    "\n",
    "print(x)"
   ]
  },
  {
   "cell_type": "markdown",
   "id": "ed285fe5",
   "metadata": {},
   "source": [
    "# Anchors"
   ]
  },
  {
   "cell_type": "markdown",
   "id": "9df5f32a",
   "metadata": {},
   "source": [
    "**a)** Check if the given strings start with `be`."
   ]
  },
  {
   "cell_type": "code",
   "execution_count": 225,
   "id": "6d0aecc3",
   "metadata": {},
   "outputs": [],
   "source": [
    "line1 = 'be nice'\n",
    "line2 = '\"best!\"'\n",
    "line3 = 'better?'\n",
    "line4 = 'oh no\\nbear spotted'\n"
   ]
  },
  {
   "cell_type": "code",
   "execution_count": 22,
   "id": "0154fd4c",
   "metadata": {},
   "outputs": [],
   "source": [
    "pat = re.compile(\"^be\")      ##### add your solution here"
   ]
  },
  {
   "cell_type": "code",
   "execution_count": 23,
   "id": "ecd1375e",
   "metadata": {},
   "outputs": [
    {
     "data": {
      "text/plain": [
       "True"
      ]
     },
     "execution_count": 23,
     "metadata": {},
     "output_type": "execute_result"
    }
   ],
   "source": [
    "bool(pat.search(line1))"
   ]
  },
  {
   "cell_type": "code",
   "execution_count": 24,
   "id": "1c79102f",
   "metadata": {},
   "outputs": [
    {
     "data": {
      "text/plain": [
       "False"
      ]
     },
     "execution_count": 24,
     "metadata": {},
     "output_type": "execute_result"
    }
   ],
   "source": [
    "bool(pat.search(line2))"
   ]
  },
  {
   "cell_type": "code",
   "execution_count": 25,
   "id": "5d63fc94",
   "metadata": {},
   "outputs": [
    {
     "data": {
      "text/plain": [
       "True"
      ]
     },
     "execution_count": 25,
     "metadata": {},
     "output_type": "execute_result"
    }
   ],
   "source": [
    "bool(pat.search(line3))"
   ]
  },
  {
   "cell_type": "code",
   "execution_count": 26,
   "id": "ca93fbdd",
   "metadata": {},
   "outputs": [
    {
     "data": {
      "text/plain": [
       "False"
      ]
     },
     "execution_count": 26,
     "metadata": {},
     "output_type": "execute_result"
    }
   ],
   "source": [
    "bool(pat.search(line4))"
   ]
  },
  {
   "cell_type": "markdown",
   "id": "54899df3",
   "metadata": {},
   "source": [
    "**b)** For the given input string, change only whole word `red` to `brown`"
   ]
  },
  {
   "cell_type": "markdown",
   "id": "e83b7f6b",
   "metadata": {},
   "source": [
    "## `\\b` \n",
    "word boundry"
   ]
  },
  {
   "cell_type": "code",
   "execution_count": 234,
   "id": "baed7eda",
   "metadata": {},
   "outputs": [],
   "source": [
    "words = 'bred red spread credible'"
   ]
  },
  {
   "cell_type": "code",
   "execution_count": 235,
   "id": "a1e1bfb0",
   "metadata": {},
   "outputs": [
    {
     "data": {
      "text/plain": [
       "'bred brown spread credible'"
      ]
     },
     "execution_count": 235,
     "metadata": {},
     "output_type": "execute_result"
    }
   ],
   "source": [
    "re.sub(r'\\bred\\b', 'brown',words)     ##### add your solution here\n",
    "# \\b Anchors a match to a word boundary.\n",
    "# it can create boundry that mean restricted"
   ]
  },
  {
   "cell_type": "markdown",
   "id": "4c9d6c8a",
   "metadata": {},
   "source": [
    "**c)** For the given input list, filter all elements that contains `42` surrounded by word characters.\n"
   ]
  },
  {
   "cell_type": "markdown",
   "id": "1f92d183",
   "metadata": {},
   "source": [
    "## `\\B` \n",
    "reverse word boundry"
   ]
  },
  {
   "cell_type": "code",
   "execution_count": 241,
   "id": "d83a73d2",
   "metadata": {},
   "outputs": [],
   "source": [
    "words = ['hi42bye', 'nice1423', 'bad42', 'cool_42a', 'fake4b']"
   ]
  },
  {
   "cell_type": "code",
   "execution_count": 239,
   "id": "4ca23b6f",
   "metadata": {},
   "outputs": [
    {
     "data": {
      "text/plain": [
       "['hi42bye', 'nice1423', 'cool_42a']"
      ]
     },
     "execution_count": 239,
     "metadata": {},
     "output_type": "execute_result"
    }
   ],
   "source": [
    "[w for w in words if re.search('\\w+42\\w+',w)]"
   ]
  },
  {
   "cell_type": "code",
   "execution_count": 243,
   "id": "0bce465e",
   "metadata": {},
   "outputs": [
    {
     "data": {
      "text/plain": [
       "['hi42bye', 'nice1423', 'cool_42a']"
      ]
     },
     "execution_count": 243,
     "metadata": {},
     "output_type": "execute_result"
    }
   ],
   "source": [
    "[w for w in words if re.search('\\B42\\B',w)]"
   ]
  },
  {
   "cell_type": "markdown",
   "id": "7798c130",
   "metadata": {},
   "source": [
    " 1 **d)** For the given input list, filter all elements that start with `den` or end with `ly`."
   ]
  },
  {
   "cell_type": "code",
   "execution_count": 244,
   "id": "ccd384ce",
   "metadata": {},
   "outputs": [],
   "source": [
    "items = ['lovely', '1\\ndentist', '2 lonely', 'eden', 'fly\\n', 'dent']"
   ]
  },
  {
   "cell_type": "code",
   "execution_count": 62,
   "id": "81e9273f",
   "metadata": {},
   "outputs": [
    {
     "data": {
      "text/plain": [
       "['lovely', '2 lonely', 'fly\\n', 'dent']"
      ]
     },
     "execution_count": 62,
     "metadata": {},
     "output_type": "execute_result"
    }
   ],
   "source": [
    "[e for e in items if re.search(r'^(den)|(ly)$',e)]"
   ]
  },
  {
   "cell_type": "markdown",
   "id": "7590856e",
   "metadata": {},
   "source": [
    "## `\\A` \n",
    "Anchor a match to the start of `<string>`"
   ]
  },
  {
   "cell_type": "markdown",
   "id": "930f8830",
   "metadata": {},
   "source": [
    "## or"
   ]
  },
  {
   "cell_type": "code",
   "execution_count": 247,
   "id": "32a57b60",
   "metadata": {},
   "outputs": [
    {
     "data": {
      "text/plain": [
       "['lovely', '2 lonely', 'fly\\n', 'dent']"
      ]
     },
     "execution_count": 247,
     "metadata": {},
     "output_type": "execute_result"
    }
   ],
   "source": [
    "[e for e in items if re.search(r'^(den)',e) or re.search(r'(ly)$',e)]"
   ]
  },
  {
   "cell_type": "code",
   "execution_count": 245,
   "id": "7f4b66a6",
   "metadata": {},
   "outputs": [
    {
     "data": {
      "text/plain": [
       "['lovely', '2 lonely', 'dent']"
      ]
     },
     "execution_count": 245,
     "metadata": {},
     "output_type": "execute_result"
    }
   ],
   "source": [
    "[e for e in items if re.search(r'\\Aden', e) or re.search(r'ly\\Z', e)]"
   ]
  },
  {
   "cell_type": "markdown",
   "id": "5100c42c",
   "metadata": {},
   "source": [
    "**e)** For the given input string, change whole word `mall` to `1234` only if it is at the start of a line."
   ]
  },
  {
   "cell_type": "code",
   "execution_count": 252,
   "id": "06fef86c",
   "metadata": {},
   "outputs": [],
   "source": [
    "para = '''\\\n",
    "ball fall wall tall\n",
    "mall call ball pall\n",
    "wall mall ball fall\n",
    "mallet wallet malls'''"
   ]
  },
  {
   "cell_type": "code",
   "execution_count": 40,
   "id": "440297ef",
   "metadata": {},
   "outputs": [
    {
     "name": "stdout",
     "output_type": "stream",
     "text": [
      "ball fall wall tall\n",
      "1234 call ball pall\n",
      "wall mall ball fall\n",
      "mallet wallet malls\n"
     ]
    }
   ],
   "source": [
    "print(re.sub('(mall)', '1234', para, count =1))"
   ]
  },
  {
   "cell_type": "markdown",
   "id": "31c0d711",
   "metadata": {},
   "source": [
    "flags"
   ]
  },
  {
   "cell_type": "code",
   "execution_count": 255,
   "id": "adf71f31",
   "metadata": {},
   "outputs": [
    {
     "name": "stdout",
     "output_type": "stream",
     "text": [
      "ball fall wall tall\n",
      "1234 call ball pall\n",
      "wall mall ball fall\n",
      "mallet wallet malls\n"
     ]
    }
   ],
   "source": [
    "print(re.sub(r'^mall\\b', '1234', para, flags= re.M))"
   ]
  },
  {
   "cell_type": "markdown",
   "id": "f225fa1c",
   "metadata": {},
   "source": [
    "**f)** For the given list, filter all elements having a line starting with `den` or ending with `ly`.\n"
   ]
  },
  {
   "cell_type": "code",
   "execution_count": 256,
   "id": "3532e431",
   "metadata": {},
   "outputs": [],
   "source": [
    "items = ['lovely', '1\\ndentist', '2 lonely', 'eden', 'fly\\nfar', 'dent']"
   ]
  },
  {
   "cell_type": "code",
   "execution_count": 258,
   "id": "790766d2",
   "metadata": {},
   "outputs": [
    {
     "data": {
      "text/plain": [
       "['lovely', '1\\ndentist', '2 lonely', 'fly\\nfar', 'dent']"
      ]
     },
     "execution_count": 258,
     "metadata": {},
     "output_type": "execute_result"
    }
   ],
   "source": [
    "[w for w in items if re.search(\"^(den)|(ly)$\", w, re.M)]"
   ]
  },
  {
   "cell_type": "code",
   "execution_count": 257,
   "id": "d8b32489",
   "metadata": {},
   "outputs": [
    {
     "data": {
      "text/plain": [
       "['lovely', '1\\ndentist', '2 lonely', 'fly\\nfar', 'dent']"
      ]
     },
     "execution_count": 257,
     "metadata": {},
     "output_type": "execute_result"
    }
   ],
   "source": [
    "[e for e in items if re.search(r'^den', e, flags=re.M) or re.search(r'ly$', e, flags=re.M)]"
   ]
  },
  {
   "cell_type": "markdown",
   "id": "dbad9007",
   "metadata": {},
   "source": [
    "**g)** For the given input list, filter all whole elements `12\\nthree` irrespective of case."
   ]
  },
  {
   "cell_type": "code",
   "execution_count": 259,
   "id": "76dadcb7",
   "metadata": {},
   "outputs": [],
   "source": [
    "items = ['12\\nthree\\n', '12\\nThree', '12\\nthree\\n4', '12\\nthree']"
   ]
  },
  {
   "cell_type": "markdown",
   "id": "d0b68b2d",
   "metadata": {},
   "source": [
    "## flags=re.M\n",
    "## re.serach \n",
    "(wrong)"
   ]
  },
  {
   "cell_type": "code",
   "execution_count": 261,
   "id": "ed1dc31b",
   "metadata": {},
   "outputs": [
    {
     "data": {
      "text/plain": [
       "['12\\nthree\\n', '12\\nthree\\n4', '12\\nthree']"
      ]
     },
     "execution_count": 261,
     "metadata": {},
     "output_type": "execute_result"
    }
   ],
   "source": [
    "[w for w in items if re.search(\"12\\nthree\", w, flags=re.M)]"
   ]
  },
  {
   "cell_type": "code",
   "execution_count": 147,
   "id": "1ad5c1e3",
   "metadata": {},
   "outputs": [
    {
     "data": {
      "text/plain": [
       "[]"
      ]
     },
     "execution_count": 147,
     "metadata": {},
     "output_type": "execute_result"
    }
   ],
   "source": [
    "[w for w in items if re.search(\"^[1].+e\", w, re.M)]"
   ]
  },
  {
   "cell_type": "markdown",
   "id": "16f8bd86",
   "metadata": {},
   "source": [
    "## flags= re.I\n",
    "## re.fullmatch()\n",
    "(right)"
   ]
  },
  {
   "cell_type": "code",
   "execution_count": 260,
   "id": "9fab3173",
   "metadata": {},
   "outputs": [
    {
     "data": {
      "text/plain": [
       "['12\\nThree', '12\\nthree']"
      ]
     },
     "execution_count": 260,
     "metadata": {},
     "output_type": "execute_result"
    }
   ],
   "source": [
    "[e for e in items if re.fullmatch(r'12\\nthree', e, flags=re.I)]"
   ]
  },
  {
   "cell_type": "markdown",
   "id": "02be44d2",
   "metadata": {},
   "source": [
    " **h)** For the given input list, replace `hand` with `X` for all elements that start with `hand` followed by at least one word character."
   ]
  },
  {
   "cell_type": "code",
   "execution_count": 264,
   "id": "a6f1cb0a",
   "metadata": {},
   "outputs": [],
   "source": [
    "items = ['handed', 'hand', 'handy', 'unhanded', 'handle', 'hand-2']"
   ]
  },
  {
   "cell_type": "code",
   "execution_count": 268,
   "id": "71025ec9",
   "metadata": {},
   "outputs": [
    {
     "data": {
      "text/plain": [
       "['Xed', 'hand', 'Xy', 'unhanded', 'Xle', 'hand-2']"
      ]
     },
     "execution_count": 268,
     "metadata": {},
     "output_type": "execute_result"
    }
   ],
   "source": [
    "[re.sub('^[h].+d\\B','X',w) for w in items]"
   ]
  },
  {
   "cell_type": "markdown",
   "id": "58984c6d",
   "metadata": {},
   "source": [
    "## \\b with \\B"
   ]
  },
  {
   "cell_type": "code",
   "execution_count": 267,
   "id": "e3e6ada5",
   "metadata": {},
   "outputs": [
    {
     "data": {
      "text/plain": [
       "['Xed', 'hand', 'Xy', 'unhanded', 'Xle', 'hand-2']"
      ]
     },
     "execution_count": 267,
     "metadata": {},
     "output_type": "execute_result"
    }
   ],
   "source": [
    "[re.sub(r'\\bhand\\B','X', w) for w in items]"
   ]
  },
  {
   "cell_type": "markdown",
   "id": "254e57ca",
   "metadata": {},
   "source": [
    "**i)** For the given input list, filter all elements starting with `h`. Additionally, replace `e` with `X` for these filtered elements."
   ]
  },
  {
   "cell_type": "code",
   "execution_count": 121,
   "id": "deee0511",
   "metadata": {},
   "outputs": [],
   "source": [
    "items = ['handed', 'hand', 'handy', 'unhanded', 'handle', 'hand-2']"
   ]
  },
  {
   "cell_type": "code",
   "execution_count": 272,
   "id": "38fe6dec",
   "metadata": {},
   "outputs": [
    {
     "data": {
      "text/plain": [
       "['handXed', 'handX', 'handXy', 'handXlX', 'handX-2']"
      ]
     },
     "execution_count": 272,
     "metadata": {},
     "output_type": "execute_result"
    }
   ],
   "source": [
    "[re.sub('(?<=^(hand))|(?<=^(handl))(e)','X',w) for w in items if re.search(r'\\Ah', w) ]"
   ]
  },
  {
   "cell_type": "markdown",
   "id": "91f40f87",
   "metadata": {},
   "source": [
    "## \\A\n",
    "Start match anchor"
   ]
  },
  {
   "cell_type": "code",
   "execution_count": 269,
   "id": "015132f8",
   "metadata": {},
   "outputs": [
    {
     "data": {
      "text/plain": [
       "['handXd', 'hand', 'handy', 'handlX', 'hand-2']"
      ]
     },
     "execution_count": 269,
     "metadata": {},
     "output_type": "execute_result"
    }
   ],
   "source": [
    "[re.sub(r'e', 'X', w) for w in items if re.search(r'\\Ah', w)]"
   ]
  },
  {
   "cell_type": "markdown",
   "id": "0689862b",
   "metadata": {},
   "source": [
    "# Alternation and Grouping\n"
   ]
  },
  {
   "cell_type": "markdown",
   "id": "9792254f",
   "metadata": {},
   "source": [
    "**a)** For the given input list, filter all elements that start with `den` or end with `ly`"
   ]
  },
  {
   "cell_type": "code",
   "execution_count": 274,
   "id": "eedc49d1",
   "metadata": {},
   "outputs": [],
   "source": [
    "items = ['lovely', '1\\ndentist', '2 lonely', 'eden', 'fly\\n', 'dent']"
   ]
  },
  {
   "cell_type": "markdown",
   "id": "ef39aa2f",
   "metadata": {},
   "source": [
    "## |\n",
    "Specifies a set of alternatives on which to match."
   ]
  },
  {
   "cell_type": "code",
   "execution_count": 275,
   "id": "0420fc8b",
   "metadata": {},
   "outputs": [],
   "source": [
    "lst = []\n",
    "for w in items:\n",
    "    if re.search('den\\w+|\\w+ly',w):\n",
    "        lst.append(w)\n",
    "        "
   ]
  },
  {
   "cell_type": "code",
   "execution_count": 276,
   "id": "660628c2",
   "metadata": {},
   "outputs": [
    {
     "data": {
      "text/plain": [
       "['lovely', '1\\ndentist', '2 lonely', 'fly\\n', 'dent']"
      ]
     },
     "execution_count": 276,
     "metadata": {},
     "output_type": "execute_result"
    }
   ],
   "source": [
    "lst"
   ]
  },
  {
   "cell_type": "markdown",
   "id": "58820474",
   "metadata": {},
   "source": [
    "## \\Z \\z\n",
    "\\Z  matches just before a `single newline` at the end of the search string"
   ]
  },
  {
   "cell_type": "code",
   "execution_count": 278,
   "id": "81d9c9ed",
   "metadata": {},
   "outputs": [
    {
     "data": {
      "text/plain": [
       "['lovely', '2 lonely', 'dent']"
      ]
     },
     "execution_count": 278,
     "metadata": {},
     "output_type": "execute_result"
    }
   ],
   "source": [
    "[e for e in items if re.search(r'\\Aden|ly\\Z', e)]\n",
    "# (correct)"
   ]
  },
  {
   "cell_type": "code",
   "execution_count": 281,
   "id": "d747ecef",
   "metadata": {},
   "outputs": [
    {
     "data": {
      "text/plain": [
       "['lovely', '2 lonely', 'fly\\n', 'dent']"
      ]
     },
     "execution_count": 281,
     "metadata": {},
     "output_type": "execute_result"
    }
   ],
   "source": [
    "[e for e in items if re.search(r'^den\\w+|\\w+ly$',e)]"
   ]
  },
  {
   "cell_type": "markdown",
   "id": "fc1bbea8",
   "metadata": {},
   "source": [
    "**b)** For the given list, filter all elements having a line starting with `den` or ending with `ly`."
   ]
  },
  {
   "cell_type": "code",
   "execution_count": 171,
   "id": "9baf37cb",
   "metadata": {},
   "outputs": [],
   "source": [
    "items = ['lovely', '1\\ndentist', '2 lonely', 'eden', 'fly\\nfar', 'dent']"
   ]
  },
  {
   "cell_type": "code",
   "execution_count": 283,
   "id": "c572a7b0",
   "metadata": {},
   "outputs": [
    {
     "data": {
      "text/plain": [
       "['lovely', '2 lonely', 'fly\\n', 'dent']"
      ]
     },
     "execution_count": 283,
     "metadata": {},
     "output_type": "execute_result"
    }
   ],
   "source": [
    "[e for e in items if re.search(r'^den|ly$',e)]"
   ]
  },
  {
   "cell_type": "markdown",
   "id": "e0857773",
   "metadata": {},
   "source": [
    "## flags = re.M"
   ]
  },
  {
   "cell_type": "code",
   "execution_count": 284,
   "id": "36dd9d4b",
   "metadata": {},
   "outputs": [
    {
     "data": {
      "text/plain": [
       "['lovely', '1\\ndentist', '2 lonely', 'fly\\n', 'dent']"
      ]
     },
     "execution_count": 284,
     "metadata": {},
     "output_type": "execute_result"
    }
   ],
   "source": [
    "[e for e in items if re.search(r'^den|ly$',e, flags = re.M)]"
   ]
  },
  {
   "cell_type": "markdown",
   "id": "ad890b15",
   "metadata": {},
   "source": [
    "**c)** For the given input strings, replace all occurrences of `removed` or `reed` or `received` or `refused` with `X`.\n"
   ]
  },
  {
   "cell_type": "code",
   "execution_count": 287,
   "id": "5cbee880",
   "metadata": {},
   "outputs": [],
   "source": [
    "s1 = 'creed refuse removed read'\n",
    "s2 = 'refused reed redo received'"
   ]
  },
  {
   "cell_type": "code",
   "execution_count": 288,
   "id": "d07c5558",
   "metadata": {},
   "outputs": [
    {
     "name": "stdout",
     "output_type": "stream",
     "text": [
      "cX refuse X read\n",
      "X X redo X\n"
     ]
    }
   ],
   "source": [
    "pat = re.compile('reed|received|refused|removed')\n",
    "print(pat.sub('X', s1))\n",
    "print(pat.sub('X', s2))"
   ]
  },
  {
   "cell_type": "markdown",
   "id": "c9c4be6e",
   "metadata": {},
   "source": [
    "## |\n",
    "multiple options"
   ]
  },
  {
   "cell_type": "code",
   "execution_count": 289,
   "id": "c2016b6c",
   "metadata": {},
   "outputs": [],
   "source": [
    "pat = re.compile('re(|ceiv|fus|mov)ed')"
   ]
  },
  {
   "cell_type": "code",
   "execution_count": 290,
   "id": "5a8e0482",
   "metadata": {},
   "outputs": [
    {
     "data": {
      "text/plain": [
       "'cX refuse X read'"
      ]
     },
     "execution_count": 290,
     "metadata": {},
     "output_type": "execute_result"
    }
   ],
   "source": [
    "pat.sub('X', s1)"
   ]
  },
  {
   "cell_type": "code",
   "execution_count": 291,
   "id": "094cbd7c",
   "metadata": {},
   "outputs": [
    {
     "data": {
      "text/plain": [
       "'cX refuse X read'"
      ]
     },
     "execution_count": 291,
     "metadata": {},
     "output_type": "execute_result"
    }
   ],
   "source": [
    "pat.sub('X', s1)"
   ]
  },
  {
   "cell_type": "markdown",
   "id": "340cdee1",
   "metadata": {},
   "source": [
    "**d)** For the given input strings, replace all matches from the list `words` with `A`.\n"
   ]
  },
  {
   "cell_type": "code",
   "execution_count": 292,
   "id": "c2bc871b",
   "metadata": {},
   "outputs": [],
   "source": [
    "s1 = 'plate full of slate'\n",
    "s2 = \"slated for later, don't be late\"\n",
    "words = ['late', 'later', 'slated']"
   ]
  },
  {
   "cell_type": "code",
   "execution_count": 189,
   "id": "052bb417",
   "metadata": {},
   "outputs": [
    {
     "name": "stdout",
     "output_type": "stream",
     "text": [
      "pA full of sA\n",
      "A for Ar, don't be A\n"
     ]
    }
   ],
   "source": [
    "pat = re.compile(\"|\".join(words))\n",
    "print(pat.sub('A', s1))\n",
    "print(pat.sub('A', s2))"
   ]
  },
  {
   "cell_type": "markdown",
   "id": "2ff1641b",
   "metadata": {},
   "source": [
    "**e)** Filter all whole elements from the input list `items` based on elements listed in `words`."
   ]
  },
  {
   "cell_type": "code",
   "execution_count": 293,
   "id": "e50a33fd",
   "metadata": {},
   "outputs": [],
   "source": [
    "items = ['slate', 'later', 'plate', 'late', 'slates', 'slated ']\n",
    "words = ['late', 'later', 'slated']"
   ]
  },
  {
   "cell_type": "markdown",
   "id": "b55e4410",
   "metadata": {},
   "source": [
    "# .fullmatch"
   ]
  },
  {
   "cell_type": "code",
   "execution_count": 294,
   "id": "80d919e3",
   "metadata": {},
   "outputs": [
    {
     "data": {
      "text/plain": [
       "['later', 'late']"
      ]
     },
     "execution_count": 294,
     "metadata": {},
     "output_type": "execute_result"
    }
   ],
   "source": [
    "pat = re.compile(\"|\".join(words))\n",
    "\n",
    "[w for w in items if pat.fullmatch(w)]"
   ]
  },
  {
   "cell_type": "markdown",
   "id": "dde22fb4",
   "metadata": {},
   "source": [
    "# Escaping metacharacters\n",
    "`\\*, \\+,\\^,\\\\, \\|`"
   ]
  },
  {
   "cell_type": "markdown",
   "id": "c59c1684",
   "metadata": {},
   "source": [
    "**a)** Transform the given input strings to the expected output using same logic on both strings."
   ]
  },
  {
   "cell_type": "code",
   "execution_count": 195,
   "id": "4ced4b66",
   "metadata": {},
   "outputs": [],
   "source": [
    "str1 = '(9-2)*5+qty/3'\n",
    "\n",
    "str2 = '(qty+4)/2-(9-2)*5+pq/4'\n"
   ]
  },
  {
   "cell_type": "code",
   "execution_count": 197,
   "id": "6d4cc074",
   "metadata": {},
   "outputs": [
    {
     "data": {
      "text/plain": [
       "'35+qty/3'"
      ]
     },
     "execution_count": 197,
     "metadata": {},
     "output_type": "execute_result"
    }
   ],
   "source": [
    "re.sub(r'\\(9\\-2\\)\\*5', '35', str1)"
   ]
  },
  {
   "cell_type": "code",
   "execution_count": 198,
   "id": "4e9123e6",
   "metadata": {},
   "outputs": [
    {
     "data": {
      "text/plain": [
       "'(qty+4)/2-35+pq/4'"
      ]
     },
     "execution_count": 198,
     "metadata": {},
     "output_type": "execute_result"
    }
   ],
   "source": [
    "re.sub(r'\\(qty\\+4\\)\\/2\\-\\(9\\-2\\)\\*5','(qty+4)/2-35', str2)"
   ]
  },
  {
   "cell_type": "markdown",
   "id": "89ca3107",
   "metadata": {},
   "source": [
    "**b)** Replace `(4)\\|` with `2` only at the start or end of given input strings."
   ]
  },
  {
   "cell_type": "code",
   "execution_count": 297,
   "id": "b6b01d86",
   "metadata": {},
   "outputs": [],
   "source": [
    "s1 = r'2.3/(4)\\|6 foo 5.3-(4)\\|'\n",
    "\n",
    "s2 = r'(4)\\|42 - (4)\\|3'\n",
    "\n",
    "s3 = 'two - (4)\\\\|\\n'\n"
   ]
  },
  {
   "cell_type": "code",
   "execution_count": 302,
   "id": "82ccc897",
   "metadata": {},
   "outputs": [],
   "source": [
    "# raw string need "
   ]
  },
  {
   "cell_type": "code",
   "execution_count": 300,
   "id": "b00cd6b2",
   "metadata": {},
   "outputs": [],
   "source": [
    "pat = re.compile(r'\\A\\(4\\)\\\\\\||\\(4\\)\\\\\\|\\Z')\n",
    "# \\(4\\)\\\\\\ ==(4)\\|"
   ]
  },
  {
   "cell_type": "code",
   "execution_count": 301,
   "id": "295e8dd9",
   "metadata": {},
   "outputs": [
    {
     "data": {
      "text/plain": [
       "'2.3/(4)\\\\|6 foo 5.3-2'"
      ]
     },
     "execution_count": 301,
     "metadata": {},
     "output_type": "execute_result"
    }
   ],
   "source": [
    "pat.sub('2',s1)"
   ]
  },
  {
   "cell_type": "code",
   "execution_count": 303,
   "id": "217210e8",
   "metadata": {},
   "outputs": [
    {
     "data": {
      "text/plain": [
       "'242 - (4)\\\\|3'"
      ]
     },
     "execution_count": 303,
     "metadata": {},
     "output_type": "execute_result"
    }
   ],
   "source": [
    "pat.sub('2',s2)"
   ]
  },
  {
   "cell_type": "code",
   "execution_count": 304,
   "id": "0e80d02e",
   "metadata": {},
   "outputs": [
    {
     "data": {
      "text/plain": [
       "'two - (4)\\\\|\\n'"
      ]
     },
     "execution_count": 304,
     "metadata": {},
     "output_type": "execute_result"
    }
   ],
   "source": [
    "pat.sub('2',s3)"
   ]
  },
  {
   "cell_type": "markdown",
   "id": "798729b6",
   "metadata": {},
   "source": [
    "**c)** Replace any matching element from the list `items` with `X` for given the input strings. Match the elements from `items` literally. Assume no two elements of `items` will result in any matching conflict.\n"
   ]
  },
  {
   "cell_type": "code",
   "execution_count": 306,
   "id": "e1979b5b",
   "metadata": {},
   "outputs": [],
   "source": [
    "items = ['a.b', '3+n', r'x\\y\\z', 'qty||price', '{n}']\n"
   ]
  },
  {
   "cell_type": "markdown",
   "id": "d45c0f26",
   "metadata": {},
   "source": [
    "## re.escape() \n",
    "### same as re.match()\n",
    "lot of special characters that you want the parser to take literally instead of as metacharacters"
   ]
  },
  {
   "cell_type": "code",
   "execution_count": 308,
   "id": "6f8d6276",
   "metadata": {},
   "outputs": [],
   "source": [
    "pat = re.compile(\"|\".join(re.escape(e) for e in items))      ##### add your solution here"
   ]
  },
  {
   "cell_type": "code",
   "execution_count": 309,
   "id": "a26ed18c",
   "metadata": {},
   "outputs": [
    {
     "data": {
      "text/plain": [
       "'0Xcd'"
      ]
     },
     "execution_count": 309,
     "metadata": {},
     "output_type": "execute_result"
    }
   ],
   "source": [
    "pat.sub('X','0a.bcd')"
   ]
  },
  {
   "cell_type": "code",
   "execution_count": 310,
   "id": "3e84adbd",
   "metadata": {},
   "outputs": [
    {
     "data": {
      "text/plain": [
       "'EXAMPLE'"
      ]
     },
     "execution_count": 310,
     "metadata": {},
     "output_type": "execute_result"
    }
   ],
   "source": [
    "pat.sub('X', 'E{n}AMPLE')"
   ]
  },
  {
   "cell_type": "code",
   "execution_count": 311,
   "id": "bcaaf8fa",
   "metadata": {},
   "outputs": [
    {
     "data": {
      "text/plain": [
       "'4X2 aXe'"
      ]
     },
     "execution_count": 311,
     "metadata": {},
     "output_type": "execute_result"
    }
   ],
   "source": [
    "pat.sub('X', r'43+n2 ax\\y\\ze')"
   ]
  },
  {
   "cell_type": "markdown",
   "id": "b22691ab",
   "metadata": {},
   "source": [
    "**d)** Replace backspace character `\\b` with a single space character for the given input string."
   ]
  },
  {
   "cell_type": "markdown",
   "id": "859a20e0",
   "metadata": {},
   "source": [
    "# \\b = \\x08"
   ]
  },
  {
   "cell_type": "code",
   "execution_count": 316,
   "id": "64cc2ca8",
   "metadata": {},
   "outputs": [
    {
     "data": {
      "text/plain": [
       "'123\\x08456'"
      ]
     },
     "execution_count": 316,
     "metadata": {},
     "output_type": "execute_result"
    }
   ],
   "source": [
    "ip = '123\\b456'\n",
    "ip"
   ]
  },
  {
   "cell_type": "code",
   "execution_count": 318,
   "id": "fe4bddf4",
   "metadata": {},
   "outputs": [
    {
     "data": {
      "text/plain": [
       "'123 456'"
      ]
     },
     "execution_count": 318,
     "metadata": {},
     "output_type": "execute_result"
    }
   ],
   "source": [
    "re.sub(r'\\x08',' ',ip)"
   ]
  },
  {
   "cell_type": "markdown",
   "id": "67ec8041",
   "metadata": {},
   "source": [
    "Raw string"
   ]
  },
  {
   "cell_type": "code",
   "execution_count": 319,
   "id": "af5222d5",
   "metadata": {},
   "outputs": [
    {
     "data": {
      "text/plain": [
       "'123\\\\b456'"
      ]
     },
     "execution_count": 319,
     "metadata": {},
     "output_type": "execute_result"
    }
   ],
   "source": [
    "ip = r'123\\b456'\n",
    "ip"
   ]
  },
  {
   "cell_type": "code",
   "execution_count": 322,
   "id": "d5a39851",
   "metadata": {},
   "outputs": [
    {
     "data": {
      "text/plain": [
       "'123 456'"
      ]
     },
     "execution_count": 322,
     "metadata": {},
     "output_type": "execute_result"
    }
   ],
   "source": [
    "re.sub(r'\\\\b',' ',ip)"
   ]
  },
  {
   "cell_type": "markdown",
   "id": "5242a4b3",
   "metadata": {},
   "source": [
    "**e)** Replace all occurrences of `\\e` with `e`."
   ]
  },
  {
   "cell_type": "code",
   "execution_count": 325,
   "id": "b9874d61",
   "metadata": {},
   "outputs": [
    {
     "data": {
      "text/plain": [
       "'th\\\\er\\\\e ar\\\\e common asp\\\\ects among th\\\\e alt\\\\ernations'"
      ]
     },
     "execution_count": 325,
     "metadata": {},
     "output_type": "execute_result"
    }
   ],
   "source": [
    "ip = r'th\\er\\e ar\\e common asp\\ects among th\\e alt\\ernations'\n",
    "ip"
   ]
  },
  {
   "cell_type": "code",
   "execution_count": 328,
   "id": "8aef2333",
   "metadata": {},
   "outputs": [
    {
     "data": {
      "text/plain": [
       "'there are common aspects among the alternations'"
      ]
     },
     "execution_count": 328,
     "metadata": {},
     "output_type": "execute_result"
    }
   ],
   "source": [
    "re.sub(r'\\\\e', 'e',ip)"
   ]
  },
  {
   "cell_type": "markdown",
   "id": "fbebb924",
   "metadata": {},
   "source": [
    "**f)** Replace any matching item from the list `eqns` with `X` for given the string `ip`. Match the items from `eqns` literally."
   ]
  },
  {
   "cell_type": "code",
   "execution_count": 340,
   "id": "3f74dd83",
   "metadata": {},
   "outputs": [],
   "source": [
    "ip = '3-(a^b)+2*(a^b)-(a/b)+3'\n",
    "eqns = ['(a^b)', '(a/b)', '(a^b)+2']\n"
   ]
  },
  {
   "cell_type": "code",
   "execution_count": 336,
   "id": "6f62f7dc",
   "metadata": {},
   "outputs": [
    {
     "data": {
      "text/plain": [
       "'3-(a^b)+2*(a^b)-(a/b)+3'"
      ]
     },
     "execution_count": 336,
     "metadata": {},
     "output_type": "execute_result"
    }
   ],
   "source": [
    "ip"
   ]
  },
  {
   "cell_type": "code",
   "execution_count": 347,
   "id": "45b4f853",
   "metadata": {},
   "outputs": [
    {
     "name": "stdout",
     "output_type": "stream",
     "text": [
      "(a^b)|(a/b)|(a^b)+2\n"
     ]
    }
   ],
   "source": [
    "a = \"|\".join(eqns)\n",
    "print(a)"
   ]
  },
  {
   "cell_type": "code",
   "execution_count": 348,
   "id": "4425b3a7",
   "metadata": {},
   "outputs": [
    {
     "name": "stdout",
     "output_type": "stream",
     "text": [
      "copy(a^b)|(a/b)|(a^b)+2\n"
     ]
    }
   ],
   "source": [
    "print('copy{}'.format(a))"
   ]
  },
  {
   "cell_type": "code",
   "execution_count": 330,
   "id": "0f8ce7c4",
   "metadata": {},
   "outputs": [
    {
     "data": {
      "text/plain": [
       "re.compile(r'\\(a\\^b\\)|\\(a/b\\)|\\(a\\^b\\)\\+2', re.UNICODE)"
      ]
     },
     "execution_count": 330,
     "metadata": {},
     "output_type": "execute_result"
    }
   ],
   "source": [
    "re.compile(\"|\".join(re.escape(e) for e in eqns))"
   ]
  },
  {
   "cell_type": "code",
   "execution_count": 331,
   "id": "966dec66",
   "metadata": {},
   "outputs": [
    {
     "data": {
      "text/plain": [
       "'3-(a^b)+2*(a^b)-(a/b)+3'"
      ]
     },
     "execution_count": 331,
     "metadata": {},
     "output_type": "execute_result"
    }
   ],
   "source": [
    "pat.sub('X', ip)"
   ]
  },
  {
   "cell_type": "markdown",
   "id": "37285854",
   "metadata": {},
   "source": [
    "### soreted(,key = len, reverse = True)"
   ]
  },
  {
   "cell_type": "code",
   "execution_count": 353,
   "id": "0d2a9b4c",
   "metadata": {},
   "outputs": [],
   "source": [
    "eqns_sorted = sorted(eqns, key=len, reverse=True)\n",
    "pat = re.compile('|'.join(re.escape(s) for s in eqns_sorted))"
   ]
  },
  {
   "cell_type": "code",
   "execution_count": 354,
   "id": "1ead89e2",
   "metadata": {},
   "outputs": [
    {
     "data": {
      "text/plain": [
       "'3-X*X-X+3'"
      ]
     },
     "execution_count": 354,
     "metadata": {},
     "output_type": "execute_result"
    }
   ],
   "source": [
    "pat.sub('X', ip)"
   ]
  },
  {
   "cell_type": "markdown",
   "id": "35bd5dd5",
   "metadata": {},
   "source": [
    "# Dot metacharacter and Quantifiers"
   ]
  },
  {
   "cell_type": "markdown",
   "id": "e89a8ac8",
   "metadata": {},
   "source": [
    "Since `.` metacharacter doesn't match newline character by default, assume that the input strings in the following exercises will not contain newline characters.\n"
   ]
  },
  {
   "cell_type": "markdown",
   "id": "798cf776",
   "metadata": {},
   "source": [
    "**a)** Replace `42//5` or `42/5` with `8` for the given input."
   ]
  },
  {
   "cell_type": "code",
   "execution_count": 355,
   "id": "0d5461dd",
   "metadata": {},
   "outputs": [],
   "source": [
    "ip = 'a+42//5-c pressure*3+42/5-14256'"
   ]
  },
  {
   "cell_type": "code",
   "execution_count": 356,
   "id": "4e77e91e",
   "metadata": {},
   "outputs": [
    {
     "data": {
      "text/plain": [
       "'a+8-c pressure*3+8-14256'"
      ]
     },
     "execution_count": 356,
     "metadata": {},
     "output_type": "execute_result"
    }
   ],
   "source": [
    "re.sub(r'42(\\/\\/|\\/)5','8',ip)"
   ]
  },
  {
   "cell_type": "markdown",
   "id": "c443ddda",
   "metadata": {},
   "source": [
    "**b)** For the list `items`, filter all elements starting with `hand` and ending with at most one more character or `le`.\n"
   ]
  },
  {
   "cell_type": "code",
   "execution_count": 357,
   "id": "4d04c45f",
   "metadata": {},
   "outputs": [],
   "source": [
    "items = ['handed', 'hand', 'handled', 'handy', 'unhand', 'hands', 'handle']"
   ]
  },
  {
   "cell_type": "code",
   "execution_count": 372,
   "id": "f3194967",
   "metadata": {},
   "outputs": [
    {
     "data": {
      "text/plain": [
       "['handed', 'hand', 'handled', 'handy', 'hands', 'handle']"
      ]
     },
     "execution_count": 372,
     "metadata": {},
     "output_type": "execute_result"
    }
   ],
   "source": [
    "[w for w in items if re.search(r'^(hand)',w) or re.search(r'le$',w)] "
   ]
  },
  {
   "cell_type": "markdown",
   "id": "c1561bb4",
   "metadata": {},
   "source": [
    "# `?` \n",
    "Matches zero or one repetitions of the preceding regex\n",
    "\n",
    "# `dot (.)`\n",
    "\n",
    "dot(.)Specifies a wildcard."
   ]
  },
  {
   "cell_type": "code",
   "execution_count": 374,
   "id": "26ef1d0b",
   "metadata": {},
   "outputs": [
    {
     "data": {
      "text/plain": [
       "['hand', 'handy', 'hands', 'handle']"
      ]
     },
     "execution_count": 374,
     "metadata": {},
     "output_type": "execute_result"
    }
   ],
   "source": [
    "[w for w in items if re.fullmatch(r'^hand(.|le)?',w)] "
   ]
  },
  {
   "cell_type": "markdown",
   "id": "da7bfa54",
   "metadata": {},
   "source": [
    "**c)** Use `re.split` to get the output as shown for the given input strings."
   ]
  },
  {
   "cell_type": "code",
   "execution_count": 377,
   "id": "e1dd1c14",
   "metadata": {},
   "outputs": [],
   "source": [
    ">>> eqn1 = 'a+42//5-c'\n",
    ">>> eqn2 = 'pressure*3+42/5-14256'\n",
    ">>> eqn3 = 'r*42-5/3+42///5-42/53+a'"
   ]
  },
  {
   "cell_type": "markdown",
   "id": "a5d85890",
   "metadata": {},
   "source": [
    "# re.split"
   ]
  },
  {
   "cell_type": "code",
   "execution_count": 381,
   "id": "30fd9e19",
   "metadata": {},
   "outputs": [
    {
     "data": {
      "text/plain": [
       "['a+', '-c']"
      ]
     },
     "execution_count": 381,
     "metadata": {},
     "output_type": "execute_result"
    }
   ],
   "source": [
    "re.split('42//5',eqn1)"
   ]
  },
  {
   "cell_type": "code",
   "execution_count": 383,
   "id": "95cd98fb",
   "metadata": {},
   "outputs": [
    {
     "data": {
      "text/plain": [
       "['pressure*3+', '-14256']"
      ]
     },
     "execution_count": 383,
     "metadata": {},
     "output_type": "execute_result"
    }
   ],
   "source": [
    "re.split('42/5',eqn2)"
   ]
  },
  {
   "cell_type": "code",
   "execution_count": 384,
   "id": "5ca2c454",
   "metadata": {},
   "outputs": [
    {
     "data": {
      "text/plain": [
       "['r*42-5/3+42///5-', '3+a']"
      ]
     },
     "execution_count": 384,
     "metadata": {},
     "output_type": "execute_result"
    }
   ],
   "source": [
    "re.split('42/5',eqn3)"
   ]
  },
  {
   "cell_type": "markdown",
   "id": "c07eebb3",
   "metadata": {},
   "source": [
    "## ?\n",
    "Matches zero or one repetitions of the preceding regex"
   ]
  },
  {
   "cell_type": "code",
   "execution_count": 395,
   "id": "f785011d",
   "metadata": {},
   "outputs": [],
   "source": [
    "pat = re.compile(r'42//?5')"
   ]
  },
  {
   "cell_type": "code",
   "execution_count": 396,
   "id": "174c3355",
   "metadata": {},
   "outputs": [
    {
     "data": {
      "text/plain": [
       "['a+', '-c']"
      ]
     },
     "execution_count": 396,
     "metadata": {},
     "output_type": "execute_result"
    }
   ],
   "source": [
    "pat.split(eqn1)"
   ]
  },
  {
   "cell_type": "code",
   "execution_count": 397,
   "id": "1775b75b",
   "metadata": {},
   "outputs": [
    {
     "data": {
      "text/plain": [
       "['pressure*3+', '-14256']"
      ]
     },
     "execution_count": 397,
     "metadata": {},
     "output_type": "execute_result"
    }
   ],
   "source": [
    "pat.split(eqn2)"
   ]
  },
  {
   "cell_type": "code",
   "execution_count": 398,
   "id": "6cfe71cd",
   "metadata": {},
   "outputs": [
    {
     "data": {
      "text/plain": [
       "['r*42-5/3+42///5-', '3+a']"
      ]
     },
     "execution_count": 398,
     "metadata": {},
     "output_type": "execute_result"
    }
   ],
   "source": [
    "pat.split(eqn3)"
   ]
  },
  {
   "cell_type": "markdown",
   "id": "7b9e4bf0",
   "metadata": {},
   "source": [
    "# `*`\n",
    "zero or more repetitions"
   ]
  },
  {
   "cell_type": "code",
   "execution_count": 399,
   "id": "bd0a6a71",
   "metadata": {},
   "outputs": [],
   "source": [
    "pat = re.compile(r'42//?5')\n"
   ]
  },
  {
   "cell_type": "code",
   "execution_count": 400,
   "id": "ec89ebef",
   "metadata": {},
   "outputs": [
    {
     "data": {
      "text/plain": [
       "['a+', '-c']"
      ]
     },
     "execution_count": 400,
     "metadata": {},
     "output_type": "execute_result"
    }
   ],
   "source": [
    "pat.split(eqn1)"
   ]
  },
  {
   "cell_type": "code",
   "execution_count": 401,
   "id": "33ee5532",
   "metadata": {},
   "outputs": [
    {
     "data": {
      "text/plain": [
       "['pressure*3+', '-14256']"
      ]
     },
     "execution_count": 401,
     "metadata": {},
     "output_type": "execute_result"
    }
   ],
   "source": [
    "pat.split(eqn2)"
   ]
  },
  {
   "cell_type": "code",
   "execution_count": 402,
   "id": "5f11c5df",
   "metadata": {},
   "outputs": [
    {
     "data": {
      "text/plain": [
       "['r*42-5/3+42///5-', '3+a']"
      ]
     },
     "execution_count": 402,
     "metadata": {},
     "output_type": "execute_result"
    }
   ],
   "source": [
    "pat.split(eqn3)"
   ]
  },
  {
   "cell_type": "markdown",
   "id": "02801250",
   "metadata": {},
   "source": [
    "**d)** For the given input strings, remove everything from the first occurrence of `i` till end of the string."
   ]
  },
  {
   "cell_type": "code",
   "execution_count": 403,
   "id": "7e6dda1f",
   "metadata": {},
   "outputs": [],
   "source": [
    "s1 = 'remove the special meaning of such constructs'\n",
    "s2 = 'characters while constructing'"
   ]
  },
  {
   "cell_type": "markdown",
   "id": "4eafeb99",
   "metadata": {},
   "source": [
    "# `+ `\n",
    "at least one or more repetitions\n",
    "# `.`\n",
    "The `.` metacharacter matches any `single character` `except a newline`:"
   ]
  },
  {
   "cell_type": "code",
   "execution_count": 415,
   "id": "476c81a9",
   "metadata": {},
   "outputs": [],
   "source": [
    "pat = re.compile(r'i.+')"
   ]
  },
  {
   "cell_type": "code",
   "execution_count": 416,
   "id": "0120ce93",
   "metadata": {},
   "outputs": [
    {
     "data": {
      "text/plain": [
       "'remove the spec'"
      ]
     },
     "execution_count": 416,
     "metadata": {},
     "output_type": "execute_result"
    }
   ],
   "source": [
    "pat.sub('',s1)"
   ]
  },
  {
   "cell_type": "code",
   "execution_count": 417,
   "id": "3b731c18",
   "metadata": {},
   "outputs": [
    {
     "data": {
      "text/plain": [
       "'characters wh'"
      ]
     },
     "execution_count": 417,
     "metadata": {},
     "output_type": "execute_result"
    }
   ],
   "source": [
    "pat.sub('',s2)"
   ]
  },
  {
   "cell_type": "markdown",
   "id": "1f74c04f",
   "metadata": {},
   "source": [
    "# `*`\n",
    "zero or more repetitions"
   ]
  },
  {
   "cell_type": "markdown",
   "id": "04e9142c",
   "metadata": {},
   "source": [
    "**e)** For the given strings, construct a RE to get output as shown."
   ]
  },
  {
   "cell_type": "code",
   "execution_count": 418,
   "id": "7b2d6a40",
   "metadata": {},
   "outputs": [],
   "source": [
    "str1 = 'a+b(addition)'\n",
    "str2 = 'a/b(division) + c%d(#modulo)'\n",
    "str3 = 'Hi there(greeting). Nice day(a(b)'"
   ]
  },
  {
   "cell_type": "code",
   "execution_count": 442,
   "id": "0d1c97ee",
   "metadata": {},
   "outputs": [],
   "source": [
    "remove_parentheses = re.compile(r'\\(.*\\)')"
   ]
  },
  {
   "cell_type": "markdown",
   "id": "8de545dc",
   "metadata": {},
   "source": [
    "## `.*?`\n",
    "`(.*?)` matches any character `(.)` any number of times `(*)`, as few times as possible to make the regex match `(?)"
   ]
  },
  {
   "cell_type": "code",
   "execution_count": 443,
   "id": "b4a04dab",
   "metadata": {},
   "outputs": [],
   "source": [
    "remove_parentheses = re.compile(r'\\(.*?\\)')"
   ]
  },
  {
   "cell_type": "code",
   "execution_count": 444,
   "id": "b6a6dd22",
   "metadata": {},
   "outputs": [
    {
     "data": {
      "text/plain": [
       "'a+b'"
      ]
     },
     "execution_count": 444,
     "metadata": {},
     "output_type": "execute_result"
    }
   ],
   "source": [
    "remove_parentheses.sub('', str1)"
   ]
  },
  {
   "cell_type": "code",
   "execution_count": 445,
   "id": "ab5c662e",
   "metadata": {},
   "outputs": [
    {
     "data": {
      "text/plain": [
       "'a/b + c%d'"
      ]
     },
     "execution_count": 445,
     "metadata": {},
     "output_type": "execute_result"
    }
   ],
   "source": [
    "remove_parentheses.sub('', str2)"
   ]
  },
  {
   "cell_type": "code",
   "execution_count": 446,
   "id": "9375cb93",
   "metadata": {},
   "outputs": [
    {
     "data": {
      "text/plain": [
       "'Hi there. Nice day'"
      ]
     },
     "execution_count": 446,
     "metadata": {},
     "output_type": "execute_result"
    }
   ],
   "source": [
    "remove_parentheses.sub('', str3)"
   ]
  },
  {
   "cell_type": "markdown",
   "id": "b2d9e93f",
   "metadata": {},
   "source": [
    "**f)** Correct the given RE to get the expected output."
   ]
  },
  {
   "cell_type": "code",
   "execution_count": 458,
   "id": "0f457de9",
   "metadata": {},
   "outputs": [],
   "source": [
    "words = 'plink incoming tint winter in caution sentient'\n",
    "change = re.compile(r'int|in|ion|ing|inco|inter|ink')"
   ]
  },
  {
   "cell_type": "code",
   "execution_count": 459,
   "id": "86cfe941",
   "metadata": {},
   "outputs": [
    {
     "data": {
      "text/plain": [
       "'plXk XcomXg tX wXer X cautX sentient'"
      ]
     },
     "execution_count": 459,
     "metadata": {},
     "output_type": "execute_result"
    }
   ],
   "source": [
    "# wrong output\n",
    "change.sub('X', words)"
   ]
  },
  {
   "cell_type": "code",
   "execution_count": 466,
   "id": "ccf03fc7",
   "metadata": {},
   "outputs": [],
   "source": [
    "# expected output\n",
    "# 'plX XmX tX wX X cautX sentient'\n",
    "\n",
    "change = re.compile(r'in(g|co|ter|k|t)?|ion')       ##### add your solution here"
   ]
  },
  {
   "cell_type": "code",
   "execution_count": 465,
   "id": "1fa7ef0d",
   "metadata": {},
   "outputs": [
    {
     "data": {
      "text/plain": [
       "'plX XmX tX wX X caution sentient'"
      ]
     },
     "execution_count": 465,
     "metadata": {},
     "output_type": "execute_result"
    }
   ],
   "source": [
    "change.sub('X', words)"
   ]
  },
  {
   "cell_type": "markdown",
   "id": "62f44939",
   "metadata": {},
   "source": [
    "**g)** For the given greedy quantifiers, what would be the equivalent form using `{m,n}` representation?"
   ]
  },
  {
   "cell_type": "markdown",
   "id": "8676c61f",
   "metadata": {},
   "source": [
    "* `?` is same as\n",
    "`m=0 , n= 1`\n",
    "* `*` is same as\n",
    "`m=0 , n = `$\\infty$\n",
    "* `+` is same as\n",
    "`m=1 , n=` $\\infty$"
   ]
  },
  {
   "cell_type": "markdown",
   "id": "b08f0401",
   "metadata": {},
   "source": [
    "**h)** `(a*|b*)` is same as `(a|b)*` — True or False?\n",
    "<br>False\n",
    "* `(a*|b*)` this will match only one repetation i.e aa or bbbb\n",
    "* `(a|b)*` this will match combination of both i.e ab , aabb, abb "
   ]
  },
  {
   "cell_type": "markdown",
   "id": "93b2d69f",
   "metadata": {},
   "source": [
    "**i)** For the given input strings, remove everything from the first occurrence of `test` (irrespective of case) till end of the string, provided `test` isn't at the end of the string.\n"
   ]
  },
  {
   "cell_type": "code",
   "execution_count": 467,
   "id": "2e51aea9",
   "metadata": {},
   "outputs": [],
   "source": [
    "s1 = 'this is a Test'\n",
    "s2 = 'always test your RE for corner cases'\n",
    "s3 = 'a TEST of skill tests?'\n"
   ]
  },
  {
   "cell_type": "code",
   "execution_count": 469,
   "id": "6710d6ea",
   "metadata": {},
   "outputs": [
    {
     "name": "stdout",
     "output_type": "stream",
     "text": [
      "this is a \n",
      "always \n",
      "a \n"
     ]
    }
   ],
   "source": [
    "pat = re.compile(r'test.*',flags = re.I)      ##### add your solution here\n",
    "\n",
    "print(pat.sub('', s1))\n",
    "print(pat.sub('', s2))\n",
    "print(pat.sub('', s3))"
   ]
  },
  {
   "cell_type": "code",
   "execution_count": 471,
   "id": "329d31cd",
   "metadata": {},
   "outputs": [
    {
     "name": "stdout",
     "output_type": "stream",
     "text": [
      "this is a Test\n",
      "always \n",
      "a \n"
     ]
    }
   ],
   "source": [
    "pat = re.compile(r'(test|TEST).*',)      ##### add your solution here\n",
    "\n",
    "print(pat.sub('', s1))\n",
    "print(pat.sub('', s2))\n",
    "print(pat.sub('', s3))"
   ]
  },
  {
   "cell_type": "code",
   "execution_count": 472,
   "id": "7c3e0031",
   "metadata": {},
   "outputs": [
    {
     "name": "stdout",
     "output_type": "stream",
     "text": [
      "this is a Test\n",
      "always \n",
      "a \n"
     ]
    }
   ],
   "source": [
    "pat = re.compile('test.+', flags=re.I)     ##### add your solution here\n",
    "\n",
    "print(pat.sub('', s1))\n",
    "print(pat.sub('', s2))\n",
    "print(pat.sub('', s3))"
   ]
  },
  {
   "cell_type": "markdown",
   "id": "65c08d40",
   "metadata": {},
   "source": [
    "**j)** For the input list `words`, filter all elements starting with `s` and containing `e` and `t` in any order."
   ]
  },
  {
   "cell_type": "code",
   "execution_count": 474,
   "id": "0f440f6a",
   "metadata": {},
   "outputs": [],
   "source": [
    "words = ['sequoia', 'subtle', 'exhibit', 'asset', 'sets', 'tests', 'site']"
   ]
  },
  {
   "cell_type": "code",
   "execution_count": 482,
   "id": "5e9d06ff",
   "metadata": {},
   "outputs": [],
   "source": [
    "pat = re.compile('\\As.*(e.*t|t.*e).*')"
   ]
  },
  {
   "cell_type": "code",
   "execution_count": 483,
   "id": "97e1e643",
   "metadata": {},
   "outputs": [
    {
     "data": {
      "text/plain": [
       "['subtle', 'sets', 'site']"
      ]
     },
     "execution_count": 483,
     "metadata": {},
     "output_type": "execute_result"
    }
   ],
   "source": [
    "[w for w in words if pat.search(w)]"
   ]
  },
  {
   "cell_type": "markdown",
   "id": "23345dd0",
   "metadata": {},
   "source": [
    "**k)** For the input list `words`, remove all elements having less than `6` characters."
   ]
  },
  {
   "cell_type": "code",
   "execution_count": 485,
   "id": "db448ddb",
   "metadata": {},
   "outputs": [],
   "source": [
    "words = ['sequoia', 'subtle', 'exhibit', 'asset', 'sets', 'tests', 'site']"
   ]
  },
  {
   "cell_type": "code",
   "execution_count": 492,
   "id": "be0af18c",
   "metadata": {},
   "outputs": [
    {
     "data": {
      "text/plain": [
       "['sequoia', 'subtle', 'exhibit']"
      ]
     },
     "execution_count": 492,
     "metadata": {},
     "output_type": "execute_result"
    }
   ],
   "source": [
    "[w for w in words if re.search(r'.{6}',w)]"
   ]
  },
  {
   "cell_type": "code",
   "execution_count": 493,
   "id": "364a14ba",
   "metadata": {},
   "outputs": [
    {
     "data": {
      "text/plain": [
       "['sequoia', 'subtle', 'exhibit']"
      ]
     },
     "execution_count": 493,
     "metadata": {},
     "output_type": "execute_result"
    }
   ],
   "source": [
    "[w for w in words if re.search(r'.{6,}', w)]"
   ]
  },
  {
   "cell_type": "markdown",
   "id": "8c972abd",
   "metadata": {},
   "source": [
    "**l)** For the input list `words`, filter all elements starting with `s` or `t` and having a maximum of `6` characters."
   ]
  },
  {
   "cell_type": "code",
   "execution_count": 494,
   "id": "4aa19b22",
   "metadata": {},
   "outputs": [],
   "source": [
    "words = ['sequoia', 'subtle', 'exhibit', 'asset', 'sets', 'tests', 'site']"
   ]
  },
  {
   "cell_type": "code",
   "execution_count": 499,
   "id": "8aaf42f3",
   "metadata": {},
   "outputs": [
    {
     "data": {
      "text/plain": [
       "['sequoia', 'subtle', 'exhibit', 'asset', 'sets', 'tests', 'site']"
      ]
     },
     "execution_count": 499,
     "metadata": {},
     "output_type": "execute_result"
    }
   ],
   "source": [
    "[w for w in words if re.search(r'.{,5}', w) and re.search(r'.*(s*|t*).*', w)]"
   ]
  },
  {
   "cell_type": "code",
   "execution_count": 497,
   "id": "421ae908",
   "metadata": {},
   "outputs": [
    {
     "data": {
      "text/plain": [
       "['subtle', 'sets', 'tests', 'site']"
      ]
     },
     "execution_count": 497,
     "metadata": {},
     "output_type": "execute_result"
    }
   ],
   "source": [
    "[w for w in words if re.fullmatch(r'(s|t).{,5}', w)]\n",
    "# (correct)"
   ]
  },
  {
   "cell_type": "markdown",
   "id": "3f1c1523",
   "metadata": {},
   "source": [
    "\n",
    "**m)** Can you reason out why this code results in the output shown? The aim was to remove all `<characters>` patterns but not the `<>` ones. The expected result was `'a 1<> b 2<> c'`."
   ]
  },
  {
   "cell_type": "code",
   "execution_count": 500,
   "id": "b2e42af1",
   "metadata": {},
   "outputs": [],
   "source": [
    "ip = 'a<apple> 1<> b<bye> 2<> c<cat>'"
   ]
  },
  {
   "cell_type": "code",
   "execution_count": 505,
   "id": "c79e08f3",
   "metadata": {},
   "outputs": [
    {
     "data": {
      "text/plain": [
       "'a 1 2'"
      ]
     },
     "execution_count": 505,
     "metadata": {},
     "output_type": "execute_result"
    }
   ],
   "source": [
    "re.sub(r'<.+?>', '', ip)"
   ]
  },
  {
   "cell_type": "markdown",
   "id": "163e7cde",
   "metadata": {},
   "source": [
    ".+ means detect any character one or more times \n"
   ]
  },
  {
   "cell_type": "markdown",
   "id": "e30dd8c1",
   "metadata": {},
   "source": [
    "**n)** Use `re.split` to get the output as shown below for given input strings."
   ]
  },
  {
   "cell_type": "code",
   "execution_count": 506,
   "id": "96733938",
   "metadata": {},
   "outputs": [],
   "source": [
    "s1 = 'go there  //   \"this // that\"'\n",
    "s2 = 'a//b // c//d e//f // 4//5'\n",
    "s3 = '42// hi//bye//see // carefully'"
   ]
  },
  {
   "cell_type": "code",
   "execution_count": 540,
   "id": "38a7baa9",
   "metadata": {},
   "outputs": [],
   "source": [
    "pat = re.compile(r'\\s{1,2}//\\s{1,2}')     ##### add your solution here\n",
    "# (correct)"
   ]
  },
  {
   "cell_type": "code",
   "execution_count": 541,
   "id": "1aa0f821",
   "metadata": {},
   "outputs": [
    {
     "data": {
      "text/plain": [
       "['go there', ' \"this', 'that\"']"
      ]
     },
     "execution_count": 541,
     "metadata": {},
     "output_type": "execute_result"
    }
   ],
   "source": [
    "pat.split(s1)"
   ]
  },
  {
   "cell_type": "code",
   "execution_count": 542,
   "id": "9527b496",
   "metadata": {},
   "outputs": [
    {
     "data": {
      "text/plain": [
       "['a//b', 'c//d e//f', '4//5']"
      ]
     },
     "execution_count": 542,
     "metadata": {},
     "output_type": "execute_result"
    }
   ],
   "source": [
    "pat.split(s2)"
   ]
  },
  {
   "cell_type": "code",
   "execution_count": 543,
   "id": "d6155bc6",
   "metadata": {},
   "outputs": [
    {
     "data": {
      "text/plain": [
       "['42// hi//bye//see', 'carefully']"
      ]
     },
     "execution_count": 543,
     "metadata": {},
     "output_type": "execute_result"
    }
   ],
   "source": [
    "pat.split(s3)"
   ]
  },
  {
   "cell_type": "code",
   "execution_count": 544,
   "id": "677319b7",
   "metadata": {},
   "outputs": [],
   "source": [
    "pat = re.compile(r'\\s+//\\s+')     ##### add your solution here"
   ]
  },
  {
   "cell_type": "code",
   "execution_count": 545,
   "id": "7f186ee5",
   "metadata": {},
   "outputs": [
    {
     "data": {
      "text/plain": [
       "['go there', '\"this', 'that\"']"
      ]
     },
     "execution_count": 545,
     "metadata": {},
     "output_type": "execute_result"
    }
   ],
   "source": [
    "pat.split(s1)"
   ]
  },
  {
   "cell_type": "code",
   "execution_count": 546,
   "id": "92e9a601",
   "metadata": {},
   "outputs": [
    {
     "data": {
      "text/plain": [
       "['a//b', 'c//d e//f', '4//5']"
      ]
     },
     "execution_count": 546,
     "metadata": {},
     "output_type": "execute_result"
    }
   ],
   "source": [
    "pat.split(s2)"
   ]
  },
  {
   "cell_type": "code",
   "execution_count": 547,
   "id": "6e074ee2",
   "metadata": {},
   "outputs": [
    {
     "data": {
      "text/plain": [
       "['a//b', 'c//d e//f', '4//5']"
      ]
     },
     "execution_count": 547,
     "metadata": {},
     "output_type": "execute_result"
    }
   ],
   "source": [
    "pat.split(s2)"
   ]
  },
  {
   "cell_type": "code",
   "execution_count": 548,
   "id": "fa98fd52",
   "metadata": {},
   "outputs": [],
   "source": [
    "pat = re.compile(r' +// +')"
   ]
  },
  {
   "cell_type": "code",
   "execution_count": 549,
   "id": "f035b6a6",
   "metadata": {},
   "outputs": [
    {
     "data": {
      "text/plain": [
       "['go there', '\"this', 'that\"']"
      ]
     },
     "execution_count": 549,
     "metadata": {},
     "output_type": "execute_result"
    }
   ],
   "source": [
    "pat.split(s1)"
   ]
  },
  {
   "cell_type": "code",
   "execution_count": 550,
   "id": "4c3f5dcc",
   "metadata": {},
   "outputs": [
    {
     "data": {
      "text/plain": [
       "['a//b', 'c//d e//f', '4//5']"
      ]
     },
     "execution_count": 550,
     "metadata": {},
     "output_type": "execute_result"
    }
   ],
   "source": [
    "pat.split(s2)"
   ]
  },
  {
   "cell_type": "code",
   "execution_count": 551,
   "id": "d1bb1878",
   "metadata": {},
   "outputs": [
    {
     "data": {
      "text/plain": [
       "['42// hi//bye//see', 'carefully']"
      ]
     },
     "execution_count": 551,
     "metadata": {},
     "output_type": "execute_result"
    }
   ],
   "source": [
    "pat.split(s3)"
   ]
  },
  {
   "cell_type": "markdown",
   "id": "fea88fdb",
   "metadata": {},
   "source": [
    "# Working with matched portions"
   ]
  },
  {
   "cell_type": "markdown",
   "id": "26832326",
   "metadata": {},
   "source": [
    "**a)** For the given strings, extract the matching portion from first `is` to last `t`."
   ]
  },
  {
   "cell_type": "markdown",
   "id": "1f3b3b5c",
   "metadata": {},
   "source": [
    "first match to last match "
   ]
  },
  {
   "cell_type": "code",
   "execution_count": 552,
   "id": "5e9d3968",
   "metadata": {},
   "outputs": [],
   "source": [
    "str1 = 'This the biggest fruit you have seen?'\n",
    "str2 = 'Your mission is to read and practice consistently'"
   ]
  },
  {
   "cell_type": "code",
   "execution_count": 568,
   "id": "9fc93ae8",
   "metadata": {},
   "outputs": [],
   "source": [
    "pat = re.compile('(is).*t')"
   ]
  },
  {
   "cell_type": "code",
   "execution_count": 570,
   "id": "1d02193d",
   "metadata": {},
   "outputs": [
    {
     "data": {
      "text/plain": [
       "<re.Match object; span=(2, 22), match='is the biggest fruit'>"
      ]
     },
     "execution_count": 570,
     "metadata": {},
     "output_type": "execute_result"
    }
   ],
   "source": [
    "pat.search(str1)"
   ]
  },
  {
   "cell_type": "code",
   "execution_count": 571,
   "id": "9ccbae7a",
   "metadata": {},
   "outputs": [
    {
     "data": {
      "text/plain": [
       "<re.Match object; span=(6, 47), match='ission is to read and practice consistent'>"
      ]
     },
     "execution_count": 571,
     "metadata": {},
     "output_type": "execute_result"
    }
   ],
   "source": [
    "pat.search(str2)"
   ]
  },
  {
   "cell_type": "markdown",
   "id": "0602371e",
   "metadata": {},
   "source": [
    "**b)** Find the starting index of first occurrence of `is` or `the` or `was` or `to` for the given input strings.\n"
   ]
  },
  {
   "cell_type": "code",
   "execution_count": 573,
   "id": "8dc47fb0",
   "metadata": {},
   "outputs": [],
   "source": [
    "s1 = 'match after the last newline character'\n",
    "s2 = 'and then you want to test'\n",
    "s3 = 'this is good bye then'\n",
    "s4 = 'who was there to see?'"
   ]
  },
  {
   "cell_type": "code",
   "execution_count": 575,
   "id": "74dadc58",
   "metadata": {},
   "outputs": [],
   "source": [
    "pat = re.compile(r'(is|the|was|to') "
   ]
  },
  {
   "cell_type": "code",
   "execution_count": 576,
   "id": "6310d355",
   "metadata": {},
   "outputs": [
    {
     "data": {
      "text/plain": [
       "12"
      ]
     },
     "execution_count": 576,
     "metadata": {},
     "output_type": "execute_result"
    }
   ],
   "source": [
    "pat.search(s1).start()"
   ]
  },
  {
   "cell_type": "code",
   "execution_count": 577,
   "id": "1ec752a1",
   "metadata": {},
   "outputs": [
    {
     "data": {
      "text/plain": [
       "4"
      ]
     },
     "execution_count": 577,
     "metadata": {},
     "output_type": "execute_result"
    }
   ],
   "source": [
    "pat.search(s2).start()"
   ]
  },
  {
   "cell_type": "code",
   "execution_count": 578,
   "id": "5e35e53c",
   "metadata": {},
   "outputs": [
    {
     "data": {
      "text/plain": [
       "2"
      ]
     },
     "execution_count": 578,
     "metadata": {},
     "output_type": "execute_result"
    }
   ],
   "source": [
    "pat.search(s3).start()"
   ]
  },
  {
   "cell_type": "code",
   "execution_count": 579,
   "id": "670ba487",
   "metadata": {},
   "outputs": [
    {
     "data": {
      "text/plain": [
       "4"
      ]
     },
     "execution_count": 579,
     "metadata": {},
     "output_type": "execute_result"
    }
   ],
   "source": [
    "pat.search(s4).start()"
   ]
  },
  {
   "cell_type": "markdown",
   "id": "daf01ac0",
   "metadata": {},
   "source": [
    "**c)** Find the starting index of last occurrence of `is` or `the` or `was` or `to` for the given input strings."
   ]
  },
  {
   "cell_type": "code",
   "execution_count": 581,
   "id": "8a812bfc",
   "metadata": {},
   "outputs": [],
   "source": [
    "s1 = 'match after the last newline character'\n",
    "s2 = 'and then you want to test'\n",
    "s3 = 'this is good bye then'\n",
    "s4 = 'who was there to see?'"
   ]
  },
  {
   "cell_type": "code",
   "execution_count": 583,
   "id": "b572b2df",
   "metadata": {},
   "outputs": [],
   "source": [
    "pat = re.compile(r'(is|the|was|to)') "
   ]
  },
  {
   "cell_type": "code",
   "execution_count": 586,
   "id": "8df5c6e8",
   "metadata": {},
   "outputs": [
    {
     "data": {
      "text/plain": [
       "15"
      ]
     },
     "execution_count": 586,
     "metadata": {},
     "output_type": "execute_result"
    }
   ],
   "source": [
    "pat.search(s1).end()"
   ]
  },
  {
   "cell_type": "code",
   "execution_count": 587,
   "id": "9f916c45",
   "metadata": {},
   "outputs": [
    {
     "data": {
      "text/plain": [
       "7"
      ]
     },
     "execution_count": 587,
     "metadata": {},
     "output_type": "execute_result"
    }
   ],
   "source": [
    "pat.search(s2).end()"
   ]
  },
  {
   "cell_type": "code",
   "execution_count": 588,
   "id": "8b8d3052",
   "metadata": {},
   "outputs": [
    {
     "data": {
      "text/plain": [
       "4"
      ]
     },
     "execution_count": 588,
     "metadata": {},
     "output_type": "execute_result"
    }
   ],
   "source": [
    "pat.search(s3).end()"
   ]
  },
  {
   "cell_type": "code",
   "execution_count": 589,
   "id": "a214e49e",
   "metadata": {},
   "outputs": [
    {
     "data": {
      "text/plain": [
       "7"
      ]
     },
     "execution_count": 589,
     "metadata": {},
     "output_type": "execute_result"
    }
   ],
   "source": [
    "pat.search(s4).end()"
   ]
  },
  {
   "cell_type": "markdown",
   "id": "c633e397",
   "metadata": {},
   "source": [
    "**d)** The given input string contains `:` exactly once. Extract all characters after the `:` as output."
   ]
  },
  {
   "cell_type": "code",
   "execution_count": 590,
   "id": "f5514257",
   "metadata": {},
   "outputs": [],
   "source": [
    "ip = 'fruits:apple, mango, guava, blueberry'"
   ]
  },
  {
   "cell_type": "code",
   "execution_count": 603,
   "id": "a2b49840",
   "metadata": {},
   "outputs": [
    {
     "name": "stdout",
     "output_type": "stream",
     "text": [
      "<re.Match object; span=(6, 37), match=':apple, mango, guava, blueberry'>\n"
     ]
    }
   ],
   "source": [
    "print(re.search(r':a(.*)', ip))"
   ]
  },
  {
   "cell_type": "code",
   "execution_count": 609,
   "id": "e98f071c",
   "metadata": {},
   "outputs": [
    {
     "data": {
      "text/plain": [
       "':apple, mango, guava, blueberry'"
      ]
     },
     "execution_count": 609,
     "metadata": {},
     "output_type": "execute_result"
    }
   ],
   "source": [
    "re.search(r':a(.*)', ip)[0]\n"
   ]
  },
  {
   "cell_type": "code",
   "execution_count": 608,
   "id": "6f9cbbf5",
   "metadata": {},
   "outputs": [
    {
     "data": {
      "text/plain": [
       "'pple, mango, guava, blueberry'"
      ]
     },
     "execution_count": 608,
     "metadata": {},
     "output_type": "execute_result"
    }
   ],
   "source": [
    "re.search(r':a(.*)', ip)[1]\n",
    "# this will capture only match which is in parentheses "
   ]
  },
  {
   "cell_type": "markdown",
   "id": "9d816aa8",
   "metadata": {},
   "source": [
    "**e)** The given input strings contains some text followed by `-` followed by a number. Replace that number with its `log` value using `math.log()`.\n"
   ]
  },
  {
   "cell_type": "code",
   "execution_count": 610,
   "id": "e1c06c6a",
   "metadata": {},
   "outputs": [],
   "source": [
    "s1 = 'first-3.14'\n",
    "s2 = 'next-123'"
   ]
  },
  {
   "cell_type": "code",
   "execution_count": 637,
   "id": "2c6ed86c",
   "metadata": {},
   "outputs": [],
   "source": [
    "import math"
   ]
  },
  {
   "cell_type": "code",
   "execution_count": 632,
   "id": "2cbc6bd9",
   "metadata": {},
   "outputs": [],
   "source": [
    "\n",
    "pat = re.compile('(\\d+.\\d+)|(\\d+)')"
   ]
  },
  {
   "cell_type": "code",
   "execution_count": 641,
   "id": "8bf7ede2",
   "metadata": {},
   "outputs": [],
   "source": [
    "s1_log = math.log(float(pat.search(s1)[0]))"
   ]
  },
  {
   "cell_type": "code",
   "execution_count": 640,
   "id": "d82b0784",
   "metadata": {},
   "outputs": [],
   "source": [
    "s2_log = math.log(int(pat.search(s2)[0]))"
   ]
  },
  {
   "cell_type": "code",
   "execution_count": 643,
   "id": "90335ad7",
   "metadata": {},
   "outputs": [
    {
     "data": {
      "text/plain": [
       "'first-1.144222799920162'"
      ]
     },
     "execution_count": 643,
     "metadata": {},
     "output_type": "execute_result"
    }
   ],
   "source": [
    "pat.sub(str(s1_log),s1)"
   ]
  },
  {
   "cell_type": "code",
   "execution_count": 645,
   "id": "fe733ac7",
   "metadata": {},
   "outputs": [
    {
     "data": {
      "text/plain": [
       "'next-4.812184355372417'"
      ]
     },
     "execution_count": 645,
     "metadata": {},
     "output_type": "execute_result"
    }
   ],
   "source": [
    "pat.sub(str(s2_log),s2)"
   ]
  },
  {
   "cell_type": "markdown",
   "id": "275bd168",
   "metadata": {},
   "source": [
    "**f)** Replace all occurrences of `par` with `spar`, `spare` with `spare` and `park` with `garden` for the given input strings."
   ]
  },
  {
   "cell_type": "code",
   "execution_count": 646,
   "id": "1c1b1648",
   "metadata": {},
   "outputs": [],
   "source": [
    "str1 = 'apartment has a park'\n",
    "str2 = 'do you have a spare cable'\n",
    "str3 = 'write a parser'"
   ]
  },
  {
   "cell_type": "code",
   "execution_count": 648,
   "id": "d45e08b7",
   "metadata": {},
   "outputs": [
    {
     "data": {
      "text/plain": [
       "'aspartment has a spark'"
      ]
     },
     "execution_count": 648,
     "metadata": {},
     "output_type": "execute_result"
    }
   ],
   "source": [
    "re.sub(r'par','spar',str1)"
   ]
  },
  {
   "cell_type": "code",
   "execution_count": 649,
   "id": "953169c8",
   "metadata": {},
   "outputs": [
    {
     "data": {
      "text/plain": [
       "'do you have a spare cable'"
      ]
     },
     "execution_count": 649,
     "metadata": {},
     "output_type": "execute_result"
    }
   ],
   "source": [
    "re.sub(r'spare','spare',str2)"
   ]
  },
  {
   "cell_type": "code",
   "execution_count": 650,
   "id": "b0d1b149",
   "metadata": {},
   "outputs": [
    {
     "data": {
      "text/plain": [
       "'do you have a spare cable'"
      ]
     },
     "execution_count": 650,
     "metadata": {},
     "output_type": "execute_result"
    }
   ],
   "source": [
    "re.sub(r'park','garden',str2)"
   ]
  },
  {
   "cell_type": "markdown",
   "id": "558f357f",
   "metadata": {},
   "source": [
    "**g)** Extract all words between `(` and `)` from the given input string as a list. Assume that the input will not contain any broken parentheses.\n"
   ]
  },
  {
   "cell_type": "code",
   "execution_count": 652,
   "id": "a4b2b873",
   "metadata": {},
   "outputs": [],
   "source": [
    "ip = 'another (way) to reuse (portion) matched (by) capture groups'"
   ]
  },
  {
   "cell_type": "code",
   "execution_count": 653,
   "id": "9ccfc4d6",
   "metadata": {},
   "outputs": [
    {
     "data": {
      "text/plain": [
       "['way', 'portion', 'by']"
      ]
     },
     "execution_count": 653,
     "metadata": {},
     "output_type": "execute_result"
    }
   ],
   "source": [
    "re.findall('\\(*(\\w+)\\)',ip)"
   ]
  },
  {
   "cell_type": "markdown",
   "id": "287fee44",
   "metadata": {},
   "source": [
    "**h)** Extract all occurrences of `<` up to next occurrence of `>`, provided there is at least one character in between `<` and `>`.\n"
   ]
  },
  {
   "cell_type": "code",
   "execution_count": 654,
   "id": "b75d76b6",
   "metadata": {},
   "outputs": [],
   "source": [
    "ip = 'a<apple> 1<> b<bye> 2<> c<cat>'"
   ]
  },
  {
   "cell_type": "code",
   "execution_count": 661,
   "id": "b675f591",
   "metadata": {},
   "outputs": [
    {
     "data": {
      "text/plain": [
       "['<apple>', '<bye>', '<cat>']"
      ]
     },
     "execution_count": 661,
     "metadata": {},
     "output_type": "execute_result"
    }
   ],
   "source": [
    "re.findall('\\<\\w+\\>',ip)"
   ]
  },
  {
   "cell_type": "code",
   "execution_count": 660,
   "id": "316d2b91",
   "metadata": {},
   "outputs": [
    {
     "data": {
      "text/plain": [
       "['<apple>', '<> b<bye>', '<> c<cat>']"
      ]
     },
     "execution_count": 660,
     "metadata": {},
     "output_type": "execute_result"
    }
   ],
   "source": [
    "re.findall('<.+?>',ip)"
   ]
  },
  {
   "cell_type": "code",
   "execution_count": null,
   "id": "2e3fb4fe",
   "metadata": {},
   "outputs": [],
   "source": []
  }
 ],
 "metadata": {
  "kernelspec": {
   "display_name": "Python 3 (ipykernel)",
   "language": "python",
   "name": "python3"
  },
  "language_info": {
   "codemirror_mode": {
    "name": "ipython",
    "version": 3
   },
   "file_extension": ".py",
   "mimetype": "text/x-python",
   "name": "python",
   "nbconvert_exporter": "python",
   "pygments_lexer": "ipython3",
   "version": "3.9.7"
  }
 },
 "nbformat": 4,
 "nbformat_minor": 5
}
