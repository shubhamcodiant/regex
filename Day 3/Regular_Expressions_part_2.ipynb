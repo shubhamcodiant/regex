{
 "cells": [
  {
   "cell_type": "markdown",
   "id": "f99f7336",
   "metadata": {},
   "source": [
    "# Regular Expressions: Regexes in Python (Part 2)"
   ]
  },
  {
   "cell_type": "markdown",
   "id": "4cb0d634",
   "metadata": {},
   "source": [
    "### `re` Module Functions"
   ]
  },
  {
   "cell_type": "markdown",
   "id": "f47b1049",
   "metadata": {},
   "source": [
    "In addition to `re.search()`, the re module contains several other functions to help you perform regex-related tasks."
   ]
  },
  {
   "cell_type": "markdown",
   "id": "a87e92c7",
   "metadata": {},
   "source": [
    "The available regex functions in the Python re module fall into the following three categories:\n",
    "1. Searching Function\n",
    "2. Substitution Function\n",
    "3. Utility Function"
   ]
  },
  {
   "cell_type": "markdown",
   "id": "4ef41838",
   "metadata": {},
   "source": [
    "### Searching Functions\n",
    "Searching functions scan a search string for one or more matches of the specified regex:"
   ]
  },
  {
   "cell_type": "markdown",
   "id": "d739927e",
   "metadata": {},
   "source": [
    "|Function|\tDescription|\n",
    "|---:|:-------------|\n",
    "|re.search()|\tScans a string for a regex match|\n",
    "|re.match()|\tLooks for a regex match at the beginning of a string|\n",
    "|re.fullmatch()|\tLooks for a regex match on an entire string\n",
    "|re.findall()|\tReturns a list of all regex matches in a string|\n",
    "|re.finditer()|\tReturns an iterator that yields regex matches from a string|"
   ]
  },
  {
   "cell_type": "markdown",
   "id": "2f9fc665",
   "metadata": {},
   "source": [
    "As you can see from the table, these functions are similar to one another. But each one tweaks the searching functionality in its own way."
   ]
  },
  {
   "cell_type": "markdown",
   "id": "c4627255",
   "metadata": {},
   "source": [
    "## `re.search(<regex>, <string>, flags=0)`\n",
    "\n",
    "Scans a string for a regex match."
   ]
  },
  {
   "cell_type": "markdown",
   "id": "6fb805db",
   "metadata": {},
   "source": [
    "`re.search(<regex>, <string>)` looks for any location in `<string>` where `<regex>` matches:\n",
    "\n"
   ]
  },
  {
   "cell_type": "code",
   "execution_count": 1,
   "id": "4e034ec0",
   "metadata": {},
   "outputs": [],
   "source": [
    "import re"
   ]
  },
  {
   "cell_type": "code",
   "execution_count": 2,
   "id": "a1b1ce91",
   "metadata": {},
   "outputs": [
    {
     "data": {
      "text/plain": [
       "<re.Match object; span=(3, 6), match='123'>"
      ]
     },
     "execution_count": 2,
     "metadata": {},
     "output_type": "execute_result"
    }
   ],
   "source": [
    "re.search(r'(\\d+)', 'foo123bar')"
   ]
  },
  {
   "cell_type": "code",
   "execution_count": 3,
   "id": "435279d4",
   "metadata": {},
   "outputs": [
    {
     "data": {
      "text/plain": [
       "<re.Match object; span=(3, 6), match='FOO'>"
      ]
     },
     "execution_count": 3,
     "metadata": {},
     "output_type": "execute_result"
    }
   ],
   "source": [
    "re.search(r'[a-z]+', '123FOO456', flags=re.IGNORECASE)"
   ]
  },
  {
   "cell_type": "code",
   "execution_count": 4,
   "id": "fa8b8098",
   "metadata": {},
   "outputs": [
    {
     "name": "stdout",
     "output_type": "stream",
     "text": [
      "None\n"
     ]
    }
   ],
   "source": [
    "print(re.search(r'\\d+', 'foo.bar'))"
   ]
  },
  {
   "cell_type": "markdown",
   "id": "e1852aff",
   "metadata": {},
   "source": [
    "The function returns a match object if it finds a match and `None` otherwise."
   ]
  },
  {
   "cell_type": "markdown",
   "id": "07255e19",
   "metadata": {},
   "source": [
    "## `re.match(<regex>, <string>, flags=0)`\n",
    "\n",
    "Looks for a regex match at the beginning of a string."
   ]
  },
  {
   "cell_type": "markdown",
   "id": "77049d1f",
   "metadata": {},
   "source": [
    "This is identical to `re.search()`, except that `re.search()` returns a match if `<regex>` matches anywhere in `<string>`, whereas `re.match()` returns a match only if `<regex>` matches at the beginning of `<string>`:"
   ]
  },
  {
   "cell_type": "code",
   "execution_count": 5,
   "id": "b2b85300",
   "metadata": {},
   "outputs": [
    {
     "data": {
      "text/plain": [
       "<re.Match object; span=(0, 3), match='123'>"
      ]
     },
     "execution_count": 5,
     "metadata": {},
     "output_type": "execute_result"
    }
   ],
   "source": [
    "re.search(r'\\d+', '123foobar')\n",
    "# searches match in whole string"
   ]
  },
  {
   "cell_type": "code",
   "execution_count": 6,
   "id": "b433cbc4",
   "metadata": {},
   "outputs": [
    {
     "data": {
      "text/plain": [
       "<re.Match object; span=(3, 6), match='123'>"
      ]
     },
     "execution_count": 6,
     "metadata": {},
     "output_type": "execute_result"
    }
   ],
   "source": [
    "re.search(r'\\d+', 'foo123bar')\n",
    "# searches match in whole string"
   ]
  },
  {
   "cell_type": "code",
   "execution_count": 7,
   "id": "03f5ffcc",
   "metadata": {},
   "outputs": [
    {
     "data": {
      "text/plain": [
       "<re.Match object; span=(0, 3), match='123'>"
      ]
     },
     "execution_count": 7,
     "metadata": {},
     "output_type": "execute_result"
    }
   ],
   "source": [
    "re.match(r'\\d+', '123foobar')\n",
    "# matches because of digits at the biginning"
   ]
  },
  {
   "cell_type": "code",
   "execution_count": 8,
   "id": "83290773",
   "metadata": {},
   "outputs": [
    {
     "name": "stdout",
     "output_type": "stream",
     "text": [
      "None\n"
     ]
    }
   ],
   "source": [
    "print(re.match(r'\\d+','foo123bar'))\n",
    "# not matches because of digits at the middle"
   ]
  },
  {
   "cell_type": "markdown",
   "id": "ad8d942c",
   "metadata": {},
   "source": [
    "In the above example, `re.search()` matches when the digits are both at the beginning of the string and in the middle, but `re.match()` matches only when the digits are at the beginning."
   ]
  },
  {
   "cell_type": "markdown",
   "id": "13c6cfac",
   "metadata": {},
   "source": [
    "Remember from the previous tutorial in this series that if `<string>` contains embedded newlines, then the MULTILINE flag causes `re.search()` to match the caret `(^)` anchor metacharacter either at the beginning of `<string>` or at the beginning of any line contained within `<string>`:"
   ]
  },
  {
   "cell_type": "code",
   "execution_count": 9,
   "id": "8cb9d2ec",
   "metadata": {},
   "outputs": [],
   "source": [
    "s = 'foo\\nbar\\nbaz'"
   ]
  },
  {
   "cell_type": "code",
   "execution_count": 10,
   "id": "3d87c834",
   "metadata": {},
   "outputs": [
    {
     "data": {
      "text/plain": [
       "<re.Match object; span=(0, 3), match='foo'>"
      ]
     },
     "execution_count": 10,
     "metadata": {},
     "output_type": "execute_result"
    }
   ],
   "source": [
    "re.search('^foo', s)"
   ]
  },
  {
   "cell_type": "code",
   "execution_count": 11,
   "id": "d6bfe5d8",
   "metadata": {},
   "outputs": [
    {
     "data": {
      "text/plain": [
       "<re.Match object; span=(4, 7), match='bar'>"
      ]
     },
     "execution_count": 11,
     "metadata": {},
     "output_type": "execute_result"
    }
   ],
   "source": [
    "re.search('^bar', s, re.MULTILINE)\n"
   ]
  },
  {
   "cell_type": "markdown",
   "id": "85157143",
   "metadata": {},
   "source": [
    "The MULTILINE flag does not affect re.match() in this way:"
   ]
  },
  {
   "cell_type": "code",
   "execution_count": 12,
   "id": "338d65cf",
   "metadata": {},
   "outputs": [],
   "source": [
    "s = 'foo\\nbar\\nbaz'"
   ]
  },
  {
   "cell_type": "code",
   "execution_count": 13,
   "id": "fbb09c5a",
   "metadata": {},
   "outputs": [
    {
     "data": {
      "text/plain": [
       "<re.Match object; span=(0, 3), match='foo'>"
      ]
     },
     "execution_count": 13,
     "metadata": {},
     "output_type": "execute_result"
    }
   ],
   "source": [
    "re.match('^foo', s)"
   ]
  },
  {
   "cell_type": "code",
   "execution_count": 14,
   "id": "0f7d8a5f",
   "metadata": {},
   "outputs": [
    {
     "name": "stdout",
     "output_type": "stream",
     "text": [
      "None\n"
     ]
    }
   ],
   "source": [
    "print(re.match('^bar', s, re.MULTILINE))\n",
    "#it does not work for match function"
   ]
  },
  {
   "cell_type": "markdown",
   "id": "5d872de6",
   "metadata": {},
   "source": [
    "Even with the `MULTILINE` flag set, `re.match()` will match the caret (^) anchor only at the beginning of `<string>`, not at the beginning of lines contained within `<string>`."
   ]
  },
  {
   "cell_type": "markdown",
   "id": "69578bbe",
   "metadata": {},
   "source": [
    "Note that, although it illustrates the point, the caret (^) anchor on line 3 in the above example is redundant. With re.match(), matches are essentially always anchored at the beginning of the string."
   ]
  },
  {
   "cell_type": "markdown",
   "id": "9e33c715",
   "metadata": {},
   "source": [
    "## `re.fullmatch(<regex>, <string>, flags=0)`\n",
    "\n",
    "Looks for a regex match on an entire string."
   ]
  },
  {
   "cell_type": "markdown",
   "id": "f3447576",
   "metadata": {},
   "source": [
    "This is similar to `re.search()` and `re.match()`, but `re.fullmatch()` returns a match only if `<regex> ``matches <string> in its entirety`:"
   ]
  },
  {
   "cell_type": "code",
   "execution_count": 15,
   "id": "e4c93188",
   "metadata": {},
   "outputs": [
    {
     "name": "stdout",
     "output_type": "stream",
     "text": [
      "None\n"
     ]
    }
   ],
   "source": [
    "print(re.fullmatch(r'\\d+', '123foo'))\n",
    "# it has to match entirety"
   ]
  },
  {
   "cell_type": "code",
   "execution_count": 16,
   "id": "1f94dbf7",
   "metadata": {},
   "outputs": [
    {
     "name": "stdout",
     "output_type": "stream",
     "text": [
      "None\n"
     ]
    }
   ],
   "source": [
    "print(re.fullmatch(r'\\d+', '123foo'))\n",
    "# it has to match entirety"
   ]
  },
  {
   "cell_type": "code",
   "execution_count": 17,
   "id": "b96db0d2",
   "metadata": {},
   "outputs": [
    {
     "data": {
      "text/plain": [
       "<re.Match object; span=(0, 3), match='123'>"
      ]
     },
     "execution_count": 17,
     "metadata": {},
     "output_type": "execute_result"
    }
   ],
   "source": [
    "re.fullmatch(r'\\d+', '123')\n",
    "# it matches entirety"
   ]
  },
  {
   "cell_type": "code",
   "execution_count": 18,
   "id": "4841a75c",
   "metadata": {},
   "outputs": [
    {
     "data": {
      "text/plain": [
       "<re.Match object; span=(0, 3), match='123'>"
      ]
     },
     "execution_count": 18,
     "metadata": {},
     "output_type": "execute_result"
    }
   ],
   "source": [
    "re.search(r'^\\d+$', '123')"
   ]
  },
  {
   "cell_type": "markdown",
   "id": "461e5381",
   "metadata": {},
   "source": [
    "## `re.findall(<regex>, <string>, flags=0)`\n",
    "Returns a list of all matches of a regex in a string."
   ]
  },
  {
   "cell_type": "markdown",
   "id": "d2cf716a",
   "metadata": {},
   "source": [
    "`re.findall(<regex>, <string>)` returns a list of all non-overlapping matches of `<regex>` in `<string>`. It scans the search string from left to right and returns all matches in the order found:"
   ]
  },
  {
   "cell_type": "code",
   "execution_count": 19,
   "id": "7374ae7b",
   "metadata": {},
   "outputs": [
    {
     "data": {
      "text/plain": [
       "['foo', 'bar', 'baz']"
      ]
     },
     "execution_count": 19,
     "metadata": {},
     "output_type": "execute_result"
    }
   ],
   "source": [
    "re.findall(r'\\w+', '...foo,,,,bar:%$baz//|')"
   ]
  },
  {
   "cell_type": "markdown",
   "id": "229eabdf",
   "metadata": {},
   "source": [
    "If <regex> contains a capturing group, then the return list contains only contents of the group, not the entire match:"
   ]
  },
  {
   "cell_type": "code",
   "execution_count": 20,
   "id": "d1bca8a0",
   "metadata": {},
   "outputs": [
    {
     "data": {
      "text/plain": [
       "['foo', 'bar', 'baz']"
      ]
     },
     "execution_count": 20,
     "metadata": {},
     "output_type": "execute_result"
    }
   ],
   "source": [
    "re.findall(r'#(\\w+)#', '#foo#.#bar#.#baz#')\n",
    "# (#)  does not match because it is outside the grouping parentheses."
   ]
  },
  {
   "cell_type": "markdown",
   "id": "e8b3e62b",
   "metadata": {},
   "source": [
    "In this case, the specified regex is `#(\\w+)#`. The matching strings are `'#foo#'`, `'#bar#'`, and '`#baz#'`. But the hash `(#)` characters don’t appear in the return list because they’re outside the grouping parentheses."
   ]
  },
  {
   "cell_type": "markdown",
   "id": "df242e63",
   "metadata": {},
   "source": [
    "If `<regex>` contains more than one capturing group, then `re.findall()` returns a list of tuples containing the captured groups.\n",
    "<br>The length of each tuple is equal to the number of groups specified:"
   ]
  },
  {
   "cell_type": "code",
   "execution_count": 21,
   "id": "c68d9463",
   "metadata": {},
   "outputs": [
    {
     "data": {
      "text/plain": [
       "[('foo', 'bar'), ('baz', 'qux'), ('quux', 'corge')]"
      ]
     },
     "execution_count": 21,
     "metadata": {},
     "output_type": "execute_result"
    }
   ],
   "source": [
    "# i.e 1\n",
    "re.findall(r'(\\w+),(\\w+)','foo,bar,baz,qux,quux,corge' )\n",
    "#In the above example, the regex contains two capturing groups, so re.findall() \n",
    "#returns a list of three two-tuples, \n",
    "#each containing two captured matches."
   ]
  },
  {
   "cell_type": "code",
   "execution_count": 22,
   "id": "b22fee9d",
   "metadata": {},
   "outputs": [
    {
     "data": {
      "text/plain": [
       "[('foo', 'bar', 'baz'), ('qux', 'quux', 'corge')]"
      ]
     },
     "execution_count": 22,
     "metadata": {},
     "output_type": "execute_result"
    }
   ],
   "source": [
    "#i.e 2\n",
    "re.findall(r'(\\w+),(\\w+),(\\w+)','foo,bar,baz,qux,quux,corge') \n",
    "#contains three groups, so the return value is a list of two three-tuples."
   ]
  },
  {
   "cell_type": "markdown",
   "id": "2e04cf6a",
   "metadata": {},
   "source": [
    "## `re.finditer(<regex>, <string>, flags=0)`\n",
    "Returns an iterator that yields regex matches."
   ]
  },
  {
   "cell_type": "markdown",
   "id": "6e37e765",
   "metadata": {},
   "source": [
    "`re.finditer(<regex>, <string>)` scans `<string>` for non-overlapping matches of `<regex>` and returns an iterator that yields the match objects from any it finds. `It scans the search string from left to right and returns matches in the order it finds them`:"
   ]
  },
  {
   "cell_type": "code",
   "execution_count": 23,
   "id": "a8a0e514",
   "metadata": {},
   "outputs": [],
   "source": [
    "it = re.finditer(r'\\w+','...foo,,,,bar:%$baz//|')\n"
   ]
  },
  {
   "cell_type": "code",
   "execution_count": 24,
   "id": "bbd93265",
   "metadata": {},
   "outputs": [
    {
     "name": "stdout",
     "output_type": "stream",
     "text": [
      "<callable_iterator object at 0x000002847CAA8D90>\n"
     ]
    }
   ],
   "source": [
    "print(it)"
   ]
  },
  {
   "cell_type": "code",
   "execution_count": 25,
   "id": "f2ce2fc5",
   "metadata": {},
   "outputs": [
    {
     "data": {
      "text/plain": [
       "<re.Match object; span=(3, 6), match='foo'>"
      ]
     },
     "execution_count": 25,
     "metadata": {},
     "output_type": "execute_result"
    }
   ],
   "source": [
    "next(it)\n",
    "# first iter will finds 'foo'"
   ]
  },
  {
   "cell_type": "code",
   "execution_count": 26,
   "id": "c2093ab5",
   "metadata": {},
   "outputs": [
    {
     "data": {
      "text/plain": [
       "<re.Match object; span=(10, 13), match='bar'>"
      ]
     },
     "execution_count": 26,
     "metadata": {},
     "output_type": "execute_result"
    }
   ],
   "source": [
    "next(it)\n",
    "# second iter finds 'bar'"
   ]
  },
  {
   "cell_type": "code",
   "execution_count": 27,
   "id": "d58e3392",
   "metadata": {},
   "outputs": [
    {
     "data": {
      "text/plain": [
       "<re.Match object; span=(16, 19), match='baz'>"
      ]
     },
     "execution_count": 27,
     "metadata": {},
     "output_type": "execute_result"
    }
   ],
   "source": [
    "next(it)\n",
    "# third iter finds 'baz'"
   ]
  },
  {
   "cell_type": "code",
   "execution_count": 28,
   "id": "b48934db",
   "metadata": {},
   "outputs": [],
   "source": [
    "#next(it)\n",
    "# now it will shows error \n",
    "# StopIteration"
   ]
  },
  {
   "cell_type": "code",
   "execution_count": 29,
   "id": "fa2b6bbe",
   "metadata": {},
   "outputs": [
    {
     "name": "stdout",
     "output_type": "stream",
     "text": [
      "<re.Match object; span=(3, 6), match='foo'>\n",
      "<re.Match object; span=(10, 13), match='bar'>\n",
      "<re.Match object; span=(16, 19), match='baz'>\n"
     ]
    }
   ],
   "source": [
    "for i in re.finditer(r'\\w+', '...foo,,,,bar:%$baz//|'):\n",
    "...     print(i)"
   ]
  },
  {
   "cell_type": "markdown",
   "id": "1ff397cd",
   "metadata": {},
   "source": [
    "`re.findall()` and `re.finditer()` are very similar, but they differ in two respects:"
   ]
  },
  {
   "cell_type": "markdown",
   "id": "34196a89",
   "metadata": {},
   "source": [
    "1. `re.findall()` returns a list, whereas `re.finditer()` returns an iterator.\n",
    "\n",
    "2. The items in the list that `re.findall()` returns are the actual matching strings, whereas the items yielded by the iterator that `re.finditer()` returns are match objects."
   ]
  },
  {
   "cell_type": "markdown",
   "id": "f6e46ed2",
   "metadata": {},
   "source": [
    "## Substitution Functions\n",
    "Substitution functions replace portions of a search string that match a specified regex:"
   ]
  },
  {
   "cell_type": "markdown",
   "id": "fc917975",
   "metadata": {},
   "source": [
    "|Function|\tDescription|\n",
    "|---:|:-------------|\n",
    "|`re.sub()`|\tScans a string for regex matches, replaces the matching portions of the string with the specified replacement string, and returns the result|\n",
    "|`re.subn()`|\tBehaves just like `re.sub()` but also returns information regarding the number of substitutions made|"
   ]
  },
  {
   "cell_type": "markdown",
   "id": "18f8781f",
   "metadata": {},
   "source": [
    "Both `re.sub()`and `re.subn()` create a new string with the specified substitutions and return it. The original string remains unchanged. (Remember that strings are immutable in Python, so it wouldn’t be possible for these functions to modify the original string.)"
   ]
  },
  {
   "cell_type": "markdown",
   "id": "7a65fa1c",
   "metadata": {},
   "source": [
    "## `re.sub(<regex>, <repl>, <string>, count=0, flags=0)`\n",
    "Returns a new string that results from performing replacements on a search string"
   ]
  },
  {
   "cell_type": "markdown",
   "id": "db4278f3",
   "metadata": {},
   "source": [
    "`re.sub(<regex>, <repl>, <string>)` finds the leftmost non-overlapping occurrences of `<regex>` in `<string>`, replaces each match as indicated by `<repl>`, and returns the result. `<string>` remains unchanged."
   ]
  },
  {
   "cell_type": "markdown",
   "id": "c36c87bc",
   "metadata": {},
   "source": [
    "`<repl>` can be either a string or a function, as explained below."
   ]
  },
  {
   "cell_type": "markdown",
   "id": "d3c87632",
   "metadata": {},
   "source": [
    "## Substitution by String\n",
    "If `<repl>` is a string, then `re.sub()` inserts it into `<string>` in place of any sequences that match `<regex>`:"
   ]
  },
  {
   "cell_type": "code",
   "execution_count": 30,
   "id": "e0effdb0",
   "metadata": {},
   "outputs": [],
   "source": [
    "s = 'foo.123.bar.789.baz'"
   ]
  },
  {
   "cell_type": "code",
   "execution_count": 31,
   "id": "760ddfbb",
   "metadata": {},
   "outputs": [
    {
     "data": {
      "text/plain": [
       "'foo.#.bar.#.baz'"
      ]
     },
     "execution_count": 31,
     "metadata": {},
     "output_type": "execute_result"
    }
   ],
   "source": [
    "re.sub(r'\\d+','#', s)\n",
    "# it works like replace function\n",
    "# in this case digits are replaced by #"
   ]
  },
  {
   "cell_type": "code",
   "execution_count": 32,
   "id": "9d622594",
   "metadata": {},
   "outputs": [
    {
     "data": {
      "text/plain": [
       "'(*).123.(*).789.(*)'"
      ]
     },
     "execution_count": 32,
     "metadata": {},
     "output_type": "execute_result"
    }
   ],
   "source": [
    "re.sub('[a-z]+', '(*)', s)\n",
    "# re.sub(<regex>, <repl>, <string>)\n",
    "# in this case lowercase alphabets replaced with (*)"
   ]
  },
  {
   "cell_type": "markdown",
   "id": "0e5a762f",
   "metadata": {},
   "source": [
    "`re.sub()` replaces numbered backreferences `(\\<n>)` in `<repl>` with the text of the corresponding captured group:"
   ]
  },
  {
   "cell_type": "markdown",
   "id": "74fff5e3",
   "metadata": {},
   "source": [
    "## replace with different string with different way"
   ]
  },
  {
   "cell_type": "code",
   "execution_count": 33,
   "id": "103fc477",
   "metadata": {},
   "outputs": [
    {
     "data": {
      "text/plain": [
       "'qux,bar,baz,foo'"
      ]
     },
     "execution_count": 33,
     "metadata": {},
     "output_type": "execute_result"
    }
   ],
   "source": [
    "re.sub(r'(\\w+),bar,baz,(\\w+)',\n",
    "       r'\\2,bar,baz,\\1',\n",
    "        'foo,bar,baz,qux')"
   ]
  },
  {
   "cell_type": "markdown",
   "id": "841cc791",
   "metadata": {},
   "source": [
    "* To avoid ambiguity in cases where a numbered backreference is immediately followed by a literal digit character\n",
    "* For example, suppose you have a string like `'foo 123 bar'` and want to add a `'0'` at the end of the digit sequence"
   ]
  },
  {
   "cell_type": "code",
   "execution_count": 34,
   "id": "b1aac3a6",
   "metadata": {},
   "outputs": [],
   "source": [
    "# re.sub(r'(\\d+)', r'\\10', 'foo 123 bar')\n",
    "# it shows error \n",
    "# error: invalid group reference 10 at position 1"
   ]
  },
  {
   "cell_type": "markdown",
   "id": "c5742ea9",
   "metadata": {},
   "source": [
    "Alas, the regex parser in Python interprets `\\10` as a backreference to the `tenth captured group, which doesn’t exist` in this case. Instead, you can use `\\g<1>` to refer to the group:"
   ]
  },
  {
   "cell_type": "code",
   "execution_count": 35,
   "id": "9ce274ec",
   "metadata": {},
   "outputs": [
    {
     "data": {
      "text/plain": [
       "'foo 1237 bar'"
      ]
     },
     "execution_count": 35,
     "metadata": {},
     "output_type": "execute_result"
    }
   ],
   "source": [
    " re.sub(r'(\\d+)', r'\\g<1>7', 'foo 123 bar')"
   ]
  },
  {
   "cell_type": "code",
   "execution_count": 36,
   "id": "b67c0504",
   "metadata": {},
   "outputs": [
    {
     "data": {
      "text/plain": [
       "'foo 1230 bar'"
      ]
     },
     "execution_count": 36,
     "metadata": {},
     "output_type": "execute_result"
    }
   ],
   "source": [
    "re.sub(r'(\\d+)', r'\\g<1>0', 'foo 123 bar')"
   ]
  },
  {
   "cell_type": "markdown",
   "id": "074436a5",
   "metadata": {},
   "source": [
    "The backreference `\\g<0>`refers to the text of the entire match. This is valid even when there are no grouping parentheses in `<regex>`:"
   ]
  },
  {
   "cell_type": "code",
   "execution_count": 37,
   "id": "254269fc",
   "metadata": {},
   "outputs": [
    {
     "data": {
      "text/plain": [
       "'foo /123/ bar'"
      ]
     },
     "execution_count": 37,
     "metadata": {},
     "output_type": "execute_result"
    }
   ],
   "source": [
    "re.sub(r'\\d+', '/\\g<0>/', 'foo 123 bar')"
   ]
  },
  {
   "cell_type": "markdown",
   "id": "d06225f8",
   "metadata": {},
   "source": [
    "If `<regex>` specifies a zero-length match, then `re.sub()` will substitute `<repl>` into every character position in the string:"
   ]
  },
  {
   "cell_type": "code",
   "execution_count": 38,
   "id": "8796b3b5",
   "metadata": {},
   "outputs": [
    {
     "data": {
      "text/plain": [
       "'-f-o-o-'"
      ]
     },
     "execution_count": 38,
     "metadata": {},
     "output_type": "execute_result"
    }
   ],
   "source": [
    "re.sub('x*', '-', 'foo')\n",
    "#regex x* matches any zero-length sequence\n",
    "#o re.sub() inserts the replacement string at every character position"
   ]
  },
  {
   "cell_type": "markdown",
   "id": "f93ccb5c",
   "metadata": {},
   "source": [
    "In the example above, the regex `x*` matches any zero-length sequence, so `re.sub()` `inserts` the `replacement string` at every character position in the string—before the first character, between each pair of characters, and after the last character."
   ]
  },
  {
   "cell_type": "markdown",
   "id": "2479a17b",
   "metadata": {},
   "source": [
    "If `re.sub()` doesn’t find any matches, then it always returns `<string>` unchanged."
   ]
  },
  {
   "cell_type": "markdown",
   "id": "b7a3fb2c",
   "metadata": {},
   "source": [
    "## Substitution by Function"
   ]
  },
  {
   "cell_type": "markdown",
   "id": "6cd13e6c",
   "metadata": {},
   "source": [
    "If you specify `<repl>` as a function, then `re.sub()` calls that function for each match found. It passes each corresponding match object as an argument to the function to provide information about the match. The function return value then becomes the replacement string:"
   ]
  },
  {
   "cell_type": "code",
   "execution_count": 39,
   "id": "688098e8",
   "metadata": {},
   "outputs": [],
   "source": [
    "def f(match_obj):\n",
    "    s = match_obj.group(0) # the matching string\n",
    "    \n",
    "    # s.isdigit() returns True if all characters in s are digit\n",
    "    if s.isdigit():\n",
    "        return str(int(s) * 10)\n",
    "    else:\n",
    "        return s.upper()\n",
    "    "
   ]
  },
  {
   "cell_type": "code",
   "execution_count": 40,
   "id": "0723965a",
   "metadata": {},
   "outputs": [
    {
     "data": {
      "text/plain": [
       "'FOO.100.BAR.200.BAZ.300'"
      ]
     },
     "execution_count": 40,
     "metadata": {},
     "output_type": "execute_result"
    }
   ],
   "source": [
    "re.sub(r'\\w+',f,'foo.10.bar.20.baz.30')\n"
   ]
  },
  {
   "cell_type": "markdown",
   "id": "3e0407bb",
   "metadata": {},
   "source": [
    "### understanding\n",
    "n this example, `f()` gets called for each match. As a result, `re.sub()` converts each alphanumeric portion of `<string>` to all `uppercase` and `multiplies` each numeric portion by `10`."
   ]
  },
  {
   "cell_type": "markdown",
   "id": "2dc575f5",
   "metadata": {},
   "source": [
    "### Limiting the Number of Replacements\n",
    "If you specify a positive integer for the optional count parameter, then `re.sub()` performs at most that many replacements:"
   ]
  },
  {
   "cell_type": "code",
   "execution_count": 41,
   "id": "ac11e741",
   "metadata": {},
   "outputs": [
    {
     "data": {
      "text/plain": [
       "'xxXX.xxXX.xxXX.xxXX'"
      ]
     },
     "execution_count": 41,
     "metadata": {},
     "output_type": "execute_result"
    }
   ],
   "source": [
    "re.sub(r'\\w+','xxXX','foo.ba.baz.qux' )\n",
    "# all alphabets replaced by group which is seperated by . replaced \n",
    "# with xxXX"
   ]
  },
  {
   "cell_type": "markdown",
   "id": "54ed8db2",
   "metadata": {},
   "source": [
    "As with most re module functions, `re.sub()` accepts an optional `<flags>` argument as well."
   ]
  },
  {
   "cell_type": "markdown",
   "id": "8e8112e8",
   "metadata": {},
   "source": [
    "## `re.subn(<regex>, <repl>, <string>, count=0, flags=0)`\n",
    "Returns a new string that results from performing replacements on a search string and also returns the number of substitutions made."
   ]
  },
  {
   "cell_type": "markdown",
   "id": "02f08e88",
   "metadata": {},
   "source": [
    "`re.subn()` is identical to `re.sub()`, except that `re.subn()` returns a two-tuple consisting of the modified string and the number of substitutions made:\n",
    "\n"
   ]
  },
  {
   "cell_type": "code",
   "execution_count": 42,
   "id": "9371971d",
   "metadata": {},
   "outputs": [
    {
     "data": {
      "text/plain": [
       "('xxx.xxx.xxx.xxx', 4)"
      ]
     },
     "execution_count": 42,
     "metadata": {},
     "output_type": "execute_result"
    }
   ],
   "source": [
    "re.subn(r'\\w+', 'xxx', 'foo.bar.baz.qux')"
   ]
  },
  {
   "cell_type": "markdown",
   "id": "4609c38c",
   "metadata": {},
   "source": [
    "this digit occures because 4 group of characters replaced with xxx "
   ]
  },
  {
   "cell_type": "code",
   "execution_count": 43,
   "id": "eadb33f5",
   "metadata": {},
   "outputs": [
    {
     "data": {
      "text/plain": [
       "('xxx.xxx.baz.qux', 2)"
      ]
     },
     "execution_count": 43,
     "metadata": {},
     "output_type": "execute_result"
    }
   ],
   "source": [
    "re.subn(r'\\w+','xxx', 'foo.bar.baz.qux', count=2)\n",
    "# Introducing count\n",
    "# count will define how many character groups will replace with replace string\n",
    "# in this case count= 2 \n",
    "# hence first two groups will replace with replace string"
   ]
  },
  {
   "cell_type": "code",
   "execution_count": 44,
   "id": "93ec0898",
   "metadata": {},
   "outputs": [],
   "source": [
    "# creating function\n",
    "\n",
    "def f(match_obj):\n",
    "     m = match_obj.group(0)\n",
    "     if m.isdigit():\n",
    "        return str(int(m) * 10)\n",
    "     else:\n",
    "        return m.upper()"
   ]
  },
  {
   "cell_type": "code",
   "execution_count": 45,
   "id": "a812530b",
   "metadata": {},
   "outputs": [
    {
     "data": {
      "text/plain": [
       "('FOO.100.BAR.200.BAZ.300', 6)"
      ]
     },
     "execution_count": 45,
     "metadata": {},
     "output_type": "execute_result"
    }
   ],
   "source": [
    "re.subn(r'\\w+', f, 'foo.10.bar.20.baz.30')"
   ]
  },
  {
   "cell_type": "markdown",
   "id": "faf42222",
   "metadata": {},
   "source": [
    "In all other respects, `re.subn()` behaves just like `re.sub()`."
   ]
  },
  {
   "cell_type": "markdown",
   "id": "3cfde9f8",
   "metadata": {},
   "source": [
    "## Utility Functions\n",
    "There are two remaining regex functions in the Python re module that you’ve yet to cover:"
   ]
  },
  {
   "cell_type": "markdown",
   "id": "8f8f70d8",
   "metadata": {},
   "source": [
    "|Function|\tDescription|\n",
    "|---:|:-------------|\n",
    "|re.split()|\tSplits a string into substrings using a regex as a delimiter|\n",
    "|re.escape()|\tEscapes characters in a regex|"
   ]
  },
  {
   "cell_type": "markdown",
   "id": "a41f81c6",
   "metadata": {},
   "source": [
    "These are functions that involve regex matching but don’t clearly fall into either of the categories described above."
   ]
  },
  {
   "cell_type": "markdown",
   "id": "9cc94561",
   "metadata": {},
   "source": [
    "## `re.split(<regex>, <string>, maxsplit=0, flags=0)`\n",
    "\n",
    "Splits a string into substrings."
   ]
  },
  {
   "cell_type": "markdown",
   "id": "6e0bb3b1",
   "metadata": {},
   "source": [
    "re.split(`<regex>, <string>`) splits `<string>` into substrings using `<regex>` as the delimiter and returns the substrings as a list."
   ]
  },
  {
   "cell_type": "markdown",
   "id": "2f7461f5",
   "metadata": {},
   "source": [
    "The following example splits the specified string into substrings delimited by a comma (,), semicolon (;), or slash (/) character, surrounded by any amount of whitespace:"
   ]
  },
  {
   "cell_type": "code",
   "execution_count": 46,
   "id": "82d9f0c0",
   "metadata": {},
   "outputs": [
    {
     "data": {
      "text/plain": [
       "['foo', 'bar', 'baz', 'qux']"
      ]
     },
     "execution_count": 46,
     "metadata": {},
     "output_type": "execute_result"
    }
   ],
   "source": [
    "re.split('\\s*[,;/]\\s*','foo,bar ; baz / qux')\n",
    "# spliting with matches\n",
    "#\\s* any number of whitespace characters. a comma"
   ]
  },
  {
   "cell_type": "markdown",
   "id": "4459e01d",
   "metadata": {},
   "source": [
    "If `<regex>` contains capturing groups, then the return list includes the matching delimiter strings as well:"
   ]
  },
  {
   "cell_type": "code",
   "execution_count": 47,
   "id": "acafa58e",
   "metadata": {},
   "outputs": [
    {
     "data": {
      "text/plain": [
       "['foo', ',', 'bar', '  ;  ', 'baz', ' / ', 'qux']"
      ]
     },
     "execution_count": 47,
     "metadata": {},
     "output_type": "execute_result"
    }
   ],
   "source": [
    "re.split('(\\s*[,;/]\\s*)', 'foo,bar  ;  baz / qux')\n",
    "# as because of perenthesis\n",
    "# list contains matches also "
   ]
  },
  {
   "cell_type": "markdown",
   "id": "56cd9811",
   "metadata": {},
   "source": [
    "This time, the return list contains not only the substrings 'foo', 'bar', 'baz', and 'qux' but also several delimiter strings:\n",
    "* ','\n",
    "* ' ; '\n",
    "* ' / '\n",
    "\n"
   ]
  },
  {
   "cell_type": "markdown",
   "id": "8e060b58",
   "metadata": {},
   "source": [
    "This can be useful if you want to split `<string>` apart into delimited tokens, process the tokens in some way, then piece the string back together using the same delimiters that originally separated them:"
   ]
  },
  {
   "cell_type": "code",
   "execution_count": 48,
   "id": "3bc81d3d",
   "metadata": {},
   "outputs": [],
   "source": [
    "string = 'foo,bar ; baz / qux'"
   ]
  },
  {
   "cell_type": "code",
   "execution_count": 49,
   "id": "581d086d",
   "metadata": {},
   "outputs": [],
   "source": [
    "regex = r'(\\s*[,;/]\\s*)'\n",
    "# perenthesis will allows to contains in matches "
   ]
  },
  {
   "cell_type": "code",
   "execution_count": 50,
   "id": "3f2bf605",
   "metadata": {},
   "outputs": [],
   "source": [
    "a = re.split(regex, string)"
   ]
  },
  {
   "cell_type": "code",
   "execution_count": 51,
   "id": "60a07b49",
   "metadata": {},
   "outputs": [
    {
     "data": {
      "text/plain": [
       "['foo', ',', 'bar', ' ; ', 'baz', ' / ', 'qux']"
      ]
     },
     "execution_count": 51,
     "metadata": {},
     "output_type": "execute_result"
    }
   ],
   "source": [
    "# list of tokens and delimiters\n",
    "a"
   ]
  },
  {
   "cell_type": "code",
   "execution_count": 52,
   "id": "ad411de0",
   "metadata": {},
   "outputs": [],
   "source": [
    "# Enclosed each token in <>'s \n",
    "for i, s in enumerate(a):\n",
    "    \n",
    "    # This will be True for the tokens but not delimiters\n",
    "    if not re.fullmatch(regex,s):\n",
    "        a[i] = f'<{s}>'\n",
    "        \n"
   ]
  },
  {
   "cell_type": "code",
   "execution_count": 53,
   "id": "3537b42d",
   "metadata": {},
   "outputs": [
    {
     "data": {
      "text/plain": [
       "'<foo>,<bar> ; <baz> / <qux>'"
      ]
     },
     "execution_count": 53,
     "metadata": {},
     "output_type": "execute_result"
    }
   ],
   "source": [
    "# Put the tokens back together using the same delimiters\n",
    "''.join(a)"
   ]
  },
  {
   "cell_type": "markdown",
   "id": "63d2c753",
   "metadata": {},
   "source": [
    "If you need to use groups but don’t want the delimiters included in the return list, then you can use noncapturing groups:"
   ]
  },
  {
   "cell_type": "code",
   "execution_count": 54,
   "id": "d7347b16",
   "metadata": {},
   "outputs": [
    {
     "data": {
      "text/plain": [
       "['foo', 'bar', 'baz', 'que']"
      ]
     },
     "execution_count": 54,
     "metadata": {},
     "output_type": "execute_result"
    }
   ],
   "source": [
    "string = 'foo,bar  ;  baz / que'\n",
    "regex = r'(?:\\s*[,;/]\\s*)'\n",
    "re.split(regex, string)\n",
    "\n",
    "#\\s* for white space\n",
    "#[,;/] matches this characters"
   ]
  },
  {
   "cell_type": "markdown",
   "id": "deba84d5",
   "metadata": {},
   "source": [
    "If the optional maxsplit argument is present and greater than zero, then `re.split()` performs at most that many splits. The final element in the return list is the remainder of `<string>` after all the splits have occurred:"
   ]
  },
  {
   "cell_type": "code",
   "execution_count": 55,
   "id": "1273478d",
   "metadata": {},
   "outputs": [],
   "source": [
    "s = 'foo, bar, baz, qux, quux, corge'"
   ]
  },
  {
   "cell_type": "code",
   "execution_count": 56,
   "id": "7b0fb00c",
   "metadata": {},
   "outputs": [
    {
     "data": {
      "text/plain": [
       "['foo', 'bar', 'baz', 'qux', 'quux', 'corge']"
      ]
     },
     "execution_count": 56,
     "metadata": {},
     "output_type": "execute_result"
    }
   ],
   "source": [
    "re.split(r',\\s*', s)"
   ]
  },
  {
   "cell_type": "code",
   "execution_count": 57,
   "id": "d7001e12",
   "metadata": {},
   "outputs": [
    {
     "data": {
      "text/plain": [
       "['foo', 'bar', 'baz', 'qux, quux, corge']"
      ]
     },
     "execution_count": 57,
     "metadata": {},
     "output_type": "execute_result"
    }
   ],
   "source": [
    "re.split(r',\\s*', s, maxsplit=3)\n",
    "# group 1 foo\n",
    "# group 2 bar\n",
    "# group 3 baz\n",
    "# group 4 qux, quux, corge\n",
    "\n",
    "# introduced maxsplit flag"
   ]
  },
  {
   "cell_type": "markdown",
   "id": "67beef20",
   "metadata": {},
   "source": [
    "If `<regex>` contains capturing groups so that the return list includes delimiters, and `<regex>` matches the start of `<string>`, then re.split() places an empty string as the first element in the return list. Similarly, the last item in the return list is an empty string if `<regex>` matches the end of `<string>`:"
   ]
  },
  {
   "cell_type": "markdown",
   "id": "32b622f8",
   "metadata": {},
   "source": [
    "In this case, the `<regex>` delimiter is a single slash (/) character. In a sense, then, there’s an empty string to the left of the first delimiter and to the right of the last one. So it makes sense that `re.split()` places empty strings as the first and last elements of the return list."
   ]
  },
  {
   "cell_type": "markdown",
   "id": "85ffe4d8",
   "metadata": {},
   "source": [
    "## `re.escape(<regex>)`\n",
    "\n",
    "Escapes characters in a regex."
   ]
  },
  {
   "cell_type": "markdown",
   "id": "c8376688",
   "metadata": {},
   "source": [
    "`re.escape(<regex>)` returns a copy of `<regex>` with each nonword character (anything other than a letter, digit, or underscore) preceded by a backslash."
   ]
  },
  {
   "cell_type": "markdown",
   "id": "c626594a",
   "metadata": {},
   "source": [
    "This is `useful if you’re calling one of the re module functions`, and the `<regex>` you’re passing in has a lot of special characters that you want the parser to take literally instead of as metacharacters. It saves you the trouble of putting in all the backslash characters manually:"
   ]
  },
  {
   "cell_type": "code",
   "execution_count": 58,
   "id": "d4b206fa",
   "metadata": {},
   "outputs": [
    {
     "name": "stdout",
     "output_type": "stream",
     "text": [
      "None\n"
     ]
    }
   ],
   "source": [
    "print(re.match('foo^bar(baz)|qux', 'foo^bar(baz)|qux'))\n",
    "#there isn’t a match on line 1 because the regex 'foo^bar(baz)|qux' \n",
    "#contains special characters that behave as metacharacters."
   ]
  },
  {
   "cell_type": "code",
   "execution_count": 59,
   "id": "3047eacf",
   "metadata": {},
   "outputs": [
    {
     "data": {
      "text/plain": [
       "<re.Match object; span=(0, 16), match='foo^bar(baz)|qux'>"
      ]
     },
     "execution_count": 59,
     "metadata": {},
     "output_type": "execute_result"
    }
   ],
   "source": [
    "re.match('foo\\^bar\\(baz\\)\\|qux', 'foo^bar(baz)|qux')\n",
    "# \\^ used for special character like ^,(,)... so on\n",
    "# they’re explicitly escaped with backslashes, so a match occurs"
   ]
  },
  {
   "cell_type": "code",
   "execution_count": 60,
   "id": "6e1fcd17",
   "metadata": {},
   "outputs": [
    {
     "data": {
      "text/plain": [
       "True"
      ]
     },
     "execution_count": 60,
     "metadata": {},
     "output_type": "execute_result"
    }
   ],
   "source": [
    "re.escape('foo^bar(baz)|qux') == 'foo\\^bar\\(baz\\)\\|qux'\n",
    "#  demonstrate that you can achieve the \n",
    "#  same effect using re.escape()"
   ]
  },
  {
   "cell_type": "code",
   "execution_count": 61,
   "id": "36083426",
   "metadata": {},
   "outputs": [
    {
     "data": {
      "text/plain": [
       "<re.Match object; span=(0, 16), match='foo^bar(baz)|qux'>"
      ]
     },
     "execution_count": 61,
     "metadata": {},
     "output_type": "execute_result"
    }
   ],
   "source": [
    "re.match(re.escape('foo^bar(baz)|qux'), 'foo^bar(baz)|qux')\n",
    "#  demonstrate that you can achieve the \n",
    "#  same effect using re.escape()"
   ]
  },
  {
   "cell_type": "markdown",
   "id": "b3c562cc",
   "metadata": {},
   "source": [
    "### Compiled Regex Objects in Python\n",
    "The `re`module supports the capability to precompile a regex in Python into a **regular expression object** that can be repeatedly used later."
   ]
  },
  {
   "cell_type": "markdown",
   "id": "ad63bc53",
   "metadata": {},
   "source": [
    "## `re.compile(<regex>, flags=0)`\n",
    "\n",
    "Compiles a regex into a regular expression object."
   ]
  },
  {
   "cell_type": "markdown",
   "id": "df2c368b",
   "metadata": {},
   "source": [
    "`re.compile(<regex>)` compiles `<regex>` and returns the corresponding regular expression object. If you include a `<flags>` value, then the corresponding flags apply to any searches performed with the object."
   ]
  },
  {
   "cell_type": "markdown",
   "id": "bca94f1e",
   "metadata": {},
   "source": [
    "There are two ways to use a compiled regular expression object. You can specify it as the first argument to the `re` module functions in place of `<regex>`:"
   ]
  },
  {
   "cell_type": "markdown",
   "id": "c51baacb",
   "metadata": {},
   "source": [
    "`re.obj = re.compile(<regex>, <flags>)`\n",
    "<br>`result = re.search(re_obj, <string>)`"
   ]
  },
  {
   "cell_type": "markdown",
   "id": "4e4b27b5",
   "metadata": {},
   "source": [
    "You can also invoke a method directly from a regular expression object:"
   ]
  },
  {
   "cell_type": "markdown",
   "id": "902c4f7c",
   "metadata": {},
   "source": [
    "`re_obj = re.compile(<regex>, <flags>)`\n",
    "<br>`result = re_obj.search(<string>)`"
   ]
  },
  {
   "cell_type": "markdown",
   "id": "0fd8bc8e",
   "metadata": {},
   "source": [
    "Both of the examples above are equivalent to this:"
   ]
  },
  {
   "cell_type": "markdown",
   "id": "f4dfdcd6",
   "metadata": {},
   "source": [
    "`result = re.search(<regex>, <string>, <flags>)`"
   ]
  },
  {
   "cell_type": "markdown",
   "id": "bbaad54b",
   "metadata": {},
   "source": [
    "Here’s one of the examples you saw previously, recast using a compiled regular expression object:"
   ]
  },
  {
   "cell_type": "code",
   "execution_count": 62,
   "id": "df4f42fe",
   "metadata": {},
   "outputs": [
    {
     "data": {
      "text/plain": [
       "<re.Match object; span=(3, 6), match='123'>"
      ]
     },
     "execution_count": 62,
     "metadata": {},
     "output_type": "execute_result"
    }
   ],
   "source": [
    "re.search(r'(\\d+)', 'foo123bar')\n"
   ]
  },
  {
   "cell_type": "code",
   "execution_count": 63,
   "id": "6bc9422b",
   "metadata": {},
   "outputs": [],
   "source": [
    "re_obj = re.compile(r'(\\d+)')\n",
    "# re.comile wor as storing the info in the variable to which will act as a <regex>"
   ]
  },
  {
   "cell_type": "code",
   "execution_count": 64,
   "id": "aece74a4",
   "metadata": {},
   "outputs": [
    {
     "data": {
      "text/plain": [
       "<re.Match object; span=(3, 6), match='123'>"
      ]
     },
     "execution_count": 64,
     "metadata": {},
     "output_type": "execute_result"
    }
   ],
   "source": [
    "re.search(re_obj, 'foo123bar')\n",
    "# here re_obj works as the <regex> "
   ]
  },
  {
   "cell_type": "code",
   "execution_count": 65,
   "id": "eaa9ac5a",
   "metadata": {},
   "outputs": [],
   "source": [
    "# i.e 1\n",
    "r1 = re.search('ba[rz]', 'FOOBARBAZ', flags=re.I)\n",
    "# this is without re.compile "
   ]
  },
  {
   "cell_type": "code",
   "execution_count": 66,
   "id": "491f858b",
   "metadata": {},
   "outputs": [],
   "source": [
    "#i.e2 \n",
    "re_obj = re.compile('ba[rz]', flags=re.I)\n",
    "# creating <regex> object by re.compile also \n",
    "# it can contain flags "
   ]
  },
  {
   "cell_type": "code",
   "execution_count": 67,
   "id": "908e989f",
   "metadata": {},
   "outputs": [],
   "source": [
    "# i.e 3\n",
    "r2 = re.search(re_obj, 'FOOBARBAZ')\n",
    "# applying created object "
   ]
  },
  {
   "cell_type": "code",
   "execution_count": 68,
   "id": "9e131fd5",
   "metadata": {},
   "outputs": [],
   "source": [
    "# i.e 4\n",
    "r3 = re_obj.search('FOOBARBAZ')\n",
    "# now this object workes as a function"
   ]
  },
  {
   "cell_type": "code",
   "execution_count": 69,
   "id": "559aa623",
   "metadata": {},
   "outputs": [
    {
     "name": "stdout",
     "output_type": "stream",
     "text": [
      "printing 1st variable:<re.Match object; span=(3, 6), match='BAR'>\n"
     ]
    }
   ],
   "source": [
    "print(\"printing 1st variable:{}\".format(r1))"
   ]
  },
  {
   "cell_type": "code",
   "execution_count": 70,
   "id": "bb1d70ad",
   "metadata": {},
   "outputs": [
    {
     "name": "stdout",
     "output_type": "stream",
     "text": [
      "printing 2st variable:<re.Match object; span=(3, 6), match='BAR'>\n"
     ]
    }
   ],
   "source": [
    "print(\"printing 2st variable:{}\".format(r2))\n",
    "# this variable contains obj as a flag"
   ]
  },
  {
   "cell_type": "code",
   "execution_count": 71,
   "id": "c1c779c0",
   "metadata": {},
   "outputs": [
    {
     "name": "stdout",
     "output_type": "stream",
     "text": [
      "printing 3st variable:<re.Match object; span=(3, 6), match='BAR'>\n"
     ]
    }
   ],
   "source": [
    "print(\"printing 3st variable:{}\".format(r3))\n",
    "# this variable contains obj as a function"
   ]
  },
  {
   "cell_type": "markdown",
   "id": "d3bd40d4",
   "metadata": {},
   "source": [
    "## Why Bother Compiling a Regex?\n",
    "What good is precompiling? There are a couple of possible advantages."
   ]
  },
  {
   "cell_type": "markdown",
   "id": "64e4465c",
   "metadata": {},
   "source": [
    "If you use a `particular regex in your Python code frequently`, then `precompiling allows you to separate out the regex definition` from its uses. This `enhances modularity`. Consider this example:"
   ]
  },
  {
   "cell_type": "code",
   "execution_count": 72,
   "id": "b48e946b",
   "metadata": {},
   "outputs": [],
   "source": [
    "s1, s2, s3, s4 = 'foo.bar', 'foo123bar', 'baz99', 'qux & grault'"
   ]
  },
  {
   "cell_type": "code",
   "execution_count": 73,
   "id": "227b4bf7",
   "metadata": {},
   "outputs": [
    {
     "name": "stdout",
     "output_type": "stream",
     "text": [
      "None\n"
     ]
    }
   ],
   "source": [
    "print(re.search('\\d+', s1))\n",
    "# does not match "
   ]
  },
  {
   "cell_type": "code",
   "execution_count": 74,
   "id": "7052d672",
   "metadata": {},
   "outputs": [
    {
     "data": {
      "text/plain": [
       "<re.Match object; span=(3, 6), match='123'>"
      ]
     },
     "execution_count": 74,
     "metadata": {},
     "output_type": "execute_result"
    }
   ],
   "source": [
    "re.search('\\d+', s2)\n",
    "# does match digits in s2 "
   ]
  },
  {
   "cell_type": "code",
   "execution_count": 75,
   "id": "fd5f4f0c",
   "metadata": {},
   "outputs": [
    {
     "data": {
      "text/plain": [
       "<re.Match object; span=(3, 5), match='99'>"
      ]
     },
     "execution_count": 75,
     "metadata": {},
     "output_type": "execute_result"
    }
   ],
   "source": [
    "re.search('\\d+', s3)\n",
    "# does match digits in s3"
   ]
  },
  {
   "cell_type": "code",
   "execution_count": 76,
   "id": "5cc6c2d1",
   "metadata": {},
   "outputs": [],
   "source": [
    "re.search('\\d+', s4)\n",
    "# s4 does not contain any digits \n",
    "# does not match "
   ]
  },
  {
   "cell_type": "markdown",
   "id": "db74ed70",
   "metadata": {},
   "source": [
    "* Here, the regex \\d+ appears several times\n",
    "* If, in the course of maintaining this code, you decide you need a different regex, then you’ll need to change it in each location.\n",
    "* That’s not so bad in this small example because the uses are close to one another\n",
    "* But in a larger application, they might be widely scattered and difficult to track down."
   ]
  },
  {
   "cell_type": "markdown",
   "id": "8fb03904",
   "metadata": {},
   "source": [
    "The following is more modular and more maintainable:"
   ]
  },
  {
   "cell_type": "code",
   "execution_count": 77,
   "id": "5d0cfce6",
   "metadata": {},
   "outputs": [],
   "source": [
    "s1, s2, s3, s4 = 'foo.bar', 'foo123bar', 'baz99', 'qux & grault'\n",
    "re_obj = re.compile('\\d+')\n",
    "# created object from re.compile"
   ]
  },
  {
   "cell_type": "code",
   "execution_count": 78,
   "id": "373c7bf9",
   "metadata": {},
   "outputs": [],
   "source": [
    "# print(re.search('\\d+', s1))\n",
    "# vs \n",
    "re_obj.search(s1)"
   ]
  },
  {
   "cell_type": "code",
   "execution_count": 79,
   "id": "7d277604",
   "metadata": {},
   "outputs": [
    {
     "data": {
      "text/plain": [
       "<re.Match object; span=(3, 6), match='123'>"
      ]
     },
     "execution_count": 79,
     "metadata": {},
     "output_type": "execute_result"
    }
   ],
   "source": [
    "# re.search('\\d+', s2)\n",
    "# vs\n",
    "re_obj.search(s2)"
   ]
  },
  {
   "cell_type": "code",
   "execution_count": 80,
   "id": "83a5cbef",
   "metadata": {},
   "outputs": [
    {
     "data": {
      "text/plain": [
       "<re.Match object; span=(3, 5), match='99'>"
      ]
     },
     "execution_count": 80,
     "metadata": {},
     "output_type": "execute_result"
    }
   ],
   "source": [
    "# re.search('\\d+', s3)\n",
    "# vs\n",
    "re_obj.search(s3)"
   ]
  },
  {
   "cell_type": "code",
   "execution_count": 81,
   "id": "bae58ab2",
   "metadata": {},
   "outputs": [],
   "source": [
    "# re.search('\\d+', s4)\n",
    "# vs\n",
    "re_obj.search(s4)"
   ]
  },
  {
   "cell_type": "markdown",
   "id": "bf98d46f",
   "metadata": {},
   "source": [
    "Then again, you can achieve similar modularity without precompiling by using variable assignment:"
   ]
  },
  {
   "cell_type": "code",
   "execution_count": 82,
   "id": "a62c16a4",
   "metadata": {},
   "outputs": [],
   "source": [
    "s1, s2, s3, s4 = 'foo.bar', 'foo123bar', 'baz99', 'qux & grault'\n",
    "regex = '\\d+'"
   ]
  },
  {
   "cell_type": "code",
   "execution_count": 83,
   "id": "f27d26f9",
   "metadata": {},
   "outputs": [],
   "source": [
    "re.search(regex, s1)"
   ]
  },
  {
   "cell_type": "code",
   "execution_count": 84,
   "id": "5a18d854",
   "metadata": {},
   "outputs": [
    {
     "data": {
      "text/plain": [
       "<re.Match object; span=(3, 6), match='123'>"
      ]
     },
     "execution_count": 84,
     "metadata": {},
     "output_type": "execute_result"
    }
   ],
   "source": [
    "re.search(regex, s2)"
   ]
  },
  {
   "cell_type": "code",
   "execution_count": 85,
   "id": "a15d1843",
   "metadata": {},
   "outputs": [
    {
     "data": {
      "text/plain": [
       "<re.Match object; span=(3, 5), match='99'>"
      ]
     },
     "execution_count": 85,
     "metadata": {},
     "output_type": "execute_result"
    }
   ],
   "source": [
    "re.search(regex, s3)"
   ]
  },
  {
   "cell_type": "code",
   "execution_count": 86,
   "id": "6eceb2b5",
   "metadata": {},
   "outputs": [],
   "source": [
    "re.search(regex, s4)"
   ]
  },
  {
   "cell_type": "markdown",
   "id": "a769f65a",
   "metadata": {},
   "source": [
    "It might seem like compiling the regex once ahead of time would be more efficient than recompiling it each of the thousands of times it’s used"
   ]
  },
  {
   "cell_type": "markdown",
   "id": "44b289b2",
   "metadata": {},
   "source": [
    "In theory, you might expect precompilation to result in faster execution time as well. Suppose you call `re.search()` many thousands of times on the same regex. It might seem like compiling the regex once ahead of time would be `more efficient than recompiling` it each of the `thousands of times it’s used`.\n",
    "\n"
   ]
  },
  {
   "cell_type": "markdown",
   "id": "f5064de7",
   "metadata": {},
   "source": [
    "In practice, though, that isn’t the case. The truth is that the re module compiles and caches a regex when it’s used in a function call"
   ]
  },
  {
   "cell_type": "markdown",
   "id": "818c138a",
   "metadata": {},
   "source": [
    "If the same regex is used subsequently in the same Python code, then it isn’t recompiled. The compiled value is fetched from cache instead. So the performance advantage is minimal"
   ]
  },
  {
   "cell_type": "markdown",
   "id": "13acc816",
   "metadata": {},
   "source": [
    "All in all, there isn’t any immensely compelling reason to compile a regex in Python"
   ]
  },
  {
   "cell_type": "markdown",
   "id": "e4747058",
   "metadata": {},
   "source": [
    "Like much of Python, it’s just one more tool in your toolkit that you can use if you feel it will improve the readability or structure of your code."
   ]
  },
  {
   "cell_type": "markdown",
   "id": "c27d8f03",
   "metadata": {},
   "source": [
    "# Regular Expression Object Methods"
   ]
  },
  {
   "cell_type": "markdown",
   "id": "c85b98ec",
   "metadata": {},
   "source": [
    "A compiled regular expression object `re_obj` supports the following methods:"
   ]
  },
  {
   "cell_type": "markdown",
   "id": "8584ee58",
   "metadata": {},
   "source": [
    "* `re_obj.search(<string>[, <pos>[, <endpos>]])`\n",
    "* `re_obj.match(<string>[, <pos>[, <endpos>]])`\n",
    "* `re_obj.fullmatch(<string>[, <pos>[, <endpos>]])`\n",
    "* `re_obj.findall(<string>[, <pos>[, <endpos>]])`\n",
    "* `re_obj.finditer(<string>[, <pos>[, <endpos>]])`"
   ]
  },
  {
   "cell_type": "markdown",
   "id": "5ba3ba9f",
   "metadata": {},
   "source": [
    "These all behave the same way as the corresponding `re` functions that you’ve already encountered, with the exception that they also support the optional `<pos>` and `<endpos>` parameters. If these are present, then the search only applies to the portion of `<string>` indicated by `<pos>` and `<endpos>`, which act the same way as indices in slice notation:"
   ]
  },
  {
   "cell_type": "code",
   "execution_count": 87,
   "id": "7adae1df",
   "metadata": {},
   "outputs": [],
   "source": [
    "# ie.2\n",
    "\n",
    "re_obj = re.compile(r'\\d+')\n",
    "s = 'foo123barbaz'"
   ]
  },
  {
   "cell_type": "code",
   "execution_count": 88,
   "id": "ff7ddd6f",
   "metadata": {},
   "outputs": [
    {
     "data": {
      "text/plain": [
       "<re.Match object; span=(3, 6), match='123'>"
      ]
     },
     "execution_count": 88,
     "metadata": {},
     "output_type": "execute_result"
    }
   ],
   "source": [
    "# ie.2\n",
    "re_obj.search(s)"
   ]
  },
  {
   "cell_type": "code",
   "execution_count": 89,
   "id": "e60b9a4e",
   "metadata": {},
   "outputs": [
    {
     "data": {
      "text/plain": [
       "'bar'"
      ]
     },
     "execution_count": 89,
     "metadata": {},
     "output_type": "execute_result"
    }
   ],
   "source": [
    "# ie.3\n",
    "\n",
    "s[6:9]"
   ]
  },
  {
   "cell_type": "code",
   "execution_count": 90,
   "id": "553456a0",
   "metadata": {},
   "outputs": [
    {
     "name": "stdout",
     "output_type": "stream",
     "text": [
      "None\n"
     ]
    }
   ],
   "source": [
    "# ie.4\n",
    "\n",
    "print(re_obj.search(s, 6, 9))\n",
    "# same as example 3 "
   ]
  },
  {
   "cell_type": "markdown",
   "id": "2ffbc99a",
   "metadata": {},
   "source": [
    "In the above example, the regex is `\\d+`, a sequence of digit characters. The `.search()` call on ie 2 searches all of s, so there’s a match. On ie. 4, the `<pos>` and `<endpos>` parameters effectively restrict the search to the substring starting with character 6 and going up to but not including character 9 (the substring 'bar'), which doesn’t contain any digits."
   ]
  },
  {
   "cell_type": "markdown",
   "id": "53b82206",
   "metadata": {},
   "source": [
    "If you specify `<pos>` but omit `<endpos>`, then the search applies to the substring from `<pos>` to the end of the string."
   ]
  },
  {
   "cell_type": "markdown",
   "id": "0e13031f",
   "metadata": {},
   "source": [
    "Note- that anchors such as caret `(^)` and dollar sign `($)` still refer to the start and end of the entire string, not the substring determined by `<pos>` and `<endpos>`:"
   ]
  },
  {
   "cell_type": "code",
   "execution_count": 91,
   "id": "de3f2b68",
   "metadata": {},
   "outputs": [],
   "source": [
    "re_obj = re.compile('^bar')"
   ]
  },
  {
   "cell_type": "code",
   "execution_count": 92,
   "id": "4e8777ff",
   "metadata": {},
   "outputs": [],
   "source": [
    "s = 'foobarbaz'"
   ]
  },
  {
   "cell_type": "code",
   "execution_count": 93,
   "id": "4e41a703",
   "metadata": {},
   "outputs": [
    {
     "data": {
      "text/plain": [
       "'barbaz'"
      ]
     },
     "execution_count": 93,
     "metadata": {},
     "output_type": "execute_result"
    }
   ],
   "source": [
    "s[3:]"
   ]
  },
  {
   "cell_type": "code",
   "execution_count": 94,
   "id": "f948dd6f",
   "metadata": {},
   "outputs": [
    {
     "name": "stdout",
     "output_type": "stream",
     "text": [
      "None\n"
     ]
    }
   ],
   "source": [
    "print(re_obj.search(s, 3))"
   ]
  },
  {
   "cell_type": "markdown",
   "id": "1d7e2ba4",
   "metadata": {},
   "source": [
    "Here, even though `'bar'` does occur at the start of the substring beginning at character 3, it isn’t at the start of the entire string, so the caret (^) anchor fails to match."
   ]
  },
  {
   "cell_type": "markdown",
   "id": "612a4308",
   "metadata": {},
   "source": [
    "The following methods are available for a compiled regular expression object re_obj as well:\n",
    "\n"
   ]
  },
  {
   "cell_type": "markdown",
   "id": "01f6972b",
   "metadata": {},
   "source": [
    "* `re_obj.split(<string>, maxsplit=0)`\n",
    "* `re_obj.sub(<repl>, <string>, count=0)`\n",
    "* `re_obj.subn(<repl>, <string>, count=0)`"
   ]
  },
  {
   "cell_type": "markdown",
   "id": "514ed695",
   "metadata": {},
   "source": [
    "These also behave analogously to the corresponding `re` functions, but they don’t support the `<pos>` and `<endpos>` parameters."
   ]
  },
  {
   "cell_type": "markdown",
   "id": "4b8a7e7e",
   "metadata": {},
   "source": [
    "## Regular Expression Object Attributes"
   ]
  },
  {
   "cell_type": "markdown",
   "id": "5a08afe2",
   "metadata": {},
   "source": [
    "The re module defines several useful attributes for a compiled regular expression object:"
   ]
  },
  {
   "cell_type": "markdown",
   "id": "70a90934",
   "metadata": {},
   "source": [
    "|Attribute|\tMeaning|\n",
    "| ----------- | ----------- |\n",
    "|re_obj.flags|\tAny <flags> that are in effect for the regex|\n",
    "|re_obj.groups|\tThe number of capturing groups in the regex\n",
    "|re_obj.groupindex|\tA dictionary mapping each symbolic group name defined by the (?P<name>) construct (if any) to the corresponding group number|\n",
    "|re_obj.pattern|\tThe <regex> pattern that produced this object|"
   ]
  },
  {
   "cell_type": "markdown",
   "id": "766c555c",
   "metadata": {},
   "source": [
    "The code below demonstrates some uses of these attributes:"
   ]
  },
  {
   "cell_type": "code",
   "execution_count": 95,
   "id": "64df26f2",
   "metadata": {},
   "outputs": [
    {
     "data": {
      "text/plain": [
       "42"
      ]
     },
     "execution_count": 95,
     "metadata": {},
     "output_type": "execute_result"
    }
   ],
   "source": [
    "# i.e 1\n",
    "re_obj = re.compile(r'(?m)(\\w+),(\\w+)', re.I)\n",
    "re_obj.flags"
   ]
  },
  {
   "cell_type": "code",
   "execution_count": 96,
   "id": "11ad6bf7",
   "metadata": {},
   "outputs": [
    {
     "data": {
      "text/plain": [
       "re.IGNORECASE|re.UNICODE|re.MULTILINE"
      ]
     },
     "execution_count": 96,
     "metadata": {},
     "output_type": "execute_result"
    }
   ],
   "source": [
    "re.I|re.M|re.UNICODE\n",
    "# that the value of re_obj.\n",
    "# flags is the logical OR of these three values, \n",
    "# which equals 42"
   ]
  },
  {
   "cell_type": "code",
   "execution_count": 98,
   "id": "5be4181c",
   "metadata": {},
   "outputs": [
    {
     "data": {
      "text/plain": [
       "2"
      ]
     },
     "execution_count": 98,
     "metadata": {},
     "output_type": "execute_result"
    }
   ],
   "source": [
    "re_obj.groups"
   ]
  },
  {
   "cell_type": "code",
   "execution_count": 99,
   "id": "5a37d173",
   "metadata": {},
   "outputs": [
    {
     "data": {
      "text/plain": [
       "'(?m)(\\\\w+),(\\\\w+)'"
      ]
     },
     "execution_count": 99,
     "metadata": {},
     "output_type": "execute_result"
    }
   ],
   "source": [
    "re_obj.pattern"
   ]
  },
  {
   "cell_type": "code",
   "execution_count": 100,
   "id": "6e347e80",
   "metadata": {},
   "outputs": [],
   "source": [
    "re_obj = re.compile(r'(?P<w1>),(?P<w2>)')\n",
    "# ?P<write goup name > used for group name\n",
    "# The value of the .groupindex attribute for the regular expression object defined\n",
    "# is technically an object of type mappingproxy\n",
    "# it functions like a dictionary."
   ]
  },
  {
   "cell_type": "code",
   "execution_count": 101,
   "id": "90830884",
   "metadata": {},
   "outputs": [
    {
     "data": {
      "text/plain": [
       "mappingproxy({'w1': 1, 'w2': 2})"
      ]
     },
     "execution_count": 101,
     "metadata": {},
     "output_type": "execute_result"
    }
   ],
   "source": [
    "re_obj.groupindex"
   ]
  },
  {
   "cell_type": "code",
   "execution_count": 102,
   "id": "8c92455e",
   "metadata": {},
   "outputs": [
    {
     "data": {
      "text/plain": [
       "1"
      ]
     },
     "execution_count": 102,
     "metadata": {},
     "output_type": "execute_result"
    }
   ],
   "source": [
    "re_obj.groupindex['w1']"
   ]
  },
  {
   "cell_type": "code",
   "execution_count": 103,
   "id": "663b4223",
   "metadata": {},
   "outputs": [
    {
     "data": {
      "text/plain": [
       "2"
      ]
     },
     "execution_count": 103,
     "metadata": {},
     "output_type": "execute_result"
    }
   ],
   "source": [
    "re_obj.groupindex['w2']"
   ]
  },
  {
   "cell_type": "markdown",
   "id": "4fbf704b",
   "metadata": {},
   "source": [
    "Note that `.flags` includes any flags `specified as arguments` to `re.compile()`, any specified within the `regex` with the `(?flags)` metacharacter sequence, and any that are in effect by default."
   ]
  },
  {
   "cell_type": "markdown",
   "id": "0725fd73",
   "metadata": {},
   "source": [
    "In the regular expression object defined on i.e1, there are three flags defined:"
   ]
  },
  {
   "cell_type": "markdown",
   "id": "77c28e56",
   "metadata": {},
   "source": [
    "1. **re.I:** Specified as a `<flags>` value in the `re.compile()` call\n",
    "2. **re.M:** Specified as `(?m)` within the regex\n",
    "3. **re.UNICODE:** Enabled by default"
   ]
  },
  {
   "cell_type": "markdown",
   "id": "9af929f0",
   "metadata": {},
   "source": [
    "## Match Object Methods and Attributes"
   ]
  },
  {
   "cell_type": "markdown",
   "id": "8e6730f6",
   "metadata": {},
   "source": [
    "As you’ve seen, most functions and methods in the `re` module return a match **object** when there’s a successful match. Because a match object is truthy, you can use it in a conditional:"
   ]
  },
  {
   "cell_type": "code",
   "execution_count": 104,
   "id": "51dfbaa9",
   "metadata": {},
   "outputs": [],
   "source": [
    "m = re.search('bar', \"foo.bar.baz\")"
   ]
  },
  {
   "cell_type": "code",
   "execution_count": 105,
   "id": "d6431e27",
   "metadata": {},
   "outputs": [
    {
     "data": {
      "text/plain": [
       "<re.Match object; span=(4, 7), match='bar'>"
      ]
     },
     "execution_count": 105,
     "metadata": {},
     "output_type": "execute_result"
    }
   ],
   "source": [
    "m\n",
    "# only matches given bar <regex>"
   ]
  },
  {
   "cell_type": "code",
   "execution_count": 108,
   "id": "a7110574",
   "metadata": {},
   "outputs": [
    {
     "data": {
      "text/plain": [
       "True"
      ]
     },
     "execution_count": 108,
     "metadata": {},
     "output_type": "execute_result"
    }
   ],
   "source": [
    "bool(m)\n",
    "# if matches occure bool function will returns True"
   ]
  },
  {
   "cell_type": "code",
   "execution_count": 109,
   "id": "ba4573e2",
   "metadata": {},
   "outputs": [
    {
     "name": "stdout",
     "output_type": "stream",
     "text": [
      "Found a match\n"
     ]
    }
   ],
   "source": [
    "if re.search('bar', 'foo.bar.baz'):\n",
    "     print('Found a match')\n",
    "        \n",
    "# this is same as above "
   ]
  },
  {
   "cell_type": "markdown",
   "id": "2f082bc6",
   "metadata": {},
   "source": [
    "But match objects also `contain` quite a bit of handy `information about the match`."
   ]
  },
  {
   "cell_type": "markdown",
   "id": "cd5adc0a",
   "metadata": {},
   "source": [
    "You’ve already seen some of it`—the span= and match= `data that the interpreter shows when it `displays a match object`."
   ]
  },
  {
   "cell_type": "markdown",
   "id": "8829fa9d",
   "metadata": {},
   "source": [
    "You can obtain much more from a match object using its methods and attributes."
   ]
  },
  {
   "cell_type": "markdown",
   "id": "8cdb9624",
   "metadata": {},
   "source": [
    "## Match Object Methods"
   ]
  },
  {
   "cell_type": "markdown",
   "id": "ce750524",
   "metadata": {},
   "source": [
    "The table below summarizes the methods that are available for a match object match:\n"
   ]
  },
  {
   "cell_type": "markdown",
   "id": "ee4e4696",
   "metadata": {},
   "source": [
    "|Method|\tReturns|\n",
    "| ----------- | ----------- |\n",
    "|`match.group()`|\tThe specified captured group or groups from match|\n",
    "|`match.__getitem__()`|\tA captured group from match|\n",
    "|`match.groups()`|\tAll the captured groups from match|\n",
    "|`match.groupdict()`|\tA dictionary of named captured groups from match|\n",
    "|`match.expand()`|\tThe result of performing backreference substitutions from match|\n",
    "|`match.start()`|\tThe starting index of match|\n",
    "|`match.end()`|\tThe ending index of match|\n",
    "|`match.span()`|\tBoth the starting and ending indices of match as a tuple|"
   ]
  },
  {
   "cell_type": "markdown",
   "id": "046f7af2",
   "metadata": {},
   "source": [
    "The following sections describe these methods in more detail."
   ]
  },
  {
   "cell_type": "markdown",
   "id": "0191e012",
   "metadata": {},
   "source": [
    "## `match.group([<group1>, ...])`\n",
    "Returns the specified captured group(s) from a match"
   ]
  },
  {
   "cell_type": "markdown",
   "id": "1f8bc313",
   "metadata": {},
   "source": [
    "For numbered groups, match.group(n) returns the nth group:"
   ]
  },
  {
   "cell_type": "code",
   "execution_count": 111,
   "id": "363fa421",
   "metadata": {},
   "outputs": [],
   "source": [
    "m = re.search(r'(\\w+),(\\w+),(\\w+)', 'foo,bar,baz')"
   ]
  },
  {
   "cell_type": "code",
   "execution_count": 112,
   "id": "4de1d9a0",
   "metadata": {},
   "outputs": [
    {
     "data": {
      "text/plain": [
       "'foo'"
      ]
     },
     "execution_count": 112,
     "metadata": {},
     "output_type": "execute_result"
    }
   ],
   "source": [
    "m.group(1)"
   ]
  },
  {
   "cell_type": "code",
   "execution_count": 113,
   "id": "ab246ca7",
   "metadata": {},
   "outputs": [
    {
     "data": {
      "text/plain": [
       "'bar'"
      ]
     },
     "execution_count": 113,
     "metadata": {},
     "output_type": "execute_result"
    }
   ],
   "source": [
    "m.group(2)"
   ]
  },
  {
   "cell_type": "code",
   "execution_count": 114,
   "id": "b3badc3d",
   "metadata": {},
   "outputs": [
    {
     "data": {
      "text/plain": [
       "'baz'"
      ]
     },
     "execution_count": 114,
     "metadata": {},
     "output_type": "execute_result"
    }
   ],
   "source": [
    "m.group(3)"
   ]
  },
  {
   "cell_type": "markdown",
   "id": "8ff28490",
   "metadata": {},
   "source": [
    "If you capture groups using `(?P<name><regex>)`, then `match.group(<name>)` returns the corresponding named group:"
   ]
  },
  {
   "cell_type": "code",
   "execution_count": 118,
   "id": "df4cb208",
   "metadata": {},
   "outputs": [],
   "source": [
    "m = re.match(r'(?P<w1>\\w+),(?P<w2>\\w+),(?P<w3>\\w+)','quux,corge,grault')\n"
   ]
  },
  {
   "cell_type": "code",
   "execution_count": 120,
   "id": "865d0771",
   "metadata": {},
   "outputs": [
    {
     "data": {
      "text/plain": [
       "'quux'"
      ]
     },
     "execution_count": 120,
     "metadata": {},
     "output_type": "execute_result"
    }
   ],
   "source": [
    "m.group('w1')"
   ]
  },
  {
   "cell_type": "code",
   "execution_count": 121,
   "id": "d33ffdba",
   "metadata": {},
   "outputs": [
    {
     "data": {
      "text/plain": [
       "'corge'"
      ]
     },
     "execution_count": 121,
     "metadata": {},
     "output_type": "execute_result"
    }
   ],
   "source": [
    "m.group('w2')"
   ]
  },
  {
   "cell_type": "code",
   "execution_count": 122,
   "id": "3cccbdf7",
   "metadata": {},
   "outputs": [
    {
     "data": {
      "text/plain": [
       "'grault'"
      ]
     },
     "execution_count": 122,
     "metadata": {},
     "output_type": "execute_result"
    }
   ],
   "source": [
    "m.group('w3')"
   ]
  },
  {
   "cell_type": "markdown",
   "id": "99e17b50",
   "metadata": {},
   "source": [
    "With more than one argument, `.group()` returns a tuple of all the groups specified."
   ]
  },
  {
   "cell_type": "markdown",
   "id": "6136bd8d",
   "metadata": {},
   "source": [
    "A given group can appear multiple times, and you can specify any captured groups in any order:"
   ]
  },
  {
   "cell_type": "code",
   "execution_count": 124,
   "id": "375b20c6",
   "metadata": {},
   "outputs": [],
   "source": [
    "m = re.search(r'(\\w+),(\\w+),(\\w+)','foo,bar,baz')"
   ]
  },
  {
   "cell_type": "code",
   "execution_count": 125,
   "id": "2bac24bb",
   "metadata": {},
   "outputs": [
    {
     "data": {
      "text/plain": [
       "('foo', 'baz')"
      ]
     },
     "execution_count": 125,
     "metadata": {},
     "output_type": "execute_result"
    }
   ],
   "source": [
    "m.group(1, 3)"
   ]
  },
  {
   "cell_type": "code",
   "execution_count": 127,
   "id": "b176e588",
   "metadata": {},
   "outputs": [
    {
     "data": {
      "text/plain": [
       "('baz', 'baz', 'foo', 'foo', 'bar', 'bar')"
      ]
     },
     "execution_count": 127,
     "metadata": {},
     "output_type": "execute_result"
    }
   ],
   "source": [
    "m.group(3, 3, 1, 1, 2, 2)\n",
    "# we can call groups many time as we want"
   ]
  },
  {
   "cell_type": "code",
   "execution_count": 128,
   "id": "703f5dfc",
   "metadata": {},
   "outputs": [],
   "source": [
    "m = re.match(r'(?P<w1>\\w+),(?P<w2>\\w+),(?P<w3>\\w+)','quux,corge,grault' )"
   ]
  },
  {
   "cell_type": "code",
   "execution_count": 129,
   "id": "0b630f4c",
   "metadata": {},
   "outputs": [
    {
     "data": {
      "text/plain": [
       "('grault', 'quux', 'quux', 'corge', 'corge')"
      ]
     },
     "execution_count": 129,
     "metadata": {},
     "output_type": "execute_result"
    }
   ],
   "source": [
    "m.group(\"w3\", \"w1\", \"w1\", 'w2', 'w2')"
   ]
  },
  {
   "cell_type": "markdown",
   "id": "2ff6ebd0",
   "metadata": {},
   "source": [
    "If you specify a group that’s out of range or nonexistent, then `.group()` raises an `IndexError` exception:"
   ]
  },
  {
   "cell_type": "code",
   "execution_count": 133,
   "id": "d9bc5a7e",
   "metadata": {},
   "outputs": [],
   "source": [
    "m = re.search(r'(\\w+),(\\w+),(\\w+)','foo,bar,baz')\n",
    "#m.group(4)\n",
    "# there is no group 4 prent hence it will return error\n",
    "# IndexError: no such group"
   ]
  },
  {
   "cell_type": "code",
   "execution_count": 134,
   "id": "bd55e026",
   "metadata": {},
   "outputs": [],
   "source": [
    "m = re.match(r'(?P<w1>\\w+),(?P<w2>\\w+),(?P<w3>\\w+)','quux,corge,grault' )"
   ]
  },
  {
   "cell_type": "code",
   "execution_count": 136,
   "id": "2ed0e305",
   "metadata": {},
   "outputs": [],
   "source": [
    "# m.group('foo')\n",
    "# it will return error "
   ]
  },
  {
   "cell_type": "markdown",
   "id": "c21ea7b3",
   "metadata": {},
   "source": [
    "It’s possible for a regex in Python to match as a whole but to contain a group that `doesn’t participate in the match`. In that case, `.group()` returns None for the `nonparticipating group`. Consider this example:"
   ]
  },
  {
   "cell_type": "code",
   "execution_count": 147,
   "id": "b9ab37ab",
   "metadata": {},
   "outputs": [],
   "source": [
    "m = re.search(r'(\\w+),(\\w+),(\\w+)?', \"foo,bar,\")\n",
    "# , is important because even blank will consider as a groupt 3 \n",
    "# and that will show as the None\n",
    "# `(?)` quantifier metacharacter\n",
    "# follows the third group, though, \n",
    "# so that group is optional"
   ]
  },
  {
   "cell_type": "code",
   "execution_count": 148,
   "id": "8779ad9e",
   "metadata": {},
   "outputs": [
    {
     "name": "stdout",
     "output_type": "stream",
     "text": [
      "<re.Match object; span=(0, 8), match='foo,bar,'>\n"
     ]
    }
   ],
   "source": [
    "print(m)"
   ]
  },
  {
   "cell_type": "code",
   "execution_count": 149,
   "id": "d79e2649",
   "metadata": {},
   "outputs": [
    {
     "data": {
      "text/plain": [
       "('foo', 'bar')"
      ]
     },
     "execution_count": 149,
     "metadata": {},
     "output_type": "execute_result"
    }
   ],
   "source": [
    "m.group(1,2)"
   ]
  },
  {
   "cell_type": "code",
   "execution_count": 143,
   "id": "2d40825c",
   "metadata": {},
   "outputs": [
    {
     "data": {
      "text/plain": [
       "('foo', 'bar', None)"
      ]
     },
     "execution_count": 143,
     "metadata": {},
     "output_type": "execute_result"
    }
   ],
   "source": [
    "m.group(1,2,3)"
   ]
  },
  {
   "cell_type": "markdown",
   "id": "7a072ffc",
   "metadata": {},
   "source": [
    "This regex matches, as you can see from the match object. The first two captured groups contain `'foo'` and '`bar'`, respectively."
   ]
  },
  {
   "cell_type": "markdown",
   "id": "2a31e8cd",
   "metadata": {},
   "source": [
    "A question mark `(?)` quantifier metacharacter follows the third group, though, so that `group is optional`. A match will occur if there’s a third sequence of word characters following the `second comma (,)` but also if there isn’t."
   ]
  },
  {
   "cell_type": "markdown",
   "id": "c7619a84",
   "metadata": {},
   "source": [
    "In this case, there isn’t. So there is match overall, but the third group doesn’t participate in it. As a result, `m.group(3)` is still defined and is a valid reference, but it returns None:"
   ]
  },
  {
   "cell_type": "code",
   "execution_count": 150,
   "id": "59d989bb",
   "metadata": {},
   "outputs": [
    {
     "name": "stdout",
     "output_type": "stream",
     "text": [
      "None\n"
     ]
    }
   ],
   "source": [
    "print(m.group(3))\n"
   ]
  },
  {
   "cell_type": "markdown",
   "id": "9720e8f1",
   "metadata": {},
   "source": [
    "It can also happen that a group participates in the overall match multiple times."
   ]
  },
  {
   "cell_type": "markdown",
   "id": "84b1f997",
   "metadata": {},
   "source": [
    " If you call `.group()` for that group number, then it returns only the part of the search string that matched the last time."
   ]
  },
  {
   "cell_type": "markdown",
   "id": "687d425e",
   "metadata": {},
   "source": [
    "The earlier matches aren’t accessible:"
   ]
  },
  {
   "cell_type": "code",
   "execution_count": 151,
   "id": "bf9ffe82",
   "metadata": {},
   "outputs": [],
   "source": [
    "m = re.match(r'(\\w{3},)+','foo,bar,baz,qux')"
   ]
  },
  {
   "cell_type": "code",
   "execution_count": 152,
   "id": "744d4276",
   "metadata": {},
   "outputs": [
    {
     "data": {
      "text/plain": [
       "<re.Match object; span=(0, 12), match='foo,bar,baz,'>"
      ]
     },
     "execution_count": 152,
     "metadata": {},
     "output_type": "execute_result"
    }
   ],
   "source": [
    "m"
   ]
  },
  {
   "cell_type": "code",
   "execution_count": 153,
   "id": "7e812bdc",
   "metadata": {},
   "outputs": [
    {
     "data": {
      "text/plain": [
       "'baz,'"
      ]
     },
     "execution_count": 153,
     "metadata": {},
     "output_type": "execute_result"
    }
   ],
   "source": [
    "m.group(1)"
   ]
  },
  {
   "cell_type": "markdown",
   "id": "9d1c4035",
   "metadata": {},
   "source": [
    "In this example, the full match is `foo,bar,baz,'`, as shown by the displayed match object. "
   ]
  },
  {
   "cell_type": "markdown",
   "id": "be4101af",
   "metadata": {},
   "source": [
    " Each of `'foo,', 'bar,', and 'baz,'` `matches what’s inside the group`, but `m.group(1)` returns only the `last match`, `'baz,'`."
   ]
  },
  {
   "cell_type": "markdown",
   "id": "57e64b76",
   "metadata": {},
   "source": [
    "If you call `.group()` with an argument of 0 or no argument at all, then it returns the entire match"
   ]
  },
  {
   "cell_type": "code",
   "execution_count": 156,
   "id": "8955f47a",
   "metadata": {},
   "outputs": [],
   "source": [
    "m = re.search(r'(\\w+),(\\w+),(\\w+)', 'foo,bar,baz')"
   ]
  },
  {
   "cell_type": "code",
   "execution_count": 157,
   "id": "f510816f",
   "metadata": {},
   "outputs": [
    {
     "data": {
      "text/plain": [
       "<re.Match object; span=(0, 11), match='foo,bar,baz'>"
      ]
     },
     "execution_count": 157,
     "metadata": {},
     "output_type": "execute_result"
    }
   ],
   "source": [
    "m"
   ]
  },
  {
   "cell_type": "code",
   "execution_count": 158,
   "id": "483cabc9",
   "metadata": {},
   "outputs": [
    {
     "data": {
      "text/plain": [
       "'foo,bar,baz'"
      ]
     },
     "execution_count": 158,
     "metadata": {},
     "output_type": "execute_result"
    }
   ],
   "source": [
    "m.group()"
   ]
  },
  {
   "cell_type": "code",
   "execution_count": 159,
   "id": "0445dece",
   "metadata": {},
   "outputs": [
    {
     "data": {
      "text/plain": [
       "'foo,bar,baz'"
      ]
     },
     "execution_count": 159,
     "metadata": {},
     "output_type": "execute_result"
    }
   ],
   "source": [
    "# or\n",
    "m.group(0)"
   ]
  },
  {
   "cell_type": "markdown",
   "id": "4a080033",
   "metadata": {},
   "source": [
    "This is the same data the interpreter shows following match= when it displays the match object"
   ]
  },
  {
   "cell_type": "markdown",
   "id": "d9719c9c",
   "metadata": {},
   "source": [
    "## `match.__getitem__(<grp>)`\n",
    "\n",
    "Returns a captured group from a match."
   ]
  },
  {
   "cell_type": "markdown",
   "id": "0f74db4b",
   "metadata": {},
   "source": [
    "`match.__getitem__(<grp>)` is identical to `match.group(<grp>)` and returns the single group specified by `<grp>`:"
   ]
  },
  {
   "cell_type": "code",
   "execution_count": 160,
   "id": "adc670c5",
   "metadata": {},
   "outputs": [],
   "source": [
    "m = re.search(r'(\\w+),(\\w+),(\\w+)', 'foo,bar,baz')"
   ]
  },
  {
   "cell_type": "code",
   "execution_count": 161,
   "id": "39cb47e5",
   "metadata": {},
   "outputs": [
    {
     "data": {
      "text/plain": [
       "'bar'"
      ]
     },
     "execution_count": 161,
     "metadata": {},
     "output_type": "execute_result"
    }
   ],
   "source": [
    "m.group(2)"
   ]
  },
  {
   "cell_type": "code",
   "execution_count": 162,
   "id": "1c492b2f",
   "metadata": {},
   "outputs": [
    {
     "data": {
      "text/plain": [
       "'bar'"
      ]
     },
     "execution_count": 162,
     "metadata": {},
     "output_type": "execute_result"
    }
   ],
   "source": [
    "m.__getitem__(2)\n",
    "# it works as the same but \n",
    "# You probably wouldn’t directly, but you might indirectly"
   ]
  },
  {
   "cell_type": "markdown",
   "id": "66991165",
   "metadata": {},
   "source": [
    "If `.__getitem__()` simply replicates the functionality of `.group()`, then why would you use it? You probably wouldn’t directly, but you might indirectly. Read on to see why."
   ]
  },
  {
   "cell_type": "markdown",
   "id": "707143c4",
   "metadata": {},
   "source": [
    "## A Brief Introduction to Magic Methods"
   ]
  },
  {
   "cell_type": "markdown",
   "id": "9a1f1635",
   "metadata": {},
   "source": [
    "`.__getitem__()` is one of a `collection of methods` in Python called `magic methods`. These are `special methods` that the `interpreter calls when a Python statement contains specific corresponding syntactical elements`."
   ]
  },
  {
   "cell_type": "markdown",
   "id": "6705b83e",
   "metadata": {},
   "source": [
    "Note: `Magic methods` are also referred to as `dunder methods` because of the `double underscore (__)` at the `beginning and end` of the method name."
   ]
  },
  {
   "cell_type": "markdown",
   "id": "57916f0c",
   "metadata": {},
   "source": [
    "Later in this series, there are several `tutorials` on `object-oriented programming`. You’ll learn much more about magic methods there."
   ]
  },
  {
   "cell_type": "markdown",
   "id": "27083821",
   "metadata": {},
   "source": [
    "The particular syntax that `.__getitem__() corresponds` to is `indexing with square brackets`. For any object `obj`, whenever you use the expression `obj[n]`, behind the scenes Python quietly translates it to a call to `.__getitem__()`. The following expressions are effectively equivalent:"
   ]
  },
  {
   "cell_type": "markdown",
   "id": "78b0b93c",
   "metadata": {},
   "source": [
    "`obj[n]`\n",
    "`obj.__getitem__(n)`"
   ]
  },
  {
   "cell_type": "markdown",
   "id": "76619af0",
   "metadata": {},
   "source": [
    "The syntax `obj[n]` is only `meaningful if a .__getitem()__ method exists` for the `class or type` to which `obj belongs`. Exactly how Python interprets `obj[n]` will then depend on the implementation of `.__getitem__()` for that class."
   ]
  },
  {
   "cell_type": "markdown",
   "id": "fcf6f15f",
   "metadata": {},
   "source": [
    "## Back to Match Objects\n",
    "As of Python version 3.6, the re module does implement `.__getitem__()` for match objects. The implementation is such that match`.__getitem__(n)` is the same as `match.group(n)`."
   ]
  },
  {
   "cell_type": "markdown",
   "id": "cbccbc67",
   "metadata": {},
   "source": [
    "The result of all this is that, instead of calling `.group()` directly, you can access captured groups from a match object using square-bracket indexing syntax instead:"
   ]
  },
  {
   "cell_type": "code",
   "execution_count": 163,
   "id": "83d6794d",
   "metadata": {},
   "outputs": [],
   "source": [
    "m= re.search(r'(\\w+),(\\w+),(\\w+)','foo,bar,baz')"
   ]
  },
  {
   "cell_type": "code",
   "execution_count": 164,
   "id": "149e71f3",
   "metadata": {},
   "outputs": [
    {
     "data": {
      "text/plain": [
       "'bar'"
      ]
     },
     "execution_count": 164,
     "metadata": {},
     "output_type": "execute_result"
    }
   ],
   "source": [
    "m.group(2)"
   ]
  },
  {
   "cell_type": "code",
   "execution_count": 165,
   "id": "f1c4db64",
   "metadata": {},
   "outputs": [
    {
     "data": {
      "text/plain": [
       "'bar'"
      ]
     },
     "execution_count": 165,
     "metadata": {},
     "output_type": "execute_result"
    }
   ],
   "source": [
    "m.__getitem__(2)"
   ]
  },
  {
   "cell_type": "code",
   "execution_count": 166,
   "id": "1079e37f",
   "metadata": {},
   "outputs": [
    {
     "data": {
      "text/plain": [
       "'bar'"
      ]
     },
     "execution_count": 166,
     "metadata": {},
     "output_type": "execute_result"
    }
   ],
   "source": [
    "m[2]"
   ]
  },
  {
   "cell_type": "markdown",
   "id": "bf63fc4e",
   "metadata": {},
   "source": [
    "works with named captured groups"
   ]
  },
  {
   "cell_type": "code",
   "execution_count": 167,
   "id": "7f47a4b2",
   "metadata": {},
   "outputs": [
    {
     "data": {
      "text/plain": [
       "'baz'"
      ]
     },
     "execution_count": 167,
     "metadata": {},
     "output_type": "execute_result"
    }
   ],
   "source": [
    "m = re.match(\n",
    "    r'foo,(?P<w1>\\w+),(?P<w2>\\w+),qux',\n",
    "    'foo,bar,baz,qux')\n",
    "m.group('w2')"
   ]
  },
  {
   "cell_type": "code",
   "execution_count": 169,
   "id": "71fcdd6b",
   "metadata": {},
   "outputs": [
    {
     "data": {
      "text/plain": [
       "'baz'"
      ]
     },
     "execution_count": 169,
     "metadata": {},
     "output_type": "execute_result"
    }
   ],
   "source": [
    "m[\"w2\"]"
   ]
  },
  {
   "cell_type": "markdown",
   "id": "f82eb5ec",
   "metadata": {},
   "source": [
    "This is something you could achieve by just calling `.group()` explicitly, but it’s a pretty shortcut notation nonetheless."
   ]
  },
  {
   "cell_type": "markdown",
   "id": "5bfd3f79",
   "metadata": {},
   "source": [
    "When a programming language provides alternate syntax that isn’t strictly necessary but allows for the expression of something in a cleaner, easier-to-read way, it’s called syntactic sugar. For a match object, `match[n]` is syntactic sugar for `match.group(n)`."
   ]
  },
  {
   "cell_type": "markdown",
   "id": "130923ad",
   "metadata": {},
   "source": [
    "## `match.groups(default=None)`\n",
    "Returns all captured groups from a match.\n",
    "\n"
   ]
  },
  {
   "cell_type": "markdown",
   "id": "d52daff3",
   "metadata": {},
   "source": [
    "match.groups() returns a tuple of all captured groups:"
   ]
  },
  {
   "cell_type": "code",
   "execution_count": 171,
   "id": "671876e7",
   "metadata": {},
   "outputs": [],
   "source": [
    "m = re.search(r'(\\w+),(\\w+),(\\w+)', 'foo,bar,baz')"
   ]
  },
  {
   "cell_type": "code",
   "execution_count": 172,
   "id": "17f467dc",
   "metadata": {},
   "outputs": [
    {
     "data": {
      "text/plain": [
       "('foo', 'bar', 'baz')"
      ]
     },
     "execution_count": 172,
     "metadata": {},
     "output_type": "execute_result"
    }
   ],
   "source": [
    "m.groups()"
   ]
  },
  {
   "cell_type": "markdown",
   "id": "cb2d4beb",
   "metadata": {},
   "source": [
    "As you saw previously, when a group in a regex in Python doesn’t participate in the overall match,"
   ]
  },
  {
   "cell_type": "markdown",
   "id": "e221867d",
   "metadata": {},
   "source": [
    "`.group()` returns None for that group. By default, .groups() does likewise."
   ]
  },
  {
   "cell_type": "markdown",
   "id": "4660dc58",
   "metadata": {},
   "source": [
    "If you want `.groups()` to return something else in this situation, then you can use the default keyword argument:"
   ]
  },
  {
   "cell_type": "code",
   "execution_count": 178,
   "id": "9b54b8be",
   "metadata": {},
   "outputs": [],
   "source": [
    "m = re.search(r'(\\w+),(\\w+),(\\w+)?', 'foo,bar,')\n",
    "# ? it will gives taken as a optional for regex even it is nothing"
   ]
  },
  {
   "cell_type": "code",
   "execution_count": 175,
   "id": "07fbf39a",
   "metadata": {},
   "outputs": [
    {
     "data": {
      "text/plain": [
       "<re.Match object; span=(0, 8), match='foo,bar,'>"
      ]
     },
     "execution_count": 175,
     "metadata": {},
     "output_type": "execute_result"
    }
   ],
   "source": [
    "m"
   ]
  },
  {
   "cell_type": "code",
   "execution_count": 176,
   "id": "36fffa5f",
   "metadata": {},
   "outputs": [
    {
     "name": "stdout",
     "output_type": "stream",
     "text": [
      "None\n"
     ]
    }
   ],
   "source": [
    "print(m.group(3))"
   ]
  },
  {
   "cell_type": "code",
   "execution_count": 177,
   "id": "a44aea9a",
   "metadata": {},
   "outputs": [
    {
     "data": {
      "text/plain": [
       "('foo', 'bar', None)"
      ]
     },
     "execution_count": 177,
     "metadata": {},
     "output_type": "execute_result"
    }
   ],
   "source": [
    "\n",
    "m.groups()"
   ]
  },
  {
   "cell_type": "code",
   "execution_count": 180,
   "id": "9f5de7ab",
   "metadata": {},
   "outputs": [
    {
     "data": {
      "text/plain": [
       "('foo', 'bar', '---')"
      ]
     },
     "execution_count": 180,
     "metadata": {},
     "output_type": "execute_result"
    }
   ],
   "source": [
    "m.groups(default='---')\n",
    "# it will gives --- for  none"
   ]
  },
  {
   "cell_type": "markdown",
   "id": "0477c6a4",
   "metadata": {},
   "source": [
    "Here, the third `(\\w+)` group doesn’t participate in the match because the question mark `(?) metacharacter makes it optional`,and the string `'foo,bar,'` `doesn’t contain a third sequence` of word characters."
   ]
  },
  {
   "cell_type": "markdown",
   "id": "6b8ac0f0",
   "metadata": {},
   "source": [
    "By default, `m.groups()` returns `None` for the `third group`, as shown on `m.groups()` result. On result of `m.groups(default='---')` , you can see that specifying `default='---'` causes it to `return the string '---' instead`."
   ]
  },
  {
   "cell_type": "markdown",
   "id": "a4166179",
   "metadata": {},
   "source": [
    "There isn’t any corresponding default keyword for `.group()`. It always `returns None` for `nonparticipating groups`."
   ]
  },
  {
   "cell_type": "markdown",
   "id": "b4527ca7",
   "metadata": {},
   "source": [
    "## `match.groupdict(default=None)`\n",
    "\n",
    "Returns a dictionary of named captured groups."
   ]
  },
  {
   "cell_type": "markdown",
   "id": "1b0c7f2c",
   "metadata": {},
   "source": [
    "`match.groupdict()` returns a dictionary of all named groups captured with the `(?P<name><regex>)` metacharacter sequence. The dictionary keys are the group names and the dictionary values are the corresponding group values:\n",
    "\n"
   ]
  },
  {
   "cell_type": "code",
   "execution_count": 183,
   "id": "d1faa36a",
   "metadata": {},
   "outputs": [],
   "source": [
    "m = re.match(\n",
    "    r'foo,(?P<w1>\\w+),(?P<w2>\\w+),qux',\n",
    "    'foo,bar,baz,qux')"
   ]
  },
  {
   "cell_type": "code",
   "execution_count": 184,
   "id": "4f7b1581",
   "metadata": {},
   "outputs": [
    {
     "data": {
      "text/plain": [
       "{'w1': 'bar', 'w2': 'baz'}"
      ]
     },
     "execution_count": 184,
     "metadata": {},
     "output_type": "execute_result"
    }
   ],
   "source": [
    "m.groupdict()\n",
    "# it will shows dictionary with given group name "
   ]
  },
  {
   "cell_type": "code",
   "execution_count": 185,
   "id": "7d1607b4",
   "metadata": {},
   "outputs": [
    {
     "data": {
      "text/plain": [
       "'baz'"
      ]
     },
     "execution_count": 185,
     "metadata": {},
     "output_type": "execute_result"
    }
   ],
   "source": [
    "m.groupdict()['w2']"
   ]
  },
  {
   "cell_type": "markdown",
   "id": "8ceb03d1",
   "metadata": {},
   "source": [
    "As with `.groups()`, for `.groupdict()` the default argument determines the return value for nonparticipating groups:"
   ]
  },
  {
   "cell_type": "code",
   "execution_count": 187,
   "id": "d01593fe",
   "metadata": {},
   "outputs": [],
   "source": [
    "m = re.match(\n",
    "    r'foo,(?P<w1>\\w+),(?P<w2>\\w+)?,qux',\n",
    "    'foo,bar,,qux')\n",
    "#<regex>? optionl"
   ]
  },
  {
   "cell_type": "code",
   "execution_count": 188,
   "id": "9705c7cf",
   "metadata": {},
   "outputs": [
    {
     "data": {
      "text/plain": [
       "{'w1': 'bar', 'w2': None}"
      ]
     },
     "execution_count": 188,
     "metadata": {},
     "output_type": "execute_result"
    }
   ],
   "source": [
    "m.groupdict()\n"
   ]
  },
  {
   "cell_type": "markdown",
   "id": "f7fb318b",
   "metadata": {},
   "source": [
    "change none to '---' this character\n",
    "<br>by using default='---' argument"
   ]
  },
  {
   "cell_type": "code",
   "execution_count": 190,
   "id": "c9d6cac7",
   "metadata": {},
   "outputs": [
    {
     "data": {
      "text/plain": [
       "{'w1': 'bar', 'w2': '---'}"
      ]
     },
     "execution_count": 190,
     "metadata": {},
     "output_type": "execute_result"
    }
   ],
   "source": [
    "m.groupdict(default='---')"
   ]
  },
  {
   "cell_type": "markdown",
   "id": "51ef1617",
   "metadata": {},
   "source": [
    "Again, the final group `(?P<w2>\\w+)` `doesn’t participate in the overall match because` of the `question mark (?) metacharacter`. By default, `m.groupdict()` returns `None` for this group, but you `can change` it with the `default argument`."
   ]
  },
  {
   "cell_type": "markdown",
   "id": "75960160",
   "metadata": {},
   "source": [
    "## `match.expand(<template>)`\n",
    "    Performs backreference substitutions from a match."
   ]
  },
  {
   "cell_type": "markdown",
   "id": "becf6944",
   "metadata": {},
   "source": [
    "`match.expand(<template>)` returns the string that results from performing `backreference` `substitution on <template> exactly as re.sub()` would do:"
   ]
  },
  {
   "cell_type": "code",
   "execution_count": 192,
   "id": "64a7d315",
   "metadata": {},
   "outputs": [],
   "source": [
    "m = re.search(r'(\\w+),(\\w+),(\\w+)','foo,bar,baz')"
   ]
  },
  {
   "cell_type": "code",
   "execution_count": 193,
   "id": "a7a055b3",
   "metadata": {},
   "outputs": [
    {
     "data": {
      "text/plain": [
       "<re.Match object; span=(0, 11), match='foo,bar,baz'>"
      ]
     },
     "execution_count": 193,
     "metadata": {},
     "output_type": "execute_result"
    }
   ],
   "source": [
    "m"
   ]
  },
  {
   "cell_type": "code",
   "execution_count": 194,
   "id": "c795a5d9",
   "metadata": {},
   "outputs": [
    {
     "data": {
      "text/plain": [
       "('foo', 'bar', 'baz')"
      ]
     },
     "execution_count": 194,
     "metadata": {},
     "output_type": "execute_result"
    }
   ],
   "source": [
    "m.groups()"
   ]
  },
  {
   "cell_type": "code",
   "execution_count": 195,
   "id": "c5c86e33",
   "metadata": {},
   "outputs": [
    {
     "data": {
      "text/plain": [
       "'bar'"
      ]
     },
     "execution_count": 195,
     "metadata": {},
     "output_type": "execute_result"
    }
   ],
   "source": [
    "m.expand(r'\\2')"
   ]
  },
  {
   "cell_type": "code",
   "execution_count": 197,
   "id": "0a998ad7",
   "metadata": {},
   "outputs": [],
   "source": [
    "m=re.search(r'(?P<num>\\d+)','foo123qux')"
   ]
  },
  {
   "cell_type": "code",
   "execution_count": 198,
   "id": "d7b1f412",
   "metadata": {},
   "outputs": [
    {
     "data": {
      "text/plain": [
       "<re.Match object; span=(3, 6), match='123'>"
      ]
     },
     "execution_count": 198,
     "metadata": {},
     "output_type": "execute_result"
    }
   ],
   "source": [
    "m"
   ]
  },
  {
   "cell_type": "code",
   "execution_count": 199,
   "id": "6e62782a",
   "metadata": {},
   "outputs": [
    {
     "data": {
      "text/plain": [
       "'123'"
      ]
     },
     "execution_count": 199,
     "metadata": {},
     "output_type": "execute_result"
    }
   ],
   "source": [
    "m.group(1)"
   ]
  },
  {
   "cell_type": "code",
   "execution_count": 202,
   "id": "f9dbec82",
   "metadata": {},
   "outputs": [
    {
     "data": {
      "text/plain": [
       "'--- 123 ---'"
      ]
     },
     "execution_count": 202,
     "metadata": {},
     "output_type": "execute_result"
    }
   ],
   "source": [
    "m.expand(r'--- \\g<num> ---')\n",
    "# it works like re.sub\n",
    "# the method for replacing <what prefix adding>\\g<groupname><what sufix ading>\n",
    "# in this case '--- '  adedd"
   ]
  },
  {
   "cell_type": "markdown",
   "id": "f29020fc",
   "metadata": {},
   "source": [
    "This works for numeric backreferences"
   ]
  },
  {
   "cell_type": "markdown",
   "id": "fde0bb73",
   "metadata": {},
   "source": [
    "And also for named backreferences,"
   ]
  },
  {
   "cell_type": "markdown",
   "id": "84fe3e9e",
   "metadata": {},
   "source": [
    "## `match.start([<grp>])`\n",
    "\n",
    "## `match.end([<grp>])`\n",
    "\n",
    "Return the starting and ending indices of the match."
   ]
  },
  {
   "cell_type": "markdown",
   "id": "a0ca5f0a",
   "metadata": {},
   "source": [
    "`match.start()` returns the index in the search string where the match begins, "
   ]
  },
  {
   "cell_type": "markdown",
   "id": "454aa7a4",
   "metadata": {},
   "source": [
    "`match.end()` returns the index immediately after where the match ends"
   ]
  },
  {
   "cell_type": "code",
   "execution_count": 203,
   "id": "d23b5793",
   "metadata": {},
   "outputs": [],
   "source": [
    "s = 'foo123bar456baz'"
   ]
  },
  {
   "cell_type": "code",
   "execution_count": 204,
   "id": "3a94a305",
   "metadata": {},
   "outputs": [
    {
     "data": {
      "text/plain": [
       "<re.Match object; span=(3, 6), match='123'>"
      ]
     },
     "execution_count": 204,
     "metadata": {},
     "output_type": "execute_result"
    }
   ],
   "source": [
    "m = re.search('\\d+', s)\n",
    "m"
   ]
  },
  {
   "cell_type": "code",
   "execution_count": 205,
   "id": "02783046",
   "metadata": {},
   "outputs": [
    {
     "data": {
      "text/plain": [
       "3"
      ]
     },
     "execution_count": 205,
     "metadata": {},
     "output_type": "execute_result"
    }
   ],
   "source": [
    "m.start()\n",
    "# it will show start index "
   ]
  },
  {
   "cell_type": "code",
   "execution_count": 206,
   "id": "23fea93d",
   "metadata": {},
   "outputs": [
    {
     "data": {
      "text/plain": [
       "6"
      ]
     },
     "execution_count": 206,
     "metadata": {},
     "output_type": "execute_result"
    }
   ],
   "source": [
    "m.end()"
   ]
  },
  {
   "cell_type": "markdown",
   "id": "9a4e19f4",
   "metadata": {},
   "source": [
    "When Python displays a `match object`, these are the values listed with the `span= keyword`, as shown on `line 4` above. They behave like `string-slicing` values, so if you use them to slice the original search string, then you should get the matching substring:"
   ]
  },
  {
   "cell_type": "code",
   "execution_count": 207,
   "id": "2a08e50e",
   "metadata": {},
   "outputs": [
    {
     "data": {
      "text/plain": [
       "<re.Match object; span=(3, 6), match='123'>"
      ]
     },
     "execution_count": 207,
     "metadata": {},
     "output_type": "execute_result"
    }
   ],
   "source": [
    "m"
   ]
  },
  {
   "cell_type": "code",
   "execution_count": 208,
   "id": "c641e362",
   "metadata": {},
   "outputs": [
    {
     "data": {
      "text/plain": [
       "'123'"
      ]
     },
     "execution_count": 208,
     "metadata": {},
     "output_type": "execute_result"
    }
   ],
   "source": [
    "s[m.start():m.end()]"
   ]
  },
  {
   "cell_type": "code",
   "execution_count": 209,
   "id": "4f168495",
   "metadata": {},
   "outputs": [
    {
     "data": {
      "text/plain": [
       "'123'"
      ]
     },
     "execution_count": 209,
     "metadata": {},
     "output_type": "execute_result"
    }
   ],
   "source": [
    "s[3:6]"
   ]
  },
  {
   "cell_type": "markdown",
   "id": "57c44811",
   "metadata": {},
   "source": [
    "`match.start(<grp>)` and `match.end(<grp>)` return the starting and ending indices of the substring matched by `<grp>`, which may be a numbered or named group"
   ]
  },
  {
   "cell_type": "code",
   "execution_count": 210,
   "id": "903c35af",
   "metadata": {},
   "outputs": [],
   "source": [
    "s = 'foo123bar456baz'"
   ]
  },
  {
   "cell_type": "code",
   "execution_count": 218,
   "id": "e2d91fc5",
   "metadata": {},
   "outputs": [],
   "source": [
    "m = re.search(r'(\\d+)\\D*(?P<num>\\d+)', s)\n",
    "#<regex>* min zero\n",
    "# group 2 are created \n",
    "# second group name 'num'"
   ]
  },
  {
   "cell_type": "code",
   "execution_count": 212,
   "id": "157b2553",
   "metadata": {},
   "outputs": [
    {
     "data": {
      "text/plain": [
       "'123'"
      ]
     },
     "execution_count": 212,
     "metadata": {},
     "output_type": "execute_result"
    }
   ],
   "source": [
    "m.group(1)"
   ]
  },
  {
   "cell_type": "code",
   "execution_count": 213,
   "id": "de89e1f2",
   "metadata": {},
   "outputs": [
    {
     "data": {
      "text/plain": [
       "(3, 6)"
      ]
     },
     "execution_count": 213,
     "metadata": {},
     "output_type": "execute_result"
    }
   ],
   "source": [
    "m.start(1), m.end(1)"
   ]
  },
  {
   "cell_type": "code",
   "execution_count": 214,
   "id": "b629fc15",
   "metadata": {},
   "outputs": [
    {
     "data": {
      "text/plain": [
       "'123'"
      ]
     },
     "execution_count": 214,
     "metadata": {},
     "output_type": "execute_result"
    }
   ],
   "source": [
    "s[m.start(1):m.end(1)]"
   ]
  },
  {
   "cell_type": "code",
   "execution_count": 215,
   "id": "e53c0e2f",
   "metadata": {},
   "outputs": [
    {
     "data": {
      "text/plain": [
       "'456'"
      ]
     },
     "execution_count": 215,
     "metadata": {},
     "output_type": "execute_result"
    }
   ],
   "source": [
    "m.group('num')"
   ]
  },
  {
   "cell_type": "code",
   "execution_count": 216,
   "id": "194cbd5e",
   "metadata": {},
   "outputs": [
    {
     "data": {
      "text/plain": [
       "(9, 12)"
      ]
     },
     "execution_count": 216,
     "metadata": {},
     "output_type": "execute_result"
    }
   ],
   "source": [
    "m.start('num'), m.end('num')"
   ]
  },
  {
   "cell_type": "code",
   "execution_count": 217,
   "id": "2de4dcc5",
   "metadata": {},
   "outputs": [
    {
     "data": {
      "text/plain": [
       "'456'"
      ]
     },
     "execution_count": 217,
     "metadata": {},
     "output_type": "execute_result"
    }
   ],
   "source": [
    "s[m.start('num'):m.end('num')]"
   ]
  },
  {
   "cell_type": "markdown",
   "id": "5b021be7",
   "metadata": {},
   "source": [
    "If the specified group matches a null string, then `.start()` and `.end()` are equal"
   ]
  },
  {
   "cell_type": "code",
   "execution_count": 221,
   "id": "a831f4ce",
   "metadata": {},
   "outputs": [],
   "source": [
    "m = re.search('foo(\\d*)bar', 'foobar')\n",
    "# <regex>* zero or more"
   ]
  },
  {
   "cell_type": "code",
   "execution_count": 223,
   "id": "cdc31657",
   "metadata": {},
   "outputs": [
    {
     "data": {
      "text/plain": [
       "<re.Match object; span=(0, 6), match='foobar'>"
      ]
     },
     "execution_count": 223,
     "metadata": {},
     "output_type": "execute_result"
    }
   ],
   "source": [
    "m"
   ]
  },
  {
   "cell_type": "code",
   "execution_count": 230,
   "id": "df7adb4a",
   "metadata": {},
   "outputs": [
    {
     "data": {
      "text/plain": [
       "''"
      ]
     },
     "execution_count": 230,
     "metadata": {},
     "output_type": "execute_result"
    }
   ],
   "source": [
    "m[1]\n",
    "# 1 group 1"
   ]
  },
  {
   "cell_type": "code",
   "execution_count": 222,
   "id": "e443d0c0",
   "metadata": {},
   "outputs": [
    {
     "data": {
      "text/plain": [
       "(3, 3)"
      ]
     },
     "execution_count": 222,
     "metadata": {},
     "output_type": "execute_result"
    }
   ],
   "source": [
    "m.start(1), m.end(1)\n"
   ]
  },
  {
   "cell_type": "markdown",
   "id": "a36446cb",
   "metadata": {},
   "source": [
    "This makes sense if you remember that `.start()` and `.end()` act like `slicing indices`. Any string slice where the beginning and ending indices are equal will always be an `empty string`."
   ]
  },
  {
   "cell_type": "markdown",
   "id": "31bc3344",
   "metadata": {},
   "source": [
    "A `special case occurs` when the regex `contains a group` that doesn’t participate in the match:"
   ]
  },
  {
   "cell_type": "code",
   "execution_count": 232,
   "id": "bffa1e5e",
   "metadata": {},
   "outputs": [],
   "source": [
    "m = re.search(r'(\\w+),(\\w+),(\\w+)?',\"foo,bar,\")"
   ]
  },
  {
   "cell_type": "code",
   "execution_count": 233,
   "id": "67aeda7c",
   "metadata": {},
   "outputs": [
    {
     "data": {
      "text/plain": [
       "<re.Match object; span=(0, 8), match='foo,bar,'>"
      ]
     },
     "execution_count": 233,
     "metadata": {},
     "output_type": "execute_result"
    }
   ],
   "source": [
    "m"
   ]
  },
  {
   "cell_type": "code",
   "execution_count": 234,
   "id": "5a04bf5a",
   "metadata": {},
   "outputs": [
    {
     "name": "stdout",
     "output_type": "stream",
     "text": [
      "None\n"
     ]
    }
   ],
   "source": [
    "print(m.group(3))"
   ]
  },
  {
   "cell_type": "code",
   "execution_count": 235,
   "id": "b8191ad9",
   "metadata": {},
   "outputs": [
    {
     "data": {
      "text/plain": [
       "(-1, -1)"
      ]
     },
     "execution_count": 235,
     "metadata": {},
     "output_type": "execute_result"
    }
   ],
   "source": [
    "m.start(3), m.end(3)"
   ]
  },
  {
   "cell_type": "markdown",
   "id": "0a19223c",
   "metadata": {},
   "source": [
    "As you’ve seen previously, in this case the third group doesn’t participate. `m.start(3)` and `m.end(3)` aren’t really `meaningful here, so they return -1`."
   ]
  },
  {
   "cell_type": "markdown",
   "id": "4eb1451f",
   "metadata": {},
   "source": [
    "## `match.span([<grp>])`\n",
    "Returns both the starting and ending indices of the match."
   ]
  },
  {
   "cell_type": "markdown",
   "id": "a6c71e8c",
   "metadata": {},
   "source": [
    "`match.span()` returns both the starting and ending indices of the match as a tuple. "
   ]
  },
  {
   "cell_type": "markdown",
   "id": "46f21d72",
   "metadata": {},
   "source": [
    "If you specified `<grp>`, then the return tuple applies to the given group:"
   ]
  },
  {
   "cell_type": "code",
   "execution_count": 236,
   "id": "3530aa04",
   "metadata": {},
   "outputs": [],
   "source": [
    "s = 'foo123bar456baz'"
   ]
  },
  {
   "cell_type": "code",
   "execution_count": 237,
   "id": "196b890d",
   "metadata": {},
   "outputs": [],
   "source": [
    "\n",
    " m = re.search(r'(\\d+)\\D*(?P<num>\\d+)', s)\n"
   ]
  },
  {
   "cell_type": "code",
   "execution_count": 238,
   "id": "cb2e0ea7",
   "metadata": {},
   "outputs": [
    {
     "data": {
      "text/plain": [
       "<re.Match object; span=(3, 12), match='123bar456'>"
      ]
     },
     "execution_count": 238,
     "metadata": {},
     "output_type": "execute_result"
    }
   ],
   "source": [
    "m"
   ]
  },
  {
   "cell_type": "code",
   "execution_count": 239,
   "id": "3b545e39",
   "metadata": {},
   "outputs": [
    {
     "data": {
      "text/plain": [
       "'123bar456'"
      ]
     },
     "execution_count": 239,
     "metadata": {},
     "output_type": "execute_result"
    }
   ],
   "source": [
    "m[0]"
   ]
  },
  {
   "cell_type": "code",
   "execution_count": 240,
   "id": "e52b4899",
   "metadata": {},
   "outputs": [
    {
     "data": {
      "text/plain": [
       "(3, 12)"
      ]
     },
     "execution_count": 240,
     "metadata": {},
     "output_type": "execute_result"
    }
   ],
   "source": [
    "m.span()"
   ]
  },
  {
   "cell_type": "code",
   "execution_count": 241,
   "id": "8ef092cf",
   "metadata": {},
   "outputs": [
    {
     "data": {
      "text/plain": [
       "'456'"
      ]
     },
     "execution_count": 241,
     "metadata": {},
     "output_type": "execute_result"
    }
   ],
   "source": [
    "m['num']"
   ]
  },
  {
   "cell_type": "code",
   "execution_count": 242,
   "id": "6fd9d3d8",
   "metadata": {},
   "outputs": [
    {
     "data": {
      "text/plain": [
       "(9, 12)"
      ]
     },
     "execution_count": 242,
     "metadata": {},
     "output_type": "execute_result"
    }
   ],
   "source": [
    "m.span('num')"
   ]
  },
  {
   "cell_type": "markdown",
   "id": "a5c79b39",
   "metadata": {},
   "source": [
    "The following are effectively equivalent:\n",
    "\n",
    "* `match.span(<grp>)`\n",
    "* `(match.start(<grp>), match.end(<grp>))`"
   ]
  },
  {
   "cell_type": "markdown",
   "id": "5fa52b64",
   "metadata": {},
   "source": [
    "`match.span()` just provides a convenient way to obtain both `match.start()` and `match.end()` in one method call"
   ]
  },
  {
   "cell_type": "markdown",
   "id": "dd52a9e6",
   "metadata": {},
   "source": [
    "## Match Object Attributes"
   ]
  },
  {
   "cell_type": "markdown",
   "id": "70813661",
   "metadata": {},
   "source": [
    "Like a compiled regular expression object, a match object also has several useful attributes available"
   ]
  },
  {
   "cell_type": "markdown",
   "id": "8b67a021",
   "metadata": {},
   "source": [
    "|Attribute|\tMeaning|\n",
    "|---------|--------|\n",
    "|match.pos\n",
    "match.endpos|\tThe effective values of the <pos> and <endpos> arguments for the match|\n",
    "|match.lastindex|\tThe index of the last captured group|\n",
    "|match.lastgroup|\tThe name of the last captured group|\n",
    "|match.re|\tThe compiled regular expression object for the match|\n",
    "|match.string|\tThe search string for the match|"
   ]
  },
  {
   "cell_type": "markdown",
   "id": "da1ecd2e",
   "metadata": {},
   "source": [
    "The following sections provide more detail on these match object attributes."
   ]
  },
  {
   "cell_type": "markdown",
   "id": "996b171c",
   "metadata": {},
   "source": [
    "## `match.pos`\n",
    "\n",
    "## `.endpos`\n",
    "\n",
    "Contain the effective values of `<pos>` and `<endpos>` for the search."
   ]
  },
  {
   "cell_type": "markdown",
   "id": "3e465762",
   "metadata": {},
   "source": [
    "Remember that some methods, when invoked on a `compiled regex`, a`ccept optional <pos> and <endpos> arguments` that `limit the search to a portion` of the `specified search` string. These values are `accessible from the match object` with the `.pos` and `.endpos`attributes:"
   ]
  },
  {
   "cell_type": "code",
   "execution_count": 243,
   "id": "620d0c27",
   "metadata": {},
   "outputs": [],
   "source": [
    "re_obj = re.compile(r'\\d+')"
   ]
  },
  {
   "cell_type": "code",
   "execution_count": 246,
   "id": "591e6fe6",
   "metadata": {},
   "outputs": [],
   "source": [
    "m = re_obj.search('foo123bar',2, 7)\n",
    "# 2 is the pos\n",
    "# 7 is the endpos"
   ]
  },
  {
   "cell_type": "code",
   "execution_count": 247,
   "id": "6fae6816",
   "metadata": {},
   "outputs": [
    {
     "data": {
      "text/plain": [
       "<re.Match object; span=(3, 6), match='123'>"
      ]
     },
     "execution_count": 247,
     "metadata": {},
     "output_type": "execute_result"
    }
   ],
   "source": [
    "m"
   ]
  },
  {
   "cell_type": "code",
   "execution_count": 248,
   "id": "1f7c51f9",
   "metadata": {},
   "outputs": [
    {
     "data": {
      "text/plain": [
       "(2, 7)"
      ]
     },
     "execution_count": 248,
     "metadata": {},
     "output_type": "execute_result"
    }
   ],
   "source": [
    "m.pos, m.endpos"
   ]
  },
  {
   "cell_type": "markdown",
   "id": "16d41c9a",
   "metadata": {},
   "source": [
    "If the `<pos>` and `<endpos>` arguments aren’t included in the call, either because they were omitted or because the function in question doesn’t accept them, "
   ]
  },
  {
   "cell_type": "markdown",
   "id": "29b9d9ab",
   "metadata": {},
   "source": [
    "then the `.pos` and `.endpos` attributes effectively indicate the start and end of the string"
   ]
  },
  {
   "cell_type": "code",
   "execution_count": 249,
   "id": "2d323126",
   "metadata": {},
   "outputs": [],
   "source": [
    "re_obj = re.compile(r'\\d+')"
   ]
  },
  {
   "cell_type": "code",
   "execution_count": 253,
   "id": "89b25cc7",
   "metadata": {},
   "outputs": [
    {
     "data": {
      "text/plain": [
       "<re.Match object; span=(3, 6), match='123'>"
      ]
     },
     "execution_count": 253,
     "metadata": {},
     "output_type": "execute_result"
    }
   ],
   "source": [
    "m = re_obj.search('foo123bar')\n",
    "# The `re_obj.search()` call above on  could take `<pos>` and `<endpos>` arguments, \n",
    "# but they aren’t specified\n",
    "m"
   ]
  },
  {
   "cell_type": "code",
   "execution_count": 254,
   "id": "e50bf89a",
   "metadata": {},
   "outputs": [
    {
     "data": {
      "text/plain": [
       "(0, 9)"
      ]
     },
     "execution_count": 254,
     "metadata": {},
     "output_type": "execute_result"
    }
   ],
   "source": [
    "m.pos, m.endpos"
   ]
  },
  {
   "cell_type": "markdown",
   "id": "5dd0a98b",
   "metadata": {},
   "source": [
    "The `re_obj.search()` call above on `m= re_obj.search('foo123bar')` could take `<pos>` and `<endpos>` arguments, but they aren’t specified"
   ]
  },
  {
   "cell_type": "markdown",
   "id": "412ff233",
   "metadata": {},
   "source": [
    "The re.search() call on `m = re.search(r'\\d+', 'foo123bar')` can’t take them at all. In either case, `m.pos` and `m.endpos` are 0 and 9,"
   ]
  },
  {
   "cell_type": "markdown",
   "id": "3c1e36ba",
   "metadata": {},
   "source": [
    "## `match.lastindex`\n",
    "\n",
    "Contains the index of the last captured group."
   ]
  },
  {
   "cell_type": "markdown",
   "id": "439c344b",
   "metadata": {},
   "source": [
    "match.lastindex is equal to the integer index of the last captured group:"
   ]
  },
  {
   "cell_type": "code",
   "execution_count": 255,
   "id": "e7d8a95c",
   "metadata": {},
   "outputs": [],
   "source": [
    "m = re.search(r'(\\w+),(\\w+),(\\w+)', 'foo,bar,baz')"
   ]
  },
  {
   "cell_type": "code",
   "execution_count": 256,
   "id": "19635c48",
   "metadata": {},
   "outputs": [
    {
     "data": {
      "text/plain": [
       "3"
      ]
     },
     "execution_count": 256,
     "metadata": {},
     "output_type": "execute_result"
    }
   ],
   "source": [
    "m.lastindex"
   ]
  },
  {
   "cell_type": "code",
   "execution_count": 257,
   "id": "7cc3e939",
   "metadata": {},
   "outputs": [
    {
     "data": {
      "text/plain": [
       "'baz'"
      ]
     },
     "execution_count": 257,
     "metadata": {},
     "output_type": "execute_result"
    }
   ],
   "source": [
    "m[m.lastindex]"
   ]
  },
  {
   "cell_type": "markdown",
   "id": "697991fa",
   "metadata": {},
   "source": [
    "In cases where the regex contains potentially nonparticipating groups, this allows you to determine how many groups actually participated in the match:"
   ]
  },
  {
   "cell_type": "code",
   "execution_count": 258,
   "id": "ee623028",
   "metadata": {},
   "outputs": [],
   "source": [
    "m = re.search(r'(\\w+),(\\w+),(\\w+)?', 'foo,bar,baz')"
   ]
  },
  {
   "cell_type": "code",
   "execution_count": 259,
   "id": "071bc4fa",
   "metadata": {},
   "outputs": [
    {
     "data": {
      "text/plain": [
       "('foo', 'bar', 'baz')"
      ]
     },
     "execution_count": 259,
     "metadata": {},
     "output_type": "execute_result"
    }
   ],
   "source": [
    "m.groups()"
   ]
  },
  {
   "cell_type": "code",
   "execution_count": 260,
   "id": "a4e55a98",
   "metadata": {},
   "outputs": [
    {
     "data": {
      "text/plain": [
       "(3, 'baz')"
      ]
     },
     "execution_count": 260,
     "metadata": {},
     "output_type": "execute_result"
    }
   ],
   "source": [
    "m.lastindex, m[m.lastindex]\n"
   ]
  },
  {
   "cell_type": "code",
   "execution_count": 261,
   "id": "b2fd9f4d",
   "metadata": {},
   "outputs": [],
   "source": [
    "m = re.search(r'(\\w+),(\\w+),(\\w+)?', 'foo,bar,')\n",
    "# third group is optional (?)"
   ]
  },
  {
   "cell_type": "code",
   "execution_count": 262,
   "id": "1c5bdf8c",
   "metadata": {},
   "outputs": [
    {
     "data": {
      "text/plain": [
       "('foo', 'bar', None)"
      ]
     },
     "execution_count": 262,
     "metadata": {},
     "output_type": "execute_result"
    }
   ],
   "source": [
    "m.groups()"
   ]
  },
  {
   "cell_type": "code",
   "execution_count": 264,
   "id": "a668cc7f",
   "metadata": {},
   "outputs": [
    {
     "data": {
      "text/plain": [
       "(2, 'bar')"
      ]
     },
     "execution_count": 264,
     "metadata": {},
     "output_type": "execute_result"
    }
   ],
   "source": [
    "m.lastindex, m[m.lastindex]\n",
    "# her 3 group not count as a last index"
   ]
  },
  {
   "cell_type": "markdown",
   "id": "bf0a74f2",
   "metadata": {},
   "source": [
    "In the first example, the third group, which is `optional because of the question mark (?) metacharacter`, does participate in the match. But in the `second example it doesn’t.` You can tell because `m.lastindex is 3` in the first case and `2 in the second`."
   ]
  },
  {
   "cell_type": "markdown",
   "id": "1123c00c",
   "metadata": {},
   "source": [
    "There’s a `subtle point` to be aware of regarding `.lastindex`. It i`sn’t always the case` that the last group `to match is also the last group` encountered syntactically."
   ]
  },
  {
   "cell_type": "code",
   "execution_count": 265,
   "id": "062a8857",
   "metadata": {},
   "outputs": [],
   "source": [
    "m = re.match('((a)(b))', 'ab')"
   ]
  },
  {
   "cell_type": "code",
   "execution_count": 266,
   "id": "5612a0bb",
   "metadata": {},
   "outputs": [
    {
     "data": {
      "text/plain": [
       "('ab', 'a', 'b')"
      ]
     },
     "execution_count": 266,
     "metadata": {},
     "output_type": "execute_result"
    }
   ],
   "source": [
    "m.groups()"
   ]
  },
  {
   "cell_type": "code",
   "execution_count": 267,
   "id": "449d86d4",
   "metadata": {},
   "outputs": [
    {
     "data": {
      "text/plain": [
       "1"
      ]
     },
     "execution_count": 267,
     "metadata": {},
     "output_type": "execute_result"
    }
   ],
   "source": [
    "m.lastindex"
   ]
  },
  {
   "cell_type": "code",
   "execution_count": 268,
   "id": "22e34ae0",
   "metadata": {},
   "outputs": [
    {
     "data": {
      "text/plain": [
       "'ab'"
      ]
     },
     "execution_count": 268,
     "metadata": {},
     "output_type": "execute_result"
    }
   ],
   "source": [
    "m[m.lastindex]"
   ]
  },
  {
   "cell_type": "markdown",
   "id": "6619b563",
   "metadata": {},
   "source": [
    "The outermost group is `((a)(b))`, which matches `'ab'`. This is the first group the parser encounters, so it becomes `group 1`. But it’s also the last group to match, which is why `m.lastindex is 1`."
   ]
  },
  {
   "cell_type": "markdown",
   "id": "4c85fc25",
   "metadata": {},
   "source": [
    "## match.lastgroup\n",
    "\n",
    "Contains the name of the last captured group."
   ]
  },
  {
   "cell_type": "markdown",
   "id": "5c08d698",
   "metadata": {},
   "source": [
    "If the last captured group originates from the `(?P<name><regex>)` metacharacter sequence, then `match.lastgroup` returns the name of that group"
   ]
  },
  {
   "cell_type": "code",
   "execution_count": 269,
   "id": "c8210c9b",
   "metadata": {},
   "outputs": [],
   "source": [
    "s = 'foo123bar456baz'"
   ]
  },
  {
   "cell_type": "code",
   "execution_count": 270,
   "id": "2507fbd0",
   "metadata": {},
   "outputs": [],
   "source": [
    "m = re.search(r'(?P<n1>\\d+)\\D*(?P<n2>\\d+)', s)"
   ]
  },
  {
   "cell_type": "code",
   "execution_count": 271,
   "id": "a7abafd8",
   "metadata": {},
   "outputs": [
    {
     "data": {
      "text/plain": [
       "'n2'"
      ]
     },
     "execution_count": 271,
     "metadata": {},
     "output_type": "execute_result"
    }
   ],
   "source": [
    "m.lastgroup"
   ]
  },
  {
   "cell_type": "markdown",
   "id": "9f07c38a",
   "metadata": {},
   "source": [
    "`match.lastgroup` returns `None` if the last captured group `isn’t a named group`"
   ]
  },
  {
   "cell_type": "code",
   "execution_count": 272,
   "id": "b379ae14",
   "metadata": {},
   "outputs": [],
   "source": [
    "s = 'foo123bar456baz'"
   ]
  },
  {
   "cell_type": "code",
   "execution_count": 279,
   "id": "613540d4",
   "metadata": {},
   "outputs": [
    {
     "data": {
      "text/plain": [
       "<re.Match object; span=(3, 12), match='123bar456'>"
      ]
     },
     "execution_count": 279,
     "metadata": {},
     "output_type": "execute_result"
    }
   ],
   "source": [
    "m = re.search(r'(\\d+)\\D*(\\d+)', s)\n",
    "# \\D*this will help for deteting middle not digit character (*)zero or more\n",
    "m"
   ]
  },
  {
   "cell_type": "code",
   "execution_count": 280,
   "id": "0a90d089",
   "metadata": {},
   "outputs": [
    {
     "data": {
      "text/plain": [
       "('123', '456')"
      ]
     },
     "execution_count": 280,
     "metadata": {},
     "output_type": "execute_result"
    }
   ],
   "source": [
    "m.groups()\n"
   ]
  },
  {
   "cell_type": "code",
   "execution_count": 281,
   "id": "95172007",
   "metadata": {},
   "outputs": [
    {
     "name": "stdout",
     "output_type": "stream",
     "text": [
      "None\n"
     ]
    }
   ],
   "source": [
    "print(m.lastgroup)"
   ]
  },
  {
   "cell_type": "code",
   "execution_count": 282,
   "id": "6bd1ed40",
   "metadata": {},
   "outputs": [],
   "source": [
    "m = re.search(r'\\d+\\D*\\d+', s)\n",
    "# paentheses removed \n",
    "# hence group not created"
   ]
  },
  {
   "cell_type": "code",
   "execution_count": 283,
   "id": "8c6c5423",
   "metadata": {},
   "outputs": [
    {
     "data": {
      "text/plain": [
       "()"
      ]
     },
     "execution_count": 283,
     "metadata": {},
     "output_type": "execute_result"
    }
   ],
   "source": [
    "m.groups()\n",
    "# groups not created"
   ]
  },
  {
   "cell_type": "code",
   "execution_count": 284,
   "id": "0fe0db06",
   "metadata": {},
   "outputs": [
    {
     "name": "stdout",
     "output_type": "stream",
     "text": [
      "None\n"
     ]
    }
   ],
   "source": [
    "print(m.lastgroup)"
   ]
  },
  {
   "cell_type": "markdown",
   "id": "6d1a7e62",
   "metadata": {},
   "source": [
    "As shown above, this can be either because the last captured group isn’t a named group or because there were no captured groups at all."
   ]
  },
  {
   "cell_type": "markdown",
   "id": "0b579b2f",
   "metadata": {},
   "source": [
    "## match.re\n",
    "\n",
    "Contains the regular expression object for the match."
   ]
  },
  {
   "cell_type": "markdown",
   "id": "683808fc",
   "metadata": {},
   "source": [
    "`match.re` contains the regular expression object that produced the match. This is the same object you’d get if you passed the regex to `re.compile()`"
   ]
  },
  {
   "cell_type": "code",
   "execution_count": 285,
   "id": "f4b4d967",
   "metadata": {},
   "outputs": [],
   "source": [
    "regex = r'(\\w+),(\\w+),(\\w+)'\n",
    "# three groups created "
   ]
  },
  {
   "cell_type": "code",
   "execution_count": 286,
   "id": "5dfcc008",
   "metadata": {},
   "outputs": [],
   "source": [
    "m1 = re.search(regex, 'foo,bar,baz')"
   ]
  },
  {
   "cell_type": "code",
   "execution_count": 287,
   "id": "68afbc3b",
   "metadata": {},
   "outputs": [
    {
     "data": {
      "text/plain": [
       "<re.Match object; span=(0, 11), match='foo,bar,baz'>"
      ]
     },
     "execution_count": 287,
     "metadata": {},
     "output_type": "execute_result"
    }
   ],
   "source": [
    "m1"
   ]
  },
  {
   "cell_type": "code",
   "execution_count": 288,
   "id": "52fdc583",
   "metadata": {},
   "outputs": [
    {
     "data": {
      "text/plain": [
       "re.compile(r'(\\w+),(\\w+),(\\w+)', re.UNICODE)"
      ]
     },
     "execution_count": 288,
     "metadata": {},
     "output_type": "execute_result"
    }
   ],
   "source": [
    "m1.re"
   ]
  },
  {
   "cell_type": "code",
   "execution_count": 289,
   "id": "5e8ce611",
   "metadata": {},
   "outputs": [],
   "source": [
    "re_obj = re.compile(regex)\n",
    "# created object "
   ]
  },
  {
   "cell_type": "code",
   "execution_count": 290,
   "id": "1664d765",
   "metadata": {},
   "outputs": [
    {
     "data": {
      "text/plain": [
       "re.compile(r'(\\w+),(\\w+),(\\w+)', re.UNICODE)"
      ]
     },
     "execution_count": 290,
     "metadata": {},
     "output_type": "execute_result"
    }
   ],
   "source": [
    "re_obj"
   ]
  },
  {
   "cell_type": "code",
   "execution_count": 292,
   "id": "baefc95f",
   "metadata": {},
   "outputs": [
    {
     "data": {
      "text/plain": [
       "True"
      ]
     },
     "execution_count": 292,
     "metadata": {},
     "output_type": "execute_result"
    }
   ],
   "source": [
    "re_obj is m1.re"
   ]
  },
  {
   "cell_type": "code",
   "execution_count": 293,
   "id": "1ca575cd",
   "metadata": {},
   "outputs": [],
   "source": [
    "m2 = re_obj.search('qux,quux,corge')"
   ]
  },
  {
   "cell_type": "code",
   "execution_count": 294,
   "id": "e6f902c1",
   "metadata": {},
   "outputs": [
    {
     "data": {
      "text/plain": [
       "<re.Match object; span=(0, 14), match='qux,quux,corge'>"
      ]
     },
     "execution_count": 294,
     "metadata": {},
     "output_type": "execute_result"
    }
   ],
   "source": [
    "m2"
   ]
  },
  {
   "cell_type": "markdown",
   "id": "a80dce75",
   "metadata": {},
   "source": [
    "Remember from earlier that the `re` module caches `regular expressions` after it `compiles` them, so they `don’t need to be recompiled` if used again."
   ]
  },
  {
   "cell_type": "markdown",
   "id": "a99efe86",
   "metadata": {},
   "source": [
    "For that reason, as the identity comparisons on `re_obj is m1.re` and `m2.re is re_obj is m1.re` show,"
   ]
  },
  {
   "cell_type": "markdown",
   "id": "4fed8800",
   "metadata": {},
   "source": [
    "all the various regular expression objects in the above example are the exact same object."
   ]
  },
  {
   "cell_type": "markdown",
   "id": "8c10968e",
   "metadata": {},
   "source": [
    "Once you have access to the regular expression object for the match, all of that object’s attributes are available as well"
   ]
  },
  {
   "cell_type": "code",
   "execution_count": 295,
   "id": "d4e5863a",
   "metadata": {},
   "outputs": [
    {
     "data": {
      "text/plain": [
       "3"
      ]
     },
     "execution_count": 295,
     "metadata": {},
     "output_type": "execute_result"
    }
   ],
   "source": [
    "m1.re.groups"
   ]
  },
  {
   "cell_type": "code",
   "execution_count": 296,
   "id": "038f6c47",
   "metadata": {},
   "outputs": [
    {
     "data": {
      "text/plain": [
       "'(\\\\w+),(\\\\w+),(\\\\w+)'"
      ]
     },
     "execution_count": 296,
     "metadata": {},
     "output_type": "execute_result"
    }
   ],
   "source": [
    "m1.re.pattern"
   ]
  },
  {
   "cell_type": "code",
   "execution_count": 297,
   "id": "9f274b59",
   "metadata": {},
   "outputs": [
    {
     "data": {
      "text/plain": [
       "True"
      ]
     },
     "execution_count": 297,
     "metadata": {},
     "output_type": "execute_result"
    }
   ],
   "source": [
    "m1.re.pattern == regex"
   ]
  },
  {
   "cell_type": "code",
   "execution_count": 298,
   "id": "fe35647c",
   "metadata": {},
   "outputs": [
    {
     "data": {
      "text/plain": [
       "32"
      ]
     },
     "execution_count": 298,
     "metadata": {},
     "output_type": "execute_result"
    }
   ],
   "source": [
    "m1.re.flags"
   ]
  },
  {
   "cell_type": "markdown",
   "id": "eee5596e",
   "metadata": {},
   "source": [
    "You can also invoke any of the methods defined for a `compiled regular expression object`"
   ]
  },
  {
   "cell_type": "code",
   "execution_count": 299,
   "id": "11887209",
   "metadata": {},
   "outputs": [],
   "source": [
    "m = re.search(r'(\\w+),(\\w+),(\\w+)', 'foo,bar,baz')"
   ]
  },
  {
   "cell_type": "code",
   "execution_count": 300,
   "id": "3d691289",
   "metadata": {},
   "outputs": [
    {
     "data": {
      "text/plain": [
       "re.compile(r'(\\w+),(\\w+),(\\w+)', re.UNICODE)"
      ]
     },
     "execution_count": 300,
     "metadata": {},
     "output_type": "execute_result"
    }
   ],
   "source": [
    "m.re"
   ]
  },
  {
   "cell_type": "code",
   "execution_count": 301,
   "id": "72236718",
   "metadata": {},
   "outputs": [
    {
     "data": {
      "text/plain": [
       "<re.Match object; span=(0, 17), match='quux,corge,grault'>"
      ]
     },
     "execution_count": 301,
     "metadata": {},
     "output_type": "execute_result"
    }
   ],
   "source": [
    "m.re.match('quux,corge,grault')"
   ]
  },
  {
   "cell_type": "markdown",
   "id": "77eb1436",
   "metadata": {},
   "source": [
    "Here, `.match()` is invoked on `m.re` to perform another search using the same regex but on a different search string"
   ]
  },
  {
   "cell_type": "markdown",
   "id": "5cfb5cec",
   "metadata": {},
   "source": [
    "## `match.string`\n",
    "Contains the search string for a match."
   ]
  },
  {
   "cell_type": "markdown",
   "id": "eade1a76",
   "metadata": {},
   "source": [
    "`match.string` contains the s`earch string` that is the `target of the match`"
   ]
  },
  {
   "cell_type": "code",
   "execution_count": 302,
   "id": "788073a2",
   "metadata": {},
   "outputs": [],
   "source": [
    "m = re.search(r'(\\w+),(\\w+),(\\w+)', 'foo,bar,baz')"
   ]
  },
  {
   "cell_type": "code",
   "execution_count": 303,
   "id": "46608136",
   "metadata": {},
   "outputs": [
    {
     "data": {
      "text/plain": [
       "<re.Match object; span=(0, 11), match='foo,bar,baz'>"
      ]
     },
     "execution_count": 303,
     "metadata": {},
     "output_type": "execute_result"
    }
   ],
   "source": [
    "m"
   ]
  },
  {
   "cell_type": "code",
   "execution_count": 304,
   "id": "861bde64",
   "metadata": {},
   "outputs": [
    {
     "data": {
      "text/plain": [
       "'foo,bar,baz'"
      ]
     },
     "execution_count": 304,
     "metadata": {},
     "output_type": "execute_result"
    }
   ],
   "source": [
    "m.string"
   ]
  },
  {
   "cell_type": "code",
   "execution_count": 306,
   "id": "07e08ee8",
   "metadata": {},
   "outputs": [],
   "source": [
    "re_obj = re.compile(r'(\\w+),(\\w+),(\\w+)')"
   ]
  },
  {
   "cell_type": "code",
   "execution_count": 307,
   "id": "031a8627",
   "metadata": {},
   "outputs": [],
   "source": [
    "m = re_obj.search('foo,bar,baz')"
   ]
  },
  {
   "cell_type": "code",
   "execution_count": 308,
   "id": "e4b7da76",
   "metadata": {},
   "outputs": [
    {
     "data": {
      "text/plain": [
       "'foo,bar,baz'"
      ]
     },
     "execution_count": 308,
     "metadata": {},
     "output_type": "execute_result"
    }
   ],
   "source": [
    "m.string"
   ]
  },
  {
   "cell_type": "markdown",
   "id": "a19dfd7b",
   "metadata": {},
   "source": [
    "As you can see from the example, the `.string` attribute is available when the match object `derives from a compiled regular expression object` as well"
   ]
  }
 ],
 "metadata": {
  "kernelspec": {
   "display_name": "Python 3 (ipykernel)",
   "language": "python",
   "name": "python3"
  },
  "language_info": {
   "codemirror_mode": {
    "name": "ipython",
    "version": 3
   },
   "file_extension": ".py",
   "mimetype": "text/x-python",
   "name": "python",
   "nbconvert_exporter": "python",
   "pygments_lexer": "ipython3",
   "version": "3.9.7"
  }
 },
 "nbformat": 4,
 "nbformat_minor": 5
}
