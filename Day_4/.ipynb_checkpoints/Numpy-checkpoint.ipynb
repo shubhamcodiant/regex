{
 "cells": [
  {
   "cell_type": "markdown",
   "id": "ac324a53",
   "metadata": {},
   "source": [
    "### Tool - NumPy"
   ]
  },
  {
   "cell_type": "code",
   "execution_count": 1,
   "id": "ec50f73d",
   "metadata": {},
   "outputs": [],
   "source": [
    "# Numpy \n",
    "import numpy as np"
   ]
  },
  {
   "cell_type": "markdown",
   "id": "3868947a",
   "metadata": {},
   "source": [
    "The zeros function creates an array containing any number of zeros:"
   ]
  },
  {
   "cell_type": "code",
   "execution_count": 3,
   "id": "2822bd25",
   "metadata": {},
   "outputs": [
    {
     "data": {
      "text/plain": [
       "array([0., 0., 0., 0., 0., 0., 0., 0., 0., 0.])"
      ]
     },
     "execution_count": 3,
     "metadata": {},
     "output_type": "execute_result"
    }
   ],
   "source": [
    "# Created array of zeroes\n",
    "np.zeros(10)"
   ]
  },
  {
   "cell_type": "code",
   "execution_count": null,
   "id": "4392266f",
   "metadata": {},
   "outputs": [],
   "source": []
  }
 ],
 "metadata": {
  "kernelspec": {
   "display_name": "Python 3 (ipykernel)",
   "language": "python",
   "name": "python3"
  },
  "language_info": {
   "codemirror_mode": {
    "name": "ipython",
    "version": 3
   },
   "file_extension": ".py",
   "mimetype": "text/x-python",
   "name": "python",
   "nbconvert_exporter": "python",
   "pygments_lexer": "ipython3",
   "version": "3.9.7"
  }
 },
 "nbformat": 4,
 "nbformat_minor": 5
}
