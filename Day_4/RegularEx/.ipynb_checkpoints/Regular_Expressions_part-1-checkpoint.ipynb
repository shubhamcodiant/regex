{
 "cells": [
  {
   "cell_type": "markdown",
   "id": "7af0214f",
   "metadata": {},
   "source": [
    "# Regexes in Python and Their Uses"
   ]
  },
  {
   "cell_type": "markdown",
   "id": "d552086b",
   "metadata": {},
   "source": [
    "magine you have a string object s. Now suppose you need to write Python code to find out whether s contains the substring '123'. There are at least a couple ways to do this. You could use the in operator:"
   ]
  },
  {
   "cell_type": "code",
   "execution_count": 3,
   "id": "f252f14d",
   "metadata": {},
   "outputs": [
    {
     "data": {
      "text/plain": [
       "True"
      ]
     },
     "execution_count": 3,
     "metadata": {},
     "output_type": "execute_result"
    }
   ],
   "source": [
    " s = 'foo123bar'\n",
    "'123' in s"
   ]
  },
  {
   "cell_type": "markdown",
   "id": "1302ac69",
   "metadata": {},
   "source": [
    "If you want to know not only whether '123' exists in s but also where it exists, then you can use .find() or .index(). Each of these returns the character position within s where the substring resides:\n",
    "\n"
   ]
  },
  {
   "cell_type": "code",
   "execution_count": 4,
   "id": "1af2820a",
   "metadata": {},
   "outputs": [
    {
     "data": {
      "text/plain": [
       "3"
      ]
     },
     "execution_count": 4,
     "metadata": {},
     "output_type": "execute_result"
    }
   ],
   "source": [
    "s.find('123')"
   ]
  },
  {
   "cell_type": "code",
   "execution_count": 5,
   "id": "2a09faef",
   "metadata": {},
   "outputs": [
    {
     "data": {
      "text/plain": [
       "3"
      ]
     },
     "execution_count": 5,
     "metadata": {},
     "output_type": "execute_result"
    }
   ],
   "source": [
    "s.index('123')"
   ]
  },
  {
   "cell_type": "markdown",
   "id": "69851cae",
   "metadata": {},
   "source": [
    "In these examples, the matching is done by a straightforward character-by-character comparison. That will get the job done in many cases. But sometimes, the problem is more complicated than that.\n",
    "\n",
    "<br>For example, rather than searching for a fixed substring like '123', suppose you wanted to determine whether a string contains any three consecutive decimal digit characters, as in the strings 'foo123bar', 'foo456bar', '234baz', and 'qux678'.\n",
    "\n",
    "<br>Strict character comparisons won’t cut it here. This is where regexes in Python come to the rescue."
   ]
  },
  {
   "cell_type": "markdown",
   "id": "348542f4",
   "metadata": {},
   "source": [
    "# The `re` Module"
   ]
  },
  {
   "cell_type": "markdown",
   "id": "ec6e3db6",
   "metadata": {},
   "source": [
    "Regex functionality in Python resides in a module named re. The re module contains many useful functions and methods, most of which you’ll learn about in the next tutorial in this series."
   ]
  },
  {
   "cell_type": "markdown",
   "id": "ed1b6ab7",
   "metadata": {},
   "source": [
    "For now, you’ll focus predominantly on one function, `re.search()`.\n",
    "\n"
   ]
  },
  {
   "cell_type": "markdown",
   "id": "72dfb47e",
   "metadata": {},
   "source": [
    "### `re.search(<regex>, <string>)`\n",
    "\n",
    "Scans a string for a regex match."
   ]
  },
  {
   "cell_type": "markdown",
   "id": "2b5559c7",
   "metadata": {},
   "source": [
    "`re.search(<regex>, <string>)` scans `<string>` looking for the first location where the pattern `<regex>` matches. If a match is found, then `re.search()` returns a `match object.` Otherwise, it returns `None`."
   ]
  },
  {
   "cell_type": "markdown",
   "id": "86df19c1",
   "metadata": {},
   "source": [
    "`re.search()` takes an optional third `<flags>` argument that you’ll learn about at the end of this tutorial."
   ]
  },
  {
   "cell_type": "code",
   "execution_count": 12,
   "id": "7c866be1",
   "metadata": {},
   "outputs": [],
   "source": [
    "# importing regex module\n",
    "\n",
    "import re \n"
   ]
  },
  {
   "cell_type": "markdown",
   "id": "ca10770b",
   "metadata": {},
   "source": [
    "## First Pattern-Matching Example\n",
    "Now that you know how to gain access to re.search(), you can give it a try:"
   ]
  },
  {
   "cell_type": "code",
   "execution_count": null,
   "id": "f12bc894",
   "metadata": {},
   "outputs": [],
   "source": []
  }
 ],
 "metadata": {
  "kernelspec": {
   "display_name": "Python 3 (ipykernel)",
   "language": "python",
   "name": "python3"
  },
  "language_info": {
   "codemirror_mode": {
    "name": "ipython",
    "version": 3
   },
   "file_extension": ".py",
   "mimetype": "text/x-python",
   "name": "python",
   "nbconvert_exporter": "python",
   "pygments_lexer": "ipython3",
   "version": "3.9.7"
  }
 },
 "nbformat": 4,
 "nbformat_minor": 5
}
