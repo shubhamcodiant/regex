{
 "cells": [
  {
   "cell_type": "markdown",
   "id": "7af0214f",
   "metadata": {},
   "source": [
    "# Regexes in Python and Their Uses"
   ]
  },
  {
   "cell_type": "markdown",
   "id": "d552086b",
   "metadata": {},
   "source": [
    "magine you have a string object s. Now suppose you need to write Python code to find out whether s contains the substring '123'. There are at least a couple ways to do this. You could use the in operator:"
   ]
  },
  {
   "cell_type": "code",
   "execution_count": 3,
   "id": "f252f14d",
   "metadata": {},
   "outputs": [
    {
     "data": {
      "text/plain": [
       "True"
      ]
     },
     "execution_count": 3,
     "metadata": {},
     "output_type": "execute_result"
    }
   ],
   "source": [
    " s = 'foo123bar'\n",
    "'123' in s"
   ]
  },
  {
   "cell_type": "markdown",
   "id": "1302ac69",
   "metadata": {},
   "source": [
    "If you want to know not only whether '123' exists in s but also where it exists, then you can use .find() or .index(). Each of these returns the character position within s where the substring resides:\n",
    "\n"
   ]
  },
  {
   "cell_type": "code",
   "execution_count": 4,
   "id": "1af2820a",
   "metadata": {},
   "outputs": [
    {
     "data": {
      "text/plain": [
       "3"
      ]
     },
     "execution_count": 4,
     "metadata": {},
     "output_type": "execute_result"
    }
   ],
   "source": [
    "s.find('123')"
   ]
  },
  {
   "cell_type": "code",
   "execution_count": 5,
   "id": "8efd4634",
   "metadata": {},
   "outputs": [
    {
     "data": {
      "text/plain": [
       "3"
      ]
     },
     "execution_count": 5,
     "metadata": {},
     "output_type": "execute_result"
    }
   ],
   "source": [
    "s.index('123')"
   ]
  },
  {
   "cell_type": "markdown",
   "id": "4c85f799",
   "metadata": {},
   "source": [
    "In these examples, the matching is done by a straightforward character-by-character comparison. That will get the job done in many cases. But sometimes, the problem is more complicated than that.\n",
    "\n",
    "<br>For example, rather than searching for a fixed substring like '123', suppose you wanted to determine whether a string contains any three consecutive decimal digit characters, as in the strings 'foo123bar', 'foo456bar', '234baz', and 'qux678'.\n",
    "\n",
    "<br>Strict character comparisons won’t cut it here. This is where regexes in Python come to the rescue."
   ]
  },
  {
   "cell_type": "markdown",
   "id": "4c5a5fb3",
   "metadata": {},
   "source": [
    "# The `re` Module"
   ]
  },
  {
   "cell_type": "markdown",
   "id": "d0149bac",
   "metadata": {},
   "source": [
    "Regex functionality in Python resides in a module named re. The re module contains many useful functions and methods, most of which you’ll learn about in the next tutorial in this series."
   ]
  },
  {
   "cell_type": "markdown",
   "id": "c965b169",
   "metadata": {},
   "source": [
    "For now, you’ll focus predominantly on one function, `re.search()`.\n",
    "\n"
   ]
  },
  {
   "cell_type": "markdown",
   "id": "7361af07",
   "metadata": {},
   "source": [
    "### `re.search(<regex>, <string>)`\n",
    "\n",
    "Scans a string for a regex match."
   ]
  },
  {
   "cell_type": "markdown",
   "id": "4c0dac4b",
   "metadata": {},
   "source": [
    "`re.search(<regex>, <string>)` scans `<string>` looking for the first location where the pattern `<regex>` matches. If a match is found, then `re.search()` returns a `match object.` Otherwise, it returns `None`."
   ]
  },
  {
   "cell_type": "markdown",
   "id": "7fe505cc",
   "metadata": {},
   "source": [
    "`re.search()` takes an optional third `<flags>` argument that you’ll learn about at the end of this tutorial."
   ]
  },
  {
   "cell_type": "code",
   "execution_count": 12,
   "id": "9752497b",
   "metadata": {},
   "outputs": [],
   "source": [
    "# importing regex module\n",
    "\n",
    "import re \n"
   ]
  },
  {
   "cell_type": "markdown",
   "id": "43b0114e",
   "metadata": {},
   "source": [
    "## First Pattern-Matching Example\n",
    "Now that you know how to gain access to re.search(), you can give it a try:"
   ]
  },
  {
   "cell_type": "code",
   "execution_count": 15,
   "id": "92821974",
   "metadata": {},
   "outputs": [
    {
     "data": {
      "text/plain": [
       "<re.Match object; span=(3, 6), match='123'>"
      ]
     },
     "execution_count": 15,
     "metadata": {},
     "output_type": "execute_result"
    }
   ],
   "source": [
    "s = 'foo123bar'\n",
    "\n",
    "re.search('123',s)"
   ]
  },
  {
   "cell_type": "markdown",
   "id": "544eb5d9",
   "metadata": {},
   "source": [
    "A match object is **truthy**, so you can use it in a Boolean context like a conditional statement:"
   ]
  },
  {
   "cell_type": "code",
   "execution_count": 16,
   "id": "fd35bbfd",
   "metadata": {},
   "outputs": [
    {
     "name": "stdout",
     "output_type": "stream",
     "text": [
      "Found a match\n"
     ]
    }
   ],
   "source": [
    "if re.search('123',s):\n",
    "    print('Found a match')\n",
    "else:\n",
    "    print(\"no match.\")"
   ]
  },
  {
   "cell_type": "markdown",
   "id": "2654f193",
   "metadata": {},
   "source": [
    "The interpreter displays the match object as <_sre.SRE_Match object; span=(3, 6), match='123'>. This contains some useful information."
   ]
  },
  {
   "cell_type": "markdown",
   "id": "adce8898",
   "metadata": {},
   "source": [
    "span=(3, 6) indicates the portion of <string> in which the match was found. This means the same thing as it would in slice notation:\n",
    "\n"
   ]
  },
  {
   "cell_type": "code",
   "execution_count": 17,
   "id": "3c703813",
   "metadata": {},
   "outputs": [
    {
     "data": {
      "text/plain": [
       "'123'"
      ]
     },
     "execution_count": 17,
     "metadata": {},
     "output_type": "execute_result"
    }
   ],
   "source": [
    "s[3:6]"
   ]
  },
  {
   "cell_type": "markdown",
   "id": "5fefa5ae",
   "metadata": {},
   "source": [
    "In this example, the match starts at character position 3 and extends up to but not including position 6."
   ]
  },
  {
   "cell_type": "markdown",
   "id": "9e36097b",
   "metadata": {},
   "source": [
    "## Python Regex Metacharacters"
   ]
  },
  {
   "cell_type": "markdown",
   "id": "f696bf4a",
   "metadata": {},
   "source": [
    "The real power of regex matching in Python emerges when `<regex>` contains special characters called **metacharacters**. These have a unique meaning to the regex matching engine and vastly enhance the capability of the search."
   ]
  },
  {
   "cell_type": "markdown",
   "id": "a0c8595d",
   "metadata": {},
   "source": [
    "Consider again the problem of how to determine whether a string contains any three consecutive decimal digit characters.\n",
    "\n",
    "<br>In a regex, a set of characters specified in square brackets ([]) makes up a character class. This metacharacter sequence matches any single character that is in the class, as demonstrated in the following example:"
   ]
  },
  {
   "cell_type": "code",
   "execution_count": 18,
   "id": "8d6b45c6",
   "metadata": {},
   "outputs": [
    {
     "data": {
      "text/plain": [
       "<re.Match object; span=(3, 6), match='123'>"
      ]
     },
     "execution_count": 18,
     "metadata": {},
     "output_type": "execute_result"
    }
   ],
   "source": [
    "s = 'foo123bar'\n",
    "\n",
    "re.search('[0-9][0-9][0-9]',s)"
   ]
  },
  {
   "cell_type": "markdown",
   "id": "ff734d69",
   "metadata": {},
   "source": [
    "[0-9] matches any single decimal digit character—any character between '0' and '9', inclusive. The full expression [0-9][0-9][0-9] matches any sequence of three decimal digit characters. In this case, s matches because it contains three consecutive decimal digit characters, '123'."
   ]
  },
  {
   "cell_type": "markdown",
   "id": "6b89da7a",
   "metadata": {},
   "source": [
    "These strings also match:"
   ]
  },
  {
   "cell_type": "code",
   "execution_count": 19,
   "id": "003a9969",
   "metadata": {},
   "outputs": [
    {
     "data": {
      "text/plain": [
       "<re.Match object; span=(3, 6), match='456'>"
      ]
     },
     "execution_count": 19,
     "metadata": {},
     "output_type": "execute_result"
    }
   ],
   "source": [
    "re.search('[0-9][0-9][0-9]', 'foo456bar')"
   ]
  },
  {
   "cell_type": "code",
   "execution_count": 20,
   "id": "ee70456a",
   "metadata": {},
   "outputs": [
    {
     "data": {
      "text/plain": [
       "<re.Match object; span=(0, 3), match='234'>"
      ]
     },
     "execution_count": 20,
     "metadata": {},
     "output_type": "execute_result"
    }
   ],
   "source": [
    "re.search('[0-9][0-9][0-9]', '234baz')"
   ]
  },
  {
   "cell_type": "code",
   "execution_count": 21,
   "id": "01f4d02d",
   "metadata": {},
   "outputs": [
    {
     "data": {
      "text/plain": [
       "<re.Match object; span=(3, 6), match='678'>"
      ]
     },
     "execution_count": 21,
     "metadata": {},
     "output_type": "execute_result"
    }
   ],
   "source": [
    "re.search('[0-9][0-9][0-9]', 'qux678')"
   ]
  },
  {
   "cell_type": "markdown",
   "id": "d6ada241",
   "metadata": {},
   "source": [
    "On the other hand, a string that doesn’t contain three consecutive digits won’t match:"
   ]
  },
  {
   "cell_type": "code",
   "execution_count": 24,
   "id": "59722cc6",
   "metadata": {},
   "outputs": [
    {
     "name": "stdout",
     "output_type": "stream",
     "text": [
      "None\n"
     ]
    }
   ],
   "source": [
    "print(re.search('[0-9][0-9][0-9]', '12foo34'))"
   ]
  },
  {
   "cell_type": "markdown",
   "id": "ba22c73a",
   "metadata": {},
   "source": [
    "With regexes in Python, you can identify patterns in a string that you wouldn’t be able to find with the in operator or with string methods.\n",
    "\n",
    "<br>Take a look at another regex metacharacter. The dot (.) metacharacter matches any character except a newline, so it functions like a wildcard:"
   ]
  },
  {
   "cell_type": "code",
   "execution_count": 25,
   "id": "7d353c10",
   "metadata": {},
   "outputs": [
    {
     "data": {
      "text/plain": [
       "<re.Match object; span=(3, 6), match='123'>"
      ]
     },
     "execution_count": 25,
     "metadata": {},
     "output_type": "execute_result"
    }
   ],
   "source": [
    "s = 'foo123bar'\n",
    "re.search('1.3', s)"
   ]
  },
  {
   "cell_type": "code",
   "execution_count": 26,
   "id": "eaa528b6",
   "metadata": {},
   "outputs": [
    {
     "name": "stdout",
     "output_type": "stream",
     "text": [
      "None\n"
     ]
    }
   ],
   "source": [
    "s = 'foo13bar'\n",
    "print(re.search('1.3', s))"
   ]
  },
  {
   "cell_type": "markdown",
   "id": "96bbdcae",
   "metadata": {},
   "source": [
    "In the first example, the regex 1.3 matches '123' because the '1' and '3' match literally, and the . matches the '2'. Here, you’re essentially asking, “Does s contain a '1', then any character (except a newline), then a '3'?” The answer is yes for 'foo123bar' but no for 'foo13bar'."
   ]
  },
  {
   "cell_type": "markdown",
   "id": "d7b06063",
   "metadata": {},
   "source": [
    "## Metacharacters Supported by the re Module"
   ]
  },
  {
   "cell_type": "code",
   "execution_count": 27,
   "id": "6d3501a3",
   "metadata": {},
   "outputs": [
    {
     "data": {
      "text/plain": [
       "<re.Match object; span=(3, 6), match='123'>"
      ]
     },
     "execution_count": 27,
     "metadata": {},
     "output_type": "execute_result"
    }
   ],
   "source": [
    "s = 'foo123bar'\n",
    "re.search('123', s)"
   ]
  },
  {
   "cell_type": "markdown",
   "id": "5821a408",
   "metadata": {},
   "source": [
    "In this case, 123 is technically a regex, but it’s not a very interesting one because it doesn’t contain any metacharacters. It just matches the string '123'."
   ]
  },
  {
   "cell_type": "markdown",
   "id": "c02a9993",
   "metadata": {},
   "source": [
    "Things get much more exciting when you throw metacharacters into the mix. The following sections explain in detail how you can use each metacharacter or metacharacter sequence to enhance pattern-matching functionality.\n",
    "\n"
   ]
  },
  {
   "cell_type": "markdown",
   "id": "099024ef",
   "metadata": {},
   "source": [
    "## Metacharacters That Match a Single Character\n",
    "The metacharacter sequences in this section try to match a single character from the search string. When the regex parser encounters one of these metacharacter sequences, a match happens if the character at the current parsing position fits the description that the sequence describes."
   ]
  },
  {
   "cell_type": "markdown",
   "id": "e4831298",
   "metadata": {},
   "source": [
    "[]\n",
    "Specifies a specific set of characters to match."
   ]
  },
  {
   "cell_type": "markdown",
   "id": "7e115bfa",
   "metadata": {},
   "source": [
    "Characters contained in square brackets ([]) represent a character class—an enumerated set of characters to match from. A character class metacharacter sequence will match any single character contained in the class."
   ]
  },
  {
   "cell_type": "markdown",
   "id": "165d4cb7",
   "metadata": {},
   "source": [
    "You can enumerate the characters individually like this:"
   ]
  },
  {
   "cell_type": "code",
   "execution_count": 28,
   "id": "bdcd8bed",
   "metadata": {},
   "outputs": [
    {
     "data": {
      "text/plain": [
       "<re.Match object; span=(3, 6), match='bar'>"
      ]
     },
     "execution_count": 28,
     "metadata": {},
     "output_type": "execute_result"
    }
   ],
   "source": [
    "re.search('ba[artz]', 'foobarqux')"
   ]
  },
  {
   "cell_type": "code",
   "execution_count": 29,
   "id": "0d62348b",
   "metadata": {},
   "outputs": [
    {
     "data": {
      "text/plain": [
       "<re.Match object; span=(3, 6), match='baz'>"
      ]
     },
     "execution_count": 29,
     "metadata": {},
     "output_type": "execute_result"
    }
   ],
   "source": [
    "re.search('ba[artz]', 'foobazqux')"
   ]
  },
  {
   "cell_type": "markdown",
   "id": "ca84b499",
   "metadata": {},
   "source": [
    "The metacharacter sequence [artz] matches any single 'a', 'r', 't', or 'z' character. In the example, the regex ba[artz] matches both 'bar' and 'baz' (and would also match 'baa' and 'bat')."
   ]
  },
  {
   "cell_type": "markdown",
   "id": "0a3ed4fa",
   "metadata": {},
   "source": [
    "A character class can also contain a range of characters separated by a hyphen (-), in which case it matches any single character within the range. For example, `[a-z]` matches any lowercase alphabetic character between 'a' and 'z', inclusive:"
   ]
  },
  {
   "cell_type": "code",
   "execution_count": 31,
   "id": "5e46866d",
   "metadata": {},
   "outputs": [
    {
     "data": {
      "text/plain": [
       "<re.Match object; span=(3, 4), match='b'>"
      ]
     },
     "execution_count": 31,
     "metadata": {},
     "output_type": "execute_result"
    }
   ],
   "source": [
    "re.search('[a-z]', 'FOObar')"
   ]
  },
  {
   "cell_type": "markdown",
   "id": "440b6cbf",
   "metadata": {},
   "source": [
    "[0-9] matches any digit character:"
   ]
  },
  {
   "cell_type": "code",
   "execution_count": 32,
   "id": "56edfd95",
   "metadata": {},
   "outputs": [
    {
     "data": {
      "text/plain": [
       "<re.Match object; span=(3, 5), match='12'>"
      ]
     },
     "execution_count": 32,
     "metadata": {},
     "output_type": "execute_result"
    }
   ],
   "source": [
    "re.search('[0-9][0-9]','foo123bar')"
   ]
  },
  {
   "cell_type": "markdown",
   "id": "3a004752",
   "metadata": {},
   "source": [
    "n this case, [0-9][0-9] matches a sequence of two digits. The first portion of the string 'foo123bar' that matches is '12'.\n",
    "\n",
    "<br>[0-9a-fA-F] matches any hexadecimal digit character:"
   ]
  },
  {
   "cell_type": "code",
   "execution_count": 34,
   "id": "97a23e3e",
   "metadata": {},
   "outputs": [
    {
     "data": {
      "text/plain": [
       "<re.Match object; span=(4, 5), match='a'>"
      ]
     },
     "execution_count": 34,
     "metadata": {},
     "output_type": "execute_result"
    }
   ],
   "source": [
    "re.search('[0-9a-fA-F]','--- a0 ---')"
   ]
  },
  {
   "cell_type": "markdown",
   "id": "5add8fe9",
   "metadata": {},
   "source": [
    "Here, [0-9a-fA-F] matches the first hexadecimal digit character in the search string, 'a'."
   ]
  },
  {
   "cell_type": "markdown",
   "id": "9f2c27cf",
   "metadata": {},
   "source": [
    "You can complement a character class by specifying ^ as the first character, in which case it matches any character that isn’t in the set. In the following example, [^0-9] matches any character that isn’t a digit:"
   ]
  },
  {
   "cell_type": "code",
   "execution_count": 35,
   "id": "3804c136",
   "metadata": {},
   "outputs": [
    {
     "data": {
      "text/plain": [
       "<re.Match object; span=(5, 6), match='f'>"
      ]
     },
     "execution_count": 35,
     "metadata": {},
     "output_type": "execute_result"
    }
   ],
   "source": [
    "re.search('[^0-9]', '12345foo')"
   ]
  },
  {
   "cell_type": "markdown",
   "id": "252c4db3",
   "metadata": {},
   "source": [
    "Here, the match object indicates that the first character in the string that isn’t a digit is 'f'.\n",
    "\n",
    "<br>If a `^` character appears in a character class but isn’t the first character, then it has no special meaning and matches a literal `'^'` character:"
   ]
  },
  {
   "cell_type": "code",
   "execution_count": 36,
   "id": "a4efaa83",
   "metadata": {},
   "outputs": [
    {
     "data": {
      "text/plain": [
       "<re.Match object; span=(3, 4), match='^'>"
      ]
     },
     "execution_count": 36,
     "metadata": {},
     "output_type": "execute_result"
    }
   ],
   "source": [
    "re.search('[#:^]','foo^bar:baz#qux')"
   ]
  },
  {
   "cell_type": "markdown",
   "id": "1b4df6b8",
   "metadata": {},
   "source": [
    "As you’ve seen, you can specify a range of characters in a character class by separating characters with a hyphen. What if you want the character class to include a literal hyphen character? You can place it as the first or last character or escape it with a backslash (\\):"
   ]
  },
  {
   "cell_type": "code",
   "execution_count": 37,
   "id": "d2f34fc1",
   "metadata": {},
   "outputs": [
    {
     "data": {
      "text/plain": [
       "<re.Match object; span=(3, 4), match='-'>"
      ]
     },
     "execution_count": 37,
     "metadata": {},
     "output_type": "execute_result"
    }
   ],
   "source": [
    "re.search('[-abc]','123-456')"
   ]
  },
  {
   "cell_type": "code",
   "execution_count": 38,
   "id": "279542eb",
   "metadata": {},
   "outputs": [
    {
     "data": {
      "text/plain": [
       "<re.Match object; span=(3, 4), match='-'>"
      ]
     },
     "execution_count": 38,
     "metadata": {},
     "output_type": "execute_result"
    }
   ],
   "source": [
    "re.search('[abc-]','123-456')"
   ]
  },
  {
   "cell_type": "code",
   "execution_count": 39,
   "id": "67c89b8f",
   "metadata": {},
   "outputs": [
    {
     "data": {
      "text/plain": [
       "<re.Match object; span=(3, 4), match='-'>"
      ]
     },
     "execution_count": 39,
     "metadata": {},
     "output_type": "execute_result"
    }
   ],
   "source": [
    "re.search('[ab\\-c]','123-456')"
   ]
  },
  {
   "cell_type": "markdown",
   "id": "d907f2e1",
   "metadata": {},
   "source": [
    "If you want to include a literal ']' in a character class, then you can place it as the first character or escape it with backslash:"
   ]
  },
  {
   "cell_type": "code",
   "execution_count": 40,
   "id": "4b6143f1",
   "metadata": {},
   "outputs": [
    {
     "data": {
      "text/plain": [
       "<re.Match object; span=(5, 6), match=']'>"
      ]
     },
     "execution_count": 40,
     "metadata": {},
     "output_type": "execute_result"
    }
   ],
   "source": [
    "re.search('[]]', 'foo[1]')"
   ]
  },
  {
   "cell_type": "code",
   "execution_count": 43,
   "id": "a83d281e",
   "metadata": {},
   "outputs": [
    {
     "data": {
      "text/plain": [
       "<re.Match object; span=(5, 6), match=']'>"
      ]
     },
     "execution_count": 43,
     "metadata": {},
     "output_type": "execute_result"
    }
   ],
   "source": [
    "re.search('[ab\\]cd]','foo[1]')"
   ]
  },
  {
   "cell_type": "markdown",
   "id": "1795ac7b",
   "metadata": {},
   "source": [
    "Other regex metacharacters lose their special meaning inside a character class:"
   ]
  },
  {
   "cell_type": "code",
   "execution_count": 44,
   "id": "d8e3e01b",
   "metadata": {},
   "outputs": [
    {
     "data": {
      "text/plain": [
       "<re.Match object; span=(3, 4), match='*'>"
      ]
     },
     "execution_count": 44,
     "metadata": {},
     "output_type": "execute_result"
    }
   ],
   "source": [
    "re.search('[)*+|]', '123*456')"
   ]
  },
  {
   "cell_type": "code",
   "execution_count": 45,
   "id": "36a8c388",
   "metadata": {},
   "outputs": [
    {
     "data": {
      "text/plain": [
       "<re.Match object; span=(3, 4), match='+'>"
      ]
     },
     "execution_count": 45,
     "metadata": {},
     "output_type": "execute_result"
    }
   ],
   "source": [
    "re.search('[)*+|]', '123+456')"
   ]
  },
  {
   "cell_type": "markdown",
   "id": "a55c6961",
   "metadata": {},
   "source": [
    "As you saw in the table above, * and + have special meanings in a regex in Python. They designate repetition, which you’ll learn more about shortly. But in this example, they’re inside a character class, so they match themselves literally."
   ]
  },
  {
   "cell_type": "markdown",
   "id": "38fe4295",
   "metadata": {},
   "source": [
    "### `dot (.)`\n",
    "\n",
    "Specifies a wildcard."
   ]
  },
  {
   "cell_type": "markdown",
   "id": "dc4a773a",
   "metadata": {},
   "source": [
    "The `.` metacharacter matches any single character except a newline:"
   ]
  },
  {
   "cell_type": "code",
   "execution_count": 47,
   "id": "4d1fb729",
   "metadata": {},
   "outputs": [
    {
     "data": {
      "text/plain": [
       "<re.Match object; span=(0, 7), match='fooxbar'>"
      ]
     },
     "execution_count": 47,
     "metadata": {},
     "output_type": "execute_result"
    }
   ],
   "source": [
    "re.search('foo.bar', 'fooxbar')"
   ]
  },
  {
   "cell_type": "code",
   "execution_count": 51,
   "id": "06f98bbb",
   "metadata": {},
   "outputs": [],
   "source": [
    "re.search('foo.bar', 'foobar')"
   ]
  },
  {
   "cell_type": "code",
   "execution_count": 50,
   "id": "feb48027",
   "metadata": {},
   "outputs": [],
   "source": [
    "re.search('foo.bar', 'foo\\nbar')"
   ]
  },
  {
   "cell_type": "markdown",
   "id": "c2f2320c",
   "metadata": {},
   "source": [
    "As a regex, `foo.bar` essentially means the characters `'foo'`, then any character except newline, then the characters 'bar'. The first string shown above, `'fooxbar'`, fits the bill because the . metacharacter matches the 'x'.\n",
    "\n",
    "<br>The second and third strings fail to match. In the last case, although there’s a character between `'foo'` and `'bar'`, it’s a newline, and by default, the . metacharacter doesn’t match a newline. There is, however, a way to force . to match a newline, which you’ll learn about at the end of this tutorial."
   ]
  },
  {
   "cell_type": "markdown",
   "id": "719d3c70",
   "metadata": {},
   "source": [
    "### \\w\n",
    "### \\W\n",
    "\n",
    "Match based on whether a character is a word character.\n"
   ]
  },
  {
   "cell_type": "markdown",
   "id": "2a3c7b2b",
   "metadata": {},
   "source": [
    "`\\w` matches any alphanumeric word character. Word characters are uppercase and lowercase letters, digits, and the underscore `(_)` character, so `\\w` is essentially shorthand for `[a-zA-Z0-9_]`:"
   ]
  },
  {
   "cell_type": "code",
   "execution_count": 53,
   "id": "00339870",
   "metadata": {},
   "outputs": [
    {
     "data": {
      "text/plain": [
       "<re.Match object; span=(3, 4), match='a'>"
      ]
     },
     "execution_count": 53,
     "metadata": {},
     "output_type": "execute_result"
    }
   ],
   "source": [
    "re.search('\\w', '#(.a$@&')"
   ]
  },
  {
   "cell_type": "code",
   "execution_count": 54,
   "id": "74f2b512",
   "metadata": {},
   "outputs": [
    {
     "data": {
      "text/plain": [
       "<re.Match object; span=(3, 4), match='a'>"
      ]
     },
     "execution_count": 54,
     "metadata": {},
     "output_type": "execute_result"
    }
   ],
   "source": [
    " re.search('[a-zA-Z0-9_]', '#(.a$@&')"
   ]
  },
  {
   "cell_type": "markdown",
   "id": "4635d799",
   "metadata": {},
   "source": [
    "In this case, the first word character in the string `'#(.a$@&' is 'a'`.\n",
    "\n",
    "`\\W`is the opposite. It matches any non-word character and is equivalent to `[^a-zA-Z0-9_]`:\n",
    "\n"
   ]
  },
  {
   "cell_type": "code",
   "execution_count": 55,
   "id": "22e8b572",
   "metadata": {},
   "outputs": [
    {
     "data": {
      "text/plain": [
       "<re.Match object; span=(3, 4), match='*'>"
      ]
     },
     "execution_count": 55,
     "metadata": {},
     "output_type": "execute_result"
    }
   ],
   "source": [
    "re.search('\\W', 'a_1*3Qb')"
   ]
  },
  {
   "cell_type": "code",
   "execution_count": 56,
   "id": "17f02fe7",
   "metadata": {},
   "outputs": [
    {
     "data": {
      "text/plain": [
       "<re.Match object; span=(3, 4), match='*'>"
      ]
     },
     "execution_count": 56,
     "metadata": {},
     "output_type": "execute_result"
    }
   ],
   "source": [
    "re.search('[^a-zA-Z0-9_]', 'a_1*3Qb')"
   ]
  },
  {
   "cell_type": "markdown",
   "id": "86ae3fbd",
   "metadata": {},
   "source": [
    "Here, the first non-word character in 'a_1*3!b' is '*'."
   ]
  },
  {
   "cell_type": "markdown",
   "id": "c83779a9",
   "metadata": {},
   "source": [
    "### \\d\n",
    "### \\D\n",
    "\n",
    "Match based on whether a character is a decimal digit."
   ]
  },
  {
   "cell_type": "markdown",
   "id": "3abbb1df",
   "metadata": {},
   "source": [
    "`\\d` matches any decimal digit character. `\\D` is the opposite. It matches any character that isn’t a decimal digit:"
   ]
  },
  {
   "cell_type": "code",
   "execution_count": 57,
   "id": "7089a2aa",
   "metadata": {},
   "outputs": [
    {
     "data": {
      "text/plain": [
       "<re.Match object; span=(3, 4), match='4'>"
      ]
     },
     "execution_count": 57,
     "metadata": {},
     "output_type": "execute_result"
    }
   ],
   "source": [
    "re.search('\\d','abc4def')"
   ]
  },
  {
   "cell_type": "code",
   "execution_count": 59,
   "id": "c92b10b5",
   "metadata": {},
   "outputs": [
    {
     "data": {
      "text/plain": [
       "<re.Match object; span=(3, 4), match='Q'>"
      ]
     },
     "execution_count": 59,
     "metadata": {},
     "output_type": "execute_result"
    }
   ],
   "source": [
    "re.search('\\D','234Q678')"
   ]
  },
  {
   "cell_type": "markdown",
   "id": "5acab335",
   "metadata": {},
   "source": [
    "`\\d` is essentially equivalent to `[0-9]`, and `\\D` is equivalent to `[^0-9]`."
   ]
  },
  {
   "cell_type": "code",
   "execution_count": 60,
   "id": "39859c40",
   "metadata": {},
   "outputs": [
    {
     "data": {
      "text/plain": [
       "<re.Match object; span=(3, 4), match='Q'>"
      ]
     },
     "execution_count": 60,
     "metadata": {},
     "output_type": "execute_result"
    }
   ],
   "source": [
    "re.search('[^0-9]','234Q678')"
   ]
  },
  {
   "cell_type": "markdown",
   "id": "66dd884b",
   "metadata": {},
   "source": [
    "### \\s\n",
    "### \\S\n",
    "\n",
    "Match based on whether a character represents whitespace."
   ]
  },
  {
   "cell_type": "markdown",
   "id": "3c358f70",
   "metadata": {},
   "source": [
    "`\\s` matches any `whitespace` character:"
   ]
  },
  {
   "cell_type": "code",
   "execution_count": 62,
   "id": "1f10c8f3",
   "metadata": {},
   "outputs": [
    {
     "data": {
      "text/plain": [
       "<re.Match object; span=(3, 4), match='\\n'>"
      ]
     },
     "execution_count": 62,
     "metadata": {},
     "output_type": "execute_result"
    }
   ],
   "source": [
    "re.search('\\s', 'foo\\nbar baz')"
   ]
  },
  {
   "cell_type": "markdown",
   "id": "784e0bbd",
   "metadata": {},
   "source": [
    "Note that, unlike the dot wildcard metacharacter, `\\s` does match a newline character."
   ]
  },
  {
   "cell_type": "markdown",
   "id": "fe7695a6",
   "metadata": {},
   "source": [
    "`\\S` is the `opposite` of `\\s`. It matches any character that `isn’t whitespace`:"
   ]
  },
  {
   "cell_type": "code",
   "execution_count": 63,
   "id": "cdf8da03",
   "metadata": {},
   "outputs": [
    {
     "data": {
      "text/plain": [
       "<re.Match object; span=(4, 5), match='f'>"
      ]
     },
     "execution_count": 63,
     "metadata": {},
     "output_type": "execute_result"
    }
   ],
   "source": [
    "re.search('\\S', '  \\n foo  \\n  ')"
   ]
  },
  {
   "cell_type": "markdown",
   "id": "c22c50de",
   "metadata": {},
   "source": [
    "Again, \\s and \\S consider a newline to be whitespace. In the example above, the first non-whitespace character is 'f'"
   ]
  },
  {
   "cell_type": "markdown",
   "id": "9f4451f2",
   "metadata": {},
   "source": [
    "The character class sequences \\w, \\W, \\d, \\D, \\s, and \\S can appear inside a square bracket character class as well:"
   ]
  },
  {
   "cell_type": "code",
   "execution_count": 65,
   "id": "6632a39b",
   "metadata": {},
   "outputs": [
    {
     "data": {
      "text/plain": [
       "<re.Match object; span=(3, 4), match='3'>"
      ]
     },
     "execution_count": 65,
     "metadata": {},
     "output_type": "execute_result"
    }
   ],
   "source": [
    "re.search('[\\d\\w\\s]','---3---')"
   ]
  },
  {
   "cell_type": "code",
   "execution_count": 66,
   "id": "a20f22cb",
   "metadata": {},
   "outputs": [
    {
     "data": {
      "text/plain": [
       "<re.Match object; span=(3, 4), match='a'>"
      ]
     },
     "execution_count": 66,
     "metadata": {},
     "output_type": "execute_result"
    }
   ],
   "source": [
    "re.search('[\\d\\w\\s]', '---a---')"
   ]
  },
  {
   "cell_type": "code",
   "execution_count": 67,
   "id": "447d474e",
   "metadata": {},
   "outputs": [
    {
     "data": {
      "text/plain": [
       "<re.Match object; span=(3, 4), match=' '>"
      ]
     },
     "execution_count": 67,
     "metadata": {},
     "output_type": "execute_result"
    }
   ],
   "source": [
    "re.search('[\\d\\w\\s]', '--- ---')"
   ]
  },
  {
   "cell_type": "markdown",
   "id": "d44f2779",
   "metadata": {},
   "source": [
    "In this case, `[\\d\\w\\s]` matches any digit, word, or whitespace character. And since \\w includes \\d, the same character class could also be expressed slightly shorter as `[\\w\\s]`."
   ]
  },
  {
   "cell_type": "markdown",
   "id": "d30d2540",
   "metadata": {},
   "source": [
    "### Escaping Metacharacters\n",
    "Occasionally, you’ll want to include a metacharacter in your regex, except you won’t want it to carry its special meaning. Instead, you’ll want it to represent itself as a literal character."
   ]
  },
  {
   "cell_type": "markdown",
   "id": "d70e046a",
   "metadata": {},
   "source": [
    "## backslash (`\\`)\n",
    "\n",
    "Removes the special meaning of a metacharacter."
   ]
  },
  {
   "cell_type": "markdown",
   "id": "c3fe3d8c",
   "metadata": {},
   "source": [
    "As you’ve just seen, the backslash character can introduce special character classes like word, digit, and whitespace. There are also special metacharacter sequences called **anchors** that begin with a backslash, which you’ll learn about below."
   ]
  },
  {
   "cell_type": "markdown",
   "id": "0c95801c",
   "metadata": {},
   "source": [
    "When it’s not serving either of these purposes, the backslash **escapes** metacharacters. A metacharacter preceded by a backslash loses its special meaning and matches the literal character instead. Consider the following examples:"
   ]
  },
  {
   "cell_type": "code",
   "execution_count": 68,
   "id": "61613d00",
   "metadata": {},
   "outputs": [
    {
     "data": {
      "text/plain": [
       "<re.Match object; span=(0, 1), match='f'>"
      ]
     },
     "execution_count": 68,
     "metadata": {},
     "output_type": "execute_result"
    }
   ],
   "source": [
    "re.search('.', 'foo.bar')\n",
    "# not matches `.` in string"
   ]
  },
  {
   "cell_type": "code",
   "execution_count": 70,
   "id": "b77b1836",
   "metadata": {},
   "outputs": [
    {
     "data": {
      "text/plain": [
       "<re.Match object; span=(3, 4), match='.'>"
      ]
     },
     "execution_count": 70,
     "metadata": {},
     "output_type": "execute_result"
    }
   ],
   "source": [
    "re.search('\\.', 'foo.bar')\n",
    "# after giving `\\' before `.`it detects the `.`"
   ]
  },
  {
   "cell_type": "markdown",
   "id": "6ee611c2",
   "metadata": {},
   "source": [
    "In the `<regex>` on **line 1**, the dot (`.`) functions as a wildcard metacharacter, which matches the first character in the string (`'f'`). The . character in the `<regex>` on **line 4** is escaped by a backslash, so it isn’t a wildcard. It’s interpreted literally and matches the `'.'` at index 3 of the search string."
   ]
  },
  {
   "cell_type": "markdown",
   "id": "d6e68741",
   "metadata": {},
   "source": [
    "Using backslashes for escaping can get messy. Suppose you have a string that contains a single backslash:"
   ]
  },
  {
   "cell_type": "code",
   "execution_count": 78,
   "id": "f22c2764",
   "metadata": {},
   "outputs": [],
   "source": [
    "s = r'foo\\bar'"
   ]
  },
  {
   "cell_type": "code",
   "execution_count": 79,
   "id": "5995cdb4",
   "metadata": {},
   "outputs": [
    {
     "name": "stdout",
     "output_type": "stream",
     "text": [
      "foo\\bar\n"
     ]
    }
   ],
   "source": [
    "print(s)"
   ]
  },
  {
   "cell_type": "markdown",
   "id": "291bb8e7",
   "metadata": {},
   "source": [
    "Now suppose you want to create a `<regex>` that will match the backslash between `'foo'` and `'bar'`. The backslash is itself a special character in a regex, so to specify a literal backslash, you need to escape it with another backslash. If that’s that case, then the following should work:"
   ]
  },
  {
   "cell_type": "code",
   "execution_count": 81,
   "id": "38183eb8",
   "metadata": {},
   "outputs": [],
   "source": [
    "# re.search('\\\\', s)"
   ]
  },
  {
   "cell_type": "markdown",
   "id": "90e19f77",
   "metadata": {},
   "source": [
    "### error\n",
    "The problem here is that the backslash escaping happens twice, first by the Python interpreter on the string literal and then again by the regex parser on the regex it receives."
   ]
  },
  {
   "cell_type": "markdown",
   "id": "a6c376bb",
   "metadata": {},
   "source": [
    "Here’s the sequence of events:\n",
    "\n",
    "1. The Python interpreter is the first to process the string literal '\\\\'. It interprets that as an escaped backslash and passes only a single backslash to re.search().\n",
    "2. The regex parser receives just a single backslash, which isn’t a meaningful regex, so the messy error ensues.\n",
    "\n",
    "<br>There are two ways around this. First, you can escape both backslashes in the original string literal:"
   ]
  },
  {
   "cell_type": "code",
   "execution_count": 83,
   "id": "a1c1c166",
   "metadata": {},
   "outputs": [
    {
     "data": {
      "text/plain": [
       "<re.Match object; span=(3, 4), match='\\\\'>"
      ]
     },
     "execution_count": 83,
     "metadata": {},
     "output_type": "execute_result"
    }
   ],
   "source": [
    "re.search('\\\\\\\\', s)"
   ]
  },
  {
   "cell_type": "markdown",
   "id": "4bb5d64c",
   "metadata": {},
   "source": [
    "Doing so causes the following to happen:\n",
    "\n",
    "1. The interpreter sees `'\\\\\\\\'` as a pair of escaped backslashes. It reduces each pair to a single backslash and passes `'\\\\'` to the regex parser.\n",
    "2. The regex parser then sees `\\\\` as one escaped backslash. As a `<regex>`, that matches a single backslash character. You can see from the match object that it matched the backslash at index 3 in s as intended. It’s cumbersome, but it works."
   ]
  },
  {
   "cell_type": "markdown",
   "id": "31b099dd",
   "metadata": {},
   "source": [
    "The second, and probably cleaner, way to handle this is to specify the <regex> using a raw string: `r`"
   ]
  },
  {
   "cell_type": "code",
   "execution_count": 85,
   "id": "f226b071",
   "metadata": {},
   "outputs": [
    {
     "data": {
      "text/plain": [
       "<re.Match object; span=(3, 4), match='\\\\'>"
      ]
     },
     "execution_count": 85,
     "metadata": {},
     "output_type": "execute_result"
    }
   ],
   "source": [
    "re.search(r'\\\\', s)"
   ]
  },
  {
   "cell_type": "markdown",
   "id": "dd73331d",
   "metadata": {},
   "source": [
    "This suppresses the escaping at the interpreter level. The string '\\\\' gets passed unchanged to the regex parser, which again sees one escaped backslash as desired.\n",
    "\n",
    "<br>It’s good practice to use a raw string to specify a regex in Python whenever it contains backslashes."
   ]
  },
  {
   "cell_type": "markdown",
   "id": "60d10626",
   "metadata": {},
   "source": [
    "## Anchors\n",
    "Anchors are zero-width matches. They don’t match any actual characters in the search string, and they don’t consume any of the search string during parsing. Instead, an anchor dictates a particular location in the search string where a match must occur."
   ]
  },
  {
   "cell_type": "markdown",
   "id": "0c6ad55f",
   "metadata": {},
   "source": [
    "### `^`\n",
    "### `\\A`\n",
    "\n",
    "Anchor a match to the start of `<string>`."
   ]
  },
  {
   "cell_type": "markdown",
   "id": "5aa2cf2c",
   "metadata": {},
   "source": [
    "When the regex parser encounters ^ or \\A, the parser’s current position must be at the beginning of the search string for it to find a match."
   ]
  },
  {
   "cell_type": "markdown",
   "id": "cd80e8f9",
   "metadata": {},
   "source": [
    "In other words, regex ^foo stipulates that 'foo' must be present not just any old place in the search string, but at the beginning:"
   ]
  },
  {
   "cell_type": "code",
   "execution_count": 86,
   "id": "9ccf9099",
   "metadata": {},
   "outputs": [
    {
     "data": {
      "text/plain": [
       "<re.Match object; span=(0, 3), match='foo'>"
      ]
     },
     "execution_count": 86,
     "metadata": {},
     "output_type": "execute_result"
    }
   ],
   "source": [
    "re.search('^foo', 'foobar')"
   ]
  },
  {
   "cell_type": "code",
   "execution_count": 87,
   "id": "4114d7b3",
   "metadata": {},
   "outputs": [
    {
     "name": "stdout",
     "output_type": "stream",
     "text": [
      "None\n"
     ]
    }
   ],
   "source": [
    "print(re.search('^foo', 'barfoo'))"
   ]
  },
  {
   "cell_type": "markdown",
   "id": "0ab7c2d2",
   "metadata": {},
   "source": [
    "`\\A`functions similarly:"
   ]
  },
  {
   "cell_type": "code",
   "execution_count": 88,
   "id": "04f15128",
   "metadata": {},
   "outputs": [
    {
     "data": {
      "text/plain": [
       "<re.Match object; span=(0, 3), match='foo'>"
      ]
     },
     "execution_count": 88,
     "metadata": {},
     "output_type": "execute_result"
    }
   ],
   "source": [
    "re.search('\\Afoo', 'foobar')"
   ]
  },
  {
   "cell_type": "code",
   "execution_count": 89,
   "id": "4cfa1bf4",
   "metadata": {},
   "outputs": [
    {
     "name": "stdout",
     "output_type": "stream",
     "text": [
      "None\n"
     ]
    }
   ],
   "source": [
    "print(re.search('\\Afoo', 'barfoo'))"
   ]
  },
  {
   "cell_type": "markdown",
   "id": "c59bef41",
   "metadata": {},
   "source": [
    "`^` and `\\A` behave slightly differently from each other in MULTILINE mode. You’ll learn more about MULTILINE mode below in the section on flags."
   ]
  },
  {
   "cell_type": "markdown",
   "id": "c76a15fb",
   "metadata": {},
   "source": [
    "###  `$`\n",
    "### `\\Z`\n",
    "\n",
    "Anchor a match to the end of `<string>`."
   ]
  },
  {
   "cell_type": "markdown",
   "id": "31f12358",
   "metadata": {},
   "source": [
    "When the regex parser encounters `$` or `\\Z`, the parser’s current position must be at the end of the search string for it to find a match. Whatever precedes `$` or `\\Z` must constitute the end of the search string:"
   ]
  },
  {
   "cell_type": "code",
   "execution_count": 90,
   "id": "47cc440e",
   "metadata": {},
   "outputs": [
    {
     "data": {
      "text/plain": [
       "<re.Match object; span=(3, 6), match='bar'>"
      ]
     },
     "execution_count": 90,
     "metadata": {},
     "output_type": "execute_result"
    }
   ],
   "source": [
    "re.search('bar$', 'foobar')"
   ]
  },
  {
   "cell_type": "code",
   "execution_count": 91,
   "id": "e3cb1826",
   "metadata": {},
   "outputs": [
    {
     "name": "stdout",
     "output_type": "stream",
     "text": [
      "None\n"
     ]
    }
   ],
   "source": [
    "print(re.search('bar$', 'barfoo'))"
   ]
  },
  {
   "cell_type": "code",
   "execution_count": 92,
   "id": "f7805288",
   "metadata": {},
   "outputs": [
    {
     "data": {
      "text/plain": [
       "<re.Match object; span=(3, 6), match='bar'>"
      ]
     },
     "execution_count": 92,
     "metadata": {},
     "output_type": "execute_result"
    }
   ],
   "source": [
    "re.search('bar\\Z', 'foobar')"
   ]
  },
  {
   "cell_type": "markdown",
   "id": "df5f37d5",
   "metadata": {},
   "source": [
    "As a special case, `$` (but not `\\Z`) also matches just before a single newline at the end of the search string:"
   ]
  },
  {
   "cell_type": "code",
   "execution_count": 93,
   "id": "adb4f14e",
   "metadata": {},
   "outputs": [
    {
     "data": {
      "text/plain": [
       "<re.Match object; span=(3, 6), match='bar'>"
      ]
     },
     "execution_count": 93,
     "metadata": {},
     "output_type": "execute_result"
    }
   ],
   "source": [
    "re.search('bar$', 'foobar\\n')"
   ]
  },
  {
   "cell_type": "markdown",
   "id": "0131b527",
   "metadata": {},
   "source": [
    "In this example, `'bar'` isn’t technically at the end of the search string because it’s followed by one additional newline character. But the regex parser lets it slide and calls it a match anyway. This exception doesn’t apply to `\\Z`."
   ]
  },
  {
   "cell_type": "markdown",
   "id": "9649c2ad",
   "metadata": {},
   "source": [
    "`$` and `\\Z` behave slightly differently from each other in MULTILINE mode. See the section below on flags for more information on MULTILINE mode."
   ]
  },
  {
   "cell_type": "markdown",
   "id": "63e343ad",
   "metadata": {},
   "source": [
    "### `\\b`\n",
    "\n",
    "Anchors a match to a word boundary."
   ]
  },
  {
   "cell_type": "markdown",
   "id": "b2ffca33",
   "metadata": {},
   "source": [
    "`\\b` asserts that the regex parser’s current position must be at the beginning or end of a word. A word consists of a sequence of alphanumeric characters or underscores `([a-zA-Z0-9_])`, the same as for the `\\w` character class:"
   ]
  },
  {
   "cell_type": "code",
   "execution_count": 96,
   "id": "36e1e396",
   "metadata": {},
   "outputs": [
    {
     "data": {
      "text/plain": [
       "<re.Match object; span=(4, 7), match='bar'>"
      ]
     },
     "execution_count": 96,
     "metadata": {},
     "output_type": "execute_result"
    }
   ],
   "source": [
    "re.search(r'\\bbar', 'foo bar')"
   ]
  },
  {
   "cell_type": "code",
   "execution_count": 97,
   "id": "bbc1448f",
   "metadata": {},
   "outputs": [
    {
     "data": {
      "text/plain": [
       "<re.Match object; span=(4, 7), match='bar'>"
      ]
     },
     "execution_count": 97,
     "metadata": {},
     "output_type": "execute_result"
    }
   ],
   "source": [
    "re.search(r'\\bbar', 'foo.bar')"
   ]
  },
  {
   "cell_type": "code",
   "execution_count": 98,
   "id": "c875842d",
   "metadata": {},
   "outputs": [
    {
     "name": "stdout",
     "output_type": "stream",
     "text": [
      "None\n"
     ]
    }
   ],
   "source": [
    "print(re.search(r'\\bbar', 'foobar'))"
   ]
  },
  {
   "cell_type": "code",
   "execution_count": 99,
   "id": "038a9cbf",
   "metadata": {},
   "outputs": [
    {
     "data": {
      "text/plain": [
       "<re.Match object; span=(0, 3), match='foo'>"
      ]
     },
     "execution_count": 99,
     "metadata": {},
     "output_type": "execute_result"
    }
   ],
   "source": [
    "re.search(r'foo\\b', 'foo.bar')"
   ]
  },
  {
   "cell_type": "code",
   "execution_count": 100,
   "id": "9eca8f23",
   "metadata": {},
   "outputs": [
    {
     "name": "stdout",
     "output_type": "stream",
     "text": [
      "None\n"
     ]
    }
   ],
   "source": [
    "print(re.search(r'foo\\b', 'foobar'))"
   ]
  },
  {
   "cell_type": "markdown",
   "id": "dd851c0f",
   "metadata": {},
   "source": [
    "In the above examples, a match happens on `lines 1` and `3` because there’s a word boundary at the start of `'bar'`. This isn’t the case on `line 6`, so the match fails there."
   ]
  },
  {
   "cell_type": "markdown",
   "id": "f914e3cc",
   "metadata": {},
   "source": [
    "Similarly, there are matches on `lines 9` and `11` because a word boundary exists at the end of `'foo'`, but not on `line 14`."
   ]
  },
  {
   "cell_type": "markdown",
   "id": "3c235ae2",
   "metadata": {},
   "source": [
    "Using the `\\b` anchor on both ends of the `<regex>` will cause it to match when it’s present in the search string as a whole word:"
   ]
  },
  {
   "cell_type": "code",
   "execution_count": 101,
   "id": "3f22018b",
   "metadata": {},
   "outputs": [
    {
     "data": {
      "text/plain": [
       "<re.Match object; span=(4, 7), match='bar'>"
      ]
     },
     "execution_count": 101,
     "metadata": {},
     "output_type": "execute_result"
    }
   ],
   "source": [
    "re.search(r'\\bbar\\b', 'foo bar baz')"
   ]
  },
  {
   "cell_type": "code",
   "execution_count": 102,
   "id": "8d65bba3",
   "metadata": {},
   "outputs": [
    {
     "data": {
      "text/plain": [
       "<re.Match object; span=(4, 7), match='bar'>"
      ]
     },
     "execution_count": 102,
     "metadata": {},
     "output_type": "execute_result"
    }
   ],
   "source": [
    "re.search(r'\\bbar\\b', 'foo(bar)baz')"
   ]
  },
  {
   "cell_type": "code",
   "execution_count": 103,
   "id": "e4d6c7bf",
   "metadata": {},
   "outputs": [
    {
     "name": "stdout",
     "output_type": "stream",
     "text": [
      "None\n"
     ]
    }
   ],
   "source": [
    "print(re.search(r'\\bbar\\b', 'foobarbaz'))"
   ]
  },
  {
   "cell_type": "markdown",
   "id": "30970d2e",
   "metadata": {},
   "source": [
    "## Quantifiers"
   ]
  },
  {
   "cell_type": "markdown",
   "id": "65d3e84f",
   "metadata": {},
   "source": [
    "A **quantifier** metacharacter immediately follows a portion of a `<regex>` and indicates how many times that portion must occur for the match to succeed."
   ]
  },
  {
   "cell_type": "markdown",
   "id": "2be66df9",
   "metadata": {},
   "source": [
    "## *\n",
    "\n",
    "Matches zero or more repetitions of the preceding regex."
   ]
  },
  {
   "cell_type": "markdown",
   "id": "30358fcf",
   "metadata": {},
   "source": [
    "For example, `a*` matches zero or more `'a'` characters. That means it would match an empty string, `'a'`, `'aa'`, `'aaa'`, and so on."
   ]
  },
  {
   "cell_type": "markdown",
   "id": "9e921e14",
   "metadata": {},
   "source": [
    "Consider these examples:"
   ]
  },
  {
   "cell_type": "code",
   "execution_count": 106,
   "id": "72aaa243",
   "metadata": {},
   "outputs": [
    {
     "data": {
      "text/plain": [
       "<re.Match object; span=(0, 6), match='foobar'>"
      ]
     },
     "execution_count": 106,
     "metadata": {},
     "output_type": "execute_result"
    }
   ],
   "source": [
    "re.search('foo-*bar', 'foobar')     # Zero dashes"
   ]
  },
  {
   "cell_type": "code",
   "execution_count": 107,
   "id": "3ed3b717",
   "metadata": {},
   "outputs": [
    {
     "data": {
      "text/plain": [
       "<re.Match object; span=(0, 7), match='foo-bar'>"
      ]
     },
     "execution_count": 107,
     "metadata": {},
     "output_type": "execute_result"
    }
   ],
   "source": [
    "re.search('foo-*bar', 'foo-bar')                    # One dash"
   ]
  },
  {
   "cell_type": "code",
   "execution_count": 108,
   "id": "7e16673c",
   "metadata": {},
   "outputs": [
    {
     "data": {
      "text/plain": [
       "<re.Match object; span=(0, 8), match='foo--bar'>"
      ]
     },
     "execution_count": 108,
     "metadata": {},
     "output_type": "execute_result"
    }
   ],
   "source": [
    "re.search('foo-*bar', 'foo--bar')                   # Two dashes"
   ]
  },
  {
   "cell_type": "markdown",
   "id": "a974f83a",
   "metadata": {},
   "source": [
    "On **line 1**, there are zero `'-'` characters between `'foo'` and `'bar'`. On **line 3** there’s one, and on **line 5** there are two. The metacharacter sequence `-*` matches in all three cases."
   ]
  },
  {
   "cell_type": "code",
   "execution_count": 110,
   "id": "56017730",
   "metadata": {},
   "outputs": [
    {
     "data": {
      "text/plain": [
       "<re.Match object; span=(0, 12), match='foo------bar'>"
      ]
     },
     "execution_count": 110,
     "metadata": {},
     "output_type": "execute_result"
    }
   ],
   "source": [
    "re.search('foo-*bar', 'foo------bar')   # * (zero or more occurrences)"
   ]
  },
  {
   "cell_type": "markdown",
   "id": "555de3ca",
   "metadata": {},
   "source": [
    "You’ll probably encounter the regex `.*` in a Python program at some point. `This matches zero or more occurrences of any character`. In other words, it essentially matches `any character sequence up` to a line break. (Remember that the . wildcard metacharacter doesn’t match a newline.)"
   ]
  },
  {
   "cell_type": "markdown",
   "id": "79b38527",
   "metadata": {},
   "source": [
    "In this example, `.*` matches everything between `'foo'` and `'bar'`:"
   ]
  },
  {
   "cell_type": "code",
   "execution_count": 112,
   "id": "efa5d3a9",
   "metadata": {},
   "outputs": [
    {
     "data": {
      "text/plain": [
       "<re.Match object; span=(2, 23), match='foo $qux@grault % bar'>"
      ]
     },
     "execution_count": 112,
     "metadata": {},
     "output_type": "execute_result"
    }
   ],
   "source": [
    "re.search('foo.*bar', '# foo $qux@grault % bar #')\n",
    "# it matches all metacharacters\n"
   ]
  },
  {
   "cell_type": "markdown",
   "id": "3d435a56",
   "metadata": {},
   "source": [
    "Did you notice the `span=` and `match=` information contained in the match object?"
   ]
  },
  {
   "cell_type": "markdown",
   "id": "b4b2a4b5",
   "metadata": {},
   "source": [
    "Until now, the regexes in the examples you’ve seen have specified matches of predictable length. Once you start using quantifiers like `*`, the number of characters matched can be quite variable, and the information in the match object becomes more useful."
   ]
  },
  {
   "cell_type": "markdown",
   "id": "c5531645",
   "metadata": {},
   "source": [
    "You’ll learn more about how to access the information stored in a match object in the next tutorial in the series."
   ]
  },
  {
   "cell_type": "markdown",
   "id": "5e4f713a",
   "metadata": {},
   "source": [
    "### `+`\n",
    "\n",
    "Matches one or more repetitions of the preceding regex."
   ]
  },
  {
   "cell_type": "markdown",
   "id": "4fb6e713",
   "metadata": {},
   "source": [
    "This is similar to `*`, but the quantified regex must occur at least once:"
   ]
  },
  {
   "cell_type": "code",
   "execution_count": 114,
   "id": "89c91076",
   "metadata": {},
   "outputs": [
    {
     "name": "stdout",
     "output_type": "stream",
     "text": [
      "None\n"
     ]
    }
   ],
   "source": [
    "print(re.search('foo-+bar', 'foobar'))              # Zero dashes\n",
    "\n",
    "# at least one occurrence of `-` "
   ]
  },
  {
   "cell_type": "code",
   "execution_count": 115,
   "id": "5010abf3",
   "metadata": {},
   "outputs": [
    {
     "data": {
      "text/plain": [
       "<re.Match object; span=(0, 7), match='foo-bar'>"
      ]
     },
     "execution_count": 115,
     "metadata": {},
     "output_type": "execute_result"
    }
   ],
   "source": [
    "re.search('foo-+bar', 'foo-bar')                    # One dash"
   ]
  },
  {
   "cell_type": "code",
   "execution_count": 116,
   "id": "f2f03b0a",
   "metadata": {},
   "outputs": [
    {
     "data": {
      "text/plain": [
       "<re.Match object; span=(0, 8), match='foo--bar'>"
      ]
     },
     "execution_count": 116,
     "metadata": {},
     "output_type": "execute_result"
    }
   ],
   "source": [
    "re.search('foo-+bar', 'foo--bar')                    # Two dashes"
   ]
  },
  {
   "cell_type": "markdown",
   "id": "75f524df",
   "metadata": {},
   "source": [
    "Remember from above that foo`-*`bar matched the string 'foobar' because the `*` metacharacter allows for zero occurrences of `'-'`. The + metacharacter, on the other hand, requires at least one occurrence of `'-'`. That means there isn’t a match on **line 1** in this case."
   ]
  },
  {
   "cell_type": "markdown",
   "id": "29d1e048",
   "metadata": {},
   "source": [
    "## `?`\n",
    "\n",
    "Matches zero or one repetitions of the preceding regex."
   ]
  },
  {
   "cell_type": "markdown",
   "id": "301466cd",
   "metadata": {},
   "source": [
    "`?` is also similar to `*` and `+`, but in this case there’s only a match if the preceding regex occurs once or not at all:"
   ]
  },
  {
   "cell_type": "code",
   "execution_count": 118,
   "id": "2eb20fb0",
   "metadata": {},
   "outputs": [
    {
     "data": {
      "text/plain": [
       "<re.Match object; span=(0, 6), match='foobar'>"
      ]
     },
     "execution_count": 118,
     "metadata": {},
     "output_type": "execute_result"
    }
   ],
   "source": [
    "re.search('foo-?bar', 'foobar')                       # Zero dashes"
   ]
  },
  {
   "cell_type": "code",
   "execution_count": 117,
   "id": "2e509fca",
   "metadata": {},
   "outputs": [
    {
     "data": {
      "text/plain": [
       "<re.Match object; span=(0, 7), match='foo-bar'>"
      ]
     },
     "execution_count": 117,
     "metadata": {},
     "output_type": "execute_result"
    }
   ],
   "source": [
    "re.search('foo-?bar', 'foo-bar')                         # One dash"
   ]
  },
  {
   "cell_type": "code",
   "execution_count": 120,
   "id": "e6121827",
   "metadata": {},
   "outputs": [
    {
     "name": "stdout",
     "output_type": "stream",
     "text": [
      "None\n"
     ]
    }
   ],
   "source": [
    "print(re.search('foo-?bar', 'foo--bar'))            # Two dashes\n",
    "# match fail because of to `--` are present"
   ]
  },
  {
   "cell_type": "markdown",
   "id": "467328df",
   "metadata": {},
   "source": [
    "In this example, there are matches on **lines 1** and **3**. But on **line 5**, where there are `two '-' characters`, the `match fails`."
   ]
  },
  {
   "cell_type": "code",
   "execution_count": 121,
   "id": "1668a2e6",
   "metadata": {},
   "outputs": [
    {
     "name": "stdout",
     "output_type": "stream",
     "text": [
      "<re.Match object; span=(0, 8), match='foo--bar'>\n"
     ]
    }
   ],
   "source": [
    "print(re.search('foo--?bar', 'foo--bar')) "
   ]
  },
  {
   "cell_type": "code",
   "execution_count": 122,
   "id": "767ff676",
   "metadata": {},
   "outputs": [
    {
     "name": "stdout",
     "output_type": "stream",
     "text": [
      "<re.Match object; span=(0, 8), match='foo--bar'>\n"
     ]
    }
   ],
   "source": [
    "print(re.search('foo---?bar', 'foo--bar')) print(re.search('foo--?bar', 'foo--bar')) "
   ]
  },
  {
   "cell_type": "code",
   "execution_count": 123,
   "id": "83329e7e",
   "metadata": {},
   "outputs": [
    {
     "name": "stdout",
     "output_type": "stream",
     "text": [
      "None\n"
     ]
    }
   ],
   "source": [
    "print(re.search('foo--?bar', 'foo---bar')) \n",
    "# maximum limit exceeded"
   ]
  },
  {
   "cell_type": "markdown",
   "id": "04c0bd86",
   "metadata": {},
   "source": [
    "Here are some more `examples` showing the use of `all three quantifier metacharacters`:"
   ]
  },
  {
   "cell_type": "code",
   "execution_count": 128,
   "id": "76ae7c60",
   "metadata": {},
   "outputs": [
    {
     "data": {
      "text/plain": [
       "<re.Match object; span=(0, 6), match='foobar'>"
      ]
     },
     "execution_count": 128,
     "metadata": {},
     "output_type": "execute_result"
    }
   ],
   "source": [
    "re.match('foo[1-9]*bar', 'foobar')\n",
    "\n",
    "# it can contains foo , [0-9]*, bar\n",
    "# [0-9]* means 0 or more occurance of digits\n",
    "# [0-9]+ means at least 1 or more of digits\n",
    "#[0-9]? means 0 or up to 1 of digit"
   ]
  },
  {
   "cell_type": "code",
   "execution_count": 127,
   "id": "674c4464",
   "metadata": {},
   "outputs": [
    {
     "data": {
      "text/plain": [
       "<re.Match object; span=(0, 8), match='foo42bar'>"
      ]
     },
     "execution_count": 127,
     "metadata": {},
     "output_type": "execute_result"
    }
   ],
   "source": [
    "re.match('foo[1-9]*bar', 'foo42bar')\n",
    "\n",
    "# * 0 or more occureance of digits"
   ]
  },
  {
   "cell_type": "code",
   "execution_count": 131,
   "id": "42429e80",
   "metadata": {},
   "outputs": [
    {
     "name": "stdout",
     "output_type": "stream",
     "text": [
      "None\n"
     ]
    }
   ],
   "source": [
    "print(re.match('foo[1-9]+bar', 'foobar'))\n",
    "\n",
    "#[1-9]+ means at least 1 or more time occurance of digits   \n",
    "#note- it is showing none because that string does not contain any digit"
   ]
  },
  {
   "cell_type": "code",
   "execution_count": 133,
   "id": "c0ab971f",
   "metadata": {},
   "outputs": [
    {
     "data": {
      "text/plain": [
       "<re.Match object; span=(0, 8), match='foo42bar'>"
      ]
     },
     "execution_count": 133,
     "metadata": {},
     "output_type": "execute_result"
    }
   ],
   "source": [
    "re.match('foo[1-9]+bar', 'foo42bar')\n",
    "#[1-9]+ means at least 1 or more time occurance of digits   \n",
    "#note-  string contains more than one 1 digits"
   ]
  },
  {
   "cell_type": "code",
   "execution_count": 134,
   "id": "3cfe4113",
   "metadata": {},
   "outputs": [
    {
     "data": {
      "text/plain": [
       "<re.Match object; span=(0, 6), match='foobar'>"
      ]
     },
     "execution_count": 134,
     "metadata": {},
     "output_type": "execute_result"
    }
   ],
   "source": [
    "re.match('foo[1-9]?bar', 'foobar')\n",
    "#[1-9]? for this serach required 0 or max one digit \n"
   ]
  },
  {
   "cell_type": "code",
   "execution_count": 136,
   "id": "ebcaf2f2",
   "metadata": {},
   "outputs": [
    {
     "name": "stdout",
     "output_type": "stream",
     "text": [
      "None\n"
     ]
    }
   ],
   "source": [
    "print(re.match('foo[1-9]?bar', 'foo42bar'))\n",
    "#[1-9]? for this serach required 0 or max one digit \n",
    "# note - shows none because condition not satiesfied (more than 1 degits are present)"
   ]
  },
  {
   "cell_type": "markdown",
   "id": "79ab5e55",
   "metadata": {},
   "source": [
    "This time, the quantified regex is the character class `[1-9]` instead of the simple character `'-'`."
   ]
  },
  {
   "cell_type": "markdown",
   "id": "e74974ac",
   "metadata": {},
   "source": [
    "### *?\n",
    "### +?\n",
    "### ??\n",
    "\n",
    "The non-greedy (or lazy) versions of the `*`, `+`, and `?` quantifiers."
   ]
  },
  {
   "cell_type": "markdown",
   "id": "353a3158",
   "metadata": {},
   "source": [
    "When used alone, the quantifier metacharacters *, +, and ? are `all greedy`, meaning they `produce the longest possible match`. Consider this example:"
   ]
  },
  {
   "cell_type": "code",
   "execution_count": 137,
   "id": "38624a94",
   "metadata": {},
   "outputs": [
    {
     "data": {
      "text/plain": [
       "<re.Match object; span=(1, 18), match='<foo> <bar> <baz>'>"
      ]
     },
     "execution_count": 137,
     "metadata": {},
     "output_type": "execute_result"
    }
   ],
   "source": [
    "re.search('<.*>', '%<foo> <bar> <baz>%')"
   ]
  },
  {
   "cell_type": "markdown",
   "id": "b9133b90",
   "metadata": {},
   "source": [
    "The regex `<.*>` effectively means:\n",
    "\n",
    "- A `'<'` character\n",
    "- Then any sequence of characters\n",
    "- Then a `'>'` character"
   ]
  },
  {
   "cell_type": "markdown",
   "id": "0bfcaf37",
   "metadata": {},
   "source": [
    "But which `'>'` character? There are three possibilities:\n",
    "\n",
    "1. The one just after 'foo'\n",
    "2. The one just after 'bar'\n",
    "3. The one just after 'baz'"
   ]
  },
  {
   "cell_type": "markdown",
   "id": "579efd3b",
   "metadata": {},
   "source": [
    "Since the `*` metacharacter is greedy, it dictates the longest possible match, which includes everything up to and including the `'>'` character that follows `'baz'`. You can see from the match object that this is the match produced.\n",
    "\n",
    "If you want the shortest possible match instead, then use the non-greedy metacharacter sequence `*?`:"
   ]
  },
  {
   "cell_type": "code",
   "execution_count": 139,
   "id": "c6a5b574",
   "metadata": {},
   "outputs": [
    {
     "data": {
      "text/plain": [
       "<re.Match object; span=(1, 6), match='<foo>'>"
      ]
     },
     "execution_count": 139,
     "metadata": {},
     "output_type": "execute_result"
    }
   ],
   "source": [
    "re.search('<.*?>', '%<foo> <bar> <baz>%')"
   ]
  },
  {
   "cell_type": "markdown",
   "id": "430d4799",
   "metadata": {},
   "source": [
    "In this case, the match ends with the '>' character following 'foo'.\n",
    "<br>**Note:** You could accomplish the same thing with the regex `<[^>]*>`, which means:\n",
    "* A '<' character\n",
    "* Then any sequence of characters other than '>'\n",
    "* Then a '>' character\n",
    "\n",
    "This is the only option available with some older parsers that don’t support lazy quantifiers. Happily, that’s not the case with the regex parser in Python’s re module."
   ]
  },
  {
   "cell_type": "markdown",
   "id": "ae4df7fd",
   "metadata": {},
   "source": [
    "There are lazy versions of the + and ? quantifiers as well:"
   ]
  },
  {
   "cell_type": "code",
   "execution_count": 141,
   "id": "423786d7",
   "metadata": {},
   "outputs": [
    {
     "data": {
      "text/plain": [
       "<re.Match object; span=(1, 18), match='<foo> <bar> <baz>'>"
      ]
     },
     "execution_count": 141,
     "metadata": {},
     "output_type": "execute_result"
    }
   ],
   "source": [
    "re.search('<.+>', '%<foo> <bar> <baz>%')"
   ]
  },
  {
   "cell_type": "code",
   "execution_count": 142,
   "id": "f735eedc",
   "metadata": {},
   "outputs": [
    {
     "data": {
      "text/plain": [
       "<re.Match object; span=(1, 6), match='<foo>'>"
      ]
     },
     "execution_count": 142,
     "metadata": {},
     "output_type": "execute_result"
    }
   ],
   "source": [
    "re.search('<.+?>', '%<foo> <bar> <baz>%')"
   ]
  },
  {
   "cell_type": "code",
   "execution_count": 148,
   "id": "fc2acf91",
   "metadata": {},
   "outputs": [
    {
     "data": {
      "text/plain": [
       "<re.Match object; span=(0, 2), match='ba'>"
      ]
     },
     "execution_count": 148,
     "metadata": {},
     "output_type": "execute_result"
    }
   ],
   "source": [
    "re.search('ba?', 'baaaa')\n",
    "# ? zero or max"
   ]
  },
  {
   "cell_type": "code",
   "execution_count": 144,
   "id": "986cf879",
   "metadata": {},
   "outputs": [
    {
     "data": {
      "text/plain": [
       "<re.Match object; span=(0, 1), match='b'>"
      ]
     },
     "execution_count": 144,
     "metadata": {},
     "output_type": "execute_result"
    }
   ],
   "source": [
    "re.search('ba??', 'baaaa')"
   ]
  },
  {
   "cell_type": "markdown",
   "id": "8f4fc2c8",
   "metadata": {},
   "source": [
    "The first two examples on **lines 1** and **3** are similar to the examples shown above, only using `+` and `+?` instead of `*` and `*?`."
   ]
  },
  {
   "cell_type": "markdown",
   "id": "4fc22b6c",
   "metadata": {},
   "source": [
    "The last examples on **lines 6** and **8** are a little different. In general, the ? metacharacter matches zero or one occurrences of the preceding regex. The greedy version, ?, matches one occurrence, so ba? matches 'b' followed by a single 'a'. The non-greedy version, ??, matches zero occurrences, so ba?? matches just 'b'."
   ]
  },
  {
   "cell_type": "code",
   "execution_count": 147,
   "id": "dd5a8352",
   "metadata": {},
   "outputs": [
    {
     "data": {
      "text/plain": [
       "<re.Match object; span=(0, 2), match='ba'>"
      ]
     },
     "execution_count": 147,
     "metadata": {},
     "output_type": "execute_result"
    }
   ],
   "source": [
    "re.search('baa??', 'baaaa')\n",
    "#?? means o or max-1 "
   ]
  },
  {
   "cell_type": "markdown",
   "id": "dfb56809",
   "metadata": {},
   "source": [
    "## {m}\n",
    "\n",
    "Matches exactly `m` repetitions of the preceding regex."
   ]
  },
  {
   "cell_type": "markdown",
   "id": "7fa00a5e",
   "metadata": {},
   "source": [
    "This is similar to `*` or `+`, but it specifies exactly how many times the preceding regex must occur for a match to succeed:"
   ]
  },
  {
   "cell_type": "code",
   "execution_count": 150,
   "id": "e9695e14",
   "metadata": {},
   "outputs": [
    {
     "name": "stdout",
     "output_type": "stream",
     "text": [
      "None\n"
     ]
    }
   ],
   "source": [
    "print(re.search('x-{3}x', 'x--x'))                       # Two dashes\n",
    "# -{3} means - occures exactly 3 time otherwise it shows none"
   ]
  },
  {
   "cell_type": "code",
   "execution_count": 151,
   "id": "e6408bf3",
   "metadata": {},
   "outputs": [
    {
     "data": {
      "text/plain": [
       "<re.Match object; span=(0, 5), match='x---x'>"
      ]
     },
     "execution_count": 151,
     "metadata": {},
     "output_type": "execute_result"
    }
   ],
   "source": [
    "re.search('x-{3}x', 'x---x') \n",
    "# -{3} means - occures exactly 3 time otherwise it shows none"
   ]
  },
  {
   "cell_type": "code",
   "execution_count": 152,
   "id": "b8575aef",
   "metadata": {},
   "outputs": [
    {
     "name": "stdout",
     "output_type": "stream",
     "text": [
      "None\n"
     ]
    }
   ],
   "source": [
    "print(re.search('x-{3}x', 'x----x'))                      # Four dashes"
   ]
  },
  {
   "cell_type": "markdown",
   "id": "8904b1da",
   "metadata": {},
   "source": [
    "Here, `x-{3}x` matches `'x'`, followed by exactly three instances of the `'-'` character, followed by another `'x'`. The match fails when there are fewer or more than three dashes between the `'x'` characters."
   ]
  },
  {
   "cell_type": "markdown",
   "id": "3777810d",
   "metadata": {},
   "source": [
    "## {m,n}\n",
    "\n",
    "Matches any number of repetitions of the preceding regex from m to n, inclusive."
   ]
  },
  {
   "cell_type": "markdown",
   "id": "79d82a6c",
   "metadata": {},
   "source": [
    "In the following example, the quantified `<regex>` is `-{2,4}`. The match `succeeds when there are two, three, or four dashes` between the `'x'` characters but fails otherwise:"
   ]
  },
  {
   "cell_type": "code",
   "execution_count": 155,
   "id": "855c58b2",
   "metadata": {},
   "outputs": [
    {
     "name": "stdout",
     "output_type": "stream",
     "text": [
      "1  x-x        None\n",
      "2  x--x       <re.Match object; span=(0, 4), match='x--x'>\n",
      "3  x---x      <re.Match object; span=(0, 5), match='x---x'>\n",
      "4  x----x     <re.Match object; span=(0, 6), match='x----x'>\n",
      "5  x-----x    None\n"
     ]
    }
   ],
   "source": [
    "for i in range(1, 6):\n",
    "        s = f\"x{'-' * i}x\"\n",
    "        print(f'{i}  {s:10}', re.search('x-{2,4}x', s))"
   ]
  },
  {
   "cell_type": "markdown",
   "id": "2e5e5c7b",
   "metadata": {},
   "source": [
    "1. result is none because `-` are occured less than 2\n",
    "2. matched becaused because `-` are occured 2 times \n",
    "3. matched becaused because `-` are occured  more than 2 times and less than 4 \n",
    "4. matched becaused because `-` are occured more than 2 times and equal 4\n",
    "5. result is none because `-` are occured more than 4 times\n",
    " \n"
   ]
  },
  {
   "cell_type": "markdown",
   "id": "2ae3021e",
   "metadata": {},
   "source": [
    "Omitting m implies a lower bound of 0, and omitting n implies an unlimited upper bound:"
   ]
  },
  {
   "cell_type": "markdown",
   "id": "bf1507c8",
   "metadata": {},
   "source": [
    "\n",
    "| Regular Expression  | Matches | Matches |\n",
    "| --- | --- | --- |\n",
    "| `<regex>{,n}` | Any number of repetitions of `<regex>` less than or equal to n | `<regex>{0,n}` |\n",
    "| `<regex>{m,}` |\tAny number of repetitions of `<regex>` greater than or equal to m | `----` |\n",
    "| <regex>{,}\t| Any number of repetitions of `<regex>` | `<regex>{0,}<regex>*` |"
   ]
  },
  {
   "cell_type": "markdown",
   "id": "ffd39733",
   "metadata": {},
   "source": [
    "If you omit all of m, n, and the comma, then the curly braces no longer function as metacharacters. {} matches just the literal string '{}':"
   ]
  },
  {
   "cell_type": "code",
   "execution_count": 156,
   "id": "4527477e",
   "metadata": {
    "scrolled": true
   },
   "outputs": [
    {
     "data": {
      "text/plain": [
       "<re.Match object; span=(0, 4), match='x{}y'>"
      ]
     },
     "execution_count": 156,
     "metadata": {},
     "output_type": "execute_result"
    }
   ],
   "source": [
    "re.search('x{}y', 'x{}y')"
   ]
  },
  {
   "cell_type": "markdown",
   "id": "fbb74499",
   "metadata": {},
   "source": []
  },
  {
   "cell_type": "markdown",
   "id": "e7daa00d",
   "metadata": {},
   "source": [
    "In fact, to have any special meaning, a sequence with curly braces must fit one of the following patterns in which m and n are nonnegative integers:\n",
    "\n",
    "* {m,n}\n",
    "* {m,}\n",
    "* {,n}\n",
    "* {,}"
   ]
  },
  {
   "cell_type": "markdown",
   "id": "09bbf61f",
   "metadata": {},
   "source": [
    "Otherwise, it matches literally:"
   ]
  },
  {
   "cell_type": "code",
   "execution_count": 159,
   "id": "d77e806c",
   "metadata": {},
   "outputs": [
    {
     "data": {
      "text/plain": [
       "<re.Match object; span=(0, 7), match='x{foo}y'>"
      ]
     },
     "execution_count": 159,
     "metadata": {},
     "output_type": "execute_result"
    }
   ],
   "source": [
    "re.search('x{foo}y', 'x{foo}y')\n",
    "# matches as it is "
   ]
  },
  {
   "cell_type": "code",
   "execution_count": 160,
   "id": "4f54ec98",
   "metadata": {},
   "outputs": [
    {
     "data": {
      "text/plain": [
       "<re.Match object; span=(0, 7), match='x{a:b}y'>"
      ]
     },
     "execution_count": 160,
     "metadata": {},
     "output_type": "execute_result"
    }
   ],
   "source": [
    "re.search('x{a:b}y', 'x{a:b}y')\n",
    "# it is alos matches as it is"
   ]
  },
  {
   "cell_type": "code",
   "execution_count": 163,
   "id": "12e58681",
   "metadata": {},
   "outputs": [
    {
     "data": {
      "text/plain": [
       "<re.Match object; span=(0, 9), match='x{1,3,5}y'>"
      ]
     },
     "execution_count": 163,
     "metadata": {},
     "output_type": "execute_result"
    }
   ],
   "source": [
    "re.search('x{1,3,5}y', 'x{1,3,5}y')\n",
    "# matches as it is "
   ]
  },
  {
   "cell_type": "code",
   "execution_count": 164,
   "id": "61da2419",
   "metadata": {},
   "outputs": [
    {
     "data": {
      "text/plain": [
       "<re.Match object; span=(0, 11), match='x{foo,bar}y'>"
      ]
     },
     "execution_count": 164,
     "metadata": {},
     "output_type": "execute_result"
    }
   ],
   "source": [
    "re.search('x{foo,bar}y', 'x{foo,bar}y')\n",
    "# matches as it is"
   ]
  },
  {
   "cell_type": "markdown",
   "id": "de288cd3",
   "metadata": {},
   "source": [
    "Later in this tutorial, when you learn about the `DEBUG` flag, you’ll see how you can confirm this."
   ]
  },
  {
   "cell_type": "markdown",
   "id": "205702bc",
   "metadata": {},
   "source": [
    "## {m,n}?\n",
    "\n",
    "The non-greedy (lazy) version of {m,n}."
   ]
  },
  {
   "cell_type": "markdown",
   "id": "16d211aa",
   "metadata": {},
   "source": [
    "`{m,n}` will match as many characters as possible, and `{m,n}?` will match as few as possible:"
   ]
  },
  {
   "cell_type": "code",
   "execution_count": 166,
   "id": "aaf2cb5c",
   "metadata": {},
   "outputs": [
    {
     "data": {
      "text/plain": [
       "<re.Match object; span=(0, 5), match='aaaaa'>"
      ]
     },
     "execution_count": 166,
     "metadata": {},
     "output_type": "execute_result"
    }
   ],
   "source": [
    "re.search('a{3,5}', 'aaaaaaaa')\n",
    "# {m,n} will match as many characters as possible"
   ]
  },
  {
   "cell_type": "code",
   "execution_count": 168,
   "id": "ba258016",
   "metadata": {},
   "outputs": [
    {
     "data": {
      "text/plain": [
       "<re.Match object; span=(0, 3), match='aaa'>"
      ]
     },
     "execution_count": 168,
     "metadata": {},
     "output_type": "execute_result"
    }
   ],
   "source": [
    "re.search('a{3,5}?', 'aaaaaaaa')\n",
    "#  {m,n}? will match as few as possible\n",
    "# note- here minimum is 3 hence character 3 occures ony three time"
   ]
  },
  {
   "cell_type": "markdown",
   "id": "eba1bc57",
   "metadata": {},
   "source": [
    "## Grouping Constructs and Backreferences"
   ]
  },
  {
   "cell_type": "markdown",
   "id": "a420c6c7",
   "metadata": {},
   "source": [
    "Grouping constructs break up a regex in Python into subexpressions or groups. This serves two purposes:\n",
    "\n",
    "1. **Grouping:** A group represents a single syntactic entity. Additional metacharacters apply to the entire group as a unit.\n",
    "2. **Capturing:** Some grouping constructs also capture the portion of the search string that matches the subexpression in the group. You can retrieve captured matches later through several different mechanisms.\n",
    "\n"
   ]
  },
  {
   "cell_type": "markdown",
   "id": "76cd5684",
   "metadata": {},
   "source": [
    "## `(<regex>)`\n",
    "    Defines a subexpression or group."
   ]
  },
  {
   "cell_type": "markdown",
   "id": "78514b9f",
   "metadata": {},
   "source": [
    "This is the most basic grouping construct. A regex in parentheses just matches the contents of the parentheses:"
   ]
  },
  {
   "cell_type": "code",
   "execution_count": 169,
   "id": "9013d6ff",
   "metadata": {},
   "outputs": [
    {
     "data": {
      "text/plain": [
       "<re.Match object; span=(4, 7), match='bar'>"
      ]
     },
     "execution_count": 169,
     "metadata": {},
     "output_type": "execute_result"
    }
   ],
   "source": [
    "re.search('(bar)', 'foo bar baz')\n",
    "#matches with parentheses"
   ]
  },
  {
   "cell_type": "code",
   "execution_count": 171,
   "id": "4d48e799",
   "metadata": {},
   "outputs": [
    {
     "data": {
      "text/plain": [
       "<re.Match object; span=(4, 7), match='bar'>"
      ]
     },
     "execution_count": 171,
     "metadata": {},
     "output_type": "execute_result"
    }
   ],
   "source": [
    "re.search('bar', 'foo bar baz')\n",
    "#matches without parentheses"
   ]
  },
  {
   "cell_type": "markdown",
   "id": "ac968220",
   "metadata": {},
   "source": [
    "As a regex, `(bar)` matches the string `'bar'`, the same as the regex bar would without the parentheses."
   ]
  },
  {
   "cell_type": "markdown",
   "id": "35bfda3d",
   "metadata": {},
   "source": [
    "## Treating a Group as a Unit\n",
    "A quantifier metacharacter that follows a group operates on the entire subexpression specified in the group as a single unit.\n",
    "\n",
    "For instance, the following example matches one or more occurrences of the string `'bar'`:"
   ]
  },
  {
   "cell_type": "code",
   "execution_count": 172,
   "id": "568f1258",
   "metadata": {},
   "outputs": [
    {
     "data": {
      "text/plain": [
       "<re.Match object; span=(4, 7), match='bar'>"
      ]
     },
     "execution_count": 172,
     "metadata": {},
     "output_type": "execute_result"
    }
   ],
   "source": [
    "re.search('(bar)+', 'foo bar baz')\n",
    "# + means at least 1 or more than one "
   ]
  },
  {
   "cell_type": "code",
   "execution_count": 174,
   "id": "2a4fe8a1",
   "metadata": {},
   "outputs": [
    {
     "data": {
      "text/plain": [
       "<re.Match object; span=(4, 10), match='barbar'>"
      ]
     },
     "execution_count": 174,
     "metadata": {},
     "output_type": "execute_result"
    }
   ],
   "source": [
    "re.search('(bar)+', 'foo barbar baz')\n",
    "# + means at least 1 or more than one \n",
    "# note - captures frequently occured bar"
   ]
  },
  {
   "cell_type": "code",
   "execution_count": 176,
   "id": "a40f77af",
   "metadata": {},
   "outputs": [
    {
     "data": {
      "text/plain": [
       "<re.Match object; span=(4, 16), match='barbarbarbar'>"
      ]
     },
     "execution_count": 176,
     "metadata": {},
     "output_type": "execute_result"
    }
   ],
   "source": [
    "re.search('(bar)+', 'foo barbarbarbar baz')\n",
    "# + means at least 1 or more than one \n",
    "# note - captures frequently occured bar"
   ]
  },
  {
   "cell_type": "markdown",
   "id": "fd2f96d7",
   "metadata": {},
   "source": [
    "Here’s a breakdown of the difference between the two regexes with and without grouping parentheses:"
   ]
  },
  {
   "cell_type": "markdown",
   "id": "f351ba5c",
   "metadata": {},
   "source": [
    "| Regex | Interpretation|\tMatches | Examples|\n",
    "|---:|:-------------|:-----------|:------|\n",
    "bar+ |\tThe + metacharacter applies only to the character 'r'.\t|'ba' followed by one or more occurrences of 'r' |\t'bar' 'barr' 'barrr'|\n",
    "| (bar)+ | The + metacharacter applies to the entire string 'bar'. | One or more occurrences of | 'bar' 'bar' 'barbar' 'barbarbar'|"
   ]
  },
  {
   "cell_type": "markdown",
   "id": "d51c3923",
   "metadata": {},
   "source": [
    "Now take a look at a more complicated example. The regex `(ba[rz]){2,4}(qux)?` matches 2 to 4 occurrences of either `'bar'` or `'baz'`, optionally followed by `'qux'`:"
   ]
  },
  {
   "cell_type": "code",
   "execution_count": 178,
   "id": "4848a827",
   "metadata": {},
   "outputs": [
    {
     "data": {
      "text/plain": [
       "<re.Match object; span=(0, 12), match='bazbarbazqux'>"
      ]
     },
     "execution_count": 178,
     "metadata": {},
     "output_type": "execute_result"
    }
   ],
   "source": [
    "re.search('(ba[rz]){2,4}(qux)?', 'bazbarbazqux')"
   ]
  },
  {
   "cell_type": "code",
   "execution_count": 179,
   "id": "b99f2151",
   "metadata": {},
   "outputs": [
    {
     "data": {
      "text/plain": [
       "<re.Match object; span=(0, 6), match='barbar'>"
      ]
     },
     "execution_count": 179,
     "metadata": {},
     "output_type": "execute_result"
    }
   ],
   "source": [
    "re.search('(ba[rz]){2,4}(qux)?', 'barbar')"
   ]
  },
  {
   "cell_type": "markdown",
   "id": "125d5588",
   "metadata": {},
   "source": [
    "The following example shows that you can nest grouping parentheses:"
   ]
  },
  {
   "cell_type": "code",
   "execution_count": 181,
   "id": "c51647a0",
   "metadata": {},
   "outputs": [
    {
     "data": {
      "text/plain": [
       "<re.Match object; span=(0, 9), match='foofoobar'>"
      ]
     },
     "execution_count": 181,
     "metadata": {},
     "output_type": "execute_result"
    }
   ],
   "source": [
    "re.search('(foo(bar)?)+(\\d\\d\\d)?', 'foofoobar')"
   ]
  },
  {
   "cell_type": "code",
   "execution_count": 182,
   "id": "7d605b7f",
   "metadata": {},
   "outputs": [
    {
     "data": {
      "text/plain": [
       "<re.Match object; span=(0, 12), match='foofoobar123'>"
      ]
     },
     "execution_count": 182,
     "metadata": {},
     "output_type": "execute_result"
    }
   ],
   "source": [
    "re.search('(foo(bar)?)+(\\d\\d\\d)?', 'foofoobar123')"
   ]
  },
  {
   "cell_type": "code",
   "execution_count": 183,
   "id": "5f67582a",
   "metadata": {},
   "outputs": [
    {
     "data": {
      "text/plain": [
       "<re.Match object; span=(0, 9), match='foofoo123'>"
      ]
     },
     "execution_count": 183,
     "metadata": {},
     "output_type": "execute_result"
    }
   ],
   "source": [
    "re.search('(foo(bar)?)+(\\d\\d\\d)?', 'foofoo123')"
   ]
  },
  {
   "cell_type": "markdown",
   "id": "a15e5c35",
   "metadata": {},
   "source": [
    "The regex (foo(bar)?)+(\\d\\d\\d)? is pretty elaborate, so let’s break it down into smaller pieces:"
   ]
  },
  {
   "cell_type": "markdown",
   "id": "e5ef8084",
   "metadata": {},
   "source": [
    "| Regex\t| Matches|\n",
    "|---:|:-------------|\n",
    "|foo(bar)?|\t'foo' optionally followed by 'bar'|\n",
    "|(foo(bar)?)+|\tOne or more occurrences of the above |\n",
    "|\\d\\d\\d | Three decimal digit characters |\n",
    "|(\\d\\d\\d)? | Zero or one occurrences of the above |"
   ]
  },
  {
   "cell_type": "markdown",
   "id": "8d04531c",
   "metadata": {},
   "source": [
    "Capturing Groups\n",
    "Grouping isn’t the only useful purpose that grouping constructs serve. Most (but not quite all) grouping constructs also capture the part of the search string that matches the group. You can retrieve the captured portion or refer to it later in several different ways.\n",
    "\n",
    "Remember the match object that `re.search()` returns? There are two methods defined for a match object that provide access to captured groups: `.groups()` and `.group()`."
   ]
  },
  {
   "cell_type": "markdown",
   "id": "5bfb6fdf",
   "metadata": {},
   "source": [
    "## `m.groups()`\n",
    "\n",
    "Returns a tuple containing all the captured groups from a regex match."
   ]
  },
  {
   "cell_type": "code",
   "execution_count": 184,
   "id": "3c692702",
   "metadata": {},
   "outputs": [
    {
     "data": {
      "text/plain": [
       "<re.Match object; span=(0, 10), match='foo,quux,b'>"
      ]
     },
     "execution_count": 184,
     "metadata": {},
     "output_type": "execute_result"
    }
   ],
   "source": [
    "m = re.search('(\\w+),(\\w+),(\\w)', 'foo,quux,baz')\n",
    "m"
   ]
  },
  {
   "cell_type": "markdown",
   "id": "03ddda18",
   "metadata": {},
   "source": [
    "\\w+ mean at least 1 or more words \n",
    "<br>\\w mean exactly words "
   ]
  },
  {
   "cell_type": "markdown",
   "id": "dcf09070",
   "metadata": {},
   "source": [
    "Each of the three (\\w+) expressions matches a sequence of word characters. The full regex (\\w+),(\\w+),(\\w+) breaks the search string into three comma-separated tokens."
   ]
  },
  {
   "cell_type": "markdown",
   "id": "99d9ea19",
   "metadata": {},
   "source": [
    "Because the (\\w+) expressions use grouping parentheses, the corresponding matching tokens are **captured**. To access the captured matches, you can use .groups(), which returns a tuple containing all the captured matches in order:"
   ]
  },
  {
   "cell_type": "code",
   "execution_count": 185,
   "id": "f194dd26",
   "metadata": {},
   "outputs": [
    {
     "data": {
      "text/plain": [
       "('foo', 'quux', 'b')"
      ]
     },
     "execution_count": 185,
     "metadata": {},
     "output_type": "execute_result"
    }
   ],
   "source": [
    "m.groups()"
   ]
  },
  {
   "cell_type": "markdown",
   "id": "19f9e441",
   "metadata": {},
   "source": [
    "Notice that the tuple contains the tokens but not the commas that appeared in the search string. That’s because the word characters that make up the tokens are inside the grouping parentheses but the commas aren’t. The commas that you see between the returned tokens are the standard delimiters used to separate values in a tuple."
   ]
  },
  {
   "cell_type": "markdown",
   "id": "54eb9b3d",
   "metadata": {},
   "source": [
    "## `m.group(<n>)`\n",
    "Returns a string containing the `<n>th` captured match."
   ]
  },
  {
   "cell_type": "markdown",
   "id": "27ec069e",
   "metadata": {},
   "source": [
    "With one argument, .group() returns a single captured match. Note that the arguments are one-based, not zero-based. So, m.group(1) refers to the first captured match, m.group(2) to the second, and so on:\n",
    "\n"
   ]
  },
  {
   "cell_type": "code",
   "execution_count": 186,
   "id": "b67b558a",
   "metadata": {},
   "outputs": [
    {
     "data": {
      "text/plain": [
       "('foo', 'quux', 'baz')"
      ]
     },
     "execution_count": 186,
     "metadata": {},
     "output_type": "execute_result"
    }
   ],
   "source": [
    "m = re.search('(\\w+),(\\w+),(\\w+)', 'foo,quux,baz')\n",
    "# prantheses and quama created  group\n",
    "m.groups()"
   ]
  },
  {
   "cell_type": "code",
   "execution_count": 187,
   "id": "fcbf495a",
   "metadata": {},
   "outputs": [
    {
     "data": {
      "text/plain": [
       "'foo'"
      ]
     },
     "execution_count": 187,
     "metadata": {},
     "output_type": "execute_result"
    }
   ],
   "source": [
    "m.group(1)\n",
    "# group 1 formed up to 1 quama  "
   ]
  },
  {
   "cell_type": "code",
   "execution_count": 188,
   "id": "da52727c",
   "metadata": {},
   "outputs": [
    {
     "data": {
      "text/plain": [
       "'quux'"
      ]
     },
     "execution_count": 188,
     "metadata": {},
     "output_type": "execute_result"
    }
   ],
   "source": [
    "m.group(2)"
   ]
  },
  {
   "cell_type": "code",
   "execution_count": 189,
   "id": "169cb3aa",
   "metadata": {},
   "outputs": [
    {
     "data": {
      "text/plain": [
       "'baz'"
      ]
     },
     "execution_count": 189,
     "metadata": {},
     "output_type": "execute_result"
    }
   ],
   "source": [
    "m.group(3)"
   ]
  },
  {
   "cell_type": "markdown",
   "id": "b14ffac3",
   "metadata": {},
   "source": [
    "Since the numbering of captured matches is one-based, and there isn’t any group numbered zero, `m.group(0)` has a special meaning:"
   ]
  },
  {
   "cell_type": "code",
   "execution_count": 190,
   "id": "8b4d70cc",
   "metadata": {},
   "outputs": [
    {
     "data": {
      "text/plain": [
       "'foo,quux,baz'"
      ]
     },
     "execution_count": 190,
     "metadata": {},
     "output_type": "execute_result"
    }
   ],
   "source": [
    "m.group(0)\n",
    "# 0 will returns entire match means all groups"
   ]
  },
  {
   "cell_type": "code",
   "execution_count": 191,
   "id": "7b6c4575",
   "metadata": {},
   "outputs": [
    {
     "data": {
      "text/plain": [
       "'foo,quux,baz'"
      ]
     },
     "execution_count": 191,
     "metadata": {},
     "output_type": "execute_result"
    }
   ],
   "source": [
    "m.group()\n",
    "# same as 0 "
   ]
  },
  {
   "cell_type": "markdown",
   "id": "da3d7f43",
   "metadata": {},
   "source": [
    "`m.group(0)` returns the entire match, and `m.group()` does the same."
   ]
  },
  {
   "cell_type": "markdown",
   "id": "ba265619",
   "metadata": {},
   "source": [
    "## m.group(<n1>, <n2>, ...)\n",
    "Returns a tuple containing the specified captured matches."
   ]
  },
  {
   "cell_type": "markdown",
   "id": "780def4c",
   "metadata": {},
   "source": [
    "With multiple arguments, .group() returns a tuple containing the specified captured matches in the given order:"
   ]
  },
  {
   "cell_type": "code",
   "execution_count": 193,
   "id": "3760ec03",
   "metadata": {},
   "outputs": [
    {
     "data": {
      "text/plain": [
       "'foo,quux,baz'"
      ]
     },
     "execution_count": 193,
     "metadata": {},
     "output_type": "execute_result"
    }
   ],
   "source": [
    "m.group()"
   ]
  },
  {
   "cell_type": "code",
   "execution_count": 194,
   "id": "3003f3c9",
   "metadata": {},
   "outputs": [
    {
     "data": {
      "text/plain": [
       "('quux', 'baz')"
      ]
     },
     "execution_count": 194,
     "metadata": {},
     "output_type": "execute_result"
    }
   ],
   "source": [
    "m.group(2, 3)"
   ]
  },
  {
   "cell_type": "code",
   "execution_count": 195,
   "id": "6be70b0a",
   "metadata": {},
   "outputs": [
    {
     "data": {
      "text/plain": [
       "('baz', 'quux', 'foo')"
      ]
     },
     "execution_count": 195,
     "metadata": {},
     "output_type": "execute_result"
    }
   ],
   "source": [
    "m.group(3, 2, 1)"
   ]
  },
  {
   "cell_type": "markdown",
   "id": "e264f43b",
   "metadata": {},
   "source": [
    "This is just convenient shorthand. You could create the tuple of matches yourself instead:"
   ]
  },
  {
   "cell_type": "code",
   "execution_count": 197,
   "id": "79eb1e48",
   "metadata": {},
   "outputs": [
    {
     "data": {
      "text/plain": [
       "('baz', 'quux', 'foo')"
      ]
     },
     "execution_count": 197,
     "metadata": {},
     "output_type": "execute_result"
    }
   ],
   "source": [
    "m.group(3, 2, 1)"
   ]
  },
  {
   "cell_type": "code",
   "execution_count": 199,
   "id": "e8b3a70e",
   "metadata": {},
   "outputs": [
    {
     "data": {
      "text/plain": [
       "('baz', 'quux', 'foo')"
      ]
     },
     "execution_count": 199,
     "metadata": {},
     "output_type": "execute_result"
    }
   ],
   "source": [
    "(m.group(3), m.group(2), m.group(1))\n",
    "# same as above "
   ]
  },
  {
   "cell_type": "markdown",
   "id": "885a620c",
   "metadata": {},
   "source": [
    "The two statements shown are functionally equivalent."
   ]
  },
  {
   "cell_type": "markdown",
   "id": "6efab7ec",
   "metadata": {},
   "source": [
    "## Backreferences\n",
    "You can match a previously captured group later within the same regex using a special metacharacter sequence called a **backreference**."
   ]
  },
  {
   "cell_type": "markdown",
   "id": "38a11176",
   "metadata": {},
   "source": [
    "## `\\<n>`\n",
    "\n",
    "Matches the contents of a previously captured group.\n",
    "\n"
   ]
  },
  {
   "cell_type": "markdown",
   "id": "aa473b8c",
   "metadata": {},
   "source": [
    "Within a regex in Python, the sequence `\\<n>`, where `<n>` is an integer from 1 to 99, matches the contents of the `<n>th` captured group."
   ]
  },
  {
   "cell_type": "markdown",
   "id": "f260f408",
   "metadata": {},
   "source": [
    "Here’s a regex that matches a word, followed by a comma, followed by the same word again:"
   ]
  },
  {
   "cell_type": "code",
   "execution_count": 200,
   "id": "91d1b528",
   "metadata": {},
   "outputs": [],
   "source": [
    "regex = r'(\\w+),\\1'"
   ]
  },
  {
   "cell_type": "code",
   "execution_count": 201,
   "id": "6e904657",
   "metadata": {},
   "outputs": [],
   "source": [
    "m = re.search(regex, 'foo,foo')"
   ]
  },
  {
   "cell_type": "code",
   "execution_count": 202,
   "id": "7c2e99cc",
   "metadata": {},
   "outputs": [
    {
     "data": {
      "text/plain": [
       "<re.Match object; span=(0, 7), match='foo,foo'>"
      ]
     },
     "execution_count": 202,
     "metadata": {},
     "output_type": "execute_result"
    }
   ],
   "source": [
    "m"
   ]
  },
  {
   "cell_type": "code",
   "execution_count": 204,
   "id": "7f10cab6",
   "metadata": {},
   "outputs": [
    {
     "data": {
      "text/plain": [
       "<re.Match object; span=(0, 7), match='qux,qux'>"
      ]
     },
     "execution_count": 204,
     "metadata": {},
     "output_type": "execute_result"
    }
   ],
   "source": [
    "m = re.search(regex, 'qux,qux')\n",
    "m"
   ]
  },
  {
   "cell_type": "code",
   "execution_count": 205,
   "id": "d3610813",
   "metadata": {},
   "outputs": [
    {
     "data": {
      "text/plain": [
       "'qux'"
      ]
     },
     "execution_count": 205,
     "metadata": {},
     "output_type": "execute_result"
    }
   ],
   "source": [
    "m.group(1)"
   ]
  },
  {
   "cell_type": "code",
   "execution_count": 206,
   "id": "fc8c506c",
   "metadata": {},
   "outputs": [],
   "source": [
    "m = re.search(regex, 'foo,qux')"
   ]
  },
  {
   "cell_type": "code",
   "execution_count": 208,
   "id": "950e776c",
   "metadata": {},
   "outputs": [
    {
     "name": "stdout",
     "output_type": "stream",
     "text": [
      "None\n"
     ]
    }
   ],
   "source": [
    "print(m)"
   ]
  },
  {
   "cell_type": "markdown",
   "id": "773a1791",
   "metadata": {},
   "source": [
    "In the first example, on **line 3**, `(\\w+)` matches the first instance of the string `'foo'` and saves it as the first captured group. The `comma matches literally`. \n",
    "<br>Then `\\1` is a backreference to the first captured group and matches `'foo'` again. \n",
    "<br>The second example, on **line 9**, is identical except that the `(\\w+)` matches `'qux'` instead."
   ]
  },
  {
   "cell_type": "markdown",
   "id": "86c2e9a6",
   "metadata": {},
   "source": [
    "The last example, on **line 15**, doesn’t have a match because what comes before the comma isn’t the same as what comes after it, so the `\\1` backreference doesn’t match."
   ]
  },
  {
   "cell_type": "markdown",
   "id": "3e91c198",
   "metadata": {},
   "source": [
    "**Note:** Any time you use a regex in Python with a numbered backreference, it’s a good idea to specify it as a raw string. Otherwise, the interpreter may confuse the backreference with an octal value.\n",
    "\n",
    "<br>Consider this example:"
   ]
  },
  {
   "cell_type": "code",
   "execution_count": 209,
   "id": "fc934347",
   "metadata": {},
   "outputs": [
    {
     "name": "stdout",
     "output_type": "stream",
     "text": [
      "None\n"
     ]
    }
   ],
   "source": [
    "print(re.search('([a-z])#\\1', 'd#d'))"
   ]
  },
  {
   "cell_type": "markdown",
   "id": "bd9f0dfc",
   "metadata": {},
   "source": [
    "The regex `([a-z])#\\1` matches a lowercase letter, followed by `'#'`, followed by the same lowercase letter. The string in this case is `'d#d'`, which should match. But the match fails because Python misinterprets the backreference `\\1` as the character whose octal value is one:"
   ]
  },
  {
   "cell_type": "code",
   "execution_count": 210,
   "id": "0a7d1bb2",
   "metadata": {},
   "outputs": [
    {
     "data": {
      "text/plain": [
       "'0o1'"
      ]
     },
     "execution_count": 210,
     "metadata": {},
     "output_type": "execute_result"
    }
   ],
   "source": [
    "oct(ord('\\1'))"
   ]
  },
  {
   "cell_type": "markdown",
   "id": "98cd0527",
   "metadata": {},
   "source": [
    "You’ll achieve the correct match if you specify the regex as a raw string:"
   ]
  },
  {
   "cell_type": "code",
   "execution_count": 211,
   "id": "479245e8",
   "metadata": {},
   "outputs": [
    {
     "data": {
      "text/plain": [
       "<re.Match object; span=(0, 3), match='d#d'>"
      ]
     },
     "execution_count": 211,
     "metadata": {},
     "output_type": "execute_result"
    }
   ],
   "source": [
    "re.search(r'([a-z])#\\1', 'd#d')"
   ]
  },
  {
   "cell_type": "markdown",
   "id": "376f9c42",
   "metadata": {},
   "source": [
    "Remember to consider using a raw string whenever your regex includes a metacharacter sequence containing a backslash."
   ]
  },
  {
   "cell_type": "markdown",
   "id": "7bcdf0f2",
   "metadata": {},
   "source": [
    "Numbered backreferences are one-based like the arguments to `.group()`. Only the first ninety-nine captured groups are accessible by backreference. The interpreter will regard `\\100` as the `'@'` character, whose octal value is 100."
   ]
  },
  {
   "cell_type": "markdown",
   "id": "06a4bb08",
   "metadata": {},
   "source": [
    "## Other Grouping Constructs"
   ]
  },
  {
   "cell_type": "code",
   "execution_count": null,
   "id": "86ff7354",
   "metadata": {},
   "outputs": [],
   "source": []
  }
 ],
 "metadata": {
  "kernelspec": {
   "display_name": "Python 3 (ipykernel)",
   "language": "python",
   "name": "python3"
  },
  "language_info": {
   "codemirror_mode": {
    "name": "ipython",
    "version": 3
   },
   "file_extension": ".py",
   "mimetype": "text/x-python",
   "name": "python",
   "nbconvert_exporter": "python",
   "pygments_lexer": "ipython3",
   "version": "3.9.7"
  }
 },
 "nbformat": 4,
 "nbformat_minor": 5
}
