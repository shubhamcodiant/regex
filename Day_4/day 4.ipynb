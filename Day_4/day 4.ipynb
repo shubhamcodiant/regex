{
 "cells": [
  {
   "cell_type": "code",
   "execution_count": 12,
   "id": "08662c99",
   "metadata": {},
   "outputs": [],
   "source": [
    "import pandas as pd"
   ]
  },
  {
   "cell_type": "code",
   "execution_count": 19,
   "id": "1a4e890b",
   "metadata": {},
   "outputs": [],
   "source": [
    "df = pd.read_json(\"Day-4 -text-preprocessing.json\", lines = True)"
   ]
  },
  {
   "cell_type": "code",
   "execution_count": 21,
   "id": "dc327778",
   "metadata": {},
   "outputs": [
    {
     "data": {
      "text/html": [
       "<div>\n",
       "<style scoped>\n",
       "    .dataframe tbody tr th:only-of-type {\n",
       "        vertical-align: middle;\n",
       "    }\n",
       "\n",
       "    .dataframe tbody tr th {\n",
       "        vertical-align: top;\n",
       "    }\n",
       "\n",
       "    .dataframe thead th {\n",
       "        text-align: right;\n",
       "    }\n",
       "</style>\n",
       "<table border=\"1\" class=\"dataframe\">\n",
       "  <thead>\n",
       "    <tr style=\"text-align: right;\">\n",
       "      <th></th>\n",
       "      <th>text</th>\n",
       "      <th>meta</th>\n",
       "    </tr>\n",
       "  </thead>\n",
       "  <tbody>\n",
       "    <tr>\n",
       "      <th>0</th>\n",
       "      <td>Mohit Rao Niwadunge\\n\\t \\t Email ID mohit.niwa...</td>\n",
       "      <td>{'source': 'E:\\Resume Parser\\resume parser\\dat...</td>\n",
       "    </tr>\n",
       "    <tr>\n",
       "      <th>1</th>\n",
       "      <td>ABHAY RAJ SINGH\\nBusiness Analyst \\nPROFESSION...</td>\n",
       "      <td>{'source': 'E:\\Resume Parser\\resume parser\\dat...</td>\n",
       "    </tr>\n",
       "    <tr>\n",
       "      <th>2</th>\n",
       "      <td>Abhilasha Shrivastava\\nE-Mail abhilasha101@gma...</td>\n",
       "      <td>{'source': 'E:\\Resume Parser\\resume parser\\dat...</td>\n",
       "    </tr>\n",
       "    <tr>\n",
       "      <th>3</th>\n",
       "      <td>.\\nABHISHEK SINGH THAKUR\\nUI UX DESIGNER \\nH.N...</td>\n",
       "      <td>{'source': 'E:\\Resume Parser\\resume parser\\dat...</td>\n",
       "    </tr>\n",
       "    <tr>\n",
       "      <th>4</th>\n",
       "      <td>AMAN DAVID\\n115-B Anand Nagar Gawali Palasia, ...</td>\n",
       "      <td>{'source': 'E:\\Resume Parser\\resume parser\\dat...</td>\n",
       "    </tr>\n",
       "  </tbody>\n",
       "</table>\n",
       "</div>"
      ],
      "text/plain": [
       "                                                text  \\\n",
       "0  Mohit Rao Niwadunge\\n\\t \\t Email ID mohit.niwa...   \n",
       "1  ABHAY RAJ SINGH\\nBusiness Analyst \\nPROFESSION...   \n",
       "2  Abhilasha Shrivastava\\nE-Mail abhilasha101@gma...   \n",
       "3  .\\nABHISHEK SINGH THAKUR\\nUI UX DESIGNER \\nH.N...   \n",
       "4  AMAN DAVID\\n115-B Anand Nagar Gawali Palasia, ...   \n",
       "\n",
       "                                                meta  \n",
       "0  {'source': 'E:\\Resume Parser\\resume parser\\dat...  \n",
       "1  {'source': 'E:\\Resume Parser\\resume parser\\dat...  \n",
       "2  {'source': 'E:\\Resume Parser\\resume parser\\dat...  \n",
       "3  {'source': 'E:\\Resume Parser\\resume parser\\dat...  \n",
       "4  {'source': 'E:\\Resume Parser\\resume parser\\dat...  "
      ]
     },
     "execution_count": 21,
     "metadata": {},
     "output_type": "execute_result"
    }
   ],
   "source": [
    "df.head()"
   ]
  },
  {
   "cell_type": "code",
   "execution_count": null,
   "id": "d2e05d4f",
   "metadata": {},
   "outputs": [],
   "source": [
    "email= r'^[a-zA-Z_.-]+@\\w+.\\w{2,3}'\n",
    "co_num =r''"
   ]
  }
 ],
 "metadata": {
  "kernelspec": {
   "display_name": "Python 3 (ipykernel)",
   "language": "python",
   "name": "python3"
  },
  "language_info": {
   "codemirror_mode": {
    "name": "ipython",
    "version": 3
   },
   "file_extension": ".py",
   "mimetype": "text/x-python",
   "name": "python",
   "nbconvert_exporter": "python",
   "pygments_lexer": "ipython3",
   "version": "3.9.7"
  }
 },
 "nbformat": 4,
 "nbformat_minor": 5
}
