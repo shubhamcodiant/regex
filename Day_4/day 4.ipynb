{
 "cells": [
  {
   "cell_type": "code",
   "execution_count": 1,
   "id": "08662c99",
   "metadata": {},
   "outputs": [],
   "source": [
    "import pandas as pd\n",
    "import re\n",
    "import numpy as np \n",
    "import nltk\n"
   ]
  },
  {
   "cell_type": "code",
   "execution_count": 2,
   "id": "1a4e890b",
   "metadata": {},
   "outputs": [],
   "source": [
    "df = pd.read_json(\"Day-4 -text-preprocessing.json\", lines = True)"
   ]
  },
  {
   "cell_type": "code",
   "execution_count": 3,
   "id": "dc327778",
   "metadata": {},
   "outputs": [
    {
     "data": {
      "text/html": [
       "<div>\n",
       "<style scoped>\n",
       "    .dataframe tbody tr th:only-of-type {\n",
       "        vertical-align: middle;\n",
       "    }\n",
       "\n",
       "    .dataframe tbody tr th {\n",
       "        vertical-align: top;\n",
       "    }\n",
       "\n",
       "    .dataframe thead th {\n",
       "        text-align: right;\n",
       "    }\n",
       "</style>\n",
       "<table border=\"1\" class=\"dataframe\">\n",
       "  <thead>\n",
       "    <tr style=\"text-align: right;\">\n",
       "      <th></th>\n",
       "      <th>text</th>\n",
       "      <th>meta</th>\n",
       "    </tr>\n",
       "  </thead>\n",
       "  <tbody>\n",
       "    <tr>\n",
       "      <th>0</th>\n",
       "      <td>Mohit Rao Niwadunge\\n\\t \\t Email ID mohit.niwa...</td>\n",
       "      <td>{'source': 'E:\\Resume Parser\\resume parser\\dat...</td>\n",
       "    </tr>\n",
       "    <tr>\n",
       "      <th>1</th>\n",
       "      <td>ABHAY RAJ SINGH\\nBusiness Analyst \\nPROFESSION...</td>\n",
       "      <td>{'source': 'E:\\Resume Parser\\resume parser\\dat...</td>\n",
       "    </tr>\n",
       "    <tr>\n",
       "      <th>2</th>\n",
       "      <td>Abhilasha Shrivastava\\nE-Mail abhilasha101@gma...</td>\n",
       "      <td>{'source': 'E:\\Resume Parser\\resume parser\\dat...</td>\n",
       "    </tr>\n",
       "    <tr>\n",
       "      <th>3</th>\n",
       "      <td>.\\nABHISHEK SINGH THAKUR\\nUI UX DESIGNER \\nH.N...</td>\n",
       "      <td>{'source': 'E:\\Resume Parser\\resume parser\\dat...</td>\n",
       "    </tr>\n",
       "    <tr>\n",
       "      <th>4</th>\n",
       "      <td>AMAN DAVID\\n115-B Anand Nagar Gawali Palasia, ...</td>\n",
       "      <td>{'source': 'E:\\Resume Parser\\resume parser\\dat...</td>\n",
       "    </tr>\n",
       "  </tbody>\n",
       "</table>\n",
       "</div>"
      ],
      "text/plain": [
       "                                                text  \\\n",
       "0  Mohit Rao Niwadunge\\n\\t \\t Email ID mohit.niwa...   \n",
       "1  ABHAY RAJ SINGH\\nBusiness Analyst \\nPROFESSION...   \n",
       "2  Abhilasha Shrivastava\\nE-Mail abhilasha101@gma...   \n",
       "3  .\\nABHISHEK SINGH THAKUR\\nUI UX DESIGNER \\nH.N...   \n",
       "4  AMAN DAVID\\n115-B Anand Nagar Gawali Palasia, ...   \n",
       "\n",
       "                                                meta  \n",
       "0  {'source': 'E:\\Resume Parser\\resume parser\\dat...  \n",
       "1  {'source': 'E:\\Resume Parser\\resume parser\\dat...  \n",
       "2  {'source': 'E:\\Resume Parser\\resume parser\\dat...  \n",
       "3  {'source': 'E:\\Resume Parser\\resume parser\\dat...  \n",
       "4  {'source': 'E:\\Resume Parser\\resume parser\\dat...  "
      ]
     },
     "execution_count": 3,
     "metadata": {},
     "output_type": "execute_result"
    }
   ],
   "source": [
    "df.head()"
   ]
  },
  {
   "cell_type": "code",
   "execution_count": 4,
   "id": "d2e05d4f",
   "metadata": {},
   "outputs": [],
   "source": [
    "email= r'^[a-zA-Z_.-]+@\\w+.\\w{2,3}'\n",
    "co_num =r'^(\\+\\d{1,2}\\s)?\\(?\\d{3}\\)?[\\s.-]\\d{3}[\\s.-]\\d{4}$'"
   ]
  },
  {
   "cell_type": "code",
   "execution_count": 5,
   "id": "eca9a76b",
   "metadata": {},
   "outputs": [
    {
     "data": {
      "text/plain": [
       "(5, 2)"
      ]
     },
     "execution_count": 5,
     "metadata": {},
     "output_type": "execute_result"
    }
   ],
   "source": [
    "df.shape"
   ]
  },
  {
   "cell_type": "code",
   "execution_count": 6,
   "id": "6e6eacb5",
   "metadata": {},
   "outputs": [],
   "source": [
    "df.drop(['meta'], axis = 1, inplace = True)\n"
   ]
  },
  {
   "cell_type": "code",
   "execution_count": 7,
   "id": "9d3ea284",
   "metadata": {},
   "outputs": [
    {
     "name": "stdout",
     "output_type": "stream",
     "text": [
      "<class 'pandas.core.frame.DataFrame'>\n",
      "RangeIndex: 5 entries, 0 to 4\n",
      "Data columns (total 1 columns):\n",
      " #   Column  Non-Null Count  Dtype \n",
      "---  ------  --------------  ----- \n",
      " 0   text    5 non-null      object\n",
      "dtypes: object(1)\n",
      "memory usage: 168.0+ bytes\n"
     ]
    }
   ],
   "source": [
    "df.info()"
   ]
  },
  {
   "cell_type": "code",
   "execution_count": 8,
   "id": "b1a3a2ce",
   "metadata": {},
   "outputs": [
    {
     "data": {
      "text/plain": [
       "0    Mohit Rao Niwadunge\\n\\t \\t Email ID mohit.niwa...\n",
       "1    ABHAY RAJ SINGH\\nBusiness Analyst \\nPROFESSION...\n",
       "2    Abhilasha Shrivastava\\nE-Mail abhilasha101@gma...\n",
       "3    .\\nABHISHEK SINGH THAKUR\\nUI UX DESIGNER \\nH.N...\n",
       "4    AMAN DAVID\\n115-B Anand Nagar Gawali Palasia, ...\n",
       "Name: text, dtype: object"
      ]
     },
     "execution_count": 8,
     "metadata": {},
     "output_type": "execute_result"
    }
   ],
   "source": [
    "df['text']"
   ]
  },
  {
   "cell_type": "code",
   "execution_count": 9,
   "id": "57dccd5e",
   "metadata": {},
   "outputs": [],
   "source": [
    "# df['Email_address']=df['text'].str.findall(r'\\b[\\w+]+@\\w+.\\w{2,3}\\b').apply(','.join)\n",
    "# df['Contact_No']=df['text'].str.findall(r'\\b[789]\\d{9}\\b').apply(','.join)"
   ]
  },
  {
   "cell_type": "code",
   "execution_count": 10,
   "id": "161ad686",
   "metadata": {},
   "outputs": [],
   "source": [
    "email_lst = []\n",
    "for i in df['text']:\n",
    "    if re.search(r'\\b[\\w+]+@\\w+.\\w{2,3}\\b',i):\n",
    "        email_lst.append(re.search(r'\\b[\\w+]+@\\w+.\\w{2,3}\\b',i)[0])\n",
    "    else:\n",
    "        email_lst.append(None)\n",
    "        \n",
    "        "
   ]
  },
  {
   "cell_type": "code",
   "execution_count": 11,
   "id": "2784ea3c",
   "metadata": {},
   "outputs": [
    {
     "data": {
      "text/plain": [
       "['niwadunge@gmail.com',\n",
       " None,\n",
       " 'abhilasha101@gmail.com',\n",
       " 'abhishekthakur2006@gmail.com',\n",
       " 'david12@gmail.com']"
      ]
     },
     "execution_count": 11,
     "metadata": {},
     "output_type": "execute_result"
    }
   ],
   "source": [
    "email_lst"
   ]
  },
  {
   "cell_type": "code",
   "execution_count": 12,
   "id": "dc4cc9fd",
   "metadata": {},
   "outputs": [],
   "source": [
    "num_lst = []\n",
    "for i in df['text']:\n",
    "    if re.search(r'\\b[789]\\d{9}\\b',i):\n",
    "        num_lst.append(re.search(r'\\b[789]\\d{9}\\b',i)[0])\n",
    "    else:\n",
    "        num_lst.append(None)\n",
    "        \n",
    "        "
   ]
  },
  {
   "cell_type": "code",
   "execution_count": 13,
   "id": "eae5ed48",
   "metadata": {},
   "outputs": [
    {
     "data": {
      "text/plain": [
       "['7000526216', None, '7415857918', '9302761661', '7987613585']"
      ]
     },
     "execution_count": 13,
     "metadata": {},
     "output_type": "execute_result"
    }
   ],
   "source": [
    "num_lst"
   ]
  },
  {
   "cell_type": "code",
   "execution_count": 14,
   "id": "6eccc111",
   "metadata": {},
   "outputs": [],
   "source": [
    "df['Number']= num_lst\n",
    "df['Email']= email_lst"
   ]
  },
  {
   "cell_type": "code",
   "execution_count": 15,
   "id": "57461fa5",
   "metadata": {},
   "outputs": [
    {
     "data": {
      "text/html": [
       "<div>\n",
       "<style scoped>\n",
       "    .dataframe tbody tr th:only-of-type {\n",
       "        vertical-align: middle;\n",
       "    }\n",
       "\n",
       "    .dataframe tbody tr th {\n",
       "        vertical-align: top;\n",
       "    }\n",
       "\n",
       "    .dataframe thead th {\n",
       "        text-align: right;\n",
       "    }\n",
       "</style>\n",
       "<table border=\"1\" class=\"dataframe\">\n",
       "  <thead>\n",
       "    <tr style=\"text-align: right;\">\n",
       "      <th></th>\n",
       "      <th>text</th>\n",
       "      <th>Number</th>\n",
       "      <th>Email</th>\n",
       "    </tr>\n",
       "  </thead>\n",
       "  <tbody>\n",
       "    <tr>\n",
       "      <th>0</th>\n",
       "      <td>Mohit Rao Niwadunge\\n\\t \\t Email ID mohit.niwa...</td>\n",
       "      <td>7000526216</td>\n",
       "      <td>niwadunge@gmail.com</td>\n",
       "    </tr>\n",
       "    <tr>\n",
       "      <th>1</th>\n",
       "      <td>ABHAY RAJ SINGH\\nBusiness Analyst \\nPROFESSION...</td>\n",
       "      <td>None</td>\n",
       "      <td>None</td>\n",
       "    </tr>\n",
       "    <tr>\n",
       "      <th>2</th>\n",
       "      <td>Abhilasha Shrivastava\\nE-Mail abhilasha101@gma...</td>\n",
       "      <td>7415857918</td>\n",
       "      <td>abhilasha101@gmail.com</td>\n",
       "    </tr>\n",
       "    <tr>\n",
       "      <th>3</th>\n",
       "      <td>.\\nABHISHEK SINGH THAKUR\\nUI UX DESIGNER \\nH.N...</td>\n",
       "      <td>9302761661</td>\n",
       "      <td>abhishekthakur2006@gmail.com</td>\n",
       "    </tr>\n",
       "    <tr>\n",
       "      <th>4</th>\n",
       "      <td>AMAN DAVID\\n115-B Anand Nagar Gawali Palasia, ...</td>\n",
       "      <td>7987613585</td>\n",
       "      <td>david12@gmail.com</td>\n",
       "    </tr>\n",
       "  </tbody>\n",
       "</table>\n",
       "</div>"
      ],
      "text/plain": [
       "                                                text      Number  \\\n",
       "0  Mohit Rao Niwadunge\\n\\t \\t Email ID mohit.niwa...  7000526216   \n",
       "1  ABHAY RAJ SINGH\\nBusiness Analyst \\nPROFESSION...        None   \n",
       "2  Abhilasha Shrivastava\\nE-Mail abhilasha101@gma...  7415857918   \n",
       "3  .\\nABHISHEK SINGH THAKUR\\nUI UX DESIGNER \\nH.N...  9302761661   \n",
       "4  AMAN DAVID\\n115-B Anand Nagar Gawali Palasia, ...  7987613585   \n",
       "\n",
       "                          Email  \n",
       "0           niwadunge@gmail.com  \n",
       "1                          None  \n",
       "2        abhilasha101@gmail.com  \n",
       "3  abhishekthakur2006@gmail.com  \n",
       "4             david12@gmail.com  "
      ]
     },
     "execution_count": 15,
     "metadata": {},
     "output_type": "execute_result"
    }
   ],
   "source": [
    "df.head()"
   ]
  },
  {
   "cell_type": "markdown",
   "id": "b63a9800",
   "metadata": {},
   "source": [
    "Extracting Date/years from DataFrame"
   ]
  },
  {
   "cell_type": "code",
   "execution_count": 16,
   "id": "7ff36013",
   "metadata": {},
   "outputs": [
    {
     "data": {
      "text/plain": [
       "['2009', '2014', '2013', '2016', '2013']"
      ]
     },
     "execution_count": 16,
     "metadata": {},
     "output_type": "execute_result"
    }
   ],
   "source": [
    "[re.search(r'\\b[12]\\d{3}\\b',i)[0] for i in df['text']]"
   ]
  },
  {
   "cell_type": "code",
   "execution_count": 17,
   "id": "9607eda5",
   "metadata": {},
   "outputs": [],
   "source": [
    "df['years']= [re.findall(r'\\b[12]\\d{3}\\b',i) for i in df['text']]"
   ]
  },
  {
   "cell_type": "code",
   "execution_count": 18,
   "id": "4c38d2e6",
   "metadata": {},
   "outputs": [],
   "source": [
    "df['years']= df['years'].apply(\",\".join)"
   ]
  },
  {
   "cell_type": "code",
   "execution_count": 19,
   "id": "f5326ed2",
   "metadata": {
    "scrolled": true
   },
   "outputs": [
    {
     "data": {
      "text/html": [
       "<div>\n",
       "<style scoped>\n",
       "    .dataframe tbody tr th:only-of-type {\n",
       "        vertical-align: middle;\n",
       "    }\n",
       "\n",
       "    .dataframe tbody tr th {\n",
       "        vertical-align: top;\n",
       "    }\n",
       "\n",
       "    .dataframe thead th {\n",
       "        text-align: right;\n",
       "    }\n",
       "</style>\n",
       "<table border=\"1\" class=\"dataframe\">\n",
       "  <thead>\n",
       "    <tr style=\"text-align: right;\">\n",
       "      <th></th>\n",
       "      <th>text</th>\n",
       "      <th>Number</th>\n",
       "      <th>Email</th>\n",
       "      <th>years</th>\n",
       "    </tr>\n",
       "  </thead>\n",
       "  <tbody>\n",
       "    <tr>\n",
       "      <th>0</th>\n",
       "      <td>Mohit Rao Niwadunge\\n\\t \\t Email ID mohit.niwa...</td>\n",
       "      <td>7000526216</td>\n",
       "      <td>niwadunge@gmail.com</td>\n",
       "      <td>2009,2013,2009,2007</td>\n",
       "    </tr>\n",
       "    <tr>\n",
       "      <th>1</th>\n",
       "      <td>ABHAY RAJ SINGH\\nBusiness Analyst \\nPROFESSION...</td>\n",
       "      <td>None</td>\n",
       "      <td>None</td>\n",
       "      <td>2014,1991</td>\n",
       "    </tr>\n",
       "    <tr>\n",
       "      <th>2</th>\n",
       "      <td>Abhilasha Shrivastava\\nE-Mail abhilasha101@gma...</td>\n",
       "      <td>7415857918</td>\n",
       "      <td>abhilasha101@gmail.com</td>\n",
       "      <td>2013,2010,2012,2000,2013,1987</td>\n",
       "    </tr>\n",
       "    <tr>\n",
       "      <th>3</th>\n",
       "      <td>.\\nABHISHEK SINGH THAKUR\\nUI UX DESIGNER \\nH.N...</td>\n",
       "      <td>9302761661</td>\n",
       "      <td>abhishekthakur2006@gmail.com</td>\n",
       "      <td>2016,1045,2009,2012,2012,2016,2003,2003,2004,2...</td>\n",
       "    </tr>\n",
       "    <tr>\n",
       "      <th>4</th>\n",
       "      <td>AMAN DAVID\\n115-B Anand Nagar Gawali Palasia, ...</td>\n",
       "      <td>7987613585</td>\n",
       "      <td>david12@gmail.com</td>\n",
       "      <td>2013,2016,1983,2013,2016,2014</td>\n",
       "    </tr>\n",
       "  </tbody>\n",
       "</table>\n",
       "</div>"
      ],
      "text/plain": [
       "                                                text      Number  \\\n",
       "0  Mohit Rao Niwadunge\\n\\t \\t Email ID mohit.niwa...  7000526216   \n",
       "1  ABHAY RAJ SINGH\\nBusiness Analyst \\nPROFESSION...        None   \n",
       "2  Abhilasha Shrivastava\\nE-Mail abhilasha101@gma...  7415857918   \n",
       "3  .\\nABHISHEK SINGH THAKUR\\nUI UX DESIGNER \\nH.N...  9302761661   \n",
       "4  AMAN DAVID\\n115-B Anand Nagar Gawali Palasia, ...  7987613585   \n",
       "\n",
       "                          Email  \\\n",
       "0           niwadunge@gmail.com   \n",
       "1                          None   \n",
       "2        abhilasha101@gmail.com   \n",
       "3  abhishekthakur2006@gmail.com   \n",
       "4             david12@gmail.com   \n",
       "\n",
       "                                               years  \n",
       "0                                2009,2013,2009,2007  \n",
       "1                                          2014,1991  \n",
       "2                      2013,2010,2012,2000,2013,1987  \n",
       "3  2016,1045,2009,2012,2012,2016,2003,2003,2004,2...  \n",
       "4                      2013,2016,1983,2013,2016,2014  "
      ]
     },
     "execution_count": 19,
     "metadata": {},
     "output_type": "execute_result"
    }
   ],
   "source": [
    "df.head()"
   ]
  },
  {
   "cell_type": "markdown",
   "id": "bcd0b8a3",
   "metadata": {},
   "source": [
    "Text Preprocessing by NLTK"
   ]
  },
  {
   "cell_type": "code",
   "execution_count": 20,
   "id": "02a1dcf6",
   "metadata": {},
   "outputs": [],
   "source": [
    "import nltk"
   ]
  },
  {
   "cell_type": "code",
   "execution_count": 21,
   "id": "9d362a68",
   "metadata": {},
   "outputs": [],
   "source": [
    "# remove punctuation\n",
    "def remove_punctuation(text):\n",
    "    translator = str.maketrans('', '', string.punctuation)\n",
    "    return text.translate(translator)"
   ]
  },
  {
   "cell_type": "markdown",
   "id": "391c8b34",
   "metadata": {},
   "source": [
    "## Lowercase\n",
    "As an example, we grab the first sentence from the book Pride and Prejudice as the text. We convert the sentence to lowercase via text.lower() ."
   ]
  },
  {
   "cell_type": "code",
   "execution_count": 22,
   "id": "a981bcf4",
   "metadata": {},
   "outputs": [],
   "source": [
    "def text_lowercase(text):\n",
    "    return text.lower()"
   ]
  },
  {
   "cell_type": "code",
   "execution_count": 23,
   "id": "5ab6dae5",
   "metadata": {},
   "outputs": [],
   "source": [
    "df['preprocessing']=[text_lowercase(i) for i in df['text']]"
   ]
  },
  {
   "cell_type": "markdown",
   "id": "d0004fd4",
   "metadata": {},
   "source": [
    "Convert the numbers into words. This can be done by using the inflect library.\n",
    " "
   ]
  },
  {
   "cell_type": "code",
   "execution_count": 24,
   "id": "4a4b86c6",
   "metadata": {},
   "outputs": [
    {
     "data": {
      "text/plain": [
       "0    mohit rao niwadunge\\n\\t \\t email id mohit.niwa...\n",
       "1    abhay raj singh\\nbusiness analyst \\nprofession...\n",
       "2    abhilasha shrivastava\\ne-mail abhilasha101@gma...\n",
       "3    .\\nabhishek singh thakur\\nui ux designer \\nh.n...\n",
       "4    aman david\\n115-b anand nagar gawali palasia, ...\n",
       "Name: preprocessing, dtype: object"
      ]
     },
     "execution_count": 24,
     "metadata": {},
     "output_type": "execute_result"
    }
   ],
   "source": [
    "df['preprocessing'].head()"
   ]
  },
  {
   "cell_type": "markdown",
   "id": "3c5a478e",
   "metadata": {},
   "source": [
    "## Remove punctuation:\n",
    "We remove punctuations so that we don’t have different forms of the same word. If we don’t remove the punctuation, then been. been, been! will be treated separately."
   ]
  },
  {
   "cell_type": "code",
   "execution_count": 25,
   "id": "ef0be0a9",
   "metadata": {},
   "outputs": [],
   "source": [
    "# remove punctuation\n",
    "import string\n",
    "def remove_punctuation(text):\n",
    "    translator = str.maketrans('', '', string.punctuation)\n",
    "    return text.translate(translator)"
   ]
  },
  {
   "cell_type": "code",
   "execution_count": 26,
   "id": "b6d91f2c",
   "metadata": {},
   "outputs": [],
   "source": [
    "df['preprocessing']=[remove_punctuation(i) for i in df['preprocessing']]"
   ]
  },
  {
   "cell_type": "code",
   "execution_count": 27,
   "id": "c397a9a6",
   "metadata": {},
   "outputs": [
    {
     "data": {
      "text/plain": [
       "0    mohit rao niwadunge\\n\\t \\t email id mohitniwad...\n",
       "1    abhay raj singh\\nbusiness analyst \\nprofession...\n",
       "2    abhilasha shrivastava\\nemail abhilasha101gmail...\n",
       "3    \\nabhishek singh thakur\\nui ux designer \\nhno7...\n",
       "4    aman david\\n115b anand nagar gawali palasia mh...\n",
       "Name: preprocessing, dtype: object"
      ]
     },
     "execution_count": 27,
     "metadata": {},
     "output_type": "execute_result"
    }
   ],
   "source": [
    "df['preprocessing']"
   ]
  },
  {
   "cell_type": "markdown",
   "id": "4598222e",
   "metadata": {},
   "source": [
    "## Remove whitespaces:\n",
    "We can use the join and split function to remove all the white spaces in a string."
   ]
  },
  {
   "cell_type": "code",
   "execution_count": 28,
   "id": "7ab5af65",
   "metadata": {},
   "outputs": [],
   "source": [
    "# remove punctuation\n",
    "def remove_punctuation(text):\n",
    "    translator = str.maketrans('', '', string.punctuation)\n",
    "    return text.translate(translator)"
   ]
  },
  {
   "cell_type": "code",
   "execution_count": 29,
   "id": "cc4164bf",
   "metadata": {},
   "outputs": [],
   "source": [
    "df['preprocessing']=[remove_punctuation(i) for i in df['preprocessing']]"
   ]
  },
  {
   "cell_type": "code",
   "execution_count": 30,
   "id": "a83744a9",
   "metadata": {},
   "outputs": [
    {
     "data": {
      "text/plain": [
       "0    mohit rao niwadunge\\n\\t \\t email id mohitniwad...\n",
       "1    abhay raj singh\\nbusiness analyst \\nprofession...\n",
       "2    abhilasha shrivastava\\nemail abhilasha101gmail...\n",
       "3    \\nabhishek singh thakur\\nui ux designer \\nhno7...\n",
       "4    aman david\\n115b anand nagar gawali palasia mh...\n",
       "Name: preprocessing, dtype: object"
      ]
     },
     "execution_count": 30,
     "metadata": {},
     "output_type": "execute_result"
    }
   ],
   "source": [
    "df['preprocessing']"
   ]
  },
  {
   "cell_type": "markdown",
   "id": "68b6a43e",
   "metadata": {},
   "source": [
    "## Remove default stopwords:\n",
    "Stopwords are words that do not contribute to the meaning of a sentence. Hence, they can safely be removed without causing any change in the meaning of the sentence. The NLTK library has a set of stopwords and we can use these to remove stopwords from our text and return a list of word tokens."
   ]
  },
  {
   "cell_type": "code",
   "execution_count": 31,
   "id": "ba97e35d",
   "metadata": {},
   "outputs": [],
   "source": [
    "from nltk.corpus import stopwords\n",
    "from nltk.tokenize import word_tokenize\n",
    " \n",
    "# remove stopwords function\n",
    "def remove_stopwords(text):\n",
    "    stop_words = set(stopwords.words(\"english\"))\n",
    "    word_tokens = word_tokenize(text)\n",
    "    filtered_text = [word for word in word_tokens if word not in stop_words]\n",
    "    return filtered_text"
   ]
  },
  {
   "cell_type": "code",
   "execution_count": 32,
   "id": "eae3fc0b",
   "metadata": {},
   "outputs": [
    {
     "data": {
      "text/plain": [
       "0    mohit rao niwadunge\\n\\t \\t email id mohitniwad...\n",
       "1    abhay raj singh\\nbusiness analyst \\nprofession...\n",
       "2    abhilasha shrivastava\\nemail abhilasha101gmail...\n",
       "3    \\nabhishek singh thakur\\nui ux designer \\nhno7...\n",
       "4    aman david\\n115b anand nagar gawali palasia mh...\n",
       "Name: preprocessing, dtype: object"
      ]
     },
     "execution_count": 32,
     "metadata": {},
     "output_type": "execute_result"
    }
   ],
   "source": [
    "df['preprocessing']"
   ]
  },
  {
   "cell_type": "markdown",
   "id": "20a215f3",
   "metadata": {},
   "source": [
    "## Stemming:\n",
    "Stemming is the process of getting the root form of a word. Stem or root is the part to which inflectional affixes (-ed, -ize, -de, -s, etc.) are added. The stem of a word is created by removing the prefix or suffix of a word. So, stemming a word may not result in actual words."
   ]
  },
  {
   "cell_type": "code",
   "execution_count": 33,
   "id": "0fc408c0",
   "metadata": {},
   "outputs": [],
   "source": [
    "from nltk.stem.porter import PorterStemmer\n",
    "from nltk.tokenize import word_tokenize\n",
    "stemmer = PorterStemmer()\n",
    " \n",
    "# stem words in the list of tokenized words\n",
    "def stem_words(text):\n",
    "    word_tokens = word_tokenize(text)\n",
    "    stems = [stemmer.stem(word) for word in word_tokens]\n",
    "    return stems"
   ]
  },
  {
   "cell_type": "code",
   "execution_count": 34,
   "id": "59e6e032",
   "metadata": {},
   "outputs": [],
   "source": [
    "df['Stemming'] =[stem_words(i) for i in df['preprocessing']]"
   ]
  },
  {
   "cell_type": "code",
   "execution_count": 35,
   "id": "674d5863",
   "metadata": {},
   "outputs": [
    {
     "data": {
      "text/plain": [
       "0    [mohit, rao, niwadung, email, id, mohitniwadun...\n",
       "1    [abhay, raj, singh, busi, analyst, profession,...\n",
       "2    [abhilasha, shrivastava, email, abhilasha101gm...\n",
       "3    [abhishek, singh, thakur, ui, ux, design, hno7...\n",
       "4    [aman, david, 115b, anand, nagar, gawali, pala...\n",
       "Name: Stemming, dtype: object"
      ]
     },
     "execution_count": 35,
     "metadata": {},
     "output_type": "execute_result"
    }
   ],
   "source": [
    "df['Stemming']"
   ]
  },
  {
   "cell_type": "markdown",
   "id": "3baf10d7",
   "metadata": {},
   "source": [
    "## Lemmatization:\n",
    "Like stemming, lemmatization also converts a word to its root form. The only difference is that lemmatization ensures that the root word belongs to the language. We will get valid words if we use lemmatization. In NLTK, we use the WordNetLemmatizer to get the lemmas of words. We also need to provide a context for the lemmatization. So, we add the part-of-speech as a parameter."
   ]
  },
  {
   "cell_type": "code",
   "execution_count": 37,
   "id": "68f30a0f",
   "metadata": {},
   "outputs": [],
   "source": [
    "from nltk.stem import WordNetLemmatizer\n",
    "from nltk.tokenize import word_tokenize\n",
    "lemmatizer = WordNetLemmatizer()\n",
    "# lemmatize string\n",
    "def lemmatize_word(text):\n",
    "    word_tokens = word_tokenize(text)\n",
    "    # provide context i.e. part-of-speech\n",
    "    lemmas = [lemmatizer.lemmatize(word, pos ='v') for word in word_tokens]\n",
    "    return lemmas\n"
   ]
  },
  {
   "cell_type": "code",
   "execution_count": 38,
   "id": "06b33b1d",
   "metadata": {},
   "outputs": [],
   "source": [
    "df['Lemmatization'] =[lemmatize_word(i) for i in df['preprocessing']]"
   ]
  },
  {
   "cell_type": "code",
   "execution_count": 39,
   "id": "e64debe6",
   "metadata": {},
   "outputs": [
    {
     "data": {
      "text/plain": [
       "0    [mohit, rao, niwadunge, email, id, mohitniwadu...\n",
       "1    [abhay, raj, singh, business, analyst, profess...\n",
       "2    [abhilasha, shrivastava, email, abhilasha101gm...\n",
       "3    [abhishek, singh, thakur, ui, ux, designer, hn...\n",
       "4    [aman, david, 115b, anand, nagar, gawali, pala...\n",
       "Name: Lemmatization, dtype: object"
      ]
     },
     "execution_count": 39,
     "metadata": {},
     "output_type": "execute_result"
    }
   ],
   "source": [
    "df['Lemmatization']"
   ]
  },
  {
   "cell_type": "markdown",
   "id": "63a0ff9a",
   "metadata": {},
   "source": [
    "# import the inflect library"
   ]
  },
  {
   "cell_type": "code",
   "execution_count": null,
   "id": "c775305c",
   "metadata": {},
   "outputs": [],
   "source": [
    "# import the inflect library\n",
    "import inflect\n",
    "p = inflect.engine()"
   ]
  },
  {
   "cell_type": "code",
   "execution_count": null,
   "id": "407dd38a",
   "metadata": {},
   "outputs": [],
   "source": [
    "# convert number into words\n",
    "def convert_number(text):\n",
    "    # split string into list of words\n",
    "    temp_str = text.split()\n",
    "    # initialise empty list\n",
    "    new_string = []\n",
    " \n",
    "    for word in temp_str:\n",
    "        # if word is a digit, convert the digit\n",
    "        # to numbers and append into the new_string list\n",
    "        if word.isdigit():\n",
    "            temp = p.number_to_words(word)\n",
    "            new_string.append(temp)\n",
    " \n",
    "        # append the word as it is\n",
    "        else:\n",
    "            new_string.append(word)\n",
    " \n",
    "    # join the words of new_string to form a string\n",
    "    temp_str = ' '.join(new_string)\n",
    "    return temp_str\n"
   ]
  },
  {
   "cell_type": "markdown",
   "id": "22e5f278",
   "metadata": {},
   "source": [
    "## Remove punctuation:\n",
    "We remove punctuations so that we don’t have different forms of the same word. If we don’t remove the punctuation, then been. been, been! will be treated separately."
   ]
  },
  {
   "cell_type": "code",
   "execution_count": null,
   "id": "e2a69d0b",
   "metadata": {},
   "outputs": [],
   "source": [
    "# remove punctuation\n",
    "def remove_punctuation(text):\n",
    "    translator = str.maketrans('', '', string.punctuation)\n",
    "    return text.translate(translator)"
   ]
  },
  {
   "cell_type": "code",
   "execution_count": null,
   "id": "4d3e91dd",
   "metadata": {},
   "outputs": [],
   "source": [
    "[remove_punctuation(i) for i in df['text']]"
   ]
  },
  {
   "cell_type": "markdown",
   "id": "d71487a0",
   "metadata": {},
   "source": [
    "## Remove whitespaces:\n",
    "We can use the join and split function to remove all the white spaces in a string."
   ]
  },
  {
   "cell_type": "code",
   "execution_count": null,
   "id": "bf88c7f1",
   "metadata": {},
   "outputs": [],
   "source": [
    "def remove_whitespace(text):\n",
    "    return  \" \".join(text.split())"
   ]
  },
  {
   "cell_type": "code",
   "execution_count": null,
   "id": "42459b4c",
   "metadata": {},
   "outputs": [],
   "source": [
    "[remove_whitespace(i) for i in df['text']]"
   ]
  },
  {
   "cell_type": "code",
   "execution_count": 40,
   "id": "e5310570",
   "metadata": {},
   "outputs": [
    {
     "data": {
      "text/html": [
       "<div>\n",
       "<style scoped>\n",
       "    .dataframe tbody tr th:only-of-type {\n",
       "        vertical-align: middle;\n",
       "    }\n",
       "\n",
       "    .dataframe tbody tr th {\n",
       "        vertical-align: top;\n",
       "    }\n",
       "\n",
       "    .dataframe thead th {\n",
       "        text-align: right;\n",
       "    }\n",
       "</style>\n",
       "<table border=\"1\" class=\"dataframe\">\n",
       "  <thead>\n",
       "    <tr style=\"text-align: right;\">\n",
       "      <th></th>\n",
       "      <th>text</th>\n",
       "      <th>Number</th>\n",
       "      <th>Email</th>\n",
       "      <th>years</th>\n",
       "      <th>preprocessing</th>\n",
       "      <th>Stemming</th>\n",
       "      <th>Lemmatization</th>\n",
       "    </tr>\n",
       "  </thead>\n",
       "  <tbody>\n",
       "    <tr>\n",
       "      <th>0</th>\n",
       "      <td>Mohit Rao Niwadunge\\n\\t \\t Email ID mohit.niwa...</td>\n",
       "      <td>7000526216</td>\n",
       "      <td>niwadunge@gmail.com</td>\n",
       "      <td>2009,2013,2009,2007</td>\n",
       "      <td>mohit rao niwadunge\\n\\t \\t email id mohitniwad...</td>\n",
       "      <td>[mohit, rao, niwadung, email, id, mohitniwadun...</td>\n",
       "      <td>[mohit, rao, niwadunge, email, id, mohitniwadu...</td>\n",
       "    </tr>\n",
       "    <tr>\n",
       "      <th>1</th>\n",
       "      <td>ABHAY RAJ SINGH\\nBusiness Analyst \\nPROFESSION...</td>\n",
       "      <td>None</td>\n",
       "      <td>None</td>\n",
       "      <td>2014,1991</td>\n",
       "      <td>abhay raj singh\\nbusiness analyst \\nprofession...</td>\n",
       "      <td>[abhay, raj, singh, busi, analyst, profession,...</td>\n",
       "      <td>[abhay, raj, singh, business, analyst, profess...</td>\n",
       "    </tr>\n",
       "    <tr>\n",
       "      <th>2</th>\n",
       "      <td>Abhilasha Shrivastava\\nE-Mail abhilasha101@gma...</td>\n",
       "      <td>7415857918</td>\n",
       "      <td>abhilasha101@gmail.com</td>\n",
       "      <td>2013,2010,2012,2000,2013,1987</td>\n",
       "      <td>abhilasha shrivastava\\nemail abhilasha101gmail...</td>\n",
       "      <td>[abhilasha, shrivastava, email, abhilasha101gm...</td>\n",
       "      <td>[abhilasha, shrivastava, email, abhilasha101gm...</td>\n",
       "    </tr>\n",
       "    <tr>\n",
       "      <th>3</th>\n",
       "      <td>.\\nABHISHEK SINGH THAKUR\\nUI UX DESIGNER \\nH.N...</td>\n",
       "      <td>9302761661</td>\n",
       "      <td>abhishekthakur2006@gmail.com</td>\n",
       "      <td>2016,1045,2009,2012,2012,2016,2003,2003,2004,2...</td>\n",
       "      <td>\\nabhishek singh thakur\\nui ux designer \\nhno7...</td>\n",
       "      <td>[abhishek, singh, thakur, ui, ux, design, hno7...</td>\n",
       "      <td>[abhishek, singh, thakur, ui, ux, designer, hn...</td>\n",
       "    </tr>\n",
       "    <tr>\n",
       "      <th>4</th>\n",
       "      <td>AMAN DAVID\\n115-B Anand Nagar Gawali Palasia, ...</td>\n",
       "      <td>7987613585</td>\n",
       "      <td>david12@gmail.com</td>\n",
       "      <td>2013,2016,1983,2013,2016,2014</td>\n",
       "      <td>aman david\\n115b anand nagar gawali palasia mh...</td>\n",
       "      <td>[aman, david, 115b, anand, nagar, gawali, pala...</td>\n",
       "      <td>[aman, david, 115b, anand, nagar, gawali, pala...</td>\n",
       "    </tr>\n",
       "  </tbody>\n",
       "</table>\n",
       "</div>"
      ],
      "text/plain": [
       "                                                text      Number  \\\n",
       "0  Mohit Rao Niwadunge\\n\\t \\t Email ID mohit.niwa...  7000526216   \n",
       "1  ABHAY RAJ SINGH\\nBusiness Analyst \\nPROFESSION...        None   \n",
       "2  Abhilasha Shrivastava\\nE-Mail abhilasha101@gma...  7415857918   \n",
       "3  .\\nABHISHEK SINGH THAKUR\\nUI UX DESIGNER \\nH.N...  9302761661   \n",
       "4  AMAN DAVID\\n115-B Anand Nagar Gawali Palasia, ...  7987613585   \n",
       "\n",
       "                          Email  \\\n",
       "0           niwadunge@gmail.com   \n",
       "1                          None   \n",
       "2        abhilasha101@gmail.com   \n",
       "3  abhishekthakur2006@gmail.com   \n",
       "4             david12@gmail.com   \n",
       "\n",
       "                                               years  \\\n",
       "0                                2009,2013,2009,2007   \n",
       "1                                          2014,1991   \n",
       "2                      2013,2010,2012,2000,2013,1987   \n",
       "3  2016,1045,2009,2012,2012,2016,2003,2003,2004,2...   \n",
       "4                      2013,2016,1983,2013,2016,2014   \n",
       "\n",
       "                                       preprocessing  \\\n",
       "0  mohit rao niwadunge\\n\\t \\t email id mohitniwad...   \n",
       "1  abhay raj singh\\nbusiness analyst \\nprofession...   \n",
       "2  abhilasha shrivastava\\nemail abhilasha101gmail...   \n",
       "3  \\nabhishek singh thakur\\nui ux designer \\nhno7...   \n",
       "4  aman david\\n115b anand nagar gawali palasia mh...   \n",
       "\n",
       "                                            Stemming  \\\n",
       "0  [mohit, rao, niwadung, email, id, mohitniwadun...   \n",
       "1  [abhay, raj, singh, busi, analyst, profession,...   \n",
       "2  [abhilasha, shrivastava, email, abhilasha101gm...   \n",
       "3  [abhishek, singh, thakur, ui, ux, design, hno7...   \n",
       "4  [aman, david, 115b, anand, nagar, gawali, pala...   \n",
       "\n",
       "                                       Lemmatization  \n",
       "0  [mohit, rao, niwadunge, email, id, mohitniwadu...  \n",
       "1  [abhay, raj, singh, business, analyst, profess...  \n",
       "2  [abhilasha, shrivastava, email, abhilasha101gm...  \n",
       "3  [abhishek, singh, thakur, ui, ux, designer, hn...  \n",
       "4  [aman, david, 115b, anand, nagar, gawali, pala...  "
      ]
     },
     "execution_count": 40,
     "metadata": {},
     "output_type": "execute_result"
    }
   ],
   "source": [
    "df.head()"
   ]
  },
  {
   "cell_type": "code",
   "execution_count": 46,
   "id": "45ff5f48",
   "metadata": {},
   "outputs": [],
   "source": [
    "from nltk import word_tokenize\n",
    "df['tokenizarion'] = [word_tokenize(i) for i in df['preprocessing']]"
   ]
  },
  {
   "cell_type": "code",
   "execution_count": 47,
   "id": "cb8814ad",
   "metadata": {},
   "outputs": [
    {
     "data": {
      "text/plain": [
       "0    [mohit, rao, niwadunge, email, id, mohitniwadu...\n",
       "1    [abhay, raj, singh, business, analyst, profess...\n",
       "2    [abhilasha, shrivastava, email, abhilasha101gm...\n",
       "3    [abhishek, singh, thakur, ui, ux, designer, hn...\n",
       "4    [aman, david, 115b, anand, nagar, gawali, pala...\n",
       "Name: tokenizarion, dtype: object"
      ]
     },
     "execution_count": 47,
     "metadata": {},
     "output_type": "execute_result"
    }
   ],
   "source": [
    "df['tokenizarion']"
   ]
  },
  {
   "cell_type": "code",
   "execution_count": 50,
   "id": "9c0b11f6",
   "metadata": {},
   "outputs": [
    {
     "ename": "AttributeError",
     "evalue": "'WordListCorpusReader' object has no attribute 'word'",
     "output_type": "error",
     "traceback": [
      "\u001b[1;31m---------------------------------------------------------------------------\u001b[0m",
      "\u001b[1;31mAttributeError\u001b[0m                            Traceback (most recent call last)",
      "\u001b[1;32m~\\AppData\\Local\\Temp/ipykernel_4812/3025280997.py\u001b[0m in \u001b[0;36m<module>\u001b[1;34m\u001b[0m\n\u001b[0;32m      1\u001b[0m \u001b[1;32mfrom\u001b[0m \u001b[0mnltk\u001b[0m\u001b[1;33m.\u001b[0m\u001b[0mcorpus\u001b[0m \u001b[1;32mimport\u001b[0m \u001b[0mstopwords\u001b[0m\u001b[1;33m\u001b[0m\u001b[1;33m\u001b[0m\u001b[0m\n\u001b[1;32m----> 2\u001b[1;33m \u001b[0mstop_words\u001b[0m \u001b[1;33m=\u001b[0m \u001b[0mstopwords\u001b[0m\u001b[1;33m.\u001b[0m\u001b[0mword\u001b[0m\u001b[1;33m(\u001b[0m\u001b[1;34m'english'\u001b[0m\u001b[1;33m)\u001b[0m\u001b[1;33m\u001b[0m\u001b[1;33m\u001b[0m\u001b[0m\n\u001b[0m\u001b[0;32m      3\u001b[0m \u001b[0mprint\u001b[0m\u001b[1;33m(\u001b[0m\u001b[0mstop_words\u001b[0m\u001b[1;33m)\u001b[0m\u001b[1;33m\u001b[0m\u001b[1;33m\u001b[0m\u001b[0m\n",
      "\u001b[1;31mAttributeError\u001b[0m: 'WordListCorpusReader' object has no attribute 'word'"
     ]
    }
   ],
   "source": [
    "from nltk.corpus import stopwords\n",
    "stop_words = stopwords.word('')\n",
    "print(stop_words)"
   ]
  },
  {
   "cell_type": "code",
   "execution_count": 44,
   "id": "5ff86c78",
   "metadata": {},
   "outputs": [
    {
     "name": "stdout",
     "output_type": "stream",
     "text": [
      "[('mohit rao niwadunge\\n\\t \\t email id mohitniwadungegmailcom\\n\\t skype name  mohitniwadunge\\t\\n\\t \\t contact no 91 7000526216\\t\\n\\t\\n\\t\\nexperience summary\\noverall 310 years of experience in web based projects in codeigniter zend laravel angular js react jsvue js php mysql javascript ajax xml docker and good grasp of object oriented programming\\nworking as a software engineer with webdunia india pvt ltd\\nproficient in admin cms front end frameworks and ecommerce domains\\nadept in interaction with client to gather analyze and track the detailed requirements\\nthird party integrations kaltura mixpanel aspera etc \\nquick learner and willing to adapt to new challenges technologies\\ntechnical skills\\ncore php codeigniter zend laravel  joomla word press yii framework basics prestashop opencart scratch mvc architecture web services soap services api integrations basics of frontend technologies\\nphp html4 html5 css2 css3mysqlfirebasepdo javascript xml ajax jquery angular js react jsvue jsdocker\\ncertification  ocjp jse6 programmer certified professional exam\\nkey responsibilities\\nhandling various tasks like training development and client communication\\ndesign and built the distributed software application\\nability to code optimally and choose the right tool based on the technologies available to the audience\\nknowledge sharing and technical problem solving\\ndesign coding and unit testing\\nactive and lead participant in the company s event management activity\\neducational profile\\nbachelor of engineering in computer science 20092013 from lnct s affiliated to rgpv bhopal with 7231 aggregate\\nhsc 2009 from soe school with 7260 aggregate\\nssc 2007 from gbh school with 7200 aggregate\\nwork experience \\n\\ttitle \\nbsd advocacy platform\\n\\tdescription\\nit allows the supporters of clients to contact the president members of congress governors and other elected officials in the united states the united kingdom and canada via email twitter or phone call\\n\\troles responsibilities\\n\\trequirement understanding of the client\\n\\tdemoed developed functionalities\\n\\ttools used \\nphp laravel  mysql jquery ajax reactredux docker swagger api specification\\n\\ttitle \\nvoot tv app\\n\\tdescription\\nvoot tv application provides the feature to view tv series movies episodes and clips directly through its home page content can be filtered based on genre and language recently watched videos can also be viewed directly through a separate module\\n\\troles responsibilities\\n\\tdiscussed requirements with the client and demoed developed functionalities\\n\\tanalyzed the requirements and guided developers in forming the technical solution\\n\\tprepared execution plan\\n\\ttools used \\nphp zend  mysql jquery ajax aws api s\\n\\ttitle \\nvoot\\n\\tdescription\\na video on demand platform to provide each every tv shows associated with viacom 18 channels along with the movies original series of shows and cartoons\\n\\troles responsibilities\\n\\trequirements analysis understanding\\n\\tguided developers in forming the technical solution\\n\\tprepared execution plan\\n\\ttools used \\nphp zend  mysql jquery ajax angular js  redis cache akamai kaltura aspera use tracking s events \\n\\ttitle \\ntutor connect admin \\n\\tdescription\\na website to contact with tutors to attend different courses offered by them user can select the available time slot and book the seat by paying through both online offline \\n\\trole responsibilities\\n\\tseparate backend database management for client and users\\n\\tanalyzed the requirements and guided developers in forming the technical solution\\n\\tprepared execution plan and kept track of project\\n\\ttools used \\nphp laravel  mysql jquery apache  ajax angular js  html5 css3\\n\\ttitle \\npaper bag application admin application \\n\\tdescription\\nan admin application to keep track of the work progress of all employees along with the status of project development to generate notification for higher authorities\\n\\troles responsibilities\\n\\tprovide analytics to admin and client users\\n\\tdemonstration of developed functionalities and took closure when required\\n\\tprepared execution plan and kept track of project\\n\\ttools used \\nphp codeigniter  mysql jquery apache  ajax html5css3\\n\\ttitle \\nindiantheme\\n\\tdescription\\na website that provide the details of best sellers of indian fashion jewelers and handicrafts in india and allow the users to connect with them for further enquiry\\n\\troles responsibilities\\n\\tdiscussed requirements with client and prepared exhaustive feature list\\n\\tinteracted with third parties for the required integration and planning\\n\\tprepared execution plan and kept track of project\\n\\tprovide analytics to both client and user to manage their profiles\\n\\ttools used \\nphp codeigniter  mysql jquery apache  ajax html5 css3', 'NN'), ('abhay raj singh\\nbusiness analyst \\nprofessional synopsis\\n3 years and 8 month of experience as a business analyst and project coordination in the it industries expertise in full software lifecycle implementation agile mythology production support requirements gathering enhancement from business analysis and project coordination to managing complex it projects \\nmade successful use of the opportunity to become part of vendor management and negotiations successfully managed highprofile regulatory and compliance projects globally leverage technical business and financial acumen to communicate effectively with client executives and their respective teams \\nresourceful at maintaining relationships with clients to achieve quality product and service norms by resolving their service related critical issues possess effective communication interpersonal problem solving understanding of sdlc processes and agile flavored development methodologies waterfall scrum agile framework principles  \\nkey skills \\n\\t project management \\t \\nbusiness analysis \\nagile mythology \\nproject coordination wireframing and prototype \\nrequirements gathering team management \\nbug fixing  maintenance brd srs frd documentation \\n\\t \\ncore competencies \\nextensive experience of managing complex projects and product developments in the role of product owner \\nexperience of working in synchronization with internal teams as development qa and project manager \\nknowledge of complete workflow of scrum with product backlog user story sprint planning and release phases \\nconstantly studied and developed indepth knowledge of industry trends product line competition tech support and services \\nmapping client s needs providing best products to suit their requirements \\nknowledge of business requirement documents brd  software requirement specification srs  functional \\nrequirement document technical reports and all other highlevel and lowlevel documents \\nbuilding healthy business relations with major clients ensuring maximum customer satisfaction \\nworked with sales managers and engineers to increase technical knowhow and to advance negotiations towards close of sale \\ntechnical skillset \\nproject management methodologies waterfall and agile \\nproject management tools casual ms project slack \\nproject documentation brd srs modules document functional document flow document project timesheet \\npresentations microsoft powerpoint \\ndata analysis microsoft excel and project modules \\nprototyping and wireframing balsamiq marvel \\ntechnologies knowledge mvc mvp plsql htmlcss cms mobile applications api integration and ms sql \\nserver \\nautomated testing responsinator jira \\nothers photoshop wordpress \\nwork experience \\nsince march 16 with youngdecade software it solutions indore as business analyst \\nkey result areas \\nworking directly with product owners and stakeholders to elicit their feedback on customer satisfaction items \\nanalyzing existing customer satisfaction functionality requests for providing businessvalue based recommendations to product owners \\nlead project meetings handling multiple projects at a time single point of contact between the client and the organization \\nattend post sales meetings with project manager for indepth requirement gathering \\nproject planning project scheduling project efforts estimations project communications and execution \\nresponsible to project management  estimate task  papered timeline  check project product status resource allocation resource utilization business analysis and send daily status to management \\nsupport to qa team for test case preparation and review of test plans \\ncontrols all changes through a formalized change request process assessing the impact of requirement changes and updating requirements appropriately ability to work across different stakeholders and priorities and get everyone onboarded with the overall prioritization of product backlogroadmap items \\nconducting requirements training sessions and developing best practices for product delivery \\npartnering with development leads to identify opportunities for better collaboration and process improvements \\nleading a team of 3 junior business analyst and business developers promoting a strong culture of standard business development and business analysis processes as part of global standards \\naccomplishments \\ncms web apps mobile apps with native hybrid technologiesb2b b2c ecommerce marketplaces restaurant cab bookings real state hotel booking engines dating application and complex business process project \\nestablished large highperformance it teams to support it regional operations utilized local resources and established cost savings \\nsingle point of contact between project management and it groups from solution planning sizing to fulfillment \\njuly 15 feb 16 with snv infotech pvt indore as business analyst \\nkey result areas \\nanalyzed user requirements performed impact analysis and generated system requirements documents \\nmanaged relationship with programmers and bridged communication between end users and development team \\nsupervised quality and completeness of system use cases brds \\ncollaborated with the project team in solution development and implementation \\nexperience in web development wireframe creation using microsoft technology \\npresented the business solution to the client \\nactively participated in data modeling and business modeling \\naccomplishments \\nsinglehandedly implemented a train location app to locate train and for live status \\ndeveloped a gaming code lottery system that was recognized by the gaming server to choose random winner with awarded game code \\ndesign end to end data flow with the help of bpm and also preparing the screen mock ups and design and develop the application architecture \\nmay 14 june 15 with webdex technologies indore as business analyst \\nresult areas \\nunderstanding of uml design \\nproject coordination with developers and designers \\nexcellent understanding of business requirements gathering translating requirements into specifications and application design \\nbidding on freelancing portals  upwork elance freelancer rfp mart and craigslist \\nwordpress website development and designing skills with htmlcss \\nmanaged project activities such as requirement gathering analysis and documentation \\nprepared test plans for the testing team and performed user acceptance testing in the final project \\naccomplishment \\nsuccessfully implemented cuttingedge it and voice infrastructure for new building facilities \\neducation \\nbachelor of engineering information technology from rgpv university in 2014 \\npersonal details \\ndate of birth 05061991 \\npassport available', 'JJ'), ('abhilasha shrivastava\\nemail abhilasha101gmailcom\\nmobile 917415857918\\nseeking assignments in project management software development with a growth oriented organization\\n\\tan overview\\n\\t\\ntechnically sophisticated professional with 5 years of extensive experience in areas of software developing programming in mobile application environment \\nadept in end to end development of software products from requirement analysis to system study designing coding testing debugging documentation and implementation\\nadroit in providing effective resolution to customer queries related to product and improving relationships with customer by anticipating customer future requirements thereby ensuring a positive customer experience\\nexcellent communication interpersonal skills with abilities in resolving complex software issues\\ndeft at mapping the requirements custom designing solutions troubleshooting for complex software application problems \\nworked with new and existing code on a wide range of device applications \\ncollaborated with the creative team in developing successful interactive solutions \\nexperience in developing complex data synchronization \\nproven track record writing multithreaded code and experience with synchronous and asynchronous code\\nacademic credentials\\nssc\\nmalav vidya mandir indore\\n80 \\nhsc\\nexcellent bal vinay mandir indore\\n87 \\nbsc\\nholkar science college indore \\n74 \\nmca\\nsgsits indore\\n77 \\nprofessional experience\\nsynchronoss technologies india pvt ltd from january 2013 till date\\ndiaspark infotech pvt ltd from september 2010 to december 2012\\n\\t\\nskill set\\noperating systems\\nmac os x windows 9x 2000 xp nt \\nprogramming languages\\nobjective c swift core java\\ndatabases\\ncoredata sqlite mysql\\ntools\\nxcode instrument \\nframeworks\\ncocoa touch cocoa \\nversion control systems\\ngithub svn\\nfunctional\\nmanaging requirement gathering system analysis and finalization of technical  functional specification \\ndefining best practices for project support and documentation\\ndesigning developing testing troubleshooting and debugging of the applications\\ncooperating communicating with other team members for efficient management work\\nmanaging providing guidance  support to the project team \\ndelivering and implementing the projects as per schedule milestones\\ndefining suitable methodology to undertake the project with the available inputs of the requisite output\\ninterfacing with clients for business requirements gathering conducting system analysis and finalized technical  functional specifications \\nidentifying documents related to components and maintaining detailed study of the same as per the product changes by getting in touch with product developers\\nproject overview\\nmessage osx \\nhttps itunesapplecomusappmessagebyverizonid885557198 mt 12\\npeople on the move and on the go can t be tied down to one place or one device use verizon messages to seamlessly send and receive messages on your smartphone ios device tablet and desktop mac pc and web  your conversations are organized in one place and saved on your device for up to 90 days\\n personalize your conversations  customize the background with your photos built in themes fonts colors signatures and even conversation tones \\n wifi extended coverage send and receive messages over extended wifi from your smartphone ios device tablet pc mac and web browser\\n glympse your location glympse lets people you choose follow your location on a map perfect for finding each other in big places like concerts amusement parks and shopping centers meeting up or letting people know you re running late \\n photo editor and collage creator personalize and transform your photos and collages into beautiful or funny pictures using filters wacky stickers and much more\\n web image search easily search images on the web to send \\n smart emoji express yourself through colorful emoji s by tapping on keywords when composing messages\\n sent and received media  easily find sent and received photos videos gift cards links and attachments from all your conversations or specific conversations\\n egifting sending a gift is easier than ever simply text to send a starbucks egift card to say thanks  happy birthday or let s meet at starbucks \\naward winning \\nverizon messages application is rated 1 by sports fans during pro games based on average screen time per user minute source http tinyurlcomq4n7trz \\nbest of show at ctia 2013 in emerging technology category\\nmessage iphone ipad \\nhttps itunesapplecomusappverizonmessagesid621469412 mt 8\\nstay connected using verizon messages on your smartphone tablet and computer\\nverizon messages syncs messages across your smartphone tablet and computer switch devices whenever you want make calls with your tablet anywhere and keep the conversation going with personalized texts photos videos and gift cards worth up to 100 at stores like starbucks amazon and more\\n calling allows you to make and receive calls using your ipad and other ios devices \\n egifting has been expanded to include egift cards from more than 30 brands\\n scheduled messages are queued and delivered at the date and time specified even if your phone is turned off\\n media search allows you to search the web for images and videos to include in your conversations\\n glympse your location glympse lets people you choose follow your location on a map perfect for finding each other in big places like concerts amusement parks and shopping centers meeting up or letting people know you re running late\\n photo editor and collage creator personalize and transform your photos and collages into beautiful or funny pictures using filters wacky stickers and much more\\n smart emoji express yourself through colorful emoji s by tapping on keywords when composing messages\\n sent and received media  easily find sent and received photos videos gift cards links and attachments from all your conversations or specific conversations\\nnfl national football league iphone ipad \\nhttps itunesapplecomusappnflhomegatingid762854218 mt 8\\nhttps itunesapplecomusappnflid389781154 mt 8\\nthe nfl app is the best pure football app for any fan from every nfl playoff game and super bowl 50 live verizon smartphone customers only to trending videos on nfl now to replays of every game with nfl game pass subscription  the nfl app is packed with more video than ever whether it s game day or nongame day from preseason through the playoffs the nfl app keeps fans on top of the game with breaking nfl news highlights stats more wherever they are whenever they want it \\niphone features only available with verizon \\niphone and ipad features \\ngames follow along with uptotheminute scoring ingame highlights big play markers and a redesigned drive chart  new this season fans can access nfl game pass subscription content \\nstories read articles and watch videos highlighting the latest stories and breaking news from around the nfl and from all 32 teams\\nnfl now the allnew nfl now brings fans the latest stories and trending topics across the nfl and gives direct access to all 32 teams\\nstats track league and team leaders in all major stats categories \\nmore watch video on demand see the nfl network schedule browse the nfl shop store and more\\nspeech trans speech dictation iphone ipad \\n\\t https itunesapplecomusappspeechtransdictationrecognitionid590230269 mt 8 \\n\\t\\n\\thttps itunesapplecominappspeechtransultimateforipadid422282269 mt 8\\n\\t\\n\\thttps itunesapplecomusappspeechtransultimateforhearingid438175633 mt 8\\nmagically speak and communicate with anyone without having to use sign language with 99 speech recognition accuracy powered by nuance have you ever met a person you really like but due to the communication barrier you wouldn t be able to start a chat speech trans is here to help you out now someone can speak to you and the text is typed on the screen for you to read you can type a response and have it read aloud on for the other person to hear \\npress record have the person speak to you once they are done speaking speechtrans will automatically display the text of what was just said type back a response and it will speak it for you \\nfeatures \\n auto detects when a person stops talking \\n auto translate function allows you to turn off translation when you don t need it so you can communicate with someone in same language\\n 1000 transcriptions preloaded more available via inapp purchase \\n free unlimited text to speech translations \\n playback all previous translations without an internet connection\\n build your own dictionary as all previous translations are saved\\n ability to cut and paste text from other apps for it to be read aloud and translated \\n email translated text and audio file \\n 55 second voice recording time \\n facebook chat you are no longer limited to being in the same room with the person you want to communicate with just type to them and they will get speech output translations on their speech trans enabled iphoneipad or text on the computer \\n 100 bonus transcriptions to anyone who uses facebook suggest friends feature inside the app \\n use revolutionary bump feature to become facebook friends just bump phones together \\n free lifetime updates to new languages \\n post status updates directly to twitter or facebook\\nspeechtrans for hearing impaired is the absolute best app if you need to instantly communicate without sign language now you can seamlessly communicate with facebook users all around the world speechtrans is here to eliminate all communication barriers and provide you with an accurate dialog\\nmicahelwerdiger ipad jewel catalogue ipad \\nmwipad jewel is a catalogue app listed all the ornaments and related search of particular category this app enable user to search add to cart and place order feature to user this app is concern for sales person to track their jewelry database and records of items \\n\\t\\n\\t fujitsu scanner guide iphone ipod \\n\\t\\n\\t https itunesapplecomusappfujitsuscannerguideid528636845 mt 8\\nfujitsu scanner guide is the perfect tool to help you find the right document scanner to fit your personal or business life from mobile scanners to large production scanners fujitsu has become the leader in document scanning and now with the fujitsu scanner guide application you can discover the perfect fujitsu scanner for your needs \\nkey features \\nexplore the wide range of fujitsu scanners\\nsee pictures overviews features specs videos and pictures of fujitsu scanners\\nbrowse and find the perfect scanner based on your needs\\ncompare scanners\\nfind the perfect service for your scanner\\nget the latest news and updates for new and existing fujitsu scanners\\ngeneric catalogue ipad \\ndiaspark s generic catalog app for the ipad gives your sales reps real time access to your company s product catalog your customers view a rich upscale and an engaging product catalog on ipad generic catalog supports inventory check powerful product search by category prices and more price customization and order placement all via rich usability experience of the ipad\\nsay goodbye to your bulky print catalogs tedious paper work and errorprone data entry with complete information at fingertips your sales reps can now place custom and standard orders at the client site without having to wait for updates on feasibility cost and availability\\n\\treal time access to product catalog images and inventory status\\n\\taccess by secured login\\n\\tenriched with well categorized product display\\n\\tsearch items within price range categories and more\\n\\tsetup customer specific catalog\\n\\tcustomize specifications as per the buyer s requirement and get updated product  price details\\n\\treal time entry of sales orders\\n\\tcheck order status of the previous orders from a customer\\n\\teasy price management\\nthe menu ipad \\nthe menu app is a restaurant category app listed menu available in restaurant and the user can choose combination of items of their preferences sync the data over server to get updated menu records\\neasily create meal plans for yourself or others and track nutritional information per meal manage your own recipes and import new ones from popular recipe web sites keep track of what you have in your pantry and how many  and integrate it all into your shopping list in one application \\npersonal dossier\\ndate of birth \\t \\t 19th april 1987\\nresidential address \\t 852 pardesipura flat 307 indore mp 452011\\n\\t\\n\\t\\n\\t\\n\\ti hereby declare that the information given above is true to the best of my knowledge belief\\nabhilasha shrivastava', 'NN'), ('\\nabhishek singh thakur\\nui ux designer \\nhno726 amanpur\\nmadanmahal jabalpur mp \\nabhishekthakur2006gmailcom\\n919302761661\\nobjective\\ni wish a career that allows me to exploit my potential and increase my skills to the fullest and there by a key asset to the organization \\nexperience \\ntotal experience 12 year \\nweb designer \\n\\t 3 oct 2016 to present\\ncompany name taritas software solutions\\nhttp taritascom\\ni am working as a uxui designer with the following the agile standards for both mobile and web prototyping\\nwebsite design application prototyping with the industrial standards prototype to html conversion graphics and creative interactive designing gif animation social media creatives etc\\nproduct name \\nwebsite \\nhttp smartformdesignercom\\nhttp wwwlbfostercomen\\nhttps www121outsourcecouk\\nhttps wwwumbrellareclaimcom\\nhttps wwwevroumbrellacouk\\napplication \\nhttps appsmartformdesignercom\\napplication\\nsmart form designer application\\nhttps wwwfacebookcomsmartformdesigner679111319204188\\ngraphics \\nprinting\\nhording banners certificates logo designing and various type of printing and designing work included vector graphics etc\\nweb \\nlogo design social media creatives gif animation etc\\ngraphics portfolio work \\nhttps docsgooglecompresentationd1kjbpaybi6eg6nmthpwpk8ofwy4e2ssjkwtzh 6dlqr0edit usp sharing\\nhttps drivegooglecomdrivefolders0bx7ild4sldccm3rhvfracktlnwm usp sharing\\nhttps wwwcanstockphotocomportfolio\\nprototyping \\nhttps xdadobecomviewae0bad77d04147364e9bfd49e29a343ad83a fullscreen\\nhttps xdadobecomview6c91a89610454c7f952555b1abd5f7c4\\nhttps xdadobecomview710d1ea78d574a6a448adc97b9749ee2073c\\nhttps xdadobecomviewa84a4905fc184ec4460fc455159e1090de7b\\nhttps xdadobecomview803b15b9c75f46fbaf25b7b572b56577d568\\nhttps assetsadobecomlinks locale en filter xdartifacts\\nhttps xdadobecomviewb48b731e56484ed08d35ce4053c6334d\\nhttps xdadobecomview6ad478a3fb064c54b0a1ec1d056c321c\\nhttps assetsadobecomlinks locale en filter xdartifacts\\nhttps xdadobecomviewcad920b3341a4095b2175fa8aac6f5fb9f8a\\nmore work link included in the last page\\nflexible for work from home\\nweb designer \\t 1 september 2009 2012 \\ncompany name techshot pvt ltd\\ni worked as a web designer worked for photoshop website template designing web template to html conversion logo designing flash animation and web site designing emailer template designing i card certificate designing the various type of graphics and web design work\\nwwwtechshotin\\n\\t\\nweb designer \\t 1 september 2012 to september 2016\\ncompany name tsd corp ltd\\nindian cricketers olympic players websites \\nhere mostly i worked as a graphics designer for social media platform in the sports eventbased company mostly prefer to work on indian cricketer and indian olympic player team and ipl player s personal websites and promote the players on social media platform via various types of graphics like facebook twitter youtube instagram\\nhttp wwwtsdcorpco\\nworked \\ncricketer and olympic players \\nms dhoni ishant sharma virender sehwag harbhajan singh umesh yadav official websites etc\\nhttps wwwfacebookcommsdofficial\\nhttp wwwtsdcorpcoourstars\\nhttps wwwfacebookcomcircleofcricket\\nsehwag international school\\nwwwsisjin\\nworked mostly for printing the banner hording social media etc\\nother \\nministry of external affairs indian diplomacy websites and social media \\nworked as a social media graphics designer\\neducation\\ngraduation arts from navyug college\\t 200304\\ngraduate school university rdvv bhopal\\nmadhya pradesh in jabalpur mp \\nwwwnavyugcollegecoin\\ncomputer operator and programming assistant 1 year \\t 200304\\ncollege institute of technology techzone multimedia p ltd\\njabalpur\\nwwwmitijbpcopacocc\\ndiploma in multimedia1 year \\t 200405\\ncollege institute of technology techzone multimedia p ltd\\njabalpur\\nlearned the basic web designing audio video editing etc\\npost graduate diploma in multimedia 1 year 200809\\ncollege institute of technology xplora designing skool jabalpur\\nwwwxdsindiacom\\nother experience 15year relevant experience \\nworked as a web faculty in xplore design skool at rewa mp for 1year 2009 and got training of 1 month in ahmedabad\\ni worked as a multimedia faculty in techzone multimedia pltd for the duration of 1 year 200506\\nworked in del technology sports club of jabalpur in 3 months in photoshop\\nworked in affinity express pune as a trainee 1 month\\nworked as a data entry operator in iti head office jabalpur\\nworked as a terminal in online gold and silver trading computer operator in raga shares and securities p ltd jabalpur\\npersonal details\\ndate of birth 30 07 1980\\nfather s name mr bs thakur\\nsex  male\\nmarital status  married\\nlanguages known hindi english\\nnationality  indian\\ndeclaration\\ni hereby declare that the information furnished above is true to the best of my knowledge\\nplace jabalpur\\t abhishek singh thakur \\ndate 07092021\\nskills\\nweb\\ndreamweaver\\n7 years \\nmicrosoft visual studio\\n5 years \\nadobe photoshop\\n12 years \\nadobe illustrator\\n7 years \\nadobe xd figma\\n4 years \\nadobe animate cc\\n5 years \\naction script 20 \\ncorel draw \\n7 years \\nanimate cc\\n3 years \\nbasic of after effect video editing software s\\nframework css \\nbootstrap zurb boilerplatewebflow wordpress theme conversion\\ncss3\\nhtml5xhtml\\njquery\\njavascript\\nphp basic\\nxml webflow\\nms office \\nswish max\\nos\\nwindows 10\\nprinting\\nadobe indesign\\nquark express\\npagemaker etc\\nmultimedia certificate of xplora design skool for graphics and web printing kalaniketan polytechnic college jabalpur\\nand some more work \\nportfolio links \\nportfolio work \\nhttps drivegooglecomdrivefolders0bx7ild4sldccm3rhvfracktlnwm usp sharing\\nhttps wwwcanstockphotocomportfolio\\ntask assigned \\ncreate graphicsflyerscreative social media of cricketers sportsmen ipl teams bollywood stars\\nproject \\ndigital media cratives designer of ipl team kxip kings xi punjab \\nhttps wwwfacebookcomkingsxipunjab\\nhttps plusgooglecomkingsxipunjab\\nhttps wwwyoutubecomuserkxipofficialfanclub\\nhttps twittercomlionsdenkxip\\nhttp instagramcomkxipofficial\\nkxip kings xi punjab \\nkey project features in brief \\ng hangouts contest on digital media fb twitter creatives during ipl clt20\\nlocation of the project \\nchandigarh delhi\\ndesignation \\nsocial media crative designer\\nrole \\ndesign social media of kings xi punjab team\\ndiplomacy india\\ngovernment organization\\nhttps wwwfacebookcomdiplomaciaindia\\nlogo re designing and creative development \\nother 2014 project contribution \\nhttp wwwtsdcorpcoourstars\\nhttp wwwkxipin 2014 \\nhttp wwwsanjaybangarworldin\\nhttp wwwshivamsharmaworldin\\nxalta cold drink labellocation delhi\\nhttps wwwfacebookcomxalta\\nprojects \\nofficial websites of cricket players\\nhttp eurotestnetpractisecomen\\nwwwtsdcorpcoourstars\\nwwwmantrikplcom\\nwwwishantworldcom\\nwwwdhoniworldcom \\nhttp bhajjiworldcom\\nwwwlalchandrajputworldcom\\nhttp sudeeptyagiworldcom\\nhttp manojtiwaryworldcom\\nhttp umeshyadavworldcom\\nhttp iqbalabdullahworldcom\\nhttp amitmishraworldcom\\nhttp anandamritrajworldcom\\nhttp yogeshwarduttworldcom\\nhttp svsunilworldcom\\nhttp jyotirandhawaworldcom\\nhttp amitkumarworldcom\\nhttp geetaphogatworldcom\\nhttp bharatchettriworldcom\\nhttp wwwashwiniponnappaworldcom\\nsocial media marketing with sports related graphics and contests\\nhttp wwwdhoniworldcomfbcontest\\nhttp sehwagworldcomsummercamp\\nhttp wwwsehwagworldcomsportsandyou\\nhttp wwwsehwagworldcomyouvsstar\\nhttp wwwsehwagworldcomschool\\nhttp wwwtechshotdigitalcominternship\\nhttp wwwtechshotdigitalcominternship\\nhttp wwwcircleofcricketcompehchaankaun2\\nhttp wwwcircleofcricketcompehchaankaun\\nhttps digitalframesclub\\nsports related graphics for google plus facebook etc\\ncircle of sports circle of cricket\\nbusiness websites \\nhttp aksserviceshubcom\\nhttp jmremediescom\\nhttp sdtravelsonlinecom\\nhttp ashaindustriesinfo\\nhttp udayapumpscom\\nhttp wwwpushpakhousingcom\\nhttp wwwclubfoxinindexphp only flash work \\nhttp wwwclubfoxinstaticclubfoxindexhtml static \\nhttp wwwclubfoxin landing page \\nhttp wwwteam11in flash intro \\nhttp cafecrunchin flash intro \\nwwwtechshotin banner and product work in photoshop \\nwwwoxfordenglishworldcom\\nhttp littlekingdomschoolin\\nhttp gyangangaacin\\nhttp royalrentaljabalpurcom\\nhttp techshotin\\nhttp nukindhealthcarecom\\nhttp 108acresin\\nhttp jabalpurfullgospelchurchcom', 'NN'), ('aman david\\n115b anand nagar gawali palasia mhow mp ind \\namandavid12gmailcom\\n\\tmobile number 91 7987613585  8818868853\\ncareer objective\\nambitious and analytical individual coming with 5 yrs of extensive experience in business analysis with excellent knowledge of business process automation and workflow concepts utilizing skill in project requirement assessment business data clarification global marketing and analysis and production support to boost company growth\\nskills summary\\n\\t\\n\\texpert strategist who uses research of competitors market conditions customer needs and organizational core competencies to claim company success\\n\\t\\n\\tled project teams internal and external to achieve project defined milestones and deliverables\\n\\t\\n\\tskilled communicator and negotiator who understands persuasive delivery and can confidently present sales pitches to potential partners and reports to board members\\n\\texcellent communication interpersonal learning and people management skills\\n\\tcapable of working effectively under pressure and with teams\\n\\tachievement oriented with zeal to learn and perform consistently\\n\\t\\n\\tstrong organization and time management skills and careful attention to detail to guarantee that business ventures are successful and development is absolute\\n\\t\\nacademic qualification\\ndevi ahilya vishwa vidhyalaya indore india\\nbachelor in business administration july 2013\\n graduated \\n 5824 \\nwork experience\\nefficacy informatics pvt ltd indore indore mp \\nsenior business analyst feb 2016 till date \\ndevelop business architecture using requirement such as scope processes alternatives and risks\\nanalyze client s business requirements and processes through document analysis interviews workshops and workflow analysis\\nconduct 5 level of testing including functional regression user acceptance integration and performance to verify the client s needs are met\\ncommunicate client s business requirements by constructing easytounderstand data and process models\\nprovide input into developing and modifying systems to meet client needs and develop business specifications to support these modifications\\nliaise between business and technical personnel to ensure a mutual understanding of process and applications\\nrisk management and resource allocation based on the correct skills sets which are required\\nfacilitate weekly monthly meetings with stake holders to document the updates and requirements and explore any potential solutions\\ntranslate their requirements into user casesstories  functional specifications  data flow diagrams \\nplayed the role of project manager  coordinator in multiple projects to ensure successful delivery and to be one point of contact for the client\\nmanaged and lead a team of 7 ba \\nmanaged a team of 15 developers for project management and coordination\\nprojects managed\\nrockware\\nrockware was founded in 1983 by geologists to create and market affordable geoscientific computer applications these products include rockworks rockware gis link and logplot which are developed and supported inhouse rockware s products are used in virtually all countries of the world and are considered the standard in subsurface visualization\\nthe main goal here was to provide the customer with a secured ecommerce website that can allow them to sell their products virtually as well as integrated fedex for products which can be shipped the website also has a request for quote option which allows the users to buy specifics variations of the products rather than all the variations\\nmy roles\\nevaluating the requirements of the stakeholders from the rfp and virtual meeting\\ncreating srs to provide a detailed requirements of the scope that is involved to ensure that the system would meet all and not just some of the company s many unique requirements\\ncreating ueux wireframes that identified and overcame the shortcomings in their current website\\ncreating user cases  data flow diagrams to create a clear flow for the development team\\nworking closely with the stakeholder and the development lead to ensure a timely delivery of the product\\nworking with the system architecture and server team to discuss and reduce any backdoors for the website to get hacked\\nselecting a secured hosting package for the client after doing a market research\\nworking with the qa team to ensure all the user stories  user cases are passed\\nmonthly weekly meetings with the stake holders to provide a status update of the work and get answers to any questions that the development team might have\\npost launch created reports  technical document specifying all the features for the stakeholders\\ncreated howto document for the stakeholders team to get familiar with the end product\\n2 orthowatch\\northowatch provides oneonone coaching sessions to the doctors who are training to be orthodontist it helps them to get advice from experienced orthodontist through video sessions private messaging  case management where the doctor can upload a case for his mentor to view and get his views\\nthe website also includes quizzes  lessons that can be purchased at a fee a forum that can be use for discussions among doctors on their specific topic not everyone can join the website they need to provide their documents to the company in order for them to join the website\\nhere are some of the responsibilities that i had\\nreviewed business priorities and analyzed options risks and costs\\ntranslated business user concepts and ideas into comprehensive business requirements and design documents\\nconducting jad sessions\\ncreating wireframes using the latest software s to provide an understanding of the flow\\nmarket research on their competitors and listing out the features to be incorporated in the website\\ncreated business requirement documentation and functional requirement document\\nactively participated  arrange with number of iterations between team and customer for feature upgrades\\ncreated project plans in accordance with project management framework standards and procedures identified ongoing issues and gaps within project plans in order to eliminate implementation issues\\nweekly sprint meetings and using jira and github for maintaining the repository \\nrisk management\\npost launch creating functional document of the website creating howto videos for the stakeholders team to manage the software\\nhave managed more than 10 projects here with the same roles and responsibilities\\ngalaxy weblinks ltd indore indore mp \\nbusiness analyst may 2013 jan 2016 \\nengage client to gather software requirements business rules and ensure alignment with development teams\\ntranslate stakeholder requirements into over 5 different tangible deliverables such as functional specifications user cases user stories workflowprocess diagrams and data flowdata model diagrams\\nevaluate risks related to requirements implementation testing processes project communications and training\\ndraft and maintain business requirements and align them with functional and technical requirements\\nfacilitate weekly and monthly meetings with clients to document requirements and explore potential solutions\\nstrategize ways to build market share increase revenue and acquire success through innovative developments in organizational structure\\nfacilitate sales presentations and communications for upcoming joint venture opportunities and collaborative business efforts\\nestablish product loyalty through continual efforts to build rebrand modify and increase product offerings in a way that is honest competitive and true to the company mission\\nprojects undertaken\\ndralaan online doctor appointment application \\ndralaan is an online medical care appointment booking service providing free of charge medical care search facility for end users by integrating information about medical practices and doctors individual schedules in a central location the company s main target audience is saudi arabia so the website was introduced in two different languages english and arabic dralaan during its initial soft launch in july 2014 recorded a positive response from its customers and had hospitals wanting their own white label software which can help them with the appointment system for their own doctors\\nbeing a one point of contact for the client and representing the company here is the list of responsibilities handles\\nidentifying the business needs of the customer \\nmarket research of competitors \\nwire framing and documentation of requirements\\nbreakdown in modules for easier execution of tasks\\nidentifying and evaluating inefficiencies and recommending optimal business practices and system functionality and behavior\\nproject communication between stakeholder and development team\\ncreation of user cases  data flow diagrams for confirmation of the ux experience\\nweekly standup meetings between stakeholder and management team\\nweekly updates of the project stage and milestone request to the management\\nrisk and resource management for successful completion of the project\\n2 thekaziapp event based meeting application \\nkaziapp is a multilevel mobile application that enabled users to easily download the app register and immediately begin to accrue credits known as kazi cash or kash based on their participation in different hosted events this reward system is tailored to the degree to which a user engages ie more points for creating or hosting an event vs simply participating in an existing event  accrued kash can be used to receive discounts on products and services from participating vendors\\nrequirements gathering through emails  meeting sessions and presenting the understanding in a detailed proposal with the workflow\\nidentifying the business model and competitor s business model to suggest best and cost effective approach\\nrecommended optimal business practices identifying and evaluating inefficiencies\\ndeveloping detailed functional specifications for use by system developers\\nuser flow diagrams  wireframe designs using latest software s to provide the understanding of uiux and functionality\\nworking with the project stakeholder and communicating the requirements to the team in such a way that all the development related requirements have been passed on as well as communicating with the project stakeholders with the queries from the development team\\ntaking responsibility for deploying functional solutions such as creating adopting and implementing system test plans which ensure acceptable quality and integrity of the system\\ncreating user and training documentation and conducting formal training classes with the stakeholders\\nalso have handled more than 20 projects with the same set of roles and responsibilities\\nadditional skills\\nproficient in microsoft office word excel outlook powerpoint visio \\nexpert knowledge of sql and relation database management system\\nproficient in agile software development methodology\\nconducting jad sessions\\nproblem and visual modeling solving skills\\ninventory management system experience\\nproject coordination experience\\nielts 65 r65 l7 w6 s650 \\n\\tpersonality traits\\n\\t\\n\\tstrong motivational and leadership skills\\n\\tstrong investigation and analytical skills\\n\\tability to work individual as well as in group\\n\\texcellent communication skills in written and verbal both\\n\\tself motivated possess problemsolving and decisionmaking skills\\n\\tability to bring out the best in pressure situations from team\\n\\twith hard work and sincerity i complete assigned tasks with success look for constant development i seek an opportunity to give my best', 'NN')]\n"
     ]
    }
   ],
   "source": [
    "from nltk import pos_tag\n",
    "pos = pos_tag(df['preprocessing'])\n",
    "print(pos)\n"
   ]
  },
  {
   "cell_type": "code",
   "execution_count": null,
   "id": "6e1dd1f4",
   "metadata": {},
   "outputs": [],
   "source": []
  }
 ],
 "metadata": {
  "kernelspec": {
   "display_name": "Python 3 (ipykernel)",
   "language": "python",
   "name": "python3"
  },
  "language_info": {
   "codemirror_mode": {
    "name": "ipython",
    "version": 3
   },
   "file_extension": ".py",
   "mimetype": "text/x-python",
   "name": "python",
   "nbconvert_exporter": "python",
   "pygments_lexer": "ipython3",
   "version": "3.9.7"
  }
 },
 "nbformat": 4,
 "nbformat_minor": 5
}
